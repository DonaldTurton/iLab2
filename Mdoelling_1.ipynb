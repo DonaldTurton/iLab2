{
  "nbformat": 4,
  "nbformat_minor": 0,
  "metadata": {
    "colab": {
      "name": "Mdoelling_1.ipynb",
      "provenance": [],
      "toc_visible": true,
      "include_colab_link": true
    },
    "kernelspec": {
      "name": "python3",
      "display_name": "Python 3"
    },
    "accelerator": "GPU"
  },
  "cells": [
    {
      "cell_type": "markdown",
      "metadata": {
        "id": "view-in-github",
        "colab_type": "text"
      },
      "source": [
        "<a href=\"https://colab.research.google.com/github/DonaldTurton/iLab2/blob/master/Mdoelling_1.ipynb\" target=\"_parent\"><img src=\"https://colab.research.google.com/assets/colab-badge.svg\" alt=\"Open In Colab\"/></a>"
      ]
    },
    {
      "cell_type": "markdown",
      "metadata": {
        "id": "TL8II2wcPR5Y"
      },
      "source": [
        "# ILab2"
      ]
    },
    {
      "cell_type": "markdown",
      "metadata": {
        "id": "C60ldDTpsDQ_"
      },
      "source": [
        "# Libraries"
      ]
    },
    {
      "cell_type": "code",
      "metadata": {
        "id": "GkQOGqYGr3t-"
      },
      "source": [
        "import pandas as pd\n",
        "import numpy as np\n",
        "import seaborn as sns"
      ],
      "execution_count": 3,
      "outputs": []
    },
    {
      "cell_type": "markdown",
      "metadata": {
        "id": "xCaOJmTlGuOS"
      },
      "source": [
        "# Data Set BITFINIX EXCHANGE - DAILY"
      ]
    },
    {
      "cell_type": "markdown",
      "metadata": {
        "id": "GNwn3X8fIScK"
      },
      "source": [
        "## Bitcoin"
      ]
    },
    {
      "cell_type": "code",
      "metadata": {
        "id": "plgV2djTGtq2"
      },
      "source": [
        "BITC_BITFINIX_url = \"https://raw.githubusercontent.com/DonaldTurton/iLab2/master/Bitcoin/BITFINEX_BTCUSD%2C%201D.csv\"\n",
        "\n",
        "bitcoin_daily = pd.read_csv (BITC_BITFINIX_url)"
      ],
      "execution_count": 4,
      "outputs": []
    },
    {
      "cell_type": "markdown",
      "metadata": {
        "id": "D6A09Q6HUl_u"
      },
      "source": [
        "### Ethereum"
      ]
    },
    {
      "cell_type": "code",
      "metadata": {
        "id": "zn8f-ILdUv4G"
      },
      "source": [
        "ETHERIUM_BITFINIX_url= 'https://raw.githubusercontent.com/DonaldTurton/iLab2/master/Ethereum/BITFINEX_ETHUSD%2C%201D.csv'"
      ],
      "execution_count": 5,
      "outputs": []
    },
    {
      "cell_type": "code",
      "metadata": {
        "id": "sxrpGy0_Uv4N"
      },
      "source": [
        "ethereum_daily = pd.read_csv(ETHERIUM_BITFINIX_url) "
      ],
      "execution_count": 6,
      "outputs": []
    },
    {
      "cell_type": "markdown",
      "metadata": {
        "id": "zXiqp9E3Vltr"
      },
      "source": [
        "### Ripple "
      ]
    },
    {
      "cell_type": "code",
      "metadata": {
        "id": "9xWWOpyqVxY1"
      },
      "source": [
        "RIPPLE_BITFINIX_url= 'https://raw.githubusercontent.com/DonaldTurton/iLab2/master/Ripple/BITFINEX_XRPUSD%2C%201D.csv'"
      ],
      "execution_count": 7,
      "outputs": []
    },
    {
      "cell_type": "code",
      "metadata": {
        "id": "I0ionDoyVxY7"
      },
      "source": [
        "ripple_daily = pd.read_csv(RIPPLE_BITFINIX_url)"
      ],
      "execution_count": 8,
      "outputs": []
    },
    {
      "cell_type": "markdown",
      "metadata": {
        "id": "jg87Vw4tPQoC"
      },
      "source": [
        "## Subset DF"
      ]
    },
    {
      "cell_type": "markdown",
      "metadata": {
        "id": "ASUuqPxYaDeR"
      },
      "source": [
        "## Subset DF"
      ]
    },
    {
      "cell_type": "code",
      "metadata": {
        "id": "-3tjzLyzXB8u"
      },
      "source": [
        "bit_bit = bitcoin_daily[['time','open', 'close', 'Volume']]\n",
        "bit_bit = bit_bit.rename(columns={'open': 'BTC_open', 'close': 'BTC_close', 'Volume': 'BTC_vol'})"
      ],
      "execution_count": 9,
      "outputs": []
    },
    {
      "cell_type": "code",
      "metadata": {
        "id": "2HK3THHkaGs2"
      },
      "source": [
        "eth_bit = ethereum_daily[['time','open', 'close', 'Volume']]\n",
        "eth_bit = eth_bit.rename(columns={'open': 'ETHER_open', 'close': 'ETHER_close', 'Volume': 'ETHER_vol'})"
      ],
      "execution_count": 10,
      "outputs": []
    },
    {
      "cell_type": "code",
      "metadata": {
        "id": "e5rEydh3a2Rq"
      },
      "source": [
        "xrp_bit = ripple_daily[['time','open', 'close', 'Volume']]\n",
        "xrp_bit = xrp_bit.rename(columns={'open': 'XRP_open', 'close': 'XRP_close', 'Volume': 'XRP_vol'})"
      ],
      "execution_count": 11,
      "outputs": []
    },
    {
      "cell_type": "markdown",
      "metadata": {
        "id": "P_20D7xMbgBx"
      },
      "source": [
        "## Merge\n",
        "\n"
      ]
    },
    {
      "cell_type": "code",
      "metadata": {
        "id": "bZaI2_FbbnsB"
      },
      "source": [
        "# Data frames for each coin from BITFINEX\n",
        "#bit_bit 2,677 observations\n",
        "#eth_bit 1,497 observations\n",
        "#xrp_bit 1,176 observations"
      ],
      "execution_count": 12,
      "outputs": []
    },
    {
      "cell_type": "code",
      "metadata": {
        "id": "EmJv81OOcOLW"
      },
      "source": [
        "bit_eth = pd.merge(bit_bit, eth_bit, how='left', on=['time'])\n",
        "data = pd.merge(bit_eth, xrp_bit, how='left', on=['time'])"
      ],
      "execution_count": 13,
      "outputs": []
    },
    {
      "cell_type": "code",
      "metadata": {
        "id": "rV0edZss-eQK",
        "outputId": "c86be427-eea1-467a-80b2-7d92d636a36c",
        "colab": {
          "base_uri": "https://localhost:8080/",
          "height": 0
        }
      },
      "source": [
        "#Drop NA \n",
        "data = data.dropna()\n",
        "len(data) #1,174 observations after removing NA"
      ],
      "execution_count": 14,
      "outputs": [
        {
          "output_type": "execute_result",
          "data": {
            "text/plain": [
              "1174"
            ]
          },
          "metadata": {
            "tags": []
          },
          "execution_count": 14
        }
      ]
    },
    {
      "cell_type": "markdown",
      "metadata": {
        "id": "zvNsWJ7d_NxD"
      },
      "source": [
        "# Lag the predictor variables 7 days"
      ]
    },
    {
      "cell_type": "code",
      "metadata": {
        "id": "i5AHsj02_RGf"
      },
      "source": [
        "# Duplicate the bitcoin variables before lagging\n",
        "data['BTC_open_dup'] = data['BTC_open'] \n",
        "data['BTC_close_dup'] = data['BTC_close']\n",
        "data['BTC_vol_dup'] = data['BTC_vol']"
      ],
      "execution_count": null,
      "outputs": []
    },
    {
      "cell_type": "code",
      "metadata": {
        "id": "nt-6E1XC_qnn"
      },
      "source": [
        "# Remove the BTC open and BTC vol variables before lagging as they  can't be used for this type of modelling strategy. \n",
        "data = data.drop(['BTC_open', 'BTC_vol'], axis = 1)"
      ],
      "execution_count": null,
      "outputs": []
    },
    {
      "cell_type": "code",
      "metadata": {
        "id": "YxyCPuUHBCFp"
      },
      "source": [
        "# Lag all variables except BTC_close\n",
        "\n",
        "data['ETHER_open'] = data['ETHER_open'].shift(7)\n",
        "data['ETHER_close'] = data['ETHER_close'].shift(7)\n",
        "data['ETHER_vol'] = data['ETHER_vol'].shift(7)\n",
        "\n",
        "data['XRP_open'] = data['XRP_open'].shift(7)\n",
        "data['XRP_close'] = data['XRP_close'].shift(7)\n",
        "data['XRP_vol'] = data['XRP_vol'].shift(7)\n",
        "\n",
        "data['BTC_open_dup'] = data['BTC_open_dup'].shift(7)\n",
        "data['BTC_close_dup'] = data['BTC_close_dup'].shift(7)\n",
        "data['BTC_vol_dup'] = data['BTC_vol_dup'].shift(7)"
      ],
      "execution_count": null,
      "outputs": []
    },
    {
      "cell_type": "code",
      "metadata": {
        "id": "QOsvJkp6B6qi"
      },
      "source": [
        "# Drop the first 7 rows of the data set as these are NA rows due to the lagging. \n",
        "data.drop(data.head(7).index, inplace=True)"
      ],
      "execution_count": null,
      "outputs": []
    },
    {
      "cell_type": "markdown",
      "metadata": {
        "id": "zKLyu0XDC2Ym"
      },
      "source": [
        "# Set the test and train sets"
      ]
    },
    {
      "cell_type": "code",
      "metadata": {
        "id": "EkOknLFYE3y9"
      },
      "source": [
        "# Set the  data index as a data col\n",
        "data.index = range(1,1168)"
      ],
      "execution_count": null,
      "outputs": []
    },
    {
      "cell_type": "code",
      "metadata": {
        "id": "V8Pi1fKrC4vF"
      },
      "source": [
        "# May train and test sets\n",
        "pd.set_option(\"display.max_rows\", None, \"display.max_columns\", None)\n",
        "train_may = data[1:1071]\n",
        "test_may = data[1071:1078]"
      ],
      "execution_count": null,
      "outputs": []
    },
    {
      "cell_type": "code",
      "metadata": {
        "id": "Q6xbeVx4G2Y7"
      },
      "source": [
        "# July train and test sets\n",
        "train_july = data[1:1132]\n",
        "test_july = data[1132:1139]"
      ],
      "execution_count": null,
      "outputs": []
    },
    {
      "cell_type": "markdown",
      "metadata": {
        "id": "fWwtwslHe-mB"
      },
      "source": [
        "# Donald Modelling"
      ]
    },
    {
      "cell_type": "code",
      "metadata": {
        "id": "SVpkpo4Duis3"
      },
      "source": [
        "# DATA FRAME WITH DATES AS INDEX FOR PLOTS IN X AXIS\n",
        "data2 = data\n",
        "\n",
        "# Convert Date column to Date format.  \n",
        "data2[\"time\"] = pd.to_datetime(data2[\"time\"], dayfirst=True )  #, format ='%d/%m/%y', errors='ignore'\n",
        "\n",
        "#Set Date as Index\n",
        "data2 = data2.set_index('time')#.asfreq('d')"
      ],
      "execution_count": null,
      "outputs": []
    },
    {
      "cell_type": "code",
      "metadata": {
        "id": "nzgC1ydh4vD5"
      },
      "source": [
        "#COPY FOR DATA2\n",
        "# May train and test sets\n",
        "pd.set_option(\"display.max_rows\", None, \"display.max_columns\", None)\n",
        "train_may = data2[1:1071]\n",
        "test_may = data2[1071:1078]"
      ],
      "execution_count": null,
      "outputs": []
    },
    {
      "cell_type": "markdown",
      "metadata": {
        "id": "6rYOFybs1Mmt"
      },
      "source": [
        "## MAY Pred"
      ]
    },
    {
      "cell_type": "code",
      "metadata": {
        "id": "48_lVn7gU5XZ"
      },
      "source": [
        "from sklearn.ensemble import RandomForestRegressor\n",
        "from sklearn.metrics import r2_score,mean_squared_error"
      ],
      "execution_count": null,
      "outputs": []
    },
    {
      "cell_type": "code",
      "metadata": {
        "id": "gKP-F707UQWx"
      },
      "source": [
        "# Select the independent variables for the first experiment in 'x' and the dependent variable 'y' for MAY\n",
        "x_train_may = train_may[['ETHER_open', 'ETHER_close', 'ETHER_vol', 'XRP_open', 'XRP_close', 'XRP_vol', 'BTC_open_dup', 'BTC_close_dup', 'BTC_vol_dup']]\n",
        "y_train_may = train_may['BTC_close']\n",
        "# Setup testing x and y variables\n",
        "x_test_may = test_may[['ETHER_open', 'ETHER_close', 'ETHER_vol', 'XRP_open', 'XRP_close', 'XRP_vol', 'BTC_open_dup', 'BTC_close_dup', 'BTC_vol_dup']]\n",
        "y_test_may = test_may['BTC_close']"
      ],
      "execution_count": null,
      "outputs": []
    },
    {
      "cell_type": "code",
      "metadata": {
        "id": "Pc-sUAmoE9q7"
      },
      "source": [
        "# Random Forest tunning \n",
        "RandomForestRegression = RandomForestRegressor(n_estimators=500)"
      ],
      "execution_count": null,
      "outputs": []
    },
    {
      "cell_type": "code",
      "metadata": {
        "id": "bT4gG1CGUlUi",
        "outputId": "135e7052-bbe2-4182-c650-ad1cf0bdf67f",
        "colab": {
          "base_uri": "https://localhost:8080/",
          "height": 141
        }
      },
      "source": [
        "\n",
        "RandomForestRegression.fit(x_train_may, y_train_may)"
      ],
      "execution_count": null,
      "outputs": [
        {
          "output_type": "execute_result",
          "data": {
            "text/plain": [
              "RandomForestRegressor(bootstrap=True, ccp_alpha=0.0, criterion='mse',\n",
              "                      max_depth=None, max_features='auto', max_leaf_nodes=None,\n",
              "                      max_samples=None, min_impurity_decrease=0.0,\n",
              "                      min_impurity_split=None, min_samples_leaf=1,\n",
              "                      min_samples_split=2, min_weight_fraction_leaf=0.0,\n",
              "                      n_estimators=500, n_jobs=None, oob_score=False,\n",
              "                      random_state=None, verbose=0, warm_start=False)"
            ]
          },
          "metadata": {
            "tags": []
          },
          "execution_count": 25
        }
      ]
    },
    {
      "cell_type": "code",
      "metadata": {
        "id": "P3kGGMsuU8v8",
        "outputId": "fb093cb7-2b61-43f6-aa5b-c6eb4057e5df",
        "colab": {
          "base_uri": "https://localhost:8080/",
          "height": 52
        }
      },
      "source": [
        "y_prediction = RandomForestRegression.predict(x_test_may)\n",
        "y_prediction"
      ],
      "execution_count": null,
      "outputs": [
        {
          "output_type": "execute_result",
          "data": {
            "text/plain": [
              "array([7910.76278866, 7976.46969051, 7546.95761495, 7071.50574964,\n",
              "       7563.43445574, 8381.01534061, 7729.11804873])"
            ]
          },
          "metadata": {
            "tags": []
          },
          "execution_count": 26
        }
      ]
    },
    {
      "cell_type": "code",
      "metadata": {
        "id": "lVdOVYxbVqHD",
        "outputId": "39713123-052c-4ded-d397-1e6a387c9965",
        "colab": {
          "base_uri": "https://localhost:8080/",
          "height": 34
        }
      },
      "source": [
        "rf_mse = mean_squared_error(y_test_may, y_prediction)\n",
        "rf_mse\n",
        "\n",
        "rf_rmse = np.sqrt(rf_mse)\n",
        "rf_rmse"
      ],
      "execution_count": null,
      "outputs": [
        {
          "output_type": "execute_result",
          "data": {
            "text/plain": [
              "1447.8983886537242"
            ]
          },
          "metadata": {
            "tags": []
          },
          "execution_count": 27
        }
      ]
    },
    {
      "cell_type": "code",
      "metadata": {
        "id": "7ZdGvbKpXWZq",
        "outputId": "87ab74f6-653b-42bb-f72b-568a3c7bcbd9",
        "colab": {
          "base_uri": "https://localhost:8080/",
          "height": 257
        }
      },
      "source": [
        "y_test_may = pd.DataFrame(y_test_may)\n",
        "#y_test_may['index'] = range(1,8)\n",
        "y_test_may"
      ],
      "execution_count": null,
      "outputs": [
        {
          "output_type": "execute_result",
          "data": {
            "text/html": [
              "<div>\n",
              "<style scoped>\n",
              "    .dataframe tbody tr th:only-of-type {\n",
              "        vertical-align: middle;\n",
              "    }\n",
              "\n",
              "    .dataframe tbody tr th {\n",
              "        vertical-align: top;\n",
              "    }\n",
              "\n",
              "    .dataframe thead th {\n",
              "        text-align: right;\n",
              "    }\n",
              "</style>\n",
              "<table border=\"1\" class=\"dataframe\">\n",
              "  <thead>\n",
              "    <tr style=\"text-align: right;\">\n",
              "      <th></th>\n",
              "      <th>BTC_close</th>\n",
              "    </tr>\n",
              "  </thead>\n",
              "  <tbody>\n",
              "    <tr>\n",
              "      <th>1072</th>\n",
              "      <td>8822.800000</td>\n",
              "    </tr>\n",
              "    <tr>\n",
              "      <th>1073</th>\n",
              "      <td>8982.300000</td>\n",
              "    </tr>\n",
              "    <tr>\n",
              "      <th>1074</th>\n",
              "      <td>8899.800000</td>\n",
              "    </tr>\n",
              "    <tr>\n",
              "      <th>1075</th>\n",
              "      <td>8865.800000</td>\n",
              "    </tr>\n",
              "    <tr>\n",
              "      <th>1076</th>\n",
              "      <td>9020.100000</td>\n",
              "    </tr>\n",
              "    <tr>\n",
              "      <th>1077</th>\n",
              "      <td>9152.470993</td>\n",
              "    </tr>\n",
              "    <tr>\n",
              "      <th>1078</th>\n",
              "      <td>9979.600000</td>\n",
              "    </tr>\n",
              "  </tbody>\n",
              "</table>\n",
              "</div>"
            ],
            "text/plain": [
              "        BTC_close\n",
              "1072  8822.800000\n",
              "1073  8982.300000\n",
              "1074  8899.800000\n",
              "1075  8865.800000\n",
              "1076  9020.100000\n",
              "1077  9152.470993\n",
              "1078  9979.600000"
            ]
          },
          "metadata": {
            "tags": []
          },
          "execution_count": 28
        }
      ]
    },
    {
      "cell_type": "code",
      "metadata": {
        "id": "Gn4wGh3kXpkT",
        "outputId": "f71ef218-6ab2-4fc3-f7f0-8225a94edd86",
        "colab": {
          "base_uri": "https://localhost:8080/",
          "height": 257
        }
      },
      "source": [
        "y_prediction = pd.DataFrame(y_prediction)\n",
        "y_prediction.index=y_test_may.index\n",
        "y_prediction.columns=['Prediction']\n",
        "#y_prediction['index'] = range(1,8)\n",
        "y_prediction"
      ],
      "execution_count": null,
      "outputs": [
        {
          "output_type": "execute_result",
          "data": {
            "text/html": [
              "<div>\n",
              "<style scoped>\n",
              "    .dataframe tbody tr th:only-of-type {\n",
              "        vertical-align: middle;\n",
              "    }\n",
              "\n",
              "    .dataframe tbody tr th {\n",
              "        vertical-align: top;\n",
              "    }\n",
              "\n",
              "    .dataframe thead th {\n",
              "        text-align: right;\n",
              "    }\n",
              "</style>\n",
              "<table border=\"1\" class=\"dataframe\">\n",
              "  <thead>\n",
              "    <tr style=\"text-align: right;\">\n",
              "      <th></th>\n",
              "      <th>Prediction</th>\n",
              "    </tr>\n",
              "  </thead>\n",
              "  <tbody>\n",
              "    <tr>\n",
              "      <th>1072</th>\n",
              "      <td>7910.762789</td>\n",
              "    </tr>\n",
              "    <tr>\n",
              "      <th>1073</th>\n",
              "      <td>7976.469691</td>\n",
              "    </tr>\n",
              "    <tr>\n",
              "      <th>1074</th>\n",
              "      <td>7546.957615</td>\n",
              "    </tr>\n",
              "    <tr>\n",
              "      <th>1075</th>\n",
              "      <td>7071.505750</td>\n",
              "    </tr>\n",
              "    <tr>\n",
              "      <th>1076</th>\n",
              "      <td>7563.434456</td>\n",
              "    </tr>\n",
              "    <tr>\n",
              "      <th>1077</th>\n",
              "      <td>8381.015341</td>\n",
              "    </tr>\n",
              "    <tr>\n",
              "      <th>1078</th>\n",
              "      <td>7729.118049</td>\n",
              "    </tr>\n",
              "  </tbody>\n",
              "</table>\n",
              "</div>"
            ],
            "text/plain": [
              "       Prediction\n",
              "1072  7910.762789\n",
              "1073  7976.469691\n",
              "1074  7546.957615\n",
              "1075  7071.505750\n",
              "1076  7563.434456\n",
              "1077  8381.015341\n",
              "1078  7729.118049"
            ]
          },
          "metadata": {
            "tags": []
          },
          "execution_count": 29
        }
      ]
    },
    {
      "cell_type": "code",
      "metadata": {
        "id": "K-DtzDjQW521",
        "outputId": "3bb3d82b-5fbb-4120-98a4-8ed86a5eec1a",
        "colab": {
          "base_uri": "https://localhost:8080/",
          "height": 257
        }
      },
      "source": [
        "#Merge predicted vs actual \n",
        "#PredictionVSactual = y_test_may.merge(y_prediction, on=None, how='left')\n",
        "\n",
        "PredictionVSactual = y_test_may.join(y_prediction)\n",
        "\n",
        "\n",
        "#PredictionVSactual = PredictionVSactual.set_index('time')\n",
        "#PredictionVSactual.columns=['Prediction','Index' ,'Real']\n",
        "\n",
        "#PredictionVSactual = PredictionVSactual[['Prediction', 'Real']]\n",
        "\n",
        "PredictionVSactual"
      ],
      "execution_count": null,
      "outputs": [
        {
          "output_type": "execute_result",
          "data": {
            "text/html": [
              "<div>\n",
              "<style scoped>\n",
              "    .dataframe tbody tr th:only-of-type {\n",
              "        vertical-align: middle;\n",
              "    }\n",
              "\n",
              "    .dataframe tbody tr th {\n",
              "        vertical-align: top;\n",
              "    }\n",
              "\n",
              "    .dataframe thead th {\n",
              "        text-align: right;\n",
              "    }\n",
              "</style>\n",
              "<table border=\"1\" class=\"dataframe\">\n",
              "  <thead>\n",
              "    <tr style=\"text-align: right;\">\n",
              "      <th></th>\n",
              "      <th>BTC_close</th>\n",
              "      <th>Prediction</th>\n",
              "    </tr>\n",
              "  </thead>\n",
              "  <tbody>\n",
              "    <tr>\n",
              "      <th>1072</th>\n",
              "      <td>8822.800000</td>\n",
              "      <td>7910.762789</td>\n",
              "    </tr>\n",
              "    <tr>\n",
              "      <th>1073</th>\n",
              "      <td>8982.300000</td>\n",
              "      <td>7976.469691</td>\n",
              "    </tr>\n",
              "    <tr>\n",
              "      <th>1074</th>\n",
              "      <td>8899.800000</td>\n",
              "      <td>7546.957615</td>\n",
              "    </tr>\n",
              "    <tr>\n",
              "      <th>1075</th>\n",
              "      <td>8865.800000</td>\n",
              "      <td>7071.505750</td>\n",
              "    </tr>\n",
              "    <tr>\n",
              "      <th>1076</th>\n",
              "      <td>9020.100000</td>\n",
              "      <td>7563.434456</td>\n",
              "    </tr>\n",
              "    <tr>\n",
              "      <th>1077</th>\n",
              "      <td>9152.470993</td>\n",
              "      <td>8381.015341</td>\n",
              "    </tr>\n",
              "    <tr>\n",
              "      <th>1078</th>\n",
              "      <td>9979.600000</td>\n",
              "      <td>7729.118049</td>\n",
              "    </tr>\n",
              "  </tbody>\n",
              "</table>\n",
              "</div>"
            ],
            "text/plain": [
              "        BTC_close   Prediction\n",
              "1072  8822.800000  7910.762789\n",
              "1073  8982.300000  7976.469691\n",
              "1074  8899.800000  7546.957615\n",
              "1075  8865.800000  7071.505750\n",
              "1076  9020.100000  7563.434456\n",
              "1077  9152.470993  8381.015341\n",
              "1078  9979.600000  7729.118049"
            ]
          },
          "metadata": {
            "tags": []
          },
          "execution_count": 30
        }
      ]
    },
    {
      "cell_type": "code",
      "metadata": {
        "id": "516jwU2vWdJF",
        "outputId": "7d29e2f4-7c27-4f53-f943-40221ba8d9da",
        "colab": {
          "base_uri": "https://localhost:8080/",
          "height": 610
        }
      },
      "source": [
        "import matplotlib.pyplot as plt\n",
        "\n",
        "import seaborn as sns\n",
        "# Use seaborn style defaults and set the default figure size\n",
        "sns.set(rc={'figure.figsize':(20, 10)})\n",
        "\n",
        "# plot\n",
        "plt.plot(PredictionVSactual)\n",
        "plt.title(\"Predictions Vs Actual\")\n",
        "plt.legend(['Real_Price','Predicted'],loc='upper left')\n",
        "plt.show()"
      ],
      "execution_count": null,
      "outputs": [
        {
          "output_type": "display_data",
          "data": {
            "image/png": "[encoded data removed]",
            "text/plain": [
              "<Figure size 1440x720 with 1 Axes>"
            ]
          },
          "metadata": {
            "tags": []
          }
        }
      ]
    },
    {
      "cell_type": "markdown",
      "metadata": {
        "id": "vlhpcpVt1luq"
      },
      "source": [
        "## July"
      ]
    },
    {
      "cell_type": "code",
      "metadata": {
        "id": "AuRDLPcC8QJ-"
      },
      "source": [
        "#COPY \n",
        "# July train and test sets\n",
        "train_july = data2[1:1132]\n",
        "test_july = data2[1132:1139]"
      ],
      "execution_count": null,
      "outputs": []
    },
    {
      "cell_type": "code",
      "metadata": {
        "id": "TxywCkPs8I1i"
      },
      "source": [
        "# Select the independent variables for the first experiment in 'x' and the dependent variable 'y' for MAY\n",
        "x_train_july = train_july[['ETHER_open', 'ETHER_close', 'ETHER_vol', 'XRP_open', 'XRP_close', 'XRP_vol', 'BTC_open_dup', 'BTC_close_dup', 'BTC_vol_dup']]\n",
        "y_train_july = train_july['BTC_close']\n",
        "# Setup testing x and y variables\n",
        "x_test_july = test_july[['ETHER_open', 'ETHER_close', 'ETHER_vol', 'XRP_open', 'XRP_close', 'XRP_vol', 'BTC_open_dup', 'BTC_close_dup', 'BTC_vol_dup']]\n",
        "y_test_july = test_july['BTC_close']"
      ],
      "execution_count": null,
      "outputs": []
    },
    {
      "cell_type": "code",
      "metadata": {
        "id": "hRUqE8WN8I1m",
        "outputId": "3598b0fa-cbc7-4d10-de58-e217d94237c2",
        "colab": {
          "base_uri": "https://localhost:8080/",
          "height": 141
        }
      },
      "source": [
        "RandomForestRegression.fit(x_train_july, y_train_july)"
      ],
      "execution_count": null,
      "outputs": [
        {
          "output_type": "execute_result",
          "data": {
            "text/plain": [
              "RandomForestRegressor(bootstrap=True, ccp_alpha=0.0, criterion='mse',\n",
              "                      max_depth=None, max_features='auto', max_leaf_nodes=None,\n",
              "                      max_samples=None, min_impurity_decrease=0.0,\n",
              "                      min_impurity_split=None, min_samples_leaf=1,\n",
              "                      min_samples_split=2, min_weight_fraction_leaf=0.0,\n",
              "                      n_estimators=500, n_jobs=None, oob_score=False,\n",
              "                      random_state=None, verbose=0, warm_start=False)"
            ]
          },
          "metadata": {
            "tags": []
          },
          "execution_count": 34
        }
      ]
    },
    {
      "cell_type": "code",
      "metadata": {
        "id": "SSeO4DIG8I1p",
        "outputId": "309b66b5-76c2-4ef4-ecc2-122cca1ad213",
        "colab": {
          "base_uri": "https://localhost:8080/",
          "height": 52
        }
      },
      "source": [
        "y_prediction_july = RandomForestRegression.predict(x_test_july)\n",
        "y_prediction_july"
      ],
      "execution_count": null,
      "outputs": [
        {
          "output_type": "execute_result",
          "data": {
            "text/plain": [
              "array([9343.88055833, 9292.27359666, 8951.15300602, 9307.65158201,\n",
              "       9229.65561611, 9207.73292038, 9180.59243039])"
            ]
          },
          "metadata": {
            "tags": []
          },
          "execution_count": 35
        }
      ]
    },
    {
      "cell_type": "code",
      "metadata": {
        "id": "D8P_2m2l8I1s",
        "outputId": "adf131f8-db80-4632-ed9c-ff0557b154dd",
        "colab": {
          "base_uri": "https://localhost:8080/",
          "height": 34
        }
      },
      "source": [
        "rf_mse = mean_squared_error(y_test_july, y_prediction_july)\n",
        "rf_mse\n",
        "\n",
        "rf_rmse = np.sqrt(rf_mse)\n",
        "rf_rmse"
      ],
      "execution_count": null,
      "outputs": [
        {
          "output_type": "execute_result",
          "data": {
            "text/plain": [
              "141.65892065435182"
            ]
          },
          "metadata": {
            "tags": []
          },
          "execution_count": 36
        }
      ]
    },
    {
      "cell_type": "code",
      "metadata": {
        "id": "MXSrt5V58I1u",
        "outputId": "2337e638-1ee5-4d6f-96b0-7a87c1fb3970",
        "colab": {
          "base_uri": "https://localhost:8080/",
          "height": 257
        }
      },
      "source": [
        "y_test_july = pd.DataFrame(y_test_july)\n",
        "#y_test_may['index'] = range(1,8)\n",
        "y_test_july"
      ],
      "execution_count": null,
      "outputs": [
        {
          "output_type": "execute_result",
          "data": {
            "text/html": [
              "<div>\n",
              "<style scoped>\n",
              "    .dataframe tbody tr th:only-of-type {\n",
              "        vertical-align: middle;\n",
              "    }\n",
              "\n",
              "    .dataframe tbody tr th {\n",
              "        vertical-align: top;\n",
              "    }\n",
              "\n",
              "    .dataframe thead th {\n",
              "        text-align: right;\n",
              "    }\n",
              "</style>\n",
              "<table border=\"1\" class=\"dataframe\">\n",
              "  <thead>\n",
              "    <tr style=\"text-align: right;\">\n",
              "      <th></th>\n",
              "      <th>BTC_close</th>\n",
              "    </tr>\n",
              "  </thead>\n",
              "  <tbody>\n",
              "    <tr>\n",
              "      <th>1133</th>\n",
              "      <td>9239.900000</td>\n",
              "    </tr>\n",
              "    <tr>\n",
              "      <th>1134</th>\n",
              "      <td>9100.000000</td>\n",
              "    </tr>\n",
              "    <tr>\n",
              "      <th>1135</th>\n",
              "      <td>9073.200000</td>\n",
              "    </tr>\n",
              "    <tr>\n",
              "      <th>1136</th>\n",
              "      <td>9147.700000</td>\n",
              "    </tr>\n",
              "    <tr>\n",
              "      <th>1137</th>\n",
              "      <td>9084.284734</td>\n",
              "    </tr>\n",
              "    <tr>\n",
              "      <th>1138</th>\n",
              "      <td>9361.100000</td>\n",
              "    </tr>\n",
              "    <tr>\n",
              "      <th>1139</th>\n",
              "      <td>9267.514949</td>\n",
              "    </tr>\n",
              "  </tbody>\n",
              "</table>\n",
              "</div>"
            ],
            "text/plain": [
              "        BTC_close\n",
              "1133  9239.900000\n",
              "1134  9100.000000\n",
              "1135  9073.200000\n",
              "1136  9147.700000\n",
              "1137  9084.284734\n",
              "1138  9361.100000\n",
              "1139  9267.514949"
            ]
          },
          "metadata": {
            "tags": []
          },
          "execution_count": 37
        }
      ]
    },
    {
      "cell_type": "code",
      "metadata": {
        "id": "J_8MR7aJ8I1w",
        "outputId": "688c31f1-da8d-4323-c93f-38ded2cf5192",
        "colab": {
          "base_uri": "https://localhost:8080/",
          "height": 257
        }
      },
      "source": [
        "y_prediction_july = pd.DataFrame(y_prediction_july)\n",
        "y_prediction_july.index=y_test_july.index\n",
        "y_prediction_july.columns=['Prediction']\n",
        "#y_prediction['index'] = range(1,8)\n",
        "y_prediction_july"
      ],
      "execution_count": null,
      "outputs": [
        {
          "output_type": "execute_result",
          "data": {
            "text/html": [
              "<div>\n",
              "<style scoped>\n",
              "    .dataframe tbody tr th:only-of-type {\n",
              "        vertical-align: middle;\n",
              "    }\n",
              "\n",
              "    .dataframe tbody tr th {\n",
              "        vertical-align: top;\n",
              "    }\n",
              "\n",
              "    .dataframe thead th {\n",
              "        text-align: right;\n",
              "    }\n",
              "</style>\n",
              "<table border=\"1\" class=\"dataframe\">\n",
              "  <thead>\n",
              "    <tr style=\"text-align: right;\">\n",
              "      <th></th>\n",
              "      <th>Prediction</th>\n",
              "    </tr>\n",
              "  </thead>\n",
              "  <tbody>\n",
              "    <tr>\n",
              "      <th>1133</th>\n",
              "      <td>9343.880558</td>\n",
              "    </tr>\n",
              "    <tr>\n",
              "      <th>1134</th>\n",
              "      <td>9292.273597</td>\n",
              "    </tr>\n",
              "    <tr>\n",
              "      <th>1135</th>\n",
              "      <td>8951.153006</td>\n",
              "    </tr>\n",
              "    <tr>\n",
              "      <th>1136</th>\n",
              "      <td>9307.651582</td>\n",
              "    </tr>\n",
              "    <tr>\n",
              "      <th>1137</th>\n",
              "      <td>9229.655616</td>\n",
              "    </tr>\n",
              "    <tr>\n",
              "      <th>1138</th>\n",
              "      <td>9207.732920</td>\n",
              "    </tr>\n",
              "    <tr>\n",
              "      <th>1139</th>\n",
              "      <td>9180.592430</td>\n",
              "    </tr>\n",
              "  </tbody>\n",
              "</table>\n",
              "</div>"
            ],
            "text/plain": [
              "       Prediction\n",
              "1133  9343.880558\n",
              "1134  9292.273597\n",
              "1135  8951.153006\n",
              "1136  9307.651582\n",
              "1137  9229.655616\n",
              "1138  9207.732920\n",
              "1139  9180.592430"
            ]
          },
          "metadata": {
            "tags": []
          },
          "execution_count": 38
        }
      ]
    },
    {
      "cell_type": "code",
      "metadata": {
        "id": "nTt7UBrK8I1z",
        "outputId": "da669074-b59f-4747-a83d-b5194ea96bc7",
        "colab": {
          "base_uri": "https://localhost:8080/",
          "height": 257
        }
      },
      "source": [
        "#Merge predicted vs actual \n",
        "#PredictionVSactual = y_test_may.merge(y_prediction, on=None, how='left')\n",
        "\n",
        "PredictionVSactual_july = y_test_july.join(y_prediction_july)\n",
        "\n",
        "\n",
        "#PredictionVSactual = PredictionVSactual.set_index('time')\n",
        "#PredictionVSactual.columns=['Prediction','Index' ,'Real']\n",
        "\n",
        "#PredictionVSactual = PredictionVSactual[['Prediction', 'Real']]\n",
        "\n",
        "PredictionVSactual_july"
      ],
      "execution_count": null,
      "outputs": [
        {
          "output_type": "execute_result",
          "data": {
            "text/html": [
              "<div>\n",
              "<style scoped>\n",
              "    .dataframe tbody tr th:only-of-type {\n",
              "        vertical-align: middle;\n",
              "    }\n",
              "\n",
              "    .dataframe tbody tr th {\n",
              "        vertical-align: top;\n",
              "    }\n",
              "\n",
              "    .dataframe thead th {\n",
              "        text-align: right;\n",
              "    }\n",
              "</style>\n",
              "<table border=\"1\" class=\"dataframe\">\n",
              "  <thead>\n",
              "    <tr style=\"text-align: right;\">\n",
              "      <th></th>\n",
              "      <th>BTC_close</th>\n",
              "      <th>Prediction</th>\n",
              "    </tr>\n",
              "  </thead>\n",
              "  <tbody>\n",
              "    <tr>\n",
              "      <th>1133</th>\n",
              "      <td>9239.900000</td>\n",
              "      <td>9343.880558</td>\n",
              "    </tr>\n",
              "    <tr>\n",
              "      <th>1134</th>\n",
              "      <td>9100.000000</td>\n",
              "      <td>9292.273597</td>\n",
              "    </tr>\n",
              "    <tr>\n",
              "      <th>1135</th>\n",
              "      <td>9073.200000</td>\n",
              "      <td>8951.153006</td>\n",
              "    </tr>\n",
              "    <tr>\n",
              "      <th>1136</th>\n",
              "      <td>9147.700000</td>\n",
              "      <td>9307.651582</td>\n",
              "    </tr>\n",
              "    <tr>\n",
              "      <th>1137</th>\n",
              "      <td>9084.284734</td>\n",
              "      <td>9229.655616</td>\n",
              "    </tr>\n",
              "    <tr>\n",
              "      <th>1138</th>\n",
              "      <td>9361.100000</td>\n",
              "      <td>9207.732920</td>\n",
              "    </tr>\n",
              "    <tr>\n",
              "      <th>1139</th>\n",
              "      <td>9267.514949</td>\n",
              "      <td>9180.592430</td>\n",
              "    </tr>\n",
              "  </tbody>\n",
              "</table>\n",
              "</div>"
            ],
            "text/plain": [
              "        BTC_close   Prediction\n",
              "1133  9239.900000  9343.880558\n",
              "1134  9100.000000  9292.273597\n",
              "1135  9073.200000  8951.153006\n",
              "1136  9147.700000  9307.651582\n",
              "1137  9084.284734  9229.655616\n",
              "1138  9361.100000  9207.732920\n",
              "1139  9267.514949  9180.592430"
            ]
          },
          "metadata": {
            "tags": []
          },
          "execution_count": 39
        }
      ]
    },
    {
      "cell_type": "code",
      "metadata": {
        "id": "fpWVBiNn8I12",
        "outputId": "e47a3a42-5b56-4499-896a-f446a39d00d7",
        "colab": {
          "base_uri": "https://localhost:8080/",
          "height": 610
        }
      },
      "source": [
        "import matplotlib.pyplot as plt\n",
        "\n",
        "import seaborn as sns\n",
        "# Use seaborn style defaults and set the default figure size\n",
        "sns.set(rc={'figure.figsize':(20, 10)})\n",
        "\n",
        "# plot\n",
        "plt.plot(PredictionVSactual_july)\n",
        "plt.title(\"Predictions Vs Actual\")\n",
        "plt.legend(['Real_Price','Predicted'],loc='upper left')\n",
        "plt.show()"
      ],
      "execution_count": null,
      "outputs": [
        {
          "output_type": "display_data",
          "data": {
            "image/png": "[encoded data removed]",
            "text/plain": [
              "<Figure size 1440x720 with 1 Axes>"
            ]
          },
          "metadata": {
            "tags": []
          }
        }
      ]
    },
    {
      "cell_type": "markdown",
      "metadata": {
        "id": "kpGbKbpDHab1"
      },
      "source": [
        "# **Rob Modelling**"
      ]
    },
    {
      "cell_type": "markdown",
      "metadata": {
        "id": "KlC8-kQ1Rj9V"
      },
      "source": [
        "#  Set test and train sets\n"
      ]
    },
    {
      "cell_type": "code",
      "metadata": {
        "id": "DUXcnYIMRezh"
      },
      "source": [
        "# Select the independent variables for the first experiment in 'x' and the dependent variable 'y' for MAY\n",
        "x_train_may = train_may[['ETHER_open', 'ETHER_close', 'ETHER_vol', 'XRP_open', 'XRP_close', 'XRP_vol', 'BTC_open_dup', 'BTC_close_dup', 'BTC_vol_dup']]\n",
        "y_train_may = train_may['BTC_close']\n",
        "\n",
        "# Setup testing x and y variables\n",
        "x_test_may = test_may[['ETHER_open', 'ETHER_close', 'ETHER_vol', 'XRP_open', 'XRP_close', 'XRP_vol', 'BTC_open_dup', 'BTC_close_dup', 'BTC_vol_dup']]\n",
        "y_test_may = test_may['BTC_close']\n"
      ],
      "execution_count": null,
      "outputs": []
    },
    {
      "cell_type": "code",
      "metadata": {
        "id": "_2EooSdhTb8r"
      },
      "source": [
        "# Select the independent variables for the first experiment in 'x' and the dependent variable 'y' for JULY\n",
        "x_train_july = train_july[['ETHER_open', 'ETHER_close', 'ETHER_vol', 'XRP_open', 'XRP_close', 'XRP_vol', 'BTC_open_dup', 'BTC_close_dup', 'BTC_vol_dup']]\n",
        "y_train_july = train_july['BTC_close']\n",
        "\n",
        "# Setup testing x and y variables\n",
        "x_test_july = test_july[['ETHER_open', 'ETHER_close', 'ETHER_vol', 'XRP_open', 'XRP_close', 'XRP_vol', 'BTC_open_dup', 'BTC_close_dup', 'BTC_vol_dup']]\n",
        "y_test_july = test_july['BTC_close']\n"
      ],
      "execution_count": null,
      "outputs": []
    },
    {
      "cell_type": "markdown",
      "metadata": {
        "id": "UzZb1l0e6exC"
      },
      "source": [
        "# Linear Model - May"
      ]
    },
    {
      "cell_type": "code",
      "metadata": {
        "id": "tIS0Aq3Z6cuc"
      },
      "source": [
        "# Import the requried packages for the linear regression model\n",
        "import numpy as np\n",
        "from sklearn.linear_model import LinearRegression\n",
        "\n",
        "model = LinearRegression()"
      ],
      "execution_count": null,
      "outputs": []
    },
    {
      "cell_type": "code",
      "metadata": {
        "id": "pCI62EcwUgpA"
      },
      "source": [
        "# Runt he linear regressor over the x and y training data\n",
        "model = LinearRegression().fit(x_train_may, y_train_may)"
      ],
      "execution_count": null,
      "outputs": []
    },
    {
      "cell_type": "code",
      "metadata": {
        "id": "olCe7rRiVTFU",
        "outputId": "7ec2353b-61f8-4f5d-eca7-52ef1515d9f3",
        "colab": {
          "base_uri": "https://localhost:8080/"
        }
      },
      "source": [
        "# Runt he linear regressor over the x and y training data\n",
        "from statsmodels.api import OLS\n",
        "OLS(y_train_may,x_train_may).fit().summary()"
      ],
      "execution_count": null,
      "outputs": [
        {
          "output_type": "execute_result",
          "data": {
            "text/html": [
              "<table class=\"simpletable\">\n",
              "<caption>OLS Regression Results</caption>\n",
              "<tr>\n",
              "  <th>Dep. Variable:</th>        <td>BTC_close</td>    <th>  R-squared (uncentered):</th>      <td>   0.984</td> \n",
              "</tr>\n",
              "<tr>\n",
              "  <th>Model:</th>                   <td>OLS</td>       <th>  Adj. R-squared (uncentered):</th> <td>   0.984</td> \n",
              "</tr>\n",
              "<tr>\n",
              "  <th>Method:</th>             <td>Least Squares</td>  <th>  F-statistic:       </th>          <td>   7349.</td> \n",
              "</tr>\n",
              "<tr>\n",
              "  <th>Date:</th>             <td>Mon, 31 Aug 2020</td> <th>  Prob (F-statistic):</th>           <td>  0.00</td>  \n",
              "</tr>\n",
              "<tr>\n",
              "  <th>Time:</th>                 <td>07:57:19</td>     <th>  Log-Likelihood:    </th>          <td> -8884.2</td> \n",
              "</tr>\n",
              "<tr>\n",
              "  <th>No. Observations:</th>      <td>  1070</td>      <th>  AIC:               </th>          <td>1.779e+04</td>\n",
              "</tr>\n",
              "<tr>\n",
              "  <th>Df Residuals:</th>          <td>  1061</td>      <th>  BIC:               </th>          <td>1.783e+04</td>\n",
              "</tr>\n",
              "<tr>\n",
              "  <th>Df Model:</th>              <td>     9</td>      <th>                     </th>              <td> </td>    \n",
              "</tr>\n",
              "<tr>\n",
              "  <th>Covariance Type:</th>      <td>nonrobust</td>    <th>                     </th>              <td> </td>    \n",
              "</tr>\n",
              "</table>\n",
              "<table class=\"simpletable\">\n",
              "<tr>\n",
              "        <td></td>           <th>coef</th>     <th>std err</th>      <th>t</th>      <th>P>|t|</th>  <th>[0.025</th>    <th>0.975]</th>  \n",
              "</tr>\n",
              "<tr>\n",
              "  <th>ETHER_open</th>    <td>    1.4739</td> <td>    1.683</td> <td>    0.876</td> <td> 0.381</td> <td>   -1.828</td> <td>    4.776</td>\n",
              "</tr>\n",
              "<tr>\n",
              "  <th>ETHER_close</th>   <td>   -2.3614</td> <td>    1.689</td> <td>   -1.398</td> <td> 0.162</td> <td>   -5.675</td> <td>    0.952</td>\n",
              "</tr>\n",
              "<tr>\n",
              "  <th>ETHER_vol</th>     <td>   -0.0003</td> <td>    0.000</td> <td>   -1.483</td> <td> 0.138</td> <td>   -0.001</td> <td> 9.76e-05</td>\n",
              "</tr>\n",
              "<tr>\n",
              "  <th>XRP_open</th>      <td>-3414.9582</td> <td>  740.255</td> <td>   -4.613</td> <td> 0.000</td> <td>-4867.488</td> <td>-1962.429</td>\n",
              "</tr>\n",
              "<tr>\n",
              "  <th>XRP_close</th>     <td> 2925.4715</td> <td>  753.450</td> <td>    3.883</td> <td> 0.000</td> <td> 1447.051</td> <td> 4403.892</td>\n",
              "</tr>\n",
              "<tr>\n",
              "  <th>XRP_vol</th>       <td>-1.277e-06</td> <td> 6.51e-07</td> <td>   -1.961</td> <td> 0.050</td> <td>-2.56e-06</td> <td> 7.72e-10</td>\n",
              "</tr>\n",
              "<tr>\n",
              "  <th>BTC_open_dup</th>  <td>    0.1394</td> <td>    0.098</td> <td>    1.424</td> <td> 0.155</td> <td>   -0.053</td> <td>    0.331</td>\n",
              "</tr>\n",
              "<tr>\n",
              "  <th>BTC_close_dup</th> <td>    0.8844</td> <td>    0.097</td> <td>    9.096</td> <td> 0.000</td> <td>    0.694</td> <td>    1.075</td>\n",
              "</tr>\n",
              "<tr>\n",
              "  <th>BTC_vol_dup</th>   <td>    0.0159</td> <td>    0.002</td> <td>    8.325</td> <td> 0.000</td> <td>    0.012</td> <td>    0.020</td>\n",
              "</tr>\n",
              "</table>\n",
              "<table class=\"simpletable\">\n",
              "<tr>\n",
              "  <th>Omnibus:</th>       <td>147.067</td> <th>  Durbin-Watson:     </th> <td>   0.351</td>\n",
              "</tr>\n",
              "<tr>\n",
              "  <th>Prob(Omnibus):</th> <td> 0.000</td>  <th>  Jarque-Bera (JB):  </th> <td>1727.920</td>\n",
              "</tr>\n",
              "<tr>\n",
              "  <th>Skew:</th>          <td> 0.009</td>  <th>  Prob(JB):          </th> <td>    0.00</td>\n",
              "</tr>\n",
              "<tr>\n",
              "  <th>Kurtosis:</th>      <td> 9.225</td>  <th>  Cond. No.          </th> <td>2.65e+09</td>\n",
              "</tr>\n",
              "</table><br/><br/>Warnings:<br/>[1] Standard Errors assume that the covariance matrix of the errors is correctly specified.<br/>[2] The condition number is large, 2.65e+09. This might indicate that there are<br/>strong multicollinearity or other numerical problems."
            ],
            "text/plain": [
              "<class 'statsmodels.iolib.summary.Summary'>\n",
              "\"\"\"\n",
              "                                 OLS Regression Results                                \n",
              "=======================================================================================\n",
              "Dep. Variable:              BTC_close   R-squared (uncentered):                   0.984\n",
              "Model:                            OLS   Adj. R-squared (uncentered):              0.984\n",
              "Method:                 Least Squares   F-statistic:                              7349.\n",
              "Date:                Mon, 31 Aug 2020   Prob (F-statistic):                        0.00\n",
              "Time:                        07:57:19   Log-Likelihood:                         -8884.2\n",
              "No. Observations:                1070   AIC:                                  1.779e+04\n",
              "Df Residuals:                    1061   BIC:                                  1.783e+04\n",
              "Df Model:                           9                                                  \n",
              "Covariance Type:            nonrobust                                                  \n",
              "=================================================================================\n",
              "                    coef    std err          t      P>|t|      [0.025      0.975]\n",
              "---------------------------------------------------------------------------------\n",
              "ETHER_open        1.4739      1.683      0.876      0.381      -1.828       4.776\n",
              "ETHER_close      -2.3614      1.689     -1.398      0.162      -5.675       0.952\n",
              "ETHER_vol        -0.0003      0.000     -1.483      0.138      -0.001    9.76e-05\n",
              "XRP_open      -3414.9582    740.255     -4.613      0.000   -4867.488   -1962.429\n",
              "XRP_close      2925.4715    753.450      3.883      0.000    1447.051    4403.892\n",
              "XRP_vol       -1.277e-06   6.51e-07     -1.961      0.050   -2.56e-06    7.72e-10\n",
              "BTC_open_dup      0.1394      0.098      1.424      0.155      -0.053       0.331\n",
              "BTC_close_dup     0.8844      0.097      9.096      0.000       0.694       1.075\n",
              "BTC_vol_dup       0.0159      0.002      8.325      0.000       0.012       0.020\n",
              "==============================================================================\n",
              "Omnibus:                      147.067   Durbin-Watson:                   0.351\n",
              "Prob(Omnibus):                  0.000   Jarque-Bera (JB):             1727.920\n",
              "Skew:                           0.009   Prob(JB):                         0.00\n",
              "Kurtosis:                       9.225   Cond. No.                     2.65e+09\n",
              "==============================================================================\n",
              "\n",
              "Warnings:\n",
              "[1] Standard Errors assume that the covariance matrix of the errors is correctly specified.\n",
              "[2] The condition number is large, 2.65e+09. This might indicate that there are\n",
              "strong multicollinearity or other numerical problems.\n",
              "\"\"\""
            ]
          },
          "metadata": {
            "tags": []
          },
          "execution_count": 45
        }
      ]
    },
    {
      "cell_type": "code",
      "metadata": {
        "id": "2ITd37xkWvBL"
      },
      "source": [
        "# Predict the model on the x_test data\n",
        "y_pred_may = pd.DataFrame(model.predict(x_test_may))\n",
        "y_pred_may['index'] = range(1,8)"
      ],
      "execution_count": null,
      "outputs": []
    },
    {
      "cell_type": "code",
      "metadata": {
        "id": "f98eKhrgaSRm",
        "outputId": "abac130c-3237-4562-86a0-28f60d40ede8",
        "colab": {
          "base_uri": "https://localhost:8080/"
        }
      },
      "source": [
        "y_pred_may"
      ],
      "execution_count": null,
      "outputs": [
        {
          "output_type": "execute_result",
          "data": {
            "text/html": [
              "<div>\n",
              "<style scoped>\n",
              "    .dataframe tbody tr th:only-of-type {\n",
              "        vertical-align: middle;\n",
              "    }\n",
              "\n",
              "    .dataframe tbody tr th {\n",
              "        vertical-align: top;\n",
              "    }\n",
              "\n",
              "    .dataframe thead th {\n",
              "        text-align: right;\n",
              "    }\n",
              "</style>\n",
              "<table border=\"1\" class=\"dataframe\">\n",
              "  <thead>\n",
              "    <tr style=\"text-align: right;\">\n",
              "      <th></th>\n",
              "      <th>0</th>\n",
              "      <th>index</th>\n",
              "    </tr>\n",
              "  </thead>\n",
              "  <tbody>\n",
              "    <tr>\n",
              "      <th>0</th>\n",
              "      <td>7626.086948</td>\n",
              "      <td>1</td>\n",
              "    </tr>\n",
              "    <tr>\n",
              "      <th>1</th>\n",
              "      <td>7526.599476</td>\n",
              "      <td>2</td>\n",
              "    </tr>\n",
              "    <tr>\n",
              "      <th>2</th>\n",
              "      <td>7690.725950</td>\n",
              "      <td>3</td>\n",
              "    </tr>\n",
              "    <tr>\n",
              "      <th>3</th>\n",
              "      <td>7793.804550</td>\n",
              "      <td>4</td>\n",
              "    </tr>\n",
              "    <tr>\n",
              "      <th>4</th>\n",
              "      <td>7850.899369</td>\n",
              "      <td>5</td>\n",
              "    </tr>\n",
              "    <tr>\n",
              "      <th>5</th>\n",
              "      <td>8888.264968</td>\n",
              "      <td>6</td>\n",
              "    </tr>\n",
              "    <tr>\n",
              "      <th>6</th>\n",
              "      <td>8836.952715</td>\n",
              "      <td>7</td>\n",
              "    </tr>\n",
              "  </tbody>\n",
              "</table>\n",
              "</div>"
            ],
            "text/plain": [
              "             0  index\n",
              "0  7626.086948      1\n",
              "1  7526.599476      2\n",
              "2  7690.725950      3\n",
              "3  7793.804550      4\n",
              "4  7850.899369      5\n",
              "5  8888.264968      6\n",
              "6  8836.952715      7"
            ]
          },
          "metadata": {
            "tags": []
          },
          "execution_count": 47
        }
      ]
    },
    {
      "cell_type": "code",
      "metadata": {
        "id": "ba2tFAy4YGVY"
      },
      "source": [
        "y_test_may = pd.DataFrame(y_test_may)[0:7]\n",
        "y_test_may['index'] = range(1,8)"
      ],
      "execution_count": null,
      "outputs": []
    },
    {
      "cell_type": "code",
      "metadata": {
        "id": "D-m1FEz7Yrrz",
        "outputId": "6a8bd0c6-91b5-464e-d424-9428034e2c45",
        "colab": {
          "base_uri": "https://localhost:8080/"
        }
      },
      "source": [
        "y_test_may"
      ],
      "execution_count": null,
      "outputs": [
        {
          "output_type": "execute_result",
          "data": {
            "text/html": [
              "<div>\n",
              "<style scoped>\n",
              "    .dataframe tbody tr th:only-of-type {\n",
              "        vertical-align: middle;\n",
              "    }\n",
              "\n",
              "    .dataframe tbody tr th {\n",
              "        vertical-align: top;\n",
              "    }\n",
              "\n",
              "    .dataframe thead th {\n",
              "        text-align: right;\n",
              "    }\n",
              "</style>\n",
              "<table border=\"1\" class=\"dataframe\">\n",
              "  <thead>\n",
              "    <tr style=\"text-align: right;\">\n",
              "      <th></th>\n",
              "      <th>BTC_close</th>\n",
              "      <th>index</th>\n",
              "    </tr>\n",
              "  </thead>\n",
              "  <tbody>\n",
              "    <tr>\n",
              "      <th>1072</th>\n",
              "      <td>8822.800000</td>\n",
              "      <td>1</td>\n",
              "    </tr>\n",
              "    <tr>\n",
              "      <th>1073</th>\n",
              "      <td>8982.300000</td>\n",
              "      <td>2</td>\n",
              "    </tr>\n",
              "    <tr>\n",
              "      <th>1074</th>\n",
              "      <td>8899.800000</td>\n",
              "      <td>3</td>\n",
              "    </tr>\n",
              "    <tr>\n",
              "      <th>1075</th>\n",
              "      <td>8865.800000</td>\n",
              "      <td>4</td>\n",
              "    </tr>\n",
              "    <tr>\n",
              "      <th>1076</th>\n",
              "      <td>9020.100000</td>\n",
              "      <td>5</td>\n",
              "    </tr>\n",
              "    <tr>\n",
              "      <th>1077</th>\n",
              "      <td>9152.470993</td>\n",
              "      <td>6</td>\n",
              "    </tr>\n",
              "    <tr>\n",
              "      <th>1078</th>\n",
              "      <td>9979.600000</td>\n",
              "      <td>7</td>\n",
              "    </tr>\n",
              "  </tbody>\n",
              "</table>\n",
              "</div>"
            ],
            "text/plain": [
              "        BTC_close  index\n",
              "1072  8822.800000      1\n",
              "1073  8982.300000      2\n",
              "1074  8899.800000      3\n",
              "1075  8865.800000      4\n",
              "1076  9020.100000      5\n",
              "1077  9152.470993      6\n",
              "1078  9979.600000      7"
            ]
          },
          "metadata": {
            "tags": []
          },
          "execution_count": 49
        }
      ]
    },
    {
      "cell_type": "code",
      "metadata": {
        "id": "-aNI35b3a23c"
      },
      "source": [
        "# merge the prediction and actual data frames\n",
        "merge_may = y_pred_may.merge(y_test_may, on='index', how='left')"
      ],
      "execution_count": null,
      "outputs": []
    },
    {
      "cell_type": "code",
      "metadata": {
        "id": "VP9P5hL-a7Nr"
      },
      "source": [
        "merge_may.columns = ['lm_prediction', 'index', 'real']"
      ],
      "execution_count": null,
      "outputs": []
    },
    {
      "cell_type": "code",
      "metadata": {
        "id": "PM11Z3tWWcSM"
      },
      "source": [
        "from sklearn.metrics import mean_squared_error"
      ],
      "execution_count": null,
      "outputs": []
    },
    {
      "cell_type": "code",
      "metadata": {
        "id": "fb8t3stwWg9l",
        "outputId": "781dec04-7b3f-4c8b-b266-76805089d636",
        "colab": {
          "base_uri": "https://localhost:8080/"
        }
      },
      "source": [
        "MSE = mean_squared_error(y_true = merge_may.real, y_pred = merge_may.lm_prediction)\n",
        "np.sqrt(MSE)"
      ],
      "execution_count": null,
      "outputs": [
        {
          "output_type": "execute_result",
          "data": {
            "text/plain": [
              "1127.8739928245245"
            ]
          },
          "metadata": {
            "tags": []
          },
          "execution_count": 53
        }
      ]
    },
    {
      "cell_type": "code",
      "metadata": {
        "id": "BHfQOIcAUoh_",
        "outputId": "791849d7-37fc-4546-ac11-1af1d2c0571a",
        "colab": {
          "base_uri": "https://localhost:8080/"
        }
      },
      "source": [
        "# Calculate the r_square value for the linear model\n",
        "r_sq = model.score(x_train_may, y_train_may)\n",
        "print('coefficient of determination:', r_sq)"
      ],
      "execution_count": null,
      "outputs": [
        {
          "output_type": "stream",
          "text": [
            "coefficient of determination: 0.8933358021588513\n"
          ],
          "name": "stdout"
        }
      ]
    },
    {
      "cell_type": "code",
      "metadata": {
        "id": "9QmwAj_bwFQG",
        "outputId": "32239658-2951-4d21-f102-2c74bd30fdca",
        "colab": {
          "base_uri": "https://localhost:8080/"
        }
      },
      "source": [
        "merge_may"
      ],
      "execution_count": null,
      "outputs": [
        {
          "output_type": "execute_result",
          "data": {
            "text/html": [
              "<div>\n",
              "<style scoped>\n",
              "    .dataframe tbody tr th:only-of-type {\n",
              "        vertical-align: middle;\n",
              "    }\n",
              "\n",
              "    .dataframe tbody tr th {\n",
              "        vertical-align: top;\n",
              "    }\n",
              "\n",
              "    .dataframe thead th {\n",
              "        text-align: right;\n",
              "    }\n",
              "</style>\n",
              "<table border=\"1\" class=\"dataframe\">\n",
              "  <thead>\n",
              "    <tr style=\"text-align: right;\">\n",
              "      <th></th>\n",
              "      <th>lm_prediction</th>\n",
              "      <th>index</th>\n",
              "      <th>real</th>\n",
              "    </tr>\n",
              "  </thead>\n",
              "  <tbody>\n",
              "    <tr>\n",
              "      <th>0</th>\n",
              "      <td>7626.086948</td>\n",
              "      <td>1</td>\n",
              "      <td>8822.800000</td>\n",
              "    </tr>\n",
              "    <tr>\n",
              "      <th>1</th>\n",
              "      <td>7526.599476</td>\n",
              "      <td>2</td>\n",
              "      <td>8982.300000</td>\n",
              "    </tr>\n",
              "    <tr>\n",
              "      <th>2</th>\n",
              "      <td>7690.725950</td>\n",
              "      <td>3</td>\n",
              "      <td>8899.800000</td>\n",
              "    </tr>\n",
              "    <tr>\n",
              "      <th>3</th>\n",
              "      <td>7793.804550</td>\n",
              "      <td>4</td>\n",
              "      <td>8865.800000</td>\n",
              "    </tr>\n",
              "    <tr>\n",
              "      <th>4</th>\n",
              "      <td>7850.899369</td>\n",
              "      <td>5</td>\n",
              "      <td>9020.100000</td>\n",
              "    </tr>\n",
              "    <tr>\n",
              "      <th>5</th>\n",
              "      <td>8888.264968</td>\n",
              "      <td>6</td>\n",
              "      <td>9152.470993</td>\n",
              "    </tr>\n",
              "    <tr>\n",
              "      <th>6</th>\n",
              "      <td>8836.952715</td>\n",
              "      <td>7</td>\n",
              "      <td>9979.600000</td>\n",
              "    </tr>\n",
              "  </tbody>\n",
              "</table>\n",
              "</div>"
            ],
            "text/plain": [
              "   lm_prediction  index         real\n",
              "0    7626.086948      1  8822.800000\n",
              "1    7526.599476      2  8982.300000\n",
              "2    7690.725950      3  8899.800000\n",
              "3    7793.804550      4  8865.800000\n",
              "4    7850.899369      5  9020.100000\n",
              "5    8888.264968      6  9152.470993\n",
              "6    8836.952715      7  9979.600000"
            ]
          },
          "metadata": {
            "tags": []
          },
          "execution_count": 55
        }
      ]
    },
    {
      "cell_type": "code",
      "metadata": {
        "id": "iHU2TMAUv7lw",
        "outputId": "86603d4e-ce6c-4840-f494-cec083a16cfa",
        "colab": {
          "base_uri": "https://localhost:8080/"
        }
      },
      "source": [
        "# Plot the predicted vs actual in matplot lib\n",
        "import matplotlib.pyplot as plt\n",
        "plt.plot( 'index', 'real', data=merge_may, marker='o', markerfacecolor='blue', markersize=12, color='skyblue', linewidth=4)\n",
        "plt.plot( 'index', 'lm_prediction', data=merge_may, marker='', color='olive', linewidth=2)\n",
        "plt.xticks(rotation='vertical')\n",
        "plt.legend()"
      ],
      "execution_count": null,
      "outputs": [
        {
          "output_type": "execute_result",
          "data": {
            "text/plain": [
              "<matplotlib.legend.Legend at 0x7f38e0381940>"
            ]
          },
          "metadata": {
            "tags": []
          },
          "execution_count": 56
        },
        {
          "output_type": "display_data",
          "data": {
            "image/png": "[encoded data removed]",
            "text/plain": [
              "<Figure size 1440x720 with 1 Axes>"
            ]
          },
          "metadata": {
            "tags": []
          }
        }
      ]
    },
    {
      "cell_type": "markdown",
      "metadata": {
        "id": "36qCf9e_ykKW"
      },
      "source": [
        "# Lasso Regression - May"
      ]
    },
    {
      "cell_type": "code",
      "metadata": {
        "id": "819tLoLsymus"
      },
      "source": [
        "from sklearn.linear_model import Lasso\n",
        "from sklearn.model_selection import GridSearchCV\n",
        "from sklearn.linear_model import Ridge, RidgeCV, Lasso, LassoCV\n",
        "from sklearn.metrics import mean_squared_error\n",
        "\n",
        "lasso = Lasso()"
      ],
      "execution_count": null,
      "outputs": []
    },
    {
      "cell_type": "code",
      "metadata": {
        "id": "bjJpfCEUy2d_"
      },
      "source": [
        "params = {'alpha': [1e-15, 1e-10, 1e-8, 1e-4, 1e-3, 1e-2, 1, 5, 10, 20]}"
      ],
      "execution_count": null,
      "outputs": []
    },
    {
      "cell_type": "code",
      "metadata": {
        "id": "ma-DG8VmzGj9"
      },
      "source": [
        "lasso_regressor = LassoCV(alphas = None, cv = 10, max_iter = 100000, normalize = True)#GridSearchCV(lasso, params, scoring = 'neg_mean_squared_error', cv=5)"
      ],
      "execution_count": null,
      "outputs": []
    },
    {
      "cell_type": "code",
      "metadata": {
        "id": "ZgIfJVNkzeWM"
      },
      "source": [
        "lasso = lasso_regressor.fit(x_train_may, y_train_may)"
      ],
      "execution_count": null,
      "outputs": []
    },
    {
      "cell_type": "code",
      "metadata": {
        "id": "Y2GU1kLu0Nji"
      },
      "source": [
        "# Predict the model on the x_test data\n",
        "y_pred_may_lasso = pd.DataFrame(lasso.predict(x_test_may))\n",
        "y_pred_may_lasso['index'] = range(1,8)"
      ],
      "execution_count": null,
      "outputs": []
    },
    {
      "cell_type": "code",
      "metadata": {
        "id": "0pgCGopx0Njn",
        "outputId": "188f97ba-7825-43d1-b96b-786771d70936",
        "colab": {
          "base_uri": "https://localhost:8080/"
        }
      },
      "source": [
        "y_pred_may_lasso"
      ],
      "execution_count": null,
      "outputs": [
        {
          "output_type": "execute_result",
          "data": {
            "text/html": [
              "<div>\n",
              "<style scoped>\n",
              "    .dataframe tbody tr th:only-of-type {\n",
              "        vertical-align: middle;\n",
              "    }\n",
              "\n",
              "    .dataframe tbody tr th {\n",
              "        vertical-align: top;\n",
              "    }\n",
              "\n",
              "    .dataframe thead th {\n",
              "        text-align: right;\n",
              "    }\n",
              "</style>\n",
              "<table border=\"1\" class=\"dataframe\">\n",
              "  <thead>\n",
              "    <tr style=\"text-align: right;\">\n",
              "      <th></th>\n",
              "      <th>0</th>\n",
              "      <th>index</th>\n",
              "    </tr>\n",
              "  </thead>\n",
              "  <tbody>\n",
              "    <tr>\n",
              "      <th>0</th>\n",
              "      <td>7619.051456</td>\n",
              "      <td>1</td>\n",
              "    </tr>\n",
              "    <tr>\n",
              "      <th>1</th>\n",
              "      <td>7540.843968</td>\n",
              "      <td>2</td>\n",
              "    </tr>\n",
              "    <tr>\n",
              "      <th>2</th>\n",
              "      <td>7704.844636</td>\n",
              "      <td>3</td>\n",
              "    </tr>\n",
              "    <tr>\n",
              "      <th>3</th>\n",
              "      <td>7797.110522</td>\n",
              "      <td>4</td>\n",
              "    </tr>\n",
              "    <tr>\n",
              "      <th>4</th>\n",
              "      <td>7814.768118</td>\n",
              "      <td>5</td>\n",
              "    </tr>\n",
              "    <tr>\n",
              "      <th>5</th>\n",
              "      <td>8932.928478</td>\n",
              "      <td>6</td>\n",
              "    </tr>\n",
              "    <tr>\n",
              "      <th>6</th>\n",
              "      <td>8831.216923</td>\n",
              "      <td>7</td>\n",
              "    </tr>\n",
              "  </tbody>\n",
              "</table>\n",
              "</div>"
            ],
            "text/plain": [
              "             0  index\n",
              "0  7619.051456      1\n",
              "1  7540.843968      2\n",
              "2  7704.844636      3\n",
              "3  7797.110522      4\n",
              "4  7814.768118      5\n",
              "5  8932.928478      6\n",
              "6  8831.216923      7"
            ]
          },
          "metadata": {
            "tags": []
          },
          "execution_count": 62
        }
      ]
    },
    {
      "cell_type": "code",
      "metadata": {
        "id": "mIijND_G0Njz"
      },
      "source": [
        "# merge the prediction and actual data frames\n",
        "merge_may = merge_may.merge(y_pred_may_lasso, on='index', how='left')"
      ],
      "execution_count": null,
      "outputs": []
    },
    {
      "cell_type": "code",
      "metadata": {
        "id": "nOOxKZbJ05UG",
        "outputId": "579377bf-7455-4b8a-99c2-821f7ca51594",
        "colab": {
          "base_uri": "https://localhost:8080/"
        }
      },
      "source": [
        "merge_may"
      ],
      "execution_count": null,
      "outputs": [
        {
          "output_type": "execute_result",
          "data": {
            "text/html": [
              "<div>\n",
              "<style scoped>\n",
              "    .dataframe tbody tr th:only-of-type {\n",
              "        vertical-align: middle;\n",
              "    }\n",
              "\n",
              "    .dataframe tbody tr th {\n",
              "        vertical-align: top;\n",
              "    }\n",
              "\n",
              "    .dataframe thead th {\n",
              "        text-align: right;\n",
              "    }\n",
              "</style>\n",
              "<table border=\"1\" class=\"dataframe\">\n",
              "  <thead>\n",
              "    <tr style=\"text-align: right;\">\n",
              "      <th></th>\n",
              "      <th>lm_prediction</th>\n",
              "      <th>index</th>\n",
              "      <th>real</th>\n",
              "      <th>0</th>\n",
              "    </tr>\n",
              "  </thead>\n",
              "  <tbody>\n",
              "    <tr>\n",
              "      <th>0</th>\n",
              "      <td>7626.086948</td>\n",
              "      <td>1</td>\n",
              "      <td>8822.800000</td>\n",
              "      <td>7619.051456</td>\n",
              "    </tr>\n",
              "    <tr>\n",
              "      <th>1</th>\n",
              "      <td>7526.599476</td>\n",
              "      <td>2</td>\n",
              "      <td>8982.300000</td>\n",
              "      <td>7540.843968</td>\n",
              "    </tr>\n",
              "    <tr>\n",
              "      <th>2</th>\n",
              "      <td>7690.725950</td>\n",
              "      <td>3</td>\n",
              "      <td>8899.800000</td>\n",
              "      <td>7704.844636</td>\n",
              "    </tr>\n",
              "    <tr>\n",
              "      <th>3</th>\n",
              "      <td>7793.804550</td>\n",
              "      <td>4</td>\n",
              "      <td>8865.800000</td>\n",
              "      <td>7797.110522</td>\n",
              "    </tr>\n",
              "    <tr>\n",
              "      <th>4</th>\n",
              "      <td>7850.899369</td>\n",
              "      <td>5</td>\n",
              "      <td>9020.100000</td>\n",
              "      <td>7814.768118</td>\n",
              "    </tr>\n",
              "    <tr>\n",
              "      <th>5</th>\n",
              "      <td>8888.264968</td>\n",
              "      <td>6</td>\n",
              "      <td>9152.470993</td>\n",
              "      <td>8932.928478</td>\n",
              "    </tr>\n",
              "    <tr>\n",
              "      <th>6</th>\n",
              "      <td>8836.952715</td>\n",
              "      <td>7</td>\n",
              "      <td>9979.600000</td>\n",
              "      <td>8831.216923</td>\n",
              "    </tr>\n",
              "  </tbody>\n",
              "</table>\n",
              "</div>"
            ],
            "text/plain": [
              "   lm_prediction  index         real            0\n",
              "0    7626.086948      1  8822.800000  7619.051456\n",
              "1    7526.599476      2  8982.300000  7540.843968\n",
              "2    7690.725950      3  8899.800000  7704.844636\n",
              "3    7793.804550      4  8865.800000  7797.110522\n",
              "4    7850.899369      5  9020.100000  7814.768118\n",
              "5    8888.264968      6  9152.470993  8932.928478\n",
              "6    8836.952715      7  9979.600000  8831.216923"
            ]
          },
          "metadata": {
            "tags": []
          },
          "execution_count": 64
        }
      ]
    },
    {
      "cell_type": "code",
      "metadata": {
        "id": "x8fiCOOU0Nj2"
      },
      "source": [
        "merge_may.columns = ['lm_prediction', 'index', 'real', 'lasso_prediction']"
      ],
      "execution_count": null,
      "outputs": []
    },
    {
      "cell_type": "code",
      "metadata": {
        "id": "moefHSVV0Nj9",
        "outputId": "47632568-260f-4166-9e3b-d8f4f0b388b7",
        "colab": {
          "base_uri": "https://localhost:8080/"
        }
      },
      "source": [
        "MSE = mean_squared_error(y_true = merge_may.real, y_pred = merge_may.lasso_prediction)\n",
        "np.sqrt(MSE)"
      ],
      "execution_count": null,
      "outputs": [
        {
          "output_type": "execute_result",
          "data": {
            "text/plain": [
              "1128.6293280870077"
            ]
          },
          "metadata": {
            "tags": []
          },
          "execution_count": 66
        }
      ]
    },
    {
      "cell_type": "code",
      "metadata": {
        "id": "4ymq3Wm00NkI",
        "outputId": "0260cb71-ae6a-4bed-db14-1911714afbe7",
        "colab": {
          "base_uri": "https://localhost:8080/"
        }
      },
      "source": [
        "# Plot the predicted vs actual in matplot lib\n",
        "import matplotlib.pyplot as plt\n",
        "plt.plot( 'index', 'real', data=merge_may, marker='o', markerfacecolor='blue', markersize=12, color='skyblue', linewidth=4)\n",
        "plt.plot( 'index', 'lm_prediction', data=merge_may, marker='', color='olive', linewidth=2)\n",
        "plt.plot( 'index', 'lasso_prediction', data=merge_may, marker='', color='red', linewidth=2)\n",
        "plt.xticks(rotation='vertical')\n",
        "plt.legend()"
      ],
      "execution_count": null,
      "outputs": [
        {
          "output_type": "execute_result",
          "data": {
            "text/plain": [
              "<matplotlib.legend.Legend at 0x7f38e02ff0f0>"
            ]
          },
          "metadata": {
            "tags": []
          },
          "execution_count": 67
        },
        {
          "output_type": "display_data",
          "data": {
            "image/png": "[encoded data removed]",
            "text/plain": [
              "<Figure size 1440x720 with 1 Axes>"
            ]
          },
          "metadata": {
            "tags": []
          }
        }
      ]
    },
    {
      "cell_type": "markdown",
      "metadata": {
        "id": "dT41mQAHU8YL"
      },
      "source": [
        "# Support Vector Regression - May"
      ]
    },
    {
      "cell_type": "code",
      "metadata": {
        "id": "Ct1pbhN5U_0t"
      },
      "source": [
        "# Import the algorithm package\n",
        "from sklearn.svm import SVR\n",
        "from sklearn.pipeline import make_pipeline\n",
        "from sklearn.preprocessing import StandardScaler"
      ],
      "execution_count": null,
      "outputs": []
    },
    {
      "cell_type": "code",
      "metadata": {
        "id": "2V1qN2Kfb0JS"
      },
      "source": [
        "y_train_may = pd.DataFrame(y_train_may)"
      ],
      "execution_count": null,
      "outputs": []
    },
    {
      "cell_type": "code",
      "metadata": {
        "id": "rXIRmeNwdMsB",
        "outputId": "5626f187-4472-43ff-d02d-847ce0362e24",
        "colab": {
          "base_uri": "https://localhost:8080/",
          "height": 1000
        }
      },
      "source": [
        "y_train_may.BTC_close"
      ],
      "execution_count": null,
      "outputs": [
        {
          "output_type": "execute_result",
          "data": {
            "text/plain": [
              "2        1980.200000\n",
              "3        2056.900000\n",
              "4        2207.400000\n",
              "5        2146.700000\n",
              "6        2191.825454\n",
              "7        2312.000000\n",
              "8        2405.900000\n",
              "9        2461.000000\n",
              "10       2488.200000\n",
              "11       2636.900000\n",
              "12       2844.600000\n",
              "13       2644.000000\n",
              "14       2781.500000\n",
              "15       2809.000000\n",
              "16       2806.000000\n",
              "17       2941.800000\n",
              "18       2569.600000\n",
              "19       2677.100000\n",
              "20       2394.300000\n",
              "21       2377.500000\n",
              "22       2437.500000\n",
              "23       2610.100000\n",
              "24       2491.400000\n",
              "25       2582.000000\n",
              "26       2715.300000\n",
              "27       2624.400000\n",
              "28       2672.800000\n",
              "29       2674.900000\n",
              "30       2502.600000\n",
              "31       2483.300000\n",
              "32       2393.600000\n",
              "33       2521.200000\n",
              "34       2518.200000\n",
              "35       2472.400000\n",
              "36       2420.600000\n",
              "37       2346.200000\n",
              "38       2445.100000\n",
              "39       2524.000000\n",
              "40       2579.900000\n",
              "41       2598.600000\n",
              "42       2593.200000\n",
              "43       2479.300000\n",
              "44       2542.000000\n",
              "45       2477.900000\n",
              "46       2318.300000\n",
              "47       2283.800000\n",
              "48       2375.600000\n",
              "49       2330.100000\n",
              "50       2206.500000\n",
              "51       1978.600000\n",
              "52       1925.000000\n",
              "53       2220.000000\n",
              "54       2302.800000\n",
              "55       2253.400000\n",
              "56       2865.100000\n",
              "57       2659.000000\n",
              "58       2844.700000\n",
              "59       2750.100000\n",
              "60       2769.700000\n",
              "61       2560.900000\n",
              "62       2527.738120\n",
              "63       2664.600000\n",
              "64       2784.800000\n",
              "65       2713.100000\n",
              "66       2748.200000\n",
              "67       2854.300000\n",
              "68       2731.300000\n",
              "69       2702.000000\n",
              "70       2790.300000\n",
              "71       2860.000000\n",
              "72       3252.300000\n",
              "73       3232.100000\n",
              "74       3396.000000\n",
              "75       3415.000000\n",
              "76       3340.400000\n",
              "77       3405.000000\n",
              "78       3643.400000\n",
              "79       3866.200000\n",
              "80       4061.600000\n",
              "81       4320.800000\n",
              "82       4151.800000\n",
              "83       4386.400000\n",
              "84       4263.000000\n",
              "85       4090.100000\n",
              "86       4145.000000\n",
              "87       4063.100000\n",
              "88       3998.200000\n",
              "89       4081.900000\n",
              "90       4130.200000\n",
              "91       4322.100000\n",
              "92       4351.500000\n",
              "93       4340.400000\n",
              "94       4335.200000\n",
              "95       4385.100000\n",
              "96       4587.100000\n",
              "97       4568.000000\n",
              "98       4718.300000\n",
              "99       4907.700000\n",
              "100      4532.300000\n",
              "101      4598.500000\n",
              "102      4205.000000\n",
              "103      4375.000000\n",
              "104      4595.800000\n",
              "105      4613.700000\n",
              "106      4304.000000\n",
              "107      4315.900000\n",
              "108      4233.900000\n",
              "109      4198.700000\n",
              "110      4149.400000\n",
              "111      3849.700000\n",
              "112      3235.300000\n",
              "113      3697.100000\n",
              "114      3681.500000\n",
              "115      3666.600000\n",
              "116      4084.400000\n",
              "117      3892.200000\n",
              "118      3872.400000\n",
              "119      3596.700000\n",
              "120      3602.300000\n",
              "121      3779.600000\n",
              "122      3654.700000\n",
              "123      3930.100000\n",
              "124      3881.500000\n",
              "125      4209.700000\n",
              "126      4190.000000\n",
              "127      4168.000000\n",
              "128      4367.100000\n",
              "129      4404.300000\n",
              "130      4400.200000\n",
              "131      4310.600000\n",
              "132      4215.900000\n",
              "133      4312.000000\n",
              "134      4370.000000\n",
              "135      4435.600000\n",
              "136      4611.900000\n",
              "137      4782.300000\n",
              "138      4777.700000\n",
              "139      4824.900000\n",
              "140      5440.000000\n",
              "141      5636.800000\n",
              "142      5833.500000\n",
              "143      5713.900000\n",
              "144      5764.800000\n",
              "145      5597.100000\n",
              "146      5567.000000\n",
              "147      5694.200000\n",
              "148      5983.800000\n",
              "149      6005.100000\n",
              "150      5981.300000\n",
              "151      5907.300000\n",
              "152      5510.000000\n",
              "153      5724.100000\n",
              "154      5890.000000\n",
              "155      5759.700000\n",
              "156      5720.300000\n",
              "157      6150.000000\n",
              "158      6130.000000\n",
              "159      6455.100000\n",
              "160      6739.600000\n",
              "161      7018.800000\n",
              "162      7132.000000\n",
              "163      7369.900000\n",
              "164      7366.700000\n",
              "165      6956.500000\n",
              "166      7102.000000\n",
              "167      7446.100000\n",
              "168      7126.400000\n",
              "169      6548.000000\n",
              "170      6302.700000\n",
              "171      5810.700000\n",
              "172      6476.500000\n",
              "173      6590.000000\n",
              "174      7265.840952\n",
              "175      7865.200000\n",
              "176      7675.900000\n",
              "177      7773.300000\n",
              "178      8052.700000\n",
              "179      8248.800000\n",
              "180      8096.900000\n",
              "181      8230.000000\n",
              "182      7977.100000\n",
              "183      8191.700000\n",
              "184      8753.400000\n",
              "185      9305.100000\n",
              "186      9723.600000\n",
              "187      9892.100000\n",
              "188      9766.100000\n",
              "189      9907.000000\n",
              "190     10860.000000\n",
              "191     10880.000000\n",
              "192     11162.000000\n",
              "193     11599.000000\n",
              "194     11592.000000\n",
              "195     13509.000000\n",
              "196     16609.000000\n",
              "197     15822.000000\n",
              "198     14661.000000\n",
              "199     14960.000000\n",
              "200     16753.000000\n",
              "201     16972.000000\n",
              "202     16171.000000\n",
              "203     16384.000000\n",
              "204     17569.000000\n",
              "205     19210.000000\n",
              "206     18960.000000\n",
              "207     18928.000000\n",
              "208     17345.000000\n",
              "209     16425.000000\n",
              "210     15645.000000\n",
              "211     13173.000000\n",
              "212     14035.000000\n",
              "213     13477.000000\n",
              "214     13633.000000\n",
              "215     15680.000000\n",
              "216     15375.000000\n",
              "217     14323.000000\n",
              "218     14304.000000\n",
              "219     12384.000000\n",
              "220     13769.000000\n",
              "221     13376.000000\n",
              "222     14722.000000\n",
              "223     15150.000000\n",
              "224     15159.000000\n",
              "225     16911.000000\n",
              "226     17169.000000\n",
              "227     16215.357280\n",
              "228     14906.000000\n",
              "229     14425.000000\n",
              "230     14900.000000\n",
              "231     13254.000000\n",
              "232     13794.000000\n",
              "233     14199.000000\n",
              "234     13558.000000\n",
              "235     13601.000000\n",
              "236     11065.000000\n",
              "237     11108.000000\n",
              "238     11030.000000\n",
              "239     11476.000000\n",
              "240     12731.000000\n",
              "241     11514.000000\n",
              "242     10779.000000\n",
              "243     10811.000000\n",
              "244     11391.000000\n",
              "245     11147.000000\n",
              "246     11070.000000\n",
              "247     11458.000000\n",
              "248     11828.000000\n",
              "249     11217.817685\n",
              "250     10171.000000\n",
              "251     10267.000000\n",
              "252      9181.000000\n",
              "253      8890.900000\n",
              "254      9225.069266\n",
              "255      8185.200000\n",
              "256      6946.600000\n",
              "257      7678.800000\n",
              "258      7586.900000\n",
              "259      8239.700000\n",
              "260      8678.100000\n",
              "261      8563.000000\n",
              "262      8069.300000\n",
              "263      8902.900000\n",
              "264      8511.600000\n",
              "265      9455.500000\n",
              "266      9996.000000\n",
              "267     10162.000000\n",
              "268     11062.000000\n",
              "269     10400.000000\n",
              "270     11172.000000\n",
              "271     11211.000000\n",
              "272     10450.000000\n",
              "273      9826.500000\n",
              "274     10144.000000\n",
              "275      9666.300000\n",
              "276      9583.000000\n",
              "277     10320.000000\n",
              "278     10582.000000\n",
              "279     10315.000000\n",
              "280     10908.000000\n",
              "281     11024.000000\n",
              "282     11454.959552\n",
              "283     11500.000000\n",
              "284     11402.000000\n",
              "285     10720.000000\n",
              "286      9910.600000\n",
              "287      9300.000000\n",
              "288      9216.200000\n",
              "289      8769.900000\n",
              "290      9527.700000\n",
              "291      9130.200000\n",
              "292      9135.200000\n",
              "293      8176.000000\n",
              "294      8250.100000\n",
              "295      8250.000000\n",
              "296      7845.000000\n",
              "297      8200.300000\n",
              "298      8600.200000\n",
              "299      8899.700000\n",
              "300      8888.200000\n",
              "301      8699.300000\n",
              "302      8914.400000\n",
              "303      8522.600000\n",
              "304      8445.000000\n",
              "305      8131.123124\n",
              "306      7784.600000\n",
              "307      7936.000000\n",
              "308      7094.000000\n",
              "309      6840.400000\n",
              "310      6925.400000\n",
              "311      6816.600000\n",
              "312      7053.300000\n",
              "313      7405.600000\n",
              "314      6786.000000\n",
              "315      6769.000000\n",
              "316      6610.000000\n",
              "317      6892.600000\n",
              "318      7023.900000\n",
              "319      6770.100000\n",
              "320      6837.100000\n",
              "321      6943.100000\n",
              "322      7912.000000\n",
              "323      7886.900000\n",
              "324      8005.903243\n",
              "325      8357.500000\n",
              "326      8056.200000\n",
              "327      7888.900000\n",
              "328      8171.000000\n",
              "329      8273.000000\n",
              "330      8865.400000\n",
              "331      8912.500000\n",
              "332      8791.400000\n",
              "333      8940.000000\n",
              "334      9646.800000\n",
              "335      8869.200000\n",
              "336      9269.900000\n",
              "337      8920.100000\n",
              "338      9345.700000\n",
              "339      9400.000000\n",
              "340      9240.600000\n",
              "341      9068.200000\n",
              "342      9236.400000\n",
              "343      9759.000000\n",
              "344      9703.000000\n",
              "345      9861.200000\n",
              "346      9658.700000\n",
              "347      9370.000000\n",
              "348      9184.700000\n",
              "349      9318.200000\n",
              "350      9018.000000\n",
              "351      8412.400000\n",
              "352      8470.800000\n",
              "353      8683.600000\n",
              "354      8670.800000\n",
              "355      8467.500000\n",
              "356      8336.100000\n",
              "357      8054.300000\n",
              "358      8238.900000\n",
              "359      8231.000000\n",
              "360      8523.700000\n",
              "361      8399.600000\n",
              "362      7977.850045\n",
              "363      7494.800000\n",
              "364      7576.700000\n",
              "365      7456.700000\n",
              "366      7327.700000\n",
              "367      7339.700000\n",
              "368      7097.900000\n",
              "369      7465.200000\n",
              "370      7375.120853\n",
              "371      7485.800000\n",
              "372      7521.000000\n",
              "373      7638.100000\n",
              "374      7718.000000\n",
              "375      7488.300000\n",
              "376      7621.900000\n",
              "377      7654.000000\n",
              "378      7688.900000\n",
              "379      7615.100000\n",
              "380      7498.500000\n",
              "381      6758.000000\n",
              "382      6873.300000\n",
              "383      6543.900000\n",
              "384      6295.100000\n",
              "385      6633.700000\n",
              "386      6385.000000\n",
              "387      6485.900000\n",
              "388      6438.400000\n",
              "389      6709.200000\n",
              "390      6735.500000\n",
              "391      6760.400000\n",
              "392      6715.200000\n",
              "393      6042.600000\n",
              "394      6151.927649\n",
              "395      6148.039060\n",
              "396      6246.600000\n",
              "397      6073.400000\n",
              "398      6133.086682\n",
              "399      5848.100000\n",
              "400      6208.100000\n",
              "401      6391.500000\n",
              "402      6349.700000\n",
              "403      6617.600000\n",
              "404      6509.000000\n",
              "405      6590.000000\n",
              "406      6531.300000\n",
              "407      6602.200000\n",
              "408      6761.800000\n",
              "409      6707.000000\n",
              "410      6666.900000\n",
              "411      6301.800000\n",
              "412      6377.800000\n",
              "413      6249.000000\n",
              "414      6220.000000\n",
              "415      6250.000000\n",
              "416      6347.200000\n",
              "417      6729.200000\n",
              "418      7319.800000\n",
              "419      7379.400000\n",
              "420      7473.500000\n",
              "421      7333.100000\n",
              "422      7403.400000\n",
              "423      7397.600000\n",
              "424      7719.800000\n",
              "425      8390.000000\n",
              "426      8178.400000\n",
              "427      7939.000000\n",
              "428      8188.000000\n",
              "429      8235.600000\n",
              "430      8221.000000\n",
              "431      8179.500000\n",
              "432      7731.300000\n",
              "433      7606.000000\n",
              "434      7535.200000\n",
              "435      7420.000000\n",
              "436      7013.215655\n",
              "437      7025.800000\n",
              "438      6941.200000\n",
              "439      6718.800000\n",
              "440      6280.700000\n",
              "441      6533.600000\n",
              "442      6146.700000\n",
              "443      6233.100000\n",
              "444      6313.900000\n",
              "445      6251.900000\n",
              "446      6189.000000\n",
              "447      6270.200000\n",
              "448      6315.600000\n",
              "449      6584.046497\n",
              "450      6391.200000\n",
              "451      6485.100000\n",
              "452      6255.900000\n",
              "453      6479.100000\n",
              "454      6363.800000\n",
              "455      6527.200000\n",
              "456      6693.600000\n",
              "457      6732.900000\n",
              "458      6707.000000\n",
              "459      6909.400000\n",
              "460      7079.900000\n",
              "461      7039.000000\n",
              "462      6986.000000\n",
              "463      7014.600000\n",
              "464      7197.400000\n",
              "465      7300.000000\n",
              "466      7267.800000\n",
              "467      7358.900000\n",
              "468      6704.000000\n",
              "469      6516.100000\n",
              "470      6397.000000\n",
              "471      6184.944416\n",
              "472      6239.900000\n",
              "473      6314.900000\n",
              "474      6290.900000\n",
              "475      6332.416722\n",
              "476      6489.000000\n",
              "477      6480.100000\n",
              "478      6512.800000\n",
              "479      6498.400000\n",
              "480      6252.000000\n",
              "481      6335.400000\n",
              "482      6390.900000\n",
              "483      6493.907482\n",
              "484      6762.100000\n",
              "485      6723.000000\n",
              "486      6710.000000\n",
              "487      6585.100000\n",
              "488      6442.800000\n",
              "489      6462.400000\n",
              "490      6691.200000\n",
              "491      6635.200000\n",
              "492      6597.300000\n",
              "493      6622.400000\n",
              "494      6601.900000\n",
              "495      6527.500000\n",
              "496      6503.200000\n",
              "497      6590.400000\n",
              "498      6639.900000\n",
              "499      6595.200000\n",
              "500      6609.400000\n",
              "501      6673.200000\n",
              "502      6663.000000\n",
              "503      6630.074458\n",
              "504      6251.900000\n",
              "505      6291.900000\n",
              "506      6326.500000\n",
              "507      6336.400000\n",
              "508      6742.000000\n",
              "509      6754.200000\n",
              "510      6736.000000\n",
              "511      6613.200000\n",
              "512      6525.100000\n",
              "513      6581.500000\n",
              "514      6590.900000\n",
              "515      6567.300000\n",
              "516      6550.000000\n",
              "517      6554.100000\n",
              "518      6528.000000\n",
              "519      6531.477226\n",
              "520      6500.200000\n",
              "521      6490.100000\n",
              "522      6346.500000\n",
              "523      6330.100000\n",
              "524      6368.387159\n",
              "525      6406.100000\n",
              "526      6427.000000\n",
              "527      6389.100000\n",
              "528      6491.700000\n",
              "529      6470.200000\n",
              "530      6522.200000\n",
              "531      6572.900000\n",
              "532      6475.300000\n",
              "533      6418.700000\n",
              "534      6431.100000\n",
              "535      6447.900000\n",
              "536      6446.900000\n",
              "537      6459.069427\n",
              "538      5922.400000\n",
              "539      5749.600000\n",
              "540      5655.700000\n",
              "541      5628.300000\n",
              "542      5659.500000\n",
              "543      4920.700000\n",
              "544      4571.000000\n",
              "545      4662.700000\n",
              "546      4369.600000\n",
              "547      4422.700000\n",
              "548      3929.900000\n",
              "549      4089.100000\n",
              "550      3864.100000\n",
              "551      3882.700000\n",
              "552      4305.000000\n",
              "553      4321.900000\n",
              "554      4039.500000\n",
              "555      4241.300000\n",
              "556      4173.000000\n",
              "557      3901.200000\n",
              "558      3981.900000\n",
              "559      3772.900000\n",
              "560      3531.000000\n",
              "561      3460.000000\n",
              "562      3506.000000\n",
              "563      3642.300000\n",
              "564      3523.000000\n",
              "565      3435.281378\n",
              "566      3535.600000\n",
              "567      3354.300000\n",
              "568      3281.700000\n",
              "569      3283.400000\n",
              "570      3301.500000\n",
              "571      3625.000000\n",
              "572      3780.800000\n",
              "573      3810.000000\n",
              "574      4214.500000\n",
              "575      3976.000000\n",
              "576      4135.000000\n",
              "577      4071.700000\n",
              "578      4140.700000\n",
              "579      3909.700000\n",
              "580      3930.000000\n",
              "581      3712.000000\n",
              "582      4036.700000\n",
              "583      3894.000000\n",
              "584      3977.300000\n",
              "585      3830.500000\n",
              "586      3963.100000\n",
              "587      4048.800000\n",
              "588      3924.300000\n",
              "589      3954.900000\n",
              "590      3911.900000\n",
              "591      4168.400000\n",
              "592      4113.900000\n",
              "593      4100.000000\n",
              "594      4083.300000\n",
              "595      3712.800000\n",
              "596      3714.800000\n",
              "597      3702.000000\n",
              "598      3591.000000\n",
              "599      3749.300000\n",
              "600      3654.300000\n",
              "601      3673.600000\n",
              "602      3722.500000\n",
              "603      3675.700000\n",
              "604      3762.300000\n",
              "605      3586.100000\n",
              "606      3579.400000\n",
              "607      3639.100000\n",
              "608      3622.300000\n",
              "609      3652.705104\n",
              "610      3628.900000\n",
              "611      3631.200000\n",
              "612      3597.100000\n",
              "613      3501.885930\n",
              "614      3477.900000\n",
              "615      3529.600000\n",
              "616      3503.800000\n",
              "617      3534.770523\n",
              "618      3564.200000\n",
              "619      3501.738671\n",
              "620      3490.468742\n",
              "621      3513.000000\n",
              "622      3451.900000\n",
              "623      3438.400000\n",
              "624      3724.000000\n",
              "625      3718.300000\n",
              "626      3747.700000\n",
              "627      3681.080535\n",
              "628      3694.200000\n",
              "629      3666.100000\n",
              "630      3656.700000\n",
              "631      3670.100000\n",
              "632      3676.445669\n",
              "633      3735.500000\n",
              "634      3978.100000\n",
              "635      3989.900000\n",
              "636      4055.000000\n",
              "637      4008.800000\n",
              "638      4058.300000\n",
              "639      4212.200000\n",
              "640      3831.300000\n",
              "641      3921.800000\n",
              "642      3896.800000\n",
              "643      3900.100000\n",
              "644      3894.000000\n",
              "645      3914.000000\n",
              "646      3913.000000\n",
              "647      3885.000000\n",
              "648      3800.300000\n",
              "649      3951.600000\n",
              "650      3951.400000\n",
              "651      3964.400000\n",
              "652      3940.500000\n",
              "653      4017.331295\n",
              "654      4000.000000\n",
              "655      3949.100000\n",
              "656      3954.100000\n",
              "657      3946.200000\n",
              "658      3948.300000\n",
              "659      4003.200000\n",
              "660      4088.038266\n",
              "661      4068.900000\n",
              "662      4073.700000\n",
              "663      4104.593289\n",
              "664      4127.161896\n",
              "665      4044.800000\n",
              "666      4045.200000\n",
              "667      4063.200000\n",
              "668      4041.400000\n",
              "669      3970.000000\n",
              "670      3992.700000\n",
              "671      4102.500000\n",
              "672      4092.567835\n",
              "673      4179.000000\n",
              "674      4165.103626\n",
              "675      4167.500000\n",
              "676      4196.804213\n",
              "677      4922.100000\n",
              "678      4978.000000\n",
              "679      4938.900000\n",
              "680      5083.000000\n",
              "681      5091.100000\n",
              "682      5238.000000\n",
              "683      5312.400000\n",
              "684      5216.300000\n",
              "685      5310.100000\n",
              "686      5059.000000\n",
              "687      5114.000000\n",
              "688      5103.700000\n",
              "689      5194.400000\n",
              "690      5042.787201\n",
              "691      5234.400000\n",
              "692      5254.500000\n",
              "693      5310.863933\n",
              "694      5314.100000\n",
              "695      5340.039265\n",
              "696      5321.900000\n",
              "697      5417.800000\n",
              "698      5546.100000\n",
              "699      5479.600000\n",
              "700      5215.600000\n",
              "701      5410.900000\n",
              "702      5401.900000\n",
              "703      5486.800000\n",
              "704      5480.100000\n",
              "705      5599.522730\n",
              "706      5629.500000\n",
              "707      5723.800000\n",
              "708      6017.000000\n",
              "709      6098.100000\n",
              "710      6041.402123\n",
              "711      6027.900000\n",
              "712      6100.000000\n",
              "713      6201.500000\n",
              "714      6262.000000\n",
              "715      6438.700000\n",
              "716      7125.100000\n",
              "717      6983.400000\n",
              "718      7770.700000\n",
              "719      7951.900000\n",
              "720      8136.634176\n",
              "721      7859.700000\n",
              "722      7417.900000\n",
              "723      7260.100000\n",
              "724      8188.300000\n",
              "725      7990.600000\n",
              "726      7931.711475\n",
              "727      7620.000000\n",
              "728      7871.900000\n",
              "729      7990.000000\n",
              "730      8055.000000\n",
              "731      8729.871366\n",
              "732      8806.100000\n",
              "733      8738.100000\n",
              "734      8678.000000\n",
              "735      8270.000000\n",
              "736      8532.665911\n",
              "737      8547.000000\n",
              "738      8740.100000\n",
              "739      8099.200000\n",
              "740      7692.900000\n",
              "741      7789.300000\n",
              "742      7824.700000\n",
              "743      7999.400000\n",
              "744      7924.000000\n",
              "745      7633.300000\n",
              "746      8018.800000\n",
              "747      7905.500000\n",
              "748      8174.000000\n",
              "749      8227.400000\n",
              "750      8689.100000\n",
              "751      8856.000000\n",
              "752      8985.900000\n",
              "753      9354.300000\n",
              "754      9095.000000\n",
              "755      9305.900000\n",
              "756      9557.100000\n",
              "757     10213.039960\n",
              "758     10744.000000\n",
              "759     10913.000000\n",
              "760     11069.000000\n",
              "761     11737.000000\n",
              "762     12876.000000\n",
              "763     11198.921901\n",
              "764     12338.000000\n",
              "765     11920.000000\n",
              "766     10809.000000\n",
              "767     10640.000000\n",
              "768     10885.000000\n",
              "769     11982.000000\n",
              "770     11162.485686\n",
              "771     11003.000000\n",
              "772     11281.000000\n",
              "773     11485.000000\n",
              "774     12301.000000\n",
              "775     12558.000000\n",
              "776     12093.000000\n",
              "777     11340.000000\n",
              "778     11765.000000\n",
              "779     11312.000000\n",
              "780     10204.000000\n",
              "781     10820.875735\n",
              "782      9423.800000\n",
              "783      9682.600000\n",
              "784     10622.000000\n",
              "785     10518.000000\n",
              "786     10740.000000\n",
              "787     10569.434912\n",
              "788     10328.000000\n",
              "789      9859.000000\n",
              "790      9768.968112\n",
              "791      9890.100000\n",
              "792      9840.300000\n",
              "793      9469.000000\n",
              "794      9519.000000\n",
              "795      9507.000000\n",
              "796      9588.996764\n",
              "797     10088.000000\n",
              "798     10400.000000\n",
              "799     10520.000000\n",
              "800     10822.000000\n",
              "801     10973.000000\n",
              "802     11824.000000\n",
              "803     11472.000000\n",
              "804     11999.000000\n",
              "805     12050.000000\n",
              "806     11891.000000\n",
              "807     11311.400285\n",
              "808     11565.357744\n",
              "809     11404.000000\n",
              "810     10904.010686\n",
              "811     10064.558229\n",
              "812     10324.265494\n",
              "813     10369.000000\n",
              "814     10228.000000\n",
              "815     10332.192078\n",
              "816     10938.000000\n",
              "817     10792.135760\n",
              "818     10146.954416\n",
              "819     10117.000000\n",
              "820     10408.000000\n",
              "821     10154.000000\n",
              "822     10132.000000\n",
              "823     10377.000000\n",
              "824     10184.000000\n",
              "825      9727.400000\n",
              "826      9509.400000\n",
              "827      9601.000000\n",
              "828      9623.900000\n",
              "829      9779.100000\n",
              "830     10388.000000\n",
              "831     10641.000000\n",
              "832     10590.000000\n",
              "833     10582.926521\n",
              "834     10305.000000\n",
              "835     10489.000000\n",
              "836     10415.000000\n",
              "837     10317.000000\n",
              "838     10121.000000\n",
              "839     10175.000000\n",
              "840     10452.000000\n",
              "841     10374.000000\n",
              "842     10380.000000\n",
              "843     10321.000000\n",
              "844     10290.000000\n",
              "845     10214.083197\n",
              "846     10185.000000\n",
              "847     10301.000000\n",
              "848     10197.000000\n",
              "849     10013.000000\n",
              "850     10055.000000\n",
              "851      9702.600000\n",
              "852      8538.700000\n",
              "853      8475.300000\n",
              "854      8105.900000\n",
              "855      8213.400000\n",
              "856      8238.200000\n",
              "857      8090.000000\n",
              "858      8331.135246\n",
              "859      8334.900000\n",
              "860      8414.877210\n",
              "861      8261.100000\n",
              "862      8170.000000\n",
              "863      8162.500000\n",
              "864      7883.000000\n",
              "865      8227.000000\n",
              "866      8205.000000\n",
              "867      8607.500000\n",
              "868      8596.000000\n",
              "869      8278.200000\n",
              "870      8319.600000\n",
              "871      8304.900000\n",
              "872      8369.964850\n",
              "873      8191.100000\n",
              "874      8016.000000\n",
              "875      8092.300000\n",
              "876      7987.300000\n",
              "877      7992.900000\n",
              "878      8260.700000\n",
              "879      8243.800000\n",
              "880      8054.300000\n",
              "881      7493.700000\n",
              "882      7453.000000\n",
              "883      8679.100000\n",
              "884      9270.900000\n",
              "885      9571.800000\n",
              "886      9225.700000\n",
              "887      9445.500000\n",
              "888      9184.300000\n",
              "889      9185.600000\n",
              "890      9289.000000\n",
              "891      9332.100000\n",
              "892      9222.400000\n",
              "893      9440.000000\n",
              "894      9339.700000\n",
              "895      9352.800000\n",
              "896      9209.200000\n",
              "897      8782.300000\n",
              "898      8828.047204\n",
              "899      9069.700000\n",
              "900      8737.715159\n",
              "901      8830.000000\n",
              "902      8801.100000\n",
              "903      8655.700000\n",
              "904      8495.832625\n",
              "905      8523.500000\n",
              "906      8537.300000\n",
              "907      8219.500000\n",
              "908      8164.900000\n",
              "909      8126.400000\n",
              "910      7671.100000\n",
              "911      7317.200000\n",
              "912      7352.600000\n",
              "913      6965.300000\n",
              "914      7162.800000\n",
              "915      7198.300000\n",
              "916      7549.300000\n",
              "917      7460.800000\n",
              "918      7796.600000\n",
              "919      7599.882317\n",
              "920      7450.100000\n",
              "921      7350.257360\n",
              "922      7336.023763\n",
              "923      7238.300000\n",
              "924      7440.000000\n",
              "925      7588.300000\n",
              "926      7543.200000\n",
              "927      7564.600000\n",
              "928      7379.521422\n",
              "929      7254.600000\n",
              "930      7230.722293\n",
              "931      7224.000000\n",
              "932      7283.200000\n",
              "933      7100.800000\n",
              "934      7152.700000\n",
              "935      6926.600000\n",
              "936      6667.100000\n",
              "937      7326.200000\n",
              "938      7181.800000\n",
              "939      7212.925908\n",
              "940      7166.400000\n",
              "941      7535.100000\n",
              "942      7347.400000\n",
              "943      7276.900000\n",
              "944      7220.100000\n",
              "945      7232.400000\n",
              "946      7287.000000\n",
              "947      7334.400000\n",
              "948      7413.600000\n",
              "949      7260.900000\n",
              "950      7208.300000\n",
              "951      7212.700000\n",
              "952      6989.400000\n",
              "953      7371.200000\n",
              "954      7369.831761\n",
              "955      7364.600000\n",
              "956      7757.900000\n",
              "957      8154.100000\n",
              "958      8036.800000\n",
              "959      7817.451465\n",
              "960      8184.500000\n",
              "961      8013.700000\n",
              "962      8174.700000\n",
              "963      8095.800000\n",
              "964      8772.600000\n",
              "965      8807.700000\n",
              "966      8720.600000\n",
              "967      8875.400000\n",
              "968      8891.600000\n",
              "969      8698.700000\n",
              "970      8638.200000\n",
              "971      8734.100000\n",
              "972      8663.900000\n",
              "973      8403.568517\n",
              "974      8447.129673\n",
              "975      8353.700000\n",
              "976      8621.500000\n",
              "977      8912.000000\n",
              "978      9397.000000\n",
              "979      9300.300000\n",
              "980      9512.711618\n",
              "981      9367.400000\n",
              "982      9408.000000\n",
              "983      9352.200000\n",
              "984      9309.300000\n",
              "985      9197.400000\n",
              "986      9612.000000\n",
              "987      9744.900100\n",
              "988      9805.200000\n",
              "989      9877.200000\n",
              "990     10151.000000\n",
              "991      9851.200000\n",
              "992     10247.000000\n",
              "993     10338.000000\n",
              "994     10222.000000\n",
              "995     10335.000000\n",
              "996      9900.900000\n",
              "997      9926.800000\n",
              "998      9708.000000\n",
              "999     10184.000000\n",
              "1000     9592.300000\n",
              "1001     9608.100000\n",
              "1002     9692.900000\n",
              "1003     9663.000000\n",
              "1004     9985.000000\n",
              "1005     9674.100000\n",
              "1006     9327.500000\n",
              "1007     8813.200000\n",
              "1008     8825.600000\n",
              "1009     8728.000000\n",
              "1010     8561.500000\n",
              "1011     8556.700000\n",
              "1012     8938.400000\n",
              "1013     8791.100000\n",
              "1014     8788.600000\n",
              "1015     9090.800000\n",
              "1016     9180.600000\n",
              "1017     8919.000000\n",
              "1018     8073.997289\n",
              "1019     7967.300000\n",
              "1020     7913.800000\n",
              "1021     7969.600000\n",
              "1022     4873.100000\n",
              "1023     5625.700000\n",
              "1024     5218.200000\n",
              "1025     5383.200000\n",
              "1026     5058.500000\n",
              "1027     5339.100000\n",
              "1028     5416.200000\n",
              "1029     6173.600000\n",
              "1030     6206.500000\n",
              "1031     6201.700000\n",
              "1032     5820.096781\n",
              "1033     6491.500000\n",
              "1034     6762.093084\n",
              "1035     6688.200000\n",
              "1036     6751.900000\n",
              "1037     6370.000000\n",
              "1038     6250.000000\n",
              "1039     5892.700000\n",
              "1040     6407.600000\n",
              "1041     6427.682786\n",
              "1042     6675.000000\n",
              "1043     6810.700000\n",
              "1044     6740.800000\n",
              "1045     6880.100000\n",
              "1046     6780.200000\n",
              "1047     7340.200000\n",
              "1048     7202.998329\n",
              "1049     7367.000000\n",
              "1050     7293.700000\n",
              "1051     6875.500000\n",
              "1052     6884.500000\n",
              "1053     6919.000000\n",
              "1054     6848.700000\n",
              "1055     6874.000000\n",
              "1056     6633.722770\n",
              "1057     7114.700000\n",
              "1058     7045.800000\n",
              "1059     7268.800000\n",
              "1060     7133.300000\n",
              "1061     6837.700000\n",
              "1062     6850.000000\n",
              "1063     7133.000000\n",
              "1064     7498.900000\n",
              "1065     7508.300000\n",
              "1066     7538.500000\n",
              "1067     7697.900000\n",
              "1068     7777.603392\n",
              "1069     7750.700000\n",
              "1070     8778.700000\n",
              "1071     8631.817153\n",
              "Name: BTC_close, dtype: float64"
            ]
          },
          "metadata": {
            "tags": []
          },
          "execution_count": 70
        }
      ]
    },
    {
      "cell_type": "code",
      "metadata": {
        "id": "-3sFpthUa9MK"
      },
      "source": [
        "#3 Feature Scaling\n",
        "sc_X = StandardScaler()\n",
        "sc_y = StandardScaler()\n",
        "X = sc_X.fit_transform(x_train_may)\n",
        "y = sc_y.fit_transform(y_train_may)"
      ],
      "execution_count": null,
      "outputs": []
    },
    {
      "cell_type": "code",
      "metadata": {
        "id": "C1EuhuV5eoaB"
      },
      "source": [
        "y = y[:, 0]"
      ],
      "execution_count": null,
      "outputs": []
    },
    {
      "cell_type": "code",
      "metadata": {
        "id": "ZuY-wvDKWXWL"
      },
      "source": [
        "# Load the SVR and fit\n",
        "#svr = SVR(kernel='poly')\n",
        "svr_regressor = SVR(kernel = 'poly')\n",
        "SVR_reg = svr_regressor.fit(X, y)"
      ],
      "execution_count": null,
      "outputs": []
    },
    {
      "cell_type": "code",
      "metadata": {
        "id": "iGQdB4OcWpJd",
        "outputId": "a19e96e9-efe1-476b-ad44-3ae8401ff689",
        "colab": {
          "base_uri": "https://localhost:8080/",
          "height": 257
        }
      },
      "source": [
        "# Predict the model on the x_test data\n",
        "x_test_may = sc_X.fit_transform(x_test_may)\n",
        "\n",
        "y_pred_may_svr = SVR_reg.predict(x_test_may)\n",
        "y_pred_may_svr = sc_y.inverse_transform(y_pred_may_svr) \n",
        "\n",
        "\n",
        "y_pred_may_svr = pd.DataFrame(y_pred_may_svr)\n",
        "y_pred_may_svr['index'] = range(1,8)\n",
        "y_pred_may_svr"
      ],
      "execution_count": null,
      "outputs": [
        {
          "output_type": "execute_result",
          "data": {
            "text/html": [
              "<div>\n",
              "<style scoped>\n",
              "    .dataframe tbody tr th:only-of-type {\n",
              "        vertical-align: middle;\n",
              "    }\n",
              "\n",
              "    .dataframe tbody tr th {\n",
              "        vertical-align: top;\n",
              "    }\n",
              "\n",
              "    .dataframe thead th {\n",
              "        text-align: right;\n",
              "    }\n",
              "</style>\n",
              "<table border=\"1\" class=\"dataframe\">\n",
              "  <thead>\n",
              "    <tr style=\"text-align: right;\">\n",
              "      <th></th>\n",
              "      <th>0</th>\n",
              "      <th>index</th>\n",
              "    </tr>\n",
              "  </thead>\n",
              "  <tbody>\n",
              "    <tr>\n",
              "      <th>0</th>\n",
              "      <td>6233.990297</td>\n",
              "      <td>1</td>\n",
              "    </tr>\n",
              "    <tr>\n",
              "      <th>1</th>\n",
              "      <td>6457.953900</td>\n",
              "      <td>2</td>\n",
              "    </tr>\n",
              "    <tr>\n",
              "      <th>2</th>\n",
              "      <td>6479.903842</td>\n",
              "      <td>3</td>\n",
              "    </tr>\n",
              "    <tr>\n",
              "      <th>3</th>\n",
              "      <td>6640.965524</td>\n",
              "      <td>4</td>\n",
              "    </tr>\n",
              "    <tr>\n",
              "      <th>4</th>\n",
              "      <td>6510.529127</td>\n",
              "      <td>5</td>\n",
              "    </tr>\n",
              "    <tr>\n",
              "      <th>5</th>\n",
              "      <td>7965.608332</td>\n",
              "      <td>6</td>\n",
              "    </tr>\n",
              "    <tr>\n",
              "      <th>6</th>\n",
              "      <td>14049.828929</td>\n",
              "      <td>7</td>\n",
              "    </tr>\n",
              "  </tbody>\n",
              "</table>\n",
              "</div>"
            ],
            "text/plain": [
              "              0  index\n",
              "0   6233.990297      1\n",
              "1   6457.953900      2\n",
              "2   6479.903842      3\n",
              "3   6640.965524      4\n",
              "4   6510.529127      5\n",
              "5   7965.608332      6\n",
              "6  14049.828929      7"
            ]
          },
          "metadata": {
            "tags": []
          },
          "execution_count": 74
        }
      ]
    },
    {
      "cell_type": "code",
      "metadata": {
        "id": "7aBS0h8sgcoa"
      },
      "source": [
        "# merge the prediction and actual data frames\n",
        "merge_may = merge_may.merge(y_pred_may_svr, on='index', how='left')"
      ],
      "execution_count": null,
      "outputs": []
    },
    {
      "cell_type": "code",
      "metadata": {
        "id": "-pO8vnSSgf5w"
      },
      "source": [
        "merge_may.columns = ['lm_prediction', 'index', 'real', 'lasso_prediction', 'svr_prediction']"
      ],
      "execution_count": null,
      "outputs": []
    },
    {
      "cell_type": "code",
      "metadata": {
        "id": "LKkRNP6Ml999",
        "outputId": "88d8787b-1a4c-48a4-8b9f-9f39552366c7",
        "colab": {
          "base_uri": "https://localhost:8080/",
          "height": 257
        }
      },
      "source": [
        "merge_may['Avg'] = (merge_may['lm_prediction'] + merge_may['random_forest']) / 2\n",
        "\n",
        "merge_may"
      ],
      "execution_count": null,
      "outputs": [
        {
          "output_type": "execute_result",
          "data": {
            "text/html": [
              "<div>\n",
              "<style scoped>\n",
              "    .dataframe tbody tr th:only-of-type {\n",
              "        vertical-align: middle;\n",
              "    }\n",
              "\n",
              "    .dataframe tbody tr th {\n",
              "        vertical-align: top;\n",
              "    }\n",
              "\n",
              "    .dataframe thead th {\n",
              "        text-align: right;\n",
              "    }\n",
              "</style>\n",
              "<table border=\"1\" class=\"dataframe\">\n",
              "  <thead>\n",
              "    <tr style=\"text-align: right;\">\n",
              "      <th></th>\n",
              "      <th>lm_prediction</th>\n",
              "      <th>index</th>\n",
              "      <th>real</th>\n",
              "      <th>lasso_prediction</th>\n",
              "      <th>svr_prediction</th>\n",
              "      <th>random_forest</th>\n",
              "      <th>Avg</th>\n",
              "    </tr>\n",
              "  </thead>\n",
              "  <tbody>\n",
              "    <tr>\n",
              "      <th>0</th>\n",
              "      <td>7626.086948</td>\n",
              "      <td>1</td>\n",
              "      <td>8822.800000</td>\n",
              "      <td>7619.051456</td>\n",
              "      <td>6233.990297</td>\n",
              "      <td>7910.762789</td>\n",
              "      <td>7768.424868</td>\n",
              "    </tr>\n",
              "    <tr>\n",
              "      <th>1</th>\n",
              "      <td>7526.599476</td>\n",
              "      <td>2</td>\n",
              "      <td>8982.300000</td>\n",
              "      <td>7540.843968</td>\n",
              "      <td>6457.953900</td>\n",
              "      <td>7976.469691</td>\n",
              "      <td>7751.534583</td>\n",
              "    </tr>\n",
              "    <tr>\n",
              "      <th>2</th>\n",
              "      <td>7690.725950</td>\n",
              "      <td>3</td>\n",
              "      <td>8899.800000</td>\n",
              "      <td>7704.844636</td>\n",
              "      <td>6479.903842</td>\n",
              "      <td>7546.957615</td>\n",
              "      <td>7618.841782</td>\n",
              "    </tr>\n",
              "    <tr>\n",
              "      <th>3</th>\n",
              "      <td>7793.804550</td>\n",
              "      <td>4</td>\n",
              "      <td>8865.800000</td>\n",
              "      <td>7797.110522</td>\n",
              "      <td>6640.965524</td>\n",
              "      <td>7071.505750</td>\n",
              "      <td>7432.655150</td>\n",
              "    </tr>\n",
              "    <tr>\n",
              "      <th>4</th>\n",
              "      <td>7850.899369</td>\n",
              "      <td>5</td>\n",
              "      <td>9020.100000</td>\n",
              "      <td>7814.768118</td>\n",
              "      <td>6510.529127</td>\n",
              "      <td>7563.434456</td>\n",
              "      <td>7707.166912</td>\n",
              "    </tr>\n",
              "    <tr>\n",
              "      <th>5</th>\n",
              "      <td>8888.264968</td>\n",
              "      <td>6</td>\n",
              "      <td>9152.470993</td>\n",
              "      <td>8932.928478</td>\n",
              "      <td>7965.608332</td>\n",
              "      <td>8381.015341</td>\n",
              "      <td>8634.640154</td>\n",
              "    </tr>\n",
              "    <tr>\n",
              "      <th>6</th>\n",
              "      <td>8836.952715</td>\n",
              "      <td>7</td>\n",
              "      <td>9979.600000</td>\n",
              "      <td>8831.216923</td>\n",
              "      <td>14049.828929</td>\n",
              "      <td>7729.118049</td>\n",
              "      <td>8283.035382</td>\n",
              "    </tr>\n",
              "  </tbody>\n",
              "</table>\n",
              "</div>"
            ],
            "text/plain": [
              "   lm_prediction  index         real  lasso_prediction  svr_prediction  \\\n",
              "0    7626.086948      1  8822.800000       7619.051456     6233.990297   \n",
              "1    7526.599476      2  8982.300000       7540.843968     6457.953900   \n",
              "2    7690.725950      3  8899.800000       7704.844636     6479.903842   \n",
              "3    7793.804550      4  8865.800000       7797.110522     6640.965524   \n",
              "4    7850.899369      5  9020.100000       7814.768118     6510.529127   \n",
              "5    8888.264968      6  9152.470993       8932.928478     7965.608332   \n",
              "6    8836.952715      7  9979.600000       8831.216923    14049.828929   \n",
              "\n",
              "   random_forest          Avg  \n",
              "0    7910.762789  7768.424868  \n",
              "1    7976.469691  7751.534583  \n",
              "2    7546.957615  7618.841782  \n",
              "3    7071.505750  7432.655150  \n",
              "4    7563.434456  7707.166912  \n",
              "5    8381.015341  8634.640154  \n",
              "6    7729.118049  8283.035382  "
            ]
          },
          "metadata": {
            "tags": []
          },
          "execution_count": 125
        }
      ]
    },
    {
      "cell_type": "code",
      "metadata": {
        "id": "8aov6zrPh4yu",
        "outputId": "6d633095-e7c4-455a-afd8-7d119e7495e4",
        "colab": {
          "base_uri": "https://localhost:8080/",
          "height": 257
        }
      },
      "source": [
        "# Merge Donald's RF prediction into the same plot\n",
        "PredictionVSactual.columns = ['real', 'random_forest']\n",
        "\n",
        "merge_may = merge_may.merge(PredictionVSactual, on='real', how='left')\n",
        "merge_may"
      ],
      "execution_count": null,
      "outputs": [
        {
          "output_type": "execute_result",
          "data": {
            "text/html": [
              "<div>\n",
              "<style scoped>\n",
              "    .dataframe tbody tr th:only-of-type {\n",
              "        vertical-align: middle;\n",
              "    }\n",
              "\n",
              "    .dataframe tbody tr th {\n",
              "        vertical-align: top;\n",
              "    }\n",
              "\n",
              "    .dataframe thead th {\n",
              "        text-align: right;\n",
              "    }\n",
              "</style>\n",
              "<table border=\"1\" class=\"dataframe\">\n",
              "  <thead>\n",
              "    <tr style=\"text-align: right;\">\n",
              "      <th></th>\n",
              "      <th>lm_prediction</th>\n",
              "      <th>index</th>\n",
              "      <th>real</th>\n",
              "      <th>lasso_prediction</th>\n",
              "      <th>svr_prediction</th>\n",
              "      <th>random_forest</th>\n",
              "    </tr>\n",
              "  </thead>\n",
              "  <tbody>\n",
              "    <tr>\n",
              "      <th>0</th>\n",
              "      <td>7626.086948</td>\n",
              "      <td>1</td>\n",
              "      <td>8822.800000</td>\n",
              "      <td>7619.051456</td>\n",
              "      <td>6233.990297</td>\n",
              "      <td>7910.762789</td>\n",
              "    </tr>\n",
              "    <tr>\n",
              "      <th>1</th>\n",
              "      <td>7526.599476</td>\n",
              "      <td>2</td>\n",
              "      <td>8982.300000</td>\n",
              "      <td>7540.843968</td>\n",
              "      <td>6457.953900</td>\n",
              "      <td>7976.469691</td>\n",
              "    </tr>\n",
              "    <tr>\n",
              "      <th>2</th>\n",
              "      <td>7690.725950</td>\n",
              "      <td>3</td>\n",
              "      <td>8899.800000</td>\n",
              "      <td>7704.844636</td>\n",
              "      <td>6479.903842</td>\n",
              "      <td>7546.957615</td>\n",
              "    </tr>\n",
              "    <tr>\n",
              "      <th>3</th>\n",
              "      <td>7793.804550</td>\n",
              "      <td>4</td>\n",
              "      <td>8865.800000</td>\n",
              "      <td>7797.110522</td>\n",
              "      <td>6640.965524</td>\n",
              "      <td>7071.505750</td>\n",
              "    </tr>\n",
              "    <tr>\n",
              "      <th>4</th>\n",
              "      <td>7850.899369</td>\n",
              "      <td>5</td>\n",
              "      <td>9020.100000</td>\n",
              "      <td>7814.768118</td>\n",
              "      <td>6510.529127</td>\n",
              "      <td>7563.434456</td>\n",
              "    </tr>\n",
              "    <tr>\n",
              "      <th>5</th>\n",
              "      <td>8888.264968</td>\n",
              "      <td>6</td>\n",
              "      <td>9152.470993</td>\n",
              "      <td>8932.928478</td>\n",
              "      <td>7965.608332</td>\n",
              "      <td>8381.015341</td>\n",
              "    </tr>\n",
              "    <tr>\n",
              "      <th>6</th>\n",
              "      <td>8836.952715</td>\n",
              "      <td>7</td>\n",
              "      <td>9979.600000</td>\n",
              "      <td>8831.216923</td>\n",
              "      <td>14049.828929</td>\n",
              "      <td>7729.118049</td>\n",
              "    </tr>\n",
              "  </tbody>\n",
              "</table>\n",
              "</div>"
            ],
            "text/plain": [
              "   lm_prediction  index         real  lasso_prediction  svr_prediction  \\\n",
              "0    7626.086948      1  8822.800000       7619.051456     6233.990297   \n",
              "1    7526.599476      2  8982.300000       7540.843968     6457.953900   \n",
              "2    7690.725950      3  8899.800000       7704.844636     6479.903842   \n",
              "3    7793.804550      4  8865.800000       7797.110522     6640.965524   \n",
              "4    7850.899369      5  9020.100000       7814.768118     6510.529127   \n",
              "5    8888.264968      6  9152.470993       8932.928478     7965.608332   \n",
              "6    8836.952715      7  9979.600000       8831.216923    14049.828929   \n",
              "\n",
              "   random_forest  \n",
              "0    7910.762789  \n",
              "1    7976.469691  \n",
              "2    7546.957615  \n",
              "3    7071.505750  \n",
              "4    7563.434456  \n",
              "5    8381.015341  \n",
              "6    7729.118049  "
            ]
          },
          "metadata": {
            "tags": []
          },
          "execution_count": 83
        }
      ]
    },
    {
      "cell_type": "code",
      "metadata": {
        "id": "T5kc3T4UgpuY",
        "outputId": "fb699d81-4587-435d-9bfc-b03b7d7b0b1d",
        "colab": {
          "base_uri": "https://localhost:8080/",
          "height": 608
        }
      },
      "source": [
        "# Plot the predicted vs actual in matplot lib\n",
        "import matplotlib.pyplot as plt\n",
        "plt.plot( 'index', 'real', data=merge_may, marker='o', markerfacecolor='black', markersize=12, color='skyblue', linewidth=4)\n",
        "plt.plot( 'index', 'lm_prediction', data=merge_may, marker='', color='olive', linewidth=2)\n",
        "#plt.plot( 'index', 'lasso_prediction', data=merge_may, marker='', color='red', linewidth=2)\n",
        "#plt.plot( 'index', 'svr_prediction', data=merge_may, marker='', color='green', linewidth=2)\n",
        "plt.plot( 'index', 'random_forest', data=merge_may, marker='', color='yellow', linewidth=2)\n",
        "plt.plot( 'index', 'Avg', data=merge_may, marker='', color='green', linewidth=2)\n",
        "plt.xticks(rotation='vertical')\n",
        "plt.legend()"
      ],
      "execution_count": null,
      "outputs": [
        {
          "output_type": "execute_result",
          "data": {
            "text/plain": [
              "<matplotlib.legend.Legend at 0x7f38d74c8278>"
            ]
          },
          "metadata": {
            "tags": []
          },
          "execution_count": 126
        },
        {
          "output_type": "display_data",
          "data": {
            "image/png": "[encoded data removed]",
            "text/plain": [
              "<Figure size 1440x720 with 1 Axes>"
            ]
          },
          "metadata": {
            "tags": []
          }
        }
      ]
    },
    {
      "cell_type": "markdown",
      "metadata": {
        "id": "9bZ_EtdkwfKw"
      },
      "source": [
        "# Linear Model - July"
      ]
    },
    {
      "cell_type": "code",
      "metadata": {
        "id": "MWJ6grU7wi3n"
      },
      "source": [
        "# Runt he linear regressor over the x and y training data\n",
        "model = LinearRegression().fit(x_train_july, y_train_july)"
      ],
      "execution_count": null,
      "outputs": []
    },
    {
      "cell_type": "code",
      "metadata": {
        "id": "YRrivltjwi3t",
        "outputId": "c9c1ebb4-bea1-477d-bb8e-e0185691deef",
        "colab": {
          "base_uri": "https://localhost:8080/"
        }
      },
      "source": [
        "# Runt he linear regressor over the x and y training data\n",
        "from statsmodels.api import OLS\n",
        "OLS(y_train_july,x_train_july).fit().summary()"
      ],
      "execution_count": null,
      "outputs": [
        {
          "output_type": "execute_result",
          "data": {
            "text/html": [
              "<table class=\"simpletable\">\n",
              "<caption>OLS Regression Results</caption>\n",
              "<tr>\n",
              "  <th>Dep. Variable:</th>        <td>BTC_close</td>    <th>  R-squared (uncentered):</th>      <td>   0.985</td> \n",
              "</tr>\n",
              "<tr>\n",
              "  <th>Model:</th>                   <td>OLS</td>       <th>  Adj. R-squared (uncentered):</th> <td>   0.985</td> \n",
              "</tr>\n",
              "<tr>\n",
              "  <th>Method:</th>             <td>Least Squares</td>  <th>  F-statistic:       </th>          <td>   8241.</td> \n",
              "</tr>\n",
              "<tr>\n",
              "  <th>Date:</th>             <td>Mon, 31 Aug 2020</td> <th>  Prob (F-statistic):</th>           <td>  0.00</td>  \n",
              "</tr>\n",
              "<tr>\n",
              "  <th>Time:</th>                 <td>08:05:54</td>     <th>  Log-Likelihood:    </th>          <td> -9371.7</td> \n",
              "</tr>\n",
              "<tr>\n",
              "  <th>No. Observations:</th>      <td>  1131</td>      <th>  AIC:               </th>          <td>1.876e+04</td>\n",
              "</tr>\n",
              "<tr>\n",
              "  <th>Df Residuals:</th>          <td>  1122</td>      <th>  BIC:               </th>          <td>1.881e+04</td>\n",
              "</tr>\n",
              "<tr>\n",
              "  <th>Df Model:</th>              <td>     9</td>      <th>                     </th>              <td> </td>    \n",
              "</tr>\n",
              "<tr>\n",
              "  <th>Covariance Type:</th>      <td>nonrobust</td>    <th>                     </th>              <td> </td>    \n",
              "</tr>\n",
              "</table>\n",
              "<table class=\"simpletable\">\n",
              "<tr>\n",
              "        <td></td>           <th>coef</th>     <th>std err</th>      <th>t</th>      <th>P>|t|</th>  <th>[0.025</th>    <th>0.975]</th>  \n",
              "</tr>\n",
              "<tr>\n",
              "  <th>ETHER_open</th>    <td>    1.4717</td> <td>    1.651</td> <td>    0.891</td> <td> 0.373</td> <td>   -1.768</td> <td>    4.712</td>\n",
              "</tr>\n",
              "<tr>\n",
              "  <th>ETHER_close</th>   <td>   -2.3577</td> <td>    1.657</td> <td>   -1.423</td> <td> 0.155</td> <td>   -5.609</td> <td>    0.893</td>\n",
              "</tr>\n",
              "<tr>\n",
              "  <th>ETHER_vol</th>     <td>   -0.0003</td> <td>    0.000</td> <td>   -1.451</td> <td> 0.147</td> <td>   -0.001</td> <td>    0.000</td>\n",
              "</tr>\n",
              "<tr>\n",
              "  <th>XRP_open</th>      <td>-3442.9932</td> <td>  726.922</td> <td>   -4.736</td> <td> 0.000</td> <td>-4869.273</td> <td>-2016.714</td>\n",
              "</tr>\n",
              "<tr>\n",
              "  <th>XRP_close</th>     <td> 2938.4025</td> <td>  739.956</td> <td>    3.971</td> <td> 0.000</td> <td> 1486.550</td> <td> 4390.255</td>\n",
              "</tr>\n",
              "<tr>\n",
              "  <th>XRP_vol</th>       <td>-1.306e-06</td> <td> 6.39e-07</td> <td>   -2.042</td> <td> 0.041</td> <td>-2.56e-06</td> <td>-5.12e-08</td>\n",
              "</tr>\n",
              "<tr>\n",
              "  <th>BTC_open_dup</th>  <td>    0.1473</td> <td>    0.094</td> <td>    1.560</td> <td> 0.119</td> <td>   -0.038</td> <td>    0.332</td>\n",
              "</tr>\n",
              "<tr>\n",
              "  <th>BTC_close_dup</th> <td>    0.8783</td> <td>    0.094</td> <td>    9.367</td> <td> 0.000</td> <td>    0.694</td> <td>    1.062</td>\n",
              "</tr>\n",
              "<tr>\n",
              "  <th>BTC_vol_dup</th>   <td>    0.0158</td> <td>    0.002</td> <td>    8.462</td> <td> 0.000</td> <td>    0.012</td> <td>    0.019</td>\n",
              "</tr>\n",
              "</table>\n",
              "<table class=\"simpletable\">\n",
              "<tr>\n",
              "  <th>Omnibus:</th>       <td>157.657</td> <th>  Durbin-Watson:     </th> <td>   0.352</td>\n",
              "</tr>\n",
              "<tr>\n",
              "  <th>Prob(Omnibus):</th> <td> 0.000</td>  <th>  Jarque-Bera (JB):  </th> <td>1921.012</td>\n",
              "</tr>\n",
              "<tr>\n",
              "  <th>Skew:</th>          <td> 0.006</td>  <th>  Prob(JB):          </th> <td>    0.00</td>\n",
              "</tr>\n",
              "<tr>\n",
              "  <th>Kurtosis:</th>      <td> 9.385</td>  <th>  Cond. No.          </th> <td>2.65e+09</td>\n",
              "</tr>\n",
              "</table><br/><br/>Warnings:<br/>[1] Standard Errors assume that the covariance matrix of the errors is correctly specified.<br/>[2] The condition number is large, 2.65e+09. This might indicate that there are<br/>strong multicollinearity or other numerical problems."
            ],
            "text/plain": [
              "<class 'statsmodels.iolib.summary.Summary'>\n",
              "\"\"\"\n",
              "                                 OLS Regression Results                                \n",
              "=======================================================================================\n",
              "Dep. Variable:              BTC_close   R-squared (uncentered):                   0.985\n",
              "Model:                            OLS   Adj. R-squared (uncentered):              0.985\n",
              "Method:                 Least Squares   F-statistic:                              8241.\n",
              "Date:                Mon, 31 Aug 2020   Prob (F-statistic):                        0.00\n",
              "Time:                        08:05:54   Log-Likelihood:                         -9371.7\n",
              "No. Observations:                1131   AIC:                                  1.876e+04\n",
              "Df Residuals:                    1122   BIC:                                  1.881e+04\n",
              "Df Model:                           9                                                  \n",
              "Covariance Type:            nonrobust                                                  \n",
              "=================================================================================\n",
              "                    coef    std err          t      P>|t|      [0.025      0.975]\n",
              "---------------------------------------------------------------------------------\n",
              "ETHER_open        1.4717      1.651      0.891      0.373      -1.768       4.712\n",
              "ETHER_close      -2.3577      1.657     -1.423      0.155      -5.609       0.893\n",
              "ETHER_vol        -0.0003      0.000     -1.451      0.147      -0.001       0.000\n",
              "XRP_open      -3442.9932    726.922     -4.736      0.000   -4869.273   -2016.714\n",
              "XRP_close      2938.4025    739.956      3.971      0.000    1486.550    4390.255\n",
              "XRP_vol       -1.306e-06   6.39e-07     -2.042      0.041   -2.56e-06   -5.12e-08\n",
              "BTC_open_dup      0.1473      0.094      1.560      0.119      -0.038       0.332\n",
              "BTC_close_dup     0.8783      0.094      9.367      0.000       0.694       1.062\n",
              "BTC_vol_dup       0.0158      0.002      8.462      0.000       0.012       0.019\n",
              "==============================================================================\n",
              "Omnibus:                      157.657   Durbin-Watson:                   0.352\n",
              "Prob(Omnibus):                  0.000   Jarque-Bera (JB):             1921.012\n",
              "Skew:                           0.006   Prob(JB):                         0.00\n",
              "Kurtosis:                       9.385   Cond. No.                     2.65e+09\n",
              "==============================================================================\n",
              "\n",
              "Warnings:\n",
              "[1] Standard Errors assume that the covariance matrix of the errors is correctly specified.\n",
              "[2] The condition number is large, 2.65e+09. This might indicate that there are\n",
              "strong multicollinearity or other numerical problems.\n",
              "\"\"\""
            ]
          },
          "metadata": {
            "tags": []
          },
          "execution_count": 86
        }
      ]
    },
    {
      "cell_type": "code",
      "metadata": {
        "id": "DM4I5EHOwi3z"
      },
      "source": [
        "# Predict the model on the x_test data\n",
        "y_pred_july = pd.DataFrame(model.predict(x_test_july))\n",
        "y_pred_july['index'] = range(1,8)"
      ],
      "execution_count": null,
      "outputs": []
    },
    {
      "cell_type": "code",
      "metadata": {
        "id": "s2HIKXOfwi36"
      },
      "source": [
        "y_test_july = pd.DataFrame(y_test_july)[0:7]\n",
        "y_test_july['index'] = range(1,8)"
      ],
      "execution_count": null,
      "outputs": []
    },
    {
      "cell_type": "code",
      "metadata": {
        "id": "b_grw7BKwi4A"
      },
      "source": [
        "# merge the prediction and actual data frames\n",
        "merge_july = y_pred_july.merge(y_test_july, on='index', how='left')"
      ],
      "execution_count": null,
      "outputs": []
    },
    {
      "cell_type": "code",
      "metadata": {
        "id": "ZBX-XuUgwi4C"
      },
      "source": [
        "merge_july.columns = ['lm_prediction', 'index', 'real']"
      ],
      "execution_count": null,
      "outputs": []
    },
    {
      "cell_type": "code",
      "metadata": {
        "id": "SV8YXbxAwi4J",
        "outputId": "3d668c10-6a27-48c8-a3df-29e4dc506afa",
        "colab": {
          "base_uri": "https://localhost:8080/"
        }
      },
      "source": [
        "MSE = mean_squared_error(y_true = merge_july.real, y_pred = merge_july.lm_prediction)\n",
        "np.sqrt(MSE)"
      ],
      "execution_count": null,
      "outputs": [
        {
          "output_type": "execute_result",
          "data": {
            "text/plain": [
              "127.55786750036722"
            ]
          },
          "metadata": {
            "tags": []
          },
          "execution_count": 91
        }
      ]
    },
    {
      "cell_type": "code",
      "metadata": {
        "id": "-N_Xgpj8wi4L",
        "outputId": "2a140086-d448-48ed-fa5c-25bbc141b384",
        "colab": {
          "base_uri": "https://localhost:8080/"
        }
      },
      "source": [
        "# Calculate the r_square value for the linear model\n",
        "r_sq = model.score(x_train_july, y_train_july)\n",
        "print('coefficient of determination:', r_sq)"
      ],
      "execution_count": null,
      "outputs": [
        {
          "output_type": "stream",
          "text": [
            "coefficient of determination: 0.8942229300571196\n"
          ],
          "name": "stdout"
        }
      ]
    },
    {
      "cell_type": "code",
      "metadata": {
        "id": "l4IDli7rwi4R",
        "outputId": "74e8bedf-2d60-497d-f417-d44b4fcd014b",
        "colab": {
          "base_uri": "https://localhost:8080/"
        }
      },
      "source": [
        "# Plot the predicted vs actual in matplot lib\n",
        "import matplotlib.pyplot as plt\n",
        "plt.plot( 'index', 'real', data=merge_july, marker='o', markerfacecolor='blue', markersize=12, color='skyblue', linewidth=4)\n",
        "plt.plot( 'index', 'lm_prediction', data=merge_july, marker='', color='olive', linewidth=2)\n",
        "plt.xticks(rotation='vertical')\n",
        "plt.legend()"
      ],
      "execution_count": null,
      "outputs": [
        {
          "output_type": "execute_result",
          "data": {
            "text/plain": [
              "<matplotlib.legend.Legend at 0x7f38d83295f8>"
            ]
          },
          "metadata": {
            "tags": []
          },
          "execution_count": 93
        },
        {
          "output_type": "display_data",
          "data": {
            "image/png": "[encoded data removed]",
            "text/plain": [
              "<Figure size 1440x720 with 1 Axes>"
            ]
          },
          "metadata": {
            "tags": []
          }
        }
      ]
    },
    {
      "cell_type": "markdown",
      "metadata": {
        "id": "y5KT3m0S4w-P"
      },
      "source": [
        "# Lasso Regression - July"
      ]
    },
    {
      "cell_type": "code",
      "metadata": {
        "id": "CRiGfTY04w-Y"
      },
      "source": [
        "from sklearn.linear_model import Lasso\n",
        "from sklearn.model_selection import GridSearchCV\n",
        "\n",
        "lasso = Lasso()"
      ],
      "execution_count": null,
      "outputs": []
    },
    {
      "cell_type": "code",
      "metadata": {
        "id": "rcCbQ2uX4w-j"
      },
      "source": [
        "params = {'alpha': [1e-15, 1e-10, 1e-8, 1e-4, 1e-3, 1e-2, 1, 5, 10, 20]}"
      ],
      "execution_count": null,
      "outputs": []
    },
    {
      "cell_type": "code",
      "metadata": {
        "id": "g3UNNgT74w-s"
      },
      "source": [
        "lasso_regressor = GridSearchCV(lasso, params, scoring = 'neg_mean_squared_error', cv=5)"
      ],
      "execution_count": null,
      "outputs": []
    },
    {
      "cell_type": "code",
      "metadata": {
        "id": "sYmA2BgN4w-y"
      },
      "source": [
        "lasso = lasso_regressor.fit(x_train_july, y_train_july)"
      ],
      "execution_count": null,
      "outputs": []
    },
    {
      "cell_type": "code",
      "metadata": {
        "id": "YncerhZ44w-3",
        "outputId": "09e20894-0bf8-4fb1-d585-9e460a69cf06",
        "colab": {
          "base_uri": "https://localhost:8080/"
        }
      },
      "source": [
        "print(lasso.best_params_)"
      ],
      "execution_count": null,
      "outputs": [
        {
          "output_type": "stream",
          "text": [
            "{'alpha': 1e-15}\n"
          ],
          "name": "stdout"
        }
      ]
    },
    {
      "cell_type": "code",
      "metadata": {
        "id": "kpvmeHLC4w-8",
        "outputId": "7c120047-0331-49cb-8ab3-de63fd17512f",
        "colab": {
          "base_uri": "https://localhost:8080/"
        }
      },
      "source": [
        "print(lasso.best_score_)"
      ],
      "execution_count": null,
      "outputs": [
        {
          "output_type": "stream",
          "text": [
            "-997010.4666424043\n"
          ],
          "name": "stdout"
        }
      ]
    },
    {
      "cell_type": "code",
      "metadata": {
        "id": "_Fd56mmU4w_D"
      },
      "source": [
        "# Predict the model on the x_test data\n",
        "y_pred_july_lasso = pd.DataFrame(lasso.predict(x_test_july))\n",
        "y_pred_july_lasso['index'] = range(1,8)"
      ],
      "execution_count": null,
      "outputs": []
    },
    {
      "cell_type": "code",
      "metadata": {
        "id": "N53OKcrh4w_K"
      },
      "source": [
        "# merge the prediction and actual data frames\n",
        "merge_july = merge_july.merge(y_pred_july_lasso, on='index', how='left')"
      ],
      "execution_count": null,
      "outputs": []
    },
    {
      "cell_type": "code",
      "metadata": {
        "id": "zbIsU2-l4w_X"
      },
      "source": [
        "merge_july.columns = ['lm_prediction', 'index', 'real', 'lasso_prediction']"
      ],
      "execution_count": null,
      "outputs": []
    },
    {
      "cell_type": "code",
      "metadata": {
        "id": "irHacil04w_t",
        "outputId": "af208a33-f91f-439d-c07f-f0d9cb397cd2",
        "colab": {
          "base_uri": "https://localhost:8080/"
        }
      },
      "source": [
        "MSE = mean_squared_error(y_true = merge_july.real, y_pred = merge_july.lasso_prediction)\n",
        "np.sqrt(MSE)"
      ],
      "execution_count": null,
      "outputs": [
        {
          "output_type": "execute_result",
          "data": {
            "text/plain": [
              "127.57497646038792"
            ]
          },
          "metadata": {
            "tags": []
          },
          "execution_count": 103
        }
      ]
    },
    {
      "cell_type": "code",
      "metadata": {
        "id": "v0OMJPDR4w_5",
        "outputId": "baa4581c-1e5a-4086-bff8-cb76d01991a9",
        "colab": {
          "base_uri": "https://localhost:8080/"
        }
      },
      "source": [
        "# Plot the predicted vs actual in matplot lib\n",
        "import matplotlib.pyplot as plt\n",
        "plt.plot( 'index', 'real', data=merge_july, marker='o', markerfacecolor='blue', markersize=12, color='skyblue', linewidth=4)\n",
        "plt.plot( 'index', 'lm_prediction', data=merge_july, marker='', color='olive', linewidth=2)\n",
        "plt.plot( 'index', 'lasso_prediction', data=merge_july, marker='', color='red', linewidth=2)\n",
        "plt.xticks(rotation='vertical')\n",
        "plt.legend()"
      ],
      "execution_count": null,
      "outputs": [
        {
          "output_type": "execute_result",
          "data": {
            "text/plain": [
              "<matplotlib.legend.Legend at 0x7f38d8260080>"
            ]
          },
          "metadata": {
            "tags": []
          },
          "execution_count": 104
        },
        {
          "output_type": "display_data",
          "data": {
            "image/png": "[encoded data removed]",
            "text/plain": [
              "<Figure size 1440x720 with 1 Axes>"
            ]
          },
          "metadata": {
            "tags": []
          }
        }
      ]
    },
    {
      "cell_type": "markdown",
      "metadata": {
        "id": "AIxd-aXGiVgV"
      },
      "source": [
        "# Support Vector Regression - July"
      ]
    },
    {
      "cell_type": "code",
      "metadata": {
        "id": "Hrih_EZriVgY"
      },
      "source": [
        "# Import the algorithm package\n",
        "from sklearn.svm import SVR\n",
        "from sklearn.pipeline import make_pipeline\n",
        "from sklearn.preprocessing import StandardScaler"
      ],
      "execution_count": null,
      "outputs": []
    },
    {
      "cell_type": "code",
      "metadata": {
        "id": "fJ3RjUcfiVgb"
      },
      "source": [
        "y_train_july = pd.DataFrame(y_train_july)"
      ],
      "execution_count": null,
      "outputs": []
    },
    {
      "cell_type": "code",
      "metadata": {
        "id": "jIAT5eSTiVgg"
      },
      "source": [
        "#3 Feature Scaling\n",
        "sc_X = StandardScaler()\n",
        "sc_y = StandardScaler()\n",
        "X = sc_X.fit_transform(x_train_july)\n",
        "y = sc_y.fit_transform(y_train_july)"
      ],
      "execution_count": null,
      "outputs": []
    },
    {
      "cell_type": "code",
      "metadata": {
        "id": "UMQzYTM6iVgi"
      },
      "source": [
        "y = y[:, 0]"
      ],
      "execution_count": null,
      "outputs": []
    },
    {
      "cell_type": "code",
      "metadata": {
        "id": "4SyMGtitiVgk"
      },
      "source": [
        "# Load the SVR and fit\n",
        "#svr = SVR(kernel='poly')\n",
        "svr_regressor = SVR(kernel = 'rbf')\n",
        "SVR_reg = svr_regressor.fit(X, y)"
      ],
      "execution_count": null,
      "outputs": []
    },
    {
      "cell_type": "code",
      "metadata": {
        "id": "c6i-mX6GiVgm",
        "outputId": "281b1589-7bfc-4fa7-a0dc-eb2471d86d91",
        "colab": {
          "base_uri": "https://localhost:8080/",
          "height": 257
        }
      },
      "source": [
        "# Predict the model on the x_test data\n",
        "x_test_july = sc_X.fit_transform(x_test_july)\n",
        "\n",
        "y_pred_july_svr = SVR_reg.predict(x_test_july)\n",
        "y_pred_july_svr = sc_y.inverse_transform(y_pred_july_svr) \n",
        "\n",
        "\n",
        "y_pred_july_svr = pd.DataFrame(y_pred_july_svr)\n",
        "y_pred_july_svr['index'] = range(1,8)\n",
        "y_pred_july_svr"
      ],
      "execution_count": null,
      "outputs": [
        {
          "output_type": "execute_result",
          "data": {
            "text/html": [
              "<div>\n",
              "<style scoped>\n",
              "    .dataframe tbody tr th:only-of-type {\n",
              "        vertical-align: middle;\n",
              "    }\n",
              "\n",
              "    .dataframe tbody tr th {\n",
              "        vertical-align: top;\n",
              "    }\n",
              "\n",
              "    .dataframe thead th {\n",
              "        text-align: right;\n",
              "    }\n",
              "</style>\n",
              "<table border=\"1\" class=\"dataframe\">\n",
              "  <thead>\n",
              "    <tr style=\"text-align: right;\">\n",
              "      <th></th>\n",
              "      <th>0</th>\n",
              "      <th>index</th>\n",
              "    </tr>\n",
              "  </thead>\n",
              "  <tbody>\n",
              "    <tr>\n",
              "      <th>0</th>\n",
              "      <td>11114.335817</td>\n",
              "      <td>1</td>\n",
              "    </tr>\n",
              "    <tr>\n",
              "      <th>1</th>\n",
              "      <td>9753.279073</td>\n",
              "      <td>2</td>\n",
              "    </tr>\n",
              "    <tr>\n",
              "      <th>2</th>\n",
              "      <td>7710.265580</td>\n",
              "      <td>3</td>\n",
              "    </tr>\n",
              "    <tr>\n",
              "      <th>3</th>\n",
              "      <td>6254.006371</td>\n",
              "      <td>4</td>\n",
              "    </tr>\n",
              "    <tr>\n",
              "      <th>4</th>\n",
              "      <td>6684.506516</td>\n",
              "      <td>5</td>\n",
              "    </tr>\n",
              "    <tr>\n",
              "      <th>5</th>\n",
              "      <td>8418.032689</td>\n",
              "      <td>6</td>\n",
              "    </tr>\n",
              "    <tr>\n",
              "      <th>6</th>\n",
              "      <td>7517.340586</td>\n",
              "      <td>7</td>\n",
              "    </tr>\n",
              "  </tbody>\n",
              "</table>\n",
              "</div>"
            ],
            "text/plain": [
              "              0  index\n",
              "0  11114.335817      1\n",
              "1   9753.279073      2\n",
              "2   7710.265580      3\n",
              "3   6254.006371      4\n",
              "4   6684.506516      5\n",
              "5   8418.032689      6\n",
              "6   7517.340586      7"
            ]
          },
          "metadata": {
            "tags": []
          },
          "execution_count": 110
        }
      ]
    },
    {
      "cell_type": "code",
      "metadata": {
        "id": "AbQZwak2iVgq"
      },
      "source": [
        "# merge the prediction and actual data frames\n",
        "merge_july = merge_july.merge(y_pred_july_svr, on='index', how='left')"
      ],
      "execution_count": null,
      "outputs": []
    },
    {
      "cell_type": "code",
      "metadata": {
        "id": "vOAmA_JwjUrg",
        "outputId": "a1fe96b3-e33a-46ae-ee87-f4ca7c2743fa",
        "colab": {
          "base_uri": "https://localhost:8080/",
          "height": 257
        }
      },
      "source": [
        "# Merge Donald's July predictions into the merge_july data frame\n",
        "PredictionVSactual_july.columns = ['real', 'random_forest']\n",
        "\n",
        "merge_july = merge_july.merge(PredictionVSactual_july, on='real', how='left')\n",
        "\n",
        "merge_july"
      ],
      "execution_count": null,
      "outputs": [
        {
          "output_type": "execute_result",
          "data": {
            "text/html": [
              "<div>\n",
              "<style scoped>\n",
              "    .dataframe tbody tr th:only-of-type {\n",
              "        vertical-align: middle;\n",
              "    }\n",
              "\n",
              "    .dataframe tbody tr th {\n",
              "        vertical-align: top;\n",
              "    }\n",
              "\n",
              "    .dataframe thead th {\n",
              "        text-align: right;\n",
              "    }\n",
              "</style>\n",
              "<table border=\"1\" class=\"dataframe\">\n",
              "  <thead>\n",
              "    <tr style=\"text-align: right;\">\n",
              "      <th></th>\n",
              "      <th>lm_prediction</th>\n",
              "      <th>index</th>\n",
              "      <th>real</th>\n",
              "      <th>lasso_prediction</th>\n",
              "      <th>svr_prediction</th>\n",
              "      <th>random_forest</th>\n",
              "    </tr>\n",
              "  </thead>\n",
              "  <tbody>\n",
              "    <tr>\n",
              "      <th>0</th>\n",
              "      <td>9287.319380</td>\n",
              "      <td>1</td>\n",
              "      <td>9239.900000</td>\n",
              "      <td>9287.504325</td>\n",
              "      <td>11114.335817</td>\n",
              "      <td>9343.880558</td>\n",
              "    </tr>\n",
              "    <tr>\n",
              "      <th>1</th>\n",
              "      <td>9240.831789</td>\n",
              "      <td>2</td>\n",
              "      <td>9100.000000</td>\n",
              "      <td>9240.842266</td>\n",
              "      <td>9753.279073</td>\n",
              "      <td>9292.273597</td>\n",
              "    </tr>\n",
              "    <tr>\n",
              "      <th>2</th>\n",
              "      <td>9167.753549</td>\n",
              "      <td>3</td>\n",
              "      <td>9073.200000</td>\n",
              "      <td>9167.767675</td>\n",
              "      <td>7710.265580</td>\n",
              "      <td>8951.153006</td>\n",
              "    </tr>\n",
              "    <tr>\n",
              "      <th>3</th>\n",
              "      <td>8987.913877</td>\n",
              "      <td>4</td>\n",
              "      <td>9147.700000</td>\n",
              "      <td>8987.861308</td>\n",
              "      <td>6254.006371</td>\n",
              "      <td>9307.651582</td>\n",
              "    </tr>\n",
              "    <tr>\n",
              "      <th>4</th>\n",
              "      <td>9070.336208</td>\n",
              "      <td>5</td>\n",
              "      <td>9084.284734</td>\n",
              "      <td>9070.317168</td>\n",
              "      <td>6684.506516</td>\n",
              "      <td>9229.655616</td>\n",
              "    </tr>\n",
              "    <tr>\n",
              "      <th>5</th>\n",
              "      <td>9168.129820</td>\n",
              "      <td>6</td>\n",
              "      <td>9361.100000</td>\n",
              "      <td>9168.154266</td>\n",
              "      <td>8418.032689</td>\n",
              "      <td>9207.732920</td>\n",
              "    </tr>\n",
              "    <tr>\n",
              "      <th>6</th>\n",
              "      <td>9126.409153</td>\n",
              "      <td>7</td>\n",
              "      <td>9267.514949</td>\n",
              "      <td>9126.411070</td>\n",
              "      <td>7517.340586</td>\n",
              "      <td>9180.592430</td>\n",
              "    </tr>\n",
              "  </tbody>\n",
              "</table>\n",
              "</div>"
            ],
            "text/plain": [
              "   lm_prediction  index         real  lasso_prediction  svr_prediction  \\\n",
              "0    9287.319380      1  9239.900000       9287.504325    11114.335817   \n",
              "1    9240.831789      2  9100.000000       9240.842266     9753.279073   \n",
              "2    9167.753549      3  9073.200000       9167.767675     7710.265580   \n",
              "3    8987.913877      4  9147.700000       8987.861308     6254.006371   \n",
              "4    9070.336208      5  9084.284734       9070.317168     6684.506516   \n",
              "5    9168.129820      6  9361.100000       9168.154266     8418.032689   \n",
              "6    9126.409153      7  9267.514949       9126.411070     7517.340586   \n",
              "\n",
              "   random_forest  \n",
              "0    9343.880558  \n",
              "1    9292.273597  \n",
              "2    8951.153006  \n",
              "3    9307.651582  \n",
              "4    9229.655616  \n",
              "5    9207.732920  \n",
              "6    9180.592430  "
            ]
          },
          "metadata": {
            "tags": []
          },
          "execution_count": 115
        }
      ]
    },
    {
      "cell_type": "code",
      "metadata": {
        "id": "L3NnAr-dlQmn",
        "outputId": "cc4254f6-c20b-4cb0-c2e8-05ec733ccff1",
        "colab": {
          "base_uri": "https://localhost:8080/",
          "height": 257
        }
      },
      "source": [
        "merge_july['Average'] = (merge_july['lm_prediction'] + merge_july['random_forest'])/2\n",
        "merge_july"
      ],
      "execution_count": null,
      "outputs": [
        {
          "output_type": "execute_result",
          "data": {
            "text/html": [
              "<div>\n",
              "<style scoped>\n",
              "    .dataframe tbody tr th:only-of-type {\n",
              "        vertical-align: middle;\n",
              "    }\n",
              "\n",
              "    .dataframe tbody tr th {\n",
              "        vertical-align: top;\n",
              "    }\n",
              "\n",
              "    .dataframe thead th {\n",
              "        text-align: right;\n",
              "    }\n",
              "</style>\n",
              "<table border=\"1\" class=\"dataframe\">\n",
              "  <thead>\n",
              "    <tr style=\"text-align: right;\">\n",
              "      <th></th>\n",
              "      <th>lm_prediction</th>\n",
              "      <th>index</th>\n",
              "      <th>real</th>\n",
              "      <th>lasso_prediction</th>\n",
              "      <th>svr_prediction</th>\n",
              "      <th>random_forest</th>\n",
              "      <th>Average</th>\n",
              "    </tr>\n",
              "  </thead>\n",
              "  <tbody>\n",
              "    <tr>\n",
              "      <th>0</th>\n",
              "      <td>9287.319380</td>\n",
              "      <td>1</td>\n",
              "      <td>9239.900000</td>\n",
              "      <td>9287.504325</td>\n",
              "      <td>11114.335817</td>\n",
              "      <td>9343.880558</td>\n",
              "      <td>9315.599969</td>\n",
              "    </tr>\n",
              "    <tr>\n",
              "      <th>1</th>\n",
              "      <td>9240.831789</td>\n",
              "      <td>2</td>\n",
              "      <td>9100.000000</td>\n",
              "      <td>9240.842266</td>\n",
              "      <td>9753.279073</td>\n",
              "      <td>9292.273597</td>\n",
              "      <td>9266.552693</td>\n",
              "    </tr>\n",
              "    <tr>\n",
              "      <th>2</th>\n",
              "      <td>9167.753549</td>\n",
              "      <td>3</td>\n",
              "      <td>9073.200000</td>\n",
              "      <td>9167.767675</td>\n",
              "      <td>7710.265580</td>\n",
              "      <td>8951.153006</td>\n",
              "      <td>9059.453278</td>\n",
              "    </tr>\n",
              "    <tr>\n",
              "      <th>3</th>\n",
              "      <td>8987.913877</td>\n",
              "      <td>4</td>\n",
              "      <td>9147.700000</td>\n",
              "      <td>8987.861308</td>\n",
              "      <td>6254.006371</td>\n",
              "      <td>9307.651582</td>\n",
              "      <td>9147.782730</td>\n",
              "    </tr>\n",
              "    <tr>\n",
              "      <th>4</th>\n",
              "      <td>9070.336208</td>\n",
              "      <td>5</td>\n",
              "      <td>9084.284734</td>\n",
              "      <td>9070.317168</td>\n",
              "      <td>6684.506516</td>\n",
              "      <td>9229.655616</td>\n",
              "      <td>9149.995912</td>\n",
              "    </tr>\n",
              "    <tr>\n",
              "      <th>5</th>\n",
              "      <td>9168.129820</td>\n",
              "      <td>6</td>\n",
              "      <td>9361.100000</td>\n",
              "      <td>9168.154266</td>\n",
              "      <td>8418.032689</td>\n",
              "      <td>9207.732920</td>\n",
              "      <td>9187.931370</td>\n",
              "    </tr>\n",
              "    <tr>\n",
              "      <th>6</th>\n",
              "      <td>9126.409153</td>\n",
              "      <td>7</td>\n",
              "      <td>9267.514949</td>\n",
              "      <td>9126.411070</td>\n",
              "      <td>7517.340586</td>\n",
              "      <td>9180.592430</td>\n",
              "      <td>9153.500791</td>\n",
              "    </tr>\n",
              "  </tbody>\n",
              "</table>\n",
              "</div>"
            ],
            "text/plain": [
              "   lm_prediction  index         real  lasso_prediction  svr_prediction  \\\n",
              "0    9287.319380      1  9239.900000       9287.504325    11114.335817   \n",
              "1    9240.831789      2  9100.000000       9240.842266     9753.279073   \n",
              "2    9167.753549      3  9073.200000       9167.767675     7710.265580   \n",
              "3    8987.913877      4  9147.700000       8987.861308     6254.006371   \n",
              "4    9070.336208      5  9084.284734       9070.317168     6684.506516   \n",
              "5    9168.129820      6  9361.100000       9168.154266     8418.032689   \n",
              "6    9126.409153      7  9267.514949       9126.411070     7517.340586   \n",
              "\n",
              "   random_forest      Average  \n",
              "0    9343.880558  9315.599969  \n",
              "1    9292.273597  9266.552693  \n",
              "2    8951.153006  9059.453278  \n",
              "3    9307.651582  9147.782730  \n",
              "4    9229.655616  9149.995912  \n",
              "5    9207.732920  9187.931370  \n",
              "6    9180.592430  9153.500791  "
            ]
          },
          "metadata": {
            "tags": []
          },
          "execution_count": 119
        }
      ]
    },
    {
      "cell_type": "code",
      "metadata": {
        "id": "csNTmmV5iVgs"
      },
      "source": [
        "merge_july.columns = ['lm_prediction', 'index', 'real', 'lasso_prediction', 'svr_prediction']"
      ],
      "execution_count": null,
      "outputs": []
    },
    {
      "cell_type": "code",
      "metadata": {
        "id": "7h_d5dLCiVgw",
        "outputId": "62f462e6-ced3-4d55-91ab-39dc7c175a07",
        "colab": {
          "base_uri": "https://localhost:8080/",
          "height": 608
        }
      },
      "source": [
        "# Plot the predicted vs actual in matplot lib\n",
        "import matplotlib.pyplot as plt\n",
        "plt.plot( 'index', 'real', data=merge_july, marker='o', markerfacecolor='blue', markersize=12, color='skyblue', linewidth=4)\n",
        "plt.plot( 'index', 'lm_prediction', data=merge_july, marker='', color='olive', linewidth=2)\n",
        "#plt.plot( 'index', 'lasso_prediction', data=merge_july, marker='', color='red', linewidth=2)\n",
        "#plt.plot( 'index', 'svr_prediction', data=merge_july, marker='', color='green', linewidth=2)\n",
        "plt.plot( 'index', 'random_forest', data=merge_july, marker='', color='yellow', linewidth=2)\n",
        "plt.plot( 'index', 'Average', data=merge_july, marker='', color='green', linewidth=2)\n",
        "plt.xticks(rotation='vertical')\n",
        "plt.legend()"
      ],
      "execution_count": null,
      "outputs": [
        {
          "output_type": "execute_result",
          "data": {
            "text/plain": [
              "<matplotlib.legend.Legend at 0x7f38d751cf28>"
            ]
          },
          "metadata": {
            "tags": []
          },
          "execution_count": 120
        },
        {
          "output_type": "display_data",
          "data": {
            "image/png": "[encoded data removed]",
            "text/plain": [
              "<Figure size 1440x720 with 1 Axes>"
            ]
          },
          "metadata": {
            "tags": []
          }
        }
      ]
    },
    {
      "cell_type": "markdown",
      "metadata": {
        "id": "YyhyZmz-Sig6"
      },
      "source": [
        "# Vanilla Neural Network - May"
      ]
    },
    {
      "cell_type": "code",
      "metadata": {
        "id": "83W3vfytSvJJ"
      },
      "source": [
        "%tensorflow_version 2.x"
      ],
      "execution_count": null,
      "outputs": []
    },
    {
      "cell_type": "code",
      "metadata": {
        "id": "xyex6a_KUHZn"
      },
      "source": [
        "import tensorflow as tf\n",
        "import numpy as np\n",
        "from sklearn.preprocessing import scale\n",
        "from sklearn.preprocessing import StandardScaler"
      ],
      "execution_count": null,
      "outputs": []
    },
    {
      "cell_type": "code",
      "metadata": {
        "id": "A2IlYlasULCq",
        "outputId": "596ff561-dce5-4726-df59-85b1ba9ffb27",
        "colab": {
          "base_uri": "https://localhost:8080/",
          "height": 221
        }
      },
      "source": [
        "# Standardise the two data sets as a neural network requires standardised data\n",
        "\n",
        "scaled_X_train = scale(x_train_may)\n",
        "scaled_X_test = scale(x_test_may)"
      ],
      "execution_count": null,
      "outputs": [
        {
          "output_type": "error",
          "ename": "NameError",
          "evalue": "ignored",
          "traceback": [
            "\u001b[0;31m---------------------------------------------------------------------------\u001b[0m",
            "\u001b[0;31mNameError\u001b[0m                                 Traceback (most recent call last)",
            "\u001b[0;32m<ipython-input-74-647f015ce76a>\u001b[0m in \u001b[0;36m<module>\u001b[0;34m()\u001b[0m\n\u001b[1;32m      1\u001b[0m \u001b[0;31m# Standardise the two data sets as a neural network requires standardised data\u001b[0m\u001b[0;34m\u001b[0m\u001b[0;34m\u001b[0m\u001b[0;34m\u001b[0m\u001b[0m\n\u001b[1;32m      2\u001b[0m \u001b[0;34m\u001b[0m\u001b[0m\n\u001b[0;32m----> 3\u001b[0;31m \u001b[0mscaled_X_train\u001b[0m \u001b[0;34m=\u001b[0m \u001b[0mscale\u001b[0m\u001b[0;34m(\u001b[0m\u001b[0mx_train_may\u001b[0m\u001b[0;34m)\u001b[0m\u001b[0;34m\u001b[0m\u001b[0;34m\u001b[0m\u001b[0m\n\u001b[0m\u001b[1;32m      4\u001b[0m \u001b[0mscaled_X_test\u001b[0m \u001b[0;34m=\u001b[0m \u001b[0mscale\u001b[0m\u001b[0;34m(\u001b[0m\u001b[0mx_test_may\u001b[0m\u001b[0;34m)\u001b[0m\u001b[0;34m\u001b[0m\u001b[0;34m\u001b[0m\u001b[0m\n",
            "\u001b[0;31mNameError\u001b[0m: name 'scale' is not defined"
          ]
        }
      ]
    },
    {
      "cell_type": "code",
      "metadata": {
        "id": "OlsoKh4LV1ln"
      },
      "source": [
        "# Set the seed for the modelling exercises in order to get reproducible results\n",
        "\n",
        "tf.random.set_seed(168)\n",
        "np.random.seed(168)"
      ],
      "execution_count": null,
      "outputs": []
    },
    {
      "cell_type": "code",
      "metadata": {
        "id": "bQVMpBZ_V9Eg"
      },
      "source": [
        "from tensorflow.keras.layers import Dense, Dropout"
      ],
      "execution_count": null,
      "outputs": []
    },
    {
      "cell_type": "code",
      "metadata": {
        "id": "qIpGsA8gWBtG"
      },
      "source": [
        "# Create a sequential model \n",
        "\n",
        "model = tf.keras.Sequential()"
      ],
      "execution_count": null,
      "outputs": []
    },
    {
      "cell_type": "code",
      "metadata": {
        "id": "Lzg2jXmYWHpu"
      },
      "source": [
        "# create the architecture for the neural network\n",
        "\n",
        "layer1 = Dense(128, activation='relu', input_shape=[9])\n",
        "\n",
        "layer2 = Dense(128, activation='relu')\n",
        "\n",
        "layer3 = Dense(128, activation='relu')\n",
        "\n",
        "top_layer = Dense(1)"
      ],
      "execution_count": null,
      "outputs": []
    },
    {
      "cell_type": "code",
      "metadata": {
        "id": "TdqOcxhoZWcH"
      },
      "source": [
        "# Add the layers into the model\n",
        "\n",
        "model.add(layer1)\n",
        "model.add(Dropout(0.5))\n",
        "model.add(layer2)\n",
        "model.add(Dropout(0.5))\n",
        "model.add(layer3)\n",
        "model.add(Dropout(0.5))\n",
        "model.add(top_layer)"
      ],
      "execution_count": null,
      "outputs": []
    },
    {
      "cell_type": "code",
      "metadata": {
        "id": "eoMqb6jkax2o"
      },
      "source": [
        "# Specify the optimizer to be used during the back propgation\n",
        "optimizer = tf.keras.optimizers.Adam(0.0001)"
      ],
      "execution_count": null,
      "outputs": []
    },
    {
      "cell_type": "code",
      "metadata": {
        "id": "JCrwY2ueYb9b"
      },
      "source": [
        "# Compile the model architecture\n",
        "\n",
        "model.compile(loss='mean_squared_error', optimizer=optimizer)"
      ],
      "execution_count": null,
      "outputs": []
    },
    {
      "cell_type": "code",
      "metadata": {
        "id": "7KG6gQQFYs4F",
        "outputId": "52e726c6-a1fe-404d-ecbf-088e192b7485",
        "colab": {
          "base_uri": "https://localhost:8080/",
          "height": 443
        }
      },
      "source": [
        "# Print a summary of the model\n",
        "model.summary()"
      ],
      "execution_count": null,
      "outputs": [
        {
          "output_type": "stream",
          "text": [
            "Model: \"sequential_7\"\n",
            "_________________________________________________________________\n",
            "Layer (type)                 Output Shape              Param #   \n",
            "=================================================================\n",
            "dense_40 (Dense)             (None, 128)               1280      \n",
            "_________________________________________________________________\n",
            "dense_44 (Dense)             (None, 128)               16512     \n",
            "_________________________________________________________________\n",
            "dropout (Dropout)            (None, 128)               0         \n",
            "_________________________________________________________________\n",
            "dense_45 (Dense)             (None, 128)               16512     \n",
            "_________________________________________________________________\n",
            "dropout_1 (Dropout)          (None, 128)               0         \n",
            "_________________________________________________________________\n",
            "dense_46 (Dense)             (None, 128)               16512     \n",
            "_________________________________________________________________\n",
            "dropout_2 (Dropout)          (None, 128)               0         \n",
            "_________________________________________________________________\n",
            "dense_47 (Dense)             (None, 1)                 129       \n",
            "=================================================================\n",
            "Total params: 50,945\n",
            "Trainable params: 50,945\n",
            "Non-trainable params: 0\n",
            "_________________________________________________________________\n"
          ],
          "name": "stdout"
        }
      ]
    },
    {
      "cell_type": "code",
      "metadata": {
        "id": "qs65-lX4Zdst",
        "outputId": "a545366a-f942-4f1f-f66f-1779f11dca36",
        "colab": {
          "base_uri": "https://localhost:8080/",
          "height": 1000
        }
      },
      "source": [
        "history = model.fit(scaled_X_train, y_train_may, epochs=250, validation_split = 0.3)"
      ],
      "execution_count": null,
      "outputs": [
        {
          "output_type": "stream",
          "text": [
            "Epoch 1/250\n",
            "24/24 [==============================] - 0s 9ms/step - loss: 51911768.0000 - val_loss: 80201024.0000\n",
            "Epoch 2/250\n",
            "24/24 [==============================] - 0s 5ms/step - loss: 51906788.0000 - val_loss: 80197288.0000\n",
            "Epoch 3/250\n",
            "24/24 [==============================] - 0s 4ms/step - loss: 51901848.0000 - val_loss: 80191632.0000\n",
            "Epoch 4/250\n",
            "24/24 [==============================] - 0s 4ms/step - loss: 51891880.0000 - val_loss: 80182024.0000\n",
            "Epoch 5/250\n",
            "24/24 [==============================] - 0s 4ms/step - loss: 51878220.0000 - val_loss: 80166208.0000\n",
            "Epoch 6/250\n",
            "24/24 [==============================] - 0s 4ms/step - loss: 51850256.0000 - val_loss: 80137592.0000\n",
            "Epoch 7/250\n",
            "24/24 [==============================] - 0s 4ms/step - loss: 51799436.0000 - val_loss: 80085840.0000\n",
            "Epoch 8/250\n",
            "24/24 [==============================] - 0s 4ms/step - loss: 51715812.0000 - val_loss: 79993408.0000\n",
            "Epoch 9/250\n",
            "24/24 [==============================] - 0s 4ms/step - loss: 51548216.0000 - val_loss: 79831408.0000\n",
            "Epoch 10/250\n",
            "24/24 [==============================] - 0s 4ms/step - loss: 51254396.0000 - val_loss: 79560736.0000\n",
            "Epoch 11/250\n",
            "24/24 [==============================] - 0s 5ms/step - loss: 50769980.0000 - val_loss: 79130576.0000\n",
            "Epoch 12/250\n",
            "24/24 [==============================] - 0s 4ms/step - loss: 49928632.0000 - val_loss: 78474872.0000\n",
            "Epoch 13/250\n",
            "24/24 [==============================] - 0s 4ms/step - loss: 48629068.0000 - val_loss: 77511392.0000\n",
            "Epoch 14/250\n",
            "24/24 [==============================] - 0s 4ms/step - loss: 46707104.0000 - val_loss: 76151712.0000\n",
            "Epoch 15/250\n",
            "24/24 [==============================] - 0s 4ms/step - loss: 44006176.0000 - val_loss: 74293256.0000\n",
            "Epoch 16/250\n",
            "24/24 [==============================] - 0s 4ms/step - loss: 40475364.0000 - val_loss: 71906792.0000\n",
            "Epoch 17/250\n",
            "24/24 [==============================] - 0s 4ms/step - loss: 36395540.0000 - val_loss: 68978536.0000\n",
            "Epoch 18/250\n",
            "24/24 [==============================] - 0s 4ms/step - loss: 31398298.0000 - val_loss: 65440128.0000\n",
            "Epoch 19/250\n",
            "24/24 [==============================] - 0s 4ms/step - loss: 26400028.0000 - val_loss: 61484972.0000\n",
            "Epoch 20/250\n",
            "24/24 [==============================] - 0s 5ms/step - loss: 22093098.0000 - val_loss: 57527100.0000\n",
            "Epoch 21/250\n",
            "24/24 [==============================] - 0s 5ms/step - loss: 19034798.0000 - val_loss: 53448332.0000\n",
            "Epoch 22/250\n",
            "24/24 [==============================] - 0s 4ms/step - loss: 16927500.0000 - val_loss: 50118652.0000\n",
            "Epoch 23/250\n",
            "24/24 [==============================] - 0s 4ms/step - loss: 16109337.0000 - val_loss: 47379560.0000\n",
            "Epoch 24/250\n",
            "24/24 [==============================] - 0s 4ms/step - loss: 15514486.0000 - val_loss: 45616672.0000\n",
            "Epoch 25/250\n",
            "24/24 [==============================] - 0s 4ms/step - loss: 14875599.0000 - val_loss: 44202488.0000\n",
            "Epoch 26/250\n",
            "24/24 [==============================] - 0s 4ms/step - loss: 14086605.0000 - val_loss: 42373636.0000\n",
            "Epoch 27/250\n",
            "24/24 [==============================] - 0s 4ms/step - loss: 14625405.0000 - val_loss: 40956948.0000\n",
            "Epoch 28/250\n",
            "24/24 [==============================] - 0s 4ms/step - loss: 13942419.0000 - val_loss: 39676216.0000\n",
            "Epoch 29/250\n",
            "24/24 [==============================] - 0s 5ms/step - loss: 13560096.0000 - val_loss: 38493268.0000\n",
            "Epoch 30/250\n",
            "24/24 [==============================] - 0s 4ms/step - loss: 13853734.0000 - val_loss: 37433956.0000\n",
            "Epoch 31/250\n",
            "24/24 [==============================] - 0s 4ms/step - loss: 13530312.0000 - val_loss: 36552380.0000\n",
            "Epoch 32/250\n",
            "24/24 [==============================] - 0s 4ms/step - loss: 12883377.0000 - val_loss: 35396012.0000\n",
            "Epoch 33/250\n",
            "24/24 [==============================] - 0s 4ms/step - loss: 12961884.0000 - val_loss: 34333972.0000\n",
            "Epoch 34/250\n",
            "24/24 [==============================] - 0s 4ms/step - loss: 12831974.0000 - val_loss: 32849174.0000\n",
            "Epoch 35/250\n",
            "24/24 [==============================] - 0s 4ms/step - loss: 12393297.0000 - val_loss: 31891286.0000\n",
            "Epoch 36/250\n",
            "24/24 [==============================] - 0s 4ms/step - loss: 12550182.0000 - val_loss: 30864362.0000\n",
            "Epoch 37/250\n",
            "24/24 [==============================] - 0s 4ms/step - loss: 11805505.0000 - val_loss: 29534568.0000\n",
            "Epoch 38/250\n",
            "24/24 [==============================] - 0s 4ms/step - loss: 11217564.0000 - val_loss: 28402098.0000\n",
            "Epoch 39/250\n",
            "24/24 [==============================] - 0s 5ms/step - loss: 11659611.0000 - val_loss: 27438456.0000\n",
            "Epoch 40/250\n",
            "24/24 [==============================] - 0s 4ms/step - loss: 11198067.0000 - val_loss: 26413438.0000\n",
            "Epoch 41/250\n",
            "24/24 [==============================] - 0s 4ms/step - loss: 10945245.0000 - val_loss: 25464234.0000\n",
            "Epoch 42/250\n",
            "24/24 [==============================] - 0s 4ms/step - loss: 10993564.0000 - val_loss: 24743322.0000\n",
            "Epoch 43/250\n",
            "24/24 [==============================] - 0s 4ms/step - loss: 10974930.0000 - val_loss: 23962526.0000\n",
            "Epoch 44/250\n",
            "24/24 [==============================] - 0s 4ms/step - loss: 10265821.0000 - val_loss: 22849844.0000\n",
            "Epoch 45/250\n",
            "24/24 [==============================] - 0s 4ms/step - loss: 10243312.0000 - val_loss: 21685304.0000\n",
            "Epoch 46/250\n",
            "24/24 [==============================] - 0s 4ms/step - loss: 10614691.0000 - val_loss: 21162982.0000\n",
            "Epoch 47/250\n",
            "24/24 [==============================] - 0s 5ms/step - loss: 10237858.0000 - val_loss: 20261840.0000\n",
            "Epoch 48/250\n",
            "24/24 [==============================] - 0s 5ms/step - loss: 9851209.0000 - val_loss: 19256528.0000\n",
            "Epoch 49/250\n",
            "24/24 [==============================] - 0s 4ms/step - loss: 9367189.0000 - val_loss: 18238098.0000\n",
            "Epoch 50/250\n",
            "24/24 [==============================] - 0s 4ms/step - loss: 9247360.0000 - val_loss: 17336364.0000\n",
            "Epoch 51/250\n",
            "24/24 [==============================] - 0s 4ms/step - loss: 9339917.0000 - val_loss: 16702497.0000\n",
            "Epoch 52/250\n",
            "24/24 [==============================] - 0s 4ms/step - loss: 8973650.0000 - val_loss: 16034762.0000\n",
            "Epoch 53/250\n",
            "24/24 [==============================] - 0s 4ms/step - loss: 8357505.0000 - val_loss: 15107160.0000\n",
            "Epoch 54/250\n",
            "24/24 [==============================] - 0s 4ms/step - loss: 8868846.0000 - val_loss: 14272984.0000\n",
            "Epoch 55/250\n",
            "24/24 [==============================] - 0s 4ms/step - loss: 8422269.0000 - val_loss: 13432816.0000\n",
            "Epoch 56/250\n",
            "24/24 [==============================] - 0s 4ms/step - loss: 8591022.0000 - val_loss: 12873947.0000\n",
            "Epoch 57/250\n",
            "24/24 [==============================] - 0s 4ms/step - loss: 8223286.0000 - val_loss: 12073447.0000\n",
            "Epoch 58/250\n",
            "24/24 [==============================] - 0s 5ms/step - loss: 8089061.5000 - val_loss: 11181609.0000\n",
            "Epoch 59/250\n",
            "24/24 [==============================] - 0s 4ms/step - loss: 7313522.0000 - val_loss: 10427232.0000\n",
            "Epoch 60/250\n",
            "24/24 [==============================] - 0s 4ms/step - loss: 7791627.5000 - val_loss: 10060015.0000\n",
            "Epoch 61/250\n",
            "24/24 [==============================] - 0s 4ms/step - loss: 7435895.5000 - val_loss: 9509826.0000\n",
            "Epoch 62/250\n",
            "24/24 [==============================] - 0s 4ms/step - loss: 7578581.0000 - val_loss: 8863012.0000\n",
            "Epoch 63/250\n",
            "24/24 [==============================] - 0s 4ms/step - loss: 6998915.5000 - val_loss: 8230045.0000\n",
            "Epoch 64/250\n",
            "24/24 [==============================] - 0s 4ms/step - loss: 6843321.0000 - val_loss: 7641832.0000\n",
            "Epoch 65/250\n",
            "24/24 [==============================] - 0s 4ms/step - loss: 6254672.0000 - val_loss: 7020714.5000\n",
            "Epoch 66/250\n",
            "24/24 [==============================] - 0s 4ms/step - loss: 7024017.5000 - val_loss: 6565098.0000\n",
            "Epoch 67/250\n",
            "24/24 [==============================] - 0s 5ms/step - loss: 6372570.0000 - val_loss: 6174146.5000\n",
            "Epoch 68/250\n",
            "24/24 [==============================] - 0s 4ms/step - loss: 5903153.0000 - val_loss: 5464477.0000\n",
            "Epoch 69/250\n",
            "24/24 [==============================] - 0s 4ms/step - loss: 6587978.0000 - val_loss: 5186382.0000\n",
            "Epoch 70/250\n",
            "24/24 [==============================] - 0s 4ms/step - loss: 6368345.5000 - val_loss: 5022087.0000\n",
            "Epoch 71/250\n",
            "24/24 [==============================] - 0s 4ms/step - loss: 6035016.0000 - val_loss: 4639797.0000\n",
            "Epoch 72/250\n",
            "24/24 [==============================] - 0s 4ms/step - loss: 5985440.5000 - val_loss: 4237365.5000\n",
            "Epoch 73/250\n",
            "24/24 [==============================] - 0s 4ms/step - loss: 5508712.0000 - val_loss: 3767581.0000\n",
            "Epoch 74/250\n",
            "24/24 [==============================] - 0s 4ms/step - loss: 5751964.5000 - val_loss: 3429900.7500\n",
            "Epoch 75/250\n",
            "24/24 [==============================] - 0s 4ms/step - loss: 5276687.0000 - val_loss: 3330899.5000\n",
            "Epoch 76/250\n",
            "24/24 [==============================] - 0s 5ms/step - loss: 5239759.0000 - val_loss: 3146462.7500\n",
            "Epoch 77/250\n",
            "24/24 [==============================] - 0s 4ms/step - loss: 5238002.0000 - val_loss: 2788427.2500\n",
            "Epoch 78/250\n",
            "24/24 [==============================] - 0s 4ms/step - loss: 5568684.5000 - val_loss: 2666871.2500\n",
            "Epoch 79/250\n",
            "24/24 [==============================] - 0s 4ms/step - loss: 5626563.5000 - val_loss: 2498290.7500\n",
            "Epoch 80/250\n",
            "24/24 [==============================] - 0s 4ms/step - loss: 5523437.5000 - val_loss: 2349716.2500\n",
            "Epoch 81/250\n",
            "24/24 [==============================] - 0s 5ms/step - loss: 4947853.5000 - val_loss: 2172522.5000\n",
            "Epoch 82/250\n",
            "24/24 [==============================] - 0s 5ms/step - loss: 4751404.0000 - val_loss: 2040438.0000\n",
            "Epoch 83/250\n",
            "24/24 [==============================] - 0s 4ms/step - loss: 4718272.0000 - val_loss: 1918766.2500\n",
            "Epoch 84/250\n",
            "24/24 [==============================] - 0s 5ms/step - loss: 4563654.0000 - val_loss: 1807111.3750\n",
            "Epoch 85/250\n",
            "24/24 [==============================] - 0s 5ms/step - loss: 4884780.0000 - val_loss: 1765729.1250\n",
            "Epoch 86/250\n",
            "24/24 [==============================] - 0s 5ms/step - loss: 4573659.0000 - val_loss: 1758319.8750\n",
            "Epoch 87/250\n",
            "24/24 [==============================] - 0s 5ms/step - loss: 4460879.0000 - val_loss: 1745504.1250\n",
            "Epoch 88/250\n",
            "24/24 [==============================] - 0s 5ms/step - loss: 4662184.0000 - val_loss: 1729590.2500\n",
            "Epoch 89/250\n",
            "24/24 [==============================] - 0s 5ms/step - loss: 4266672.5000 - val_loss: 1725409.5000\n",
            "Epoch 90/250\n",
            "24/24 [==============================] - 0s 5ms/step - loss: 4636251.5000 - val_loss: 1749303.6250\n",
            "Epoch 91/250\n",
            "24/24 [==============================] - 0s 4ms/step - loss: 4171041.2500 - val_loss: 1788886.3750\n",
            "Epoch 92/250\n",
            "24/24 [==============================] - 0s 5ms/step - loss: 4443143.0000 - val_loss: 1838268.2500\n",
            "Epoch 93/250\n",
            "24/24 [==============================] - 0s 5ms/step - loss: 4143642.2500 - val_loss: 1832920.5000\n",
            "Epoch 94/250\n",
            "24/24 [==============================] - 0s 5ms/step - loss: 3977114.7500 - val_loss: 1876257.8750\n",
            "Epoch 95/250\n",
            "24/24 [==============================] - 0s 5ms/step - loss: 4351131.0000 - val_loss: 1922459.7500\n",
            "Epoch 96/250\n",
            "24/24 [==============================] - 0s 5ms/step - loss: 4189897.7500 - val_loss: 1968607.5000\n",
            "Epoch 97/250\n",
            "24/24 [==============================] - 0s 5ms/step - loss: 4186469.2500 - val_loss: 2030589.2500\n",
            "Epoch 98/250\n",
            "24/24 [==============================] - 0s 5ms/step - loss: 3844700.5000 - val_loss: 2065274.8750\n",
            "Epoch 99/250\n",
            "24/24 [==============================] - 0s 5ms/step - loss: 4115393.0000 - val_loss: 2130222.7500\n",
            "Epoch 100/250\n",
            "24/24 [==============================] - 0s 5ms/step - loss: 3848914.2500 - val_loss: 2149626.7500\n",
            "Epoch 101/250\n",
            "24/24 [==============================] - 0s 4ms/step - loss: 4011962.0000 - val_loss: 2260476.7500\n",
            "Epoch 102/250\n",
            "24/24 [==============================] - 0s 5ms/step - loss: 3617942.5000 - val_loss: 2312243.5000\n",
            "Epoch 103/250\n",
            "24/24 [==============================] - 0s 4ms/step - loss: 3805923.2500 - val_loss: 2283029.2500\n",
            "Epoch 104/250\n",
            "24/24 [==============================] - 0s 5ms/step - loss: 4333944.5000 - val_loss: 2324437.2500\n",
            "Epoch 105/250\n",
            "24/24 [==============================] - 0s 4ms/step - loss: 3649398.5000 - val_loss: 2520112.2500\n",
            "Epoch 106/250\n",
            "24/24 [==============================] - 0s 5ms/step - loss: 4223600.5000 - val_loss: 2685436.5000\n",
            "Epoch 107/250\n",
            "24/24 [==============================] - 0s 5ms/step - loss: 3778803.0000 - val_loss: 2784107.7500\n",
            "Epoch 108/250\n",
            "24/24 [==============================] - 0s 4ms/step - loss: 3905191.5000 - val_loss: 2778341.5000\n",
            "Epoch 109/250\n",
            "24/24 [==============================] - 0s 5ms/step - loss: 3346306.2500 - val_loss: 2883445.0000\n",
            "Epoch 110/250\n",
            "24/24 [==============================] - 0s 5ms/step - loss: 3849065.2500 - val_loss: 2883035.0000\n",
            "Epoch 111/250\n",
            "24/24 [==============================] - 0s 5ms/step - loss: 3866842.5000 - val_loss: 2985993.0000\n",
            "Epoch 112/250\n",
            "24/24 [==============================] - 0s 5ms/step - loss: 3580595.5000 - val_loss: 3155645.2500\n",
            "Epoch 113/250\n",
            "24/24 [==============================] - 0s 4ms/step - loss: 3623448.2500 - val_loss: 3253180.5000\n",
            "Epoch 114/250\n",
            "24/24 [==============================] - 0s 4ms/step - loss: 3538066.2500 - val_loss: 3279293.7500\n",
            "Epoch 115/250\n",
            "24/24 [==============================] - 0s 5ms/step - loss: 3524046.0000 - val_loss: 3298059.0000\n",
            "Epoch 116/250\n",
            "24/24 [==============================] - 0s 5ms/step - loss: 3780135.0000 - val_loss: 3234308.2500\n",
            "Epoch 117/250\n",
            "24/24 [==============================] - 0s 5ms/step - loss: 3357454.0000 - val_loss: 3268295.5000\n",
            "Epoch 118/250\n",
            "24/24 [==============================] - 0s 4ms/step - loss: 3409876.0000 - val_loss: 3436994.5000\n",
            "Epoch 119/250\n",
            "24/24 [==============================] - 0s 5ms/step - loss: 3964696.0000 - val_loss: 3468733.0000\n",
            "Epoch 120/250\n",
            "24/24 [==============================] - 0s 4ms/step - loss: 3827813.5000 - val_loss: 3489603.5000\n",
            "Epoch 121/250\n",
            "24/24 [==============================] - 0s 4ms/step - loss: 3580198.0000 - val_loss: 3489898.5000\n",
            "Epoch 122/250\n",
            "24/24 [==============================] - 0s 4ms/step - loss: 3583709.7500 - val_loss: 3553599.0000\n",
            "Epoch 123/250\n",
            "24/24 [==============================] - 0s 4ms/step - loss: 3621782.7500 - val_loss: 3839681.7500\n",
            "Epoch 124/250\n",
            "24/24 [==============================] - 0s 4ms/step - loss: 3532995.2500 - val_loss: 3631071.7500\n",
            "Epoch 125/250\n",
            "24/24 [==============================] - 0s 4ms/step - loss: 3296152.0000 - val_loss: 3525220.5000\n",
            "Epoch 126/250\n",
            "24/24 [==============================] - 0s 4ms/step - loss: 3118216.2500 - val_loss: 3550515.0000\n",
            "Epoch 127/250\n",
            "24/24 [==============================] - 0s 4ms/step - loss: 3382608.0000 - val_loss: 3383721.5000\n",
            "Epoch 128/250\n",
            "24/24 [==============================] - 0s 4ms/step - loss: 3354346.2500 - val_loss: 3545783.7500\n",
            "Epoch 129/250\n",
            "24/24 [==============================] - 0s 4ms/step - loss: 3200708.2500 - val_loss: 3685687.7500\n",
            "Epoch 130/250\n",
            "24/24 [==============================] - 0s 4ms/step - loss: 3490577.5000 - val_loss: 3747246.7500\n",
            "Epoch 131/250\n",
            "24/24 [==============================] - 0s 4ms/step - loss: 3780099.5000 - val_loss: 3587829.2500\n",
            "Epoch 132/250\n",
            "24/24 [==============================] - 0s 4ms/step - loss: 3488983.0000 - val_loss: 3473816.2500\n",
            "Epoch 133/250\n",
            "24/24 [==============================] - 0s 4ms/step - loss: 3339385.7500 - val_loss: 3275424.5000\n",
            "Epoch 134/250\n",
            "24/24 [==============================] - 0s 4ms/step - loss: 2916490.5000 - val_loss: 3454870.0000\n",
            "Epoch 135/250\n",
            "24/24 [==============================] - 0s 4ms/step - loss: 3472027.2500 - val_loss: 3428896.7500\n",
            "Epoch 136/250\n",
            "24/24 [==============================] - 0s 4ms/step - loss: 3244673.2500 - val_loss: 3575172.5000\n",
            "Epoch 137/250\n",
            "24/24 [==============================] - 0s 4ms/step - loss: 3303971.5000 - val_loss: 3804824.2500\n",
            "Epoch 138/250\n",
            "24/24 [==============================] - 0s 5ms/step - loss: 3605909.2500 - val_loss: 3689760.0000\n",
            "Epoch 139/250\n",
            "24/24 [==============================] - 0s 4ms/step - loss: 3204110.0000 - val_loss: 3780123.0000\n",
            "Epoch 140/250\n",
            "24/24 [==============================] - 0s 4ms/step - loss: 3006608.0000 - val_loss: 3776103.0000\n",
            "Epoch 141/250\n",
            "24/24 [==============================] - 0s 4ms/step - loss: 3622707.0000 - val_loss: 3732714.5000\n",
            "Epoch 142/250\n",
            "24/24 [==============================] - 0s 4ms/step - loss: 3358953.0000 - val_loss: 3867512.5000\n",
            "Epoch 143/250\n",
            "24/24 [==============================] - 0s 4ms/step - loss: 3185363.5000 - val_loss: 3922202.0000\n",
            "Epoch 144/250\n",
            "24/24 [==============================] - 0s 4ms/step - loss: 3087363.5000 - val_loss: 3876549.7500\n",
            "Epoch 145/250\n",
            "24/24 [==============================] - 0s 4ms/step - loss: 2981532.2500 - val_loss: 3876662.7500\n",
            "Epoch 146/250\n",
            "24/24 [==============================] - 0s 4ms/step - loss: 2790502.2500 - val_loss: 3850927.5000\n",
            "Epoch 147/250\n",
            "24/24 [==============================] - 0s 4ms/step - loss: 3123696.5000 - val_loss: 3923879.5000\n",
            "Epoch 148/250\n",
            "24/24 [==============================] - 0s 5ms/step - loss: 2984948.5000 - val_loss: 3968950.2500\n",
            "Epoch 149/250\n",
            "24/24 [==============================] - 0s 4ms/step - loss: 2867890.5000 - val_loss: 3924988.0000\n",
            "Epoch 150/250\n",
            "24/24 [==============================] - 0s 4ms/step - loss: 2885790.2500 - val_loss: 3801376.2500\n",
            "Epoch 151/250\n",
            "24/24 [==============================] - 0s 4ms/step - loss: 3216928.5000 - val_loss: 4082323.5000\n",
            "Epoch 152/250\n",
            "24/24 [==============================] - 0s 4ms/step - loss: 2970736.0000 - val_loss: 4086110.5000\n",
            "Epoch 153/250\n",
            "24/24 [==============================] - 0s 4ms/step - loss: 3500976.2500 - val_loss: 4010508.0000\n",
            "Epoch 154/250\n",
            "24/24 [==============================] - 0s 4ms/step - loss: 2971291.2500 - val_loss: 4170263.5000\n",
            "Epoch 155/250\n",
            "24/24 [==============================] - 0s 4ms/step - loss: 3159466.2500 - val_loss: 3918236.0000\n",
            "Epoch 156/250\n",
            "24/24 [==============================] - 0s 4ms/step - loss: 3118687.7500 - val_loss: 4008156.5000\n",
            "Epoch 157/250\n",
            "24/24 [==============================] - 0s 4ms/step - loss: 3223611.5000 - val_loss: 3879089.0000\n",
            "Epoch 158/250\n",
            "24/24 [==============================] - 0s 4ms/step - loss: 2880680.7500 - val_loss: 3969018.5000\n",
            "Epoch 159/250\n",
            "24/24 [==============================] - 0s 4ms/step - loss: 3472376.5000 - val_loss: 4026653.0000\n",
            "Epoch 160/250\n",
            "24/24 [==============================] - 0s 4ms/step - loss: 3119247.2500 - val_loss: 3806908.2500\n",
            "Epoch 161/250\n",
            "24/24 [==============================] - 0s 4ms/step - loss: 3264444.0000 - val_loss: 3965218.7500\n",
            "Epoch 162/250\n",
            "24/24 [==============================] - 0s 4ms/step - loss: 3234927.7500 - val_loss: 3962690.2500\n",
            "Epoch 163/250\n",
            "24/24 [==============================] - 0s 4ms/step - loss: 2837451.0000 - val_loss: 4072955.2500\n",
            "Epoch 164/250\n",
            "24/24 [==============================] - 0s 4ms/step - loss: 3050781.7500 - val_loss: 3980617.0000\n",
            "Epoch 165/250\n",
            "24/24 [==============================] - 0s 4ms/step - loss: 3138061.0000 - val_loss: 3899008.7500\n",
            "Epoch 166/250\n",
            "24/24 [==============================] - 0s 5ms/step - loss: 3058796.2500 - val_loss: 3959108.2500\n",
            "Epoch 167/250\n",
            "24/24 [==============================] - 0s 4ms/step - loss: 2912898.0000 - val_loss: 4121747.2500\n",
            "Epoch 168/250\n",
            "24/24 [==============================] - 0s 4ms/step - loss: 2955341.0000 - val_loss: 3912294.0000\n",
            "Epoch 169/250\n",
            "24/24 [==============================] - 0s 4ms/step - loss: 2987720.2500 - val_loss: 3638549.2500\n",
            "Epoch 170/250\n",
            "24/24 [==============================] - 0s 4ms/step - loss: 3016629.2500 - val_loss: 3664376.7500\n",
            "Epoch 171/250\n",
            "24/24 [==============================] - 0s 4ms/step - loss: 2813187.5000 - val_loss: 3936855.7500\n",
            "Epoch 172/250\n",
            "24/24 [==============================] - 0s 4ms/step - loss: 3195929.0000 - val_loss: 3970309.5000\n",
            "Epoch 173/250\n",
            "24/24 [==============================] - 0s 4ms/step - loss: 2889514.7500 - val_loss: 3709761.7500\n",
            "Epoch 174/250\n",
            "24/24 [==============================] - 0s 5ms/step - loss: 2930382.7500 - val_loss: 3707654.7500\n",
            "Epoch 175/250\n",
            "24/24 [==============================] - 0s 4ms/step - loss: 3072967.5000 - val_loss: 3623436.2500\n",
            "Epoch 176/250\n",
            "24/24 [==============================] - 0s 5ms/step - loss: 2877032.5000 - val_loss: 3684520.2500\n",
            "Epoch 177/250\n",
            "24/24 [==============================] - 0s 4ms/step - loss: 2779254.5000 - val_loss: 3662475.5000\n",
            "Epoch 178/250\n",
            "24/24 [==============================] - 0s 4ms/step - loss: 2821926.2500 - val_loss: 3674473.2500\n",
            "Epoch 179/250\n",
            "24/24 [==============================] - 0s 4ms/step - loss: 2727170.7500 - val_loss: 3680414.0000\n",
            "Epoch 180/250\n",
            "24/24 [==============================] - 0s 4ms/step - loss: 3203452.5000 - val_loss: 3722162.2500\n",
            "Epoch 181/250\n",
            "24/24 [==============================] - 0s 4ms/step - loss: 3097533.7500 - val_loss: 3516115.7500\n",
            "Epoch 182/250\n",
            "24/24 [==============================] - 0s 4ms/step - loss: 2890950.2500 - val_loss: 3523935.7500\n",
            "Epoch 183/250\n",
            "24/24 [==============================] - 0s 4ms/step - loss: 2945821.5000 - val_loss: 3499545.0000\n",
            "Epoch 184/250\n",
            "24/24 [==============================] - 0s 4ms/step - loss: 2608896.7500 - val_loss: 3436704.7500\n",
            "Epoch 185/250\n",
            "24/24 [==============================] - 0s 5ms/step - loss: 2760861.5000 - val_loss: 3586993.7500\n",
            "Epoch 186/250\n",
            "24/24 [==============================] - 0s 4ms/step - loss: 2714925.0000 - val_loss: 3612305.5000\n",
            "Epoch 187/250\n",
            "24/24 [==============================] - 0s 4ms/step - loss: 2642589.7500 - val_loss: 3658426.2500\n",
            "Epoch 188/250\n",
            "24/24 [==============================] - 0s 4ms/step - loss: 3012589.2500 - val_loss: 3572290.5000\n",
            "Epoch 189/250\n",
            "24/24 [==============================] - 0s 4ms/step - loss: 2883956.2500 - val_loss: 3550303.0000\n",
            "Epoch 190/250\n",
            "24/24 [==============================] - 0s 4ms/step - loss: 2898795.2500 - val_loss: 3724491.2500\n",
            "Epoch 191/250\n",
            "24/24 [==============================] - 0s 4ms/step - loss: 2962122.7500 - val_loss: 3718554.2500\n",
            "Epoch 192/250\n",
            "24/24 [==============================] - 0s 4ms/step - loss: 2781632.5000 - val_loss: 3586505.7500\n",
            "Epoch 193/250\n",
            "24/24 [==============================] - 0s 4ms/step - loss: 2991507.2500 - val_loss: 3393902.5000\n",
            "Epoch 194/250\n",
            "24/24 [==============================] - 0s 4ms/step - loss: 2607571.2500 - val_loss: 3419218.5000\n",
            "Epoch 195/250\n",
            "24/24 [==============================] - 0s 5ms/step - loss: 2898626.5000 - val_loss: 3540727.7500\n",
            "Epoch 196/250\n",
            "24/24 [==============================] - 0s 4ms/step - loss: 2767266.0000 - val_loss: 3547509.7500\n",
            "Epoch 197/250\n",
            "24/24 [==============================] - 0s 4ms/step - loss: 2619344.2500 - val_loss: 3515262.5000\n",
            "Epoch 198/250\n",
            "24/24 [==============================] - 0s 4ms/step - loss: 2687943.2500 - val_loss: 3599183.0000\n",
            "Epoch 199/250\n",
            "24/24 [==============================] - 0s 4ms/step - loss: 2382229.0000 - val_loss: 3782010.5000\n",
            "Epoch 200/250\n",
            "24/24 [==============================] - 0s 4ms/step - loss: 2691816.0000 - val_loss: 3699887.0000\n",
            "Epoch 201/250\n",
            "24/24 [==============================] - 0s 4ms/step - loss: 2621117.5000 - val_loss: 3653526.2500\n",
            "Epoch 202/250\n",
            "24/24 [==============================] - 0s 4ms/step - loss: 2616460.2500 - val_loss: 3375588.0000\n",
            "Epoch 203/250\n",
            "24/24 [==============================] - 0s 4ms/step - loss: 2768332.5000 - val_loss: 3541716.5000\n",
            "Epoch 204/250\n",
            "24/24 [==============================] - 0s 5ms/step - loss: 2452123.7500 - val_loss: 3429451.2500\n",
            "Epoch 205/250\n",
            "24/24 [==============================] - 0s 4ms/step - loss: 2973420.5000 - val_loss: 3438254.2500\n",
            "Epoch 206/250\n",
            "24/24 [==============================] - 0s 4ms/step - loss: 2639000.5000 - val_loss: 3692981.5000\n",
            "Epoch 207/250\n",
            "24/24 [==============================] - 0s 4ms/step - loss: 3002788.0000 - val_loss: 3607016.5000\n",
            "Epoch 208/250\n",
            "24/24 [==============================] - 0s 4ms/step - loss: 2653959.7500 - val_loss: 3348285.7500\n",
            "Epoch 209/250\n",
            "24/24 [==============================] - 0s 4ms/step - loss: 2647824.7500 - val_loss: 3351141.2500\n",
            "Epoch 210/250\n",
            "24/24 [==============================] - 0s 4ms/step - loss: 2705537.0000 - val_loss: 3501460.0000\n",
            "Epoch 211/250\n",
            "24/24 [==============================] - 0s 4ms/step - loss: 3040949.7500 - val_loss: 3411060.7500\n",
            "Epoch 212/250\n",
            "24/24 [==============================] - 0s 4ms/step - loss: 2964217.2500 - val_loss: 3253281.0000\n",
            "Epoch 213/250\n",
            "24/24 [==============================] - 0s 5ms/step - loss: 2855656.0000 - val_loss: 3289048.0000\n",
            "Epoch 214/250\n",
            "24/24 [==============================] - 0s 4ms/step - loss: 2851516.7500 - val_loss: 3112447.5000\n",
            "Epoch 215/250\n",
            "24/24 [==============================] - 0s 4ms/step - loss: 2460465.2500 - val_loss: 3310983.5000\n",
            "Epoch 216/250\n",
            "24/24 [==============================] - 0s 4ms/step - loss: 2844255.2500 - val_loss: 3601199.0000\n",
            "Epoch 217/250\n",
            "24/24 [==============================] - 0s 4ms/step - loss: 2626448.5000 - val_loss: 3656817.2500\n",
            "Epoch 218/250\n",
            "24/24 [==============================] - 0s 4ms/step - loss: 3082019.5000 - val_loss: 3421790.5000\n",
            "Epoch 219/250\n",
            "24/24 [==============================] - 0s 4ms/step - loss: 2556403.2500 - val_loss: 3608808.0000\n",
            "Epoch 220/250\n",
            "24/24 [==============================] - 0s 4ms/step - loss: 2415484.0000 - val_loss: 3355947.7500\n",
            "Epoch 221/250\n",
            "24/24 [==============================] - 0s 4ms/step - loss: 2518063.2500 - val_loss: 3553054.7500\n",
            "Epoch 222/250\n",
            "24/24 [==============================] - 0s 4ms/step - loss: 2783362.0000 - val_loss: 3470031.0000\n",
            "Epoch 223/250\n",
            "24/24 [==============================] - 0s 4ms/step - loss: 2870949.7500 - val_loss: 3376871.7500\n",
            "Epoch 224/250\n",
            "24/24 [==============================] - 0s 4ms/step - loss: 2908892.7500 - val_loss: 2974947.5000\n",
            "Epoch 225/250\n",
            "24/24 [==============================] - 0s 4ms/step - loss: 2384935.7500 - val_loss: 3088919.7500\n",
            "Epoch 226/250\n",
            "24/24 [==============================] - 0s 4ms/step - loss: 2840905.7500 - val_loss: 3212155.5000\n",
            "Epoch 227/250\n",
            "24/24 [==============================] - 0s 4ms/step - loss: 2642940.0000 - val_loss: 3135554.2500\n",
            "Epoch 228/250\n",
            "24/24 [==============================] - 0s 4ms/step - loss: 2544495.5000 - val_loss: 3111990.7500\n",
            "Epoch 229/250\n",
            "24/24 [==============================] - 0s 4ms/step - loss: 2410086.7500 - val_loss: 2873031.0000\n",
            "Epoch 230/250\n",
            "24/24 [==============================] - 0s 4ms/step - loss: 2429667.2500 - val_loss: 2995942.0000\n",
            "Epoch 231/250\n",
            "24/24 [==============================] - 0s 4ms/step - loss: 2700422.2500 - val_loss: 2983747.0000\n",
            "Epoch 232/250\n",
            "24/24 [==============================] - 0s 4ms/step - loss: 2750818.5000 - val_loss: 2921151.5000\n",
            "Epoch 233/250\n",
            "24/24 [==============================] - 0s 4ms/step - loss: 2645611.2500 - val_loss: 2876318.0000\n",
            "Epoch 234/250\n",
            "24/24 [==============================] - 0s 4ms/step - loss: 2450220.0000 - val_loss: 2948907.0000\n",
            "Epoch 235/250\n",
            "24/24 [==============================] - 0s 4ms/step - loss: 2772413.2500 - val_loss: 2980280.7500\n",
            "Epoch 236/250\n",
            "24/24 [==============================] - 0s 4ms/step - loss: 2802797.2500 - val_loss: 2745168.2500\n",
            "Epoch 237/250\n",
            "24/24 [==============================] - 0s 5ms/step - loss: 2286434.5000 - val_loss: 2787450.5000\n",
            "Epoch 238/250\n",
            "24/24 [==============================] - 0s 4ms/step - loss: 2529691.7500 - val_loss: 2970820.5000\n",
            "Epoch 239/250\n",
            "24/24 [==============================] - 0s 4ms/step - loss: 2746300.7500 - val_loss: 2926521.5000\n",
            "Epoch 240/250\n",
            "24/24 [==============================] - 0s 4ms/step - loss: 2734777.2500 - val_loss: 2863676.5000\n",
            "Epoch 241/250\n",
            "24/24 [==============================] - 0s 4ms/step - loss: 2443840.2500 - val_loss: 3079277.7500\n",
            "Epoch 242/250\n",
            "24/24 [==============================] - 0s 4ms/step - loss: 2461041.5000 - val_loss: 3125996.7500\n",
            "Epoch 243/250\n",
            "24/24 [==============================] - 0s 4ms/step - loss: 2520955.5000 - val_loss: 2863861.7500\n",
            "Epoch 244/250\n",
            "24/24 [==============================] - 0s 4ms/step - loss: 2694095.0000 - val_loss: 2829590.2500\n",
            "Epoch 245/250\n",
            "24/24 [==============================] - 0s 4ms/step - loss: 2853306.5000 - val_loss: 2793474.5000\n",
            "Epoch 246/250\n",
            "24/24 [==============================] - 0s 4ms/step - loss: 2603875.0000 - val_loss: 2634347.7500\n",
            "Epoch 247/250\n",
            "24/24 [==============================] - 0s 4ms/step - loss: 2812266.0000 - val_loss: 2682307.5000\n",
            "Epoch 248/250\n",
            "24/24 [==============================] - 0s 4ms/step - loss: 2470025.0000 - val_loss: 2797093.7500\n",
            "Epoch 249/250\n",
            "24/24 [==============================] - 0s 4ms/step - loss: 2622702.0000 - val_loss: 2783769.0000\n",
            "Epoch 250/250\n",
            "24/24 [==============================] - 0s 5ms/step - loss: 2396536.0000 - val_loss: 2956297.5000\n"
          ],
          "name": "stdout"
        }
      ]
    },
    {
      "cell_type": "code",
      "metadata": {
        "id": "llkzOyvycoIf"
      },
      "source": [
        "# Make a prediction\n",
        "preds = model.predict(scaled_X_test)"
      ],
      "execution_count": null,
      "outputs": []
    },
    {
      "cell_type": "code",
      "metadata": {
        "id": "9pDBLRx2czRT",
        "outputId": "55d23582-bcd6-4ac6-b28f-8add312d84b2",
        "colab": {
          "base_uri": "https://localhost:8080/",
          "height": 141
        }
      },
      "source": [
        "preds"
      ],
      "execution_count": null,
      "outputs": [
        {
          "output_type": "execute_result",
          "data": {
            "text/plain": [
              "array([[6426.2744],\n",
              "       [5947.734 ],\n",
              "       [6354.5845],\n",
              "       [6772.1924],\n",
              "       [6326.188 ],\n",
              "       [8878.203 ],\n",
              "       [9840.754 ]], dtype=float32)"
            ]
          },
          "metadata": {
            "tags": []
          },
          "execution_count": 119
        }
      ]
    },
    {
      "cell_type": "code",
      "metadata": {
        "id": "ul390EMqc7FD",
        "outputId": "f2396562-e126-421a-8f5c-2b269e8cba07",
        "colab": {
          "base_uri": "https://localhost:8080/",
          "height": 158
        }
      },
      "source": [
        "y_test_may"
      ],
      "execution_count": null,
      "outputs": [
        {
          "output_type": "execute_result",
          "data": {
            "text/plain": [
              "1072    8822.800000\n",
              "1073    8982.300000\n",
              "1074    8899.800000\n",
              "1075    8865.800000\n",
              "1076    9020.100000\n",
              "1077    9152.470993\n",
              "1078    9979.600000\n",
              "Name: BTC_close, dtype: float64"
            ]
          },
          "metadata": {
            "tags": []
          },
          "execution_count": 86
        }
      ]
    },
    {
      "cell_type": "markdown",
      "metadata": {
        "id": "8E3z4VWQgJcC"
      },
      "source": [
        "# Vanilla Neural Network - July\n",
        "\n"
      ]
    },
    {
      "cell_type": "code",
      "metadata": {
        "id": "WUZCet7wgJcJ"
      },
      "source": [
        "%tensorflow_version 2.x"
      ],
      "execution_count": null,
      "outputs": []
    },
    {
      "cell_type": "code",
      "metadata": {
        "id": "s1-7r2QcgJcP"
      },
      "source": [
        "import tensorflow as tf\n",
        "import numpy as np\n",
        "from sklearn.preprocessing import scale\n",
        "from sklearn.preprocessing import StandardScaler"
      ],
      "execution_count": null,
      "outputs": []
    },
    {
      "cell_type": "code",
      "metadata": {
        "id": "N2QHbqD-gJcR"
      },
      "source": [
        "# Standardise the two data sets as a neural network requires standardised data\n",
        "\n",
        "scaled_X_train = scale(x_train_july)\n",
        "scaled_X_test = scale(x_test_july)\n",
        "scaled_y_train = scale(y_train_july)\n",
        "scaled_y_test = scale(y_test_july)"
      ],
      "execution_count": null,
      "outputs": []
    },
    {
      "cell_type": "code",
      "metadata": {
        "id": "og7iKxdQgJcT"
      },
      "source": [
        "# Set the seed for the modelling exercises in order to get reproducible results\n",
        "\n",
        "tf.random.set_seed(168)\n",
        "np.random.seed(168)"
      ],
      "execution_count": null,
      "outputs": []
    },
    {
      "cell_type": "code",
      "metadata": {
        "id": "ePhBH3fXgJcV"
      },
      "source": [
        "from tensorflow.keras.layers import Dense, Dropout"
      ],
      "execution_count": null,
      "outputs": []
    },
    {
      "cell_type": "code",
      "metadata": {
        "id": "FU8xu8R0gJcY"
      },
      "source": [
        "# Create a sequential model \n",
        "\n",
        "model = tf.keras.Sequential()"
      ],
      "execution_count": null,
      "outputs": []
    },
    {
      "cell_type": "code",
      "metadata": {
        "id": "LomSCY1FgJcZ"
      },
      "source": [
        "# create the architecture for the neural network\n",
        "\n",
        "layer1 = Dense(512, activation='relu', input_shape=[9])\n",
        "\n",
        "layer2 = Dense(512, activation='relu')\n",
        "\n",
        "layer3 = Dense(512, activation='relu')\n",
        "\n",
        "layer4 = Dense(512, activation='relu')\n",
        "\n",
        "#layer5 = Dense(512, activation='relu')\n",
        "\n",
        "top_layer = Dense(1)"
      ],
      "execution_count": null,
      "outputs": []
    },
    {
      "cell_type": "code",
      "metadata": {
        "id": "mIsebQBsgJcd"
      },
      "source": [
        "# Add the layers into the model\n",
        "\n",
        "model.add(layer1)\n",
        "model.add(Dropout(0.5))\n",
        "model.add(layer2)\n",
        "model.add(Dropout(0.5))\n",
        "model.add(layer3)\n",
        "model.add(Dropout(0.5))\n",
        "model.add(layer4)\n",
        "model.add(Dropout(0.5))\n",
        "#model.add(layer5)\n",
        "#model.add(Dropout(0.5))\n",
        "model.add(top_layer)"
      ],
      "execution_count": null,
      "outputs": []
    },
    {
      "cell_type": "code",
      "metadata": {
        "id": "SHNNq-dvgJcf"
      },
      "source": [
        "# Specify the optimizer to be used during the back propgation\n",
        "optimizer = tf.keras.optimizers.Adam(0.0001)"
      ],
      "execution_count": null,
      "outputs": []
    },
    {
      "cell_type": "code",
      "metadata": {
        "id": "95VkYG43gJcg"
      },
      "source": [
        "# Compile the model architecture\n",
        "\n",
        "model.compile(loss='mean_squared_error', optimizer=optimizer)"
      ],
      "execution_count": null,
      "outputs": []
    },
    {
      "cell_type": "code",
      "metadata": {
        "id": "0WSmgxaegJci",
        "outputId": "a468b37f-934e-4401-f2cb-fc2b5c04baa8",
        "colab": {
          "base_uri": "https://localhost:8080/",
          "height": 478
        }
      },
      "source": [
        "# Print a summary of the model\n",
        "model.summary()"
      ],
      "execution_count": null,
      "outputs": [
        {
          "output_type": "stream",
          "text": [
            "Model: \"sequential_21\"\n",
            "_________________________________________________________________\n",
            "Layer (type)                 Output Shape              Param #   \n",
            "=================================================================\n",
            "dense_100 (Dense)            (None, 512)               5120      \n",
            "_________________________________________________________________\n",
            "dropout_39 (Dropout)         (None, 512)               0         \n",
            "_________________________________________________________________\n",
            "dense_101 (Dense)            (None, 512)               262656    \n",
            "_________________________________________________________________\n",
            "dropout_40 (Dropout)         (None, 512)               0         \n",
            "_________________________________________________________________\n",
            "dense_102 (Dense)            (None, 512)               262656    \n",
            "_________________________________________________________________\n",
            "dropout_41 (Dropout)         (None, 512)               0         \n",
            "_________________________________________________________________\n",
            "dense_103 (Dense)            (None, 512)               262656    \n",
            "_________________________________________________________________\n",
            "dropout_42 (Dropout)         (None, 512)               0         \n",
            "_________________________________________________________________\n",
            "dense_104 (Dense)            (None, 1)                 513       \n",
            "=================================================================\n",
            "Total params: 793,601\n",
            "Trainable params: 793,601\n",
            "Non-trainable params: 0\n",
            "_________________________________________________________________\n"
          ],
          "name": "stdout"
        }
      ]
    },
    {
      "cell_type": "code",
      "metadata": {
        "id": "5dbrT-vsgJcl",
        "outputId": "24a1c88c-f5b5-458f-c660-38908fca3ab8",
        "colab": {
          "base_uri": "https://localhost:8080/",
          "height": 1000
        }
      },
      "source": [
        "history = model.fit(scaled_X_train, y_train_july, epochs=200, validation_split = 0.2)"
      ],
      "execution_count": null,
      "outputs": [
        {
          "output_type": "stream",
          "text": [
            "Epoch 1/200\n",
            "29/29 [==============================] - 0s 9ms/step - loss: 59912436.0000 - val_loss: 69679960.0000\n",
            "Epoch 2/200\n",
            "29/29 [==============================] - 0s 4ms/step - loss: 59853984.0000 - val_loss: 69594336.0000\n",
            "Epoch 3/200\n",
            "29/29 [==============================] - 0s 5ms/step - loss: 59548204.0000 - val_loss: 69056224.0000\n",
            "Epoch 4/200\n",
            "29/29 [==============================] - 0s 4ms/step - loss: 57888708.0000 - val_loss: 66409248.0000\n",
            "Epoch 5/200\n",
            "29/29 [==============================] - 0s 5ms/step - loss: 51350244.0000 - val_loss: 57654672.0000\n",
            "Epoch 6/200\n",
            "29/29 [==============================] - 0s 5ms/step - loss: 35856768.0000 - val_loss: 38610940.0000\n",
            "Epoch 7/200\n",
            "29/29 [==============================] - 0s 4ms/step - loss: 19950588.0000 - val_loss: 18352114.0000\n",
            "Epoch 8/200\n",
            "29/29 [==============================] - 0s 5ms/step - loss: 15072113.0000 - val_loss: 9811675.0000\n",
            "Epoch 9/200\n",
            "29/29 [==============================] - 0s 4ms/step - loss: 12263791.0000 - val_loss: 4805364.0000\n",
            "Epoch 10/200\n",
            "29/29 [==============================] - 0s 5ms/step - loss: 10422431.0000 - val_loss: 2671910.2500\n",
            "Epoch 11/200\n",
            "29/29 [==============================] - 0s 5ms/step - loss: 9019881.0000 - val_loss: 1958495.7500\n",
            "Epoch 12/200\n",
            "29/29 [==============================] - 0s 5ms/step - loss: 8362296.0000 - val_loss: 1827236.2500\n",
            "Epoch 13/200\n",
            "29/29 [==============================] - 0s 5ms/step - loss: 7695071.5000 - val_loss: 1953717.2500\n",
            "Epoch 14/200\n",
            "29/29 [==============================] - 0s 5ms/step - loss: 6851605.0000 - val_loss: 2125633.7500\n",
            "Epoch 15/200\n",
            "29/29 [==============================] - 0s 5ms/step - loss: 6771302.5000 - val_loss: 2403032.5000\n",
            "Epoch 16/200\n",
            "29/29 [==============================] - 0s 5ms/step - loss: 6464302.0000 - val_loss: 2395945.0000\n",
            "Epoch 17/200\n",
            "29/29 [==============================] - 0s 5ms/step - loss: 6388796.5000 - val_loss: 2597427.5000\n",
            "Epoch 18/200\n",
            "29/29 [==============================] - 0s 4ms/step - loss: 5917218.5000 - val_loss: 2714616.7500\n",
            "Epoch 19/200\n",
            "29/29 [==============================] - 0s 5ms/step - loss: 5719297.5000 - val_loss: 2900549.0000\n",
            "Epoch 20/200\n",
            "29/29 [==============================] - 0s 5ms/step - loss: 5551944.0000 - val_loss: 2493036.0000\n",
            "Epoch 21/200\n",
            "29/29 [==============================] - 0s 4ms/step - loss: 5394714.0000 - val_loss: 2544572.5000\n",
            "Epoch 22/200\n",
            "29/29 [==============================] - 0s 5ms/step - loss: 4868425.0000 - val_loss: 2480638.7500\n",
            "Epoch 23/200\n",
            "29/29 [==============================] - 0s 5ms/step - loss: 4798012.0000 - val_loss: 2348874.2500\n",
            "Epoch 24/200\n",
            "29/29 [==============================] - 0s 5ms/step - loss: 4860079.0000 - val_loss: 2349433.7500\n",
            "Epoch 25/200\n",
            "29/29 [==============================] - 0s 5ms/step - loss: 4819680.5000 - val_loss: 2041391.1250\n",
            "Epoch 26/200\n",
            "29/29 [==============================] - 0s 5ms/step - loss: 4871143.0000 - val_loss: 2186339.7500\n",
            "Epoch 27/200\n",
            "29/29 [==============================] - 0s 5ms/step - loss: 4695392.5000 - val_loss: 2176917.2500\n",
            "Epoch 28/200\n",
            "29/29 [==============================] - 0s 5ms/step - loss: 4428488.0000 - val_loss: 2134182.2500\n",
            "Epoch 29/200\n",
            "29/29 [==============================] - 0s 5ms/step - loss: 4414814.5000 - val_loss: 1956910.5000\n",
            "Epoch 30/200\n",
            "29/29 [==============================] - 0s 5ms/step - loss: 4159788.7500 - val_loss: 2146984.5000\n",
            "Epoch 31/200\n",
            "29/29 [==============================] - 0s 5ms/step - loss: 4065567.2500 - val_loss: 1996779.8750\n",
            "Epoch 32/200\n",
            "29/29 [==============================] - 0s 5ms/step - loss: 3911149.5000 - val_loss: 1748734.1250\n",
            "Epoch 33/200\n",
            "29/29 [==============================] - 0s 5ms/step - loss: 4075283.7500 - val_loss: 1655075.5000\n",
            "Epoch 34/200\n",
            "29/29 [==============================] - 0s 5ms/step - loss: 3724085.2500 - val_loss: 2042714.6250\n",
            "Epoch 35/200\n",
            "29/29 [==============================] - 0s 5ms/step - loss: 3626435.0000 - val_loss: 1686734.1250\n",
            "Epoch 36/200\n",
            "29/29 [==============================] - 0s 5ms/step - loss: 3555228.5000 - val_loss: 1747049.7500\n",
            "Epoch 37/200\n",
            "29/29 [==============================] - 0s 4ms/step - loss: 3317056.0000 - val_loss: 1908051.7500\n",
            "Epoch 38/200\n",
            "29/29 [==============================] - 0s 5ms/step - loss: 3478048.2500 - val_loss: 1593997.1250\n",
            "Epoch 39/200\n",
            "29/29 [==============================] - 0s 4ms/step - loss: 3415210.7500 - val_loss: 1847568.3750\n",
            "Epoch 40/200\n",
            "29/29 [==============================] - 0s 4ms/step - loss: 3538265.0000 - val_loss: 1543307.5000\n",
            "Epoch 41/200\n",
            "29/29 [==============================] - 0s 5ms/step - loss: 3192359.0000 - val_loss: 1680388.7500\n",
            "Epoch 42/200\n",
            "29/29 [==============================] - 0s 5ms/step - loss: 3083590.5000 - val_loss: 1598074.3750\n",
            "Epoch 43/200\n",
            "29/29 [==============================] - 0s 5ms/step - loss: 3319328.5000 - val_loss: 1429858.8750\n",
            "Epoch 44/200\n",
            "29/29 [==============================] - 0s 4ms/step - loss: 2933995.5000 - val_loss: 1667349.3750\n",
            "Epoch 45/200\n",
            "29/29 [==============================] - 0s 5ms/step - loss: 3169618.5000 - val_loss: 1593004.0000\n",
            "Epoch 46/200\n",
            "29/29 [==============================] - 0s 5ms/step - loss: 3110461.2500 - val_loss: 1476955.7500\n",
            "Epoch 47/200\n",
            "29/29 [==============================] - 0s 5ms/step - loss: 2962994.7500 - val_loss: 1340799.6250\n",
            "Epoch 48/200\n",
            "29/29 [==============================] - 0s 5ms/step - loss: 2771019.0000 - val_loss: 1396124.8750\n",
            "Epoch 49/200\n",
            "29/29 [==============================] - 0s 5ms/step - loss: 2813556.7500 - val_loss: 1342755.7500\n",
            "Epoch 50/200\n",
            "29/29 [==============================] - 0s 5ms/step - loss: 2952202.2500 - val_loss: 1389536.0000\n",
            "Epoch 51/200\n",
            "29/29 [==============================] - 0s 4ms/step - loss: 2774358.2500 - val_loss: 1346301.8750\n",
            "Epoch 52/200\n",
            "29/29 [==============================] - 0s 5ms/step - loss: 2797345.2500 - val_loss: 1160660.2500\n",
            "Epoch 53/200\n",
            "29/29 [==============================] - 0s 5ms/step - loss: 2477801.2500 - val_loss: 1188700.2500\n",
            "Epoch 54/200\n",
            "29/29 [==============================] - 0s 5ms/step - loss: 2760919.7500 - val_loss: 1193583.6250\n",
            "Epoch 55/200\n",
            "29/29 [==============================] - 0s 5ms/step - loss: 2543212.2500 - val_loss: 1285110.5000\n",
            "Epoch 56/200\n",
            "29/29 [==============================] - 0s 4ms/step - loss: 2399754.0000 - val_loss: 1254222.3750\n",
            "Epoch 57/200\n",
            "29/29 [==============================] - 0s 5ms/step - loss: 2649025.7500 - val_loss: 1140989.8750\n",
            "Epoch 58/200\n",
            "29/29 [==============================] - 0s 4ms/step - loss: 2553572.5000 - val_loss: 1235761.6250\n",
            "Epoch 59/200\n",
            "29/29 [==============================] - 0s 5ms/step - loss: 2327191.0000 - val_loss: 1146476.8750\n",
            "Epoch 60/200\n",
            "29/29 [==============================] - 0s 5ms/step - loss: 2531872.7500 - val_loss: 1108531.1250\n",
            "Epoch 61/200\n",
            "29/29 [==============================] - 0s 5ms/step - loss: 2348307.0000 - val_loss: 1111342.3750\n",
            "Epoch 62/200\n",
            "29/29 [==============================] - 0s 5ms/step - loss: 2562951.7500 - val_loss: 1045098.5000\n",
            "Epoch 63/200\n",
            "29/29 [==============================] - 0s 5ms/step - loss: 2434321.0000 - val_loss: 1110017.3750\n",
            "Epoch 64/200\n",
            "29/29 [==============================] - 0s 5ms/step - loss: 2399814.0000 - val_loss: 1036327.1875\n",
            "Epoch 65/200\n",
            "29/29 [==============================] - 0s 5ms/step - loss: 2245223.2500 - val_loss: 1102218.5000\n",
            "Epoch 66/200\n",
            "29/29 [==============================] - 0s 4ms/step - loss: 2284625.5000 - val_loss: 936342.5625\n",
            "Epoch 67/200\n",
            "29/29 [==============================] - 0s 5ms/step - loss: 2249339.2500 - val_loss: 1038133.3750\n",
            "Epoch 68/200\n",
            "29/29 [==============================] - 0s 4ms/step - loss: 2157127.0000 - val_loss: 990009.3125\n",
            "Epoch 69/200\n",
            "29/29 [==============================] - 0s 4ms/step - loss: 2086303.8750 - val_loss: 987291.7500\n",
            "Epoch 70/200\n",
            "29/29 [==============================] - 0s 5ms/step - loss: 2162706.0000 - val_loss: 1130660.2500\n",
            "Epoch 71/200\n",
            "29/29 [==============================] - 0s 4ms/step - loss: 2198558.2500 - val_loss: 1035562.8125\n",
            "Epoch 72/200\n",
            "29/29 [==============================] - 0s 5ms/step - loss: 2143788.2500 - val_loss: 1065210.6250\n",
            "Epoch 73/200\n",
            "29/29 [==============================] - 0s 5ms/step - loss: 1875255.0000 - val_loss: 1013508.8750\n",
            "Epoch 74/200\n",
            "29/29 [==============================] - 0s 5ms/step - loss: 2077444.1250 - val_loss: 942108.1875\n",
            "Epoch 75/200\n",
            "29/29 [==============================] - 0s 5ms/step - loss: 1964522.6250 - val_loss: 947979.6875\n",
            "Epoch 76/200\n",
            "29/29 [==============================] - 0s 5ms/step - loss: 2048097.5000 - val_loss: 935126.1875\n",
            "Epoch 77/200\n",
            "29/29 [==============================] - 0s 5ms/step - loss: 2101350.5000 - val_loss: 835727.9375\n",
            "Epoch 78/200\n",
            "29/29 [==============================] - 0s 5ms/step - loss: 2125442.5000 - val_loss: 879340.0000\n",
            "Epoch 79/200\n",
            "29/29 [==============================] - 0s 5ms/step - loss: 2005899.5000 - val_loss: 963490.0000\n",
            "Epoch 80/200\n",
            "29/29 [==============================] - 0s 5ms/step - loss: 1889381.0000 - val_loss: 820420.0000\n",
            "Epoch 81/200\n",
            "29/29 [==============================] - 0s 5ms/step - loss: 1982545.3750 - val_loss: 825365.7500\n",
            "Epoch 82/200\n",
            "29/29 [==============================] - 0s 5ms/step - loss: 2059345.7500 - val_loss: 879492.1875\n",
            "Epoch 83/200\n",
            "29/29 [==============================] - 0s 5ms/step - loss: 1848020.2500 - val_loss: 918802.8750\n",
            "Epoch 84/200\n",
            "29/29 [==============================] - 0s 5ms/step - loss: 1837457.0000 - val_loss: 932879.6250\n",
            "Epoch 85/200\n",
            "29/29 [==============================] - 0s 5ms/step - loss: 1825416.8750 - val_loss: 897963.3750\n",
            "Epoch 86/200\n",
            "29/29 [==============================] - 0s 5ms/step - loss: 1972731.6250 - val_loss: 836998.3125\n",
            "Epoch 87/200\n",
            "29/29 [==============================] - 0s 5ms/step - loss: 1859700.5000 - val_loss: 853310.7500\n",
            "Epoch 88/200\n",
            "29/29 [==============================] - 0s 5ms/step - loss: 2005676.3750 - val_loss: 827427.2500\n",
            "Epoch 89/200\n",
            "29/29 [==============================] - 0s 4ms/step - loss: 1860948.0000 - val_loss: 876050.4375\n",
            "Epoch 90/200\n",
            "29/29 [==============================] - 0s 5ms/step - loss: 1798800.6250 - val_loss: 858945.1875\n",
            "Epoch 91/200\n",
            "29/29 [==============================] - 0s 5ms/step - loss: 1803280.3750 - val_loss: 858404.8125\n",
            "Epoch 92/200\n",
            "29/29 [==============================] - 0s 5ms/step - loss: 1873035.6250 - val_loss: 771121.4375\n",
            "Epoch 93/200\n",
            "29/29 [==============================] - 0s 5ms/step - loss: 1820279.6250 - val_loss: 747647.8125\n",
            "Epoch 94/200\n",
            "29/29 [==============================] - 0s 5ms/step - loss: 1855326.0000 - val_loss: 818220.0000\n",
            "Epoch 95/200\n",
            "29/29 [==============================] - 0s 5ms/step - loss: 1625961.7500 - val_loss: 792975.5000\n",
            "Epoch 96/200\n",
            "29/29 [==============================] - 0s 5ms/step - loss: 1791556.0000 - val_loss: 718420.4375\n",
            "Epoch 97/200\n",
            "29/29 [==============================] - 0s 5ms/step - loss: 1730019.8750 - val_loss: 761740.2500\n",
            "Epoch 98/200\n",
            "29/29 [==============================] - 0s 5ms/step - loss: 1865459.8750 - val_loss: 774723.3125\n",
            "Epoch 99/200\n",
            "29/29 [==============================] - 0s 5ms/step - loss: 1735077.3750 - val_loss: 810416.3125\n",
            "Epoch 100/200\n",
            "29/29 [==============================] - 0s 5ms/step - loss: 1695621.3750 - val_loss: 796183.1875\n",
            "Epoch 101/200\n",
            "29/29 [==============================] - 0s 5ms/step - loss: 1797567.8750 - val_loss: 797359.1250\n",
            "Epoch 102/200\n",
            "29/29 [==============================] - 0s 5ms/step - loss: 1980086.3750 - val_loss: 752234.3750\n",
            "Epoch 103/200\n",
            "29/29 [==============================] - 0s 5ms/step - loss: 1685564.3750 - val_loss: 758010.1250\n",
            "Epoch 104/200\n",
            "29/29 [==============================] - 0s 5ms/step - loss: 1614762.2500 - val_loss: 776882.7500\n",
            "Epoch 105/200\n",
            "29/29 [==============================] - 0s 5ms/step - loss: 1644439.3750 - val_loss: 687085.2500\n",
            "Epoch 106/200\n",
            "29/29 [==============================] - 0s 5ms/step - loss: 1982014.7500 - val_loss: 782180.3750\n",
            "Epoch 107/200\n",
            "29/29 [==============================] - 0s 5ms/step - loss: 1763161.8750 - val_loss: 758445.1250\n",
            "Epoch 108/200\n",
            "29/29 [==============================] - 0s 5ms/step - loss: 1707722.6250 - val_loss: 705398.1875\n",
            "Epoch 109/200\n",
            "29/29 [==============================] - 0s 5ms/step - loss: 1655946.2500 - val_loss: 742263.2500\n",
            "Epoch 110/200\n",
            "29/29 [==============================] - 0s 4ms/step - loss: 1700491.1250 - val_loss: 785531.1250\n",
            "Epoch 111/200\n",
            "29/29 [==============================] - 0s 5ms/step - loss: 1670146.3750 - val_loss: 737967.3750\n",
            "Epoch 112/200\n",
            "29/29 [==============================] - 0s 5ms/step - loss: 1738080.7500 - val_loss: 765025.8125\n",
            "Epoch 113/200\n",
            "29/29 [==============================] - 0s 4ms/step - loss: 1676873.8750 - val_loss: 736928.8750\n",
            "Epoch 114/200\n",
            "29/29 [==============================] - 0s 5ms/step - loss: 1744315.1250 - val_loss: 773471.1250\n",
            "Epoch 115/200\n",
            "29/29 [==============================] - 0s 5ms/step - loss: 1761141.2500 - val_loss: 752907.2500\n",
            "Epoch 116/200\n",
            "29/29 [==============================] - 0s 5ms/step - loss: 1575056.3750 - val_loss: 678411.1250\n",
            "Epoch 117/200\n",
            "29/29 [==============================] - 0s 5ms/step - loss: 1709307.8750 - val_loss: 718914.0625\n",
            "Epoch 118/200\n",
            "29/29 [==============================] - 0s 5ms/step - loss: 1800475.6250 - val_loss: 832034.2500\n",
            "Epoch 119/200\n",
            "29/29 [==============================] - 0s 5ms/step - loss: 1648083.2500 - val_loss: 737745.5625\n",
            "Epoch 120/200\n",
            "29/29 [==============================] - 0s 5ms/step - loss: 1719202.8750 - val_loss: 731013.1875\n",
            "Epoch 121/200\n",
            "29/29 [==============================] - 0s 5ms/step - loss: 1637350.1250 - val_loss: 700951.5000\n",
            "Epoch 122/200\n",
            "29/29 [==============================] - 0s 5ms/step - loss: 1653430.7500 - val_loss: 715496.8125\n",
            "Epoch 123/200\n",
            "29/29 [==============================] - 0s 4ms/step - loss: 1497109.2500 - val_loss: 745105.6250\n",
            "Epoch 124/200\n",
            "29/29 [==============================] - 0s 5ms/step - loss: 1826075.0000 - val_loss: 725109.4375\n",
            "Epoch 125/200\n",
            "29/29 [==============================] - 0s 4ms/step - loss: 1539173.3750 - val_loss: 750206.1875\n",
            "Epoch 126/200\n",
            "29/29 [==============================] - 0s 4ms/step - loss: 1708104.6250 - val_loss: 719110.0625\n",
            "Epoch 127/200\n",
            "29/29 [==============================] - 0s 4ms/step - loss: 1719079.6250 - val_loss: 734252.6875\n",
            "Epoch 128/200\n",
            "29/29 [==============================] - 0s 5ms/step - loss: 1617434.2500 - val_loss: 764187.1875\n",
            "Epoch 129/200\n",
            "29/29 [==============================] - 0s 5ms/step - loss: 1473689.2500 - val_loss: 718593.8750\n",
            "Epoch 130/200\n",
            "29/29 [==============================] - 0s 5ms/step - loss: 1590899.0000 - val_loss: 676804.5625\n",
            "Epoch 131/200\n",
            "29/29 [==============================] - 0s 5ms/step - loss: 1610075.3750 - val_loss: 729395.9375\n",
            "Epoch 132/200\n",
            "29/29 [==============================] - 0s 5ms/step - loss: 1562895.1250 - val_loss: 726407.6875\n",
            "Epoch 133/200\n",
            "29/29 [==============================] - 0s 5ms/step - loss: 1628007.5000 - val_loss: 697044.9375\n",
            "Epoch 134/200\n",
            "29/29 [==============================] - 0s 5ms/step - loss: 1609966.2500 - val_loss: 759600.6250\n",
            "Epoch 135/200\n",
            "29/29 [==============================] - 0s 5ms/step - loss: 1632527.6250 - val_loss: 695802.8750\n",
            "Epoch 136/200\n",
            "29/29 [==============================] - 0s 5ms/step - loss: 1743588.6250 - val_loss: 721957.3125\n",
            "Epoch 137/200\n",
            "29/29 [==============================] - 0s 5ms/step - loss: 1568210.0000 - val_loss: 685725.1875\n",
            "Epoch 138/200\n",
            "29/29 [==============================] - 0s 5ms/step - loss: 1483041.1250 - val_loss: 799326.4375\n",
            "Epoch 139/200\n",
            "29/29 [==============================] - 0s 5ms/step - loss: 1573308.6250 - val_loss: 699303.1875\n",
            "Epoch 140/200\n",
            "29/29 [==============================] - 0s 5ms/step - loss: 1676287.0000 - val_loss: 701888.9375\n",
            "Epoch 141/200\n",
            "29/29 [==============================] - 0s 5ms/step - loss: 1610056.6250 - val_loss: 696907.5000\n",
            "Epoch 142/200\n",
            "29/29 [==============================] - 0s 5ms/step - loss: 1543726.2500 - val_loss: 703049.3750\n",
            "Epoch 143/200\n",
            "29/29 [==============================] - 0s 5ms/step - loss: 1557603.0000 - val_loss: 725423.0000\n",
            "Epoch 144/200\n",
            "29/29 [==============================] - 0s 5ms/step - loss: 1522225.0000 - val_loss: 643082.0625\n",
            "Epoch 145/200\n",
            "29/29 [==============================] - 0s 5ms/step - loss: 1622135.5000 - val_loss: 658986.5625\n",
            "Epoch 146/200\n",
            "29/29 [==============================] - 0s 5ms/step - loss: 1713836.6250 - val_loss: 693867.0000\n",
            "Epoch 147/200\n",
            "29/29 [==============================] - 0s 4ms/step - loss: 1501756.1250 - val_loss: 765143.5000\n",
            "Epoch 148/200\n",
            "29/29 [==============================] - 0s 5ms/step - loss: 1519169.1250 - val_loss: 689667.1250\n",
            "Epoch 149/200\n",
            "29/29 [==============================] - 0s 5ms/step - loss: 1416798.8750 - val_loss: 787975.6875\n",
            "Epoch 150/200\n",
            "29/29 [==============================] - 0s 5ms/step - loss: 1627814.7500 - val_loss: 689218.4375\n",
            "Epoch 151/200\n",
            "29/29 [==============================] - 0s 5ms/step - loss: 1615185.3750 - val_loss: 693548.6875\n",
            "Epoch 152/200\n",
            "29/29 [==============================] - 0s 5ms/step - loss: 1588515.2500 - val_loss: 698017.0000\n",
            "Epoch 153/200\n",
            "29/29 [==============================] - 0s 5ms/step - loss: 1627205.3750 - val_loss: 693287.2500\n",
            "Epoch 154/200\n",
            "29/29 [==============================] - 0s 5ms/step - loss: 1700744.5000 - val_loss: 694788.3750\n",
            "Epoch 155/200\n",
            "29/29 [==============================] - 0s 5ms/step - loss: 1430385.2500 - val_loss: 742047.8125\n",
            "Epoch 156/200\n",
            "29/29 [==============================] - 0s 5ms/step - loss: 1638343.5000 - val_loss: 684938.3125\n",
            "Epoch 157/200\n",
            "29/29 [==============================] - 0s 5ms/step - loss: 1474590.1250 - val_loss: 706177.5000\n",
            "Epoch 158/200\n",
            "29/29 [==============================] - 0s 5ms/step - loss: 1594081.2500 - val_loss: 763035.7500\n",
            "Epoch 159/200\n",
            "29/29 [==============================] - 0s 5ms/step - loss: 1536958.0000 - val_loss: 695911.9375\n",
            "Epoch 160/200\n",
            "29/29 [==============================] - 0s 5ms/step - loss: 1498021.7500 - val_loss: 700744.4375\n",
            "Epoch 161/200\n",
            "29/29 [==============================] - 0s 5ms/step - loss: 1560697.7500 - val_loss: 788889.6875\n",
            "Epoch 162/200\n",
            "29/29 [==============================] - 0s 5ms/step - loss: 1459542.0000 - val_loss: 664944.5625\n",
            "Epoch 163/200\n",
            "29/29 [==============================] - 0s 5ms/step - loss: 1582587.0000 - val_loss: 653791.1250\n",
            "Epoch 164/200\n",
            "29/29 [==============================] - 0s 5ms/step - loss: 1400887.6250 - val_loss: 701455.6875\n",
            "Epoch 165/200\n",
            "29/29 [==============================] - 0s 5ms/step - loss: 1645236.3750 - val_loss: 651387.7500\n",
            "Epoch 166/200\n",
            "29/29 [==============================] - 0s 5ms/step - loss: 1583898.5000 - val_loss: 730516.8125\n",
            "Epoch 167/200\n",
            "29/29 [==============================] - 0s 5ms/step - loss: 1518370.1250 - val_loss: 666167.9375\n",
            "Epoch 168/200\n",
            "29/29 [==============================] - 0s 5ms/step - loss: 1532813.2500 - val_loss: 755843.5000\n",
            "Epoch 169/200\n",
            "29/29 [==============================] - 0s 5ms/step - loss: 1518147.8750 - val_loss: 659970.2500\n",
            "Epoch 170/200\n",
            "29/29 [==============================] - 0s 5ms/step - loss: 1544029.2500 - val_loss: 732801.0000\n",
            "Epoch 171/200\n",
            "29/29 [==============================] - 0s 5ms/step - loss: 1616976.1250 - val_loss: 681840.3750\n",
            "Epoch 172/200\n",
            "29/29 [==============================] - 0s 5ms/step - loss: 1678077.5000 - val_loss: 706446.4375\n",
            "Epoch 173/200\n",
            "29/29 [==============================] - 0s 5ms/step - loss: 1647326.5000 - val_loss: 680076.7500\n",
            "Epoch 174/200\n",
            "29/29 [==============================] - 0s 5ms/step - loss: 1568706.8750 - val_loss: 717824.6875\n",
            "Epoch 175/200\n",
            "29/29 [==============================] - 0s 5ms/step - loss: 1650043.1250 - val_loss: 675222.4375\n",
            "Epoch 176/200\n",
            "29/29 [==============================] - 0s 5ms/step - loss: 1480674.1250 - val_loss: 703442.3125\n",
            "Epoch 177/200\n",
            "29/29 [==============================] - 0s 5ms/step - loss: 1490575.2500 - val_loss: 661035.3750\n",
            "Epoch 178/200\n",
            "29/29 [==============================] - 0s 5ms/step - loss: 1653777.1250 - val_loss: 774445.1250\n",
            "Epoch 179/200\n",
            "29/29 [==============================] - 0s 5ms/step - loss: 1603492.5000 - val_loss: 685479.9375\n",
            "Epoch 180/200\n",
            "29/29 [==============================] - 0s 5ms/step - loss: 1539299.0000 - val_loss: 706256.5000\n",
            "Epoch 181/200\n",
            "29/29 [==============================] - 0s 5ms/step - loss: 1585181.2500 - val_loss: 692196.9375\n",
            "Epoch 182/200\n",
            "29/29 [==============================] - 0s 4ms/step - loss: 1496424.5000 - val_loss: 671144.2500\n",
            "Epoch 183/200\n",
            "29/29 [==============================] - 0s 5ms/step - loss: 1586306.1250 - val_loss: 707047.3125\n",
            "Epoch 184/200\n",
            "29/29 [==============================] - 0s 4ms/step - loss: 1568917.7500 - val_loss: 743602.1250\n",
            "Epoch 185/200\n",
            "29/29 [==============================] - 0s 5ms/step - loss: 1569390.6250 - val_loss: 690085.0625\n",
            "Epoch 186/200\n",
            "29/29 [==============================] - 0s 4ms/step - loss: 1365222.7500 - val_loss: 668896.6875\n",
            "Epoch 187/200\n",
            "29/29 [==============================] - 0s 5ms/step - loss: 1520183.1250 - val_loss: 756355.9375\n",
            "Epoch 188/200\n",
            "29/29 [==============================] - 0s 5ms/step - loss: 1679666.5000 - val_loss: 680422.8125\n",
            "Epoch 189/200\n",
            "29/29 [==============================] - 0s 5ms/step - loss: 1459292.6250 - val_loss: 759796.8125\n",
            "Epoch 190/200\n",
            "29/29 [==============================] - 0s 5ms/step - loss: 1603332.1250 - val_loss: 668160.1250\n",
            "Epoch 191/200\n",
            "29/29 [==============================] - 0s 5ms/step - loss: 1371963.5000 - val_loss: 719588.3125\n",
            "Epoch 192/200\n",
            "29/29 [==============================] - 0s 4ms/step - loss: 1563442.2500 - val_loss: 685431.6250\n",
            "Epoch 193/200\n",
            "29/29 [==============================] - 0s 5ms/step - loss: 1486726.0000 - val_loss: 676683.3750\n",
            "Epoch 194/200\n",
            "29/29 [==============================] - 0s 5ms/step - loss: 1434234.3750 - val_loss: 744392.6875\n",
            "Epoch 195/200\n",
            "29/29 [==============================] - 0s 4ms/step - loss: 1567490.0000 - val_loss: 664454.1875\n",
            "Epoch 196/200\n",
            "29/29 [==============================] - 0s 5ms/step - loss: 1597998.6250 - val_loss: 716876.0625\n",
            "Epoch 197/200\n",
            "29/29 [==============================] - 0s 5ms/step - loss: 1639276.5000 - val_loss: 676860.6875\n",
            "Epoch 198/200\n",
            "29/29 [==============================] - 0s 4ms/step - loss: 1472398.8750 - val_loss: 663598.1875\n",
            "Epoch 199/200\n",
            "29/29 [==============================] - 0s 4ms/step - loss: 1460997.3750 - val_loss: 750550.7500\n",
            "Epoch 200/200\n",
            "29/29 [==============================] - 0s 4ms/step - loss: 1476529.3750 - val_loss: 694999.5000\n"
          ],
          "name": "stdout"
        }
      ]
    },
    {
      "cell_type": "code",
      "metadata": {
        "id": "h19_J33VhMNU",
        "outputId": "18845f53-7574-4c78-b0ba-03e0f8f6d41f",
        "colab": {
          "base_uri": "https://localhost:8080/",
          "height": 290
        }
      },
      "source": [
        "import matplotlib.pyplot as plt\n",
        "\n",
        "plt.plot(history.history['loss'], label='MSE training')\n",
        "plt.plot(history.history['val_loss'], label='MSE validation')\n",
        "plt.ylabel('MSE')\n",
        "plt.xlabel('Epoch')\n",
        "plt.show()"
      ],
      "execution_count": null,
      "outputs": [
        {
          "output_type": "display_data",
          "data": {
            "image/png": "[encoded data removed]",
            "text/plain": [
              "<Figure size 432x288 with 1 Axes>"
            ]
          },
          "metadata": {
            "tags": [],
            "needs_background": "light"
          }
        }
      ]
    },
    {
      "cell_type": "code",
      "metadata": {
        "id": "PDzXu2L_gJcn",
        "outputId": "14acdb23-e64c-4ee0-d696-441ccf1f1245",
        "colab": {
          "base_uri": "https://localhost:8080/",
          "height": 54
        }
      },
      "source": [
        "# Make a prediction\n",
        "preds = model.predict(scaled_X_test)"
      ],
      "execution_count": null,
      "outputs": [
        {
          "output_type": "stream",
          "text": [
            "WARNING:tensorflow:11 out of the last 11 calls to <function Model.make_predict_function.<locals>.predict_function at 0x7f8ab69b46a8> triggered tf.function retracing. Tracing is expensive and the excessive number of tracings could be due to (1) creating @tf.function repeatedly in a loop, (2) passing tensors with different shapes, (3) passing Python objects instead of tensors. For (1), please define your @tf.function outside of the loop. For (2), @tf.function has experimental_relax_shapes=True option that relaxes argument shapes that can avoid unnecessary retracing. For (3), please refer to https://www.tensorflow.org/tutorials/customization/performance#python_or_tensor_args and https://www.tensorflow.org/api_docs/python/tf/function for  more details.\n"
          ],
          "name": "stdout"
        }
      ]
    },
    {
      "cell_type": "code",
      "metadata": {
        "id": "g8nrcWp9gJcp",
        "outputId": "79a3f0ba-021a-4c81-f03c-c340fe31a10c",
        "colab": {
          "base_uri": "https://localhost:8080/",
          "height": 141
        }
      },
      "source": [
        "preds"
      ],
      "execution_count": null,
      "outputs": [
        {
          "output_type": "execute_result",
          "data": {
            "text/plain": [
              "array([[10503.685 ],\n",
              "       [ 9249.4   ],\n",
              "       [ 7726.5615],\n",
              "       [ 3567.4812],\n",
              "       [ 6003.237 ],\n",
              "       [ 7986.7144],\n",
              "       [ 7013.7124]], dtype=float32)"
            ]
          },
          "metadata": {
            "tags": []
          },
          "execution_count": 253
        }
      ]
    },
    {
      "cell_type": "code",
      "metadata": {
        "id": "addnXS6dgJcs",
        "outputId": "d7194ea6-bdc9-4b3d-bc16-c01325c20201",
        "colab": {
          "base_uri": "https://localhost:8080/",
          "height": 158
        }
      },
      "source": [
        "y_test_july"
      ],
      "execution_count": null,
      "outputs": [
        {
          "output_type": "execute_result",
          "data": {
            "text/plain": [
              "1133    9239.900000\n",
              "1134    9100.000000\n",
              "1135    9073.200000\n",
              "1136    9147.700000\n",
              "1137    9084.284734\n",
              "1138    9361.100000\n",
              "1139    9267.514949\n",
              "Name: BTC_close, dtype: float64"
            ]
          },
          "metadata": {
            "tags": []
          },
          "execution_count": 148
        }
      ]
    },
    {
      "cell_type": "markdown",
      "metadata": {
        "id": "STNHZkI_XawR"
      },
      "source": [
        "# UNIVARIATE MULTISTEP LSTM"
      ]
    },
    {
      "cell_type": "code",
      "metadata": {
        "id": "G5VVEGRRkGEm"
      },
      "source": [
        "# Ensure we are using Tensorflow 2\n",
        "%tensorflow_version 2.x\n",
        "\n",
        "# multivariate output stacked lstm example\n",
        "from numpy import array\n",
        "from numpy import hstack\n",
        "from keras.models import Sequential\n",
        "from keras.layers import LSTM\n",
        "from keras.layers import Dense\n",
        "from keras import optimizers\n",
        "import tensorflow as tf\n",
        "from keras.layers import Dropout\n",
        "\n",
        "# Set seeds for numpy and tensorflow\n",
        "tf.random.set_seed(12)\n",
        "np.random.seed(12)"
      ],
      "execution_count": 67,
      "outputs": []
    },
    {
      "cell_type": "code",
      "metadata": {
        "id": "JcxKVLhujKWN"
      },
      "source": [
        "# We will train on first 1153 and test on last 14, ie, 7 steps in and 7 steps out\n",
        "#train = data.head(1160)\n",
        "#test = data.tail(14)\n",
        "\n",
        "train = data[1:1064]\n",
        "test = data[1064:1085]\n",
        "\n",
        "train = list(train.BTC_close)\n",
        "test = list(test.BTC_close)"
      ],
      "execution_count": 71,
      "outputs": []
    },
    {
      "cell_type": "code",
      "metadata": {
        "id": "CaQA8GRUdRDc"
      },
      "source": [
        "# multi-step data preparation\n",
        "from numpy import array\n",
        " \n",
        "# split a univariate sequence into samples\n",
        "def split_sequence(sequence, n_steps_in, n_steps_out):\n",
        "\tX, y = list(), list()\n",
        "\tfor i in range(len(sequence)):\n",
        "\t\t# find the end of this pattern\n",
        "\t\tend_ix = i + n_steps_in\n",
        "\t\tout_end_ix = end_ix + n_steps_out\n",
        "\t\t# check if we are beyond the sequence\n",
        "\t\tif out_end_ix > len(sequence):\n",
        "\t\t\tbreak\n",
        "\t\t# gather input and output parts of the pattern\n",
        "\t\tseq_x, seq_y = sequence[i:end_ix], sequence[end_ix:out_end_ix]\n",
        "\t\tX.append(seq_x)\n",
        "\t\ty.append(seq_y)\n",
        "\treturn array(X), array(y)\n",
        " \n",
        "# define input sequence for TRAIN\n",
        "train_seq = train\n",
        "# choose a number of time steps\n",
        "n_steps_in, n_steps_out = 14, 7\n",
        "# split into samples\n",
        "X_train, y_train = split_sequence(train_seq, n_steps_in, n_steps_out)\n",
        "# summarize the data\n",
        "\n",
        "\n",
        "# define input sequence for TEST\n",
        "test_seq = test\n",
        "# choose a number of time steps\n",
        "n_steps_in, n_steps_out = 14, 7\n",
        "# split into samples\n",
        "X_test, y_test = split_sequence(test_seq, n_steps_in, n_steps_out)\n",
        "# summarize the data\n",
        "\n",
        "#for i in range(len(X)):\n",
        "#\tprint(X[i], y[i])"
      ],
      "execution_count": 72,
      "outputs": []
    },
    {
      "cell_type": "code",
      "metadata": {
        "id": "CIINrxlle9Hw"
      },
      "source": [
        "# reshape from [samples, timesteps] into [samples, timesteps, features]\n",
        "n_features = 1\n",
        "\n",
        "X_train = X_train.reshape((X_train.shape[0], X_train.shape[1], n_features))\n",
        "X_test = X_test.reshape((X_test.shape[0], X_test.shape[1], n_features))"
      ],
      "execution_count": 73,
      "outputs": []
    },
    {
      "cell_type": "code",
      "metadata": {
        "id": "ak1Jnse4fU80"
      },
      "source": [
        "# define model\n",
        "model = Sequential()"
      ],
      "execution_count": 74,
      "outputs": []
    },
    {
      "cell_type": "code",
      "metadata": {
        "id": "rkhXOH8-W7A1",
        "outputId": "61a19b49-18e2-42c7-e7b5-584d694a725a",
        "colab": {
          "base_uri": "https://localhost:8080/",
          "height": 72
        }
      },
      "source": [
        "# Add the layers\n",
        "model.add(LSTM(200, activation='relu', return_sequences=True, input_shape=(n_steps_in, n_features)))\n",
        "model.add(LSTM(200, activation='relu'))\n",
        "model.add(Dense(n_steps_out))"
      ],
      "execution_count": 75,
      "outputs": [
        {
          "output_type": "stream",
          "text": [
            "WARNING:tensorflow:Layer lstm_4 will not use cuDNN kernel since it doesn't meet the cuDNN kernel criteria. It will use generic GPU kernel as fallback when running on GPU\n",
            "WARNING:tensorflow:Layer lstm_5 will not use cuDNN kernel since it doesn't meet the cuDNN kernel criteria. It will use generic GPU kernel as fallback when running on GPU\n"
          ],
          "name": "stdout"
        }
      ]
    },
    {
      "cell_type": "code",
      "metadata": {
        "id": "WxAME_sNXqVB"
      },
      "source": [
        "# Setup the learning rate\n",
        "from tensorflow.keras.callbacks import EarlyStopping\n",
        "from tensorflow.keras.callbacks import ReduceLROnPlateau\n",
        "\n",
        "# Use early stopping, change patience as required\n",
        "early_stopping = EarlyStopping(monitor='val_loss', patience=50,verbose=1)\n",
        "\n",
        "# Use reduce LR, change patience and factor as required\n",
        "reduce_lr = ReduceLROnPlateau(monitor='val_loss', factor=0.1, patience=5, min_lr=0.00001, verbose=1)\n",
        "\n",
        "learning_rate = 0.01\n",
        "optimizer = optimizers.Adam(learning_rate = learning_rate)"
      ],
      "execution_count": 76,
      "outputs": []
    },
    {
      "cell_type": "code",
      "metadata": {
        "id": "rR2itatzXrU2"
      },
      "source": [
        "# Compile the model\n",
        "model.compile(optimizer=optimizer, loss='mse')"
      ],
      "execution_count": 77,
      "outputs": []
    },
    {
      "cell_type": "code",
      "metadata": {
        "id": "sKvJRpxMWzWq",
        "outputId": "3b1e97de-af3c-4a39-eecb-b4e6c6a8af9e",
        "colab": {
          "base_uri": "https://localhost:8080/",
          "height": 265
        }
      },
      "source": [
        "# View the model summary\n",
        "model.summary()"
      ],
      "execution_count": 78,
      "outputs": [
        {
          "output_type": "stream",
          "text": [
            "Model: \"sequential_3\"\n",
            "_________________________________________________________________\n",
            "Layer (type)                 Output Shape              Param #   \n",
            "=================================================================\n",
            "lstm_4 (LSTM)                (None, 14, 200)           161600    \n",
            "_________________________________________________________________\n",
            "lstm_5 (LSTM)                (None, 200)               320800    \n",
            "_________________________________________________________________\n",
            "dense_3 (Dense)              (None, 7)                 1407      \n",
            "=================================================================\n",
            "Total params: 483,807\n",
            "Trainable params: 483,807\n",
            "Non-trainable params: 0\n",
            "_________________________________________________________________\n"
          ],
          "name": "stdout"
        }
      ]
    },
    {
      "cell_type": "code",
      "metadata": {
        "id": "Zz9-eAN7Q595"
      },
      "source": [
        "# Setup the learning rate\n",
        "from tensorflow.keras.callbacks import EarlyStopping\n",
        "from tensorflow.keras.callbacks import ReduceLROnPlateau\n",
        "\n",
        "# Use early stopping, change patience as required\n",
        "early_stopping = EarlyStopping(monitor='val_loss', patience=50,verbose=1)\n",
        "\n",
        "# Use reduce LR, change patience and factor as required\n",
        "reduce_lr = ReduceLROnPlateau(monitor='val_loss', factor=0.1, patience=5, min_lr=0.00001, verbose=1)\n",
        "\n",
        "learning_rate = 0.01\n",
        "optimizer = optimizers.Adam(learning_rate = learning_rate)"
      ],
      "execution_count": 79,
      "outputs": []
    },
    {
      "cell_type": "code",
      "metadata": {
        "id": "4cYAXSiTfhmd",
        "outputId": "37c7ce0d-d264-4f63-ed05-af8b2b39df6a",
        "colab": {
          "base_uri": "https://localhost:8080/",
          "height": 1000
        }
      },
      "source": [
        "# fit model\n",
        "model.fit(X_train, y_train, epochs=100, validation_split=0.3, callbacks = [early_stopping, reduce_lr])"
      ],
      "execution_count": 80,
      "outputs": [
        {
          "output_type": "stream",
          "text": [
            "Epoch 1/100\n",
            "23/23 [==============================] - 1s 49ms/step - loss: 24404364.0000 - val_loss: 15170372.0000\n",
            "Epoch 2/100\n",
            "23/23 [==============================] - 1s 39ms/step - loss: 5174175.0000 - val_loss: 5250124.0000\n",
            "Epoch 3/100\n",
            "23/23 [==============================] - 1s 43ms/step - loss: 5909684.5000 - val_loss: 4065178.2500\n",
            "Epoch 4/100\n",
            "23/23 [==============================] - 1s 40ms/step - loss: 4341751.0000 - val_loss: 3020327.5000\n",
            "Epoch 5/100\n",
            "23/23 [==============================] - 1s 41ms/step - loss: 3097032.2500 - val_loss: 1592835.5000\n",
            "Epoch 6/100\n",
            "23/23 [==============================] - 1s 39ms/step - loss: 2502305.0000 - val_loss: 1784745.5000\n",
            "Epoch 7/100\n",
            "23/23 [==============================] - 1s 39ms/step - loss: 2458710.5000 - val_loss: 1794902.8750\n",
            "Epoch 8/100\n",
            "23/23 [==============================] - 1s 52ms/step - loss: 2355767.0000 - val_loss: 1993119.1250\n",
            "Epoch 9/100\n",
            "23/23 [==============================] - 1s 44ms/step - loss: 2434400.5000 - val_loss: 2023835.2500\n",
            "Epoch 10/100\n",
            "22/23 [===========================>..] - ETA: 0s - loss: 2485811.0000\n",
            "Epoch 00010: ReduceLROnPlateau reducing learning rate to 0.0009999999776482583.\n",
            "23/23 [==============================] - 1s 42ms/step - loss: 2464142.5000 - val_loss: 1753749.8750\n",
            "Epoch 11/100\n",
            "23/23 [==============================] - 1s 39ms/step - loss: 2323874.2500 - val_loss: 1572673.2500\n",
            "Epoch 12/100\n",
            "23/23 [==============================] - 1s 39ms/step - loss: 2319346.7500 - val_loss: 1570930.6250\n",
            "Epoch 13/100\n",
            "23/23 [==============================] - 1s 38ms/step - loss: 2275385.7500 - val_loss: 1528023.7500\n",
            "Epoch 14/100\n",
            "23/23 [==============================] - 1s 40ms/step - loss: 2288035.5000 - val_loss: 1532114.7500\n",
            "Epoch 15/100\n",
            "23/23 [==============================] - 1s 41ms/step - loss: 2277706.7500 - val_loss: 1520912.5000\n",
            "Epoch 16/100\n",
            "23/23 [==============================] - 1s 40ms/step - loss: 2257903.0000 - val_loss: 1522642.0000\n",
            "Epoch 17/100\n",
            "23/23 [==============================] - 1s 39ms/step - loss: 2264919.0000 - val_loss: 1576784.5000\n",
            "Epoch 18/100\n",
            "23/23 [==============================] - 1s 41ms/step - loss: 2284702.2500 - val_loss: 1588763.0000\n",
            "Epoch 19/100\n",
            "23/23 [==============================] - 1s 40ms/step - loss: 2310704.5000 - val_loss: 1603832.3750\n",
            "Epoch 20/100\n",
            "23/23 [==============================] - ETA: 0s - loss: 2295553.2500\n",
            "Epoch 00020: ReduceLROnPlateau reducing learning rate to 9.999999310821295e-05.\n",
            "23/23 [==============================] - 1s 42ms/step - loss: 2295553.2500 - val_loss: 1591523.6250\n",
            "Epoch 21/100\n",
            "23/23 [==============================] - 1s 42ms/step - loss: 2288908.0000 - val_loss: 1527572.5000\n",
            "Epoch 22/100\n",
            "23/23 [==============================] - 1s 50ms/step - loss: 2251450.0000 - val_loss: 1518293.6250\n",
            "Epoch 23/100\n",
            "23/23 [==============================] - 1s 42ms/step - loss: 2246828.7500 - val_loss: 1522419.8750\n",
            "Epoch 24/100\n",
            "23/23 [==============================] - 1s 41ms/step - loss: 2249663.0000 - val_loss: 1518144.2500\n",
            "Epoch 25/100\n",
            "23/23 [==============================] - 1s 40ms/step - loss: 2246546.0000 - val_loss: 1516476.1250\n",
            "Epoch 26/100\n",
            "23/23 [==============================] - 1s 40ms/step - loss: 2245247.7500 - val_loss: 1517707.0000\n",
            "Epoch 27/100\n",
            "23/23 [==============================] - 1s 41ms/step - loss: 2244984.0000 - val_loss: 1515752.0000\n",
            "Epoch 28/100\n",
            "23/23 [==============================] - 1s 42ms/step - loss: 2244373.5000 - val_loss: 1518312.7500\n",
            "Epoch 29/100\n",
            "23/23 [==============================] - 1s 41ms/step - loss: 2244083.2500 - val_loss: 1517902.3750\n",
            "Epoch 30/100\n",
            "23/23 [==============================] - 1s 40ms/step - loss: 2244925.5000 - val_loss: 1517598.8750\n",
            "Epoch 31/100\n",
            "23/23 [==============================] - 1s 41ms/step - loss: 2248381.0000 - val_loss: 1519858.5000\n",
            "Epoch 32/100\n",
            "22/23 [===========================>..] - ETA: 0s - loss: 2287832.0000\n",
            "Epoch 00032: ReduceLROnPlateau reducing learning rate to 1e-05.\n",
            "23/23 [==============================] - 1s 49ms/step - loss: 2245201.5000 - val_loss: 1516914.2500\n",
            "Epoch 33/100\n",
            "23/23 [==============================] - 1s 41ms/step - loss: 2242930.7500 - val_loss: 1516933.5000\n",
            "Epoch 34/100\n",
            "23/23 [==============================] - 1s 43ms/step - loss: 2242973.7500 - val_loss: 1516177.6250\n",
            "Epoch 35/100\n",
            "23/23 [==============================] - 1s 48ms/step - loss: 2242891.5000 - val_loss: 1516205.2500\n",
            "Epoch 36/100\n",
            "23/23 [==============================] - 1s 42ms/step - loss: 2242498.7500 - val_loss: 1516165.1250\n",
            "Epoch 37/100\n",
            "23/23 [==============================] - 1s 39ms/step - loss: 2242772.2500 - val_loss: 1516699.2500\n",
            "Epoch 38/100\n",
            "23/23 [==============================] - 1s 41ms/step - loss: 2242465.5000 - val_loss: 1516158.2500\n",
            "Epoch 39/100\n",
            "23/23 [==============================] - 1s 39ms/step - loss: 2242445.2500 - val_loss: 1515889.5000\n",
            "Epoch 40/100\n",
            "23/23 [==============================] - 1s 43ms/step - loss: 2242556.5000 - val_loss: 1516063.6250\n",
            "Epoch 41/100\n",
            "23/23 [==============================] - 1s 41ms/step - loss: 2242390.0000 - val_loss: 1516465.8750\n",
            "Epoch 42/100\n",
            "23/23 [==============================] - 1s 39ms/step - loss: 2242489.5000 - val_loss: 1516437.0000\n",
            "Epoch 43/100\n",
            "23/23 [==============================] - 1s 41ms/step - loss: 2242373.0000 - val_loss: 1516146.8750\n",
            "Epoch 44/100\n",
            "23/23 [==============================] - 1s 50ms/step - loss: 2242436.2500 - val_loss: 1516646.5000\n",
            "Epoch 45/100\n",
            "23/23 [==============================] - 1s 42ms/step - loss: 2242302.0000 - val_loss: 1516324.0000\n",
            "Epoch 46/100\n",
            "23/23 [==============================] - 1s 40ms/step - loss: 2242861.0000 - val_loss: 1516857.0000\n",
            "Epoch 47/100\n",
            "23/23 [==============================] - 1s 40ms/step - loss: 2242255.7500 - val_loss: 1516300.6250\n",
            "Epoch 48/100\n",
            "23/23 [==============================] - 1s 39ms/step - loss: 2242541.0000 - val_loss: 1516818.8750\n",
            "Epoch 49/100\n",
            "23/23 [==============================] - 1s 40ms/step - loss: 2242127.0000 - val_loss: 1516163.5000\n",
            "Epoch 50/100\n",
            "23/23 [==============================] - 1s 39ms/step - loss: 2242138.0000 - val_loss: 1516565.6250\n",
            "Epoch 51/100\n",
            "23/23 [==============================] - 1s 42ms/step - loss: 2242313.0000 - val_loss: 1516928.3750\n",
            "Epoch 52/100\n",
            "23/23 [==============================] - 1s 48ms/step - loss: 2242168.5000 - val_loss: 1515779.0000\n",
            "Epoch 53/100\n",
            "23/23 [==============================] - 1s 53ms/step - loss: 2242115.7500 - val_loss: 1515843.5000\n",
            "Epoch 54/100\n",
            "23/23 [==============================] - 1s 40ms/step - loss: 2242044.7500 - val_loss: 1516146.8750\n",
            "Epoch 55/100\n",
            "23/23 [==============================] - 1s 41ms/step - loss: 2242066.5000 - val_loss: 1516251.7500\n",
            "Epoch 56/100\n",
            "23/23 [==============================] - 1s 43ms/step - loss: 2242124.0000 - val_loss: 1516501.1250\n",
            "Epoch 57/100\n",
            "23/23 [==============================] - 1s 43ms/step - loss: 2242924.5000 - val_loss: 1515685.5000\n",
            "Epoch 58/100\n",
            "23/23 [==============================] - 1s 41ms/step - loss: 2241967.2500 - val_loss: 1515785.8750\n",
            "Epoch 59/100\n",
            "23/23 [==============================] - 1s 41ms/step - loss: 2242502.5000 - val_loss: 1516516.5000\n",
            "Epoch 60/100\n",
            "23/23 [==============================] - 1s 51ms/step - loss: 2242010.2500 - val_loss: 1516593.6250\n",
            "Epoch 61/100\n",
            "23/23 [==============================] - 1s 42ms/step - loss: 2241921.2500 - val_loss: 1516993.2500\n",
            "Epoch 62/100\n",
            "23/23 [==============================] - 1s 42ms/step - loss: 2241821.7500 - val_loss: 1516438.6250\n",
            "Epoch 63/100\n",
            "23/23 [==============================] - 1s 43ms/step - loss: 2242182.2500 - val_loss: 1515870.3750\n",
            "Epoch 64/100\n",
            "23/23 [==============================] - 1s 40ms/step - loss: 2241946.0000 - val_loss: 1516318.1250\n",
            "Epoch 65/100\n",
            "23/23 [==============================] - 1s 49ms/step - loss: 2241810.7500 - val_loss: 1516385.5000\n",
            "Epoch 66/100\n",
            "23/23 [==============================] - 1s 48ms/step - loss: 2241961.5000 - val_loss: 1516017.6250\n",
            "Epoch 67/100\n",
            "23/23 [==============================] - 1s 43ms/step - loss: 2242157.0000 - val_loss: 1516917.6250\n",
            "Epoch 68/100\n",
            "23/23 [==============================] - 1s 41ms/step - loss: 2242289.5000 - val_loss: 1516136.8750\n",
            "Epoch 69/100\n",
            "23/23 [==============================] - 1s 53ms/step - loss: 2241850.5000 - val_loss: 1516333.0000\n",
            "Epoch 70/100\n",
            "23/23 [==============================] - 1s 45ms/step - loss: 2241836.2500 - val_loss: 1516805.5000\n",
            "Epoch 71/100\n",
            "23/23 [==============================] - 1s 40ms/step - loss: 2241804.7500 - val_loss: 1516369.1250\n",
            "Epoch 72/100\n",
            "23/23 [==============================] - 1s 41ms/step - loss: 2242047.7500 - val_loss: 1515708.5000\n",
            "Epoch 73/100\n",
            "23/23 [==============================] - 1s 44ms/step - loss: 2241869.5000 - val_loss: 1516454.2500\n",
            "Epoch 74/100\n",
            "23/23 [==============================] - 1s 56ms/step - loss: 2241834.5000 - val_loss: 1515529.2500\n",
            "Epoch 75/100\n",
            "23/23 [==============================] - 1s 40ms/step - loss: 2241754.7500 - val_loss: 1516383.8750\n",
            "Epoch 76/100\n",
            "23/23 [==============================] - 1s 38ms/step - loss: 2241525.5000 - val_loss: 1515897.0000\n",
            "Epoch 77/100\n",
            "23/23 [==============================] - 1s 49ms/step - loss: 2241509.2500 - val_loss: 1516158.7500\n",
            "Epoch 78/100\n",
            "23/23 [==============================] - 1s 40ms/step - loss: 2241684.2500 - val_loss: 1516423.7500\n",
            "Epoch 79/100\n",
            "23/23 [==============================] - 1s 46ms/step - loss: 2242163.5000 - val_loss: 1515351.2500\n",
            "Epoch 80/100\n",
            "23/23 [==============================] - 1s 42ms/step - loss: 2241400.0000 - val_loss: 1515898.3750\n",
            "Epoch 81/100\n",
            "23/23 [==============================] - 1s 42ms/step - loss: 2241385.7500 - val_loss: 1515619.0000\n",
            "Epoch 82/100\n",
            "23/23 [==============================] - 1s 41ms/step - loss: 2241290.0000 - val_loss: 1515801.8750\n",
            "Epoch 83/100\n",
            "23/23 [==============================] - 1s 57ms/step - loss: 2241270.5000 - val_loss: 1515632.6250\n",
            "Epoch 84/100\n",
            "23/23 [==============================] - 1s 48ms/step - loss: 2241840.0000 - val_loss: 1515522.8750\n",
            "Epoch 85/100\n",
            "23/23 [==============================] - 1s 40ms/step - loss: 2241404.7500 - val_loss: 1515633.3750\n",
            "Epoch 86/100\n",
            "23/23 [==============================] - 1s 47ms/step - loss: 2241635.0000 - val_loss: 1515916.3750\n",
            "Epoch 87/100\n",
            "23/23 [==============================] - 1s 46ms/step - loss: 2241466.7500 - val_loss: 1515044.0000\n",
            "Epoch 88/100\n",
            "23/23 [==============================] - 1s 49ms/step - loss: 2241356.7500 - val_loss: 1515655.6250\n",
            "Epoch 89/100\n",
            "23/23 [==============================] - 1s 41ms/step - loss: 2241180.0000 - val_loss: 1515043.0000\n",
            "Epoch 90/100\n",
            "23/23 [==============================] - 1s 41ms/step - loss: 2241582.2500 - val_loss: 1514586.7500\n",
            "Epoch 91/100\n",
            "23/23 [==============================] - 1s 40ms/step - loss: 2240955.0000 - val_loss: 1515329.6250\n",
            "Epoch 92/100\n",
            "23/23 [==============================] - 1s 53ms/step - loss: 2241129.5000 - val_loss: 1515277.0000\n",
            "Epoch 93/100\n",
            "23/23 [==============================] - 1s 41ms/step - loss: 2241474.0000 - val_loss: 1516220.5000\n",
            "Epoch 94/100\n",
            "23/23 [==============================] - 1s 55ms/step - loss: 2240941.2500 - val_loss: 1515083.5000\n",
            "Epoch 95/100\n",
            "23/23 [==============================] - 1s 49ms/step - loss: 2240934.5000 - val_loss: 1515961.5000\n",
            "Epoch 96/100\n",
            "23/23 [==============================] - 1s 40ms/step - loss: 2241378.2500 - val_loss: 1515016.1250\n",
            "Epoch 97/100\n",
            "23/23 [==============================] - 1s 40ms/step - loss: 2242570.0000 - val_loss: 1515471.3750\n",
            "Epoch 98/100\n",
            "23/23 [==============================] - 1s 44ms/step - loss: 2240728.2500 - val_loss: 1515529.8750\n",
            "Epoch 99/100\n",
            "23/23 [==============================] - 1s 40ms/step - loss: 2241064.7500 - val_loss: 1514978.7500\n",
            "Epoch 100/100\n",
            "23/23 [==============================] - 1s 40ms/step - loss: 2240649.5000 - val_loss: 1515161.3750\n"
          ],
          "name": "stdout"
        },
        {
          "output_type": "execute_result",
          "data": {
            "text/plain": [
              "<tensorflow.python.keras.callbacks.History at 0x7f6f6d1c1710>"
            ]
          },
          "metadata": {
            "tags": []
          },
          "execution_count": 80
        }
      ]
    },
    {
      "cell_type": "code",
      "metadata": {
        "id": "waDnp_CLrA1K"
      },
      "source": [
        "# Create the predictions data frame\n",
        "yhat_stacked = pd.DataFrame(np.reshape(np.array(model.predict(X_test, verbose=0)), (7,1)))\n",
        "\n",
        "yhat_stacked.columns = ['predictions']"
      ],
      "execution_count": 81,
      "outputs": []
    },
    {
      "cell_type": "code",
      "metadata": {
        "id": "WkumLKVZrlng"
      },
      "source": [
        "# Create the test set data frame\n",
        "y_test = pd.DataFrame(np.reshape(np.array(y_test), (7,1)))\n",
        "\n",
        "y_test.columns = ['real']"
      ],
      "execution_count": 82,
      "outputs": []
    },
    {
      "cell_type": "code",
      "metadata": {
        "id": "3nv0fhdxlZlI"
      },
      "source": [
        "predictions = pd.concat([yhat_stacked, y_test], axis=1, sort=False)"
      ],
      "execution_count": 83,
      "outputs": []
    },
    {
      "cell_type": "code",
      "metadata": {
        "id": "dgLM_DjIlxKV"
      },
      "source": [
        "predictions.columns = ['stacked', 'real']"
      ],
      "execution_count": 84,
      "outputs": []
    },
    {
      "cell_type": "code",
      "metadata": {
        "id": "p7fH4IfWsE4H"
      },
      "source": [
        "import matplotlib.pyplot as plt"
      ],
      "execution_count": 85,
      "outputs": []
    },
    {
      "cell_type": "code",
      "metadata": {
        "id": "-6pN-BJBsNRH",
        "outputId": "1dbf117c-6d6d-46b6-fc68-8f080e1968c1",
        "colab": {
          "base_uri": "https://localhost:8080/",
          "height": 282
        }
      },
      "source": [
        "# Plot the predictions against the truth\n",
        "\n",
        "plt.plot(predictions.index, predictions.stacked, label = \"Stacked\")\n",
        "plt.plot(predictions.index, predictions.real, label = \"Real\")\n",
        "plt.legend(loc=\"upper left\")"
      ],
      "execution_count": 88,
      "outputs": [
        {
          "output_type": "execute_result",
          "data": {
            "text/plain": [
              "<matplotlib.legend.Legend at 0x7f6f6c283e10>"
            ]
          },
          "metadata": {
            "tags": []
          },
          "execution_count": 88
        },
        {
          "output_type": "display_data",
          "data": {
            "image/png": "[encoded data removed]",
            "text/plain": [
              "<Figure size 432x288 with 1 Axes>"
            ]
          },
          "metadata": {
            "tags": [],
            "needs_background": "light"
          }
        }
      ]
    },
    {
      "cell_type": "code",
      "metadata": {
        "id": "PzHtY8eavqH0",
        "outputId": "7bead368-f6d2-4564-b6c0-6708946a1d74",
        "colab": {
          "base_uri": "https://localhost:8080/",
          "height": 34
        }
      },
      "source": [
        "def rmse(predictions, targets):\n",
        "    return np.sqrt(((predictions - targets) ** 2).mean())\n",
        "\n",
        "rmse_val = rmse(predictions.stacked, predictions.real)\n",
        "\n",
        "rmse_val"
      ],
      "execution_count": 89,
      "outputs": [
        {
          "output_type": "execute_result",
          "data": {
            "text/plain": [
              "1988.8496875319317"
            ]
          },
          "metadata": {
            "tags": []
          },
          "execution_count": 89
        }
      ]
    },
    {
      "cell_type": "markdown",
      "metadata": {
        "id": "B5JHs2h32sZY"
      },
      "source": [
        "# Encoder-Decoder Univariate LSTM"
      ]
    },
    {
      "cell_type": "code",
      "metadata": {
        "id": "x-wJQPd93tAF"
      },
      "source": [
        "# univariate multi-step encoder-decoder lstm example\n",
        "from numpy import array\n",
        "from keras.models import Sequential\n",
        "from keras.layers import LSTM\n",
        "from keras.layers import Dense\n",
        "from keras.layers import RepeatVector\n",
        "from keras.layers import TimeDistributed"
      ],
      "execution_count": 32,
      "outputs": []
    },
    {
      "cell_type": "code",
      "metadata": {
        "id": "gLbwMoWB2rmk",
        "outputId": "1a9ff585-b74e-4006-aeb9-9978b52a052b",
        "colab": {
          "base_uri": "https://localhost:8080/",
          "height": 72
        }
      },
      "source": [
        "#Define the same modelling procure as the multi-step univariate LSTM, but include the RepeatVector function between each LSTM layer\n",
        "# define model\n",
        "model = Sequential()\n",
        "model.add(LSTM(200, activation='relu', input_shape=(n_steps_in, n_features)))\n",
        "model.add(RepeatVector(n_steps_out))\n",
        "model.add(LSTM(200, activation='relu', return_sequences=True))\n",
        "model.add(TimeDistributed(Dense(1)))\n",
        "model.compile(optimizer='adam', loss='mse')"
      ],
      "execution_count": 90,
      "outputs": [
        {
          "output_type": "stream",
          "text": [
            "WARNING:tensorflow:Layer lstm_6 will not use cuDNN kernel since it doesn't meet the cuDNN kernel criteria. It will use generic GPU kernel as fallback when running on GPU\n",
            "WARNING:tensorflow:Layer lstm_7 will not use cuDNN kernel since it doesn't meet the cuDNN kernel criteria. It will use generic GPU kernel as fallback when running on GPU\n"
          ],
          "name": "stdout"
        }
      ]
    },
    {
      "cell_type": "code",
      "metadata": {
        "id": "VXVyDI1Z30Y0",
        "outputId": "57e6ec5d-b8b7-4ac8-ee39-c80989b25d5b",
        "colab": {
          "base_uri": "https://localhost:8080/",
          "height": 1000
        }
      },
      "source": [
        "# fit model\n",
        "model.fit(X_train, y_train, epochs=200, validation_split=0.3, callbacks = [early_stopping, reduce_lr])"
      ],
      "execution_count": 91,
      "outputs": [
        {
          "output_type": "stream",
          "text": [
            "Epoch 1/200\n",
            "23/23 [==============================] - 1s 42ms/step - loss: 25198406.0000 - val_loss: 29560612.0000\n",
            "Epoch 2/200\n",
            "23/23 [==============================] - 1s 31ms/step - loss: 12550944.0000 - val_loss: 16806418.0000\n",
            "Epoch 3/200\n",
            "23/23 [==============================] - 1s 30ms/step - loss: 10266745.0000 - val_loss: 12488601.0000\n",
            "Epoch 4/200\n",
            "23/23 [==============================] - 1s 37ms/step - loss: 6589259.0000 - val_loss: 7507844.5000\n",
            "Epoch 5/200\n",
            "23/23 [==============================] - 1s 34ms/step - loss: 4930221.0000 - val_loss: 5149020.5000\n",
            "Epoch 6/200\n",
            "23/23 [==============================] - 1s 30ms/step - loss: 4968579.0000 - val_loss: 5874100.0000\n",
            "Epoch 7/200\n",
            "23/23 [==============================] - 1s 33ms/step - loss: 3883723.7500 - val_loss: 7000896.5000\n",
            "Epoch 8/200\n",
            "23/23 [==============================] - 1s 43ms/step - loss: 10350472.0000 - val_loss: 16599817.0000\n",
            "Epoch 9/200\n",
            "23/23 [==============================] - 1s 31ms/step - loss: 7906278.0000 - val_loss: 7292524.0000\n",
            "Epoch 10/200\n",
            "23/23 [==============================] - 1s 34ms/step - loss: 3628684.2500 - val_loss: 3228581.5000\n",
            "Epoch 11/200\n",
            "23/23 [==============================] - 1s 31ms/step - loss: 3703793.0000 - val_loss: 10884379.0000\n",
            "Epoch 12/200\n",
            "23/23 [==============================] - 1s 32ms/step - loss: 7574766.5000 - val_loss: 3032863.5000\n",
            "Epoch 13/200\n",
            "23/23 [==============================] - 1s 30ms/step - loss: 2509490.0000 - val_loss: 1979541.0000\n",
            "Epoch 14/200\n",
            "23/23 [==============================] - 1s 30ms/step - loss: 1887166.6250 - val_loss: 1212168.1250\n",
            "Epoch 15/200\n",
            "23/23 [==============================] - 1s 30ms/step - loss: 1240367.0000 - val_loss: 913711.5625\n",
            "Epoch 16/200\n",
            "23/23 [==============================] - 1s 31ms/step - loss: 1092491.2500 - val_loss: 750769.5000\n",
            "Epoch 17/200\n",
            "23/23 [==============================] - 1s 29ms/step - loss: 1025603.2500 - val_loss: 1070363.5000\n",
            "Epoch 18/200\n",
            "23/23 [==============================] - 1s 31ms/step - loss: 1074224.1250 - val_loss: 688729.0625\n",
            "Epoch 19/200\n",
            "23/23 [==============================] - 1s 30ms/step - loss: 934675.1875 - val_loss: 1080246.5000\n",
            "Epoch 20/200\n",
            "23/23 [==============================] - 1s 31ms/step - loss: 1004224.6250 - val_loss: 1020368.7500\n",
            "Epoch 21/200\n",
            "23/23 [==============================] - 1s 35ms/step - loss: 1051978.7500 - val_loss: 1041398.3750\n",
            "Epoch 22/200\n",
            "23/23 [==============================] - 1s 31ms/step - loss: 1196679.5000 - val_loss: 791200.1250\n",
            "Epoch 23/200\n",
            "23/23 [==============================] - ETA: 0s - loss: 1002210.0000\n",
            "Epoch 00023: ReduceLROnPlateau reducing learning rate to 0.00010000000474974513.\n",
            "23/23 [==============================] - 1s 31ms/step - loss: 1002210.0000 - val_loss: 708429.5625\n",
            "Epoch 24/200\n",
            "23/23 [==============================] - 1s 31ms/step - loss: 887391.0625 - val_loss: 704188.5000\n",
            "Epoch 25/200\n",
            "23/23 [==============================] - 1s 38ms/step - loss: 988635.9375 - val_loss: 765220.9375\n",
            "Epoch 26/200\n",
            "23/23 [==============================] - 1s 37ms/step - loss: 969115.9375 - val_loss: 722106.9375\n",
            "Epoch 27/200\n",
            "23/23 [==============================] - 1s 31ms/step - loss: 911864.3750 - val_loss: 701290.0000\n",
            "Epoch 28/200\n",
            "23/23 [==============================] - ETA: 0s - loss: 911226.5000\n",
            "Epoch 00028: ReduceLROnPlateau reducing learning rate to 1.0000000474974514e-05.\n",
            "23/23 [==============================] - 1s 33ms/step - loss: 911226.5000 - val_loss: 704533.5625\n",
            "Epoch 29/200\n",
            "23/23 [==============================] - 1s 31ms/step - loss: 917513.4375 - val_loss: 701542.5625\n",
            "Epoch 30/200\n",
            "23/23 [==============================] - 1s 31ms/step - loss: 907262.8750 - val_loss: 709517.6250\n",
            "Epoch 31/200\n",
            "23/23 [==============================] - 1s 37ms/step - loss: 905476.5625 - val_loss: 705782.0625\n",
            "Epoch 32/200\n",
            "23/23 [==============================] - 1s 32ms/step - loss: 901600.4375 - val_loss: 706273.1250\n",
            "Epoch 33/200\n",
            "22/23 [===========================>..] - ETA: 0s - loss: 857751.0000\n",
            "Epoch 00033: ReduceLROnPlateau reducing learning rate to 1e-05.\n",
            "23/23 [==============================] - 1s 32ms/step - loss: 899729.5625 - val_loss: 700782.7500\n",
            "Epoch 34/200\n",
            "23/23 [==============================] - 1s 31ms/step - loss: 897925.1875 - val_loss: 703793.0000\n",
            "Epoch 35/200\n",
            "23/23 [==============================] - 1s 43ms/step - loss: 892557.2500 - val_loss: 701890.9375\n",
            "Epoch 36/200\n",
            "23/23 [==============================] - 1s 33ms/step - loss: 888842.0625 - val_loss: 699706.2500\n",
            "Epoch 37/200\n",
            "23/23 [==============================] - 1s 30ms/step - loss: 888170.1875 - val_loss: 699460.4375\n",
            "Epoch 38/200\n",
            "23/23 [==============================] - 1s 34ms/step - loss: 887491.0625 - val_loss: 695108.8750\n",
            "Epoch 39/200\n",
            "23/23 [==============================] - 1s 32ms/step - loss: 878983.5625 - val_loss: 694576.5625\n",
            "Epoch 40/200\n",
            "23/23 [==============================] - 1s 39ms/step - loss: 878176.2500 - val_loss: 689859.0000\n",
            "Epoch 41/200\n",
            "23/23 [==============================] - 1s 42ms/step - loss: 883088.3750 - val_loss: 693705.9375\n",
            "Epoch 42/200\n",
            "23/23 [==============================] - 1s 39ms/step - loss: 880109.2500 - val_loss: 683417.8125\n",
            "Epoch 43/200\n",
            "23/23 [==============================] - 1s 32ms/step - loss: 863669.9375 - val_loss: 675227.0625\n",
            "Epoch 44/200\n",
            "23/23 [==============================] - 1s 35ms/step - loss: 870964.3125 - val_loss: 680364.5000\n",
            "Epoch 45/200\n",
            "23/23 [==============================] - 1s 31ms/step - loss: 877130.5000 - val_loss: 660916.6250\n",
            "Epoch 46/200\n",
            "23/23 [==============================] - 1s 31ms/step - loss: 872434.5625 - val_loss: 658223.4375\n",
            "Epoch 47/200\n",
            "23/23 [==============================] - 1s 31ms/step - loss: 869295.5000 - val_loss: 657551.3125\n",
            "Epoch 48/200\n",
            "23/23 [==============================] - 1s 37ms/step - loss: 869048.1875 - val_loss: 661791.3125\n",
            "Epoch 49/200\n",
            "23/23 [==============================] - 1s 32ms/step - loss: 866377.7500 - val_loss: 678237.2500\n",
            "Epoch 50/200\n",
            "23/23 [==============================] - 1s 31ms/step - loss: 864262.3125 - val_loss: 676889.0625\n",
            "Epoch 51/200\n",
            "23/23 [==============================] - 1s 31ms/step - loss: 863097.8750 - val_loss: 678158.5625\n",
            "Epoch 52/200\n",
            "23/23 [==============================] - 1s 38ms/step - loss: 861375.0625 - val_loss: 677489.8125\n",
            "Epoch 53/200\n",
            "23/23 [==============================] - 1s 33ms/step - loss: 860195.5000 - val_loss: 669095.4375\n",
            "Epoch 54/200\n",
            "23/23 [==============================] - 1s 34ms/step - loss: 849584.3125 - val_loss: 668260.8750\n",
            "Epoch 55/200\n",
            "23/23 [==============================] - 1s 35ms/step - loss: 849611.0625 - val_loss: 668102.3750\n",
            "Epoch 56/200\n",
            "23/23 [==============================] - 1s 32ms/step - loss: 848227.9375 - val_loss: 665418.3125\n",
            "Epoch 57/200\n",
            "23/23 [==============================] - 1s 32ms/step - loss: 847218.4375 - val_loss: 662092.3125\n",
            "Epoch 58/200\n",
            "23/23 [==============================] - 1s 33ms/step - loss: 847380.1875 - val_loss: 660011.8125\n",
            "Epoch 59/200\n",
            "23/23 [==============================] - 1s 33ms/step - loss: 847328.0625 - val_loss: 660352.3125\n",
            "Epoch 60/200\n",
            "23/23 [==============================] - 1s 31ms/step - loss: 845243.8125 - val_loss: 670242.0625\n",
            "Epoch 61/200\n",
            "23/23 [==============================] - 1s 31ms/step - loss: 844941.2500 - val_loss: 669466.1250\n",
            "Epoch 62/200\n",
            "23/23 [==============================] - 1s 33ms/step - loss: 842350.4375 - val_loss: 669619.6875\n",
            "Epoch 63/200\n",
            "23/23 [==============================] - 1s 30ms/step - loss: 838048.5000 - val_loss: 669427.7500\n",
            "Epoch 64/200\n",
            "23/23 [==============================] - 1s 33ms/step - loss: 833924.6250 - val_loss: 671281.8750\n",
            "Epoch 65/200\n",
            "23/23 [==============================] - 1s 38ms/step - loss: 832788.3125 - val_loss: 670096.6875\n",
            "Epoch 66/200\n",
            "23/23 [==============================] - 1s 31ms/step - loss: 832384.0000 - val_loss: 669428.9375\n",
            "Epoch 67/200\n",
            "23/23 [==============================] - 1s 31ms/step - loss: 830749.1250 - val_loss: 671033.6875\n",
            "Epoch 68/200\n",
            "23/23 [==============================] - 1s 35ms/step - loss: 830940.7500 - val_loss: 669415.3125\n",
            "Epoch 69/200\n",
            "23/23 [==============================] - 1s 31ms/step - loss: 829488.8125 - val_loss: 668557.3750\n",
            "Epoch 70/200\n",
            "23/23 [==============================] - 1s 31ms/step - loss: 829534.8750 - val_loss: 669169.9375\n",
            "Epoch 71/200\n",
            "23/23 [==============================] - 1s 44ms/step - loss: 828108.2500 - val_loss: 668818.5000\n",
            "Epoch 72/200\n",
            "23/23 [==============================] - 1s 30ms/step - loss: 829785.2500 - val_loss: 671162.6875\n",
            "Epoch 73/200\n",
            "23/23 [==============================] - 1s 31ms/step - loss: 827433.3750 - val_loss: 671144.5625\n",
            "Epoch 74/200\n",
            "23/23 [==============================] - 1s 31ms/step - loss: 826181.2500 - val_loss: 669590.9375\n",
            "Epoch 75/200\n",
            "23/23 [==============================] - 1s 31ms/step - loss: 825743.3125 - val_loss: 669759.0625\n",
            "Epoch 76/200\n",
            "23/23 [==============================] - 1s 30ms/step - loss: 825682.1250 - val_loss: 669662.4375\n",
            "Epoch 77/200\n",
            "23/23 [==============================] - 1s 31ms/step - loss: 824299.0625 - val_loss: 667224.1250\n",
            "Epoch 78/200\n",
            "23/23 [==============================] - 1s 32ms/step - loss: 822639.4375 - val_loss: 666916.8750\n",
            "Epoch 79/200\n",
            "23/23 [==============================] - 1s 39ms/step - loss: 823578.9375 - val_loss: 667683.5000\n",
            "Epoch 80/200\n",
            "23/23 [==============================] - 1s 38ms/step - loss: 822263.2500 - val_loss: 669858.2500\n",
            "Epoch 81/200\n",
            "23/23 [==============================] - 1s 37ms/step - loss: 822122.5000 - val_loss: 669222.3750\n",
            "Epoch 82/200\n",
            "23/23 [==============================] - 1s 31ms/step - loss: 824228.1875 - val_loss: 674352.1250\n",
            "Epoch 83/200\n",
            "23/23 [==============================] - 1s 32ms/step - loss: 822297.6250 - val_loss: 670753.8750\n",
            "Epoch 84/200\n",
            "23/23 [==============================] - 1s 31ms/step - loss: 821776.9375 - val_loss: 669120.6875\n",
            "Epoch 85/200\n",
            "23/23 [==============================] - 1s 31ms/step - loss: 820456.4375 - val_loss: 669738.0000\n",
            "Epoch 86/200\n",
            "23/23 [==============================] - 1s 30ms/step - loss: 818564.1875 - val_loss: 672617.6250\n",
            "Epoch 87/200\n",
            "23/23 [==============================] - 1s 32ms/step - loss: 818555.8750 - val_loss: 672963.8125\n",
            "Epoch 88/200\n",
            "23/23 [==============================] - 1s 36ms/step - loss: 817468.1250 - val_loss: 676686.7500\n",
            "Epoch 89/200\n",
            "23/23 [==============================] - 1s 31ms/step - loss: 817922.1875 - val_loss: 678678.3125\n",
            "Epoch 90/200\n",
            "23/23 [==============================] - 1s 40ms/step - loss: 816315.8125 - val_loss: 679500.8750\n",
            "Epoch 91/200\n",
            "23/23 [==============================] - 1s 33ms/step - loss: 817169.3750 - val_loss: 680290.3750\n",
            "Epoch 92/200\n",
            "23/23 [==============================] - 1s 31ms/step - loss: 816045.5000 - val_loss: 675649.5625\n",
            "Epoch 93/200\n",
            "23/23 [==============================] - 1s 31ms/step - loss: 815045.3750 - val_loss: 672647.0625\n",
            "Epoch 94/200\n",
            "23/23 [==============================] - 1s 33ms/step - loss: 814096.3125 - val_loss: 672011.6250\n",
            "Epoch 95/200\n",
            "23/23 [==============================] - 1s 31ms/step - loss: 813916.6875 - val_loss: 675004.3125\n",
            "Epoch 96/200\n",
            "23/23 [==============================] - 1s 33ms/step - loss: 814233.8750 - val_loss: 674165.8750\n",
            "Epoch 97/200\n",
            "23/23 [==============================] - 1s 32ms/step - loss: 813198.3125 - val_loss: 672184.0000\n",
            "Epoch 00097: early stopping\n"
          ],
          "name": "stdout"
        },
        {
          "output_type": "execute_result",
          "data": {
            "text/plain": [
              "<tensorflow.python.keras.callbacks.History at 0x7f6f69883c88>"
            ]
          },
          "metadata": {
            "tags": []
          },
          "execution_count": 91
        }
      ]
    },
    {
      "cell_type": "code",
      "metadata": {
        "id": "YkD7CVRS4T6s",
        "outputId": "b94f4450-92b0-413e-9e10-bf317eca0110",
        "colab": {
          "base_uri": "https://localhost:8080/",
          "height": 54
        }
      },
      "source": [
        "# Create the predictions data frame\n",
        "yhat_enc_dec = pd.DataFrame(np.reshape(np.array(model.predict(X_test, verbose=0)), (7,1)))\n",
        "\n",
        "yhat_enc_dec.columns = ['encoder_decoder']"
      ],
      "execution_count": 92,
      "outputs": [
        {
          "output_type": "stream",
          "text": [
            "WARNING:tensorflow:5 out of the last 5 calls to <function Model.make_predict_function.<locals>.predict_function at 0x7f6f6d21ff28> triggered tf.function retracing. Tracing is expensive and the excessive number of tracings could be due to (1) creating @tf.function repeatedly in a loop, (2) passing tensors with different shapes, (3) passing Python objects instead of tensors. For (1), please define your @tf.function outside of the loop. For (2), @tf.function has experimental_relax_shapes=True option that relaxes argument shapes that can avoid unnecessary retracing. For (3), please refer to https://www.tensorflow.org/tutorials/customization/performance#python_or_tensor_args and https://www.tensorflow.org/api_docs/python/tf/function for  more details.\n"
          ],
          "name": "stdout"
        }
      ]
    },
    {
      "cell_type": "code",
      "metadata": {
        "id": "N60S3krc4T60"
      },
      "source": [
        "# Create the test set data frame\n",
        "#y_test = pd.DataFrame(np.reshape(np.array(y_test), (14,1)))\n",
        "\n",
        "#y_test.columns = ['real']"
      ],
      "execution_count": 93,
      "outputs": []
    },
    {
      "cell_type": "code",
      "metadata": {
        "id": "VRzAibSInNjP"
      },
      "source": [
        "predictions = pd.concat([predictions, yhat_enc_dec], axis=1, sort=False)"
      ],
      "execution_count": 94,
      "outputs": []
    },
    {
      "cell_type": "code",
      "metadata": {
        "id": "YOvRuF3g4T65"
      },
      "source": [
        "import matplotlib.pyplot as plt"
      ],
      "execution_count": 95,
      "outputs": []
    },
    {
      "cell_type": "code",
      "metadata": {
        "id": "x-Fxk03P4T6-",
        "outputId": "3e642178-b443-49ec-80df-9f74b1d64e59",
        "colab": {
          "base_uri": "https://localhost:8080/",
          "height": 551
        }
      },
      "source": [
        "# Plot the predictions against the truth\n",
        "\n",
        "plt.plot(predictions.index, predictions.real, label = \"Real\")\n",
        "#plt.plot(predictions.index, predictions.stacked)\n",
        "plt.plot(predictions.index, predictions.encoder_decoder, label = \"Encoder Decoder\")\n",
        "plt.legend(loc=\"bottom left\")"
      ],
      "execution_count": 96,
      "outputs": [
        {
          "output_type": "stream",
          "text": [
            "/usr/local/lib/python3.6/dist-packages/ipykernel_launcher.py:6: MatplotlibDeprecationWarning: Unrecognized location 'bottom left'. Falling back on 'best'; valid locations are\n",
            "\tbest\n",
            "\tupper right\n",
            "\tupper left\n",
            "\tlower left\n",
            "\tlower right\n",
            "\tright\n",
            "\tcenter left\n",
            "\tcenter right\n",
            "\tlower center\n",
            "\tupper center\n",
            "\tcenter\n",
            "This will raise an exception in 3.3.\n",
            "  \n"
          ],
          "name": "stderr"
        },
        {
          "output_type": "execute_result",
          "data": {
            "text/plain": [
              "<matplotlib.legend.Legend at 0x7f6f682d84e0>"
            ]
          },
          "metadata": {
            "tags": []
          },
          "execution_count": 96
        },
        {
          "output_type": "display_data",
          "data": {
            "image/png": "[encoded data removed]",
            "text/plain": [
              "<Figure size 432x288 with 1 Axes>"
            ]
          },
          "metadata": {
            "tags": [],
            "needs_background": "light"
          }
        }
      ]
    },
    {
      "cell_type": "code",
      "metadata": {
        "id": "jd0riuWN2tDo",
        "outputId": "ccebbb0f-5b8d-4f90-ad8d-29dbd7a64630",
        "colab": {
          "base_uri": "https://localhost:8080/",
          "height": 34
        }
      },
      "source": [
        "rmse(predictions.encoder_decoder, predictions.real)"
      ],
      "execution_count": 97,
      "outputs": [
        {
          "output_type": "execute_result",
          "data": {
            "text/plain": [
              "1141.7187858876928"
            ]
          },
          "metadata": {
            "tags": []
          },
          "execution_count": 97
        }
      ]
    },
    {
      "cell_type": "markdown",
      "metadata": {
        "id": "TPjxuKJBoRUf"
      },
      "source": [
        "# CNN-LSTM"
      ]
    },
    {
      "cell_type": "code",
      "metadata": {
        "id": "atH9DnVapsBH"
      },
      "source": [
        "# univariate bidirectional lstm example\n",
        "from numpy import array\n",
        "from keras.models import Sequential\n",
        "from keras.layers import LSTM\n",
        "from keras.layers import Dense\n",
        "from keras.layers import Bidirectional\n",
        "from keras.layers import Flatten\n",
        "from keras.layers import ConvLSTM2D"
      ],
      "execution_count": 45,
      "outputs": []
    },
    {
      "cell_type": "code",
      "metadata": {
        "id": "O6T1Y2P0oT91"
      },
      "source": [
        "# choose a number of time steps\n",
        "# multi-step data preparation\n",
        "from numpy import array\n",
        " \n",
        "# split a univariate sequence into samples\n",
        "def split_sequence(sequence, n_steps_in, n_steps_out):\n",
        "\tX, y = list(), list()\n",
        "\tfor i in range(len(sequence)):\n",
        "\t\t# find the end of this pattern\n",
        "\t\tend_ix = i + n_steps_in\n",
        "\t\tout_end_ix = end_ix + n_steps_out\n",
        "\t\t# check if we are beyond the sequence\n",
        "\t\tif out_end_ix > len(sequence):\n",
        "\t\t\tbreak\n",
        "\t\t# gather input and output parts of the pattern\n",
        "\t\tseq_x, seq_y = sequence[i:end_ix], sequence[end_ix:out_end_ix]\n",
        "\t\tX.append(seq_x)\n",
        "\t\ty.append(seq_y)\n",
        "\treturn array(X), array(y)\n",
        " \n",
        "# define input sequence for TRAIN\n",
        "train_seq = train\n",
        "# choose a number of time steps\n",
        "n_steps_in, n_steps_out = 14, 7\n",
        "# split into samples\n",
        "X_train, y_train = split_sequence(train_seq, n_steps_in, n_steps_out)\n",
        "# summarize the data\n",
        "\n",
        "\n",
        "# define input sequence for TEST\n",
        "test_seq = test\n",
        "# choose a number of time steps\n",
        "n_steps_in, n_steps_out = 14, 7\n",
        "# split into samples\n",
        "X_test, y_test = split_sequence(test_seq, n_steps_in, n_steps_out)"
      ],
      "execution_count": 98,
      "outputs": []
    },
    {
      "cell_type": "code",
      "metadata": {
        "id": "xAtVDDzxvox9"
      },
      "source": [
        "n_features = 1\n",
        "n_seq = 2\n",
        "n_steps = 7\n",
        "\n",
        "X_train = X_train.reshape((X_train.shape[0], n_seq, 1, n_steps, n_features))"
      ],
      "execution_count": 99,
      "outputs": []
    },
    {
      "cell_type": "code",
      "metadata": {
        "id": "xy3rrd0wf-Dd"
      },
      "source": [
        "n_features = 1\n",
        "n_seq = 2\n",
        "n_steps = 7\n",
        "\n",
        "X_test = X_test.reshape((X_test.shape[0], n_seq, 1, n_steps, n_features))"
      ],
      "execution_count": 100,
      "outputs": []
    },
    {
      "cell_type": "code",
      "metadata": {
        "id": "-ggNTjMpsdX4"
      },
      "source": [
        "# define model\n",
        "model = Sequential()"
      ],
      "execution_count": 101,
      "outputs": []
    },
    {
      "cell_type": "code",
      "metadata": {
        "id": "RXRk71N4se4u"
      },
      "source": [
        "model.add(ConvLSTM2D(filters=64, kernel_size=(1,2), activation='relu', input_shape=(n_seq, 1, n_steps, n_features)))\n",
        "model.add(Flatten())\n",
        "model.add(Dense(n_steps_out))"
      ],
      "execution_count": 102,
      "outputs": []
    },
    {
      "cell_type": "code",
      "metadata": {
        "id": "lqCwNxROsgx-"
      },
      "source": [
        "model.compile(optimizer='adam', loss='mse')"
      ],
      "execution_count": 103,
      "outputs": []
    },
    {
      "cell_type": "code",
      "metadata": {
        "id": "ZtZiqxJ_tHz1",
        "outputId": "2440788c-032e-49a5-cb43-f215a0b9afc1",
        "colab": {
          "base_uri": "https://localhost:8080/",
          "height": 265
        }
      },
      "source": [
        "model.summary()"
      ],
      "execution_count": 104,
      "outputs": [
        {
          "output_type": "stream",
          "text": [
            "Model: \"sequential_5\"\n",
            "_________________________________________________________________\n",
            "Layer (type)                 Output Shape              Param #   \n",
            "=================================================================\n",
            "conv_lst_m2d_1 (ConvLSTM2D)  (None, 1, 6, 64)          33536     \n",
            "_________________________________________________________________\n",
            "flatten_1 (Flatten)          (None, 384)               0         \n",
            "_________________________________________________________________\n",
            "dense_5 (Dense)              (None, 7)                 2695      \n",
            "=================================================================\n",
            "Total params: 36,231\n",
            "Trainable params: 36,231\n",
            "Non-trainable params: 0\n",
            "_________________________________________________________________\n"
          ],
          "name": "stdout"
        }
      ]
    },
    {
      "cell_type": "code",
      "metadata": {
        "id": "JWx1hj0Zs8G3",
        "outputId": "6b6f9346-03c2-4e30-9425-3319e5c3bbe3",
        "colab": {
          "base_uri": "https://localhost:8080/",
          "height": 1000
        }
      },
      "source": [
        "model.fit(X_train, y_train, epochs=200, validation_split=0.3, callbacks = [early_stopping, reduce_lr])"
      ],
      "execution_count": 105,
      "outputs": [
        {
          "output_type": "stream",
          "text": [
            "Epoch 1/200\n",
            "23/23 [==============================] - 1s 30ms/step - loss: 49325896.0000 - val_loss: 62848532.0000\n",
            "Epoch 2/200\n",
            "23/23 [==============================] - 0s 15ms/step - loss: 27138148.0000 - val_loss: 15216787.0000\n",
            "Epoch 3/200\n",
            "23/23 [==============================] - 0s 14ms/step - loss: 3922152.2500 - val_loss: 1463752.7500\n",
            "Epoch 4/200\n",
            "23/23 [==============================] - 0s 14ms/step - loss: 1666349.7500 - val_loss: 1061445.3750\n",
            "Epoch 5/200\n",
            "23/23 [==============================] - 0s 14ms/step - loss: 1481773.1250 - val_loss: 1058679.5000\n",
            "Epoch 6/200\n",
            "23/23 [==============================] - 0s 13ms/step - loss: 1519567.3750 - val_loss: 1059192.3750\n",
            "Epoch 7/200\n",
            "23/23 [==============================] - 0s 13ms/step - loss: 1438552.2500 - val_loss: 1013094.8750\n",
            "Epoch 8/200\n",
            "23/23 [==============================] - 0s 15ms/step - loss: 1411369.1250 - val_loss: 941994.9375\n",
            "Epoch 9/200\n",
            "23/23 [==============================] - 0s 13ms/step - loss: 1429227.0000 - val_loss: 1039162.5000\n",
            "Epoch 10/200\n",
            "23/23 [==============================] - 0s 14ms/step - loss: 1385424.8750 - val_loss: 1174112.8750\n",
            "Epoch 11/200\n",
            "23/23 [==============================] - 0s 13ms/step - loss: 1447477.8750 - val_loss: 921553.2500\n",
            "Epoch 12/200\n",
            "23/23 [==============================] - 0s 17ms/step - loss: 1333663.0000 - val_loss: 943041.2500\n",
            "Epoch 13/200\n",
            "23/23 [==============================] - 0s 18ms/step - loss: 1334392.2500 - val_loss: 964973.8125\n",
            "Epoch 14/200\n",
            "23/23 [==============================] - 0s 13ms/step - loss: 1335675.1250 - val_loss: 1014671.1250\n",
            "Epoch 15/200\n",
            "23/23 [==============================] - 0s 13ms/step - loss: 1294934.8750 - val_loss: 873666.9375\n",
            "Epoch 16/200\n",
            "23/23 [==============================] - 0s 13ms/step - loss: 1265432.7500 - val_loss: 959433.1875\n",
            "Epoch 17/200\n",
            "23/23 [==============================] - 0s 14ms/step - loss: 1385326.6250 - val_loss: 991652.8125\n",
            "Epoch 18/200\n",
            "23/23 [==============================] - 0s 13ms/step - loss: 1379611.7500 - val_loss: 952785.2500\n",
            "Epoch 19/200\n",
            "23/23 [==============================] - 0s 13ms/step - loss: 1350485.3750 - val_loss: 969637.6250\n",
            "Epoch 20/200\n",
            "23/23 [==============================] - 0s 14ms/step - loss: 1241482.3750 - val_loss: 801609.8750\n",
            "Epoch 21/200\n",
            "23/23 [==============================] - 0s 13ms/step - loss: 1118933.6250 - val_loss: 760914.6250\n",
            "Epoch 22/200\n",
            "23/23 [==============================] - 0s 13ms/step - loss: 1111915.5000 - val_loss: 774978.8125\n",
            "Epoch 23/200\n",
            "23/23 [==============================] - 0s 14ms/step - loss: 1076827.6250 - val_loss: 746328.2500\n",
            "Epoch 24/200\n",
            "23/23 [==============================] - 0s 13ms/step - loss: 1284013.7500 - val_loss: 904104.8125\n",
            "Epoch 25/200\n",
            "23/23 [==============================] - 0s 13ms/step - loss: 1257439.8750 - val_loss: 902558.0625\n",
            "Epoch 26/200\n",
            "23/23 [==============================] - 0s 14ms/step - loss: 1242582.6250 - val_loss: 876105.3750\n",
            "Epoch 27/200\n",
            "23/23 [==============================] - 0s 13ms/step - loss: 1190964.8750 - val_loss: 844429.3125\n",
            "Epoch 28/200\n",
            "19/23 [=======================>......] - ETA: 0s - loss: 1178097.6250\n",
            "Epoch 00028: ReduceLROnPlateau reducing learning rate to 0.00010000000474974513.\n",
            "23/23 [==============================] - 0s 13ms/step - loss: 1172145.8750 - val_loss: 875511.8125\n",
            "Epoch 29/200\n",
            "23/23 [==============================] - 0s 16ms/step - loss: 1153919.5000 - val_loss: 834444.2500\n",
            "Epoch 30/200\n",
            "23/23 [==============================] - 0s 13ms/step - loss: 1141523.5000 - val_loss: 823776.0625\n",
            "Epoch 31/200\n",
            "23/23 [==============================] - 0s 13ms/step - loss: 1142422.6250 - val_loss: 825416.5000\n",
            "Epoch 32/200\n",
            "23/23 [==============================] - 0s 15ms/step - loss: 1135306.7500 - val_loss: 820052.4375\n",
            "Epoch 33/200\n",
            "23/23 [==============================] - ETA: 0s - loss: 1133999.6250\n",
            "Epoch 00033: ReduceLROnPlateau reducing learning rate to 1.0000000474974514e-05.\n",
            "23/23 [==============================] - 0s 18ms/step - loss: 1133999.6250 - val_loss: 820350.0625\n",
            "Epoch 34/200\n",
            "23/23 [==============================] - 0s 17ms/step - loss: 1129916.2500 - val_loss: 819528.5625\n",
            "Epoch 35/200\n",
            "23/23 [==============================] - 0s 13ms/step - loss: 1129594.7500 - val_loss: 819486.0000\n",
            "Epoch 36/200\n",
            "23/23 [==============================] - 0s 13ms/step - loss: 1129091.0000 - val_loss: 819197.3125\n",
            "Epoch 37/200\n",
            "23/23 [==============================] - 0s 14ms/step - loss: 1129015.3750 - val_loss: 819293.5625\n",
            "Epoch 38/200\n",
            "23/23 [==============================] - ETA: 0s - loss: 1128528.2500\n",
            "Epoch 00038: ReduceLROnPlateau reducing learning rate to 1e-05.\n",
            "23/23 [==============================] - 0s 14ms/step - loss: 1128528.2500 - val_loss: 818813.5625\n",
            "Epoch 39/200\n",
            "23/23 [==============================] - 0s 13ms/step - loss: 1128428.1250 - val_loss: 818336.6875\n",
            "Epoch 40/200\n",
            "23/23 [==============================] - 0s 14ms/step - loss: 1128140.7500 - val_loss: 818165.3750\n",
            "Epoch 41/200\n",
            "23/23 [==============================] - 0s 13ms/step - loss: 1127744.6250 - val_loss: 818309.6250\n",
            "Epoch 42/200\n",
            "23/23 [==============================] - 0s 13ms/step - loss: 1127506.7500 - val_loss: 818149.7500\n",
            "Epoch 43/200\n",
            "23/23 [==============================] - 0s 14ms/step - loss: 1127174.5000 - val_loss: 817915.0625\n",
            "Epoch 44/200\n",
            "23/23 [==============================] - 0s 14ms/step - loss: 1126817.1250 - val_loss: 817813.0000\n",
            "Epoch 45/200\n",
            "23/23 [==============================] - 0s 13ms/step - loss: 1126610.0000 - val_loss: 817447.3750\n",
            "Epoch 46/200\n",
            "23/23 [==============================] - 0s 15ms/step - loss: 1126519.1250 - val_loss: 817656.8125\n",
            "Epoch 47/200\n",
            "23/23 [==============================] - 0s 14ms/step - loss: 1125972.6250 - val_loss: 817300.8125\n",
            "Epoch 48/200\n",
            "23/23 [==============================] - 0s 13ms/step - loss: 1125937.1250 - val_loss: 817190.8750\n",
            "Epoch 49/200\n",
            "23/23 [==============================] - 0s 13ms/step - loss: 1125483.2500 - val_loss: 816645.6875\n",
            "Epoch 50/200\n",
            "23/23 [==============================] - 0s 14ms/step - loss: 1125112.3750 - val_loss: 816565.7500\n",
            "Epoch 51/200\n",
            "23/23 [==============================] - 0s 15ms/step - loss: 1124953.3750 - val_loss: 816607.9375\n",
            "Epoch 52/200\n",
            "23/23 [==============================] - 0s 15ms/step - loss: 1124697.3750 - val_loss: 816011.6250\n",
            "Epoch 53/200\n",
            "23/23 [==============================] - 0s 13ms/step - loss: 1124467.7500 - val_loss: 816040.8125\n",
            "Epoch 54/200\n",
            "23/23 [==============================] - 0s 13ms/step - loss: 1123953.1250 - val_loss: 815833.1250\n",
            "Epoch 55/200\n",
            "23/23 [==============================] - 0s 14ms/step - loss: 1123714.3750 - val_loss: 815562.2500\n",
            "Epoch 56/200\n",
            "23/23 [==============================] - 0s 13ms/step - loss: 1123536.5000 - val_loss: 815651.2500\n",
            "Epoch 57/200\n",
            "23/23 [==============================] - 0s 14ms/step - loss: 1123474.7500 - val_loss: 815008.6250\n",
            "Epoch 58/200\n",
            "23/23 [==============================] - 0s 14ms/step - loss: 1122800.6250 - val_loss: 815048.9375\n",
            "Epoch 59/200\n",
            "23/23 [==============================] - 0s 13ms/step - loss: 1122742.3750 - val_loss: 815261.0625\n",
            "Epoch 60/200\n",
            "23/23 [==============================] - 0s 13ms/step - loss: 1122343.3750 - val_loss: 814812.5000\n",
            "Epoch 61/200\n",
            "23/23 [==============================] - 0s 14ms/step - loss: 1122067.3750 - val_loss: 814791.1875\n",
            "Epoch 62/200\n",
            "23/23 [==============================] - 0s 14ms/step - loss: 1121764.2500 - val_loss: 814456.6875\n",
            "Epoch 63/200\n",
            "23/23 [==============================] - 0s 13ms/step - loss: 1121480.6250 - val_loss: 814105.1250\n",
            "Epoch 64/200\n",
            "23/23 [==============================] - 0s 14ms/step - loss: 1121016.3750 - val_loss: 814147.4375\n",
            "Epoch 65/200\n",
            "23/23 [==============================] - 0s 14ms/step - loss: 1120829.1250 - val_loss: 814015.8750\n",
            "Epoch 66/200\n",
            "23/23 [==============================] - 0s 14ms/step - loss: 1120521.2500 - val_loss: 813727.8750\n",
            "Epoch 67/200\n",
            "23/23 [==============================] - 0s 14ms/step - loss: 1120245.1250 - val_loss: 813830.5625\n",
            "Epoch 68/200\n",
            "23/23 [==============================] - 0s 16ms/step - loss: 1119975.1250 - val_loss: 813338.5625\n",
            "Epoch 69/200\n",
            "23/23 [==============================] - 0s 17ms/step - loss: 1119577.7500 - val_loss: 813170.2500\n",
            "Epoch 70/200\n",
            "23/23 [==============================] - 0s 18ms/step - loss: 1119317.6250 - val_loss: 813321.1250\n",
            "Epoch 71/200\n",
            "23/23 [==============================] - 0s 18ms/step - loss: 1118962.0000 - val_loss: 813064.0625\n",
            "Epoch 72/200\n",
            "23/23 [==============================] - 0s 14ms/step - loss: 1118849.3750 - val_loss: 812608.1250\n",
            "Epoch 73/200\n",
            "23/23 [==============================] - 0s 14ms/step - loss: 1118551.0000 - val_loss: 812769.8125\n",
            "Epoch 00073: early stopping\n"
          ],
          "name": "stdout"
        },
        {
          "output_type": "execute_result",
          "data": {
            "text/plain": [
              "<tensorflow.python.keras.callbacks.History at 0x7f6f68201828>"
            ]
          },
          "metadata": {
            "tags": []
          },
          "execution_count": 105
        }
      ]
    },
    {
      "cell_type": "code",
      "metadata": {
        "id": "rPOgvS2ay8ZQ",
        "outputId": "1458a2c7-d15c-4e94-ae33-abc651049eff",
        "colab": {
          "base_uri": "https://localhost:8080/",
          "height": 257
        }
      },
      "source": [
        "yhat_cnn = pd.DataFrame(np.reshape(model.predict(X_test), (7,1)))\n",
        "\n",
        "yhat_cnn.columns = ['CNN']\n",
        "\n",
        "yhat_cnn"
      ],
      "execution_count": 107,
      "outputs": [
        {
          "output_type": "execute_result",
          "data": {
            "text/html": [
              "<div>\n",
              "<style scoped>\n",
              "    .dataframe tbody tr th:only-of-type {\n",
              "        vertical-align: middle;\n",
              "    }\n",
              "\n",
              "    .dataframe tbody tr th {\n",
              "        vertical-align: top;\n",
              "    }\n",
              "\n",
              "    .dataframe thead th {\n",
              "        text-align: right;\n",
              "    }\n",
              "</style>\n",
              "<table border=\"1\" class=\"dataframe\">\n",
              "  <thead>\n",
              "    <tr style=\"text-align: right;\">\n",
              "      <th></th>\n",
              "      <th>CNN</th>\n",
              "    </tr>\n",
              "  </thead>\n",
              "  <tbody>\n",
              "    <tr>\n",
              "      <th>0</th>\n",
              "      <td>7779.452148</td>\n",
              "    </tr>\n",
              "    <tr>\n",
              "      <th>1</th>\n",
              "      <td>7834.411621</td>\n",
              "    </tr>\n",
              "    <tr>\n",
              "      <th>2</th>\n",
              "      <td>7787.700684</td>\n",
              "    </tr>\n",
              "    <tr>\n",
              "      <th>3</th>\n",
              "      <td>7695.085449</td>\n",
              "    </tr>\n",
              "    <tr>\n",
              "      <th>4</th>\n",
              "      <td>7924.594238</td>\n",
              "    </tr>\n",
              "    <tr>\n",
              "      <th>5</th>\n",
              "      <td>7656.398926</td>\n",
              "    </tr>\n",
              "    <tr>\n",
              "      <th>6</th>\n",
              "      <td>7880.287598</td>\n",
              "    </tr>\n",
              "  </tbody>\n",
              "</table>\n",
              "</div>"
            ],
            "text/plain": [
              "           CNN\n",
              "0  7779.452148\n",
              "1  7834.411621\n",
              "2  7787.700684\n",
              "3  7695.085449\n",
              "4  7924.594238\n",
              "5  7656.398926\n",
              "6  7880.287598"
            ]
          },
          "metadata": {
            "tags": []
          },
          "execution_count": 107
        }
      ]
    },
    {
      "cell_type": "code",
      "metadata": {
        "id": "qbzAQiqI0RR4"
      },
      "source": [
        "predictions = pd.concat([predictions, yhat_cnn], axis=1, sort=False)"
      ],
      "execution_count": 108,
      "outputs": []
    },
    {
      "cell_type": "code",
      "metadata": {
        "id": "3da1edeqMyj5",
        "outputId": "25a025a6-14b3-4250-c3a2-39f1a1b1d2ee",
        "colab": {
          "base_uri": "https://localhost:8080/",
          "height": 551
        }
      },
      "source": [
        "# Plot the predictions against the truth\n",
        "\n",
        "plt.plot(predictions.index, predictions.real, label = \"Real\")\n",
        "#plt.plot(predictions.index, predictions.stacked, label = \"Stacked\")\n",
        "#plt.plot(predictions.index, predictions.encoder_decoder, label = \"Encoder Decoder\")\n",
        "plt.plot(predictions.index, predictions.CNN, label = \"CNN\")\n",
        "plt.legend(loc=\"bottom right\")"
      ],
      "execution_count": 109,
      "outputs": [
        {
          "output_type": "stream",
          "text": [
            "/usr/local/lib/python3.6/dist-packages/ipykernel_launcher.py:7: MatplotlibDeprecationWarning: Unrecognized location 'bottom right'. Falling back on 'best'; valid locations are\n",
            "\tbest\n",
            "\tupper right\n",
            "\tupper left\n",
            "\tlower left\n",
            "\tlower right\n",
            "\tright\n",
            "\tcenter left\n",
            "\tcenter right\n",
            "\tlower center\n",
            "\tupper center\n",
            "\tcenter\n",
            "This will raise an exception in 3.3.\n",
            "  import sys\n"
          ],
          "name": "stderr"
        },
        {
          "output_type": "execute_result",
          "data": {
            "text/plain": [
              "<matplotlib.legend.Legend at 0x7f6f67713e10>"
            ]
          },
          "metadata": {
            "tags": []
          },
          "execution_count": 109
        },
        {
          "output_type": "display_data",
          "data": {
            "image/png": "[encoded data removed]",
            "text/plain": [
              "<Figure size 432x288 with 1 Axes>"
            ]
          },
          "metadata": {
            "tags": [],
            "needs_background": "light"
          }
        }
      ]
    },
    {
      "cell_type": "code",
      "metadata": {
        "id": "f4-lZIqCM-ne",
        "outputId": "ba614f5a-c2a0-41e0-a6ec-5bb1f473e763",
        "colab": {
          "base_uri": "https://localhost:8080/",
          "height": 34
        }
      },
      "source": [
        "rmse(predictions.CNN, predictions.real)"
      ],
      "execution_count": 110,
      "outputs": [
        {
          "output_type": "execute_result",
          "data": {
            "text/plain": [
              "1355.3616800872412"
            ]
          },
          "metadata": {
            "tags": []
          },
          "execution_count": 110
        }
      ]
    },
    {
      "cell_type": "code",
      "metadata": {
        "id": "yZxNgbapNrJc",
        "outputId": "589d0f17-fb3a-4102-8343-debd2def082c",
        "colab": {
          "base_uri": "https://localhost:8080/",
          "height": 34
        }
      },
      "source": [
        "rmse(predictions.stacked, predictions.real)"
      ],
      "execution_count": 120,
      "outputs": [
        {
          "output_type": "execute_result",
          "data": {
            "text/plain": [
              "100.24406118750824"
            ]
          },
          "metadata": {
            "tags": []
          },
          "execution_count": 120
        }
      ]
    },
    {
      "cell_type": "code",
      "metadata": {
        "id": "dqeJPI4FNrnC",
        "outputId": "048c3a96-04c1-4927-a94a-1d4d899a04f1",
        "colab": {
          "base_uri": "https://localhost:8080/",
          "height": 34
        }
      },
      "source": [
        "rmse(predictions.encoder_decoder, predictions.real)"
      ],
      "execution_count": 121,
      "outputs": [
        {
          "output_type": "execute_result",
          "data": {
            "text/plain": [
              "314.90066854586377"
            ]
          },
          "metadata": {
            "tags": []
          },
          "execution_count": 121
        }
      ]
    },
    {
      "cell_type": "markdown",
      "metadata": {
        "id": "Yvur19aP4x-6"
      },
      "source": [
        "# CLASSIFICATION"
      ]
    },
    {
      "cell_type": "code",
      "metadata": {
        "id": "XhhKkK3t4_qx"
      },
      "source": [
        "# Create the binary outcome variable\n",
        "data['btc_bin'] = data['BTC_close']"
      ],
      "execution_count": null,
      "outputs": []
    },
    {
      "cell_type": "code",
      "metadata": {
        "id": "S7I7lNJv580J"
      },
      "source": [
        "data['btc_lag'] = data['btc_bin'].shift(1)"
      ],
      "execution_count": null,
      "outputs": []
    },
    {
      "cell_type": "code",
      "metadata": {
        "id": "MAwl86dE6WkS"
      },
      "source": [
        "data['BTC_binary'] = np.where(data.BTC_close > data.btc_lag, 1, 0)"
      ],
      "execution_count": null,
      "outputs": []
    },
    {
      "cell_type": "code",
      "metadata": {
        "id": "_9YZT19I7cyo"
      },
      "source": [
        "# Duplicate the bitcoin variables before lagging\n",
        "data['BTC_open_dup'] = data['BTC_open'] \n",
        "data['BTC_close_dup'] = data['BTC_close']\n",
        "data['BTC_vol_dup'] = data['BTC_vol']"
      ],
      "execution_count": null,
      "outputs": []
    },
    {
      "cell_type": "code",
      "metadata": {
        "id": "NEhv1Ty-7cyt"
      },
      "source": [
        "# Remove the BTC open and BTC vol variables before lagging as they  can't be used for this type of modelling strategy. \n",
        "data = data.drop(['BTC_open', 'BTC_vol'], axis = 1)"
      ],
      "execution_count": null,
      "outputs": []
    },
    {
      "cell_type": "code",
      "metadata": {
        "id": "Fio-odQN7cyw"
      },
      "source": [
        "# Lag all variables except BTC_close\n",
        "\n",
        "data['ETHER_open'] = data['ETHER_open'].shift(7)\n",
        "data['ETHER_close'] = data['ETHER_close'].shift(7)\n",
        "data['ETHER_vol'] = data['ETHER_vol'].shift(7)\n",
        "\n",
        "data['XRP_open'] = data['XRP_open'].shift(7)\n",
        "data['XRP_close'] = data['XRP_close'].shift(7)\n",
        "data['XRP_vol'] = data['XRP_vol'].shift(7)\n",
        "\n",
        "data['BTC_open_dup'] = data['BTC_open_dup'].shift(7)\n",
        "data['BTC_close_dup'] = data['BTC_close_dup'].shift(7)\n",
        "data['BTC_vol_dup'] = data['BTC_vol_dup'].shift(7)"
      ],
      "execution_count": null,
      "outputs": []
    },
    {
      "cell_type": "code",
      "metadata": {
        "id": "YJPF6bY37cyy"
      },
      "source": [
        "# Drop the first 7 rows of the data set as these are NA rows due to the lagging. \n",
        "data.drop(data.head(7).index, inplace=True)"
      ],
      "execution_count": null,
      "outputs": []
    },
    {
      "cell_type": "code",
      "metadata": {
        "id": "D_xxpVDJ7Isx"
      },
      "source": [
        "# Set the  data index as a data col\n",
        "data.index = range(1,1168)"
      ],
      "execution_count": null,
      "outputs": []
    },
    {
      "cell_type": "code",
      "metadata": {
        "id": "LEhWZNpN7Is0"
      },
      "source": [
        "# May train and test sets\n",
        "pd.set_option(\"display.max_rows\", None, \"display.max_columns\", None)\n",
        "train_may = data[1:1071]\n",
        "test_may = data[1071:1078]"
      ],
      "execution_count": null,
      "outputs": []
    },
    {
      "cell_type": "code",
      "metadata": {
        "id": "4PE-0lU47Is4"
      },
      "source": [
        "# July train and test sets\n",
        "train_july = data[1:1132]\n",
        "test_july = data[1132:1139]"
      ],
      "execution_count": null,
      "outputs": []
    },
    {
      "cell_type": "code",
      "metadata": {
        "id": "iMe8Kurx7D1W"
      },
      "source": [
        "# Select the independent variables for the first experiment in 'x' and the dependent variable 'y' for MAY\n",
        "x_train_may = train_may[['ETHER_open', 'ETHER_close', 'ETHER_vol', 'XRP_open', 'XRP_close', 'XRP_vol', 'BTC_open_dup', 'BTC_close_dup', 'BTC_vol_dup']]\n",
        "y_train_may = train_may['BTC_binary']\n",
        "\n",
        "# Setup testing x and y variables\n",
        "x_test_may = test_may[['ETHER_open', 'ETHER_close', 'ETHER_vol', 'XRP_open', 'XRP_close', 'XRP_vol', 'BTC_open_dup', 'BTC_close_dup', 'BTC_vol_dup']]\n",
        "y_test_may = test_may['BTC_binary']\n"
      ],
      "execution_count": null,
      "outputs": []
    },
    {
      "cell_type": "code",
      "metadata": {
        "id": "qDXP34OX7D1b"
      },
      "source": [
        "# Select the independent variables for the first experiment in 'x' and the dependent variable 'y' for JULY\n",
        "x_train_july = train_july[['ETHER_open', 'ETHER_close', 'ETHER_vol', 'XRP_open', 'XRP_close', 'XRP_vol', 'BTC_open_dup', 'BTC_close_dup', 'BTC_vol_dup']]\n",
        "y_train_july = train_july['BTC_binary']\n",
        "\n",
        "# Setup testing x and y variables\n",
        "x_test_july = test_july[['ETHER_open', 'ETHER_close', 'ETHER_vol', 'XRP_open', 'XRP_close', 'XRP_vol', 'BTC_open_dup', 'BTC_close_dup', 'BTC_vol_dup']]\n",
        "y_test_july = test_july['BTC_binary']\n"
      ],
      "execution_count": null,
      "outputs": []
    },
    {
      "cell_type": "code",
      "metadata": {
        "id": "OAiI_AvM_JVW"
      },
      "source": [
        "import tensorflow as tf\n",
        "import numpy as np\n",
        "from sklearn.preprocessing import scale\n",
        "from sklearn.preprocessing import StandardScaler"
      ],
      "execution_count": null,
      "outputs": []
    },
    {
      "cell_type": "code",
      "metadata": {
        "id": "_MX_oqPO_JVb"
      },
      "source": [
        "# Standardise the two data sets as a neural network requires standardised data\n",
        "\n",
        "scaled_X_train = scale(x_train_may)\n",
        "scaled_X_test = scale(x_test_may)"
      ],
      "execution_count": null,
      "outputs": []
    },
    {
      "cell_type": "markdown",
      "metadata": {
        "id": "muJ_xMAe731A"
      },
      "source": [
        "# Logistic Classification - May"
      ]
    },
    {
      "cell_type": "code",
      "metadata": {
        "id": "FY-zMkhz9k0B"
      },
      "source": [
        "from sklearn.linear_model import LogisticRegression"
      ],
      "execution_count": null,
      "outputs": []
    },
    {
      "cell_type": "code",
      "metadata": {
        "id": "NiW3Ymk89o9n"
      },
      "source": [
        "# all parameters not specified are set to their defaults\n",
        "logisticRegr = LogisticRegression()"
      ],
      "execution_count": null,
      "outputs": []
    },
    {
      "cell_type": "code",
      "metadata": {
        "id": "i20Swehc9r2P",
        "outputId": "aa54a5df-2f0c-4bb1-ab6e-8c89591b7e7c",
        "colab": {
          "base_uri": "https://localhost:8080/",
          "height": 105
        }
      },
      "source": [
        "logisticRegr.fit(x_train_may, y_train_may)"
      ],
      "execution_count": null,
      "outputs": [
        {
          "output_type": "execute_result",
          "data": {
            "text/plain": [
              "LogisticRegression(C=1.0, class_weight=None, dual=False, fit_intercept=True,\n",
              "                   intercept_scaling=1, l1_ratio=None, max_iter=100,\n",
              "                   multi_class='auto', n_jobs=None, penalty='l2',\n",
              "                   random_state=None, solver='lbfgs', tol=0.0001, verbose=0,\n",
              "                   warm_start=False)"
            ]
          },
          "metadata": {
            "tags": []
          },
          "execution_count": 108
        }
      ]
    },
    {
      "cell_type": "code",
      "metadata": {
        "id": "iVIPo7BK91YZ"
      },
      "source": [
        "predictions = logisticRegr.predict(x_train_may)"
      ],
      "execution_count": null,
      "outputs": []
    },
    {
      "cell_type": "code",
      "metadata": {
        "id": "mnrYegVm933G",
        "outputId": "c5dd75fb-a36b-4972-b4cd-a1d727765a44",
        "colab": {
          "base_uri": "https://localhost:8080/",
          "height": 34
        }
      },
      "source": [
        "predictions"
      ],
      "execution_count": null,
      "outputs": [
        {
          "output_type": "execute_result",
          "data": {
            "text/plain": [
              "array([1, 1, 1, ..., 1, 1, 1])"
            ]
          },
          "metadata": {
            "tags": []
          },
          "execution_count": 113
        }
      ]
    },
    {
      "cell_type": "code",
      "metadata": {
        "id": "PuTu782s-nl-",
        "outputId": "43d648c7-6012-4b33-fa2b-766bf6908e1f",
        "colab": {
          "base_uri": "https://localhost:8080/",
          "height": 158
        }
      },
      "source": [
        "y_test_may"
      ],
      "execution_count": null,
      "outputs": [
        {
          "output_type": "execute_result",
          "data": {
            "text/plain": [
              "1072    1\n",
              "1073    1\n",
              "1074    0\n",
              "1075    0\n",
              "1076    1\n",
              "1077    1\n",
              "1078    1\n",
              "Name: BTC_binary, dtype: int64"
            ]
          },
          "metadata": {
            "tags": []
          },
          "execution_count": 114
        }
      ]
    },
    {
      "cell_type": "code",
      "metadata": {
        "id": "KoTvxiWY-gdu",
        "outputId": "517369bd-763d-4166-e0c3-29cb4a5b5172",
        "colab": {
          "base_uri": "https://localhost:8080/",
          "height": 34
        }
      },
      "source": [
        "score = logisticRegr.score(x_test_may, y_test_may)\n",
        "print(score)"
      ],
      "execution_count": null,
      "outputs": [
        {
          "output_type": "stream",
          "text": [
            "0.5714285714285714\n"
          ],
          "name": "stdout"
        }
      ]
    },
    {
      "cell_type": "markdown",
      "metadata": {
        "id": "E0go8Enq_y42"
      },
      "source": [
        "# Random Forest Classifier - May"
      ]
    },
    {
      "cell_type": "code",
      "metadata": {
        "id": "Yf5j0IkR_yUY",
        "outputId": "2b18d236-f23c-4a86-81f2-1718db923735",
        "colab": {
          "base_uri": "https://localhost:8080/",
          "height": 158
        }
      },
      "source": [
        "from sklearn.ensemble import RandomForestClassifier\n",
        "\n",
        "# Create the model with 100 trees\n",
        "rf = RandomForestClassifier(n_estimators=1000, \n",
        "                               bootstrap = True,\n",
        "                               max_features = 'sqrt')\n",
        "# Fit on training data\n",
        "rf.fit(x_train_may, y_train_may)"
      ],
      "execution_count": null,
      "outputs": [
        {
          "output_type": "execute_result",
          "data": {
            "text/plain": [
              "RandomForestClassifier(bootstrap=True, ccp_alpha=0.0, class_weight=None,\n",
              "                       criterion='gini', max_depth=None, max_features='sqrt',\n",
              "                       max_leaf_nodes=None, max_samples=None,\n",
              "                       min_impurity_decrease=0.0, min_impurity_split=None,\n",
              "                       min_samples_leaf=1, min_samples_split=2,\n",
              "                       min_weight_fraction_leaf=0.0, n_estimators=1000,\n",
              "                       n_jobs=None, oob_score=False, random_state=None,\n",
              "                       verbose=0, warm_start=False)"
            ]
          },
          "metadata": {
            "tags": []
          },
          "execution_count": 93
        }
      ]
    },
    {
      "cell_type": "code",
      "metadata": {
        "id": "Cf03ccNFAFPx"
      },
      "source": [
        "# Actual class predictions\n",
        "rf_predictions = rf.predict(x_test_may)"
      ],
      "execution_count": null,
      "outputs": []
    },
    {
      "cell_type": "code",
      "metadata": {
        "id": "nZ-OQKINAIXO",
        "outputId": "f1f617dd-ca3c-44ba-9f65-bc90b6d000ac",
        "colab": {
          "base_uri": "https://localhost:8080/",
          "height": 34
        }
      },
      "source": [
        "rf_predictions"
      ],
      "execution_count": null,
      "outputs": [
        {
          "output_type": "execute_result",
          "data": {
            "text/plain": [
              "array([1, 1, 1, 1, 1, 1, 1])"
            ]
          },
          "metadata": {
            "tags": []
          },
          "execution_count": 95
        }
      ]
    },
    {
      "cell_type": "code",
      "metadata": {
        "id": "-vd08oT8ASL_",
        "outputId": "b5e3ffef-7f4e-4cac-dcde-452534b1e5ca",
        "colab": {
          "base_uri": "https://localhost:8080/",
          "height": 34
        }
      },
      "source": [
        "rf_score = rf.score(x_test_may, y_test_may)\n",
        "print(rf_score)"
      ],
      "execution_count": null,
      "outputs": [
        {
          "output_type": "stream",
          "text": [
            "0.7142857142857143\n"
          ],
          "name": "stdout"
        }
      ]
    },
    {
      "cell_type": "markdown",
      "metadata": {
        "id": "0qHMLROgBUiY"
      },
      "source": [
        "# XGBoost Classifier - May"
      ]
    },
    {
      "cell_type": "code",
      "metadata": {
        "id": "r97BwOfWBXg-"
      },
      "source": [
        "from numpy import loadtxt\n",
        "from xgboost import XGBClassifier\n",
        "from sklearn.model_selection import train_test_split\n",
        "from sklearn.metrics import accuracy_score\n",
        "import pandas as pd\n",
        "import numpy as np\n",
        "import xgboost as xgb\n",
        "from xgboost.sklearn import XGBClassifier\n",
        "#from sklearn import cross_validation, metrics   #Additional scklearn functions\n",
        "from sklearn.model_selection import GridSearchCV   #Perforing grid search"
      ],
      "execution_count": null,
      "outputs": []
    },
    {
      "cell_type": "code",
      "metadata": {
        "id": "VzT41UvtBdmG",
        "outputId": "d91675d5-406c-4c33-cb8a-977a760e4fc4",
        "colab": {
          "base_uri": "https://localhost:8080/",
          "height": 141
        }
      },
      "source": [
        "xgb = XGBClassifier()\n",
        "xgb.fit(x_train_may, y_train_may)"
      ],
      "execution_count": null,
      "outputs": [
        {
          "output_type": "execute_result",
          "data": {
            "text/plain": [
              "XGBClassifier(base_score=0.5, booster='gbtree', colsample_bylevel=1,\n",
              "              colsample_bynode=1, colsample_bytree=1, gamma=0,\n",
              "              learning_rate=0.1, max_delta_step=0, max_depth=3,\n",
              "              min_child_weight=1, missing=None, n_estimators=100, n_jobs=1,\n",
              "              nthread=None, objective='binary:logistic', random_state=0,\n",
              "              reg_alpha=0, reg_lambda=1, scale_pos_weight=1, seed=None,\n",
              "              silent=None, subsample=1, verbosity=1)"
            ]
          },
          "metadata": {
            "tags": []
          },
          "execution_count": 137
        }
      ]
    },
    {
      "cell_type": "code",
      "metadata": {
        "id": "2unyifzgBr77"
      },
      "source": [
        "# Actual class predictions\n",
        "xgb_predictions = xgb.predict(x_test_may)"
      ],
      "execution_count": null,
      "outputs": []
    },
    {
      "cell_type": "code",
      "metadata": {
        "id": "mOVbXn8SBvne",
        "outputId": "9b7c1f25-1d45-47a2-fa5e-603027567b3c",
        "colab": {
          "base_uri": "https://localhost:8080/",
          "height": 34
        }
      },
      "source": [
        "xgb_predictions"
      ],
      "execution_count": null,
      "outputs": [
        {
          "output_type": "execute_result",
          "data": {
            "text/plain": [
              "array([1, 1, 1, 1, 0, 1, 1])"
            ]
          },
          "metadata": {
            "tags": []
          },
          "execution_count": 139
        }
      ]
    },
    {
      "cell_type": "code",
      "metadata": {
        "id": "JIiU-3SPBzTi",
        "outputId": "ad5f145c-8859-4762-e8e5-f3fa9ec65617",
        "colab": {
          "base_uri": "https://localhost:8080/",
          "height": 34
        }
      },
      "source": [
        "xgb_score = xgb.score(x_test_may, y_test_may)\n",
        "print(xgb_score)"
      ],
      "execution_count": null,
      "outputs": [
        {
          "output_type": "stream",
          "text": [
            "0.5714285714285714\n"
          ],
          "name": "stdout"
        }
      ]
    },
    {
      "cell_type": "code",
      "metadata": {
        "id": "1tdEffNeCzU-"
      },
      "source": [
        "#param_test1 = {\n",
        "# 'max_depth':range(1,5),\n",
        "# 'min_child_weight':range(1,5)\n",
        "#}\n",
        "#gsearch1 = GridSearchCV(estimator = XGBClassifier( learning_rate =0.01, n_estimators=500, max_depth=5,\n",
        "# min_child_weight=1, gamma=0, subsample=0.3, colsample_bytree=0.3,\n",
        "# objective= 'binary:logistic', nthread=4, scale_pos_weight=1, seed=27), \n",
        "# param_grid = param_test1, scoring='roc_auc',n_jobs=4,iid=False, cv=5)\n",
        "#gsearch1.fit(x_train_may, y_train_may)\n",
        "#gsearch1.best_params_, gsearch1.best_score_"
      ],
      "execution_count": null,
      "outputs": []
    },
    {
      "cell_type": "code",
      "metadata": {
        "id": "ovKaYnDwI16d"
      },
      "source": [
        "#param = {\n",
        "#    'eta': 0.3, \n",
        "#    'max_depth': 3,  \n",
        "#    'objective': 'multi:softprob',  \n",
        "#    'num_class': 3} \n",
        "\n",
        "#steps = 20  # The number of training iterations\n",
        "\n",
        "\n",
        "#D_train = xgb.DMatrix(x_train_may, label=y_train_may)\n",
        "\n",
        "#xgb = xgb.train(param, D_train, steps)"
      ],
      "execution_count": null,
      "outputs": []
    }
  ]
}