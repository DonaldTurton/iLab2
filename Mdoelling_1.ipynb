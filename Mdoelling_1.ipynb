{
  "nbformat": 4,
  "nbformat_minor": 0,
  "metadata": {
    "colab": {
      "name": "Mdoelling_1.ipynb",
      "provenance": [],
      "include_colab_link": true
    },
    "kernelspec": {
      "name": "python3",
      "display_name": "Python 3"
    },
    "accelerator": "GPU"
  },
  "cells": [
    {
      "cell_type": "markdown",
      "metadata": {
        "id": "view-in-github",
        "colab_type": "text"
      },
      "source": [
        "<a href=\"https://colab.research.google.com/github/DonaldTurton/iLab2/blob/master/Mdoelling_1.ipynb\" target=\"_parent\"><img src=\"https://colab.research.google.com/assets/colab-badge.svg\" alt=\"Open In Colab\"/></a>"
      ]
    },
    {
      "cell_type": "markdown",
      "metadata": {
        "id": "TL8II2wcPR5Y"
      },
      "source": [
        "# ILab2"
      ]
    },
    {
      "cell_type": "markdown",
      "metadata": {
        "id": "C60ldDTpsDQ_"
      },
      "source": [
        "# Libraries"
      ]
    },
    {
      "cell_type": "code",
      "metadata": {
        "id": "GkQOGqYGr3t-"
      },
      "source": [
        "import pandas as pd\n",
        "import numpy as np\n",
        "import seaborn as sns"
      ],
      "execution_count": 131,
      "outputs": []
    },
    {
      "cell_type": "markdown",
      "metadata": {
        "id": "xCaOJmTlGuOS"
      },
      "source": [
        "# Data Set BITFINIX EXCHANGE - DAILY"
      ]
    },
    {
      "cell_type": "markdown",
      "metadata": {
        "id": "GNwn3X8fIScK"
      },
      "source": [
        "## Bitcoin"
      ]
    },
    {
      "cell_type": "code",
      "metadata": {
        "id": "plgV2djTGtq2"
      },
      "source": [
        "BITC_BITFINIX_url = \"https://raw.githubusercontent.com/DonaldTurton/iLab2/master/Bitcoin/BITFINEX_BTCUSD%2C%201D.csv\"\n",
        "\n",
        "bitcoin_daily = pd.read_csv (BITC_BITFINIX_url)"
      ],
      "execution_count": 132,
      "outputs": []
    },
    {
      "cell_type": "markdown",
      "metadata": {
        "id": "D6A09Q6HUl_u"
      },
      "source": [
        "### Ethereum"
      ]
    },
    {
      "cell_type": "code",
      "metadata": {
        "id": "zn8f-ILdUv4G"
      },
      "source": [
        "ETHERIUM_BITFINIX_url= 'https://raw.githubusercontent.com/DonaldTurton/iLab2/master/Ethereum/BITFINEX_ETHUSD%2C%201D.csv'"
      ],
      "execution_count": 133,
      "outputs": []
    },
    {
      "cell_type": "code",
      "metadata": {
        "id": "sxrpGy0_Uv4N"
      },
      "source": [
        "ethereum_daily = pd.read_csv(ETHERIUM_BITFINIX_url) "
      ],
      "execution_count": 134,
      "outputs": []
    },
    {
      "cell_type": "markdown",
      "metadata": {
        "id": "zXiqp9E3Vltr"
      },
      "source": [
        "### Ripple "
      ]
    },
    {
      "cell_type": "code",
      "metadata": {
        "id": "9xWWOpyqVxY1"
      },
      "source": [
        "RIPPLE_BITFINIX_url= 'https://raw.githubusercontent.com/DonaldTurton/iLab2/master/Ripple/BITFINEX_XRPUSD%2C%201D.csv'"
      ],
      "execution_count": 135,
      "outputs": []
    },
    {
      "cell_type": "code",
      "metadata": {
        "id": "I0ionDoyVxY7"
      },
      "source": [
        "ripple_daily = pd.read_csv(RIPPLE_BITFINIX_url)"
      ],
      "execution_count": 136,
      "outputs": []
    },
    {
      "cell_type": "markdown",
      "metadata": {
        "id": "jg87Vw4tPQoC"
      },
      "source": [
        "## Subset DF"
      ]
    },
    {
      "cell_type": "markdown",
      "metadata": {
        "id": "ASUuqPxYaDeR"
      },
      "source": [
        "## Subset DF"
      ]
    },
    {
      "cell_type": "code",
      "metadata": {
        "id": "-3tjzLyzXB8u"
      },
      "source": [
        "bit_bit = bitcoin_daily[['time','open', 'close', 'Volume']]\n",
        "bit_bit = bit_bit.rename(columns={'open': 'BTC_open', 'close': 'BTC_close', 'Volume': 'BTC_vol'})"
      ],
      "execution_count": 137,
      "outputs": []
    },
    {
      "cell_type": "code",
      "metadata": {
        "id": "2HK3THHkaGs2"
      },
      "source": [
        "eth_bit = ethereum_daily[['time','open', 'close', 'Volume']]\n",
        "eth_bit = eth_bit.rename(columns={'open': 'ETHER_open', 'close': 'ETHER_close', 'Volume': 'ETHER_vol'})"
      ],
      "execution_count": 138,
      "outputs": []
    },
    {
      "cell_type": "code",
      "metadata": {
        "id": "e5rEydh3a2Rq"
      },
      "source": [
        "xrp_bit = ripple_daily[['time','open', 'close', 'Volume']]\n",
        "xrp_bit = xrp_bit.rename(columns={'open': 'XRP_open', 'close': 'XRP_close', 'Volume': 'XRP_vol'})"
      ],
      "execution_count": 139,
      "outputs": []
    },
    {
      "cell_type": "markdown",
      "metadata": {
        "id": "P_20D7xMbgBx"
      },
      "source": [
        "## Merge\n",
        "\n"
      ]
    },
    {
      "cell_type": "code",
      "metadata": {
        "id": "bZaI2_FbbnsB"
      },
      "source": [
        "# Data frames for each coin from BITFINEX\n",
        "#bit_bit 2,677 observations\n",
        "#eth_bit 1,497 observations\n",
        "#xrp_bit 1,176 observations"
      ],
      "execution_count": 140,
      "outputs": []
    },
    {
      "cell_type": "code",
      "metadata": {
        "id": "EmJv81OOcOLW"
      },
      "source": [
        "bit_eth = pd.merge(bit_bit, eth_bit, how='left', on=['time'])\n",
        "data = pd.merge(bit_eth, xrp_bit, how='left', on=['time'])"
      ],
      "execution_count": 141,
      "outputs": []
    },
    {
      "cell_type": "code",
      "metadata": {
        "id": "rV0edZss-eQK",
        "outputId": "38c73c9f-ff87-4fc2-9655-c24ad44cf1be",
        "colab": {
          "base_uri": "https://localhost:8080/",
          "height": 0
        }
      },
      "source": [
        "#Drop NA \n",
        "data = data.dropna()\n",
        "len(data) #1,174 observations after removing NA"
      ],
      "execution_count": 142,
      "outputs": [
        {
          "output_type": "execute_result",
          "data": {
            "text/plain": [
              "1174"
            ]
          },
          "metadata": {
            "tags": []
          },
          "execution_count": 142
        }
      ]
    },
    {
      "cell_type": "markdown",
      "metadata": {
        "id": "zvNsWJ7d_NxD"
      },
      "source": [
        "# Lag the predictor variables 7 days"
      ]
    },
    {
      "cell_type": "code",
      "metadata": {
        "id": "i5AHsj02_RGf"
      },
      "source": [
        "# Duplicate the bitcoin variables before lagging\n",
        "data['BTC_open_dup'] = data['BTC_open'] \n",
        "data['BTC_close_dup'] = data['BTC_close']\n",
        "data['BTC_vol_dup'] = data['BTC_vol']"
      ],
      "execution_count": 143,
      "outputs": []
    },
    {
      "cell_type": "code",
      "metadata": {
        "id": "nt-6E1XC_qnn"
      },
      "source": [
        "# Remove the BTC open and BTC vol variables before lagging as they  can't be used for this type of modelling strategy. \n",
        "data = data.drop(['BTC_open', 'BTC_vol'], axis = 1)"
      ],
      "execution_count": 144,
      "outputs": []
    },
    {
      "cell_type": "code",
      "metadata": {
        "id": "YxyCPuUHBCFp"
      },
      "source": [
        "# Lag all variables except BTC_close\n",
        "\n",
        "data['ETHER_open'] = data['ETHER_open'].shift(7)\n",
        "data['ETHER_close'] = data['ETHER_close'].shift(7)\n",
        "data['ETHER_vol'] = data['ETHER_vol'].shift(7)\n",
        "\n",
        "data['XRP_open'] = data['XRP_open'].shift(7)\n",
        "data['XRP_close'] = data['XRP_close'].shift(7)\n",
        "data['XRP_vol'] = data['XRP_vol'].shift(7)\n",
        "\n",
        "data['BTC_open_dup'] = data['BTC_open_dup'].shift(7)\n",
        "data['BTC_close_dup'] = data['BTC_close_dup'].shift(7)\n",
        "data['BTC_vol_dup'] = data['BTC_vol_dup'].shift(7)"
      ],
      "execution_count": 145,
      "outputs": []
    },
    {
      "cell_type": "code",
      "metadata": {
        "id": "QOsvJkp6B6qi"
      },
      "source": [
        "# Drop the first 7 rows of the data set as these are NA rows due to the lagging. \n",
        "data.drop(data.head(7).index, inplace=True)"
      ],
      "execution_count": 146,
      "outputs": []
    },
    {
      "cell_type": "markdown",
      "metadata": {
        "id": "zKLyu0XDC2Ym"
      },
      "source": [
        "# Set the test and train sets"
      ]
    },
    {
      "cell_type": "code",
      "metadata": {
        "id": "EkOknLFYE3y9"
      },
      "source": [
        "# Set the  data index as a data col\n",
        "data.index = range(1,1168)"
      ],
      "execution_count": 147,
      "outputs": []
    },
    {
      "cell_type": "code",
      "metadata": {
        "id": "V8Pi1fKrC4vF"
      },
      "source": [
        "# May train and test sets\n",
        "pd.set_option(\"display.max_rows\", None, \"display.max_columns\", None)\n",
        "train_may = data[1:1071]\n",
        "test_may = data[1071:1078]"
      ],
      "execution_count": 148,
      "outputs": []
    },
    {
      "cell_type": "code",
      "metadata": {
        "id": "Q6xbeVx4G2Y7"
      },
      "source": [
        "# July train and test sets\n",
        "train_july = data[1:1132]\n",
        "test_july = data[1132:1139]"
      ],
      "execution_count": 149,
      "outputs": []
    },
    {
      "cell_type": "markdown",
      "metadata": {
        "id": "57YbrDpuf0PM"
      },
      "source": [
        "#  Set test and train sets\n"
      ]
    },
    {
      "cell_type": "code",
      "metadata": {
        "id": "5mM-gHkPf0PS"
      },
      "source": [
        "# Select the independent variables for the first experiment in 'x' and the dependent variable 'y' for MAY\n",
        "x_train_may = train_may[['ETHER_open', 'ETHER_close', 'ETHER_vol', 'XRP_open', 'XRP_close', 'XRP_vol', 'BTC_open_dup', 'BTC_close_dup', 'BTC_vol_dup']]\n",
        "y_train_may = train_may['BTC_close']\n",
        "\n",
        "# Setup testing x and y variables\n",
        "x_test_may = test_may[['ETHER_open', 'ETHER_close', 'ETHER_vol', 'XRP_open', 'XRP_close', 'XRP_vol', 'BTC_open_dup', 'BTC_close_dup', 'BTC_vol_dup']]\n",
        "y_test_may = test_may['BTC_close']\n"
      ],
      "execution_count": 150,
      "outputs": []
    },
    {
      "cell_type": "code",
      "metadata": {
        "id": "SvDzPeF4f0Pg"
      },
      "source": [
        "# Select the independent variables for the first experiment in 'x' and the dependent variable 'y' for JULY\n",
        "x_train_july = train_july[['ETHER_open', 'ETHER_close', 'ETHER_vol', 'XRP_open', 'XRP_close', 'XRP_vol', 'BTC_open_dup', 'BTC_close_dup', 'BTC_vol_dup']]\n",
        "y_train_july = train_july['BTC_close']\n",
        "\n",
        "# Setup testing x and y variables\n",
        "x_test_july = test_july[['ETHER_open', 'ETHER_close', 'ETHER_vol', 'XRP_open', 'XRP_close', 'XRP_vol', 'BTC_open_dup', 'BTC_close_dup', 'BTC_vol_dup']]\n",
        "y_test_july = test_july['BTC_close']\n"
      ],
      "execution_count": 151,
      "outputs": []
    },
    {
      "cell_type": "markdown",
      "metadata": {
        "id": "6rYOFybs1Mmt"
      },
      "source": [
        "# Random Forest - May"
      ]
    },
    {
      "cell_type": "code",
      "metadata": {
        "id": "48_lVn7gU5XZ"
      },
      "source": [
        "from sklearn.ensemble import RandomForestRegressor\n",
        "from sklearn.metrics import r2_score,mean_squared_error"
      ],
      "execution_count": 152,
      "outputs": []
    },
    {
      "cell_type": "code",
      "metadata": {
        "id": "Pc-sUAmoE9q7"
      },
      "source": [
        "# Random Forest tunning \n",
        "RandomForestRegression = RandomForestRegressor(n_estimators=500)"
      ],
      "execution_count": 153,
      "outputs": []
    },
    {
      "cell_type": "code",
      "metadata": {
        "id": "bT4gG1CGUlUi",
        "outputId": "bb402025-613a-45b3-c70c-e3b7729e2790",
        "colab": {
          "base_uri": "https://localhost:8080/",
          "height": 141
        }
      },
      "source": [
        "RandomForestRegression.fit(x_train_may, y_train_may)"
      ],
      "execution_count": 154,
      "outputs": [
        {
          "output_type": "execute_result",
          "data": {
            "text/plain": [
              "RandomForestRegressor(bootstrap=True, ccp_alpha=0.0, criterion='mse',\n",
              "                      max_depth=None, max_features='auto', max_leaf_nodes=None,\n",
              "                      max_samples=None, min_impurity_decrease=0.0,\n",
              "                      min_impurity_split=None, min_samples_leaf=1,\n",
              "                      min_samples_split=2, min_weight_fraction_leaf=0.0,\n",
              "                      n_estimators=500, n_jobs=None, oob_score=False,\n",
              "                      random_state=None, verbose=0, warm_start=False)"
            ]
          },
          "metadata": {
            "tags": []
          },
          "execution_count": 154
        }
      ]
    },
    {
      "cell_type": "code",
      "metadata": {
        "id": "P3kGGMsuU8v8",
        "outputId": "1bad93ed-36c3-4c2e-9af7-3f30492da087",
        "colab": {
          "base_uri": "https://localhost:8080/",
          "height": 257
        }
      },
      "source": [
        "rf_prediction = RandomForestRegression.predict(x_test_may)\n",
        "rf_prediction = pd.DataFrame(rf_prediction)\n",
        "rf_prediction.columns = ['Random Forest']\n",
        "rf_prediction['index'] = range(1,8)\n",
        "rf_prediction"
      ],
      "execution_count": 155,
      "outputs": [
        {
          "output_type": "execute_result",
          "data": {
            "text/html": [
              "<div>\n",
              "<style scoped>\n",
              "    .dataframe tbody tr th:only-of-type {\n",
              "        vertical-align: middle;\n",
              "    }\n",
              "\n",
              "    .dataframe tbody tr th {\n",
              "        vertical-align: top;\n",
              "    }\n",
              "\n",
              "    .dataframe thead th {\n",
              "        text-align: right;\n",
              "    }\n",
              "</style>\n",
              "<table border=\"1\" class=\"dataframe\">\n",
              "  <thead>\n",
              "    <tr style=\"text-align: right;\">\n",
              "      <th></th>\n",
              "      <th>Random Forest</th>\n",
              "      <th>index</th>\n",
              "    </tr>\n",
              "  </thead>\n",
              "  <tbody>\n",
              "    <tr>\n",
              "      <th>0</th>\n",
              "      <td>7916.919097</td>\n",
              "      <td>1</td>\n",
              "    </tr>\n",
              "    <tr>\n",
              "      <th>1</th>\n",
              "      <td>8059.010481</td>\n",
              "      <td>2</td>\n",
              "    </tr>\n",
              "    <tr>\n",
              "      <th>2</th>\n",
              "      <td>7503.599789</td>\n",
              "      <td>3</td>\n",
              "    </tr>\n",
              "    <tr>\n",
              "      <th>3</th>\n",
              "      <td>7056.235988</td>\n",
              "      <td>4</td>\n",
              "    </tr>\n",
              "    <tr>\n",
              "      <th>4</th>\n",
              "      <td>7437.152443</td>\n",
              "      <td>5</td>\n",
              "    </tr>\n",
              "    <tr>\n",
              "      <th>5</th>\n",
              "      <td>8237.563792</td>\n",
              "      <td>6</td>\n",
              "    </tr>\n",
              "    <tr>\n",
              "      <th>6</th>\n",
              "      <td>7823.286390</td>\n",
              "      <td>7</td>\n",
              "    </tr>\n",
              "  </tbody>\n",
              "</table>\n",
              "</div>"
            ],
            "text/plain": [
              "   Random Forest  index\n",
              "0    7916.919097      1\n",
              "1    8059.010481      2\n",
              "2    7503.599789      3\n",
              "3    7056.235988      4\n",
              "4    7437.152443      5\n",
              "5    8237.563792      6\n",
              "6    7823.286390      7"
            ]
          },
          "metadata": {
            "tags": []
          },
          "execution_count": 155
        }
      ]
    },
    {
      "cell_type": "code",
      "metadata": {
        "id": "3lNvKjMUgNjY"
      },
      "source": [
        "y_test_may = pd.DataFrame(y_test_may)\n",
        "y_test_may['index'] = range(1,8)\n",
        "y_test_may.columns = ['Real', 'index']"
      ],
      "execution_count": 156,
      "outputs": []
    },
    {
      "cell_type": "code",
      "metadata": {
        "id": "iEyv0hbSgoFK"
      },
      "source": [
        "merge_may = y_test_may.merge(rf_prediction, on=\"index\")"
      ],
      "execution_count": 157,
      "outputs": []
    },
    {
      "cell_type": "code",
      "metadata": {
        "id": "lVdOVYxbVqHD",
        "outputId": "d35b4b46-048f-4782-b736-82971d2d2969",
        "colab": {
          "base_uri": "https://localhost:8080/",
          "height": 34
        }
      },
      "source": [
        "rf_mse = mean_squared_error(y_test_may, rf_prediction)\n",
        "rf_mse\n",
        "\n",
        "rf_rmse = np.sqrt(rf_mse)\n",
        "rf_rmse"
      ],
      "execution_count": 158,
      "outputs": [
        {
          "output_type": "execute_result",
          "data": {
            "text/plain": [
              "1031.2768518030177"
            ]
          },
          "metadata": {
            "tags": []
          },
          "execution_count": 158
        }
      ]
    },
    {
      "cell_type": "code",
      "metadata": {
        "id": "516jwU2vWdJF",
        "outputId": "efe1fb91-4331-4ea2-8d7a-6a14686fbb44",
        "colab": {
          "base_uri": "https://localhost:8080/",
          "height": 280
        }
      },
      "source": [
        "# Plot the predicted vs actual in matplot lib\n",
        "import matplotlib.pyplot as plt\n",
        "plt.plot( 'index', 'Real', data=merge_may, marker='o', markerfacecolor='blue', markersize=12, color='skyblue', linewidth=4)\n",
        "plt.plot( 'index', 'Random Forest', data=merge_may, marker='', color='olive', linewidth=2)\n",
        "plt.xticks(rotation='vertical')\n",
        "plt.legend()"
      ],
      "execution_count": 159,
      "outputs": [
        {
          "output_type": "execute_result",
          "data": {
            "text/plain": [
              "<matplotlib.legend.Legend at 0x7f701a9180f0>"
            ]
          },
          "metadata": {
            "tags": []
          },
          "execution_count": 159
        },
        {
          "output_type": "display_data",
          "data": {
            "image/png": "[encoded data removed]",
            "text/plain": [
              "<Figure size 432x288 with 1 Axes>"
            ]
          },
          "metadata": {
            "tags": [],
            "needs_background": "light"
          }
        }
      ]
    },
    {
      "cell_type": "markdown",
      "metadata": {
        "id": "UzZb1l0e6exC"
      },
      "source": [
        "# Linear Model - May"
      ]
    },
    {
      "cell_type": "code",
      "metadata": {
        "id": "tIS0Aq3Z6cuc"
      },
      "source": [
        "# Import the requried packages for the linear regression model\n",
        "import numpy as np\n",
        "from sklearn.linear_model import LinearRegression\n",
        "\n",
        "model = LinearRegression()"
      ],
      "execution_count": 160,
      "outputs": []
    },
    {
      "cell_type": "code",
      "metadata": {
        "id": "pCI62EcwUgpA"
      },
      "source": [
        "# Runt he linear regressor over the x and y training data\n",
        "model = LinearRegression().fit(x_train_may, y_train_may)"
      ],
      "execution_count": 161,
      "outputs": []
    },
    {
      "cell_type": "code",
      "metadata": {
        "id": "olCe7rRiVTFU",
        "outputId": "ccea25c5-418c-4809-a90e-a568f96f5abc",
        "colab": {
          "base_uri": "https://localhost:8080/",
          "height": 545
        }
      },
      "source": [
        "# Runt he linear regressor over the x and y training data\n",
        "from statsmodels.api import OLS\n",
        "OLS(y_train_may,x_train_may).fit().summary()"
      ],
      "execution_count": 162,
      "outputs": [
        {
          "output_type": "execute_result",
          "data": {
            "text/html": [
              "<table class=\"simpletable\">\n",
              "<caption>OLS Regression Results</caption>\n",
              "<tr>\n",
              "  <th>Dep. Variable:</th>        <td>BTC_close</td>    <th>  R-squared (uncentered):</th>      <td>   0.984</td> \n",
              "</tr>\n",
              "<tr>\n",
              "  <th>Model:</th>                   <td>OLS</td>       <th>  Adj. R-squared (uncentered):</th> <td>   0.984</td> \n",
              "</tr>\n",
              "<tr>\n",
              "  <th>Method:</th>             <td>Least Squares</td>  <th>  F-statistic:       </th>          <td>   7349.</td> \n",
              "</tr>\n",
              "<tr>\n",
              "  <th>Date:</th>             <td>Mon, 19 Oct 2020</td> <th>  Prob (F-statistic):</th>           <td>  0.00</td>  \n",
              "</tr>\n",
              "<tr>\n",
              "  <th>Time:</th>                 <td>07:00:30</td>     <th>  Log-Likelihood:    </th>          <td> -8884.2</td> \n",
              "</tr>\n",
              "<tr>\n",
              "  <th>No. Observations:</th>      <td>  1070</td>      <th>  AIC:               </th>          <td>1.779e+04</td>\n",
              "</tr>\n",
              "<tr>\n",
              "  <th>Df Residuals:</th>          <td>  1061</td>      <th>  BIC:               </th>          <td>1.783e+04</td>\n",
              "</tr>\n",
              "<tr>\n",
              "  <th>Df Model:</th>              <td>     9</td>      <th>                     </th>              <td> </td>    \n",
              "</tr>\n",
              "<tr>\n",
              "  <th>Covariance Type:</th>      <td>nonrobust</td>    <th>                     </th>              <td> </td>    \n",
              "</tr>\n",
              "</table>\n",
              "<table class=\"simpletable\">\n",
              "<tr>\n",
              "        <td></td>           <th>coef</th>     <th>std err</th>      <th>t</th>      <th>P>|t|</th>  <th>[0.025</th>    <th>0.975]</th>  \n",
              "</tr>\n",
              "<tr>\n",
              "  <th>ETHER_open</th>    <td>    1.4739</td> <td>    1.683</td> <td>    0.876</td> <td> 0.381</td> <td>   -1.828</td> <td>    4.776</td>\n",
              "</tr>\n",
              "<tr>\n",
              "  <th>ETHER_close</th>   <td>   -2.3614</td> <td>    1.689</td> <td>   -1.398</td> <td> 0.162</td> <td>   -5.675</td> <td>    0.952</td>\n",
              "</tr>\n",
              "<tr>\n",
              "  <th>ETHER_vol</th>     <td>   -0.0003</td> <td>    0.000</td> <td>   -1.483</td> <td> 0.138</td> <td>   -0.001</td> <td> 9.76e-05</td>\n",
              "</tr>\n",
              "<tr>\n",
              "  <th>XRP_open</th>      <td>-3414.9582</td> <td>  740.255</td> <td>   -4.613</td> <td> 0.000</td> <td>-4867.488</td> <td>-1962.429</td>\n",
              "</tr>\n",
              "<tr>\n",
              "  <th>XRP_close</th>     <td> 2925.4715</td> <td>  753.450</td> <td>    3.883</td> <td> 0.000</td> <td> 1447.051</td> <td> 4403.892</td>\n",
              "</tr>\n",
              "<tr>\n",
              "  <th>XRP_vol</th>       <td>-1.277e-06</td> <td> 6.51e-07</td> <td>   -1.961</td> <td> 0.050</td> <td>-2.56e-06</td> <td> 7.72e-10</td>\n",
              "</tr>\n",
              "<tr>\n",
              "  <th>BTC_open_dup</th>  <td>    0.1394</td> <td>    0.098</td> <td>    1.424</td> <td> 0.155</td> <td>   -0.053</td> <td>    0.331</td>\n",
              "</tr>\n",
              "<tr>\n",
              "  <th>BTC_close_dup</th> <td>    0.8844</td> <td>    0.097</td> <td>    9.096</td> <td> 0.000</td> <td>    0.694</td> <td>    1.075</td>\n",
              "</tr>\n",
              "<tr>\n",
              "  <th>BTC_vol_dup</th>   <td>    0.0159</td> <td>    0.002</td> <td>    8.325</td> <td> 0.000</td> <td>    0.012</td> <td>    0.020</td>\n",
              "</tr>\n",
              "</table>\n",
              "<table class=\"simpletable\">\n",
              "<tr>\n",
              "  <th>Omnibus:</th>       <td>147.067</td> <th>  Durbin-Watson:     </th> <td>   0.351</td>\n",
              "</tr>\n",
              "<tr>\n",
              "  <th>Prob(Omnibus):</th> <td> 0.000</td>  <th>  Jarque-Bera (JB):  </th> <td>1727.920</td>\n",
              "</tr>\n",
              "<tr>\n",
              "  <th>Skew:</th>          <td> 0.009</td>  <th>  Prob(JB):          </th> <td>    0.00</td>\n",
              "</tr>\n",
              "<tr>\n",
              "  <th>Kurtosis:</th>      <td> 9.225</td>  <th>  Cond. No.          </th> <td>2.65e+09</td>\n",
              "</tr>\n",
              "</table><br/><br/>Warnings:<br/>[1] Standard Errors assume that the covariance matrix of the errors is correctly specified.<br/>[2] The condition number is large, 2.65e+09. This might indicate that there are<br/>strong multicollinearity or other numerical problems."
            ],
            "text/plain": [
              "<class 'statsmodels.iolib.summary.Summary'>\n",
              "\"\"\"\n",
              "                                 OLS Regression Results                                \n",
              "=======================================================================================\n",
              "Dep. Variable:              BTC_close   R-squared (uncentered):                   0.984\n",
              "Model:                            OLS   Adj. R-squared (uncentered):              0.984\n",
              "Method:                 Least Squares   F-statistic:                              7349.\n",
              "Date:                Mon, 19 Oct 2020   Prob (F-statistic):                        0.00\n",
              "Time:                        07:00:30   Log-Likelihood:                         -8884.2\n",
              "No. Observations:                1070   AIC:                                  1.779e+04\n",
              "Df Residuals:                    1061   BIC:                                  1.783e+04\n",
              "Df Model:                           9                                                  \n",
              "Covariance Type:            nonrobust                                                  \n",
              "=================================================================================\n",
              "                    coef    std err          t      P>|t|      [0.025      0.975]\n",
              "---------------------------------------------------------------------------------\n",
              "ETHER_open        1.4739      1.683      0.876      0.381      -1.828       4.776\n",
              "ETHER_close      -2.3614      1.689     -1.398      0.162      -5.675       0.952\n",
              "ETHER_vol        -0.0003      0.000     -1.483      0.138      -0.001    9.76e-05\n",
              "XRP_open      -3414.9582    740.255     -4.613      0.000   -4867.488   -1962.429\n",
              "XRP_close      2925.4715    753.450      3.883      0.000    1447.051    4403.892\n",
              "XRP_vol       -1.277e-06   6.51e-07     -1.961      0.050   -2.56e-06    7.72e-10\n",
              "BTC_open_dup      0.1394      0.098      1.424      0.155      -0.053       0.331\n",
              "BTC_close_dup     0.8844      0.097      9.096      0.000       0.694       1.075\n",
              "BTC_vol_dup       0.0159      0.002      8.325      0.000       0.012       0.020\n",
              "==============================================================================\n",
              "Omnibus:                      147.067   Durbin-Watson:                   0.351\n",
              "Prob(Omnibus):                  0.000   Jarque-Bera (JB):             1727.920\n",
              "Skew:                           0.009   Prob(JB):                         0.00\n",
              "Kurtosis:                       9.225   Cond. No.                     2.65e+09\n",
              "==============================================================================\n",
              "\n",
              "Warnings:\n",
              "[1] Standard Errors assume that the covariance matrix of the errors is correctly specified.\n",
              "[2] The condition number is large, 2.65e+09. This might indicate that there are\n",
              "strong multicollinearity or other numerical problems.\n",
              "\"\"\""
            ]
          },
          "metadata": {
            "tags": []
          },
          "execution_count": 162
        }
      ]
    },
    {
      "cell_type": "code",
      "metadata": {
        "id": "2ITd37xkWvBL",
        "outputId": "4dc54e47-1bba-4946-d11a-4f5391f124d0",
        "colab": {
          "base_uri": "https://localhost:8080/",
          "height": 257
        }
      },
      "source": [
        "# Predict the model on the x_test data\n",
        "y_pred_may = pd.DataFrame(model.predict(x_test_may))\n",
        "y_pred_may['index'] = range(1,8)\n",
        "y_pred_may"
      ],
      "execution_count": 163,
      "outputs": [
        {
          "output_type": "execute_result",
          "data": {
            "text/html": [
              "<div>\n",
              "<style scoped>\n",
              "    .dataframe tbody tr th:only-of-type {\n",
              "        vertical-align: middle;\n",
              "    }\n",
              "\n",
              "    .dataframe tbody tr th {\n",
              "        vertical-align: top;\n",
              "    }\n",
              "\n",
              "    .dataframe thead th {\n",
              "        text-align: right;\n",
              "    }\n",
              "</style>\n",
              "<table border=\"1\" class=\"dataframe\">\n",
              "  <thead>\n",
              "    <tr style=\"text-align: right;\">\n",
              "      <th></th>\n",
              "      <th>0</th>\n",
              "      <th>index</th>\n",
              "    </tr>\n",
              "  </thead>\n",
              "  <tbody>\n",
              "    <tr>\n",
              "      <th>0</th>\n",
              "      <td>7626.086948</td>\n",
              "      <td>1</td>\n",
              "    </tr>\n",
              "    <tr>\n",
              "      <th>1</th>\n",
              "      <td>7526.599476</td>\n",
              "      <td>2</td>\n",
              "    </tr>\n",
              "    <tr>\n",
              "      <th>2</th>\n",
              "      <td>7690.725950</td>\n",
              "      <td>3</td>\n",
              "    </tr>\n",
              "    <tr>\n",
              "      <th>3</th>\n",
              "      <td>7793.804550</td>\n",
              "      <td>4</td>\n",
              "    </tr>\n",
              "    <tr>\n",
              "      <th>4</th>\n",
              "      <td>7850.899369</td>\n",
              "      <td>5</td>\n",
              "    </tr>\n",
              "    <tr>\n",
              "      <th>5</th>\n",
              "      <td>8888.264968</td>\n",
              "      <td>6</td>\n",
              "    </tr>\n",
              "    <tr>\n",
              "      <th>6</th>\n",
              "      <td>8836.952715</td>\n",
              "      <td>7</td>\n",
              "    </tr>\n",
              "  </tbody>\n",
              "</table>\n",
              "</div>"
            ],
            "text/plain": [
              "             0  index\n",
              "0  7626.086948      1\n",
              "1  7526.599476      2\n",
              "2  7690.725950      3\n",
              "3  7793.804550      4\n",
              "4  7850.899369      5\n",
              "5  8888.264968      6\n",
              "6  8836.952715      7"
            ]
          },
          "metadata": {
            "tags": []
          },
          "execution_count": 163
        }
      ]
    },
    {
      "cell_type": "code",
      "metadata": {
        "id": "ba2tFAy4YGVY",
        "outputId": "41f0d855-5bd6-4ae5-be9c-642e5f933838",
        "colab": {
          "base_uri": "https://localhost:8080/",
          "height": 257
        }
      },
      "source": [
        "y_test_may = pd.DataFrame(y_test_may)[0:7]\n",
        "y_test_may['index'] = range(1,8)\n",
        "y_test_may"
      ],
      "execution_count": 164,
      "outputs": [
        {
          "output_type": "execute_result",
          "data": {
            "text/html": [
              "<div>\n",
              "<style scoped>\n",
              "    .dataframe tbody tr th:only-of-type {\n",
              "        vertical-align: middle;\n",
              "    }\n",
              "\n",
              "    .dataframe tbody tr th {\n",
              "        vertical-align: top;\n",
              "    }\n",
              "\n",
              "    .dataframe thead th {\n",
              "        text-align: right;\n",
              "    }\n",
              "</style>\n",
              "<table border=\"1\" class=\"dataframe\">\n",
              "  <thead>\n",
              "    <tr style=\"text-align: right;\">\n",
              "      <th></th>\n",
              "      <th>Real</th>\n",
              "      <th>index</th>\n",
              "    </tr>\n",
              "  </thead>\n",
              "  <tbody>\n",
              "    <tr>\n",
              "      <th>1072</th>\n",
              "      <td>8822.800000</td>\n",
              "      <td>1</td>\n",
              "    </tr>\n",
              "    <tr>\n",
              "      <th>1073</th>\n",
              "      <td>8982.300000</td>\n",
              "      <td>2</td>\n",
              "    </tr>\n",
              "    <tr>\n",
              "      <th>1074</th>\n",
              "      <td>8899.800000</td>\n",
              "      <td>3</td>\n",
              "    </tr>\n",
              "    <tr>\n",
              "      <th>1075</th>\n",
              "      <td>8865.800000</td>\n",
              "      <td>4</td>\n",
              "    </tr>\n",
              "    <tr>\n",
              "      <th>1076</th>\n",
              "      <td>9020.100000</td>\n",
              "      <td>5</td>\n",
              "    </tr>\n",
              "    <tr>\n",
              "      <th>1077</th>\n",
              "      <td>9152.470993</td>\n",
              "      <td>6</td>\n",
              "    </tr>\n",
              "    <tr>\n",
              "      <th>1078</th>\n",
              "      <td>9979.600000</td>\n",
              "      <td>7</td>\n",
              "    </tr>\n",
              "  </tbody>\n",
              "</table>\n",
              "</div>"
            ],
            "text/plain": [
              "             Real  index\n",
              "1072  8822.800000      1\n",
              "1073  8982.300000      2\n",
              "1074  8899.800000      3\n",
              "1075  8865.800000      4\n",
              "1076  9020.100000      5\n",
              "1077  9152.470993      6\n",
              "1078  9979.600000      7"
            ]
          },
          "metadata": {
            "tags": []
          },
          "execution_count": 164
        }
      ]
    },
    {
      "cell_type": "code",
      "metadata": {
        "id": "-aNI35b3a23c",
        "outputId": "ea3e5958-2b23-4719-b380-553a1db5cf34",
        "colab": {
          "base_uri": "https://localhost:8080/",
          "height": 257
        }
      },
      "source": [
        "# merge the prediction and actual data frames\n",
        "merge_may = merge_may.merge(y_pred_may, on='index', how='left')\n",
        "merge_may"
      ],
      "execution_count": 165,
      "outputs": [
        {
          "output_type": "execute_result",
          "data": {
            "text/html": [
              "<div>\n",
              "<style scoped>\n",
              "    .dataframe tbody tr th:only-of-type {\n",
              "        vertical-align: middle;\n",
              "    }\n",
              "\n",
              "    .dataframe tbody tr th {\n",
              "        vertical-align: top;\n",
              "    }\n",
              "\n",
              "    .dataframe thead th {\n",
              "        text-align: right;\n",
              "    }\n",
              "</style>\n",
              "<table border=\"1\" class=\"dataframe\">\n",
              "  <thead>\n",
              "    <tr style=\"text-align: right;\">\n",
              "      <th></th>\n",
              "      <th>Real</th>\n",
              "      <th>index</th>\n",
              "      <th>Random Forest</th>\n",
              "      <th>0</th>\n",
              "    </tr>\n",
              "  </thead>\n",
              "  <tbody>\n",
              "    <tr>\n",
              "      <th>0</th>\n",
              "      <td>8822.800000</td>\n",
              "      <td>1</td>\n",
              "      <td>7916.919097</td>\n",
              "      <td>7626.086948</td>\n",
              "    </tr>\n",
              "    <tr>\n",
              "      <th>1</th>\n",
              "      <td>8982.300000</td>\n",
              "      <td>2</td>\n",
              "      <td>8059.010481</td>\n",
              "      <td>7526.599476</td>\n",
              "    </tr>\n",
              "    <tr>\n",
              "      <th>2</th>\n",
              "      <td>8899.800000</td>\n",
              "      <td>3</td>\n",
              "      <td>7503.599789</td>\n",
              "      <td>7690.725950</td>\n",
              "    </tr>\n",
              "    <tr>\n",
              "      <th>3</th>\n",
              "      <td>8865.800000</td>\n",
              "      <td>4</td>\n",
              "      <td>7056.235988</td>\n",
              "      <td>7793.804550</td>\n",
              "    </tr>\n",
              "    <tr>\n",
              "      <th>4</th>\n",
              "      <td>9020.100000</td>\n",
              "      <td>5</td>\n",
              "      <td>7437.152443</td>\n",
              "      <td>7850.899369</td>\n",
              "    </tr>\n",
              "    <tr>\n",
              "      <th>5</th>\n",
              "      <td>9152.470993</td>\n",
              "      <td>6</td>\n",
              "      <td>8237.563792</td>\n",
              "      <td>8888.264968</td>\n",
              "    </tr>\n",
              "    <tr>\n",
              "      <th>6</th>\n",
              "      <td>9979.600000</td>\n",
              "      <td>7</td>\n",
              "      <td>7823.286390</td>\n",
              "      <td>8836.952715</td>\n",
              "    </tr>\n",
              "  </tbody>\n",
              "</table>\n",
              "</div>"
            ],
            "text/plain": [
              "          Real  index  Random Forest            0\n",
              "0  8822.800000      1    7916.919097  7626.086948\n",
              "1  8982.300000      2    8059.010481  7526.599476\n",
              "2  8899.800000      3    7503.599789  7690.725950\n",
              "3  8865.800000      4    7056.235988  7793.804550\n",
              "4  9020.100000      5    7437.152443  7850.899369\n",
              "5  9152.470993      6    8237.563792  8888.264968\n",
              "6  9979.600000      7    7823.286390  8836.952715"
            ]
          },
          "metadata": {
            "tags": []
          },
          "execution_count": 165
        }
      ]
    },
    {
      "cell_type": "code",
      "metadata": {
        "id": "VP9P5hL-a7Nr"
      },
      "source": [
        "merge_may.columns = ['Real', 'index', 'Random Forest', 'Linear Regression']"
      ],
      "execution_count": 166,
      "outputs": []
    },
    {
      "cell_type": "code",
      "metadata": {
        "id": "PM11Z3tWWcSM"
      },
      "source": [
        "from sklearn.metrics import mean_squared_error"
      ],
      "execution_count": 167,
      "outputs": []
    },
    {
      "cell_type": "code",
      "metadata": {
        "id": "fb8t3stwWg9l",
        "outputId": "89f62271-12a2-42e1-fdf2-0476f8917ce3",
        "colab": {
          "base_uri": "https://localhost:8080/",
          "height": 34
        }
      },
      "source": [
        "MSE = mean_squared_error(y_true = merge_may.Real, y_pred = merge_may['Linear Regression'])\n",
        "np.sqrt(MSE)"
      ],
      "execution_count": 168,
      "outputs": [
        {
          "output_type": "execute_result",
          "data": {
            "text/plain": [
              "1127.8739928245245"
            ]
          },
          "metadata": {
            "tags": []
          },
          "execution_count": 168
        }
      ]
    },
    {
      "cell_type": "code",
      "metadata": {
        "id": "BHfQOIcAUoh_",
        "outputId": "c748177e-7c0e-4a92-8749-23843963d989",
        "colab": {
          "base_uri": "https://localhost:8080/",
          "height": 34
        }
      },
      "source": [
        "# Calculate the r_square value for the linear model\n",
        "r_sq = model.score(x_train_may, y_train_may)\n",
        "print('coefficient of determination:', r_sq)"
      ],
      "execution_count": 78,
      "outputs": [
        {
          "output_type": "stream",
          "text": [
            "coefficient of determination: 0.8933358021588513\n"
          ],
          "name": "stdout"
        }
      ]
    },
    {
      "cell_type": "code",
      "metadata": {
        "id": "iHU2TMAUv7lw",
        "outputId": "7de7f75b-fa5b-4c53-dd83-f46c7825d83b",
        "colab": {
          "base_uri": "https://localhost:8080/",
          "height": 280
        }
      },
      "source": [
        "# Plot the predicted vs actual in matplot lib\n",
        "import matplotlib.pyplot as plt\n",
        "plt.plot( 'index', 'Real', data=merge_may, marker='o', markerfacecolor='blue', markersize=12, color='skyblue', linewidth=4)\n",
        "plt.plot( 'index', 'Linear Regression', data=merge_may, marker='', color='olive', linewidth=2)\n",
        "plt.xticks(rotation='vertical')\n",
        "plt.legend()"
      ],
      "execution_count": 169,
      "outputs": [
        {
          "output_type": "execute_result",
          "data": {
            "text/plain": [
              "<matplotlib.legend.Legend at 0x7f6ffcecfe10>"
            ]
          },
          "metadata": {
            "tags": []
          },
          "execution_count": 169
        },
        {
          "output_type": "display_data",
          "data": {
            "image/png": "[encoded data removed]",
            "text/plain": [
              "<Figure size 432x288 with 1 Axes>"
            ]
          },
          "metadata": {
            "tags": [],
            "needs_background": "light"
          }
        }
      ]
    },
    {
      "cell_type": "markdown",
      "metadata": {
        "id": "36qCf9e_ykKW"
      },
      "source": [
        "# Lasso Regression - May (DO NOT USE)"
      ]
    },
    {
      "cell_type": "code",
      "metadata": {
        "id": "819tLoLsymus"
      },
      "source": [
        "from sklearn.linear_model import Lasso\n",
        "from sklearn.model_selection import GridSearchCV\n",
        "from sklearn.linear_model import Ridge, RidgeCV, Lasso, LassoCV\n",
        "from sklearn.metrics import mean_squared_error\n",
        "\n",
        "lasso = Lasso()"
      ],
      "execution_count": null,
      "outputs": []
    },
    {
      "cell_type": "code",
      "metadata": {
        "id": "bjJpfCEUy2d_"
      },
      "source": [
        "params = {'alpha': [1e-15, 1e-10, 1e-8, 1e-4, 1e-3, 1e-2, 1, 5, 10, 20]}"
      ],
      "execution_count": null,
      "outputs": []
    },
    {
      "cell_type": "code",
      "metadata": {
        "id": "ma-DG8VmzGj9"
      },
      "source": [
        "lasso_regressor = LassoCV(alphas = None, cv = 10, max_iter = 100000, normalize = True)#GridSearchCV(lasso, params, scoring = 'neg_mean_squared_error', cv=5)"
      ],
      "execution_count": null,
      "outputs": []
    },
    {
      "cell_type": "code",
      "metadata": {
        "id": "ZgIfJVNkzeWM"
      },
      "source": [
        "lasso = lasso_regressor.fit(x_train_may, y_train_may)"
      ],
      "execution_count": null,
      "outputs": []
    },
    {
      "cell_type": "code",
      "metadata": {
        "id": "Y2GU1kLu0Nji"
      },
      "source": [
        "# Predict the model on the x_test data\n",
        "y_pred_may_lasso = pd.DataFrame(lasso.predict(x_test_may))\n",
        "y_pred_may_lasso['index'] = range(1,8)"
      ],
      "execution_count": null,
      "outputs": []
    },
    {
      "cell_type": "code",
      "metadata": {
        "id": "0pgCGopx0Njn",
        "outputId": "188f97ba-7825-43d1-b96b-786771d70936",
        "colab": {
          "base_uri": "https://localhost:8080/"
        }
      },
      "source": [
        "y_pred_may_lasso"
      ],
      "execution_count": null,
      "outputs": [
        {
          "output_type": "execute_result",
          "data": {
            "text/html": [
              "<div>\n",
              "<style scoped>\n",
              "    .dataframe tbody tr th:only-of-type {\n",
              "        vertical-align: middle;\n",
              "    }\n",
              "\n",
              "    .dataframe tbody tr th {\n",
              "        vertical-align: top;\n",
              "    }\n",
              "\n",
              "    .dataframe thead th {\n",
              "        text-align: right;\n",
              "    }\n",
              "</style>\n",
              "<table border=\"1\" class=\"dataframe\">\n",
              "  <thead>\n",
              "    <tr style=\"text-align: right;\">\n",
              "      <th></th>\n",
              "      <th>0</th>\n",
              "      <th>index</th>\n",
              "    </tr>\n",
              "  </thead>\n",
              "  <tbody>\n",
              "    <tr>\n",
              "      <th>0</th>\n",
              "      <td>7619.051456</td>\n",
              "      <td>1</td>\n",
              "    </tr>\n",
              "    <tr>\n",
              "      <th>1</th>\n",
              "      <td>7540.843968</td>\n",
              "      <td>2</td>\n",
              "    </tr>\n",
              "    <tr>\n",
              "      <th>2</th>\n",
              "      <td>7704.844636</td>\n",
              "      <td>3</td>\n",
              "    </tr>\n",
              "    <tr>\n",
              "      <th>3</th>\n",
              "      <td>7797.110522</td>\n",
              "      <td>4</td>\n",
              "    </tr>\n",
              "    <tr>\n",
              "      <th>4</th>\n",
              "      <td>7814.768118</td>\n",
              "      <td>5</td>\n",
              "    </tr>\n",
              "    <tr>\n",
              "      <th>5</th>\n",
              "      <td>8932.928478</td>\n",
              "      <td>6</td>\n",
              "    </tr>\n",
              "    <tr>\n",
              "      <th>6</th>\n",
              "      <td>8831.216923</td>\n",
              "      <td>7</td>\n",
              "    </tr>\n",
              "  </tbody>\n",
              "</table>\n",
              "</div>"
            ],
            "text/plain": [
              "             0  index\n",
              "0  7619.051456      1\n",
              "1  7540.843968      2\n",
              "2  7704.844636      3\n",
              "3  7797.110522      4\n",
              "4  7814.768118      5\n",
              "5  8932.928478      6\n",
              "6  8831.216923      7"
            ]
          },
          "metadata": {
            "tags": []
          },
          "execution_count": 62
        }
      ]
    },
    {
      "cell_type": "code",
      "metadata": {
        "id": "mIijND_G0Njz"
      },
      "source": [
        "# merge the prediction and actual data frames\n",
        "merge_may = merge_may.merge(y_pred_may_lasso, on='index', how='left')"
      ],
      "execution_count": null,
      "outputs": []
    },
    {
      "cell_type": "code",
      "metadata": {
        "id": "nOOxKZbJ05UG",
        "outputId": "579377bf-7455-4b8a-99c2-821f7ca51594",
        "colab": {
          "base_uri": "https://localhost:8080/"
        }
      },
      "source": [
        "merge_may"
      ],
      "execution_count": null,
      "outputs": [
        {
          "output_type": "execute_result",
          "data": {
            "text/html": [
              "<div>\n",
              "<style scoped>\n",
              "    .dataframe tbody tr th:only-of-type {\n",
              "        vertical-align: middle;\n",
              "    }\n",
              "\n",
              "    .dataframe tbody tr th {\n",
              "        vertical-align: top;\n",
              "    }\n",
              "\n",
              "    .dataframe thead th {\n",
              "        text-align: right;\n",
              "    }\n",
              "</style>\n",
              "<table border=\"1\" class=\"dataframe\">\n",
              "  <thead>\n",
              "    <tr style=\"text-align: right;\">\n",
              "      <th></th>\n",
              "      <th>lm_prediction</th>\n",
              "      <th>index</th>\n",
              "      <th>real</th>\n",
              "      <th>0</th>\n",
              "    </tr>\n",
              "  </thead>\n",
              "  <tbody>\n",
              "    <tr>\n",
              "      <th>0</th>\n",
              "      <td>7626.086948</td>\n",
              "      <td>1</td>\n",
              "      <td>8822.800000</td>\n",
              "      <td>7619.051456</td>\n",
              "    </tr>\n",
              "    <tr>\n",
              "      <th>1</th>\n",
              "      <td>7526.599476</td>\n",
              "      <td>2</td>\n",
              "      <td>8982.300000</td>\n",
              "      <td>7540.843968</td>\n",
              "    </tr>\n",
              "    <tr>\n",
              "      <th>2</th>\n",
              "      <td>7690.725950</td>\n",
              "      <td>3</td>\n",
              "      <td>8899.800000</td>\n",
              "      <td>7704.844636</td>\n",
              "    </tr>\n",
              "    <tr>\n",
              "      <th>3</th>\n",
              "      <td>7793.804550</td>\n",
              "      <td>4</td>\n",
              "      <td>8865.800000</td>\n",
              "      <td>7797.110522</td>\n",
              "    </tr>\n",
              "    <tr>\n",
              "      <th>4</th>\n",
              "      <td>7850.899369</td>\n",
              "      <td>5</td>\n",
              "      <td>9020.100000</td>\n",
              "      <td>7814.768118</td>\n",
              "    </tr>\n",
              "    <tr>\n",
              "      <th>5</th>\n",
              "      <td>8888.264968</td>\n",
              "      <td>6</td>\n",
              "      <td>9152.470993</td>\n",
              "      <td>8932.928478</td>\n",
              "    </tr>\n",
              "    <tr>\n",
              "      <th>6</th>\n",
              "      <td>8836.952715</td>\n",
              "      <td>7</td>\n",
              "      <td>9979.600000</td>\n",
              "      <td>8831.216923</td>\n",
              "    </tr>\n",
              "  </tbody>\n",
              "</table>\n",
              "</div>"
            ],
            "text/plain": [
              "   lm_prediction  index         real            0\n",
              "0    7626.086948      1  8822.800000  7619.051456\n",
              "1    7526.599476      2  8982.300000  7540.843968\n",
              "2    7690.725950      3  8899.800000  7704.844636\n",
              "3    7793.804550      4  8865.800000  7797.110522\n",
              "4    7850.899369      5  9020.100000  7814.768118\n",
              "5    8888.264968      6  9152.470993  8932.928478\n",
              "6    8836.952715      7  9979.600000  8831.216923"
            ]
          },
          "metadata": {
            "tags": []
          },
          "execution_count": 64
        }
      ]
    },
    {
      "cell_type": "code",
      "metadata": {
        "id": "x8fiCOOU0Nj2"
      },
      "source": [
        "merge_may.columns = ['lm_prediction', 'index', 'real', 'lasso_prediction']"
      ],
      "execution_count": null,
      "outputs": []
    },
    {
      "cell_type": "code",
      "metadata": {
        "id": "moefHSVV0Nj9",
        "outputId": "47632568-260f-4166-9e3b-d8f4f0b388b7",
        "colab": {
          "base_uri": "https://localhost:8080/"
        }
      },
      "source": [
        "MSE = mean_squared_error(y_true = merge_may.real, y_pred = merge_may.lasso_prediction)\n",
        "np.sqrt(MSE)"
      ],
      "execution_count": null,
      "outputs": [
        {
          "output_type": "execute_result",
          "data": {
            "text/plain": [
              "1128.6293280870077"
            ]
          },
          "metadata": {
            "tags": []
          },
          "execution_count": 66
        }
      ]
    },
    {
      "cell_type": "code",
      "metadata": {
        "id": "4ymq3Wm00NkI",
        "outputId": "0260cb71-ae6a-4bed-db14-1911714afbe7",
        "colab": {
          "base_uri": "https://localhost:8080/"
        }
      },
      "source": [
        "# Plot the predicted vs actual in matplot lib\n",
        "import matplotlib.pyplot as plt\n",
        "plt.plot( 'index', 'real', data=merge_may, marker='o', markerfacecolor='blue', markersize=12, color='skyblue', linewidth=4)\n",
        "plt.plot( 'index', 'lm_prediction', data=merge_may, marker='', color='olive', linewidth=2)\n",
        "plt.plot( 'index', 'lasso_prediction', data=merge_may, marker='', color='red', linewidth=2)\n",
        "plt.xticks(rotation='vertical')\n",
        "plt.legend()"
      ],
      "execution_count": null,
      "outputs": [
        {
          "output_type": "execute_result",
          "data": {
            "text/plain": [
              "<matplotlib.legend.Legend at 0x7f38e02ff0f0>"
            ]
          },
          "metadata": {
            "tags": []
          },
          "execution_count": 67
        },
        {
          "output_type": "display_data",
          "data": {
            "image/png": "[encoded data removed]",
            "text/plain": [
              "<Figure size 1440x720 with 1 Axes>"
            ]
          },
          "metadata": {
            "tags": []
          }
        }
      ]
    },
    {
      "cell_type": "markdown",
      "metadata": {
        "id": "dT41mQAHU8YL"
      },
      "source": [
        "# Support Vector Regression - May"
      ]
    },
    {
      "cell_type": "code",
      "metadata": {
        "id": "Ct1pbhN5U_0t"
      },
      "source": [
        "# Import the algorithm package\n",
        "from sklearn.svm import SVR\n",
        "from sklearn.pipeline import make_pipeline\n",
        "from sklearn.preprocessing import StandardScaler"
      ],
      "execution_count": 170,
      "outputs": []
    },
    {
      "cell_type": "code",
      "metadata": {
        "id": "2V1qN2Kfb0JS"
      },
      "source": [
        "y_train_may = pd.DataFrame(y_train_may)"
      ],
      "execution_count": 171,
      "outputs": []
    },
    {
      "cell_type": "code",
      "metadata": {
        "id": "-3sFpthUa9MK"
      },
      "source": [
        "#3 Feature Scaling\n",
        "sc_X = StandardScaler()\n",
        "sc_y = StandardScaler()\n",
        "X = sc_X.fit_transform(x_train_may)\n",
        "y = sc_y.fit_transform(y_train_may)"
      ],
      "execution_count": 172,
      "outputs": []
    },
    {
      "cell_type": "code",
      "metadata": {
        "id": "C1EuhuV5eoaB"
      },
      "source": [
        "y = y[:, 0]"
      ],
      "execution_count": 173,
      "outputs": []
    },
    {
      "cell_type": "code",
      "metadata": {
        "id": "ZuY-wvDKWXWL"
      },
      "source": [
        "# Load the SVR and fit\n",
        "#svr = SVR(kernel='poly')\n",
        "svr_regressor = SVR(kernel = 'poly')\n",
        "SVR_reg = svr_regressor.fit(X, y)"
      ],
      "execution_count": 174,
      "outputs": []
    },
    {
      "cell_type": "code",
      "metadata": {
        "id": "iGQdB4OcWpJd"
      },
      "source": [
        "# Predict the model on the x_test data\n",
        "x_test_may = sc_X.fit_transform(x_test_may)\n",
        "\n",
        "y_pred_may_svr = SVR_reg.predict(x_test_may)\n",
        "y_pred_may_svr = sc_y.inverse_transform(y_pred_may_svr) \n",
        "\n",
        "y_pred_may_svr = pd.DataFrame(y_pred_may_svr)\n",
        "y_pred_may_svr['index'] = range(1,8)"
      ],
      "execution_count": 175,
      "outputs": []
    },
    {
      "cell_type": "code",
      "metadata": {
        "id": "7aBS0h8sgcoa"
      },
      "source": [
        "# merge the prediction and actual data frames\n",
        "merge_may = merge_may.merge(y_pred_may_svr, on='index', how='left')"
      ],
      "execution_count": 176,
      "outputs": []
    },
    {
      "cell_type": "code",
      "metadata": {
        "id": "ot3TLfB3k_U_",
        "outputId": "fc000d84-e2bc-4209-9d74-112553cca7b0",
        "colab": {
          "base_uri": "https://localhost:8080/",
          "height": 257
        }
      },
      "source": [
        "merge_may"
      ],
      "execution_count": 177,
      "outputs": [
        {
          "output_type": "execute_result",
          "data": {
            "text/html": [
              "<div>\n",
              "<style scoped>\n",
              "    .dataframe tbody tr th:only-of-type {\n",
              "        vertical-align: middle;\n",
              "    }\n",
              "\n",
              "    .dataframe tbody tr th {\n",
              "        vertical-align: top;\n",
              "    }\n",
              "\n",
              "    .dataframe thead th {\n",
              "        text-align: right;\n",
              "    }\n",
              "</style>\n",
              "<table border=\"1\" class=\"dataframe\">\n",
              "  <thead>\n",
              "    <tr style=\"text-align: right;\">\n",
              "      <th></th>\n",
              "      <th>Real</th>\n",
              "      <th>index</th>\n",
              "      <th>Random Forest</th>\n",
              "      <th>Linear Regression</th>\n",
              "      <th>0</th>\n",
              "    </tr>\n",
              "  </thead>\n",
              "  <tbody>\n",
              "    <tr>\n",
              "      <th>0</th>\n",
              "      <td>8822.800000</td>\n",
              "      <td>1</td>\n",
              "      <td>7916.919097</td>\n",
              "      <td>7626.086948</td>\n",
              "      <td>6233.990297</td>\n",
              "    </tr>\n",
              "    <tr>\n",
              "      <th>1</th>\n",
              "      <td>8982.300000</td>\n",
              "      <td>2</td>\n",
              "      <td>8059.010481</td>\n",
              "      <td>7526.599476</td>\n",
              "      <td>6457.953900</td>\n",
              "    </tr>\n",
              "    <tr>\n",
              "      <th>2</th>\n",
              "      <td>8899.800000</td>\n",
              "      <td>3</td>\n",
              "      <td>7503.599789</td>\n",
              "      <td>7690.725950</td>\n",
              "      <td>6479.903842</td>\n",
              "    </tr>\n",
              "    <tr>\n",
              "      <th>3</th>\n",
              "      <td>8865.800000</td>\n",
              "      <td>4</td>\n",
              "      <td>7056.235988</td>\n",
              "      <td>7793.804550</td>\n",
              "      <td>6640.965524</td>\n",
              "    </tr>\n",
              "    <tr>\n",
              "      <th>4</th>\n",
              "      <td>9020.100000</td>\n",
              "      <td>5</td>\n",
              "      <td>7437.152443</td>\n",
              "      <td>7850.899369</td>\n",
              "      <td>6510.529127</td>\n",
              "    </tr>\n",
              "    <tr>\n",
              "      <th>5</th>\n",
              "      <td>9152.470993</td>\n",
              "      <td>6</td>\n",
              "      <td>8237.563792</td>\n",
              "      <td>8888.264968</td>\n",
              "      <td>7965.608332</td>\n",
              "    </tr>\n",
              "    <tr>\n",
              "      <th>6</th>\n",
              "      <td>9979.600000</td>\n",
              "      <td>7</td>\n",
              "      <td>7823.286390</td>\n",
              "      <td>8836.952715</td>\n",
              "      <td>14049.828929</td>\n",
              "    </tr>\n",
              "  </tbody>\n",
              "</table>\n",
              "</div>"
            ],
            "text/plain": [
              "          Real  index  Random Forest  Linear Regression             0\n",
              "0  8822.800000      1    7916.919097        7626.086948   6233.990297\n",
              "1  8982.300000      2    8059.010481        7526.599476   6457.953900\n",
              "2  8899.800000      3    7503.599789        7690.725950   6479.903842\n",
              "3  8865.800000      4    7056.235988        7793.804550   6640.965524\n",
              "4  9020.100000      5    7437.152443        7850.899369   6510.529127\n",
              "5  9152.470993      6    8237.563792        8888.264968   7965.608332\n",
              "6  9979.600000      7    7823.286390        8836.952715  14049.828929"
            ]
          },
          "metadata": {
            "tags": []
          },
          "execution_count": 177
        }
      ]
    },
    {
      "cell_type": "code",
      "metadata": {
        "id": "-pO8vnSSgf5w"
      },
      "source": [
        "merge_may.columns = ['Real', 'index', 'Random Forest', 'Linear Regression', 'Support Vector Regression']"
      ],
      "execution_count": 178,
      "outputs": []
    },
    {
      "cell_type": "code",
      "metadata": {
        "id": "LKkRNP6Ml999"
      },
      "source": [
        "#merge_may['Avg'] = (merge_may['lm_prediction'] + merge_may['random_forest']) / 2\n",
        "\n",
        "#merge_may"
      ],
      "execution_count": 91,
      "outputs": []
    },
    {
      "cell_type": "code",
      "metadata": {
        "id": "VYBRmLe4laGI",
        "outputId": "e65c3a75-5da0-481c-de2e-f8f15692904e",
        "colab": {
          "base_uri": "https://localhost:8080/",
          "height": 34
        }
      },
      "source": [
        "MSE = mean_squared_error(y_true = merge_may.Real, y_pred = merge_may['Support Vector Regression'])\n",
        "np.sqrt(MSE)"
      ],
      "execution_count": 179,
      "outputs": [
        {
          "output_type": "execute_result",
          "data": {
            "text/plain": [
              "2622.7955982329245"
            ]
          },
          "metadata": {
            "tags": []
          },
          "execution_count": 179
        }
      ]
    },
    {
      "cell_type": "code",
      "metadata": {
        "id": "T5kc3T4UgpuY",
        "outputId": "2007cfb1-6124-4d89-9b3d-b76a9cb21ef5",
        "colab": {
          "base_uri": "https://localhost:8080/",
          "height": 280
        }
      },
      "source": [
        "# Plot the predicted vs actual in matplot lib\n",
        "import matplotlib.pyplot as plt\n",
        "plt.plot( 'index', 'Real', data=merge_may, marker='o', markerfacecolor='blue', markersize=12, color='skyblue', linewidth=4)\n",
        "plt.plot( 'index', 'Support Vector Regression', data=merge_may, marker='', color='olive', linewidth=2)\n",
        "plt.xticks(rotation='vertical')\n",
        "plt.legend()"
      ],
      "execution_count": 180,
      "outputs": [
        {
          "output_type": "execute_result",
          "data": {
            "text/plain": [
              "<matplotlib.legend.Legend at 0x7f6ffd02c2e8>"
            ]
          },
          "metadata": {
            "tags": []
          },
          "execution_count": 180
        },
        {
          "output_type": "display_data",
          "data": {
            "image/png": "[encoded data removed]",
            "text/plain": [
              "<Figure size 432x288 with 1 Axes>"
            ]
          },
          "metadata": {
            "tags": [],
            "needs_background": "light"
          }
        }
      ]
    },
    {
      "cell_type": "markdown",
      "metadata": {
        "id": "AhyTX7CApqom"
      },
      "source": [
        "# Vanilla Neural Network - May"
      ]
    },
    {
      "cell_type": "code",
      "metadata": {
        "id": "pRHOC8jypqoo"
      },
      "source": [
        "%tensorflow_version 2.x"
      ],
      "execution_count": 181,
      "outputs": []
    },
    {
      "cell_type": "code",
      "metadata": {
        "id": "febhwX_npqoy"
      },
      "source": [
        "import tensorflow as tf\n",
        "import numpy as np\n",
        "from sklearn.preprocessing import scale\n",
        "from sklearn.preprocessing import StandardScaler"
      ],
      "execution_count": 182,
      "outputs": []
    },
    {
      "cell_type": "code",
      "metadata": {
        "id": "zsOgtC_fpqo6"
      },
      "source": [
        "# Standardise the two data sets as a neural network requires standardised data\n",
        "\n",
        "scaled_X_train = scale(x_train_may)\n",
        "scaled_X_test = scale(x_test_may)"
      ],
      "execution_count": 183,
      "outputs": []
    },
    {
      "cell_type": "code",
      "metadata": {
        "id": "AYulC0U_pqo_"
      },
      "source": [
        "# Set the seed for the modelling exercises in order to get reproducible results\n",
        "\n",
        "tf.random.set_seed(168)\n",
        "np.random.seed(168)"
      ],
      "execution_count": 184,
      "outputs": []
    },
    {
      "cell_type": "code",
      "metadata": {
        "id": "GDXug-wbpqpH"
      },
      "source": [
        "from tensorflow.keras.layers import Dense, Dropout"
      ],
      "execution_count": 185,
      "outputs": []
    },
    {
      "cell_type": "code",
      "metadata": {
        "id": "5nTM6SKIpqpK"
      },
      "source": [
        "# Create a sequential model \n",
        "model = tf.keras.Sequential()"
      ],
      "execution_count": 186,
      "outputs": []
    },
    {
      "cell_type": "code",
      "metadata": {
        "id": "gAdNN-GYpqpO"
      },
      "source": [
        "# create the architecture for the neural network\n",
        "layer1 = Dense(128, activation='relu', input_shape=[9])\n",
        "\n",
        "layer2 = Dense(128, activation='relu')\n",
        "\n",
        "layer3 = Dense(128, activation='relu')\n",
        "\n",
        "top_layer = Dense(1)"
      ],
      "execution_count": 187,
      "outputs": []
    },
    {
      "cell_type": "code",
      "metadata": {
        "id": "79ufto3fpqpS"
      },
      "source": [
        "# Add the layers into the model\n",
        "\n",
        "model.add(layer1)\n",
        "model.add(Dropout(0.5))\n",
        "model.add(layer2)\n",
        "model.add(Dropout(0.5))\n",
        "model.add(layer3)\n",
        "model.add(Dropout(0.5))\n",
        "model.add(top_layer)"
      ],
      "execution_count": 188,
      "outputs": []
    },
    {
      "cell_type": "code",
      "metadata": {
        "id": "c1_rwG32pqpW"
      },
      "source": [
        "# Specify the optimizer to be used during the back propgation\n",
        "optimizer = tf.keras.optimizers.Adam(0.0001)"
      ],
      "execution_count": 189,
      "outputs": []
    },
    {
      "cell_type": "code",
      "metadata": {
        "id": "p0TYHSE6pqpa"
      },
      "source": [
        "# Compile the model architecture\n",
        "\n",
        "model.compile(loss='mean_squared_error', optimizer=optimizer)"
      ],
      "execution_count": 190,
      "outputs": []
    },
    {
      "cell_type": "code",
      "metadata": {
        "id": "3LMqqQenpqpd",
        "outputId": "a9369a44-6ea8-498b-cda9-e4a96add5053",
        "colab": {
          "base_uri": "https://localhost:8080/",
          "height": 407
        }
      },
      "source": [
        "# Print a summary of the model\n",
        "model.summary()"
      ],
      "execution_count": 191,
      "outputs": [
        {
          "output_type": "stream",
          "text": [
            "Model: \"sequential\"\n",
            "_________________________________________________________________\n",
            "Layer (type)                 Output Shape              Param #   \n",
            "=================================================================\n",
            "dense (Dense)                (None, 128)               1280      \n",
            "_________________________________________________________________\n",
            "dropout (Dropout)            (None, 128)               0         \n",
            "_________________________________________________________________\n",
            "dense_1 (Dense)              (None, 128)               16512     \n",
            "_________________________________________________________________\n",
            "dropout_1 (Dropout)          (None, 128)               0         \n",
            "_________________________________________________________________\n",
            "dense_2 (Dense)              (None, 128)               16512     \n",
            "_________________________________________________________________\n",
            "dropout_2 (Dropout)          (None, 128)               0         \n",
            "_________________________________________________________________\n",
            "dense_3 (Dense)              (None, 1)                 129       \n",
            "=================================================================\n",
            "Total params: 34,433\n",
            "Trainable params: 34,433\n",
            "Non-trainable params: 0\n",
            "_________________________________________________________________\n"
          ],
          "name": "stdout"
        }
      ]
    },
    {
      "cell_type": "code",
      "metadata": {
        "id": "-2-Epf4Opqpf",
        "outputId": "62b73f9a-e081-46fb-9f73-605614c30072",
        "colab": {
          "base_uri": "https://localhost:8080/",
          "height": 1000
        }
      },
      "source": [
        "history = model.fit(scaled_X_train, y_train_may, epochs=250, validation_split = 0.3)"
      ],
      "execution_count": 192,
      "outputs": [
        {
          "output_type": "stream",
          "text": [
            "Epoch 1/250\n",
            "24/24 [==============================] - 0s 7ms/step - loss: 51912752.0000 - val_loss: 80201336.0000\n",
            "Epoch 2/250\n",
            "24/24 [==============================] - 0s 3ms/step - loss: 51909476.0000 - val_loss: 80198656.0000\n",
            "Epoch 3/250\n",
            "24/24 [==============================] - 0s 3ms/step - loss: 51904596.0000 - val_loss: 80195320.0000\n",
            "Epoch 4/250\n",
            "24/24 [==============================] - 0s 3ms/step - loss: 51899964.0000 - val_loss: 80190928.0000\n",
            "Epoch 5/250\n",
            "24/24 [==============================] - 0s 3ms/step - loss: 51893492.0000 - val_loss: 80184992.0000\n",
            "Epoch 6/250\n",
            "24/24 [==============================] - 0s 3ms/step - loss: 51884320.0000 - val_loss: 80176928.0000\n",
            "Epoch 7/250\n",
            "24/24 [==============================] - 0s 3ms/step - loss: 51872888.0000 - val_loss: 80165608.0000\n",
            "Epoch 8/250\n",
            "24/24 [==============================] - 0s 3ms/step - loss: 51856164.0000 - val_loss: 80149896.0000\n",
            "Epoch 9/250\n",
            "24/24 [==============================] - 0s 3ms/step - loss: 51830636.0000 - val_loss: 80127840.0000\n",
            "Epoch 10/250\n",
            "24/24 [==============================] - 0s 3ms/step - loss: 51801968.0000 - val_loss: 80096536.0000\n",
            "Epoch 11/250\n",
            "24/24 [==============================] - 0s 3ms/step - loss: 51747936.0000 - val_loss: 80052368.0000\n",
            "Epoch 12/250\n",
            "24/24 [==============================] - 0s 3ms/step - loss: 51671996.0000 - val_loss: 79991352.0000\n",
            "Epoch 13/250\n",
            "24/24 [==============================] - 0s 3ms/step - loss: 51583924.0000 - val_loss: 79907888.0000\n",
            "Epoch 14/250\n",
            "24/24 [==============================] - 0s 3ms/step - loss: 51442632.0000 - val_loss: 79800768.0000\n",
            "Epoch 15/250\n",
            "24/24 [==============================] - 0s 3ms/step - loss: 51258032.0000 - val_loss: 79658520.0000\n",
            "Epoch 16/250\n",
            "24/24 [==============================] - 0s 3ms/step - loss: 51026072.0000 - val_loss: 79481664.0000\n",
            "Epoch 17/250\n",
            "24/24 [==============================] - 0s 3ms/step - loss: 50694540.0000 - val_loss: 79260976.0000\n",
            "Epoch 18/250\n",
            "24/24 [==============================] - 0s 3ms/step - loss: 50289988.0000 - val_loss: 78996160.0000\n",
            "Epoch 19/250\n",
            "24/24 [==============================] - 0s 3ms/step - loss: 49830060.0000 - val_loss: 78677120.0000\n",
            "Epoch 20/250\n",
            "24/24 [==============================] - 0s 3ms/step - loss: 49309584.0000 - val_loss: 78312968.0000\n",
            "Epoch 21/250\n",
            "24/24 [==============================] - 0s 3ms/step - loss: 48543332.0000 - val_loss: 77882960.0000\n",
            "Epoch 22/250\n",
            "24/24 [==============================] - 0s 3ms/step - loss: 47721100.0000 - val_loss: 77395640.0000\n",
            "Epoch 23/250\n",
            "24/24 [==============================] - 0s 3ms/step - loss: 46748040.0000 - val_loss: 76832784.0000\n",
            "Epoch 24/250\n",
            "24/24 [==============================] - 0s 3ms/step - loss: 45764560.0000 - val_loss: 76202040.0000\n",
            "Epoch 25/250\n",
            "24/24 [==============================] - 0s 3ms/step - loss: 44537056.0000 - val_loss: 75518520.0000\n",
            "Epoch 26/250\n",
            "24/24 [==============================] - 0s 3ms/step - loss: 42963336.0000 - val_loss: 74724616.0000\n",
            "Epoch 27/250\n",
            "24/24 [==============================] - 0s 3ms/step - loss: 41917908.0000 - val_loss: 73900960.0000\n",
            "Epoch 28/250\n",
            "24/24 [==============================] - 0s 3ms/step - loss: 40056052.0000 - val_loss: 72990704.0000\n",
            "Epoch 29/250\n",
            "24/24 [==============================] - 0s 3ms/step - loss: 38725128.0000 - val_loss: 72022192.0000\n",
            "Epoch 30/250\n",
            "24/24 [==============================] - 0s 3ms/step - loss: 36783168.0000 - val_loss: 70989712.0000\n",
            "Epoch 31/250\n",
            "24/24 [==============================] - 0s 3ms/step - loss: 35023984.0000 - val_loss: 69882816.0000\n",
            "Epoch 32/250\n",
            "24/24 [==============================] - 0s 3ms/step - loss: 33342848.0000 - val_loss: 68705480.0000\n",
            "Epoch 33/250\n",
            "24/24 [==============================] - 0s 3ms/step - loss: 31071676.0000 - val_loss: 67497056.0000\n",
            "Epoch 34/250\n",
            "24/24 [==============================] - 0s 3ms/step - loss: 29318990.0000 - val_loss: 66232364.0000\n",
            "Epoch 35/250\n",
            "24/24 [==============================] - 0s 3ms/step - loss: 27220454.0000 - val_loss: 64934904.0000\n",
            "Epoch 36/250\n",
            "24/24 [==============================] - 0s 3ms/step - loss: 25355058.0000 - val_loss: 63600864.0000\n",
            "Epoch 37/250\n",
            "24/24 [==============================] - 0s 3ms/step - loss: 24108772.0000 - val_loss: 62233788.0000\n",
            "Epoch 38/250\n",
            "24/24 [==============================] - 0s 3ms/step - loss: 22328528.0000 - val_loss: 60882068.0000\n",
            "Epoch 39/250\n",
            "24/24 [==============================] - 0s 3ms/step - loss: 21008490.0000 - val_loss: 59557364.0000\n",
            "Epoch 40/250\n",
            "24/24 [==============================] - 0s 3ms/step - loss: 19855414.0000 - val_loss: 58245948.0000\n",
            "Epoch 41/250\n",
            "24/24 [==============================] - 0s 3ms/step - loss: 19157404.0000 - val_loss: 56941104.0000\n",
            "Epoch 42/250\n",
            "24/24 [==============================] - 0s 3ms/step - loss: 17840186.0000 - val_loss: 55689616.0000\n",
            "Epoch 43/250\n",
            "24/24 [==============================] - 0s 3ms/step - loss: 17823154.0000 - val_loss: 54514288.0000\n",
            "Epoch 44/250\n",
            "24/24 [==============================] - 0s 3ms/step - loss: 16952146.0000 - val_loss: 53380728.0000\n",
            "Epoch 45/250\n",
            "24/24 [==============================] - 0s 3ms/step - loss: 16521221.0000 - val_loss: 52343152.0000\n",
            "Epoch 46/250\n",
            "24/24 [==============================] - 0s 3ms/step - loss: 16108614.0000 - val_loss: 51326528.0000\n",
            "Epoch 47/250\n",
            "24/24 [==============================] - 0s 4ms/step - loss: 15337214.0000 - val_loss: 50374192.0000\n",
            "Epoch 48/250\n",
            "24/24 [==============================] - 0s 3ms/step - loss: 15522912.0000 - val_loss: 49522056.0000\n",
            "Epoch 49/250\n",
            "24/24 [==============================] - 0s 4ms/step - loss: 15266389.0000 - val_loss: 48640532.0000\n",
            "Epoch 50/250\n",
            "24/24 [==============================] - 0s 3ms/step - loss: 14944088.0000 - val_loss: 47775136.0000\n",
            "Epoch 51/250\n",
            "24/24 [==============================] - 0s 3ms/step - loss: 14814090.0000 - val_loss: 46952576.0000\n",
            "Epoch 52/250\n",
            "24/24 [==============================] - 0s 3ms/step - loss: 14329975.0000 - val_loss: 46153548.0000\n",
            "Epoch 53/250\n",
            "24/24 [==============================] - 0s 3ms/step - loss: 13935844.0000 - val_loss: 45346012.0000\n",
            "Epoch 54/250\n",
            "24/24 [==============================] - 0s 3ms/step - loss: 15290233.0000 - val_loss: 44716956.0000\n",
            "Epoch 55/250\n",
            "24/24 [==============================] - 0s 3ms/step - loss: 13854862.0000 - val_loss: 44099088.0000\n",
            "Epoch 56/250\n",
            "24/24 [==============================] - 0s 3ms/step - loss: 14038877.0000 - val_loss: 43495448.0000\n",
            "Epoch 57/250\n",
            "24/24 [==============================] - 0s 3ms/step - loss: 14185383.0000 - val_loss: 42888684.0000\n",
            "Epoch 58/250\n",
            "24/24 [==============================] - 0s 3ms/step - loss: 13896621.0000 - val_loss: 42261356.0000\n",
            "Epoch 59/250\n",
            "24/24 [==============================] - 0s 3ms/step - loss: 13593068.0000 - val_loss: 41613688.0000\n",
            "Epoch 60/250\n",
            "24/24 [==============================] - 0s 3ms/step - loss: 14292055.0000 - val_loss: 41121184.0000\n",
            "Epoch 61/250\n",
            "24/24 [==============================] - 0s 3ms/step - loss: 13504367.0000 - val_loss: 40596176.0000\n",
            "Epoch 62/250\n",
            "24/24 [==============================] - 0s 3ms/step - loss: 13188415.0000 - val_loss: 39932472.0000\n",
            "Epoch 63/250\n",
            "24/24 [==============================] - 0s 3ms/step - loss: 12678837.0000 - val_loss: 39281088.0000\n",
            "Epoch 64/250\n",
            "24/24 [==============================] - 0s 3ms/step - loss: 13654875.0000 - val_loss: 38688640.0000\n",
            "Epoch 65/250\n",
            "24/24 [==============================] - 0s 3ms/step - loss: 13054231.0000 - val_loss: 38129272.0000\n",
            "Epoch 66/250\n",
            "24/24 [==============================] - 0s 4ms/step - loss: 12978780.0000 - val_loss: 37465968.0000\n",
            "Epoch 67/250\n",
            "24/24 [==============================] - 0s 4ms/step - loss: 12551529.0000 - val_loss: 36981208.0000\n",
            "Epoch 68/250\n",
            "24/24 [==============================] - 0s 3ms/step - loss: 12850475.0000 - val_loss: 36401384.0000\n",
            "Epoch 69/250\n",
            "24/24 [==============================] - 0s 3ms/step - loss: 12235231.0000 - val_loss: 35943912.0000\n",
            "Epoch 70/250\n",
            "24/24 [==============================] - 0s 3ms/step - loss: 12489975.0000 - val_loss: 35422776.0000\n",
            "Epoch 71/250\n",
            "24/24 [==============================] - 0s 3ms/step - loss: 12211688.0000 - val_loss: 34876092.0000\n",
            "Epoch 72/250\n",
            "24/24 [==============================] - 0s 3ms/step - loss: 12604397.0000 - val_loss: 34393812.0000\n",
            "Epoch 73/250\n",
            "24/24 [==============================] - 0s 3ms/step - loss: 12036339.0000 - val_loss: 33827992.0000\n",
            "Epoch 74/250\n",
            "24/24 [==============================] - 0s 3ms/step - loss: 11727700.0000 - val_loss: 33276478.0000\n",
            "Epoch 75/250\n",
            "24/24 [==============================] - 0s 3ms/step - loss: 11177270.0000 - val_loss: 32739752.0000\n",
            "Epoch 76/250\n",
            "24/24 [==============================] - 0s 3ms/step - loss: 12334474.0000 - val_loss: 32386588.0000\n",
            "Epoch 77/250\n",
            "24/24 [==============================] - 0s 3ms/step - loss: 11932903.0000 - val_loss: 31828574.0000\n",
            "Epoch 78/250\n",
            "24/24 [==============================] - 0s 3ms/step - loss: 11090306.0000 - val_loss: 31312064.0000\n",
            "Epoch 79/250\n",
            "24/24 [==============================] - 0s 3ms/step - loss: 11841278.0000 - val_loss: 30894172.0000\n",
            "Epoch 80/250\n",
            "24/24 [==============================] - 0s 3ms/step - loss: 11388754.0000 - val_loss: 30521570.0000\n",
            "Epoch 81/250\n",
            "24/24 [==============================] - 0s 3ms/step - loss: 11802807.0000 - val_loss: 30079656.0000\n",
            "Epoch 82/250\n",
            "24/24 [==============================] - 0s 3ms/step - loss: 11269616.0000 - val_loss: 29523452.0000\n",
            "Epoch 83/250\n",
            "24/24 [==============================] - 0s 3ms/step - loss: 11390072.0000 - val_loss: 29029634.0000\n",
            "Epoch 84/250\n",
            "24/24 [==============================] - 0s 3ms/step - loss: 10738745.0000 - val_loss: 28622778.0000\n",
            "Epoch 85/250\n",
            "24/24 [==============================] - 0s 3ms/step - loss: 10934934.0000 - val_loss: 28164942.0000\n",
            "Epoch 86/250\n",
            "24/24 [==============================] - 0s 3ms/step - loss: 10786130.0000 - val_loss: 27596504.0000\n",
            "Epoch 87/250\n",
            "24/24 [==============================] - 0s 3ms/step - loss: 10723230.0000 - val_loss: 27140042.0000\n",
            "Epoch 88/250\n",
            "24/24 [==============================] - 0s 3ms/step - loss: 10851347.0000 - val_loss: 26558486.0000\n",
            "Epoch 89/250\n",
            "24/24 [==============================] - 0s 3ms/step - loss: 11009541.0000 - val_loss: 26205434.0000\n",
            "Epoch 90/250\n",
            "24/24 [==============================] - 0s 3ms/step - loss: 11177147.0000 - val_loss: 25809018.0000\n",
            "Epoch 91/250\n",
            "24/24 [==============================] - 0s 3ms/step - loss: 10225859.0000 - val_loss: 25311368.0000\n",
            "Epoch 92/250\n",
            "24/24 [==============================] - 0s 3ms/step - loss: 10350734.0000 - val_loss: 24871110.0000\n",
            "Epoch 93/250\n",
            "24/24 [==============================] - 0s 3ms/step - loss: 10712897.0000 - val_loss: 24412736.0000\n",
            "Epoch 94/250\n",
            "24/24 [==============================] - 0s 3ms/step - loss: 10627841.0000 - val_loss: 24082996.0000\n",
            "Epoch 95/250\n",
            "24/24 [==============================] - 0s 3ms/step - loss: 9781363.0000 - val_loss: 23748836.0000\n",
            "Epoch 96/250\n",
            "24/24 [==============================] - 0s 3ms/step - loss: 9729563.0000 - val_loss: 23168482.0000\n",
            "Epoch 97/250\n",
            "24/24 [==============================] - 0s 3ms/step - loss: 9145205.0000 - val_loss: 22735344.0000\n",
            "Epoch 98/250\n",
            "24/24 [==============================] - 0s 3ms/step - loss: 9579312.0000 - val_loss: 22136214.0000\n",
            "Epoch 99/250\n",
            "24/24 [==============================] - 0s 3ms/step - loss: 9602070.0000 - val_loss: 21649238.0000\n",
            "Epoch 100/250\n",
            "24/24 [==============================] - 0s 3ms/step - loss: 9171834.0000 - val_loss: 21243722.0000\n",
            "Epoch 101/250\n",
            "24/24 [==============================] - 0s 3ms/step - loss: 10044539.0000 - val_loss: 20963924.0000\n",
            "Epoch 102/250\n",
            "24/24 [==============================] - 0s 3ms/step - loss: 9436040.0000 - val_loss: 20395910.0000\n",
            "Epoch 103/250\n",
            "24/24 [==============================] - 0s 3ms/step - loss: 9215581.0000 - val_loss: 19960814.0000\n",
            "Epoch 104/250\n",
            "24/24 [==============================] - 0s 3ms/step - loss: 8641176.0000 - val_loss: 19509364.0000\n",
            "Epoch 105/250\n",
            "24/24 [==============================] - 0s 3ms/step - loss: 9801251.0000 - val_loss: 19098114.0000\n",
            "Epoch 106/250\n",
            "24/24 [==============================] - 0s 3ms/step - loss: 9140421.0000 - val_loss: 18722452.0000\n",
            "Epoch 107/250\n",
            "24/24 [==============================] - 0s 3ms/step - loss: 9021873.0000 - val_loss: 18238124.0000\n",
            "Epoch 108/250\n",
            "24/24 [==============================] - 0s 3ms/step - loss: 8161902.0000 - val_loss: 17785286.0000\n",
            "Epoch 109/250\n",
            "24/24 [==============================] - 0s 3ms/step - loss: 9224774.0000 - val_loss: 17398386.0000\n",
            "Epoch 110/250\n",
            "24/24 [==============================] - 0s 3ms/step - loss: 8244058.5000 - val_loss: 16961540.0000\n",
            "Epoch 111/250\n",
            "24/24 [==============================] - 0s 3ms/step - loss: 8264791.0000 - val_loss: 16581412.0000\n",
            "Epoch 112/250\n",
            "24/24 [==============================] - 0s 3ms/step - loss: 7989820.0000 - val_loss: 16141516.0000\n",
            "Epoch 113/250\n",
            "24/24 [==============================] - 0s 3ms/step - loss: 8380882.0000 - val_loss: 15698244.0000\n",
            "Epoch 114/250\n",
            "24/24 [==============================] - 0s 3ms/step - loss: 8562140.0000 - val_loss: 15330090.0000\n",
            "Epoch 115/250\n",
            "24/24 [==============================] - 0s 3ms/step - loss: 8473304.0000 - val_loss: 15012807.0000\n",
            "Epoch 116/250\n",
            "24/24 [==============================] - 0s 3ms/step - loss: 8481542.0000 - val_loss: 14686104.0000\n",
            "Epoch 117/250\n",
            "24/24 [==============================] - 0s 3ms/step - loss: 8142161.5000 - val_loss: 14318752.0000\n",
            "Epoch 118/250\n",
            "24/24 [==============================] - 0s 3ms/step - loss: 8090345.0000 - val_loss: 13924106.0000\n",
            "Epoch 119/250\n",
            "24/24 [==============================] - 0s 3ms/step - loss: 7589798.0000 - val_loss: 13475523.0000\n",
            "Epoch 120/250\n",
            "24/24 [==============================] - 0s 3ms/step - loss: 7533334.0000 - val_loss: 13126827.0000\n",
            "Epoch 121/250\n",
            "24/24 [==============================] - 0s 3ms/step - loss: 8161490.5000 - val_loss: 12862111.0000\n",
            "Epoch 122/250\n",
            "24/24 [==============================] - 0s 3ms/step - loss: 7617701.5000 - val_loss: 12611977.0000\n",
            "Epoch 123/250\n",
            "24/24 [==============================] - 0s 3ms/step - loss: 7445452.5000 - val_loss: 12200466.0000\n",
            "Epoch 124/250\n",
            "24/24 [==============================] - 0s 3ms/step - loss: 7252327.5000 - val_loss: 11808203.0000\n",
            "Epoch 125/250\n",
            "24/24 [==============================] - 0s 3ms/step - loss: 7224871.0000 - val_loss: 11456046.0000\n",
            "Epoch 126/250\n",
            "24/24 [==============================] - 0s 3ms/step - loss: 7295320.5000 - val_loss: 11018941.0000\n",
            "Epoch 127/250\n",
            "24/24 [==============================] - 0s 3ms/step - loss: 6694082.0000 - val_loss: 10642887.0000\n",
            "Epoch 128/250\n",
            "24/24 [==============================] - 0s 3ms/step - loss: 6726075.0000 - val_loss: 10298382.0000\n",
            "Epoch 129/250\n",
            "24/24 [==============================] - 0s 3ms/step - loss: 7006426.0000 - val_loss: 10002959.0000\n",
            "Epoch 130/250\n",
            "24/24 [==============================] - 0s 3ms/step - loss: 7265686.5000 - val_loss: 9672815.0000\n",
            "Epoch 131/250\n",
            "24/24 [==============================] - 0s 3ms/step - loss: 6290573.0000 - val_loss: 9411456.0000\n",
            "Epoch 132/250\n",
            "24/24 [==============================] - 0s 3ms/step - loss: 6410948.0000 - val_loss: 9046716.0000\n",
            "Epoch 133/250\n",
            "24/24 [==============================] - 0s 3ms/step - loss: 6767720.5000 - val_loss: 8739532.0000\n",
            "Epoch 134/250\n",
            "24/24 [==============================] - 0s 3ms/step - loss: 7330823.0000 - val_loss: 8488511.0000\n",
            "Epoch 135/250\n",
            "24/24 [==============================] - 0s 4ms/step - loss: 6404012.0000 - val_loss: 8169195.5000\n",
            "Epoch 136/250\n",
            "24/24 [==============================] - 0s 4ms/step - loss: 6616079.5000 - val_loss: 7901142.5000\n",
            "Epoch 137/250\n",
            "24/24 [==============================] - 0s 3ms/step - loss: 6566680.5000 - val_loss: 7558892.0000\n",
            "Epoch 138/250\n",
            "24/24 [==============================] - 0s 3ms/step - loss: 6420082.0000 - val_loss: 7320126.0000\n",
            "Epoch 139/250\n",
            "24/24 [==============================] - 0s 3ms/step - loss: 6686001.0000 - val_loss: 7176551.0000\n",
            "Epoch 140/250\n",
            "24/24 [==============================] - 0s 3ms/step - loss: 6206095.5000 - val_loss: 6849616.5000\n",
            "Epoch 141/250\n",
            "24/24 [==============================] - 0s 3ms/step - loss: 6060004.5000 - val_loss: 6672040.0000\n",
            "Epoch 142/250\n",
            "24/24 [==============================] - 0s 3ms/step - loss: 6148865.0000 - val_loss: 6448515.5000\n",
            "Epoch 143/250\n",
            "24/24 [==============================] - 0s 3ms/step - loss: 5893230.0000 - val_loss: 6212268.5000\n",
            "Epoch 144/250\n",
            "24/24 [==============================] - 0s 3ms/step - loss: 6201574.5000 - val_loss: 6050336.5000\n",
            "Epoch 145/250\n",
            "24/24 [==============================] - 0s 3ms/step - loss: 5992326.5000 - val_loss: 5799387.5000\n",
            "Epoch 146/250\n",
            "24/24 [==============================] - 0s 3ms/step - loss: 6194110.5000 - val_loss: 5577699.0000\n",
            "Epoch 147/250\n",
            "24/24 [==============================] - 0s 3ms/step - loss: 5492180.0000 - val_loss: 5318917.5000\n",
            "Epoch 148/250\n",
            "24/24 [==============================] - 0s 3ms/step - loss: 5418891.0000 - val_loss: 5131162.5000\n",
            "Epoch 149/250\n",
            "24/24 [==============================] - 0s 4ms/step - loss: 5584199.0000 - val_loss: 4919527.5000\n",
            "Epoch 150/250\n",
            "24/24 [==============================] - 0s 3ms/step - loss: 5609056.5000 - val_loss: 4706452.5000\n",
            "Epoch 151/250\n",
            "24/24 [==============================] - 0s 3ms/step - loss: 5749789.5000 - val_loss: 4510244.5000\n",
            "Epoch 152/250\n",
            "24/24 [==============================] - 0s 4ms/step - loss: 5222155.0000 - val_loss: 4324661.5000\n",
            "Epoch 153/250\n",
            "24/24 [==============================] - 0s 3ms/step - loss: 5284825.5000 - val_loss: 4119224.5000\n",
            "Epoch 154/250\n",
            "24/24 [==============================] - 0s 4ms/step - loss: 5027078.0000 - val_loss: 3932651.7500\n",
            "Epoch 155/250\n",
            "24/24 [==============================] - 0s 4ms/step - loss: 5518911.0000 - val_loss: 3754549.0000\n",
            "Epoch 156/250\n",
            "24/24 [==============================] - 0s 3ms/step - loss: 4817892.5000 - val_loss: 3620012.2500\n",
            "Epoch 157/250\n",
            "24/24 [==============================] - 0s 3ms/step - loss: 5393993.0000 - val_loss: 3472134.7500\n",
            "Epoch 158/250\n",
            "24/24 [==============================] - 0s 3ms/step - loss: 4623469.5000 - val_loss: 3286545.2500\n",
            "Epoch 159/250\n",
            "24/24 [==============================] - 0s 3ms/step - loss: 4737710.5000 - val_loss: 3138347.5000\n",
            "Epoch 160/250\n",
            "24/24 [==============================] - 0s 3ms/step - loss: 5416443.0000 - val_loss: 3047392.7500\n",
            "Epoch 161/250\n",
            "24/24 [==============================] - 0s 3ms/step - loss: 4319957.0000 - val_loss: 2953163.0000\n",
            "Epoch 162/250\n",
            "24/24 [==============================] - 0s 3ms/step - loss: 4681599.0000 - val_loss: 2828014.2500\n",
            "Epoch 163/250\n",
            "24/24 [==============================] - 0s 3ms/step - loss: 4900611.5000 - val_loss: 2714992.0000\n",
            "Epoch 164/250\n",
            "24/24 [==============================] - 0s 3ms/step - loss: 4878421.0000 - val_loss: 2645613.7500\n",
            "Epoch 165/250\n",
            "24/24 [==============================] - 0s 3ms/step - loss: 4343268.0000 - val_loss: 2527291.5000\n",
            "Epoch 166/250\n",
            "24/24 [==============================] - 0s 3ms/step - loss: 4738938.0000 - val_loss: 2417139.7500\n",
            "Epoch 167/250\n",
            "24/24 [==============================] - 0s 3ms/step - loss: 4405920.5000 - val_loss: 2363786.2500\n",
            "Epoch 168/250\n",
            "24/24 [==============================] - 0s 3ms/step - loss: 4478101.5000 - val_loss: 2268108.2500\n",
            "Epoch 169/250\n",
            "24/24 [==============================] - 0s 3ms/step - loss: 5143724.0000 - val_loss: 2199679.0000\n",
            "Epoch 170/250\n",
            "24/24 [==============================] - 0s 3ms/step - loss: 4695369.5000 - val_loss: 2136358.0000\n",
            "Epoch 171/250\n",
            "24/24 [==============================] - 0s 3ms/step - loss: 4090977.5000 - val_loss: 2032678.5000\n",
            "Epoch 172/250\n",
            "24/24 [==============================] - 0s 3ms/step - loss: 4444909.0000 - val_loss: 1956497.1250\n",
            "Epoch 173/250\n",
            "24/24 [==============================] - 0s 3ms/step - loss: 3981271.0000 - val_loss: 1890345.1250\n",
            "Epoch 174/250\n",
            "24/24 [==============================] - 0s 3ms/step - loss: 4235473.0000 - val_loss: 1841839.2500\n",
            "Epoch 175/250\n",
            "24/24 [==============================] - 0s 3ms/step - loss: 4300276.0000 - val_loss: 1782729.7500\n",
            "Epoch 176/250\n",
            "24/24 [==============================] - 0s 3ms/step - loss: 4369035.0000 - val_loss: 1746775.1250\n",
            "Epoch 177/250\n",
            "24/24 [==============================] - 0s 3ms/step - loss: 4387780.0000 - val_loss: 1691017.1250\n",
            "Epoch 178/250\n",
            "24/24 [==============================] - 0s 4ms/step - loss: 4986511.5000 - val_loss: 1648498.3750\n",
            "Epoch 179/250\n",
            "24/24 [==============================] - 0s 3ms/step - loss: 4652780.5000 - val_loss: 1600214.3750\n",
            "Epoch 180/250\n",
            "24/24 [==============================] - 0s 3ms/step - loss: 4240964.0000 - val_loss: 1563290.3750\n",
            "Epoch 181/250\n",
            "24/24 [==============================] - 0s 4ms/step - loss: 4168131.5000 - val_loss: 1535242.1250\n",
            "Epoch 182/250\n",
            "24/24 [==============================] - 0s 3ms/step - loss: 4365583.0000 - val_loss: 1504197.3750\n",
            "Epoch 183/250\n",
            "24/24 [==============================] - 0s 3ms/step - loss: 4429482.5000 - val_loss: 1489309.3750\n",
            "Epoch 184/250\n",
            "24/24 [==============================] - 0s 3ms/step - loss: 3935897.7500 - val_loss: 1466169.3750\n",
            "Epoch 185/250\n",
            "24/24 [==============================] - 0s 3ms/step - loss: 4660878.0000 - val_loss: 1450666.0000\n",
            "Epoch 186/250\n",
            "24/24 [==============================] - 0s 3ms/step - loss: 4060201.0000 - val_loss: 1431856.1250\n",
            "Epoch 187/250\n",
            "24/24 [==============================] - 0s 3ms/step - loss: 4008312.7500 - val_loss: 1411475.8750\n",
            "Epoch 188/250\n",
            "24/24 [==============================] - 0s 3ms/step - loss: 3742930.2500 - val_loss: 1401248.8750\n",
            "Epoch 189/250\n",
            "24/24 [==============================] - 0s 3ms/step - loss: 3896309.0000 - val_loss: 1390933.5000\n",
            "Epoch 190/250\n",
            "24/24 [==============================] - 0s 3ms/step - loss: 3717129.0000 - val_loss: 1386384.2500\n",
            "Epoch 191/250\n",
            "24/24 [==============================] - 0s 3ms/step - loss: 4058527.5000 - val_loss: 1383996.0000\n",
            "Epoch 192/250\n",
            "24/24 [==============================] - 0s 3ms/step - loss: 4049866.7500 - val_loss: 1381803.5000\n",
            "Epoch 193/250\n",
            "24/24 [==============================] - 0s 3ms/step - loss: 3946965.5000 - val_loss: 1385935.1250\n",
            "Epoch 194/250\n",
            "24/24 [==============================] - 0s 3ms/step - loss: 4124593.7500 - val_loss: 1388984.3750\n",
            "Epoch 195/250\n",
            "24/24 [==============================] - 0s 3ms/step - loss: 3744273.7500 - val_loss: 1393340.6250\n",
            "Epoch 196/250\n",
            "24/24 [==============================] - 0s 3ms/step - loss: 3507162.5000 - val_loss: 1398338.2500\n",
            "Epoch 197/250\n",
            "24/24 [==============================] - 0s 3ms/step - loss: 3651116.0000 - val_loss: 1408192.7500\n",
            "Epoch 198/250\n",
            "24/24 [==============================] - 0s 3ms/step - loss: 3714671.0000 - val_loss: 1415006.2500\n",
            "Epoch 199/250\n",
            "24/24 [==============================] - 0s 3ms/step - loss: 3778585.0000 - val_loss: 1432264.3750\n",
            "Epoch 200/250\n",
            "24/24 [==============================] - 0s 3ms/step - loss: 3469075.5000 - val_loss: 1438858.6250\n",
            "Epoch 201/250\n",
            "24/24 [==============================] - 0s 3ms/step - loss: 3842673.7500 - val_loss: 1438590.0000\n",
            "Epoch 202/250\n",
            "24/24 [==============================] - 0s 3ms/step - loss: 3264383.5000 - val_loss: 1453697.6250\n",
            "Epoch 203/250\n",
            "24/24 [==============================] - 0s 3ms/step - loss: 3479693.2500 - val_loss: 1486190.0000\n",
            "Epoch 204/250\n",
            "24/24 [==============================] - 0s 4ms/step - loss: 3804555.0000 - val_loss: 1510502.6250\n",
            "Epoch 205/250\n",
            "24/24 [==============================] - 0s 4ms/step - loss: 3632697.7500 - val_loss: 1508553.3750\n",
            "Epoch 206/250\n",
            "24/24 [==============================] - 0s 3ms/step - loss: 3353410.0000 - val_loss: 1520560.5000\n",
            "Epoch 207/250\n",
            "24/24 [==============================] - 0s 3ms/step - loss: 3579284.2500 - val_loss: 1539289.8750\n",
            "Epoch 208/250\n",
            "24/24 [==============================] - 0s 3ms/step - loss: 3692265.0000 - val_loss: 1565879.3750\n",
            "Epoch 209/250\n",
            "24/24 [==============================] - 0s 3ms/step - loss: 3414862.0000 - val_loss: 1591657.7500\n",
            "Epoch 210/250\n",
            "24/24 [==============================] - 0s 3ms/step - loss: 3500701.2500 - val_loss: 1610884.7500\n",
            "Epoch 211/250\n",
            "24/24 [==============================] - 0s 3ms/step - loss: 2909141.0000 - val_loss: 1658324.8750\n",
            "Epoch 212/250\n",
            "24/24 [==============================] - 0s 3ms/step - loss: 3609588.7500 - val_loss: 1687558.1250\n",
            "Epoch 213/250\n",
            "24/24 [==============================] - 0s 3ms/step - loss: 3249124.7500 - val_loss: 1701873.5000\n",
            "Epoch 214/250\n",
            "24/24 [==============================] - 0s 3ms/step - loss: 3716614.7500 - val_loss: 1683563.2500\n",
            "Epoch 215/250\n",
            "24/24 [==============================] - 0s 3ms/step - loss: 3724279.5000 - val_loss: 1696006.6250\n",
            "Epoch 216/250\n",
            "24/24 [==============================] - 0s 3ms/step - loss: 3445527.2500 - val_loss: 1718652.0000\n",
            "Epoch 217/250\n",
            "24/24 [==============================] - 0s 3ms/step - loss: 3430102.0000 - val_loss: 1743607.3750\n",
            "Epoch 218/250\n",
            "24/24 [==============================] - 0s 3ms/step - loss: 3316611.0000 - val_loss: 1799782.2500\n",
            "Epoch 219/250\n",
            "24/24 [==============================] - 0s 3ms/step - loss: 3135201.5000 - val_loss: 1809678.0000\n",
            "Epoch 220/250\n",
            "24/24 [==============================] - 0s 3ms/step - loss: 3134225.5000 - val_loss: 1879254.7500\n",
            "Epoch 221/250\n",
            "24/24 [==============================] - 0s 3ms/step - loss: 3290024.5000 - val_loss: 1892875.0000\n",
            "Epoch 222/250\n",
            "24/24 [==============================] - 0s 3ms/step - loss: 3419833.2500 - val_loss: 1915117.5000\n",
            "Epoch 223/250\n",
            "24/24 [==============================] - 0s 3ms/step - loss: 3493988.7500 - val_loss: 1956379.7500\n",
            "Epoch 224/250\n",
            "24/24 [==============================] - 0s 3ms/step - loss: 3395938.5000 - val_loss: 1980857.8750\n",
            "Epoch 225/250\n",
            "24/24 [==============================] - 0s 3ms/step - loss: 3474169.2500 - val_loss: 1990304.7500\n",
            "Epoch 226/250\n",
            "24/24 [==============================] - 0s 3ms/step - loss: 3410657.2500 - val_loss: 2008818.0000\n",
            "Epoch 227/250\n",
            "24/24 [==============================] - 0s 3ms/step - loss: 3325361.5000 - val_loss: 2044585.6250\n",
            "Epoch 228/250\n",
            "24/24 [==============================] - 0s 3ms/step - loss: 3104359.0000 - val_loss: 2126314.7500\n",
            "Epoch 229/250\n",
            "24/24 [==============================] - 0s 3ms/step - loss: 3471540.5000 - val_loss: 2068854.8750\n",
            "Epoch 230/250\n",
            "24/24 [==============================] - 0s 3ms/step - loss: 3323860.0000 - val_loss: 2106246.2500\n",
            "Epoch 231/250\n",
            "24/24 [==============================] - 0s 3ms/step - loss: 3330868.0000 - val_loss: 2164163.5000\n",
            "Epoch 232/250\n",
            "24/24 [==============================] - 0s 3ms/step - loss: 3607941.0000 - val_loss: 2150657.7500\n",
            "Epoch 233/250\n",
            "24/24 [==============================] - 0s 3ms/step - loss: 3198235.7500 - val_loss: 2141336.7500\n",
            "Epoch 234/250\n",
            "24/24 [==============================] - 0s 3ms/step - loss: 3134270.5000 - val_loss: 2171680.0000\n",
            "Epoch 235/250\n",
            "24/24 [==============================] - 0s 3ms/step - loss: 3091507.2500 - val_loss: 2194225.7500\n",
            "Epoch 236/250\n",
            "24/24 [==============================] - 0s 3ms/step - loss: 3449747.7500 - val_loss: 2147580.5000\n",
            "Epoch 237/250\n",
            "24/24 [==============================] - 0s 3ms/step - loss: 3418778.5000 - val_loss: 2174502.0000\n",
            "Epoch 238/250\n",
            "24/24 [==============================] - 0s 3ms/step - loss: 3002842.0000 - val_loss: 2224761.5000\n",
            "Epoch 239/250\n",
            "24/24 [==============================] - 0s 3ms/step - loss: 3231886.5000 - val_loss: 2237385.2500\n",
            "Epoch 240/250\n",
            "24/24 [==============================] - 0s 3ms/step - loss: 3169624.5000 - val_loss: 2263701.5000\n",
            "Epoch 241/250\n",
            "24/24 [==============================] - 0s 3ms/step - loss: 3196868.5000 - val_loss: 2289235.0000\n",
            "Epoch 242/250\n",
            "24/24 [==============================] - 0s 3ms/step - loss: 3203184.7500 - val_loss: 2296557.0000\n",
            "Epoch 243/250\n",
            "24/24 [==============================] - 0s 3ms/step - loss: 3279462.5000 - val_loss: 2323196.2500\n",
            "Epoch 244/250\n",
            "24/24 [==============================] - 0s 3ms/step - loss: 3668533.2500 - val_loss: 2300367.0000\n",
            "Epoch 245/250\n",
            "24/24 [==============================] - 0s 3ms/step - loss: 3032431.0000 - val_loss: 2341999.2500\n",
            "Epoch 246/250\n",
            "24/24 [==============================] - 0s 3ms/step - loss: 3315417.5000 - val_loss: 2325895.5000\n",
            "Epoch 247/250\n",
            "24/24 [==============================] - 0s 3ms/step - loss: 2928664.0000 - val_loss: 2380741.0000\n",
            "Epoch 248/250\n",
            "24/24 [==============================] - 0s 4ms/step - loss: 3492774.5000 - val_loss: 2366891.0000\n",
            "Epoch 249/250\n",
            "24/24 [==============================] - 0s 4ms/step - loss: 2598218.2500 - val_loss: 2388305.0000\n",
            "Epoch 250/250\n",
            "24/24 [==============================] - 0s 3ms/step - loss: 3236767.5000 - val_loss: 2414271.2500\n"
          ],
          "name": "stdout"
        }
      ]
    },
    {
      "cell_type": "code",
      "metadata": {
        "id": "Zc7gJOdDpqph"
      },
      "source": [
        "# Make a prediction\n",
        "preds = model.predict(scaled_X_test)"
      ],
      "execution_count": 193,
      "outputs": []
    },
    {
      "cell_type": "code",
      "metadata": {
        "id": "fWjiNvxlpqpk",
        "outputId": "b0a55661-a196-4d73-b538-cb38b5c826f1",
        "colab": {
          "base_uri": "https://localhost:8080/",
          "height": 257
        }
      },
      "source": [
        "preds = pd.DataFrame(preds)\n",
        "preds['index'] = range(1,8)\n",
        "preds.columns = ['Vanilla Neural Network', 'index']\n",
        "preds"
      ],
      "execution_count": 195,
      "outputs": [
        {
          "output_type": "execute_result",
          "data": {
            "text/html": [
              "<div>\n",
              "<style scoped>\n",
              "    .dataframe tbody tr th:only-of-type {\n",
              "        vertical-align: middle;\n",
              "    }\n",
              "\n",
              "    .dataframe tbody tr th {\n",
              "        vertical-align: top;\n",
              "    }\n",
              "\n",
              "    .dataframe thead th {\n",
              "        text-align: right;\n",
              "    }\n",
              "</style>\n",
              "<table border=\"1\" class=\"dataframe\">\n",
              "  <thead>\n",
              "    <tr style=\"text-align: right;\">\n",
              "      <th></th>\n",
              "      <th>Vanilla Neural Network</th>\n",
              "      <th>index</th>\n",
              "    </tr>\n",
              "  </thead>\n",
              "  <tbody>\n",
              "    <tr>\n",
              "      <th>0</th>\n",
              "      <td>6611.976074</td>\n",
              "      <td>1</td>\n",
              "    </tr>\n",
              "    <tr>\n",
              "      <th>1</th>\n",
              "      <td>5955.514648</td>\n",
              "      <td>2</td>\n",
              "    </tr>\n",
              "    <tr>\n",
              "      <th>2</th>\n",
              "      <td>6505.468750</td>\n",
              "      <td>3</td>\n",
              "    </tr>\n",
              "    <tr>\n",
              "      <th>3</th>\n",
              "      <td>6887.428711</td>\n",
              "      <td>4</td>\n",
              "    </tr>\n",
              "    <tr>\n",
              "      <th>4</th>\n",
              "      <td>6012.340820</td>\n",
              "      <td>5</td>\n",
              "    </tr>\n",
              "    <tr>\n",
              "      <th>5</th>\n",
              "      <td>7930.229004</td>\n",
              "      <td>6</td>\n",
              "    </tr>\n",
              "    <tr>\n",
              "      <th>6</th>\n",
              "      <td>10340.980469</td>\n",
              "      <td>7</td>\n",
              "    </tr>\n",
              "  </tbody>\n",
              "</table>\n",
              "</div>"
            ],
            "text/plain": [
              "   Vanilla Neural Network  index\n",
              "0             6611.976074      1\n",
              "1             5955.514648      2\n",
              "2             6505.468750      3\n",
              "3             6887.428711      4\n",
              "4             6012.340820      5\n",
              "5             7930.229004      6\n",
              "6            10340.980469      7"
            ]
          },
          "metadata": {
            "tags": []
          },
          "execution_count": 195
        }
      ]
    },
    {
      "cell_type": "code",
      "metadata": {
        "id": "8-dXzHIkrIQM",
        "outputId": "098c391b-aac0-4724-def8-d1a2338b63c3",
        "colab": {
          "base_uri": "https://localhost:8080/",
          "height": 257
        }
      },
      "source": [
        "merge_may = merge_may.merge(preds, on = 'index')\n",
        "merge_may"
      ],
      "execution_count": 196,
      "outputs": [
        {
          "output_type": "execute_result",
          "data": {
            "text/html": [
              "<div>\n",
              "<style scoped>\n",
              "    .dataframe tbody tr th:only-of-type {\n",
              "        vertical-align: middle;\n",
              "    }\n",
              "\n",
              "    .dataframe tbody tr th {\n",
              "        vertical-align: top;\n",
              "    }\n",
              "\n",
              "    .dataframe thead th {\n",
              "        text-align: right;\n",
              "    }\n",
              "</style>\n",
              "<table border=\"1\" class=\"dataframe\">\n",
              "  <thead>\n",
              "    <tr style=\"text-align: right;\">\n",
              "      <th></th>\n",
              "      <th>Real</th>\n",
              "      <th>index</th>\n",
              "      <th>Random Forest</th>\n",
              "      <th>Linear Regression</th>\n",
              "      <th>Support Vector Regression</th>\n",
              "      <th>Vanilla Neural Network</th>\n",
              "    </tr>\n",
              "  </thead>\n",
              "  <tbody>\n",
              "    <tr>\n",
              "      <th>0</th>\n",
              "      <td>8822.800000</td>\n",
              "      <td>1</td>\n",
              "      <td>7916.919097</td>\n",
              "      <td>7626.086948</td>\n",
              "      <td>6233.990297</td>\n",
              "      <td>6611.976074</td>\n",
              "    </tr>\n",
              "    <tr>\n",
              "      <th>1</th>\n",
              "      <td>8982.300000</td>\n",
              "      <td>2</td>\n",
              "      <td>8059.010481</td>\n",
              "      <td>7526.599476</td>\n",
              "      <td>6457.953900</td>\n",
              "      <td>5955.514648</td>\n",
              "    </tr>\n",
              "    <tr>\n",
              "      <th>2</th>\n",
              "      <td>8899.800000</td>\n",
              "      <td>3</td>\n",
              "      <td>7503.599789</td>\n",
              "      <td>7690.725950</td>\n",
              "      <td>6479.903842</td>\n",
              "      <td>6505.468750</td>\n",
              "    </tr>\n",
              "    <tr>\n",
              "      <th>3</th>\n",
              "      <td>8865.800000</td>\n",
              "      <td>4</td>\n",
              "      <td>7056.235988</td>\n",
              "      <td>7793.804550</td>\n",
              "      <td>6640.965524</td>\n",
              "      <td>6887.428711</td>\n",
              "    </tr>\n",
              "    <tr>\n",
              "      <th>4</th>\n",
              "      <td>9020.100000</td>\n",
              "      <td>5</td>\n",
              "      <td>7437.152443</td>\n",
              "      <td>7850.899369</td>\n",
              "      <td>6510.529127</td>\n",
              "      <td>6012.340820</td>\n",
              "    </tr>\n",
              "    <tr>\n",
              "      <th>5</th>\n",
              "      <td>9152.470993</td>\n",
              "      <td>6</td>\n",
              "      <td>8237.563792</td>\n",
              "      <td>8888.264968</td>\n",
              "      <td>7965.608332</td>\n",
              "      <td>7930.229004</td>\n",
              "    </tr>\n",
              "    <tr>\n",
              "      <th>6</th>\n",
              "      <td>9979.600000</td>\n",
              "      <td>7</td>\n",
              "      <td>7823.286390</td>\n",
              "      <td>8836.952715</td>\n",
              "      <td>14049.828929</td>\n",
              "      <td>10340.980469</td>\n",
              "    </tr>\n",
              "  </tbody>\n",
              "</table>\n",
              "</div>"
            ],
            "text/plain": [
              "          Real  index  Random Forest  Linear Regression  \\\n",
              "0  8822.800000      1    7916.919097        7626.086948   \n",
              "1  8982.300000      2    8059.010481        7526.599476   \n",
              "2  8899.800000      3    7503.599789        7690.725950   \n",
              "3  8865.800000      4    7056.235988        7793.804550   \n",
              "4  9020.100000      5    7437.152443        7850.899369   \n",
              "5  9152.470993      6    8237.563792        8888.264968   \n",
              "6  9979.600000      7    7823.286390        8836.952715   \n",
              "\n",
              "   Support Vector Regression  Vanilla Neural Network  \n",
              "0                6233.990297             6611.976074  \n",
              "1                6457.953900             5955.514648  \n",
              "2                6479.903842             6505.468750  \n",
              "3                6640.965524             6887.428711  \n",
              "4                6510.529127             6012.340820  \n",
              "5                7965.608332             7930.229004  \n",
              "6               14049.828929            10340.980469  "
            ]
          },
          "metadata": {
            "tags": []
          },
          "execution_count": 196
        }
      ]
    },
    {
      "cell_type": "code",
      "metadata": {
        "id": "ZJwG0sXurRRF",
        "outputId": "8dd8c60c-1efe-41f7-a041-97210bf29f63",
        "colab": {
          "base_uri": "https://localhost:8080/",
          "height": 280
        }
      },
      "source": [
        "# Plot the predicted vs actual in matplot lib\n",
        "import matplotlib.pyplot as plt\n",
        "plt.plot( 'index', 'Real', data=merge_may, marker='o', markerfacecolor='blue', markersize=12, color='skyblue', linewidth=4)\n",
        "plt.plot( 'index', 'Vanilla Neural Network', data=merge_may, marker='', color='olive', linewidth=2)\n",
        "plt.xticks(rotation='vertical')\n",
        "plt.legend()"
      ],
      "execution_count": 197,
      "outputs": [
        {
          "output_type": "execute_result",
          "data": {
            "text/plain": [
              "<matplotlib.legend.Legend at 0x7f6f60769588>"
            ]
          },
          "metadata": {
            "tags": []
          },
          "execution_count": 197
        },
        {
          "output_type": "display_data",
          "data": {
            "image/png": "[encoded data removed]",
            "text/plain": [
              "<Figure size 432x288 with 1 Axes>"
            ]
          },
          "metadata": {
            "tags": [],
            "needs_background": "light"
          }
        }
      ]
    },
    {
      "cell_type": "code",
      "metadata": {
        "id": "RgTTcVgYrZv_",
        "outputId": "567cff5d-7283-4583-d793-7f294251f5f6",
        "colab": {
          "base_uri": "https://localhost:8080/",
          "height": 34
        }
      },
      "source": [
        "MSE = mean_squared_error(y_true = merge_may.Real, y_pred = merge_may['Vanilla Neural Network'])\n",
        "np.sqrt(MSE)"
      ],
      "execution_count": 198,
      "outputs": [
        {
          "output_type": "execute_result",
          "data": {
            "text/plain": [
              "2215.756358914712"
            ]
          },
          "metadata": {
            "tags": []
          },
          "execution_count": 198
        }
      ]
    },
    {
      "cell_type": "markdown",
      "metadata": {
        "id": "S0C9TwIWpjXM"
      },
      "source": [
        "# Random Forest - July"
      ]
    },
    {
      "cell_type": "code",
      "metadata": {
        "id": "hxThDb0LpjXU",
        "outputId": "e9d298bb-2917-41b9-bc9e-6dc98141e8e8",
        "colab": {
          "base_uri": "https://localhost:8080/",
          "height": 141
        }
      },
      "source": [
        "RandomForestRegression.fit(x_train_july, y_train_july)"
      ],
      "execution_count": null,
      "outputs": [
        {
          "output_type": "execute_result",
          "data": {
            "text/plain": [
              "RandomForestRegressor(bootstrap=True, ccp_alpha=0.0, criterion='mse',\n",
              "                      max_depth=None, max_features='auto', max_leaf_nodes=None,\n",
              "                      max_samples=None, min_impurity_decrease=0.0,\n",
              "                      min_impurity_split=None, min_samples_leaf=1,\n",
              "                      min_samples_split=2, min_weight_fraction_leaf=0.0,\n",
              "                      n_estimators=500, n_jobs=None, oob_score=False,\n",
              "                      random_state=None, verbose=0, warm_start=False)"
            ]
          },
          "metadata": {
            "tags": []
          },
          "execution_count": 49
        }
      ]
    },
    {
      "cell_type": "code",
      "metadata": {
        "id": "tS8lNXeQpjXn",
        "outputId": "083c30cc-935e-409e-f025-6c07f483cae0",
        "colab": {
          "base_uri": "https://localhost:8080/",
          "height": 257
        }
      },
      "source": [
        "rf_prediction_july = RandomForestRegression.predict(x_test_july)\n",
        "rf_prediction_july = pd.DataFrame(rf_prediction_july)\n",
        "rf_prediction_july.columns = ['Random Forest']\n",
        "rf_prediction_july['index'] = range(1,8)\n",
        "rf_prediction_july"
      ],
      "execution_count": null,
      "outputs": [
        {
          "output_type": "execute_result",
          "data": {
            "text/html": [
              "<div>\n",
              "<style scoped>\n",
              "    .dataframe tbody tr th:only-of-type {\n",
              "        vertical-align: middle;\n",
              "    }\n",
              "\n",
              "    .dataframe tbody tr th {\n",
              "        vertical-align: top;\n",
              "    }\n",
              "\n",
              "    .dataframe thead th {\n",
              "        text-align: right;\n",
              "    }\n",
              "</style>\n",
              "<table border=\"1\" class=\"dataframe\">\n",
              "  <thead>\n",
              "    <tr style=\"text-align: right;\">\n",
              "      <th></th>\n",
              "      <th>Random Forest</th>\n",
              "      <th>index</th>\n",
              "    </tr>\n",
              "  </thead>\n",
              "  <tbody>\n",
              "    <tr>\n",
              "      <th>0</th>\n",
              "      <td>9376.634625</td>\n",
              "      <td>1</td>\n",
              "    </tr>\n",
              "    <tr>\n",
              "      <th>1</th>\n",
              "      <td>9338.414771</td>\n",
              "      <td>2</td>\n",
              "    </tr>\n",
              "    <tr>\n",
              "      <th>2</th>\n",
              "      <td>9164.883323</td>\n",
              "      <td>3</td>\n",
              "    </tr>\n",
              "    <tr>\n",
              "      <th>3</th>\n",
              "      <td>9273.250880</td>\n",
              "      <td>4</td>\n",
              "    </tr>\n",
              "    <tr>\n",
              "      <th>4</th>\n",
              "      <td>9341.943526</td>\n",
              "      <td>5</td>\n",
              "    </tr>\n",
              "    <tr>\n",
              "      <th>5</th>\n",
              "      <td>9211.809079</td>\n",
              "      <td>6</td>\n",
              "    </tr>\n",
              "    <tr>\n",
              "      <th>6</th>\n",
              "      <td>9248.271523</td>\n",
              "      <td>7</td>\n",
              "    </tr>\n",
              "  </tbody>\n",
              "</table>\n",
              "</div>"
            ],
            "text/plain": [
              "   Random Forest  index\n",
              "0    9376.634625      1\n",
              "1    9338.414771      2\n",
              "2    9164.883323      3\n",
              "3    9273.250880      4\n",
              "4    9341.943526      5\n",
              "5    9211.809079      6\n",
              "6    9248.271523      7"
            ]
          },
          "metadata": {
            "tags": []
          },
          "execution_count": 50
        }
      ]
    },
    {
      "cell_type": "code",
      "metadata": {
        "id": "fb2m04GdpjXt",
        "outputId": "830b35f9-9d4b-47c5-d17d-0b5629a1f725",
        "colab": {
          "base_uri": "https://localhost:8080/",
          "height": 257
        }
      },
      "source": [
        "y_test_july = pd.DataFrame(y_test_july)\n",
        "y_test_july['index'] = range(1,8)\n",
        "y_test_july.columns = ['Real', 'index']\n",
        "y_test_july"
      ],
      "execution_count": null,
      "outputs": [
        {
          "output_type": "execute_result",
          "data": {
            "text/html": [
              "<div>\n",
              "<style scoped>\n",
              "    .dataframe tbody tr th:only-of-type {\n",
              "        vertical-align: middle;\n",
              "    }\n",
              "\n",
              "    .dataframe tbody tr th {\n",
              "        vertical-align: top;\n",
              "    }\n",
              "\n",
              "    .dataframe thead th {\n",
              "        text-align: right;\n",
              "    }\n",
              "</style>\n",
              "<table border=\"1\" class=\"dataframe\">\n",
              "  <thead>\n",
              "    <tr style=\"text-align: right;\">\n",
              "      <th></th>\n",
              "      <th>Real</th>\n",
              "      <th>index</th>\n",
              "    </tr>\n",
              "  </thead>\n",
              "  <tbody>\n",
              "    <tr>\n",
              "      <th>1133</th>\n",
              "      <td>9239.900000</td>\n",
              "      <td>1</td>\n",
              "    </tr>\n",
              "    <tr>\n",
              "      <th>1134</th>\n",
              "      <td>9100.000000</td>\n",
              "      <td>2</td>\n",
              "    </tr>\n",
              "    <tr>\n",
              "      <th>1135</th>\n",
              "      <td>9073.200000</td>\n",
              "      <td>3</td>\n",
              "    </tr>\n",
              "    <tr>\n",
              "      <th>1136</th>\n",
              "      <td>9147.700000</td>\n",
              "      <td>4</td>\n",
              "    </tr>\n",
              "    <tr>\n",
              "      <th>1137</th>\n",
              "      <td>9084.284734</td>\n",
              "      <td>5</td>\n",
              "    </tr>\n",
              "    <tr>\n",
              "      <th>1138</th>\n",
              "      <td>9361.100000</td>\n",
              "      <td>6</td>\n",
              "    </tr>\n",
              "    <tr>\n",
              "      <th>1139</th>\n",
              "      <td>9267.514949</td>\n",
              "      <td>7</td>\n",
              "    </tr>\n",
              "  </tbody>\n",
              "</table>\n",
              "</div>"
            ],
            "text/plain": [
              "             Real  index\n",
              "1133  9239.900000      1\n",
              "1134  9100.000000      2\n",
              "1135  9073.200000      3\n",
              "1136  9147.700000      4\n",
              "1137  9084.284734      5\n",
              "1138  9361.100000      6\n",
              "1139  9267.514949      7"
            ]
          },
          "metadata": {
            "tags": []
          },
          "execution_count": 57
        }
      ]
    },
    {
      "cell_type": "code",
      "metadata": {
        "id": "R9R42H3OpjX0"
      },
      "source": [
        "merge_july = y_test_july.merge(rf_prediction_july, on = 'index')"
      ],
      "execution_count": null,
      "outputs": []
    },
    {
      "cell_type": "code",
      "metadata": {
        "id": "Ed3LU0TgpjX7",
        "outputId": "0a7a5295-5673-42ff-8a93-1b5325205200",
        "colab": {
          "base_uri": "https://localhost:8080/",
          "height": 257
        }
      },
      "source": [
        "merge_july"
      ],
      "execution_count": null,
      "outputs": [
        {
          "output_type": "execute_result",
          "data": {
            "text/html": [
              "<div>\n",
              "<style scoped>\n",
              "    .dataframe tbody tr th:only-of-type {\n",
              "        vertical-align: middle;\n",
              "    }\n",
              "\n",
              "    .dataframe tbody tr th {\n",
              "        vertical-align: top;\n",
              "    }\n",
              "\n",
              "    .dataframe thead th {\n",
              "        text-align: right;\n",
              "    }\n",
              "</style>\n",
              "<table border=\"1\" class=\"dataframe\">\n",
              "  <thead>\n",
              "    <tr style=\"text-align: right;\">\n",
              "      <th></th>\n",
              "      <th>Real</th>\n",
              "      <th>index</th>\n",
              "      <th>Random Forest</th>\n",
              "    </tr>\n",
              "  </thead>\n",
              "  <tbody>\n",
              "    <tr>\n",
              "      <th>0</th>\n",
              "      <td>9239.900000</td>\n",
              "      <td>1</td>\n",
              "      <td>9376.634625</td>\n",
              "    </tr>\n",
              "    <tr>\n",
              "      <th>1</th>\n",
              "      <td>9100.000000</td>\n",
              "      <td>2</td>\n",
              "      <td>9338.414771</td>\n",
              "    </tr>\n",
              "    <tr>\n",
              "      <th>2</th>\n",
              "      <td>9073.200000</td>\n",
              "      <td>3</td>\n",
              "      <td>9164.883323</td>\n",
              "    </tr>\n",
              "    <tr>\n",
              "      <th>3</th>\n",
              "      <td>9147.700000</td>\n",
              "      <td>4</td>\n",
              "      <td>9273.250880</td>\n",
              "    </tr>\n",
              "    <tr>\n",
              "      <th>4</th>\n",
              "      <td>9084.284734</td>\n",
              "      <td>5</td>\n",
              "      <td>9341.943526</td>\n",
              "    </tr>\n",
              "    <tr>\n",
              "      <th>5</th>\n",
              "      <td>9361.100000</td>\n",
              "      <td>6</td>\n",
              "      <td>9211.809079</td>\n",
              "    </tr>\n",
              "    <tr>\n",
              "      <th>6</th>\n",
              "      <td>9267.514949</td>\n",
              "      <td>7</td>\n",
              "      <td>9248.271523</td>\n",
              "    </tr>\n",
              "  </tbody>\n",
              "</table>\n",
              "</div>"
            ],
            "text/plain": [
              "          Real  index  Random Forest\n",
              "0  9239.900000      1    9376.634625\n",
              "1  9100.000000      2    9338.414771\n",
              "2  9073.200000      3    9164.883323\n",
              "3  9147.700000      4    9273.250880\n",
              "4  9084.284734      5    9341.943526\n",
              "5  9361.100000      6    9211.809079\n",
              "6  9267.514949      7    9248.271523"
            ]
          },
          "metadata": {
            "tags": []
          },
          "execution_count": 59
        }
      ]
    },
    {
      "cell_type": "code",
      "metadata": {
        "id": "H97nrVdFpjYC",
        "outputId": "bbadffb0-b970-4721-9f6a-538b10b920d2",
        "colab": {
          "base_uri": "https://localhost:8080/",
          "height": 34
        }
      },
      "source": [
        "rf_mse = mean_squared_error(merge_july.Real, merge_july['Random Forest'])\n",
        "rf_mse\n",
        "\n",
        "rf_rmse = np.sqrt(rf_mse)\n",
        "rf_rmse"
      ],
      "execution_count": null,
      "outputs": [
        {
          "output_type": "execute_result",
          "data": {
            "text/plain": [
              "164.20934259606918"
            ]
          },
          "metadata": {
            "tags": []
          },
          "execution_count": 63
        }
      ]
    },
    {
      "cell_type": "code",
      "metadata": {
        "id": "wD8eN3ptpjYI",
        "outputId": "8f079c06-bde2-434d-bd64-29bfde3b0874",
        "colab": {
          "base_uri": "https://localhost:8080/",
          "height": 280
        }
      },
      "source": [
        "# Plot the predicted vs actual in matplot lib\n",
        "import matplotlib.pyplot as plt\n",
        "plt.plot( 'index', 'Real', data=merge_july, marker='o', markerfacecolor='blue', markersize=12, color='skyblue', linewidth=4)\n",
        "plt.plot( 'index', 'Random Forest', data=merge_july, marker='', color='olive', linewidth=2)\n",
        "plt.xticks(rotation='vertical')\n",
        "plt.legend()"
      ],
      "execution_count": null,
      "outputs": [
        {
          "output_type": "execute_result",
          "data": {
            "text/plain": [
              "<matplotlib.legend.Legend at 0x7f7009e05ac8>"
            ]
          },
          "metadata": {
            "tags": []
          },
          "execution_count": 64
        },
        {
          "output_type": "display_data",
          "data": {
            "image/png": "[encoded data removed]",
            "text/plain": [
              "<Figure size 432x288 with 1 Axes>"
            ]
          },
          "metadata": {
            "tags": [],
            "needs_background": "light"
          }
        }
      ]
    },
    {
      "cell_type": "markdown",
      "metadata": {
        "id": "3eDn1qAWpjYT"
      },
      "source": [
        ""
      ]
    },
    {
      "cell_type": "markdown",
      "metadata": {
        "id": "9bZ_EtdkwfKw"
      },
      "source": [
        "# Linear Model - July"
      ]
    },
    {
      "cell_type": "code",
      "metadata": {
        "id": "MWJ6grU7wi3n"
      },
      "source": [
        "# Runt he linear regressor over the x and y training data\n",
        "model = LinearRegression().fit(x_train_july, y_train_july)"
      ],
      "execution_count": 94,
      "outputs": []
    },
    {
      "cell_type": "code",
      "metadata": {
        "id": "YRrivltjwi3t",
        "outputId": "2a8fb058-5a05-4405-9a3a-d6c14004c6d0",
        "colab": {
          "base_uri": "https://localhost:8080/",
          "height": 545
        }
      },
      "source": [
        "# Runt he linear regressor over the x and y training data\n",
        "from statsmodels.api import OLS\n",
        "OLS(y_train_july,x_train_july).fit().summary()"
      ],
      "execution_count": 95,
      "outputs": [
        {
          "output_type": "execute_result",
          "data": {
            "text/html": [
              "<table class=\"simpletable\">\n",
              "<caption>OLS Regression Results</caption>\n",
              "<tr>\n",
              "  <th>Dep. Variable:</th>        <td>BTC_close</td>    <th>  R-squared (uncentered):</th>      <td>   0.985</td> \n",
              "</tr>\n",
              "<tr>\n",
              "  <th>Model:</th>                   <td>OLS</td>       <th>  Adj. R-squared (uncentered):</th> <td>   0.985</td> \n",
              "</tr>\n",
              "<tr>\n",
              "  <th>Method:</th>             <td>Least Squares</td>  <th>  F-statistic:       </th>          <td>   8241.</td> \n",
              "</tr>\n",
              "<tr>\n",
              "  <th>Date:</th>             <td>Mon, 19 Oct 2020</td> <th>  Prob (F-statistic):</th>           <td>  0.00</td>  \n",
              "</tr>\n",
              "<tr>\n",
              "  <th>Time:</th>                 <td>06:40:46</td>     <th>  Log-Likelihood:    </th>          <td> -9371.7</td> \n",
              "</tr>\n",
              "<tr>\n",
              "  <th>No. Observations:</th>      <td>  1131</td>      <th>  AIC:               </th>          <td>1.876e+04</td>\n",
              "</tr>\n",
              "<tr>\n",
              "  <th>Df Residuals:</th>          <td>  1122</td>      <th>  BIC:               </th>          <td>1.881e+04</td>\n",
              "</tr>\n",
              "<tr>\n",
              "  <th>Df Model:</th>              <td>     9</td>      <th>                     </th>              <td> </td>    \n",
              "</tr>\n",
              "<tr>\n",
              "  <th>Covariance Type:</th>      <td>nonrobust</td>    <th>                     </th>              <td> </td>    \n",
              "</tr>\n",
              "</table>\n",
              "<table class=\"simpletable\">\n",
              "<tr>\n",
              "        <td></td>           <th>coef</th>     <th>std err</th>      <th>t</th>      <th>P>|t|</th>  <th>[0.025</th>    <th>0.975]</th>  \n",
              "</tr>\n",
              "<tr>\n",
              "  <th>ETHER_open</th>    <td>    1.4717</td> <td>    1.651</td> <td>    0.891</td> <td> 0.373</td> <td>   -1.768</td> <td>    4.712</td>\n",
              "</tr>\n",
              "<tr>\n",
              "  <th>ETHER_close</th>   <td>   -2.3577</td> <td>    1.657</td> <td>   -1.423</td> <td> 0.155</td> <td>   -5.609</td> <td>    0.893</td>\n",
              "</tr>\n",
              "<tr>\n",
              "  <th>ETHER_vol</th>     <td>   -0.0003</td> <td>    0.000</td> <td>   -1.451</td> <td> 0.147</td> <td>   -0.001</td> <td>    0.000</td>\n",
              "</tr>\n",
              "<tr>\n",
              "  <th>XRP_open</th>      <td>-3442.9932</td> <td>  726.922</td> <td>   -4.736</td> <td> 0.000</td> <td>-4869.273</td> <td>-2016.714</td>\n",
              "</tr>\n",
              "<tr>\n",
              "  <th>XRP_close</th>     <td> 2938.4025</td> <td>  739.956</td> <td>    3.971</td> <td> 0.000</td> <td> 1486.550</td> <td> 4390.255</td>\n",
              "</tr>\n",
              "<tr>\n",
              "  <th>XRP_vol</th>       <td>-1.306e-06</td> <td> 6.39e-07</td> <td>   -2.042</td> <td> 0.041</td> <td>-2.56e-06</td> <td>-5.12e-08</td>\n",
              "</tr>\n",
              "<tr>\n",
              "  <th>BTC_open_dup</th>  <td>    0.1473</td> <td>    0.094</td> <td>    1.560</td> <td> 0.119</td> <td>   -0.038</td> <td>    0.332</td>\n",
              "</tr>\n",
              "<tr>\n",
              "  <th>BTC_close_dup</th> <td>    0.8783</td> <td>    0.094</td> <td>    9.367</td> <td> 0.000</td> <td>    0.694</td> <td>    1.062</td>\n",
              "</tr>\n",
              "<tr>\n",
              "  <th>BTC_vol_dup</th>   <td>    0.0158</td> <td>    0.002</td> <td>    8.462</td> <td> 0.000</td> <td>    0.012</td> <td>    0.019</td>\n",
              "</tr>\n",
              "</table>\n",
              "<table class=\"simpletable\">\n",
              "<tr>\n",
              "  <th>Omnibus:</th>       <td>157.657</td> <th>  Durbin-Watson:     </th> <td>   0.352</td>\n",
              "</tr>\n",
              "<tr>\n",
              "  <th>Prob(Omnibus):</th> <td> 0.000</td>  <th>  Jarque-Bera (JB):  </th> <td>1921.012</td>\n",
              "</tr>\n",
              "<tr>\n",
              "  <th>Skew:</th>          <td> 0.006</td>  <th>  Prob(JB):          </th> <td>    0.00</td>\n",
              "</tr>\n",
              "<tr>\n",
              "  <th>Kurtosis:</th>      <td> 9.385</td>  <th>  Cond. No.          </th> <td>2.65e+09</td>\n",
              "</tr>\n",
              "</table><br/><br/>Warnings:<br/>[1] Standard Errors assume that the covariance matrix of the errors is correctly specified.<br/>[2] The condition number is large, 2.65e+09. This might indicate that there are<br/>strong multicollinearity or other numerical problems."
            ],
            "text/plain": [
              "<class 'statsmodels.iolib.summary.Summary'>\n",
              "\"\"\"\n",
              "                                 OLS Regression Results                                \n",
              "=======================================================================================\n",
              "Dep. Variable:              BTC_close   R-squared (uncentered):                   0.985\n",
              "Model:                            OLS   Adj. R-squared (uncentered):              0.985\n",
              "Method:                 Least Squares   F-statistic:                              8241.\n",
              "Date:                Mon, 19 Oct 2020   Prob (F-statistic):                        0.00\n",
              "Time:                        06:40:46   Log-Likelihood:                         -9371.7\n",
              "No. Observations:                1131   AIC:                                  1.876e+04\n",
              "Df Residuals:                    1122   BIC:                                  1.881e+04\n",
              "Df Model:                           9                                                  \n",
              "Covariance Type:            nonrobust                                                  \n",
              "=================================================================================\n",
              "                    coef    std err          t      P>|t|      [0.025      0.975]\n",
              "---------------------------------------------------------------------------------\n",
              "ETHER_open        1.4717      1.651      0.891      0.373      -1.768       4.712\n",
              "ETHER_close      -2.3577      1.657     -1.423      0.155      -5.609       0.893\n",
              "ETHER_vol        -0.0003      0.000     -1.451      0.147      -0.001       0.000\n",
              "XRP_open      -3442.9932    726.922     -4.736      0.000   -4869.273   -2016.714\n",
              "XRP_close      2938.4025    739.956      3.971      0.000    1486.550    4390.255\n",
              "XRP_vol       -1.306e-06   6.39e-07     -2.042      0.041   -2.56e-06   -5.12e-08\n",
              "BTC_open_dup      0.1473      0.094      1.560      0.119      -0.038       0.332\n",
              "BTC_close_dup     0.8783      0.094      9.367      0.000       0.694       1.062\n",
              "BTC_vol_dup       0.0158      0.002      8.462      0.000       0.012       0.019\n",
              "==============================================================================\n",
              "Omnibus:                      157.657   Durbin-Watson:                   0.352\n",
              "Prob(Omnibus):                  0.000   Jarque-Bera (JB):             1921.012\n",
              "Skew:                           0.006   Prob(JB):                         0.00\n",
              "Kurtosis:                       9.385   Cond. No.                     2.65e+09\n",
              "==============================================================================\n",
              "\n",
              "Warnings:\n",
              "[1] Standard Errors assume that the covariance matrix of the errors is correctly specified.\n",
              "[2] The condition number is large, 2.65e+09. This might indicate that there are\n",
              "strong multicollinearity or other numerical problems.\n",
              "\"\"\""
            ]
          },
          "metadata": {
            "tags": []
          },
          "execution_count": 95
        }
      ]
    },
    {
      "cell_type": "code",
      "metadata": {
        "id": "DM4I5EHOwi3z",
        "outputId": "942d0e3c-1dbc-4180-f48b-5eef6213aab4",
        "colab": {
          "base_uri": "https://localhost:8080/",
          "height": 257
        }
      },
      "source": [
        "# Predict the model on the x_test data\n",
        "y_pred_july = pd.DataFrame(model.predict(x_test_july))\n",
        "y_pred_july['index'] = range(1,8)\n",
        "y_pred_july.columns = ['Linear Regression', 'index']\n",
        "y_pred_july"
      ],
      "execution_count": 98,
      "outputs": [
        {
          "output_type": "execute_result",
          "data": {
            "text/html": [
              "<div>\n",
              "<style scoped>\n",
              "    .dataframe tbody tr th:only-of-type {\n",
              "        vertical-align: middle;\n",
              "    }\n",
              "\n",
              "    .dataframe tbody tr th {\n",
              "        vertical-align: top;\n",
              "    }\n",
              "\n",
              "    .dataframe thead th {\n",
              "        text-align: right;\n",
              "    }\n",
              "</style>\n",
              "<table border=\"1\" class=\"dataframe\">\n",
              "  <thead>\n",
              "    <tr style=\"text-align: right;\">\n",
              "      <th></th>\n",
              "      <th>Linear Regression</th>\n",
              "      <th>index</th>\n",
              "    </tr>\n",
              "  </thead>\n",
              "  <tbody>\n",
              "    <tr>\n",
              "      <th>0</th>\n",
              "      <td>9287.319380</td>\n",
              "      <td>1</td>\n",
              "    </tr>\n",
              "    <tr>\n",
              "      <th>1</th>\n",
              "      <td>9240.831789</td>\n",
              "      <td>2</td>\n",
              "    </tr>\n",
              "    <tr>\n",
              "      <th>2</th>\n",
              "      <td>9167.753549</td>\n",
              "      <td>3</td>\n",
              "    </tr>\n",
              "    <tr>\n",
              "      <th>3</th>\n",
              "      <td>8987.913877</td>\n",
              "      <td>4</td>\n",
              "    </tr>\n",
              "    <tr>\n",
              "      <th>4</th>\n",
              "      <td>9070.336208</td>\n",
              "      <td>5</td>\n",
              "    </tr>\n",
              "    <tr>\n",
              "      <th>5</th>\n",
              "      <td>9168.129820</td>\n",
              "      <td>6</td>\n",
              "    </tr>\n",
              "    <tr>\n",
              "      <th>6</th>\n",
              "      <td>9126.409153</td>\n",
              "      <td>7</td>\n",
              "    </tr>\n",
              "  </tbody>\n",
              "</table>\n",
              "</div>"
            ],
            "text/plain": [
              "   Linear Regression  index\n",
              "0        9287.319380      1\n",
              "1        9240.831789      2\n",
              "2        9167.753549      3\n",
              "3        8987.913877      4\n",
              "4        9070.336208      5\n",
              "5        9168.129820      6\n",
              "6        9126.409153      7"
            ]
          },
          "metadata": {
            "tags": []
          },
          "execution_count": 98
        }
      ]
    },
    {
      "cell_type": "code",
      "metadata": {
        "id": "s2HIKXOfwi36",
        "outputId": "4578c878-43b5-400d-fec0-be2d2281a110",
        "colab": {
          "base_uri": "https://localhost:8080/",
          "height": 257
        }
      },
      "source": [
        "y_test_july = pd.DataFrame(y_test_july)[0:7]\n",
        "y_test_july['index'] = range(1,8)\n",
        "y_test_july"
      ],
      "execution_count": 97,
      "outputs": [
        {
          "output_type": "execute_result",
          "data": {
            "text/html": [
              "<div>\n",
              "<style scoped>\n",
              "    .dataframe tbody tr th:only-of-type {\n",
              "        vertical-align: middle;\n",
              "    }\n",
              "\n",
              "    .dataframe tbody tr th {\n",
              "        vertical-align: top;\n",
              "    }\n",
              "\n",
              "    .dataframe thead th {\n",
              "        text-align: right;\n",
              "    }\n",
              "</style>\n",
              "<table border=\"1\" class=\"dataframe\">\n",
              "  <thead>\n",
              "    <tr style=\"text-align: right;\">\n",
              "      <th></th>\n",
              "      <th>Real</th>\n",
              "      <th>index</th>\n",
              "    </tr>\n",
              "  </thead>\n",
              "  <tbody>\n",
              "    <tr>\n",
              "      <th>1133</th>\n",
              "      <td>9239.900000</td>\n",
              "      <td>1</td>\n",
              "    </tr>\n",
              "    <tr>\n",
              "      <th>1134</th>\n",
              "      <td>9100.000000</td>\n",
              "      <td>2</td>\n",
              "    </tr>\n",
              "    <tr>\n",
              "      <th>1135</th>\n",
              "      <td>9073.200000</td>\n",
              "      <td>3</td>\n",
              "    </tr>\n",
              "    <tr>\n",
              "      <th>1136</th>\n",
              "      <td>9147.700000</td>\n",
              "      <td>4</td>\n",
              "    </tr>\n",
              "    <tr>\n",
              "      <th>1137</th>\n",
              "      <td>9084.284734</td>\n",
              "      <td>5</td>\n",
              "    </tr>\n",
              "    <tr>\n",
              "      <th>1138</th>\n",
              "      <td>9361.100000</td>\n",
              "      <td>6</td>\n",
              "    </tr>\n",
              "    <tr>\n",
              "      <th>1139</th>\n",
              "      <td>9267.514949</td>\n",
              "      <td>7</td>\n",
              "    </tr>\n",
              "  </tbody>\n",
              "</table>\n",
              "</div>"
            ],
            "text/plain": [
              "             Real  index\n",
              "1133  9239.900000      1\n",
              "1134  9100.000000      2\n",
              "1135  9073.200000      3\n",
              "1136  9147.700000      4\n",
              "1137  9084.284734      5\n",
              "1138  9361.100000      6\n",
              "1139  9267.514949      7"
            ]
          },
          "metadata": {
            "tags": []
          },
          "execution_count": 97
        }
      ]
    },
    {
      "cell_type": "code",
      "metadata": {
        "id": "b_grw7BKwi4A"
      },
      "source": [
        "# merge the prediction and actual data frames\n",
        "merge_july = merge_july.merge(y_pred_july, on='index', how='left')"
      ],
      "execution_count": 99,
      "outputs": []
    },
    {
      "cell_type": "code",
      "metadata": {
        "id": "SV8YXbxAwi4J",
        "outputId": "33fe1896-7d64-4664-f065-531ef13ec1d1",
        "colab": {
          "base_uri": "https://localhost:8080/",
          "height": 34
        }
      },
      "source": [
        "MSE = mean_squared_error(y_true = merge_july.Real, y_pred = merge_july['Linear Regression'])\n",
        "np.sqrt(MSE)"
      ],
      "execution_count": 101,
      "outputs": [
        {
          "output_type": "execute_result",
          "data": {
            "text/plain": [
              "127.55786750036722"
            ]
          },
          "metadata": {
            "tags": []
          },
          "execution_count": 101
        }
      ]
    },
    {
      "cell_type": "code",
      "metadata": {
        "id": "-N_Xgpj8wi4L",
        "outputId": "69fadff0-5a39-4855-f1a0-58add14eb912",
        "colab": {
          "base_uri": "https://localhost:8080/",
          "height": 34
        }
      },
      "source": [
        "# Calculate the r_square value for the linear model\n",
        "r_sq = model.score(x_train_july, y_train_july)\n",
        "print('coefficient of determination:', r_sq)"
      ],
      "execution_count": 102,
      "outputs": [
        {
          "output_type": "stream",
          "text": [
            "coefficient of determination: 0.8942229300571196\n"
          ],
          "name": "stdout"
        }
      ]
    },
    {
      "cell_type": "code",
      "metadata": {
        "id": "l4IDli7rwi4R",
        "outputId": "3f2a972a-8771-4c67-dd88-7bf41c4cae6b",
        "colab": {
          "base_uri": "https://localhost:8080/",
          "height": 638
        }
      },
      "source": [
        "# Plot the predicted vs actual in matplot lib\n",
        "import matplotlib.pyplot as plt\n",
        "plt.plot( 'index', 'Real', data=merge_july, marker='o', markerfacecolor='blue', markersize=12, color='skyblue', linewidth=4)\n",
        "plt.plot( 'index', 'Linear Regression', data=merge_july, marker='', color='olive', linewidth=2)\n",
        "plt.xticks(rotation='vertical')\n",
        "plt.legend()"
      ],
      "execution_count": 128,
      "outputs": [
        {
          "output_type": "error",
          "ename": "ValueError",
          "evalue": "ignored",
          "traceback": [
            "\u001b[0;31m---------------------------------------------------------------------------\u001b[0m",
            "\u001b[0;31mValueError\u001b[0m                                Traceback (most recent call last)",
            "\u001b[0;32m<ipython-input-128-a1364cbd7ce3>\u001b[0m in \u001b[0;36m<module>\u001b[0;34m()\u001b[0m\n\u001b[1;32m      1\u001b[0m \u001b[0;31m# Plot the predicted vs actual in matplot lib\u001b[0m\u001b[0;34m\u001b[0m\u001b[0;34m\u001b[0m\u001b[0;34m\u001b[0m\u001b[0m\n\u001b[1;32m      2\u001b[0m \u001b[0;32mimport\u001b[0m \u001b[0mmatplotlib\u001b[0m\u001b[0;34m.\u001b[0m\u001b[0mpyplot\u001b[0m \u001b[0;32mas\u001b[0m \u001b[0mplt\u001b[0m\u001b[0;34m\u001b[0m\u001b[0;34m\u001b[0m\u001b[0m\n\u001b[0;32m----> 3\u001b[0;31m \u001b[0mplt\u001b[0m\u001b[0;34m.\u001b[0m\u001b[0mplot\u001b[0m\u001b[0;34m(\u001b[0m \u001b[0;34m'index'\u001b[0m\u001b[0;34m,\u001b[0m \u001b[0;34m'Real'\u001b[0m\u001b[0;34m,\u001b[0m \u001b[0mdata\u001b[0m\u001b[0;34m=\u001b[0m\u001b[0mmerge_july\u001b[0m\u001b[0;34m,\u001b[0m \u001b[0mmarker\u001b[0m\u001b[0;34m=\u001b[0m\u001b[0;34m'o'\u001b[0m\u001b[0;34m,\u001b[0m \u001b[0mmarkerfacecolor\u001b[0m\u001b[0;34m=\u001b[0m\u001b[0;34m'blue'\u001b[0m\u001b[0;34m,\u001b[0m \u001b[0mmarkersize\u001b[0m\u001b[0;34m=\u001b[0m\u001b[0;36m12\u001b[0m\u001b[0;34m,\u001b[0m \u001b[0mcolor\u001b[0m\u001b[0;34m=\u001b[0m\u001b[0;34m'skyblue'\u001b[0m\u001b[0;34m,\u001b[0m \u001b[0mlinewidth\u001b[0m\u001b[0;34m=\u001b[0m\u001b[0;36m4\u001b[0m\u001b[0;34m)\u001b[0m\u001b[0;34m\u001b[0m\u001b[0;34m\u001b[0m\u001b[0m\n\u001b[0m\u001b[1;32m      4\u001b[0m \u001b[0mplt\u001b[0m\u001b[0;34m.\u001b[0m\u001b[0mplot\u001b[0m\u001b[0;34m(\u001b[0m \u001b[0;34m'index'\u001b[0m\u001b[0;34m,\u001b[0m \u001b[0;34m'Linear Regression'\u001b[0m\u001b[0;34m,\u001b[0m \u001b[0mdata\u001b[0m\u001b[0;34m=\u001b[0m\u001b[0mmerge_july\u001b[0m\u001b[0;34m,\u001b[0m \u001b[0mmarker\u001b[0m\u001b[0;34m=\u001b[0m\u001b[0;34m''\u001b[0m\u001b[0;34m,\u001b[0m \u001b[0mcolor\u001b[0m\u001b[0;34m=\u001b[0m\u001b[0;34m'olive'\u001b[0m\u001b[0;34m,\u001b[0m \u001b[0mlinewidth\u001b[0m\u001b[0;34m=\u001b[0m\u001b[0;36m2\u001b[0m\u001b[0;34m)\u001b[0m\u001b[0;34m\u001b[0m\u001b[0;34m\u001b[0m\u001b[0m\n\u001b[1;32m      5\u001b[0m \u001b[0mplt\u001b[0m\u001b[0;34m.\u001b[0m\u001b[0mxticks\u001b[0m\u001b[0;34m(\u001b[0m\u001b[0mrotation\u001b[0m\u001b[0;34m=\u001b[0m\u001b[0;34m'vertical'\u001b[0m\u001b[0;34m)\u001b[0m\u001b[0;34m\u001b[0m\u001b[0;34m\u001b[0m\u001b[0m\n",
            "\u001b[0;32m/usr/local/lib/python3.6/dist-packages/matplotlib/pyplot.py\u001b[0m in \u001b[0;36mplot\u001b[0;34m(scalex, scaley, data, *args, **kwargs)\u001b[0m\n\u001b[1;32m   2761\u001b[0m     return gca().plot(\n\u001b[1;32m   2762\u001b[0m         *args, scalex=scalex, scaley=scaley, **({\"data\": data} if data\n\u001b[0;32m-> 2763\u001b[0;31m         is not None else {}), **kwargs)\n\u001b[0m\u001b[1;32m   2764\u001b[0m \u001b[0;34m\u001b[0m\u001b[0m\n\u001b[1;32m   2765\u001b[0m \u001b[0;34m\u001b[0m\u001b[0m\n",
            "\u001b[0;32m/usr/local/lib/python3.6/dist-packages/matplotlib/axes/_axes.py\u001b[0m in \u001b[0;36mplot\u001b[0;34m(self, scalex, scaley, data, *args, **kwargs)\u001b[0m\n\u001b[1;32m   1645\u001b[0m         \"\"\"\n\u001b[1;32m   1646\u001b[0m         \u001b[0mkwargs\u001b[0m \u001b[0;34m=\u001b[0m \u001b[0mcbook\u001b[0m\u001b[0;34m.\u001b[0m\u001b[0mnormalize_kwargs\u001b[0m\u001b[0;34m(\u001b[0m\u001b[0mkwargs\u001b[0m\u001b[0;34m,\u001b[0m \u001b[0mmlines\u001b[0m\u001b[0;34m.\u001b[0m\u001b[0mLine2D\u001b[0m\u001b[0;34m)\u001b[0m\u001b[0;34m\u001b[0m\u001b[0;34m\u001b[0m\u001b[0m\n\u001b[0;32m-> 1647\u001b[0;31m         \u001b[0mlines\u001b[0m \u001b[0;34m=\u001b[0m \u001b[0;34m[\u001b[0m\u001b[0;34m*\u001b[0m\u001b[0mself\u001b[0m\u001b[0;34m.\u001b[0m\u001b[0m_get_lines\u001b[0m\u001b[0;34m(\u001b[0m\u001b[0;34m*\u001b[0m\u001b[0margs\u001b[0m\u001b[0;34m,\u001b[0m \u001b[0mdata\u001b[0m\u001b[0;34m=\u001b[0m\u001b[0mdata\u001b[0m\u001b[0;34m,\u001b[0m \u001b[0;34m**\u001b[0m\u001b[0mkwargs\u001b[0m\u001b[0;34m)\u001b[0m\u001b[0;34m]\u001b[0m\u001b[0;34m\u001b[0m\u001b[0;34m\u001b[0m\u001b[0m\n\u001b[0m\u001b[1;32m   1648\u001b[0m         \u001b[0;32mfor\u001b[0m \u001b[0mline\u001b[0m \u001b[0;32min\u001b[0m \u001b[0mlines\u001b[0m\u001b[0;34m:\u001b[0m\u001b[0;34m\u001b[0m\u001b[0;34m\u001b[0m\u001b[0m\n\u001b[1;32m   1649\u001b[0m             \u001b[0mself\u001b[0m\u001b[0;34m.\u001b[0m\u001b[0madd_line\u001b[0m\u001b[0;34m(\u001b[0m\u001b[0mline\u001b[0m\u001b[0;34m)\u001b[0m\u001b[0;34m\u001b[0m\u001b[0;34m\u001b[0m\u001b[0m\n",
            "\u001b[0;32m/usr/local/lib/python3.6/dist-packages/matplotlib/axes/_base.py\u001b[0m in \u001b[0;36m__call__\u001b[0;34m(self, *args, **kwargs)\u001b[0m\n\u001b[1;32m    214\u001b[0m                 \u001b[0mthis\u001b[0m \u001b[0;34m+=\u001b[0m \u001b[0margs\u001b[0m\u001b[0;34m[\u001b[0m\u001b[0;36m0\u001b[0m\u001b[0;34m]\u001b[0m\u001b[0;34m,\u001b[0m\u001b[0;34m\u001b[0m\u001b[0;34m\u001b[0m\u001b[0m\n\u001b[1;32m    215\u001b[0m                 \u001b[0margs\u001b[0m \u001b[0;34m=\u001b[0m \u001b[0margs\u001b[0m\u001b[0;34m[\u001b[0m\u001b[0;36m1\u001b[0m\u001b[0;34m:\u001b[0m\u001b[0;34m]\u001b[0m\u001b[0;34m\u001b[0m\u001b[0;34m\u001b[0m\u001b[0m\n\u001b[0;32m--> 216\u001b[0;31m             \u001b[0;32myield\u001b[0m \u001b[0;32mfrom\u001b[0m \u001b[0mself\u001b[0m\u001b[0;34m.\u001b[0m\u001b[0m_plot_args\u001b[0m\u001b[0;34m(\u001b[0m\u001b[0mthis\u001b[0m\u001b[0;34m,\u001b[0m \u001b[0mkwargs\u001b[0m\u001b[0;34m)\u001b[0m\u001b[0;34m\u001b[0m\u001b[0;34m\u001b[0m\u001b[0m\n\u001b[0m\u001b[1;32m    217\u001b[0m \u001b[0;34m\u001b[0m\u001b[0m\n\u001b[1;32m    218\u001b[0m     \u001b[0;32mdef\u001b[0m \u001b[0mget_next_color\u001b[0m\u001b[0;34m(\u001b[0m\u001b[0mself\u001b[0m\u001b[0;34m)\u001b[0m\u001b[0;34m:\u001b[0m\u001b[0;34m\u001b[0m\u001b[0;34m\u001b[0m\u001b[0m\n",
            "\u001b[0;32m/usr/local/lib/python3.6/dist-packages/matplotlib/axes/_base.py\u001b[0m in \u001b[0;36m_plot_args\u001b[0;34m(self, tup, kwargs)\u001b[0m\n\u001b[1;32m    340\u001b[0m \u001b[0;34m\u001b[0m\u001b[0m\n\u001b[1;32m    341\u001b[0m         \u001b[0;32mif\u001b[0m \u001b[0mx\u001b[0m\u001b[0;34m.\u001b[0m\u001b[0mshape\u001b[0m\u001b[0;34m[\u001b[0m\u001b[0;36m0\u001b[0m\u001b[0;34m]\u001b[0m \u001b[0;34m!=\u001b[0m \u001b[0my\u001b[0m\u001b[0;34m.\u001b[0m\u001b[0mshape\u001b[0m\u001b[0;34m[\u001b[0m\u001b[0;36m0\u001b[0m\u001b[0;34m]\u001b[0m\u001b[0;34m:\u001b[0m\u001b[0;34m\u001b[0m\u001b[0;34m\u001b[0m\u001b[0m\n\u001b[0;32m--> 342\u001b[0;31m             raise ValueError(f\"x and y must have same first dimension, but \"\n\u001b[0m\u001b[1;32m    343\u001b[0m                              f\"have shapes {x.shape} and {y.shape}\")\n\u001b[1;32m    344\u001b[0m         \u001b[0;32mif\u001b[0m \u001b[0mx\u001b[0m\u001b[0;34m.\u001b[0m\u001b[0mndim\u001b[0m \u001b[0;34m>\u001b[0m \u001b[0;36m2\u001b[0m \u001b[0;32mor\u001b[0m \u001b[0my\u001b[0m\u001b[0;34m.\u001b[0m\u001b[0mndim\u001b[0m \u001b[0;34m>\u001b[0m \u001b[0;36m2\u001b[0m\u001b[0;34m:\u001b[0m\u001b[0;34m\u001b[0m\u001b[0;34m\u001b[0m\u001b[0m\n",
            "\u001b[0;31mValueError\u001b[0m: x and y must have same first dimension, but have shapes (1,) and (7,)"
          ]
        },
        {
          "output_type": "display_data",
          "data": {
            "image/png": "[encoded data removed]",
            "text/plain": [
              "<Figure size 432x288 with 1 Axes>"
            ]
          },
          "metadata": {
            "tags": [],
            "needs_background": "light"
          }
        }
      ]
    },
    {
      "cell_type": "markdown",
      "metadata": {
        "id": "y5KT3m0S4w-P"
      },
      "source": [
        "# Lasso Regression - July"
      ]
    },
    {
      "cell_type": "code",
      "metadata": {
        "id": "CRiGfTY04w-Y"
      },
      "source": [
        "from sklearn.linear_model import Lasso\n",
        "from sklearn.model_selection import GridSearchCV\n",
        "\n",
        "lasso = Lasso()"
      ],
      "execution_count": null,
      "outputs": []
    },
    {
      "cell_type": "code",
      "metadata": {
        "id": "rcCbQ2uX4w-j"
      },
      "source": [
        "params = {'alpha': [1e-15, 1e-10, 1e-8, 1e-4, 1e-3, 1e-2, 1, 5, 10, 20]}"
      ],
      "execution_count": null,
      "outputs": []
    },
    {
      "cell_type": "code",
      "metadata": {
        "id": "g3UNNgT74w-s"
      },
      "source": [
        "lasso_regressor = GridSearchCV(lasso, params, scoring = 'neg_mean_squared_error', cv=5)"
      ],
      "execution_count": null,
      "outputs": []
    },
    {
      "cell_type": "code",
      "metadata": {
        "id": "sYmA2BgN4w-y"
      },
      "source": [
        "lasso = lasso_regressor.fit(x_train_july, y_train_july)"
      ],
      "execution_count": null,
      "outputs": []
    },
    {
      "cell_type": "code",
      "metadata": {
        "id": "YncerhZ44w-3",
        "outputId": "09e20894-0bf8-4fb1-d585-9e460a69cf06",
        "colab": {
          "base_uri": "https://localhost:8080/"
        }
      },
      "source": [
        "print(lasso.best_params_)"
      ],
      "execution_count": null,
      "outputs": [
        {
          "output_type": "stream",
          "text": [
            "{'alpha': 1e-15}\n"
          ],
          "name": "stdout"
        }
      ]
    },
    {
      "cell_type": "code",
      "metadata": {
        "id": "kpvmeHLC4w-8",
        "outputId": "7c120047-0331-49cb-8ab3-de63fd17512f",
        "colab": {
          "base_uri": "https://localhost:8080/"
        }
      },
      "source": [
        "print(lasso.best_score_)"
      ],
      "execution_count": null,
      "outputs": [
        {
          "output_type": "stream",
          "text": [
            "-997010.4666424043\n"
          ],
          "name": "stdout"
        }
      ]
    },
    {
      "cell_type": "code",
      "metadata": {
        "id": "_Fd56mmU4w_D"
      },
      "source": [
        "# Predict the model on the x_test data\n",
        "y_pred_july_lasso = pd.DataFrame(lasso.predict(x_test_july))\n",
        "y_pred_july_lasso['index'] = range(1,8)"
      ],
      "execution_count": null,
      "outputs": []
    },
    {
      "cell_type": "code",
      "metadata": {
        "id": "N53OKcrh4w_K"
      },
      "source": [
        "# merge the prediction and actual data frames\n",
        "merge_july = merge_july.merge(y_pred_july_lasso, on='index', how='left')"
      ],
      "execution_count": null,
      "outputs": []
    },
    {
      "cell_type": "code",
      "metadata": {
        "id": "zbIsU2-l4w_X"
      },
      "source": [
        "merge_july.columns = ['lm_prediction', 'index', 'real', 'lasso_prediction']"
      ],
      "execution_count": null,
      "outputs": []
    },
    {
      "cell_type": "code",
      "metadata": {
        "id": "irHacil04w_t",
        "outputId": "af208a33-f91f-439d-c07f-f0d9cb397cd2",
        "colab": {
          "base_uri": "https://localhost:8080/"
        }
      },
      "source": [
        "MSE = mean_squared_error(y_true = merge_july.real, y_pred = merge_july.lasso_prediction)\n",
        "np.sqrt(MSE)"
      ],
      "execution_count": null,
      "outputs": [
        {
          "output_type": "execute_result",
          "data": {
            "text/plain": [
              "127.57497646038792"
            ]
          },
          "metadata": {
            "tags": []
          },
          "execution_count": 103
        }
      ]
    },
    {
      "cell_type": "code",
      "metadata": {
        "id": "v0OMJPDR4w_5",
        "outputId": "baa4581c-1e5a-4086-bff8-cb76d01991a9",
        "colab": {
          "base_uri": "https://localhost:8080/"
        }
      },
      "source": [
        "# Plot the predicted vs actual in matplot lib\n",
        "import matplotlib.pyplot as plt\n",
        "plt.plot( 'index', 'real', data=merge_july, marker='o', markerfacecolor='blue', markersize=12, color='skyblue', linewidth=4)\n",
        "plt.plot( 'index', 'lm_prediction', data=merge_july, marker='', color='olive', linewidth=2)\n",
        "plt.plot( 'index', 'lasso_prediction', data=merge_july, marker='', color='red', linewidth=2)\n",
        "plt.xticks(rotation='vertical')\n",
        "plt.legend()"
      ],
      "execution_count": null,
      "outputs": [
        {
          "output_type": "execute_result",
          "data": {
            "text/plain": [
              "<matplotlib.legend.Legend at 0x7f38d8260080>"
            ]
          },
          "metadata": {
            "tags": []
          },
          "execution_count": 104
        },
        {
          "output_type": "display_data",
          "data": {
            "image/png": "[encoded data removed]",
            "text/plain": [
              "<Figure size 1440x720 with 1 Axes>"
            ]
          },
          "metadata": {
            "tags": []
          }
        }
      ]
    },
    {
      "cell_type": "markdown",
      "metadata": {
        "id": "AIxd-aXGiVgV"
      },
      "source": [
        "# Support Vector Regression - July"
      ]
    },
    {
      "cell_type": "code",
      "metadata": {
        "id": "Hrih_EZriVgY"
      },
      "source": [
        "# Import the algorithm package\n",
        "from sklearn.svm import SVR\n",
        "from sklearn.pipeline import make_pipeline\n",
        "from sklearn.preprocessing import StandardScaler"
      ],
      "execution_count": 104,
      "outputs": []
    },
    {
      "cell_type": "code",
      "metadata": {
        "id": "fJ3RjUcfiVgb"
      },
      "source": [
        "y_train_july = pd.DataFrame(y_train_july)"
      ],
      "execution_count": 105,
      "outputs": []
    },
    {
      "cell_type": "code",
      "metadata": {
        "id": "jIAT5eSTiVgg"
      },
      "source": [
        "#3 Feature Scaling\n",
        "sc_X = StandardScaler()\n",
        "sc_y = StandardScaler()\n",
        "X = sc_X.fit_transform(x_train_july)\n",
        "y = sc_y.fit_transform(y_train_july)"
      ],
      "execution_count": 106,
      "outputs": []
    },
    {
      "cell_type": "code",
      "metadata": {
        "id": "UMQzYTM6iVgi"
      },
      "source": [
        "y = y[:, 0]"
      ],
      "execution_count": 107,
      "outputs": []
    },
    {
      "cell_type": "code",
      "metadata": {
        "id": "4SyMGtitiVgk"
      },
      "source": [
        "# Load the SVR and fit\n",
        "#svr = SVR(kernel='poly')\n",
        "svr_regressor = SVR(kernel = 'rbf')\n",
        "SVR_reg = svr_regressor.fit(X, y)"
      ],
      "execution_count": 108,
      "outputs": []
    },
    {
      "cell_type": "code",
      "metadata": {
        "id": "c6i-mX6GiVgm"
      },
      "source": [
        "# Predict the model on the x_test data\n",
        "x_test_july = sc_X.fit_transform(x_test_july)\n",
        "\n",
        "y_pred_july_svr = SVR_reg.predict(x_test_july)\n",
        "y_pred_july_svr = sc_y.inverse_transform(y_pred_july_svr) \n",
        "\n",
        "\n",
        "y_pred_july_svr = pd.DataFrame(y_pred_july_svr)\n",
        "y_pred_july_svr['index'] = range(1,8)"
      ],
      "execution_count": 109,
      "outputs": []
    },
    {
      "cell_type": "code",
      "metadata": {
        "id": "AbQZwak2iVgq"
      },
      "source": [
        "# merge the prediction and actual data frames\n",
        "merge_july = merge_july.merge(y_pred_july_svr, on='index', how='left')"
      ],
      "execution_count": 111,
      "outputs": []
    },
    {
      "cell_type": "code",
      "metadata": {
        "id": "VeLyNrfMm4G9"
      },
      "source": [
        "merge_july.columns = ['Real', 'Index', 'Random Forest', 'Linear Regression', 'Support Vector Regression']"
      ],
      "execution_count": 116,
      "outputs": []
    },
    {
      "cell_type": "code",
      "metadata": {
        "id": "L3NnAr-dlQmn"
      },
      "source": [
        "#merge_july['Average'] = (merge_july['lm_prediction'] + merge_july['random_forest'])/2"
      ],
      "execution_count": 126,
      "outputs": []
    },
    {
      "cell_type": "code",
      "metadata": {
        "id": "7h_d5dLCiVgw",
        "outputId": "ade4a15b-9502-49d2-9a9d-38bcb6e72a0b",
        "colab": {
          "base_uri": "https://localhost:8080/",
          "height": 638
        }
      },
      "source": [
        "# Plot the predicted vs actual in matplot lib\n",
        "import matplotlib.pyplot as plt\n",
        "plt.plot( 'index', 'Real', data=merge_july, marker='o', markerfacecolor='blue', markersize=12, color='skyblue', linewidth=4)\n",
        "plt.plot( 'index', 'Support Vector Regression', data=merge_july, marker='', color='olive', linewidth=2)\n",
        "plt.xticks(rotation='vertical')\n",
        "plt.legend()"
      ],
      "execution_count": 130,
      "outputs": [
        {
          "output_type": "error",
          "ename": "ValueError",
          "evalue": "ignored",
          "traceback": [
            "\u001b[0;31m---------------------------------------------------------------------------\u001b[0m",
            "\u001b[0;31mValueError\u001b[0m                                Traceback (most recent call last)",
            "\u001b[0;32m<ipython-input-130-3b5a6c1eb788>\u001b[0m in \u001b[0;36m<module>\u001b[0;34m()\u001b[0m\n\u001b[1;32m      1\u001b[0m \u001b[0;31m# Plot the predicted vs actual in matplot lib\u001b[0m\u001b[0;34m\u001b[0m\u001b[0;34m\u001b[0m\u001b[0;34m\u001b[0m\u001b[0m\n\u001b[1;32m      2\u001b[0m \u001b[0;32mimport\u001b[0m \u001b[0mmatplotlib\u001b[0m\u001b[0;34m.\u001b[0m\u001b[0mpyplot\u001b[0m \u001b[0;32mas\u001b[0m \u001b[0mplt\u001b[0m\u001b[0;34m\u001b[0m\u001b[0;34m\u001b[0m\u001b[0m\n\u001b[0;32m----> 3\u001b[0;31m \u001b[0mplt\u001b[0m\u001b[0;34m.\u001b[0m\u001b[0mplot\u001b[0m\u001b[0;34m(\u001b[0m \u001b[0;34m'index'\u001b[0m\u001b[0;34m,\u001b[0m \u001b[0;34m'Real'\u001b[0m\u001b[0;34m,\u001b[0m \u001b[0mdata\u001b[0m\u001b[0;34m=\u001b[0m\u001b[0mmerge_july\u001b[0m\u001b[0;34m,\u001b[0m \u001b[0mmarker\u001b[0m\u001b[0;34m=\u001b[0m\u001b[0;34m'o'\u001b[0m\u001b[0;34m,\u001b[0m \u001b[0mmarkerfacecolor\u001b[0m\u001b[0;34m=\u001b[0m\u001b[0;34m'blue'\u001b[0m\u001b[0;34m,\u001b[0m \u001b[0mmarkersize\u001b[0m\u001b[0;34m=\u001b[0m\u001b[0;36m12\u001b[0m\u001b[0;34m,\u001b[0m \u001b[0mcolor\u001b[0m\u001b[0;34m=\u001b[0m\u001b[0;34m'skyblue'\u001b[0m\u001b[0;34m,\u001b[0m \u001b[0mlinewidth\u001b[0m\u001b[0;34m=\u001b[0m\u001b[0;36m4\u001b[0m\u001b[0;34m)\u001b[0m\u001b[0;34m\u001b[0m\u001b[0;34m\u001b[0m\u001b[0m\n\u001b[0m\u001b[1;32m      4\u001b[0m \u001b[0mplt\u001b[0m\u001b[0;34m.\u001b[0m\u001b[0mplot\u001b[0m\u001b[0;34m(\u001b[0m \u001b[0;34m'index'\u001b[0m\u001b[0;34m,\u001b[0m \u001b[0;34m'Support Vector Regression'\u001b[0m\u001b[0;34m,\u001b[0m \u001b[0mdata\u001b[0m\u001b[0;34m=\u001b[0m\u001b[0mmerge_july\u001b[0m\u001b[0;34m,\u001b[0m \u001b[0mmarker\u001b[0m\u001b[0;34m=\u001b[0m\u001b[0;34m''\u001b[0m\u001b[0;34m,\u001b[0m \u001b[0mcolor\u001b[0m\u001b[0;34m=\u001b[0m\u001b[0;34m'olive'\u001b[0m\u001b[0;34m,\u001b[0m \u001b[0mlinewidth\u001b[0m\u001b[0;34m=\u001b[0m\u001b[0;36m2\u001b[0m\u001b[0;34m)\u001b[0m\u001b[0;34m\u001b[0m\u001b[0;34m\u001b[0m\u001b[0m\n\u001b[1;32m      5\u001b[0m \u001b[0mplt\u001b[0m\u001b[0;34m.\u001b[0m\u001b[0mxticks\u001b[0m\u001b[0;34m(\u001b[0m\u001b[0mrotation\u001b[0m\u001b[0;34m=\u001b[0m\u001b[0;34m'vertical'\u001b[0m\u001b[0;34m)\u001b[0m\u001b[0;34m\u001b[0m\u001b[0;34m\u001b[0m\u001b[0m\n",
            "\u001b[0;32m/usr/local/lib/python3.6/dist-packages/matplotlib/pyplot.py\u001b[0m in \u001b[0;36mplot\u001b[0;34m(scalex, scaley, data, *args, **kwargs)\u001b[0m\n\u001b[1;32m   2761\u001b[0m     return gca().plot(\n\u001b[1;32m   2762\u001b[0m         *args, scalex=scalex, scaley=scaley, **({\"data\": data} if data\n\u001b[0;32m-> 2763\u001b[0;31m         is not None else {}), **kwargs)\n\u001b[0m\u001b[1;32m   2764\u001b[0m \u001b[0;34m\u001b[0m\u001b[0m\n\u001b[1;32m   2765\u001b[0m \u001b[0;34m\u001b[0m\u001b[0m\n",
            "\u001b[0;32m/usr/local/lib/python3.6/dist-packages/matplotlib/axes/_axes.py\u001b[0m in \u001b[0;36mplot\u001b[0;34m(self, scalex, scaley, data, *args, **kwargs)\u001b[0m\n\u001b[1;32m   1645\u001b[0m         \"\"\"\n\u001b[1;32m   1646\u001b[0m         \u001b[0mkwargs\u001b[0m \u001b[0;34m=\u001b[0m \u001b[0mcbook\u001b[0m\u001b[0;34m.\u001b[0m\u001b[0mnormalize_kwargs\u001b[0m\u001b[0;34m(\u001b[0m\u001b[0mkwargs\u001b[0m\u001b[0;34m,\u001b[0m \u001b[0mmlines\u001b[0m\u001b[0;34m.\u001b[0m\u001b[0mLine2D\u001b[0m\u001b[0;34m)\u001b[0m\u001b[0;34m\u001b[0m\u001b[0;34m\u001b[0m\u001b[0m\n\u001b[0;32m-> 1647\u001b[0;31m         \u001b[0mlines\u001b[0m \u001b[0;34m=\u001b[0m \u001b[0;34m[\u001b[0m\u001b[0;34m*\u001b[0m\u001b[0mself\u001b[0m\u001b[0;34m.\u001b[0m\u001b[0m_get_lines\u001b[0m\u001b[0;34m(\u001b[0m\u001b[0;34m*\u001b[0m\u001b[0margs\u001b[0m\u001b[0;34m,\u001b[0m \u001b[0mdata\u001b[0m\u001b[0;34m=\u001b[0m\u001b[0mdata\u001b[0m\u001b[0;34m,\u001b[0m \u001b[0;34m**\u001b[0m\u001b[0mkwargs\u001b[0m\u001b[0;34m)\u001b[0m\u001b[0;34m]\u001b[0m\u001b[0;34m\u001b[0m\u001b[0;34m\u001b[0m\u001b[0m\n\u001b[0m\u001b[1;32m   1648\u001b[0m         \u001b[0;32mfor\u001b[0m \u001b[0mline\u001b[0m \u001b[0;32min\u001b[0m \u001b[0mlines\u001b[0m\u001b[0;34m:\u001b[0m\u001b[0;34m\u001b[0m\u001b[0;34m\u001b[0m\u001b[0m\n\u001b[1;32m   1649\u001b[0m             \u001b[0mself\u001b[0m\u001b[0;34m.\u001b[0m\u001b[0madd_line\u001b[0m\u001b[0;34m(\u001b[0m\u001b[0mline\u001b[0m\u001b[0;34m)\u001b[0m\u001b[0;34m\u001b[0m\u001b[0;34m\u001b[0m\u001b[0m\n",
            "\u001b[0;32m/usr/local/lib/python3.6/dist-packages/matplotlib/axes/_base.py\u001b[0m in \u001b[0;36m__call__\u001b[0;34m(self, *args, **kwargs)\u001b[0m\n\u001b[1;32m    214\u001b[0m                 \u001b[0mthis\u001b[0m \u001b[0;34m+=\u001b[0m \u001b[0margs\u001b[0m\u001b[0;34m[\u001b[0m\u001b[0;36m0\u001b[0m\u001b[0;34m]\u001b[0m\u001b[0;34m,\u001b[0m\u001b[0;34m\u001b[0m\u001b[0;34m\u001b[0m\u001b[0m\n\u001b[1;32m    215\u001b[0m                 \u001b[0margs\u001b[0m \u001b[0;34m=\u001b[0m \u001b[0margs\u001b[0m\u001b[0;34m[\u001b[0m\u001b[0;36m1\u001b[0m\u001b[0;34m:\u001b[0m\u001b[0;34m]\u001b[0m\u001b[0;34m\u001b[0m\u001b[0;34m\u001b[0m\u001b[0m\n\u001b[0;32m--> 216\u001b[0;31m             \u001b[0;32myield\u001b[0m \u001b[0;32mfrom\u001b[0m \u001b[0mself\u001b[0m\u001b[0;34m.\u001b[0m\u001b[0m_plot_args\u001b[0m\u001b[0;34m(\u001b[0m\u001b[0mthis\u001b[0m\u001b[0;34m,\u001b[0m \u001b[0mkwargs\u001b[0m\u001b[0;34m)\u001b[0m\u001b[0;34m\u001b[0m\u001b[0;34m\u001b[0m\u001b[0m\n\u001b[0m\u001b[1;32m    217\u001b[0m \u001b[0;34m\u001b[0m\u001b[0m\n\u001b[1;32m    218\u001b[0m     \u001b[0;32mdef\u001b[0m \u001b[0mget_next_color\u001b[0m\u001b[0;34m(\u001b[0m\u001b[0mself\u001b[0m\u001b[0;34m)\u001b[0m\u001b[0;34m:\u001b[0m\u001b[0;34m\u001b[0m\u001b[0;34m\u001b[0m\u001b[0m\n",
            "\u001b[0;32m/usr/local/lib/python3.6/dist-packages/matplotlib/axes/_base.py\u001b[0m in \u001b[0;36m_plot_args\u001b[0;34m(self, tup, kwargs)\u001b[0m\n\u001b[1;32m    340\u001b[0m \u001b[0;34m\u001b[0m\u001b[0m\n\u001b[1;32m    341\u001b[0m         \u001b[0;32mif\u001b[0m \u001b[0mx\u001b[0m\u001b[0;34m.\u001b[0m\u001b[0mshape\u001b[0m\u001b[0;34m[\u001b[0m\u001b[0;36m0\u001b[0m\u001b[0;34m]\u001b[0m \u001b[0;34m!=\u001b[0m \u001b[0my\u001b[0m\u001b[0;34m.\u001b[0m\u001b[0mshape\u001b[0m\u001b[0;34m[\u001b[0m\u001b[0;36m0\u001b[0m\u001b[0;34m]\u001b[0m\u001b[0;34m:\u001b[0m\u001b[0;34m\u001b[0m\u001b[0;34m\u001b[0m\u001b[0m\n\u001b[0;32m--> 342\u001b[0;31m             raise ValueError(f\"x and y must have same first dimension, but \"\n\u001b[0m\u001b[1;32m    343\u001b[0m                              f\"have shapes {x.shape} and {y.shape}\")\n\u001b[1;32m    344\u001b[0m         \u001b[0;32mif\u001b[0m \u001b[0mx\u001b[0m\u001b[0;34m.\u001b[0m\u001b[0mndim\u001b[0m \u001b[0;34m>\u001b[0m \u001b[0;36m2\u001b[0m \u001b[0;32mor\u001b[0m \u001b[0my\u001b[0m\u001b[0;34m.\u001b[0m\u001b[0mndim\u001b[0m \u001b[0;34m>\u001b[0m \u001b[0;36m2\u001b[0m\u001b[0;34m:\u001b[0m\u001b[0;34m\u001b[0m\u001b[0;34m\u001b[0m\u001b[0m\n",
            "\u001b[0;31mValueError\u001b[0m: x and y must have same first dimension, but have shapes (1,) and (7,)"
          ]
        },
        {
          "output_type": "display_data",
          "data": {
            "image/png": "[encoded data removed]",
            "text/plain": [
              "<Figure size 432x288 with 1 Axes>"
            ]
          },
          "metadata": {
            "tags": [],
            "needs_background": "light"
          }
        }
      ]
    },
    {
      "cell_type": "markdown",
      "metadata": {
        "id": "8E3z4VWQgJcC"
      },
      "source": [
        "# Vanilla Neural Network - July\n",
        "\n"
      ]
    },
    {
      "cell_type": "code",
      "metadata": {
        "id": "WUZCet7wgJcJ"
      },
      "source": [
        "%tensorflow_version 2.x"
      ],
      "execution_count": null,
      "outputs": []
    },
    {
      "cell_type": "code",
      "metadata": {
        "id": "s1-7r2QcgJcP"
      },
      "source": [
        "import tensorflow as tf\n",
        "import numpy as np\n",
        "from sklearn.preprocessing import scale\n",
        "from sklearn.preprocessing import StandardScaler"
      ],
      "execution_count": null,
      "outputs": []
    },
    {
      "cell_type": "code",
      "metadata": {
        "id": "N2QHbqD-gJcR"
      },
      "source": [
        "# Standardise the two data sets as a neural network requires standardised data\n",
        "\n",
        "scaled_X_train = scale(x_train_july)\n",
        "scaled_X_test = scale(x_test_july)\n",
        "scaled_y_train = scale(y_train_july)\n",
        "scaled_y_test = scale(y_test_july)"
      ],
      "execution_count": null,
      "outputs": []
    },
    {
      "cell_type": "code",
      "metadata": {
        "id": "og7iKxdQgJcT"
      },
      "source": [
        "# Set the seed for the modelling exercises in order to get reproducible results\n",
        "\n",
        "tf.random.set_seed(168)\n",
        "np.random.seed(168)"
      ],
      "execution_count": null,
      "outputs": []
    },
    {
      "cell_type": "code",
      "metadata": {
        "id": "ePhBH3fXgJcV"
      },
      "source": [
        "from tensorflow.keras.layers import Dense, Dropout"
      ],
      "execution_count": null,
      "outputs": []
    },
    {
      "cell_type": "code",
      "metadata": {
        "id": "FU8xu8R0gJcY"
      },
      "source": [
        "# Create a sequential model \n",
        "\n",
        "model = tf.keras.Sequential()"
      ],
      "execution_count": null,
      "outputs": []
    },
    {
      "cell_type": "code",
      "metadata": {
        "id": "LomSCY1FgJcZ"
      },
      "source": [
        "# create the architecture for the neural network\n",
        "\n",
        "layer1 = Dense(512, activation='relu', input_shape=[9])\n",
        "\n",
        "layer2 = Dense(512, activation='relu')\n",
        "\n",
        "layer3 = Dense(512, activation='relu')\n",
        "\n",
        "layer4 = Dense(512, activation='relu')\n",
        "\n",
        "#layer5 = Dense(512, activation='relu')\n",
        "\n",
        "top_layer = Dense(1)"
      ],
      "execution_count": null,
      "outputs": []
    },
    {
      "cell_type": "code",
      "metadata": {
        "id": "mIsebQBsgJcd"
      },
      "source": [
        "# Add the layers into the model\n",
        "\n",
        "model.add(layer1)\n",
        "model.add(Dropout(0.5))\n",
        "model.add(layer2)\n",
        "model.add(Dropout(0.5))\n",
        "model.add(layer3)\n",
        "model.add(Dropout(0.5))\n",
        "model.add(layer4)\n",
        "model.add(Dropout(0.5))\n",
        "#model.add(layer5)\n",
        "#model.add(Dropout(0.5))\n",
        "model.add(top_layer)"
      ],
      "execution_count": null,
      "outputs": []
    },
    {
      "cell_type": "code",
      "metadata": {
        "id": "SHNNq-dvgJcf"
      },
      "source": [
        "# Specify the optimizer to be used during the back propgation\n",
        "optimizer = tf.keras.optimizers.Adam(0.0001)"
      ],
      "execution_count": null,
      "outputs": []
    },
    {
      "cell_type": "code",
      "metadata": {
        "id": "95VkYG43gJcg"
      },
      "source": [
        "# Compile the model architecture\n",
        "\n",
        "model.compile(loss='mean_squared_error', optimizer=optimizer)"
      ],
      "execution_count": null,
      "outputs": []
    },
    {
      "cell_type": "code",
      "metadata": {
        "id": "0WSmgxaegJci",
        "outputId": "a468b37f-934e-4401-f2cb-fc2b5c04baa8",
        "colab": {
          "base_uri": "https://localhost:8080/",
          "height": 478
        }
      },
      "source": [
        "# Print a summary of the model\n",
        "model.summary()"
      ],
      "execution_count": null,
      "outputs": [
        {
          "output_type": "stream",
          "text": [
            "Model: \"sequential_21\"\n",
            "_________________________________________________________________\n",
            "Layer (type)                 Output Shape              Param #   \n",
            "=================================================================\n",
            "dense_100 (Dense)            (None, 512)               5120      \n",
            "_________________________________________________________________\n",
            "dropout_39 (Dropout)         (None, 512)               0         \n",
            "_________________________________________________________________\n",
            "dense_101 (Dense)            (None, 512)               262656    \n",
            "_________________________________________________________________\n",
            "dropout_40 (Dropout)         (None, 512)               0         \n",
            "_________________________________________________________________\n",
            "dense_102 (Dense)            (None, 512)               262656    \n",
            "_________________________________________________________________\n",
            "dropout_41 (Dropout)         (None, 512)               0         \n",
            "_________________________________________________________________\n",
            "dense_103 (Dense)            (None, 512)               262656    \n",
            "_________________________________________________________________\n",
            "dropout_42 (Dropout)         (None, 512)               0         \n",
            "_________________________________________________________________\n",
            "dense_104 (Dense)            (None, 1)                 513       \n",
            "=================================================================\n",
            "Total params: 793,601\n",
            "Trainable params: 793,601\n",
            "Non-trainable params: 0\n",
            "_________________________________________________________________\n"
          ],
          "name": "stdout"
        }
      ]
    },
    {
      "cell_type": "code",
      "metadata": {
        "id": "5dbrT-vsgJcl",
        "outputId": "24a1c88c-f5b5-458f-c660-38908fca3ab8",
        "colab": {
          "base_uri": "https://localhost:8080/",
          "height": 1000
        }
      },
      "source": [
        "history = model.fit(scaled_X_train, y_train_july, epochs=200, validation_split = 0.2)"
      ],
      "execution_count": null,
      "outputs": [
        {
          "output_type": "stream",
          "text": [
            "Epoch 1/200\n",
            "29/29 [==============================] - 0s 9ms/step - loss: 59912436.0000 - val_loss: 69679960.0000\n",
            "Epoch 2/200\n",
            "29/29 [==============================] - 0s 4ms/step - loss: 59853984.0000 - val_loss: 69594336.0000\n",
            "Epoch 3/200\n",
            "29/29 [==============================] - 0s 5ms/step - loss: 59548204.0000 - val_loss: 69056224.0000\n",
            "Epoch 4/200\n",
            "29/29 [==============================] - 0s 4ms/step - loss: 57888708.0000 - val_loss: 66409248.0000\n",
            "Epoch 5/200\n",
            "29/29 [==============================] - 0s 5ms/step - loss: 51350244.0000 - val_loss: 57654672.0000\n",
            "Epoch 6/200\n",
            "29/29 [==============================] - 0s 5ms/step - loss: 35856768.0000 - val_loss: 38610940.0000\n",
            "Epoch 7/200\n",
            "29/29 [==============================] - 0s 4ms/step - loss: 19950588.0000 - val_loss: 18352114.0000\n",
            "Epoch 8/200\n",
            "29/29 [==============================] - 0s 5ms/step - loss: 15072113.0000 - val_loss: 9811675.0000\n",
            "Epoch 9/200\n",
            "29/29 [==============================] - 0s 4ms/step - loss: 12263791.0000 - val_loss: 4805364.0000\n",
            "Epoch 10/200\n",
            "29/29 [==============================] - 0s 5ms/step - loss: 10422431.0000 - val_loss: 2671910.2500\n",
            "Epoch 11/200\n",
            "29/29 [==============================] - 0s 5ms/step - loss: 9019881.0000 - val_loss: 1958495.7500\n",
            "Epoch 12/200\n",
            "29/29 [==============================] - 0s 5ms/step - loss: 8362296.0000 - val_loss: 1827236.2500\n",
            "Epoch 13/200\n",
            "29/29 [==============================] - 0s 5ms/step - loss: 7695071.5000 - val_loss: 1953717.2500\n",
            "Epoch 14/200\n",
            "29/29 [==============================] - 0s 5ms/step - loss: 6851605.0000 - val_loss: 2125633.7500\n",
            "Epoch 15/200\n",
            "29/29 [==============================] - 0s 5ms/step - loss: 6771302.5000 - val_loss: 2403032.5000\n",
            "Epoch 16/200\n",
            "29/29 [==============================] - 0s 5ms/step - loss: 6464302.0000 - val_loss: 2395945.0000\n",
            "Epoch 17/200\n",
            "29/29 [==============================] - 0s 5ms/step - loss: 6388796.5000 - val_loss: 2597427.5000\n",
            "Epoch 18/200\n",
            "29/29 [==============================] - 0s 4ms/step - loss: 5917218.5000 - val_loss: 2714616.7500\n",
            "Epoch 19/200\n",
            "29/29 [==============================] - 0s 5ms/step - loss: 5719297.5000 - val_loss: 2900549.0000\n",
            "Epoch 20/200\n",
            "29/29 [==============================] - 0s 5ms/step - loss: 5551944.0000 - val_loss: 2493036.0000\n",
            "Epoch 21/200\n",
            "29/29 [==============================] - 0s 4ms/step - loss: 5394714.0000 - val_loss: 2544572.5000\n",
            "Epoch 22/200\n",
            "29/29 [==============================] - 0s 5ms/step - loss: 4868425.0000 - val_loss: 2480638.7500\n",
            "Epoch 23/200\n",
            "29/29 [==============================] - 0s 5ms/step - loss: 4798012.0000 - val_loss: 2348874.2500\n",
            "Epoch 24/200\n",
            "29/29 [==============================] - 0s 5ms/step - loss: 4860079.0000 - val_loss: 2349433.7500\n",
            "Epoch 25/200\n",
            "29/29 [==============================] - 0s 5ms/step - loss: 4819680.5000 - val_loss: 2041391.1250\n",
            "Epoch 26/200\n",
            "29/29 [==============================] - 0s 5ms/step - loss: 4871143.0000 - val_loss: 2186339.7500\n",
            "Epoch 27/200\n",
            "29/29 [==============================] - 0s 5ms/step - loss: 4695392.5000 - val_loss: 2176917.2500\n",
            "Epoch 28/200\n",
            "29/29 [==============================] - 0s 5ms/step - loss: 4428488.0000 - val_loss: 2134182.2500\n",
            "Epoch 29/200\n",
            "29/29 [==============================] - 0s 5ms/step - loss: 4414814.5000 - val_loss: 1956910.5000\n",
            "Epoch 30/200\n",
            "29/29 [==============================] - 0s 5ms/step - loss: 4159788.7500 - val_loss: 2146984.5000\n",
            "Epoch 31/200\n",
            "29/29 [==============================] - 0s 5ms/step - loss: 4065567.2500 - val_loss: 1996779.8750\n",
            "Epoch 32/200\n",
            "29/29 [==============================] - 0s 5ms/step - loss: 3911149.5000 - val_loss: 1748734.1250\n",
            "Epoch 33/200\n",
            "29/29 [==============================] - 0s 5ms/step - loss: 4075283.7500 - val_loss: 1655075.5000\n",
            "Epoch 34/200\n",
            "29/29 [==============================] - 0s 5ms/step - loss: 3724085.2500 - val_loss: 2042714.6250\n",
            "Epoch 35/200\n",
            "29/29 [==============================] - 0s 5ms/step - loss: 3626435.0000 - val_loss: 1686734.1250\n",
            "Epoch 36/200\n",
            "29/29 [==============================] - 0s 5ms/step - loss: 3555228.5000 - val_loss: 1747049.7500\n",
            "Epoch 37/200\n",
            "29/29 [==============================] - 0s 4ms/step - loss: 3317056.0000 - val_loss: 1908051.7500\n",
            "Epoch 38/200\n",
            "29/29 [==============================] - 0s 5ms/step - loss: 3478048.2500 - val_loss: 1593997.1250\n",
            "Epoch 39/200\n",
            "29/29 [==============================] - 0s 4ms/step - loss: 3415210.7500 - val_loss: 1847568.3750\n",
            "Epoch 40/200\n",
            "29/29 [==============================] - 0s 4ms/step - loss: 3538265.0000 - val_loss: 1543307.5000\n",
            "Epoch 41/200\n",
            "29/29 [==============================] - 0s 5ms/step - loss: 3192359.0000 - val_loss: 1680388.7500\n",
            "Epoch 42/200\n",
            "29/29 [==============================] - 0s 5ms/step - loss: 3083590.5000 - val_loss: 1598074.3750\n",
            "Epoch 43/200\n",
            "29/29 [==============================] - 0s 5ms/step - loss: 3319328.5000 - val_loss: 1429858.8750\n",
            "Epoch 44/200\n",
            "29/29 [==============================] - 0s 4ms/step - loss: 2933995.5000 - val_loss: 1667349.3750\n",
            "Epoch 45/200\n",
            "29/29 [==============================] - 0s 5ms/step - loss: 3169618.5000 - val_loss: 1593004.0000\n",
            "Epoch 46/200\n",
            "29/29 [==============================] - 0s 5ms/step - loss: 3110461.2500 - val_loss: 1476955.7500\n",
            "Epoch 47/200\n",
            "29/29 [==============================] - 0s 5ms/step - loss: 2962994.7500 - val_loss: 1340799.6250\n",
            "Epoch 48/200\n",
            "29/29 [==============================] - 0s 5ms/step - loss: 2771019.0000 - val_loss: 1396124.8750\n",
            "Epoch 49/200\n",
            "29/29 [==============================] - 0s 5ms/step - loss: 2813556.7500 - val_loss: 1342755.7500\n",
            "Epoch 50/200\n",
            "29/29 [==============================] - 0s 5ms/step - loss: 2952202.2500 - val_loss: 1389536.0000\n",
            "Epoch 51/200\n",
            "29/29 [==============================] - 0s 4ms/step - loss: 2774358.2500 - val_loss: 1346301.8750\n",
            "Epoch 52/200\n",
            "29/29 [==============================] - 0s 5ms/step - loss: 2797345.2500 - val_loss: 1160660.2500\n",
            "Epoch 53/200\n",
            "29/29 [==============================] - 0s 5ms/step - loss: 2477801.2500 - val_loss: 1188700.2500\n",
            "Epoch 54/200\n",
            "29/29 [==============================] - 0s 5ms/step - loss: 2760919.7500 - val_loss: 1193583.6250\n",
            "Epoch 55/200\n",
            "29/29 [==============================] - 0s 5ms/step - loss: 2543212.2500 - val_loss: 1285110.5000\n",
            "Epoch 56/200\n",
            "29/29 [==============================] - 0s 4ms/step - loss: 2399754.0000 - val_loss: 1254222.3750\n",
            "Epoch 57/200\n",
            "29/29 [==============================] - 0s 5ms/step - loss: 2649025.7500 - val_loss: 1140989.8750\n",
            "Epoch 58/200\n",
            "29/29 [==============================] - 0s 4ms/step - loss: 2553572.5000 - val_loss: 1235761.6250\n",
            "Epoch 59/200\n",
            "29/29 [==============================] - 0s 5ms/step - loss: 2327191.0000 - val_loss: 1146476.8750\n",
            "Epoch 60/200\n",
            "29/29 [==============================] - 0s 5ms/step - loss: 2531872.7500 - val_loss: 1108531.1250\n",
            "Epoch 61/200\n",
            "29/29 [==============================] - 0s 5ms/step - loss: 2348307.0000 - val_loss: 1111342.3750\n",
            "Epoch 62/200\n",
            "29/29 [==============================] - 0s 5ms/step - loss: 2562951.7500 - val_loss: 1045098.5000\n",
            "Epoch 63/200\n",
            "29/29 [==============================] - 0s 5ms/step - loss: 2434321.0000 - val_loss: 1110017.3750\n",
            "Epoch 64/200\n",
            "29/29 [==============================] - 0s 5ms/step - loss: 2399814.0000 - val_loss: 1036327.1875\n",
            "Epoch 65/200\n",
            "29/29 [==============================] - 0s 5ms/step - loss: 2245223.2500 - val_loss: 1102218.5000\n",
            "Epoch 66/200\n",
            "29/29 [==============================] - 0s 4ms/step - loss: 2284625.5000 - val_loss: 936342.5625\n",
            "Epoch 67/200\n",
            "29/29 [==============================] - 0s 5ms/step - loss: 2249339.2500 - val_loss: 1038133.3750\n",
            "Epoch 68/200\n",
            "29/29 [==============================] - 0s 4ms/step - loss: 2157127.0000 - val_loss: 990009.3125\n",
            "Epoch 69/200\n",
            "29/29 [==============================] - 0s 4ms/step - loss: 2086303.8750 - val_loss: 987291.7500\n",
            "Epoch 70/200\n",
            "29/29 [==============================] - 0s 5ms/step - loss: 2162706.0000 - val_loss: 1130660.2500\n",
            "Epoch 71/200\n",
            "29/29 [==============================] - 0s 4ms/step - loss: 2198558.2500 - val_loss: 1035562.8125\n",
            "Epoch 72/200\n",
            "29/29 [==============================] - 0s 5ms/step - loss: 2143788.2500 - val_loss: 1065210.6250\n",
            "Epoch 73/200\n",
            "29/29 [==============================] - 0s 5ms/step - loss: 1875255.0000 - val_loss: 1013508.8750\n",
            "Epoch 74/200\n",
            "29/29 [==============================] - 0s 5ms/step - loss: 2077444.1250 - val_loss: 942108.1875\n",
            "Epoch 75/200\n",
            "29/29 [==============================] - 0s 5ms/step - loss: 1964522.6250 - val_loss: 947979.6875\n",
            "Epoch 76/200\n",
            "29/29 [==============================] - 0s 5ms/step - loss: 2048097.5000 - val_loss: 935126.1875\n",
            "Epoch 77/200\n",
            "29/29 [==============================] - 0s 5ms/step - loss: 2101350.5000 - val_loss: 835727.9375\n",
            "Epoch 78/200\n",
            "29/29 [==============================] - 0s 5ms/step - loss: 2125442.5000 - val_loss: 879340.0000\n",
            "Epoch 79/200\n",
            "29/29 [==============================] - 0s 5ms/step - loss: 2005899.5000 - val_loss: 963490.0000\n",
            "Epoch 80/200\n",
            "29/29 [==============================] - 0s 5ms/step - loss: 1889381.0000 - val_loss: 820420.0000\n",
            "Epoch 81/200\n",
            "29/29 [==============================] - 0s 5ms/step - loss: 1982545.3750 - val_loss: 825365.7500\n",
            "Epoch 82/200\n",
            "29/29 [==============================] - 0s 5ms/step - loss: 2059345.7500 - val_loss: 879492.1875\n",
            "Epoch 83/200\n",
            "29/29 [==============================] - 0s 5ms/step - loss: 1848020.2500 - val_loss: 918802.8750\n",
            "Epoch 84/200\n",
            "29/29 [==============================] - 0s 5ms/step - loss: 1837457.0000 - val_loss: 932879.6250\n",
            "Epoch 85/200\n",
            "29/29 [==============================] - 0s 5ms/step - loss: 1825416.8750 - val_loss: 897963.3750\n",
            "Epoch 86/200\n",
            "29/29 [==============================] - 0s 5ms/step - loss: 1972731.6250 - val_loss: 836998.3125\n",
            "Epoch 87/200\n",
            "29/29 [==============================] - 0s 5ms/step - loss: 1859700.5000 - val_loss: 853310.7500\n",
            "Epoch 88/200\n",
            "29/29 [==============================] - 0s 5ms/step - loss: 2005676.3750 - val_loss: 827427.2500\n",
            "Epoch 89/200\n",
            "29/29 [==============================] - 0s 4ms/step - loss: 1860948.0000 - val_loss: 876050.4375\n",
            "Epoch 90/200\n",
            "29/29 [==============================] - 0s 5ms/step - loss: 1798800.6250 - val_loss: 858945.1875\n",
            "Epoch 91/200\n",
            "29/29 [==============================] - 0s 5ms/step - loss: 1803280.3750 - val_loss: 858404.8125\n",
            "Epoch 92/200\n",
            "29/29 [==============================] - 0s 5ms/step - loss: 1873035.6250 - val_loss: 771121.4375\n",
            "Epoch 93/200\n",
            "29/29 [==============================] - 0s 5ms/step - loss: 1820279.6250 - val_loss: 747647.8125\n",
            "Epoch 94/200\n",
            "29/29 [==============================] - 0s 5ms/step - loss: 1855326.0000 - val_loss: 818220.0000\n",
            "Epoch 95/200\n",
            "29/29 [==============================] - 0s 5ms/step - loss: 1625961.7500 - val_loss: 792975.5000\n",
            "Epoch 96/200\n",
            "29/29 [==============================] - 0s 5ms/step - loss: 1791556.0000 - val_loss: 718420.4375\n",
            "Epoch 97/200\n",
            "29/29 [==============================] - 0s 5ms/step - loss: 1730019.8750 - val_loss: 761740.2500\n",
            "Epoch 98/200\n",
            "29/29 [==============================] - 0s 5ms/step - loss: 1865459.8750 - val_loss: 774723.3125\n",
            "Epoch 99/200\n",
            "29/29 [==============================] - 0s 5ms/step - loss: 1735077.3750 - val_loss: 810416.3125\n",
            "Epoch 100/200\n",
            "29/29 [==============================] - 0s 5ms/step - loss: 1695621.3750 - val_loss: 796183.1875\n",
            "Epoch 101/200\n",
            "29/29 [==============================] - 0s 5ms/step - loss: 1797567.8750 - val_loss: 797359.1250\n",
            "Epoch 102/200\n",
            "29/29 [==============================] - 0s 5ms/step - loss: 1980086.3750 - val_loss: 752234.3750\n",
            "Epoch 103/200\n",
            "29/29 [==============================] - 0s 5ms/step - loss: 1685564.3750 - val_loss: 758010.1250\n",
            "Epoch 104/200\n",
            "29/29 [==============================] - 0s 5ms/step - loss: 1614762.2500 - val_loss: 776882.7500\n",
            "Epoch 105/200\n",
            "29/29 [==============================] - 0s 5ms/step - loss: 1644439.3750 - val_loss: 687085.2500\n",
            "Epoch 106/200\n",
            "29/29 [==============================] - 0s 5ms/step - loss: 1982014.7500 - val_loss: 782180.3750\n",
            "Epoch 107/200\n",
            "29/29 [==============================] - 0s 5ms/step - loss: 1763161.8750 - val_loss: 758445.1250\n",
            "Epoch 108/200\n",
            "29/29 [==============================] - 0s 5ms/step - loss: 1707722.6250 - val_loss: 705398.1875\n",
            "Epoch 109/200\n",
            "29/29 [==============================] - 0s 5ms/step - loss: 1655946.2500 - val_loss: 742263.2500\n",
            "Epoch 110/200\n",
            "29/29 [==============================] - 0s 4ms/step - loss: 1700491.1250 - val_loss: 785531.1250\n",
            "Epoch 111/200\n",
            "29/29 [==============================] - 0s 5ms/step - loss: 1670146.3750 - val_loss: 737967.3750\n",
            "Epoch 112/200\n",
            "29/29 [==============================] - 0s 5ms/step - loss: 1738080.7500 - val_loss: 765025.8125\n",
            "Epoch 113/200\n",
            "29/29 [==============================] - 0s 4ms/step - loss: 1676873.8750 - val_loss: 736928.8750\n",
            "Epoch 114/200\n",
            "29/29 [==============================] - 0s 5ms/step - loss: 1744315.1250 - val_loss: 773471.1250\n",
            "Epoch 115/200\n",
            "29/29 [==============================] - 0s 5ms/step - loss: 1761141.2500 - val_loss: 752907.2500\n",
            "Epoch 116/200\n",
            "29/29 [==============================] - 0s 5ms/step - loss: 1575056.3750 - val_loss: 678411.1250\n",
            "Epoch 117/200\n",
            "29/29 [==============================] - 0s 5ms/step - loss: 1709307.8750 - val_loss: 718914.0625\n",
            "Epoch 118/200\n",
            "29/29 [==============================] - 0s 5ms/step - loss: 1800475.6250 - val_loss: 832034.2500\n",
            "Epoch 119/200\n",
            "29/29 [==============================] - 0s 5ms/step - loss: 1648083.2500 - val_loss: 737745.5625\n",
            "Epoch 120/200\n",
            "29/29 [==============================] - 0s 5ms/step - loss: 1719202.8750 - val_loss: 731013.1875\n",
            "Epoch 121/200\n",
            "29/29 [==============================] - 0s 5ms/step - loss: 1637350.1250 - val_loss: 700951.5000\n",
            "Epoch 122/200\n",
            "29/29 [==============================] - 0s 5ms/step - loss: 1653430.7500 - val_loss: 715496.8125\n",
            "Epoch 123/200\n",
            "29/29 [==============================] - 0s 4ms/step - loss: 1497109.2500 - val_loss: 745105.6250\n",
            "Epoch 124/200\n",
            "29/29 [==============================] - 0s 5ms/step - loss: 1826075.0000 - val_loss: 725109.4375\n",
            "Epoch 125/200\n",
            "29/29 [==============================] - 0s 4ms/step - loss: 1539173.3750 - val_loss: 750206.1875\n",
            "Epoch 126/200\n",
            "29/29 [==============================] - 0s 4ms/step - loss: 1708104.6250 - val_loss: 719110.0625\n",
            "Epoch 127/200\n",
            "29/29 [==============================] - 0s 4ms/step - loss: 1719079.6250 - val_loss: 734252.6875\n",
            "Epoch 128/200\n",
            "29/29 [==============================] - 0s 5ms/step - loss: 1617434.2500 - val_loss: 764187.1875\n",
            "Epoch 129/200\n",
            "29/29 [==============================] - 0s 5ms/step - loss: 1473689.2500 - val_loss: 718593.8750\n",
            "Epoch 130/200\n",
            "29/29 [==============================] - 0s 5ms/step - loss: 1590899.0000 - val_loss: 676804.5625\n",
            "Epoch 131/200\n",
            "29/29 [==============================] - 0s 5ms/step - loss: 1610075.3750 - val_loss: 729395.9375\n",
            "Epoch 132/200\n",
            "29/29 [==============================] - 0s 5ms/step - loss: 1562895.1250 - val_loss: 726407.6875\n",
            "Epoch 133/200\n",
            "29/29 [==============================] - 0s 5ms/step - loss: 1628007.5000 - val_loss: 697044.9375\n",
            "Epoch 134/200\n",
            "29/29 [==============================] - 0s 5ms/step - loss: 1609966.2500 - val_loss: 759600.6250\n",
            "Epoch 135/200\n",
            "29/29 [==============================] - 0s 5ms/step - loss: 1632527.6250 - val_loss: 695802.8750\n",
            "Epoch 136/200\n",
            "29/29 [==============================] - 0s 5ms/step - loss: 1743588.6250 - val_loss: 721957.3125\n",
            "Epoch 137/200\n",
            "29/29 [==============================] - 0s 5ms/step - loss: 1568210.0000 - val_loss: 685725.1875\n",
            "Epoch 138/200\n",
            "29/29 [==============================] - 0s 5ms/step - loss: 1483041.1250 - val_loss: 799326.4375\n",
            "Epoch 139/200\n",
            "29/29 [==============================] - 0s 5ms/step - loss: 1573308.6250 - val_loss: 699303.1875\n",
            "Epoch 140/200\n",
            "29/29 [==============================] - 0s 5ms/step - loss: 1676287.0000 - val_loss: 701888.9375\n",
            "Epoch 141/200\n",
            "29/29 [==============================] - 0s 5ms/step - loss: 1610056.6250 - val_loss: 696907.5000\n",
            "Epoch 142/200\n",
            "29/29 [==============================] - 0s 5ms/step - loss: 1543726.2500 - val_loss: 703049.3750\n",
            "Epoch 143/200\n",
            "29/29 [==============================] - 0s 5ms/step - loss: 1557603.0000 - val_loss: 725423.0000\n",
            "Epoch 144/200\n",
            "29/29 [==============================] - 0s 5ms/step - loss: 1522225.0000 - val_loss: 643082.0625\n",
            "Epoch 145/200\n",
            "29/29 [==============================] - 0s 5ms/step - loss: 1622135.5000 - val_loss: 658986.5625\n",
            "Epoch 146/200\n",
            "29/29 [==============================] - 0s 5ms/step - loss: 1713836.6250 - val_loss: 693867.0000\n",
            "Epoch 147/200\n",
            "29/29 [==============================] - 0s 4ms/step - loss: 1501756.1250 - val_loss: 765143.5000\n",
            "Epoch 148/200\n",
            "29/29 [==============================] - 0s 5ms/step - loss: 1519169.1250 - val_loss: 689667.1250\n",
            "Epoch 149/200\n",
            "29/29 [==============================] - 0s 5ms/step - loss: 1416798.8750 - val_loss: 787975.6875\n",
            "Epoch 150/200\n",
            "29/29 [==============================] - 0s 5ms/step - loss: 1627814.7500 - val_loss: 689218.4375\n",
            "Epoch 151/200\n",
            "29/29 [==============================] - 0s 5ms/step - loss: 1615185.3750 - val_loss: 693548.6875\n",
            "Epoch 152/200\n",
            "29/29 [==============================] - 0s 5ms/step - loss: 1588515.2500 - val_loss: 698017.0000\n",
            "Epoch 153/200\n",
            "29/29 [==============================] - 0s 5ms/step - loss: 1627205.3750 - val_loss: 693287.2500\n",
            "Epoch 154/200\n",
            "29/29 [==============================] - 0s 5ms/step - loss: 1700744.5000 - val_loss: 694788.3750\n",
            "Epoch 155/200\n",
            "29/29 [==============================] - 0s 5ms/step - loss: 1430385.2500 - val_loss: 742047.8125\n",
            "Epoch 156/200\n",
            "29/29 [==============================] - 0s 5ms/step - loss: 1638343.5000 - val_loss: 684938.3125\n",
            "Epoch 157/200\n",
            "29/29 [==============================] - 0s 5ms/step - loss: 1474590.1250 - val_loss: 706177.5000\n",
            "Epoch 158/200\n",
            "29/29 [==============================] - 0s 5ms/step - loss: 1594081.2500 - val_loss: 763035.7500\n",
            "Epoch 159/200\n",
            "29/29 [==============================] - 0s 5ms/step - loss: 1536958.0000 - val_loss: 695911.9375\n",
            "Epoch 160/200\n",
            "29/29 [==============================] - 0s 5ms/step - loss: 1498021.7500 - val_loss: 700744.4375\n",
            "Epoch 161/200\n",
            "29/29 [==============================] - 0s 5ms/step - loss: 1560697.7500 - val_loss: 788889.6875\n",
            "Epoch 162/200\n",
            "29/29 [==============================] - 0s 5ms/step - loss: 1459542.0000 - val_loss: 664944.5625\n",
            "Epoch 163/200\n",
            "29/29 [==============================] - 0s 5ms/step - loss: 1582587.0000 - val_loss: 653791.1250\n",
            "Epoch 164/200\n",
            "29/29 [==============================] - 0s 5ms/step - loss: 1400887.6250 - val_loss: 701455.6875\n",
            "Epoch 165/200\n",
            "29/29 [==============================] - 0s 5ms/step - loss: 1645236.3750 - val_loss: 651387.7500\n",
            "Epoch 166/200\n",
            "29/29 [==============================] - 0s 5ms/step - loss: 1583898.5000 - val_loss: 730516.8125\n",
            "Epoch 167/200\n",
            "29/29 [==============================] - 0s 5ms/step - loss: 1518370.1250 - val_loss: 666167.9375\n",
            "Epoch 168/200\n",
            "29/29 [==============================] - 0s 5ms/step - loss: 1532813.2500 - val_loss: 755843.5000\n",
            "Epoch 169/200\n",
            "29/29 [==============================] - 0s 5ms/step - loss: 1518147.8750 - val_loss: 659970.2500\n",
            "Epoch 170/200\n",
            "29/29 [==============================] - 0s 5ms/step - loss: 1544029.2500 - val_loss: 732801.0000\n",
            "Epoch 171/200\n",
            "29/29 [==============================] - 0s 5ms/step - loss: 1616976.1250 - val_loss: 681840.3750\n",
            "Epoch 172/200\n",
            "29/29 [==============================] - 0s 5ms/step - loss: 1678077.5000 - val_loss: 706446.4375\n",
            "Epoch 173/200\n",
            "29/29 [==============================] - 0s 5ms/step - loss: 1647326.5000 - val_loss: 680076.7500\n",
            "Epoch 174/200\n",
            "29/29 [==============================] - 0s 5ms/step - loss: 1568706.8750 - val_loss: 717824.6875\n",
            "Epoch 175/200\n",
            "29/29 [==============================] - 0s 5ms/step - loss: 1650043.1250 - val_loss: 675222.4375\n",
            "Epoch 176/200\n",
            "29/29 [==============================] - 0s 5ms/step - loss: 1480674.1250 - val_loss: 703442.3125\n",
            "Epoch 177/200\n",
            "29/29 [==============================] - 0s 5ms/step - loss: 1490575.2500 - val_loss: 661035.3750\n",
            "Epoch 178/200\n",
            "29/29 [==============================] - 0s 5ms/step - loss: 1653777.1250 - val_loss: 774445.1250\n",
            "Epoch 179/200\n",
            "29/29 [==============================] - 0s 5ms/step - loss: 1603492.5000 - val_loss: 685479.9375\n",
            "Epoch 180/200\n",
            "29/29 [==============================] - 0s 5ms/step - loss: 1539299.0000 - val_loss: 706256.5000\n",
            "Epoch 181/200\n",
            "29/29 [==============================] - 0s 5ms/step - loss: 1585181.2500 - val_loss: 692196.9375\n",
            "Epoch 182/200\n",
            "29/29 [==============================] - 0s 4ms/step - loss: 1496424.5000 - val_loss: 671144.2500\n",
            "Epoch 183/200\n",
            "29/29 [==============================] - 0s 5ms/step - loss: 1586306.1250 - val_loss: 707047.3125\n",
            "Epoch 184/200\n",
            "29/29 [==============================] - 0s 4ms/step - loss: 1568917.7500 - val_loss: 743602.1250\n",
            "Epoch 185/200\n",
            "29/29 [==============================] - 0s 5ms/step - loss: 1569390.6250 - val_loss: 690085.0625\n",
            "Epoch 186/200\n",
            "29/29 [==============================] - 0s 4ms/step - loss: 1365222.7500 - val_loss: 668896.6875\n",
            "Epoch 187/200\n",
            "29/29 [==============================] - 0s 5ms/step - loss: 1520183.1250 - val_loss: 756355.9375\n",
            "Epoch 188/200\n",
            "29/29 [==============================] - 0s 5ms/step - loss: 1679666.5000 - val_loss: 680422.8125\n",
            "Epoch 189/200\n",
            "29/29 [==============================] - 0s 5ms/step - loss: 1459292.6250 - val_loss: 759796.8125\n",
            "Epoch 190/200\n",
            "29/29 [==============================] - 0s 5ms/step - loss: 1603332.1250 - val_loss: 668160.1250\n",
            "Epoch 191/200\n",
            "29/29 [==============================] - 0s 5ms/step - loss: 1371963.5000 - val_loss: 719588.3125\n",
            "Epoch 192/200\n",
            "29/29 [==============================] - 0s 4ms/step - loss: 1563442.2500 - val_loss: 685431.6250\n",
            "Epoch 193/200\n",
            "29/29 [==============================] - 0s 5ms/step - loss: 1486726.0000 - val_loss: 676683.3750\n",
            "Epoch 194/200\n",
            "29/29 [==============================] - 0s 5ms/step - loss: 1434234.3750 - val_loss: 744392.6875\n",
            "Epoch 195/200\n",
            "29/29 [==============================] - 0s 4ms/step - loss: 1567490.0000 - val_loss: 664454.1875\n",
            "Epoch 196/200\n",
            "29/29 [==============================] - 0s 5ms/step - loss: 1597998.6250 - val_loss: 716876.0625\n",
            "Epoch 197/200\n",
            "29/29 [==============================] - 0s 5ms/step - loss: 1639276.5000 - val_loss: 676860.6875\n",
            "Epoch 198/200\n",
            "29/29 [==============================] - 0s 4ms/step - loss: 1472398.8750 - val_loss: 663598.1875\n",
            "Epoch 199/200\n",
            "29/29 [==============================] - 0s 4ms/step - loss: 1460997.3750 - val_loss: 750550.7500\n",
            "Epoch 200/200\n",
            "29/29 [==============================] - 0s 4ms/step - loss: 1476529.3750 - val_loss: 694999.5000\n"
          ],
          "name": "stdout"
        }
      ]
    },
    {
      "cell_type": "code",
      "metadata": {
        "id": "h19_J33VhMNU",
        "outputId": "18845f53-7574-4c78-b0ba-03e0f8f6d41f",
        "colab": {
          "base_uri": "https://localhost:8080/",
          "height": 290
        }
      },
      "source": [
        "import matplotlib.pyplot as plt\n",
        "\n",
        "plt.plot(history.history['loss'], label='MSE training')\n",
        "plt.plot(history.history['val_loss'], label='MSE validation')\n",
        "plt.ylabel('MSE')\n",
        "plt.xlabel('Epoch')\n",
        "plt.show()"
      ],
      "execution_count": null,
      "outputs": [
        {
          "output_type": "display_data",
          "data": {
            "image/png": "[encoded data removed]",
            "text/plain": [
              "<Figure size 432x288 with 1 Axes>"
            ]
          },
          "metadata": {
            "tags": [],
            "needs_background": "light"
          }
        }
      ]
    },
    {
      "cell_type": "code",
      "metadata": {
        "id": "PDzXu2L_gJcn",
        "outputId": "14acdb23-e64c-4ee0-d696-441ccf1f1245",
        "colab": {
          "base_uri": "https://localhost:8080/",
          "height": 54
        }
      },
      "source": [
        "# Make a prediction\n",
        "preds = model.predict(scaled_X_test)"
      ],
      "execution_count": null,
      "outputs": [
        {
          "output_type": "stream",
          "text": [
            "WARNING:tensorflow:11 out of the last 11 calls to <function Model.make_predict_function.<locals>.predict_function at 0x7f8ab69b46a8> triggered tf.function retracing. Tracing is expensive and the excessive number of tracings could be due to (1) creating @tf.function repeatedly in a loop, (2) passing tensors with different shapes, (3) passing Python objects instead of tensors. For (1), please define your @tf.function outside of the loop. For (2), @tf.function has experimental_relax_shapes=True option that relaxes argument shapes that can avoid unnecessary retracing. For (3), please refer to https://www.tensorflow.org/tutorials/customization/performance#python_or_tensor_args and https://www.tensorflow.org/api_docs/python/tf/function for  more details.\n"
          ],
          "name": "stdout"
        }
      ]
    },
    {
      "cell_type": "code",
      "metadata": {
        "id": "g8nrcWp9gJcp",
        "outputId": "79a3f0ba-021a-4c81-f03c-c340fe31a10c",
        "colab": {
          "base_uri": "https://localhost:8080/",
          "height": 141
        }
      },
      "source": [
        "preds"
      ],
      "execution_count": null,
      "outputs": [
        {
          "output_type": "execute_result",
          "data": {
            "text/plain": [
              "array([[10503.685 ],\n",
              "       [ 9249.4   ],\n",
              "       [ 7726.5615],\n",
              "       [ 3567.4812],\n",
              "       [ 6003.237 ],\n",
              "       [ 7986.7144],\n",
              "       [ 7013.7124]], dtype=float32)"
            ]
          },
          "metadata": {
            "tags": []
          },
          "execution_count": 253
        }
      ]
    },
    {
      "cell_type": "code",
      "metadata": {
        "id": "addnXS6dgJcs",
        "outputId": "d7194ea6-bdc9-4b3d-bc16-c01325c20201",
        "colab": {
          "base_uri": "https://localhost:8080/",
          "height": 158
        }
      },
      "source": [
        "y_test_july"
      ],
      "execution_count": null,
      "outputs": [
        {
          "output_type": "execute_result",
          "data": {
            "text/plain": [
              "1133    9239.900000\n",
              "1134    9100.000000\n",
              "1135    9073.200000\n",
              "1136    9147.700000\n",
              "1137    9084.284734\n",
              "1138    9361.100000\n",
              "1139    9267.514949\n",
              "Name: BTC_close, dtype: float64"
            ]
          },
          "metadata": {
            "tags": []
          },
          "execution_count": 148
        }
      ]
    },
    {
      "cell_type": "markdown",
      "metadata": {
        "id": "STNHZkI_XawR"
      },
      "source": [
        "# UNIVARIATE MULTISTEP LSTM"
      ]
    },
    {
      "cell_type": "code",
      "metadata": {
        "id": "G5VVEGRRkGEm"
      },
      "source": [
        "# Ensure we are using Tensorflow 2\n",
        "%tensorflow_version 2.x\n",
        "\n",
        "# multivariate output stacked lstm example\n",
        "from numpy import array\n",
        "from numpy import hstack\n",
        "from keras.models import Sequential\n",
        "from keras.layers import LSTM\n",
        "from keras.layers import Dense\n",
        "from keras import optimizers\n",
        "import tensorflow as tf\n",
        "from keras.layers import Dropout\n",
        "\n",
        "# Set seeds for numpy and tensorflow\n",
        "tf.random.set_seed(12)\n",
        "np.random.seed(12)"
      ],
      "execution_count": null,
      "outputs": []
    },
    {
      "cell_type": "code",
      "metadata": {
        "id": "JcxKVLhujKWN"
      },
      "source": [
        "# We will train on first 1153 and test on last 14, ie, 7 steps in and 7 steps out\n",
        "#train = data.head(1160)\n",
        "#test = data.tail(14)\n",
        "\n",
        "train = data[1:1064]\n",
        "test = data[1064:1085]\n",
        "\n",
        "train = list(train.BTC_close)\n",
        "test = list(test.BTC_close)"
      ],
      "execution_count": null,
      "outputs": []
    },
    {
      "cell_type": "code",
      "metadata": {
        "id": "CaQA8GRUdRDc"
      },
      "source": [
        "# multi-step data preparation\n",
        "from numpy import array\n",
        " \n",
        "# split a univariate sequence into samples\n",
        "def split_sequence(sequence, n_steps_in, n_steps_out):\n",
        "\tX, y = list(), list()\n",
        "\tfor i in range(len(sequence)):\n",
        "\t\t# find the end of this pattern\n",
        "\t\tend_ix = i + n_steps_in\n",
        "\t\tout_end_ix = end_ix + n_steps_out\n",
        "\t\t# check if we are beyond the sequence\n",
        "\t\tif out_end_ix > len(sequence):\n",
        "\t\t\tbreak\n",
        "\t\t# gather input and output parts of the pattern\n",
        "\t\tseq_x, seq_y = sequence[i:end_ix], sequence[end_ix:out_end_ix]\n",
        "\t\tX.append(seq_x)\n",
        "\t\ty.append(seq_y)\n",
        "\treturn array(X), array(y)\n",
        " \n",
        "# define input sequence for TRAIN\n",
        "train_seq = train\n",
        "# choose a number of time steps\n",
        "n_steps_in, n_steps_out = 14, 7\n",
        "# split into samples\n",
        "X_train, y_train = split_sequence(train_seq, n_steps_in, n_steps_out)\n",
        "# summarize the data\n",
        "\n",
        "\n",
        "# define input sequence for TEST\n",
        "test_seq = test\n",
        "# choose a number of time steps\n",
        "n_steps_in, n_steps_out = 14, 7\n",
        "# split into samples\n",
        "X_test, y_test = split_sequence(test_seq, n_steps_in, n_steps_out)\n",
        "# summarize the data\n",
        "\n",
        "#for i in range(len(X)):\n",
        "#\tprint(X[i], y[i])"
      ],
      "execution_count": null,
      "outputs": []
    },
    {
      "cell_type": "code",
      "metadata": {
        "id": "CIINrxlle9Hw"
      },
      "source": [
        "# reshape from [samples, timesteps] into [samples, timesteps, features]\n",
        "n_features = 1\n",
        "\n",
        "X_train = X_train.reshape((X_train.shape[0], X_train.shape[1], n_features))\n",
        "X_test = X_test.reshape((X_test.shape[0], X_test.shape[1], n_features))"
      ],
      "execution_count": null,
      "outputs": []
    },
    {
      "cell_type": "code",
      "metadata": {
        "id": "ak1Jnse4fU80"
      },
      "source": [
        "# define model\n",
        "model = Sequential()"
      ],
      "execution_count": null,
      "outputs": []
    },
    {
      "cell_type": "code",
      "metadata": {
        "id": "rkhXOH8-W7A1",
        "outputId": "61a19b49-18e2-42c7-e7b5-584d694a725a",
        "colab": {
          "base_uri": "https://localhost:8080/",
          "height": 72
        }
      },
      "source": [
        "# Add the layers\n",
        "model.add(LSTM(200, activation='relu', return_sequences=True, input_shape=(n_steps_in, n_features)))\n",
        "model.add(LSTM(200, activation='relu'))\n",
        "model.add(Dense(n_steps_out))"
      ],
      "execution_count": null,
      "outputs": [
        {
          "output_type": "stream",
          "text": [
            "WARNING:tensorflow:Layer lstm_4 will not use cuDNN kernel since it doesn't meet the cuDNN kernel criteria. It will use generic GPU kernel as fallback when running on GPU\n",
            "WARNING:tensorflow:Layer lstm_5 will not use cuDNN kernel since it doesn't meet the cuDNN kernel criteria. It will use generic GPU kernel as fallback when running on GPU\n"
          ],
          "name": "stdout"
        }
      ]
    },
    {
      "cell_type": "code",
      "metadata": {
        "id": "WxAME_sNXqVB"
      },
      "source": [
        "# Setup the learning rate\n",
        "from tensorflow.keras.callbacks import EarlyStopping\n",
        "from tensorflow.keras.callbacks import ReduceLROnPlateau\n",
        "\n",
        "# Use early stopping, change patience as required\n",
        "early_stopping = EarlyStopping(monitor='val_loss', patience=50,verbose=1)\n",
        "\n",
        "# Use reduce LR, change patience and factor as required\n",
        "reduce_lr = ReduceLROnPlateau(monitor='val_loss', factor=0.1, patience=5, min_lr=0.00001, verbose=1)\n",
        "\n",
        "learning_rate = 0.01\n",
        "optimizer = optimizers.Adam(learning_rate = learning_rate)"
      ],
      "execution_count": null,
      "outputs": []
    },
    {
      "cell_type": "code",
      "metadata": {
        "id": "rR2itatzXrU2"
      },
      "source": [
        "# Compile the model\n",
        "model.compile(optimizer=optimizer, loss='mse')"
      ],
      "execution_count": null,
      "outputs": []
    },
    {
      "cell_type": "code",
      "metadata": {
        "id": "sKvJRpxMWzWq",
        "outputId": "3b1e97de-af3c-4a39-eecb-b4e6c6a8af9e",
        "colab": {
          "base_uri": "https://localhost:8080/",
          "height": 265
        }
      },
      "source": [
        "# View the model summary\n",
        "model.summary()"
      ],
      "execution_count": null,
      "outputs": [
        {
          "output_type": "stream",
          "text": [
            "Model: \"sequential_3\"\n",
            "_________________________________________________________________\n",
            "Layer (type)                 Output Shape              Param #   \n",
            "=================================================================\n",
            "lstm_4 (LSTM)                (None, 14, 200)           161600    \n",
            "_________________________________________________________________\n",
            "lstm_5 (LSTM)                (None, 200)               320800    \n",
            "_________________________________________________________________\n",
            "dense_3 (Dense)              (None, 7)                 1407      \n",
            "=================================================================\n",
            "Total params: 483,807\n",
            "Trainable params: 483,807\n",
            "Non-trainable params: 0\n",
            "_________________________________________________________________\n"
          ],
          "name": "stdout"
        }
      ]
    },
    {
      "cell_type": "code",
      "metadata": {
        "id": "Zz9-eAN7Q595"
      },
      "source": [
        "# Setup the learning rate\n",
        "from tensorflow.keras.callbacks import EarlyStopping\n",
        "from tensorflow.keras.callbacks import ReduceLROnPlateau\n",
        "\n",
        "# Use early stopping, change patience as required\n",
        "early_stopping = EarlyStopping(monitor='val_loss', patience=50,verbose=1)\n",
        "\n",
        "# Use reduce LR, change patience and factor as required\n",
        "reduce_lr = ReduceLROnPlateau(monitor='val_loss', factor=0.1, patience=5, min_lr=0.00001, verbose=1)\n",
        "\n",
        "learning_rate = 0.01\n",
        "optimizer = optimizers.Adam(learning_rate = learning_rate)"
      ],
      "execution_count": null,
      "outputs": []
    },
    {
      "cell_type": "code",
      "metadata": {
        "id": "4cYAXSiTfhmd",
        "outputId": "37c7ce0d-d264-4f63-ed05-af8b2b39df6a",
        "colab": {
          "base_uri": "https://localhost:8080/",
          "height": 1000
        }
      },
      "source": [
        "# fit model\n",
        "model.fit(X_train, y_train, epochs=100, validation_split=0.3, callbacks = [early_stopping, reduce_lr])"
      ],
      "execution_count": null,
      "outputs": [
        {
          "output_type": "stream",
          "text": [
            "Epoch 1/100\n",
            "23/23 [==============================] - 1s 49ms/step - loss: 24404364.0000 - val_loss: 15170372.0000\n",
            "Epoch 2/100\n",
            "23/23 [==============================] - 1s 39ms/step - loss: 5174175.0000 - val_loss: 5250124.0000\n",
            "Epoch 3/100\n",
            "23/23 [==============================] - 1s 43ms/step - loss: 5909684.5000 - val_loss: 4065178.2500\n",
            "Epoch 4/100\n",
            "23/23 [==============================] - 1s 40ms/step - loss: 4341751.0000 - val_loss: 3020327.5000\n",
            "Epoch 5/100\n",
            "23/23 [==============================] - 1s 41ms/step - loss: 3097032.2500 - val_loss: 1592835.5000\n",
            "Epoch 6/100\n",
            "23/23 [==============================] - 1s 39ms/step - loss: 2502305.0000 - val_loss: 1784745.5000\n",
            "Epoch 7/100\n",
            "23/23 [==============================] - 1s 39ms/step - loss: 2458710.5000 - val_loss: 1794902.8750\n",
            "Epoch 8/100\n",
            "23/23 [==============================] - 1s 52ms/step - loss: 2355767.0000 - val_loss: 1993119.1250\n",
            "Epoch 9/100\n",
            "23/23 [==============================] - 1s 44ms/step - loss: 2434400.5000 - val_loss: 2023835.2500\n",
            "Epoch 10/100\n",
            "22/23 [===========================>..] - ETA: 0s - loss: 2485811.0000\n",
            "Epoch 00010: ReduceLROnPlateau reducing learning rate to 0.0009999999776482583.\n",
            "23/23 [==============================] - 1s 42ms/step - loss: 2464142.5000 - val_loss: 1753749.8750\n",
            "Epoch 11/100\n",
            "23/23 [==============================] - 1s 39ms/step - loss: 2323874.2500 - val_loss: 1572673.2500\n",
            "Epoch 12/100\n",
            "23/23 [==============================] - 1s 39ms/step - loss: 2319346.7500 - val_loss: 1570930.6250\n",
            "Epoch 13/100\n",
            "23/23 [==============================] - 1s 38ms/step - loss: 2275385.7500 - val_loss: 1528023.7500\n",
            "Epoch 14/100\n",
            "23/23 [==============================] - 1s 40ms/step - loss: 2288035.5000 - val_loss: 1532114.7500\n",
            "Epoch 15/100\n",
            "23/23 [==============================] - 1s 41ms/step - loss: 2277706.7500 - val_loss: 1520912.5000\n",
            "Epoch 16/100\n",
            "23/23 [==============================] - 1s 40ms/step - loss: 2257903.0000 - val_loss: 1522642.0000\n",
            "Epoch 17/100\n",
            "23/23 [==============================] - 1s 39ms/step - loss: 2264919.0000 - val_loss: 1576784.5000\n",
            "Epoch 18/100\n",
            "23/23 [==============================] - 1s 41ms/step - loss: 2284702.2500 - val_loss: 1588763.0000\n",
            "Epoch 19/100\n",
            "23/23 [==============================] - 1s 40ms/step - loss: 2310704.5000 - val_loss: 1603832.3750\n",
            "Epoch 20/100\n",
            "23/23 [==============================] - ETA: 0s - loss: 2295553.2500\n",
            "Epoch 00020: ReduceLROnPlateau reducing learning rate to 9.999999310821295e-05.\n",
            "23/23 [==============================] - 1s 42ms/step - loss: 2295553.2500 - val_loss: 1591523.6250\n",
            "Epoch 21/100\n",
            "23/23 [==============================] - 1s 42ms/step - loss: 2288908.0000 - val_loss: 1527572.5000\n",
            "Epoch 22/100\n",
            "23/23 [==============================] - 1s 50ms/step - loss: 2251450.0000 - val_loss: 1518293.6250\n",
            "Epoch 23/100\n",
            "23/23 [==============================] - 1s 42ms/step - loss: 2246828.7500 - val_loss: 1522419.8750\n",
            "Epoch 24/100\n",
            "23/23 [==============================] - 1s 41ms/step - loss: 2249663.0000 - val_loss: 1518144.2500\n",
            "Epoch 25/100\n",
            "23/23 [==============================] - 1s 40ms/step - loss: 2246546.0000 - val_loss: 1516476.1250\n",
            "Epoch 26/100\n",
            "23/23 [==============================] - 1s 40ms/step - loss: 2245247.7500 - val_loss: 1517707.0000\n",
            "Epoch 27/100\n",
            "23/23 [==============================] - 1s 41ms/step - loss: 2244984.0000 - val_loss: 1515752.0000\n",
            "Epoch 28/100\n",
            "23/23 [==============================] - 1s 42ms/step - loss: 2244373.5000 - val_loss: 1518312.7500\n",
            "Epoch 29/100\n",
            "23/23 [==============================] - 1s 41ms/step - loss: 2244083.2500 - val_loss: 1517902.3750\n",
            "Epoch 30/100\n",
            "23/23 [==============================] - 1s 40ms/step - loss: 2244925.5000 - val_loss: 1517598.8750\n",
            "Epoch 31/100\n",
            "23/23 [==============================] - 1s 41ms/step - loss: 2248381.0000 - val_loss: 1519858.5000\n",
            "Epoch 32/100\n",
            "22/23 [===========================>..] - ETA: 0s - loss: 2287832.0000\n",
            "Epoch 00032: ReduceLROnPlateau reducing learning rate to 1e-05.\n",
            "23/23 [==============================] - 1s 49ms/step - loss: 2245201.5000 - val_loss: 1516914.2500\n",
            "Epoch 33/100\n",
            "23/23 [==============================] - 1s 41ms/step - loss: 2242930.7500 - val_loss: 1516933.5000\n",
            "Epoch 34/100\n",
            "23/23 [==============================] - 1s 43ms/step - loss: 2242973.7500 - val_loss: 1516177.6250\n",
            "Epoch 35/100\n",
            "23/23 [==============================] - 1s 48ms/step - loss: 2242891.5000 - val_loss: 1516205.2500\n",
            "Epoch 36/100\n",
            "23/23 [==============================] - 1s 42ms/step - loss: 2242498.7500 - val_loss: 1516165.1250\n",
            "Epoch 37/100\n",
            "23/23 [==============================] - 1s 39ms/step - loss: 2242772.2500 - val_loss: 1516699.2500\n",
            "Epoch 38/100\n",
            "23/23 [==============================] - 1s 41ms/step - loss: 2242465.5000 - val_loss: 1516158.2500\n",
            "Epoch 39/100\n",
            "23/23 [==============================] - 1s 39ms/step - loss: 2242445.2500 - val_loss: 1515889.5000\n",
            "Epoch 40/100\n",
            "23/23 [==============================] - 1s 43ms/step - loss: 2242556.5000 - val_loss: 1516063.6250\n",
            "Epoch 41/100\n",
            "23/23 [==============================] - 1s 41ms/step - loss: 2242390.0000 - val_loss: 1516465.8750\n",
            "Epoch 42/100\n",
            "23/23 [==============================] - 1s 39ms/step - loss: 2242489.5000 - val_loss: 1516437.0000\n",
            "Epoch 43/100\n",
            "23/23 [==============================] - 1s 41ms/step - loss: 2242373.0000 - val_loss: 1516146.8750\n",
            "Epoch 44/100\n",
            "23/23 [==============================] - 1s 50ms/step - loss: 2242436.2500 - val_loss: 1516646.5000\n",
            "Epoch 45/100\n",
            "23/23 [==============================] - 1s 42ms/step - loss: 2242302.0000 - val_loss: 1516324.0000\n",
            "Epoch 46/100\n",
            "23/23 [==============================] - 1s 40ms/step - loss: 2242861.0000 - val_loss: 1516857.0000\n",
            "Epoch 47/100\n",
            "23/23 [==============================] - 1s 40ms/step - loss: 2242255.7500 - val_loss: 1516300.6250\n",
            "Epoch 48/100\n",
            "23/23 [==============================] - 1s 39ms/step - loss: 2242541.0000 - val_loss: 1516818.8750\n",
            "Epoch 49/100\n",
            "23/23 [==============================] - 1s 40ms/step - loss: 2242127.0000 - val_loss: 1516163.5000\n",
            "Epoch 50/100\n",
            "23/23 [==============================] - 1s 39ms/step - loss: 2242138.0000 - val_loss: 1516565.6250\n",
            "Epoch 51/100\n",
            "23/23 [==============================] - 1s 42ms/step - loss: 2242313.0000 - val_loss: 1516928.3750\n",
            "Epoch 52/100\n",
            "23/23 [==============================] - 1s 48ms/step - loss: 2242168.5000 - val_loss: 1515779.0000\n",
            "Epoch 53/100\n",
            "23/23 [==============================] - 1s 53ms/step - loss: 2242115.7500 - val_loss: 1515843.5000\n",
            "Epoch 54/100\n",
            "23/23 [==============================] - 1s 40ms/step - loss: 2242044.7500 - val_loss: 1516146.8750\n",
            "Epoch 55/100\n",
            "23/23 [==============================] - 1s 41ms/step - loss: 2242066.5000 - val_loss: 1516251.7500\n",
            "Epoch 56/100\n",
            "23/23 [==============================] - 1s 43ms/step - loss: 2242124.0000 - val_loss: 1516501.1250\n",
            "Epoch 57/100\n",
            "23/23 [==============================] - 1s 43ms/step - loss: 2242924.5000 - val_loss: 1515685.5000\n",
            "Epoch 58/100\n",
            "23/23 [==============================] - 1s 41ms/step - loss: 2241967.2500 - val_loss: 1515785.8750\n",
            "Epoch 59/100\n",
            "23/23 [==============================] - 1s 41ms/step - loss: 2242502.5000 - val_loss: 1516516.5000\n",
            "Epoch 60/100\n",
            "23/23 [==============================] - 1s 51ms/step - loss: 2242010.2500 - val_loss: 1516593.6250\n",
            "Epoch 61/100\n",
            "23/23 [==============================] - 1s 42ms/step - loss: 2241921.2500 - val_loss: 1516993.2500\n",
            "Epoch 62/100\n",
            "23/23 [==============================] - 1s 42ms/step - loss: 2241821.7500 - val_loss: 1516438.6250\n",
            "Epoch 63/100\n",
            "23/23 [==============================] - 1s 43ms/step - loss: 2242182.2500 - val_loss: 1515870.3750\n",
            "Epoch 64/100\n",
            "23/23 [==============================] - 1s 40ms/step - loss: 2241946.0000 - val_loss: 1516318.1250\n",
            "Epoch 65/100\n",
            "23/23 [==============================] - 1s 49ms/step - loss: 2241810.7500 - val_loss: 1516385.5000\n",
            "Epoch 66/100\n",
            "23/23 [==============================] - 1s 48ms/step - loss: 2241961.5000 - val_loss: 1516017.6250\n",
            "Epoch 67/100\n",
            "23/23 [==============================] - 1s 43ms/step - loss: 2242157.0000 - val_loss: 1516917.6250\n",
            "Epoch 68/100\n",
            "23/23 [==============================] - 1s 41ms/step - loss: 2242289.5000 - val_loss: 1516136.8750\n",
            "Epoch 69/100\n",
            "23/23 [==============================] - 1s 53ms/step - loss: 2241850.5000 - val_loss: 1516333.0000\n",
            "Epoch 70/100\n",
            "23/23 [==============================] - 1s 45ms/step - loss: 2241836.2500 - val_loss: 1516805.5000\n",
            "Epoch 71/100\n",
            "23/23 [==============================] - 1s 40ms/step - loss: 2241804.7500 - val_loss: 1516369.1250\n",
            "Epoch 72/100\n",
            "23/23 [==============================] - 1s 41ms/step - loss: 2242047.7500 - val_loss: 1515708.5000\n",
            "Epoch 73/100\n",
            "23/23 [==============================] - 1s 44ms/step - loss: 2241869.5000 - val_loss: 1516454.2500\n",
            "Epoch 74/100\n",
            "23/23 [==============================] - 1s 56ms/step - loss: 2241834.5000 - val_loss: 1515529.2500\n",
            "Epoch 75/100\n",
            "23/23 [==============================] - 1s 40ms/step - loss: 2241754.7500 - val_loss: 1516383.8750\n",
            "Epoch 76/100\n",
            "23/23 [==============================] - 1s 38ms/step - loss: 2241525.5000 - val_loss: 1515897.0000\n",
            "Epoch 77/100\n",
            "23/23 [==============================] - 1s 49ms/step - loss: 2241509.2500 - val_loss: 1516158.7500\n",
            "Epoch 78/100\n",
            "23/23 [==============================] - 1s 40ms/step - loss: 2241684.2500 - val_loss: 1516423.7500\n",
            "Epoch 79/100\n",
            "23/23 [==============================] - 1s 46ms/step - loss: 2242163.5000 - val_loss: 1515351.2500\n",
            "Epoch 80/100\n",
            "23/23 [==============================] - 1s 42ms/step - loss: 2241400.0000 - val_loss: 1515898.3750\n",
            "Epoch 81/100\n",
            "23/23 [==============================] - 1s 42ms/step - loss: 2241385.7500 - val_loss: 1515619.0000\n",
            "Epoch 82/100\n",
            "23/23 [==============================] - 1s 41ms/step - loss: 2241290.0000 - val_loss: 1515801.8750\n",
            "Epoch 83/100\n",
            "23/23 [==============================] - 1s 57ms/step - loss: 2241270.5000 - val_loss: 1515632.6250\n",
            "Epoch 84/100\n",
            "23/23 [==============================] - 1s 48ms/step - loss: 2241840.0000 - val_loss: 1515522.8750\n",
            "Epoch 85/100\n",
            "23/23 [==============================] - 1s 40ms/step - loss: 2241404.7500 - val_loss: 1515633.3750\n",
            "Epoch 86/100\n",
            "23/23 [==============================] - 1s 47ms/step - loss: 2241635.0000 - val_loss: 1515916.3750\n",
            "Epoch 87/100\n",
            "23/23 [==============================] - 1s 46ms/step - loss: 2241466.7500 - val_loss: 1515044.0000\n",
            "Epoch 88/100\n",
            "23/23 [==============================] - 1s 49ms/step - loss: 2241356.7500 - val_loss: 1515655.6250\n",
            "Epoch 89/100\n",
            "23/23 [==============================] - 1s 41ms/step - loss: 2241180.0000 - val_loss: 1515043.0000\n",
            "Epoch 90/100\n",
            "23/23 [==============================] - 1s 41ms/step - loss: 2241582.2500 - val_loss: 1514586.7500\n",
            "Epoch 91/100\n",
            "23/23 [==============================] - 1s 40ms/step - loss: 2240955.0000 - val_loss: 1515329.6250\n",
            "Epoch 92/100\n",
            "23/23 [==============================] - 1s 53ms/step - loss: 2241129.5000 - val_loss: 1515277.0000\n",
            "Epoch 93/100\n",
            "23/23 [==============================] - 1s 41ms/step - loss: 2241474.0000 - val_loss: 1516220.5000\n",
            "Epoch 94/100\n",
            "23/23 [==============================] - 1s 55ms/step - loss: 2240941.2500 - val_loss: 1515083.5000\n",
            "Epoch 95/100\n",
            "23/23 [==============================] - 1s 49ms/step - loss: 2240934.5000 - val_loss: 1515961.5000\n",
            "Epoch 96/100\n",
            "23/23 [==============================] - 1s 40ms/step - loss: 2241378.2500 - val_loss: 1515016.1250\n",
            "Epoch 97/100\n",
            "23/23 [==============================] - 1s 40ms/step - loss: 2242570.0000 - val_loss: 1515471.3750\n",
            "Epoch 98/100\n",
            "23/23 [==============================] - 1s 44ms/step - loss: 2240728.2500 - val_loss: 1515529.8750\n",
            "Epoch 99/100\n",
            "23/23 [==============================] - 1s 40ms/step - loss: 2241064.7500 - val_loss: 1514978.7500\n",
            "Epoch 100/100\n",
            "23/23 [==============================] - 1s 40ms/step - loss: 2240649.5000 - val_loss: 1515161.3750\n"
          ],
          "name": "stdout"
        },
        {
          "output_type": "execute_result",
          "data": {
            "text/plain": [
              "<tensorflow.python.keras.callbacks.History at 0x7f6f6d1c1710>"
            ]
          },
          "metadata": {
            "tags": []
          },
          "execution_count": 80
        }
      ]
    },
    {
      "cell_type": "code",
      "metadata": {
        "id": "waDnp_CLrA1K"
      },
      "source": [
        "# Create the predictions data frame\n",
        "yhat_stacked = pd.DataFrame(np.reshape(np.array(model.predict(X_test, verbose=0)), (7,1)))\n",
        "\n",
        "yhat_stacked.columns = ['predictions']"
      ],
      "execution_count": null,
      "outputs": []
    },
    {
      "cell_type": "code",
      "metadata": {
        "id": "WkumLKVZrlng"
      },
      "source": [
        "# Create the test set data frame\n",
        "y_test = pd.DataFrame(np.reshape(np.array(y_test), (7,1)))\n",
        "\n",
        "y_test.columns = ['real']"
      ],
      "execution_count": null,
      "outputs": []
    },
    {
      "cell_type": "code",
      "metadata": {
        "id": "3nv0fhdxlZlI"
      },
      "source": [
        "predictions = pd.concat([yhat_stacked, y_test], axis=1, sort=False)"
      ],
      "execution_count": null,
      "outputs": []
    },
    {
      "cell_type": "code",
      "metadata": {
        "id": "dgLM_DjIlxKV"
      },
      "source": [
        "predictions.columns = ['stacked', 'real']"
      ],
      "execution_count": null,
      "outputs": []
    },
    {
      "cell_type": "code",
      "metadata": {
        "id": "p7fH4IfWsE4H"
      },
      "source": [
        "import matplotlib.pyplot as plt"
      ],
      "execution_count": null,
      "outputs": []
    },
    {
      "cell_type": "code",
      "metadata": {
        "id": "-6pN-BJBsNRH",
        "outputId": "1dbf117c-6d6d-46b6-fc68-8f080e1968c1",
        "colab": {
          "base_uri": "https://localhost:8080/",
          "height": 282
        }
      },
      "source": [
        "# Plot the predictions against the truth\n",
        "\n",
        "plt.plot(predictions.index, predictions.stacked, label = \"Stacked\")\n",
        "plt.plot(predictions.index, predictions.real, label = \"Real\")\n",
        "plt.legend(loc=\"upper left\")"
      ],
      "execution_count": null,
      "outputs": [
        {
          "output_type": "execute_result",
          "data": {
            "text/plain": [
              "<matplotlib.legend.Legend at 0x7f6f6c283e10>"
            ]
          },
          "metadata": {
            "tags": []
          },
          "execution_count": 88
        },
        {
          "output_type": "display_data",
          "data": {
            "image/png": "[encoded data removed]",
            "text/plain": [
              "<Figure size 432x288 with 1 Axes>"
            ]
          },
          "metadata": {
            "tags": [],
            "needs_background": "light"
          }
        }
      ]
    },
    {
      "cell_type": "code",
      "metadata": {
        "id": "PzHtY8eavqH0",
        "outputId": "7bead368-f6d2-4564-b6c0-6708946a1d74",
        "colab": {
          "base_uri": "https://localhost:8080/",
          "height": 34
        }
      },
      "source": [
        "def rmse(predictions, targets):\n",
        "    return np.sqrt(((predictions - targets) ** 2).mean())\n",
        "\n",
        "rmse_val = rmse(predictions.stacked, predictions.real)\n",
        "\n",
        "rmse_val"
      ],
      "execution_count": null,
      "outputs": [
        {
          "output_type": "execute_result",
          "data": {
            "text/plain": [
              "1988.8496875319317"
            ]
          },
          "metadata": {
            "tags": []
          },
          "execution_count": 89
        }
      ]
    },
    {
      "cell_type": "markdown",
      "metadata": {
        "id": "B5JHs2h32sZY"
      },
      "source": [
        "# Encoder-Decoder Univariate LSTM"
      ]
    },
    {
      "cell_type": "code",
      "metadata": {
        "id": "x-wJQPd93tAF"
      },
      "source": [
        "# univariate multi-step encoder-decoder lstm example\n",
        "from numpy import array\n",
        "from keras.models import Sequential\n",
        "from keras.layers import LSTM\n",
        "from keras.layers import Dense\n",
        "from keras.layers import RepeatVector\n",
        "from keras.layers import TimeDistributed"
      ],
      "execution_count": null,
      "outputs": []
    },
    {
      "cell_type": "code",
      "metadata": {
        "id": "gLbwMoWB2rmk",
        "outputId": "1a9ff585-b74e-4006-aeb9-9978b52a052b",
        "colab": {
          "base_uri": "https://localhost:8080/",
          "height": 72
        }
      },
      "source": [
        "#Define the same modelling procure as the multi-step univariate LSTM, but include the RepeatVector function between each LSTM layer\n",
        "# define model\n",
        "model = Sequential()\n",
        "model.add(LSTM(200, activation='relu', input_shape=(n_steps_in, n_features)))\n",
        "model.add(RepeatVector(n_steps_out))\n",
        "model.add(LSTM(200, activation='relu', return_sequences=True))\n",
        "model.add(TimeDistributed(Dense(1)))\n",
        "model.compile(optimizer='adam', loss='mse')"
      ],
      "execution_count": null,
      "outputs": [
        {
          "output_type": "stream",
          "text": [
            "WARNING:tensorflow:Layer lstm_6 will not use cuDNN kernel since it doesn't meet the cuDNN kernel criteria. It will use generic GPU kernel as fallback when running on GPU\n",
            "WARNING:tensorflow:Layer lstm_7 will not use cuDNN kernel since it doesn't meet the cuDNN kernel criteria. It will use generic GPU kernel as fallback when running on GPU\n"
          ],
          "name": "stdout"
        }
      ]
    },
    {
      "cell_type": "code",
      "metadata": {
        "id": "VXVyDI1Z30Y0",
        "outputId": "57e6ec5d-b8b7-4ac8-ee39-c80989b25d5b",
        "colab": {
          "base_uri": "https://localhost:8080/",
          "height": 1000
        }
      },
      "source": [
        "# fit model\n",
        "model.fit(X_train, y_train, epochs=200, validation_split=0.3, callbacks = [early_stopping, reduce_lr])"
      ],
      "execution_count": null,
      "outputs": [
        {
          "output_type": "stream",
          "text": [
            "Epoch 1/200\n",
            "23/23 [==============================] - 1s 42ms/step - loss: 25198406.0000 - val_loss: 29560612.0000\n",
            "Epoch 2/200\n",
            "23/23 [==============================] - 1s 31ms/step - loss: 12550944.0000 - val_loss: 16806418.0000\n",
            "Epoch 3/200\n",
            "23/23 [==============================] - 1s 30ms/step - loss: 10266745.0000 - val_loss: 12488601.0000\n",
            "Epoch 4/200\n",
            "23/23 [==============================] - 1s 37ms/step - loss: 6589259.0000 - val_loss: 7507844.5000\n",
            "Epoch 5/200\n",
            "23/23 [==============================] - 1s 34ms/step - loss: 4930221.0000 - val_loss: 5149020.5000\n",
            "Epoch 6/200\n",
            "23/23 [==============================] - 1s 30ms/step - loss: 4968579.0000 - val_loss: 5874100.0000\n",
            "Epoch 7/200\n",
            "23/23 [==============================] - 1s 33ms/step - loss: 3883723.7500 - val_loss: 7000896.5000\n",
            "Epoch 8/200\n",
            "23/23 [==============================] - 1s 43ms/step - loss: 10350472.0000 - val_loss: 16599817.0000\n",
            "Epoch 9/200\n",
            "23/23 [==============================] - 1s 31ms/step - loss: 7906278.0000 - val_loss: 7292524.0000\n",
            "Epoch 10/200\n",
            "23/23 [==============================] - 1s 34ms/step - loss: 3628684.2500 - val_loss: 3228581.5000\n",
            "Epoch 11/200\n",
            "23/23 [==============================] - 1s 31ms/step - loss: 3703793.0000 - val_loss: 10884379.0000\n",
            "Epoch 12/200\n",
            "23/23 [==============================] - 1s 32ms/step - loss: 7574766.5000 - val_loss: 3032863.5000\n",
            "Epoch 13/200\n",
            "23/23 [==============================] - 1s 30ms/step - loss: 2509490.0000 - val_loss: 1979541.0000\n",
            "Epoch 14/200\n",
            "23/23 [==============================] - 1s 30ms/step - loss: 1887166.6250 - val_loss: 1212168.1250\n",
            "Epoch 15/200\n",
            "23/23 [==============================] - 1s 30ms/step - loss: 1240367.0000 - val_loss: 913711.5625\n",
            "Epoch 16/200\n",
            "23/23 [==============================] - 1s 31ms/step - loss: 1092491.2500 - val_loss: 750769.5000\n",
            "Epoch 17/200\n",
            "23/23 [==============================] - 1s 29ms/step - loss: 1025603.2500 - val_loss: 1070363.5000\n",
            "Epoch 18/200\n",
            "23/23 [==============================] - 1s 31ms/step - loss: 1074224.1250 - val_loss: 688729.0625\n",
            "Epoch 19/200\n",
            "23/23 [==============================] - 1s 30ms/step - loss: 934675.1875 - val_loss: 1080246.5000\n",
            "Epoch 20/200\n",
            "23/23 [==============================] - 1s 31ms/step - loss: 1004224.6250 - val_loss: 1020368.7500\n",
            "Epoch 21/200\n",
            "23/23 [==============================] - 1s 35ms/step - loss: 1051978.7500 - val_loss: 1041398.3750\n",
            "Epoch 22/200\n",
            "23/23 [==============================] - 1s 31ms/step - loss: 1196679.5000 - val_loss: 791200.1250\n",
            "Epoch 23/200\n",
            "23/23 [==============================] - ETA: 0s - loss: 1002210.0000\n",
            "Epoch 00023: ReduceLROnPlateau reducing learning rate to 0.00010000000474974513.\n",
            "23/23 [==============================] - 1s 31ms/step - loss: 1002210.0000 - val_loss: 708429.5625\n",
            "Epoch 24/200\n",
            "23/23 [==============================] - 1s 31ms/step - loss: 887391.0625 - val_loss: 704188.5000\n",
            "Epoch 25/200\n",
            "23/23 [==============================] - 1s 38ms/step - loss: 988635.9375 - val_loss: 765220.9375\n",
            "Epoch 26/200\n",
            "23/23 [==============================] - 1s 37ms/step - loss: 969115.9375 - val_loss: 722106.9375\n",
            "Epoch 27/200\n",
            "23/23 [==============================] - 1s 31ms/step - loss: 911864.3750 - val_loss: 701290.0000\n",
            "Epoch 28/200\n",
            "23/23 [==============================] - ETA: 0s - loss: 911226.5000\n",
            "Epoch 00028: ReduceLROnPlateau reducing learning rate to 1.0000000474974514e-05.\n",
            "23/23 [==============================] - 1s 33ms/step - loss: 911226.5000 - val_loss: 704533.5625\n",
            "Epoch 29/200\n",
            "23/23 [==============================] - 1s 31ms/step - loss: 917513.4375 - val_loss: 701542.5625\n",
            "Epoch 30/200\n",
            "23/23 [==============================] - 1s 31ms/step - loss: 907262.8750 - val_loss: 709517.6250\n",
            "Epoch 31/200\n",
            "23/23 [==============================] - 1s 37ms/step - loss: 905476.5625 - val_loss: 705782.0625\n",
            "Epoch 32/200\n",
            "23/23 [==============================] - 1s 32ms/step - loss: 901600.4375 - val_loss: 706273.1250\n",
            "Epoch 33/200\n",
            "22/23 [===========================>..] - ETA: 0s - loss: 857751.0000\n",
            "Epoch 00033: ReduceLROnPlateau reducing learning rate to 1e-05.\n",
            "23/23 [==============================] - 1s 32ms/step - loss: 899729.5625 - val_loss: 700782.7500\n",
            "Epoch 34/200\n",
            "23/23 [==============================] - 1s 31ms/step - loss: 897925.1875 - val_loss: 703793.0000\n",
            "Epoch 35/200\n",
            "23/23 [==============================] - 1s 43ms/step - loss: 892557.2500 - val_loss: 701890.9375\n",
            "Epoch 36/200\n",
            "23/23 [==============================] - 1s 33ms/step - loss: 888842.0625 - val_loss: 699706.2500\n",
            "Epoch 37/200\n",
            "23/23 [==============================] - 1s 30ms/step - loss: 888170.1875 - val_loss: 699460.4375\n",
            "Epoch 38/200\n",
            "23/23 [==============================] - 1s 34ms/step - loss: 887491.0625 - val_loss: 695108.8750\n",
            "Epoch 39/200\n",
            "23/23 [==============================] - 1s 32ms/step - loss: 878983.5625 - val_loss: 694576.5625\n",
            "Epoch 40/200\n",
            "23/23 [==============================] - 1s 39ms/step - loss: 878176.2500 - val_loss: 689859.0000\n",
            "Epoch 41/200\n",
            "23/23 [==============================] - 1s 42ms/step - loss: 883088.3750 - val_loss: 693705.9375\n",
            "Epoch 42/200\n",
            "23/23 [==============================] - 1s 39ms/step - loss: 880109.2500 - val_loss: 683417.8125\n",
            "Epoch 43/200\n",
            "23/23 [==============================] - 1s 32ms/step - loss: 863669.9375 - val_loss: 675227.0625\n",
            "Epoch 44/200\n",
            "23/23 [==============================] - 1s 35ms/step - loss: 870964.3125 - val_loss: 680364.5000\n",
            "Epoch 45/200\n",
            "23/23 [==============================] - 1s 31ms/step - loss: 877130.5000 - val_loss: 660916.6250\n",
            "Epoch 46/200\n",
            "23/23 [==============================] - 1s 31ms/step - loss: 872434.5625 - val_loss: 658223.4375\n",
            "Epoch 47/200\n",
            "23/23 [==============================] - 1s 31ms/step - loss: 869295.5000 - val_loss: 657551.3125\n",
            "Epoch 48/200\n",
            "23/23 [==============================] - 1s 37ms/step - loss: 869048.1875 - val_loss: 661791.3125\n",
            "Epoch 49/200\n",
            "23/23 [==============================] - 1s 32ms/step - loss: 866377.7500 - val_loss: 678237.2500\n",
            "Epoch 50/200\n",
            "23/23 [==============================] - 1s 31ms/step - loss: 864262.3125 - val_loss: 676889.0625\n",
            "Epoch 51/200\n",
            "23/23 [==============================] - 1s 31ms/step - loss: 863097.8750 - val_loss: 678158.5625\n",
            "Epoch 52/200\n",
            "23/23 [==============================] - 1s 38ms/step - loss: 861375.0625 - val_loss: 677489.8125\n",
            "Epoch 53/200\n",
            "23/23 [==============================] - 1s 33ms/step - loss: 860195.5000 - val_loss: 669095.4375\n",
            "Epoch 54/200\n",
            "23/23 [==============================] - 1s 34ms/step - loss: 849584.3125 - val_loss: 668260.8750\n",
            "Epoch 55/200\n",
            "23/23 [==============================] - 1s 35ms/step - loss: 849611.0625 - val_loss: 668102.3750\n",
            "Epoch 56/200\n",
            "23/23 [==============================] - 1s 32ms/step - loss: 848227.9375 - val_loss: 665418.3125\n",
            "Epoch 57/200\n",
            "23/23 [==============================] - 1s 32ms/step - loss: 847218.4375 - val_loss: 662092.3125\n",
            "Epoch 58/200\n",
            "23/23 [==============================] - 1s 33ms/step - loss: 847380.1875 - val_loss: 660011.8125\n",
            "Epoch 59/200\n",
            "23/23 [==============================] - 1s 33ms/step - loss: 847328.0625 - val_loss: 660352.3125\n",
            "Epoch 60/200\n",
            "23/23 [==============================] - 1s 31ms/step - loss: 845243.8125 - val_loss: 670242.0625\n",
            "Epoch 61/200\n",
            "23/23 [==============================] - 1s 31ms/step - loss: 844941.2500 - val_loss: 669466.1250\n",
            "Epoch 62/200\n",
            "23/23 [==============================] - 1s 33ms/step - loss: 842350.4375 - val_loss: 669619.6875\n",
            "Epoch 63/200\n",
            "23/23 [==============================] - 1s 30ms/step - loss: 838048.5000 - val_loss: 669427.7500\n",
            "Epoch 64/200\n",
            "23/23 [==============================] - 1s 33ms/step - loss: 833924.6250 - val_loss: 671281.8750\n",
            "Epoch 65/200\n",
            "23/23 [==============================] - 1s 38ms/step - loss: 832788.3125 - val_loss: 670096.6875\n",
            "Epoch 66/200\n",
            "23/23 [==============================] - 1s 31ms/step - loss: 832384.0000 - val_loss: 669428.9375\n",
            "Epoch 67/200\n",
            "23/23 [==============================] - 1s 31ms/step - loss: 830749.1250 - val_loss: 671033.6875\n",
            "Epoch 68/200\n",
            "23/23 [==============================] - 1s 35ms/step - loss: 830940.7500 - val_loss: 669415.3125\n",
            "Epoch 69/200\n",
            "23/23 [==============================] - 1s 31ms/step - loss: 829488.8125 - val_loss: 668557.3750\n",
            "Epoch 70/200\n",
            "23/23 [==============================] - 1s 31ms/step - loss: 829534.8750 - val_loss: 669169.9375\n",
            "Epoch 71/200\n",
            "23/23 [==============================] - 1s 44ms/step - loss: 828108.2500 - val_loss: 668818.5000\n",
            "Epoch 72/200\n",
            "23/23 [==============================] - 1s 30ms/step - loss: 829785.2500 - val_loss: 671162.6875\n",
            "Epoch 73/200\n",
            "23/23 [==============================] - 1s 31ms/step - loss: 827433.3750 - val_loss: 671144.5625\n",
            "Epoch 74/200\n",
            "23/23 [==============================] - 1s 31ms/step - loss: 826181.2500 - val_loss: 669590.9375\n",
            "Epoch 75/200\n",
            "23/23 [==============================] - 1s 31ms/step - loss: 825743.3125 - val_loss: 669759.0625\n",
            "Epoch 76/200\n",
            "23/23 [==============================] - 1s 30ms/step - loss: 825682.1250 - val_loss: 669662.4375\n",
            "Epoch 77/200\n",
            "23/23 [==============================] - 1s 31ms/step - loss: 824299.0625 - val_loss: 667224.1250\n",
            "Epoch 78/200\n",
            "23/23 [==============================] - 1s 32ms/step - loss: 822639.4375 - val_loss: 666916.8750\n",
            "Epoch 79/200\n",
            "23/23 [==============================] - 1s 39ms/step - loss: 823578.9375 - val_loss: 667683.5000\n",
            "Epoch 80/200\n",
            "23/23 [==============================] - 1s 38ms/step - loss: 822263.2500 - val_loss: 669858.2500\n",
            "Epoch 81/200\n",
            "23/23 [==============================] - 1s 37ms/step - loss: 822122.5000 - val_loss: 669222.3750\n",
            "Epoch 82/200\n",
            "23/23 [==============================] - 1s 31ms/step - loss: 824228.1875 - val_loss: 674352.1250\n",
            "Epoch 83/200\n",
            "23/23 [==============================] - 1s 32ms/step - loss: 822297.6250 - val_loss: 670753.8750\n",
            "Epoch 84/200\n",
            "23/23 [==============================] - 1s 31ms/step - loss: 821776.9375 - val_loss: 669120.6875\n",
            "Epoch 85/200\n",
            "23/23 [==============================] - 1s 31ms/step - loss: 820456.4375 - val_loss: 669738.0000\n",
            "Epoch 86/200\n",
            "23/23 [==============================] - 1s 30ms/step - loss: 818564.1875 - val_loss: 672617.6250\n",
            "Epoch 87/200\n",
            "23/23 [==============================] - 1s 32ms/step - loss: 818555.8750 - val_loss: 672963.8125\n",
            "Epoch 88/200\n",
            "23/23 [==============================] - 1s 36ms/step - loss: 817468.1250 - val_loss: 676686.7500\n",
            "Epoch 89/200\n",
            "23/23 [==============================] - 1s 31ms/step - loss: 817922.1875 - val_loss: 678678.3125\n",
            "Epoch 90/200\n",
            "23/23 [==============================] - 1s 40ms/step - loss: 816315.8125 - val_loss: 679500.8750\n",
            "Epoch 91/200\n",
            "23/23 [==============================] - 1s 33ms/step - loss: 817169.3750 - val_loss: 680290.3750\n",
            "Epoch 92/200\n",
            "23/23 [==============================] - 1s 31ms/step - loss: 816045.5000 - val_loss: 675649.5625\n",
            "Epoch 93/200\n",
            "23/23 [==============================] - 1s 31ms/step - loss: 815045.3750 - val_loss: 672647.0625\n",
            "Epoch 94/200\n",
            "23/23 [==============================] - 1s 33ms/step - loss: 814096.3125 - val_loss: 672011.6250\n",
            "Epoch 95/200\n",
            "23/23 [==============================] - 1s 31ms/step - loss: 813916.6875 - val_loss: 675004.3125\n",
            "Epoch 96/200\n",
            "23/23 [==============================] - 1s 33ms/step - loss: 814233.8750 - val_loss: 674165.8750\n",
            "Epoch 97/200\n",
            "23/23 [==============================] - 1s 32ms/step - loss: 813198.3125 - val_loss: 672184.0000\n",
            "Epoch 00097: early stopping\n"
          ],
          "name": "stdout"
        },
        {
          "output_type": "execute_result",
          "data": {
            "text/plain": [
              "<tensorflow.python.keras.callbacks.History at 0x7f6f69883c88>"
            ]
          },
          "metadata": {
            "tags": []
          },
          "execution_count": 91
        }
      ]
    },
    {
      "cell_type": "code",
      "metadata": {
        "id": "YkD7CVRS4T6s",
        "outputId": "b94f4450-92b0-413e-9e10-bf317eca0110",
        "colab": {
          "base_uri": "https://localhost:8080/",
          "height": 54
        }
      },
      "source": [
        "# Create the predictions data frame\n",
        "yhat_enc_dec = pd.DataFrame(np.reshape(np.array(model.predict(X_test, verbose=0)), (7,1)))\n",
        "\n",
        "yhat_enc_dec.columns = ['encoder_decoder']"
      ],
      "execution_count": null,
      "outputs": [
        {
          "output_type": "stream",
          "text": [
            "WARNING:tensorflow:5 out of the last 5 calls to <function Model.make_predict_function.<locals>.predict_function at 0x7f6f6d21ff28> triggered tf.function retracing. Tracing is expensive and the excessive number of tracings could be due to (1) creating @tf.function repeatedly in a loop, (2) passing tensors with different shapes, (3) passing Python objects instead of tensors. For (1), please define your @tf.function outside of the loop. For (2), @tf.function has experimental_relax_shapes=True option that relaxes argument shapes that can avoid unnecessary retracing. For (3), please refer to https://www.tensorflow.org/tutorials/customization/performance#python_or_tensor_args and https://www.tensorflow.org/api_docs/python/tf/function for  more details.\n"
          ],
          "name": "stdout"
        }
      ]
    },
    {
      "cell_type": "code",
      "metadata": {
        "id": "N60S3krc4T60"
      },
      "source": [
        "# Create the test set data frame\n",
        "#y_test = pd.DataFrame(np.reshape(np.array(y_test), (14,1)))\n",
        "\n",
        "#y_test.columns = ['real']"
      ],
      "execution_count": null,
      "outputs": []
    },
    {
      "cell_type": "code",
      "metadata": {
        "id": "VRzAibSInNjP"
      },
      "source": [
        "predictions = pd.concat([predictions, yhat_enc_dec], axis=1, sort=False)"
      ],
      "execution_count": null,
      "outputs": []
    },
    {
      "cell_type": "code",
      "metadata": {
        "id": "YOvRuF3g4T65"
      },
      "source": [
        "import matplotlib.pyplot as plt"
      ],
      "execution_count": null,
      "outputs": []
    },
    {
      "cell_type": "code",
      "metadata": {
        "id": "x-Fxk03P4T6-",
        "outputId": "3e642178-b443-49ec-80df-9f74b1d64e59",
        "colab": {
          "base_uri": "https://localhost:8080/",
          "height": 551
        }
      },
      "source": [
        "# Plot the predictions against the truth\n",
        "\n",
        "plt.plot(predictions.index, predictions.real, label = \"Real\")\n",
        "#plt.plot(predictions.index, predictions.stacked)\n",
        "plt.plot(predictions.index, predictions.encoder_decoder, label = \"Encoder Decoder\")\n",
        "plt.legend(loc=\"bottom left\")"
      ],
      "execution_count": null,
      "outputs": [
        {
          "output_type": "stream",
          "text": [
            "/usr/local/lib/python3.6/dist-packages/ipykernel_launcher.py:6: MatplotlibDeprecationWarning: Unrecognized location 'bottom left'. Falling back on 'best'; valid locations are\n",
            "\tbest\n",
            "\tupper right\n",
            "\tupper left\n",
            "\tlower left\n",
            "\tlower right\n",
            "\tright\n",
            "\tcenter left\n",
            "\tcenter right\n",
            "\tlower center\n",
            "\tupper center\n",
            "\tcenter\n",
            "This will raise an exception in 3.3.\n",
            "  \n"
          ],
          "name": "stderr"
        },
        {
          "output_type": "execute_result",
          "data": {
            "text/plain": [
              "<matplotlib.legend.Legend at 0x7f6f682d84e0>"
            ]
          },
          "metadata": {
            "tags": []
          },
          "execution_count": 96
        },
        {
          "output_type": "display_data",
          "data": {
            "image/png": "[encoded data removed]",
            "text/plain": [
              "<Figure size 432x288 with 1 Axes>"
            ]
          },
          "metadata": {
            "tags": [],
            "needs_background": "light"
          }
        }
      ]
    },
    {
      "cell_type": "code",
      "metadata": {
        "id": "jd0riuWN2tDo",
        "outputId": "ccebbb0f-5b8d-4f90-ad8d-29dbd7a64630",
        "colab": {
          "base_uri": "https://localhost:8080/",
          "height": 34
        }
      },
      "source": [
        "rmse(predictions.encoder_decoder, predictions.real)"
      ],
      "execution_count": null,
      "outputs": [
        {
          "output_type": "execute_result",
          "data": {
            "text/plain": [
              "1141.7187858876928"
            ]
          },
          "metadata": {
            "tags": []
          },
          "execution_count": 97
        }
      ]
    },
    {
      "cell_type": "markdown",
      "metadata": {
        "id": "TPjxuKJBoRUf"
      },
      "source": [
        "# CNN-LSTM"
      ]
    },
    {
      "cell_type": "code",
      "metadata": {
        "id": "atH9DnVapsBH"
      },
      "source": [
        "# univariate bidirectional lstm example\n",
        "from numpy import array\n",
        "from keras.models import Sequential\n",
        "from keras.layers import LSTM\n",
        "from keras.layers import Dense\n",
        "from keras.layers import Bidirectional\n",
        "from keras.layers import Flatten\n",
        "from keras.layers import ConvLSTM2D"
      ],
      "execution_count": null,
      "outputs": []
    },
    {
      "cell_type": "code",
      "metadata": {
        "id": "O6T1Y2P0oT91"
      },
      "source": [
        "# choose a number of time steps\n",
        "# multi-step data preparation\n",
        "from numpy import array\n",
        " \n",
        "# split a univariate sequence into samples\n",
        "def split_sequence(sequence, n_steps_in, n_steps_out):\n",
        "\tX, y = list(), list()\n",
        "\tfor i in range(len(sequence)):\n",
        "\t\t# find the end of this pattern\n",
        "\t\tend_ix = i + n_steps_in\n",
        "\t\tout_end_ix = end_ix + n_steps_out\n",
        "\t\t# check if we are beyond the sequence\n",
        "\t\tif out_end_ix > len(sequence):\n",
        "\t\t\tbreak\n",
        "\t\t# gather input and output parts of the pattern\n",
        "\t\tseq_x, seq_y = sequence[i:end_ix], sequence[end_ix:out_end_ix]\n",
        "\t\tX.append(seq_x)\n",
        "\t\ty.append(seq_y)\n",
        "\treturn array(X), array(y)\n",
        " \n",
        "# define input sequence for TRAIN\n",
        "train_seq = train\n",
        "# choose a number of time steps\n",
        "n_steps_in, n_steps_out = 14, 7\n",
        "# split into samples\n",
        "X_train, y_train = split_sequence(train_seq, n_steps_in, n_steps_out)\n",
        "# summarize the data\n",
        "\n",
        "\n",
        "# define input sequence for TEST\n",
        "test_seq = test\n",
        "# choose a number of time steps\n",
        "n_steps_in, n_steps_out = 14, 7\n",
        "# split into samples\n",
        "X_test, y_test = split_sequence(test_seq, n_steps_in, n_steps_out)"
      ],
      "execution_count": null,
      "outputs": []
    },
    {
      "cell_type": "code",
      "metadata": {
        "id": "xAtVDDzxvox9"
      },
      "source": [
        "n_features = 1\n",
        "n_seq = 2\n",
        "n_steps = 7\n",
        "\n",
        "X_train = X_train.reshape((X_train.shape[0], n_seq, 1, n_steps, n_features))"
      ],
      "execution_count": null,
      "outputs": []
    },
    {
      "cell_type": "code",
      "metadata": {
        "id": "xy3rrd0wf-Dd"
      },
      "source": [
        "n_features = 1\n",
        "n_seq = 2\n",
        "n_steps = 7\n",
        "\n",
        "X_test = X_test.reshape((X_test.shape[0], n_seq, 1, n_steps, n_features))"
      ],
      "execution_count": null,
      "outputs": []
    },
    {
      "cell_type": "code",
      "metadata": {
        "id": "-ggNTjMpsdX4"
      },
      "source": [
        "# define model\n",
        "model = Sequential()"
      ],
      "execution_count": null,
      "outputs": []
    },
    {
      "cell_type": "code",
      "metadata": {
        "id": "RXRk71N4se4u"
      },
      "source": [
        "model.add(ConvLSTM2D(filters=64, kernel_size=(1,2), activation='relu', input_shape=(n_seq, 1, n_steps, n_features)))\n",
        "model.add(Flatten())\n",
        "model.add(Dense(n_steps_out))"
      ],
      "execution_count": null,
      "outputs": []
    },
    {
      "cell_type": "code",
      "metadata": {
        "id": "lqCwNxROsgx-"
      },
      "source": [
        "model.compile(optimizer='adam', loss='mse')"
      ],
      "execution_count": null,
      "outputs": []
    },
    {
      "cell_type": "code",
      "metadata": {
        "id": "ZtZiqxJ_tHz1",
        "outputId": "2440788c-032e-49a5-cb43-f215a0b9afc1",
        "colab": {
          "base_uri": "https://localhost:8080/",
          "height": 265
        }
      },
      "source": [
        "model.summary()"
      ],
      "execution_count": null,
      "outputs": [
        {
          "output_type": "stream",
          "text": [
            "Model: \"sequential_5\"\n",
            "_________________________________________________________________\n",
            "Layer (type)                 Output Shape              Param #   \n",
            "=================================================================\n",
            "conv_lst_m2d_1 (ConvLSTM2D)  (None, 1, 6, 64)          33536     \n",
            "_________________________________________________________________\n",
            "flatten_1 (Flatten)          (None, 384)               0         \n",
            "_________________________________________________________________\n",
            "dense_5 (Dense)              (None, 7)                 2695      \n",
            "=================================================================\n",
            "Total params: 36,231\n",
            "Trainable params: 36,231\n",
            "Non-trainable params: 0\n",
            "_________________________________________________________________\n"
          ],
          "name": "stdout"
        }
      ]
    },
    {
      "cell_type": "code",
      "metadata": {
        "id": "JWx1hj0Zs8G3",
        "outputId": "6b6f9346-03c2-4e30-9425-3319e5c3bbe3",
        "colab": {
          "base_uri": "https://localhost:8080/",
          "height": 1000
        }
      },
      "source": [
        "model.fit(X_train, y_train, epochs=200, validation_split=0.3, callbacks = [early_stopping, reduce_lr])"
      ],
      "execution_count": null,
      "outputs": [
        {
          "output_type": "stream",
          "text": [
            "Epoch 1/200\n",
            "23/23 [==============================] - 1s 30ms/step - loss: 49325896.0000 - val_loss: 62848532.0000\n",
            "Epoch 2/200\n",
            "23/23 [==============================] - 0s 15ms/step - loss: 27138148.0000 - val_loss: 15216787.0000\n",
            "Epoch 3/200\n",
            "23/23 [==============================] - 0s 14ms/step - loss: 3922152.2500 - val_loss: 1463752.7500\n",
            "Epoch 4/200\n",
            "23/23 [==============================] - 0s 14ms/step - loss: 1666349.7500 - val_loss: 1061445.3750\n",
            "Epoch 5/200\n",
            "23/23 [==============================] - 0s 14ms/step - loss: 1481773.1250 - val_loss: 1058679.5000\n",
            "Epoch 6/200\n",
            "23/23 [==============================] - 0s 13ms/step - loss: 1519567.3750 - val_loss: 1059192.3750\n",
            "Epoch 7/200\n",
            "23/23 [==============================] - 0s 13ms/step - loss: 1438552.2500 - val_loss: 1013094.8750\n",
            "Epoch 8/200\n",
            "23/23 [==============================] - 0s 15ms/step - loss: 1411369.1250 - val_loss: 941994.9375\n",
            "Epoch 9/200\n",
            "23/23 [==============================] - 0s 13ms/step - loss: 1429227.0000 - val_loss: 1039162.5000\n",
            "Epoch 10/200\n",
            "23/23 [==============================] - 0s 14ms/step - loss: 1385424.8750 - val_loss: 1174112.8750\n",
            "Epoch 11/200\n",
            "23/23 [==============================] - 0s 13ms/step - loss: 1447477.8750 - val_loss: 921553.2500\n",
            "Epoch 12/200\n",
            "23/23 [==============================] - 0s 17ms/step - loss: 1333663.0000 - val_loss: 943041.2500\n",
            "Epoch 13/200\n",
            "23/23 [==============================] - 0s 18ms/step - loss: 1334392.2500 - val_loss: 964973.8125\n",
            "Epoch 14/200\n",
            "23/23 [==============================] - 0s 13ms/step - loss: 1335675.1250 - val_loss: 1014671.1250\n",
            "Epoch 15/200\n",
            "23/23 [==============================] - 0s 13ms/step - loss: 1294934.8750 - val_loss: 873666.9375\n",
            "Epoch 16/200\n",
            "23/23 [==============================] - 0s 13ms/step - loss: 1265432.7500 - val_loss: 959433.1875\n",
            "Epoch 17/200\n",
            "23/23 [==============================] - 0s 14ms/step - loss: 1385326.6250 - val_loss: 991652.8125\n",
            "Epoch 18/200\n",
            "23/23 [==============================] - 0s 13ms/step - loss: 1379611.7500 - val_loss: 952785.2500\n",
            "Epoch 19/200\n",
            "23/23 [==============================] - 0s 13ms/step - loss: 1350485.3750 - val_loss: 969637.6250\n",
            "Epoch 20/200\n",
            "23/23 [==============================] - 0s 14ms/step - loss: 1241482.3750 - val_loss: 801609.8750\n",
            "Epoch 21/200\n",
            "23/23 [==============================] - 0s 13ms/step - loss: 1118933.6250 - val_loss: 760914.6250\n",
            "Epoch 22/200\n",
            "23/23 [==============================] - 0s 13ms/step - loss: 1111915.5000 - val_loss: 774978.8125\n",
            "Epoch 23/200\n",
            "23/23 [==============================] - 0s 14ms/step - loss: 1076827.6250 - val_loss: 746328.2500\n",
            "Epoch 24/200\n",
            "23/23 [==============================] - 0s 13ms/step - loss: 1284013.7500 - val_loss: 904104.8125\n",
            "Epoch 25/200\n",
            "23/23 [==============================] - 0s 13ms/step - loss: 1257439.8750 - val_loss: 902558.0625\n",
            "Epoch 26/200\n",
            "23/23 [==============================] - 0s 14ms/step - loss: 1242582.6250 - val_loss: 876105.3750\n",
            "Epoch 27/200\n",
            "23/23 [==============================] - 0s 13ms/step - loss: 1190964.8750 - val_loss: 844429.3125\n",
            "Epoch 28/200\n",
            "19/23 [=======================>......] - ETA: 0s - loss: 1178097.6250\n",
            "Epoch 00028: ReduceLROnPlateau reducing learning rate to 0.00010000000474974513.\n",
            "23/23 [==============================] - 0s 13ms/step - loss: 1172145.8750 - val_loss: 875511.8125\n",
            "Epoch 29/200\n",
            "23/23 [==============================] - 0s 16ms/step - loss: 1153919.5000 - val_loss: 834444.2500\n",
            "Epoch 30/200\n",
            "23/23 [==============================] - 0s 13ms/step - loss: 1141523.5000 - val_loss: 823776.0625\n",
            "Epoch 31/200\n",
            "23/23 [==============================] - 0s 13ms/step - loss: 1142422.6250 - val_loss: 825416.5000\n",
            "Epoch 32/200\n",
            "23/23 [==============================] - 0s 15ms/step - loss: 1135306.7500 - val_loss: 820052.4375\n",
            "Epoch 33/200\n",
            "23/23 [==============================] - ETA: 0s - loss: 1133999.6250\n",
            "Epoch 00033: ReduceLROnPlateau reducing learning rate to 1.0000000474974514e-05.\n",
            "23/23 [==============================] - 0s 18ms/step - loss: 1133999.6250 - val_loss: 820350.0625\n",
            "Epoch 34/200\n",
            "23/23 [==============================] - 0s 17ms/step - loss: 1129916.2500 - val_loss: 819528.5625\n",
            "Epoch 35/200\n",
            "23/23 [==============================] - 0s 13ms/step - loss: 1129594.7500 - val_loss: 819486.0000\n",
            "Epoch 36/200\n",
            "23/23 [==============================] - 0s 13ms/step - loss: 1129091.0000 - val_loss: 819197.3125\n",
            "Epoch 37/200\n",
            "23/23 [==============================] - 0s 14ms/step - loss: 1129015.3750 - val_loss: 819293.5625\n",
            "Epoch 38/200\n",
            "23/23 [==============================] - ETA: 0s - loss: 1128528.2500\n",
            "Epoch 00038: ReduceLROnPlateau reducing learning rate to 1e-05.\n",
            "23/23 [==============================] - 0s 14ms/step - loss: 1128528.2500 - val_loss: 818813.5625\n",
            "Epoch 39/200\n",
            "23/23 [==============================] - 0s 13ms/step - loss: 1128428.1250 - val_loss: 818336.6875\n",
            "Epoch 40/200\n",
            "23/23 [==============================] - 0s 14ms/step - loss: 1128140.7500 - val_loss: 818165.3750\n",
            "Epoch 41/200\n",
            "23/23 [==============================] - 0s 13ms/step - loss: 1127744.6250 - val_loss: 818309.6250\n",
            "Epoch 42/200\n",
            "23/23 [==============================] - 0s 13ms/step - loss: 1127506.7500 - val_loss: 818149.7500\n",
            "Epoch 43/200\n",
            "23/23 [==============================] - 0s 14ms/step - loss: 1127174.5000 - val_loss: 817915.0625\n",
            "Epoch 44/200\n",
            "23/23 [==============================] - 0s 14ms/step - loss: 1126817.1250 - val_loss: 817813.0000\n",
            "Epoch 45/200\n",
            "23/23 [==============================] - 0s 13ms/step - loss: 1126610.0000 - val_loss: 817447.3750\n",
            "Epoch 46/200\n",
            "23/23 [==============================] - 0s 15ms/step - loss: 1126519.1250 - val_loss: 817656.8125\n",
            "Epoch 47/200\n",
            "23/23 [==============================] - 0s 14ms/step - loss: 1125972.6250 - val_loss: 817300.8125\n",
            "Epoch 48/200\n",
            "23/23 [==============================] - 0s 13ms/step - loss: 1125937.1250 - val_loss: 817190.8750\n",
            "Epoch 49/200\n",
            "23/23 [==============================] - 0s 13ms/step - loss: 1125483.2500 - val_loss: 816645.6875\n",
            "Epoch 50/200\n",
            "23/23 [==============================] - 0s 14ms/step - loss: 1125112.3750 - val_loss: 816565.7500\n",
            "Epoch 51/200\n",
            "23/23 [==============================] - 0s 15ms/step - loss: 1124953.3750 - val_loss: 816607.9375\n",
            "Epoch 52/200\n",
            "23/23 [==============================] - 0s 15ms/step - loss: 1124697.3750 - val_loss: 816011.6250\n",
            "Epoch 53/200\n",
            "23/23 [==============================] - 0s 13ms/step - loss: 1124467.7500 - val_loss: 816040.8125\n",
            "Epoch 54/200\n",
            "23/23 [==============================] - 0s 13ms/step - loss: 1123953.1250 - val_loss: 815833.1250\n",
            "Epoch 55/200\n",
            "23/23 [==============================] - 0s 14ms/step - loss: 1123714.3750 - val_loss: 815562.2500\n",
            "Epoch 56/200\n",
            "23/23 [==============================] - 0s 13ms/step - loss: 1123536.5000 - val_loss: 815651.2500\n",
            "Epoch 57/200\n",
            "23/23 [==============================] - 0s 14ms/step - loss: 1123474.7500 - val_loss: 815008.6250\n",
            "Epoch 58/200\n",
            "23/23 [==============================] - 0s 14ms/step - loss: 1122800.6250 - val_loss: 815048.9375\n",
            "Epoch 59/200\n",
            "23/23 [==============================] - 0s 13ms/step - loss: 1122742.3750 - val_loss: 815261.0625\n",
            "Epoch 60/200\n",
            "23/23 [==============================] - 0s 13ms/step - loss: 1122343.3750 - val_loss: 814812.5000\n",
            "Epoch 61/200\n",
            "23/23 [==============================] - 0s 14ms/step - loss: 1122067.3750 - val_loss: 814791.1875\n",
            "Epoch 62/200\n",
            "23/23 [==============================] - 0s 14ms/step - loss: 1121764.2500 - val_loss: 814456.6875\n",
            "Epoch 63/200\n",
            "23/23 [==============================] - 0s 13ms/step - loss: 1121480.6250 - val_loss: 814105.1250\n",
            "Epoch 64/200\n",
            "23/23 [==============================] - 0s 14ms/step - loss: 1121016.3750 - val_loss: 814147.4375\n",
            "Epoch 65/200\n",
            "23/23 [==============================] - 0s 14ms/step - loss: 1120829.1250 - val_loss: 814015.8750\n",
            "Epoch 66/200\n",
            "23/23 [==============================] - 0s 14ms/step - loss: 1120521.2500 - val_loss: 813727.8750\n",
            "Epoch 67/200\n",
            "23/23 [==============================] - 0s 14ms/step - loss: 1120245.1250 - val_loss: 813830.5625\n",
            "Epoch 68/200\n",
            "23/23 [==============================] - 0s 16ms/step - loss: 1119975.1250 - val_loss: 813338.5625\n",
            "Epoch 69/200\n",
            "23/23 [==============================] - 0s 17ms/step - loss: 1119577.7500 - val_loss: 813170.2500\n",
            "Epoch 70/200\n",
            "23/23 [==============================] - 0s 18ms/step - loss: 1119317.6250 - val_loss: 813321.1250\n",
            "Epoch 71/200\n",
            "23/23 [==============================] - 0s 18ms/step - loss: 1118962.0000 - val_loss: 813064.0625\n",
            "Epoch 72/200\n",
            "23/23 [==============================] - 0s 14ms/step - loss: 1118849.3750 - val_loss: 812608.1250\n",
            "Epoch 73/200\n",
            "23/23 [==============================] - 0s 14ms/step - loss: 1118551.0000 - val_loss: 812769.8125\n",
            "Epoch 00073: early stopping\n"
          ],
          "name": "stdout"
        },
        {
          "output_type": "execute_result",
          "data": {
            "text/plain": [
              "<tensorflow.python.keras.callbacks.History at 0x7f6f68201828>"
            ]
          },
          "metadata": {
            "tags": []
          },
          "execution_count": 105
        }
      ]
    },
    {
      "cell_type": "code",
      "metadata": {
        "id": "rPOgvS2ay8ZQ",
        "outputId": "1458a2c7-d15c-4e94-ae33-abc651049eff",
        "colab": {
          "base_uri": "https://localhost:8080/",
          "height": 257
        }
      },
      "source": [
        "yhat_cnn = pd.DataFrame(np.reshape(model.predict(X_test), (7,1)))\n",
        "\n",
        "yhat_cnn.columns = ['CNN']\n",
        "\n",
        "yhat_cnn"
      ],
      "execution_count": null,
      "outputs": [
        {
          "output_type": "execute_result",
          "data": {
            "text/html": [
              "<div>\n",
              "<style scoped>\n",
              "    .dataframe tbody tr th:only-of-type {\n",
              "        vertical-align: middle;\n",
              "    }\n",
              "\n",
              "    .dataframe tbody tr th {\n",
              "        vertical-align: top;\n",
              "    }\n",
              "\n",
              "    .dataframe thead th {\n",
              "        text-align: right;\n",
              "    }\n",
              "</style>\n",
              "<table border=\"1\" class=\"dataframe\">\n",
              "  <thead>\n",
              "    <tr style=\"text-align: right;\">\n",
              "      <th></th>\n",
              "      <th>CNN</th>\n",
              "    </tr>\n",
              "  </thead>\n",
              "  <tbody>\n",
              "    <tr>\n",
              "      <th>0</th>\n",
              "      <td>7779.452148</td>\n",
              "    </tr>\n",
              "    <tr>\n",
              "      <th>1</th>\n",
              "      <td>7834.411621</td>\n",
              "    </tr>\n",
              "    <tr>\n",
              "      <th>2</th>\n",
              "      <td>7787.700684</td>\n",
              "    </tr>\n",
              "    <tr>\n",
              "      <th>3</th>\n",
              "      <td>7695.085449</td>\n",
              "    </tr>\n",
              "    <tr>\n",
              "      <th>4</th>\n",
              "      <td>7924.594238</td>\n",
              "    </tr>\n",
              "    <tr>\n",
              "      <th>5</th>\n",
              "      <td>7656.398926</td>\n",
              "    </tr>\n",
              "    <tr>\n",
              "      <th>6</th>\n",
              "      <td>7880.287598</td>\n",
              "    </tr>\n",
              "  </tbody>\n",
              "</table>\n",
              "</div>"
            ],
            "text/plain": [
              "           CNN\n",
              "0  7779.452148\n",
              "1  7834.411621\n",
              "2  7787.700684\n",
              "3  7695.085449\n",
              "4  7924.594238\n",
              "5  7656.398926\n",
              "6  7880.287598"
            ]
          },
          "metadata": {
            "tags": []
          },
          "execution_count": 107
        }
      ]
    },
    {
      "cell_type": "code",
      "metadata": {
        "id": "qbzAQiqI0RR4"
      },
      "source": [
        "predictions = pd.concat([predictions, yhat_cnn], axis=1, sort=False)"
      ],
      "execution_count": null,
      "outputs": []
    },
    {
      "cell_type": "code",
      "metadata": {
        "id": "3da1edeqMyj5",
        "outputId": "25a025a6-14b3-4250-c3a2-39f1a1b1d2ee",
        "colab": {
          "base_uri": "https://localhost:8080/",
          "height": 551
        }
      },
      "source": [
        "# Plot the predictions against the truth\n",
        "\n",
        "plt.plot(predictions.index, predictions.real, label = \"Real\")\n",
        "#plt.plot(predictions.index, predictions.stacked, label = \"Stacked\")\n",
        "#plt.plot(predictions.index, predictions.encoder_decoder, label = \"Encoder Decoder\")\n",
        "plt.plot(predictions.index, predictions.CNN, label = \"CNN\")\n",
        "plt.legend(loc=\"bottom right\")"
      ],
      "execution_count": null,
      "outputs": [
        {
          "output_type": "stream",
          "text": [
            "/usr/local/lib/python3.6/dist-packages/ipykernel_launcher.py:7: MatplotlibDeprecationWarning: Unrecognized location 'bottom right'. Falling back on 'best'; valid locations are\n",
            "\tbest\n",
            "\tupper right\n",
            "\tupper left\n",
            "\tlower left\n",
            "\tlower right\n",
            "\tright\n",
            "\tcenter left\n",
            "\tcenter right\n",
            "\tlower center\n",
            "\tupper center\n",
            "\tcenter\n",
            "This will raise an exception in 3.3.\n",
            "  import sys\n"
          ],
          "name": "stderr"
        },
        {
          "output_type": "execute_result",
          "data": {
            "text/plain": [
              "<matplotlib.legend.Legend at 0x7f6f67713e10>"
            ]
          },
          "metadata": {
            "tags": []
          },
          "execution_count": 109
        },
        {
          "output_type": "display_data",
          "data": {
            "image/png": "[encoded data removed]",
            "text/plain": [
              "<Figure size 432x288 with 1 Axes>"
            ]
          },
          "metadata": {
            "tags": [],
            "needs_background": "light"
          }
        }
      ]
    },
    {
      "cell_type": "code",
      "metadata": {
        "id": "f4-lZIqCM-ne",
        "outputId": "ba614f5a-c2a0-41e0-a6ec-5bb1f473e763",
        "colab": {
          "base_uri": "https://localhost:8080/",
          "height": 34
        }
      },
      "source": [
        "rmse(predictions.CNN, predictions.real)"
      ],
      "execution_count": null,
      "outputs": [
        {
          "output_type": "execute_result",
          "data": {
            "text/plain": [
              "1355.3616800872412"
            ]
          },
          "metadata": {
            "tags": []
          },
          "execution_count": 110
        }
      ]
    },
    {
      "cell_type": "code",
      "metadata": {
        "id": "yZxNgbapNrJc",
        "outputId": "589d0f17-fb3a-4102-8343-debd2def082c",
        "colab": {
          "base_uri": "https://localhost:8080/",
          "height": 34
        }
      },
      "source": [
        "rmse(predictions.stacked, predictions.real)"
      ],
      "execution_count": null,
      "outputs": [
        {
          "output_type": "execute_result",
          "data": {
            "text/plain": [
              "100.24406118750824"
            ]
          },
          "metadata": {
            "tags": []
          },
          "execution_count": 120
        }
      ]
    },
    {
      "cell_type": "code",
      "metadata": {
        "id": "dqeJPI4FNrnC",
        "outputId": "048c3a96-04c1-4927-a94a-1d4d899a04f1",
        "colab": {
          "base_uri": "https://localhost:8080/",
          "height": 34
        }
      },
      "source": [
        "rmse(predictions.encoder_decoder, predictions.real)"
      ],
      "execution_count": null,
      "outputs": [
        {
          "output_type": "execute_result",
          "data": {
            "text/plain": [
              "314.90066854586377"
            ]
          },
          "metadata": {
            "tags": []
          },
          "execution_count": 121
        }
      ]
    },
    {
      "cell_type": "markdown",
      "metadata": {
        "id": "Yvur19aP4x-6"
      },
      "source": [
        "# CLASSIFICATION"
      ]
    },
    {
      "cell_type": "code",
      "metadata": {
        "id": "XhhKkK3t4_qx"
      },
      "source": [
        "# Create the binary outcome variable\n",
        "data['btc_bin'] = data['BTC_close']"
      ],
      "execution_count": null,
      "outputs": []
    },
    {
      "cell_type": "code",
      "metadata": {
        "id": "S7I7lNJv580J"
      },
      "source": [
        "data['btc_lag'] = data['btc_bin'].shift(1)"
      ],
      "execution_count": null,
      "outputs": []
    },
    {
      "cell_type": "code",
      "metadata": {
        "id": "MAwl86dE6WkS"
      },
      "source": [
        "data['BTC_binary'] = np.where(data.BTC_close > data.btc_lag, 1, 0)"
      ],
      "execution_count": null,
      "outputs": []
    },
    {
      "cell_type": "code",
      "metadata": {
        "id": "_9YZT19I7cyo"
      },
      "source": [
        "# Duplicate the bitcoin variables before lagging\n",
        "data['BTC_open_dup'] = data['BTC_open'] \n",
        "data['BTC_close_dup'] = data['BTC_close']\n",
        "data['BTC_vol_dup'] = data['BTC_vol']"
      ],
      "execution_count": null,
      "outputs": []
    },
    {
      "cell_type": "code",
      "metadata": {
        "id": "NEhv1Ty-7cyt"
      },
      "source": [
        "# Remove the BTC open and BTC vol variables before lagging as they  can't be used for this type of modelling strategy. \n",
        "data = data.drop(['BTC_open', 'BTC_vol'], axis = 1)"
      ],
      "execution_count": null,
      "outputs": []
    },
    {
      "cell_type": "code",
      "metadata": {
        "id": "Fio-odQN7cyw"
      },
      "source": [
        "# Lag all variables except BTC_close\n",
        "\n",
        "data['ETHER_open'] = data['ETHER_open'].shift(7)\n",
        "data['ETHER_close'] = data['ETHER_close'].shift(7)\n",
        "data['ETHER_vol'] = data['ETHER_vol'].shift(7)\n",
        "\n",
        "data['XRP_open'] = data['XRP_open'].shift(7)\n",
        "data['XRP_close'] = data['XRP_close'].shift(7)\n",
        "data['XRP_vol'] = data['XRP_vol'].shift(7)\n",
        "\n",
        "data['BTC_open_dup'] = data['BTC_open_dup'].shift(7)\n",
        "data['BTC_close_dup'] = data['BTC_close_dup'].shift(7)\n",
        "data['BTC_vol_dup'] = data['BTC_vol_dup'].shift(7)"
      ],
      "execution_count": null,
      "outputs": []
    },
    {
      "cell_type": "code",
      "metadata": {
        "id": "YJPF6bY37cyy"
      },
      "source": [
        "# Drop the first 7 rows of the data set as these are NA rows due to the lagging. \n",
        "data.drop(data.head(7).index, inplace=True)"
      ],
      "execution_count": null,
      "outputs": []
    },
    {
      "cell_type": "code",
      "metadata": {
        "id": "D_xxpVDJ7Isx"
      },
      "source": [
        "# Set the  data index as a data col\n",
        "data.index = range(1,1168)"
      ],
      "execution_count": null,
      "outputs": []
    },
    {
      "cell_type": "code",
      "metadata": {
        "id": "LEhWZNpN7Is0"
      },
      "source": [
        "# May train and test sets\n",
        "pd.set_option(\"display.max_rows\", None, \"display.max_columns\", None)\n",
        "train_may = data[1:1071]\n",
        "test_may = data[1071:1078]"
      ],
      "execution_count": null,
      "outputs": []
    },
    {
      "cell_type": "code",
      "metadata": {
        "id": "4PE-0lU47Is4"
      },
      "source": [
        "# July train and test sets\n",
        "train_july = data[1:1132]\n",
        "test_july = data[1132:1139]"
      ],
      "execution_count": null,
      "outputs": []
    },
    {
      "cell_type": "code",
      "metadata": {
        "id": "iMe8Kurx7D1W"
      },
      "source": [
        "# Select the independent variables for the first experiment in 'x' and the dependent variable 'y' for MAY\n",
        "x_train_may = train_may[['ETHER_open', 'ETHER_close', 'ETHER_vol', 'XRP_open', 'XRP_close', 'XRP_vol', 'BTC_open_dup', 'BTC_close_dup', 'BTC_vol_dup']]\n",
        "y_train_may = train_may['BTC_binary']\n",
        "\n",
        "# Setup testing x and y variables\n",
        "x_test_may = test_may[['ETHER_open', 'ETHER_close', 'ETHER_vol', 'XRP_open', 'XRP_close', 'XRP_vol', 'BTC_open_dup', 'BTC_close_dup', 'BTC_vol_dup']]\n",
        "y_test_may = test_may['BTC_binary']\n"
      ],
      "execution_count": null,
      "outputs": []
    },
    {
      "cell_type": "code",
      "metadata": {
        "id": "qDXP34OX7D1b"
      },
      "source": [
        "# Select the independent variables for the first experiment in 'x' and the dependent variable 'y' for JULY\n",
        "x_train_july = train_july[['ETHER_open', 'ETHER_close', 'ETHER_vol', 'XRP_open', 'XRP_close', 'XRP_vol', 'BTC_open_dup', 'BTC_close_dup', 'BTC_vol_dup']]\n",
        "y_train_july = train_july['BTC_binary']\n",
        "\n",
        "# Setup testing x and y variables\n",
        "x_test_july = test_july[['ETHER_open', 'ETHER_close', 'ETHER_vol', 'XRP_open', 'XRP_close', 'XRP_vol', 'BTC_open_dup', 'BTC_close_dup', 'BTC_vol_dup']]\n",
        "y_test_july = test_july['BTC_binary']\n"
      ],
      "execution_count": null,
      "outputs": []
    },
    {
      "cell_type": "code",
      "metadata": {
        "id": "OAiI_AvM_JVW"
      },
      "source": [
        "import tensorflow as tf\n",
        "import numpy as np\n",
        "from sklearn.preprocessing import scale\n",
        "from sklearn.preprocessing import StandardScaler"
      ],
      "execution_count": null,
      "outputs": []
    },
    {
      "cell_type": "code",
      "metadata": {
        "id": "_MX_oqPO_JVb"
      },
      "source": [
        "# Standardise the two data sets as a neural network requires standardised data\n",
        "\n",
        "scaled_X_train = scale(x_train_may)\n",
        "scaled_X_test = scale(x_test_may)"
      ],
      "execution_count": null,
      "outputs": []
    },
    {
      "cell_type": "markdown",
      "metadata": {
        "id": "muJ_xMAe731A"
      },
      "source": [
        "# Logistic Classification - May"
      ]
    },
    {
      "cell_type": "code",
      "metadata": {
        "id": "FY-zMkhz9k0B"
      },
      "source": [
        "from sklearn.linear_model import LogisticRegression"
      ],
      "execution_count": null,
      "outputs": []
    },
    {
      "cell_type": "code",
      "metadata": {
        "id": "NiW3Ymk89o9n"
      },
      "source": [
        "# all parameters not specified are set to their defaults\n",
        "logisticRegr = LogisticRegression()"
      ],
      "execution_count": null,
      "outputs": []
    },
    {
      "cell_type": "code",
      "metadata": {
        "id": "i20Swehc9r2P",
        "outputId": "aa54a5df-2f0c-4bb1-ab6e-8c89591b7e7c",
        "colab": {
          "base_uri": "https://localhost:8080/",
          "height": 105
        }
      },
      "source": [
        "logisticRegr.fit(x_train_may, y_train_may)"
      ],
      "execution_count": null,
      "outputs": [
        {
          "output_type": "execute_result",
          "data": {
            "text/plain": [
              "LogisticRegression(C=1.0, class_weight=None, dual=False, fit_intercept=True,\n",
              "                   intercept_scaling=1, l1_ratio=None, max_iter=100,\n",
              "                   multi_class='auto', n_jobs=None, penalty='l2',\n",
              "                   random_state=None, solver='lbfgs', tol=0.0001, verbose=0,\n",
              "                   warm_start=False)"
            ]
          },
          "metadata": {
            "tags": []
          },
          "execution_count": 108
        }
      ]
    },
    {
      "cell_type": "code",
      "metadata": {
        "id": "iVIPo7BK91YZ"
      },
      "source": [
        "predictions = logisticRegr.predict(x_train_may)"
      ],
      "execution_count": null,
      "outputs": []
    },
    {
      "cell_type": "code",
      "metadata": {
        "id": "mnrYegVm933G",
        "outputId": "c5dd75fb-a36b-4972-b4cd-a1d727765a44",
        "colab": {
          "base_uri": "https://localhost:8080/",
          "height": 34
        }
      },
      "source": [
        "predictions"
      ],
      "execution_count": null,
      "outputs": [
        {
          "output_type": "execute_result",
          "data": {
            "text/plain": [
              "array([1, 1, 1, ..., 1, 1, 1])"
            ]
          },
          "metadata": {
            "tags": []
          },
          "execution_count": 113
        }
      ]
    },
    {
      "cell_type": "code",
      "metadata": {
        "id": "PuTu782s-nl-",
        "outputId": "43d648c7-6012-4b33-fa2b-766bf6908e1f",
        "colab": {
          "base_uri": "https://localhost:8080/",
          "height": 158
        }
      },
      "source": [
        "y_test_may"
      ],
      "execution_count": null,
      "outputs": [
        {
          "output_type": "execute_result",
          "data": {
            "text/plain": [
              "1072    1\n",
              "1073    1\n",
              "1074    0\n",
              "1075    0\n",
              "1076    1\n",
              "1077    1\n",
              "1078    1\n",
              "Name: BTC_binary, dtype: int64"
            ]
          },
          "metadata": {
            "tags": []
          },
          "execution_count": 114
        }
      ]
    },
    {
      "cell_type": "code",
      "metadata": {
        "id": "KoTvxiWY-gdu",
        "outputId": "517369bd-763d-4166-e0c3-29cb4a5b5172",
        "colab": {
          "base_uri": "https://localhost:8080/",
          "height": 34
        }
      },
      "source": [
        "score = logisticRegr.score(x_test_may, y_test_may)\n",
        "print(score)"
      ],
      "execution_count": null,
      "outputs": [
        {
          "output_type": "stream",
          "text": [
            "0.5714285714285714\n"
          ],
          "name": "stdout"
        }
      ]
    },
    {
      "cell_type": "markdown",
      "metadata": {
        "id": "E0go8Enq_y42"
      },
      "source": [
        "# Random Forest Classifier - May"
      ]
    },
    {
      "cell_type": "code",
      "metadata": {
        "id": "Yf5j0IkR_yUY",
        "outputId": "2b18d236-f23c-4a86-81f2-1718db923735",
        "colab": {
          "base_uri": "https://localhost:8080/",
          "height": 158
        }
      },
      "source": [
        "from sklearn.ensemble import RandomForestClassifier\n",
        "\n",
        "# Create the model with 100 trees\n",
        "rf = RandomForestClassifier(n_estimators=1000, \n",
        "                               bootstrap = True,\n",
        "                               max_features = 'sqrt')\n",
        "# Fit on training data\n",
        "rf.fit(x_train_may, y_train_may)"
      ],
      "execution_count": null,
      "outputs": [
        {
          "output_type": "execute_result",
          "data": {
            "text/plain": [
              "RandomForestClassifier(bootstrap=True, ccp_alpha=0.0, class_weight=None,\n",
              "                       criterion='gini', max_depth=None, max_features='sqrt',\n",
              "                       max_leaf_nodes=None, max_samples=None,\n",
              "                       min_impurity_decrease=0.0, min_impurity_split=None,\n",
              "                       min_samples_leaf=1, min_samples_split=2,\n",
              "                       min_weight_fraction_leaf=0.0, n_estimators=1000,\n",
              "                       n_jobs=None, oob_score=False, random_state=None,\n",
              "                       verbose=0, warm_start=False)"
            ]
          },
          "metadata": {
            "tags": []
          },
          "execution_count": 93
        }
      ]
    },
    {
      "cell_type": "code",
      "metadata": {
        "id": "Cf03ccNFAFPx"
      },
      "source": [
        "# Actual class predictions\n",
        "rf_predictions = rf.predict(x_test_may)"
      ],
      "execution_count": null,
      "outputs": []
    },
    {
      "cell_type": "code",
      "metadata": {
        "id": "nZ-OQKINAIXO",
        "outputId": "f1f617dd-ca3c-44ba-9f65-bc90b6d000ac",
        "colab": {
          "base_uri": "https://localhost:8080/",
          "height": 34
        }
      },
      "source": [
        "rf_predictions"
      ],
      "execution_count": null,
      "outputs": [
        {
          "output_type": "execute_result",
          "data": {
            "text/plain": [
              "array([1, 1, 1, 1, 1, 1, 1])"
            ]
          },
          "metadata": {
            "tags": []
          },
          "execution_count": 95
        }
      ]
    },
    {
      "cell_type": "code",
      "metadata": {
        "id": "-vd08oT8ASL_",
        "outputId": "b5e3ffef-7f4e-4cac-dcde-452534b1e5ca",
        "colab": {
          "base_uri": "https://localhost:8080/",
          "height": 34
        }
      },
      "source": [
        "rf_score = rf.score(x_test_may, y_test_may)\n",
        "print(rf_score)"
      ],
      "execution_count": null,
      "outputs": [
        {
          "output_type": "stream",
          "text": [
            "0.7142857142857143\n"
          ],
          "name": "stdout"
        }
      ]
    },
    {
      "cell_type": "markdown",
      "metadata": {
        "id": "0qHMLROgBUiY"
      },
      "source": [
        "# XGBoost Classifier - May"
      ]
    },
    {
      "cell_type": "code",
      "metadata": {
        "id": "r97BwOfWBXg-"
      },
      "source": [
        "from numpy import loadtxt\n",
        "from xgboost import XGBClassifier\n",
        "from sklearn.model_selection import train_test_split\n",
        "from sklearn.metrics import accuracy_score\n",
        "import pandas as pd\n",
        "import numpy as np\n",
        "import xgboost as xgb\n",
        "from xgboost.sklearn import XGBClassifier\n",
        "#from sklearn import cross_validation, metrics   #Additional scklearn functions\n",
        "from sklearn.model_selection import GridSearchCV   #Perforing grid search"
      ],
      "execution_count": null,
      "outputs": []
    },
    {
      "cell_type": "code",
      "metadata": {
        "id": "VzT41UvtBdmG",
        "outputId": "d91675d5-406c-4c33-cb8a-977a760e4fc4",
        "colab": {
          "base_uri": "https://localhost:8080/",
          "height": 141
        }
      },
      "source": [
        "xgb = XGBClassifier()\n",
        "xgb.fit(x_train_may, y_train_may)"
      ],
      "execution_count": null,
      "outputs": [
        {
          "output_type": "execute_result",
          "data": {
            "text/plain": [
              "XGBClassifier(base_score=0.5, booster='gbtree', colsample_bylevel=1,\n",
              "              colsample_bynode=1, colsample_bytree=1, gamma=0,\n",
              "              learning_rate=0.1, max_delta_step=0, max_depth=3,\n",
              "              min_child_weight=1, missing=None, n_estimators=100, n_jobs=1,\n",
              "              nthread=None, objective='binary:logistic', random_state=0,\n",
              "              reg_alpha=0, reg_lambda=1, scale_pos_weight=1, seed=None,\n",
              "              silent=None, subsample=1, verbosity=1)"
            ]
          },
          "metadata": {
            "tags": []
          },
          "execution_count": 137
        }
      ]
    },
    {
      "cell_type": "code",
      "metadata": {
        "id": "2unyifzgBr77"
      },
      "source": [
        "# Actual class predictions\n",
        "xgb_predictions = xgb.predict(x_test_may)"
      ],
      "execution_count": null,
      "outputs": []
    },
    {
      "cell_type": "code",
      "metadata": {
        "id": "mOVbXn8SBvne",
        "outputId": "9b7c1f25-1d45-47a2-fa5e-603027567b3c",
        "colab": {
          "base_uri": "https://localhost:8080/",
          "height": 34
        }
      },
      "source": [
        "xgb_predictions"
      ],
      "execution_count": null,
      "outputs": [
        {
          "output_type": "execute_result",
          "data": {
            "text/plain": [
              "array([1, 1, 1, 1, 0, 1, 1])"
            ]
          },
          "metadata": {
            "tags": []
          },
          "execution_count": 139
        }
      ]
    },
    {
      "cell_type": "code",
      "metadata": {
        "id": "JIiU-3SPBzTi",
        "outputId": "ad5f145c-8859-4762-e8e5-f3fa9ec65617",
        "colab": {
          "base_uri": "https://localhost:8080/",
          "height": 34
        }
      },
      "source": [
        "xgb_score = xgb.score(x_test_may, y_test_may)\n",
        "print(xgb_score)"
      ],
      "execution_count": null,
      "outputs": [
        {
          "output_type": "stream",
          "text": [
            "0.5714285714285714\n"
          ],
          "name": "stdout"
        }
      ]
    },
    {
      "cell_type": "code",
      "metadata": {
        "id": "1tdEffNeCzU-"
      },
      "source": [
        "#param_test1 = {\n",
        "# 'max_depth':range(1,5),\n",
        "# 'min_child_weight':range(1,5)\n",
        "#}\n",
        "#gsearch1 = GridSearchCV(estimator = XGBClassifier( learning_rate =0.01, n_estimators=500, max_depth=5,\n",
        "# min_child_weight=1, gamma=0, subsample=0.3, colsample_bytree=0.3,\n",
        "# objective= 'binary:logistic', nthread=4, scale_pos_weight=1, seed=27), \n",
        "# param_grid = param_test1, scoring='roc_auc',n_jobs=4,iid=False, cv=5)\n",
        "#gsearch1.fit(x_train_may, y_train_may)\n",
        "#gsearch1.best_params_, gsearch1.best_score_"
      ],
      "execution_count": null,
      "outputs": []
    },
    {
      "cell_type": "code",
      "metadata": {
        "id": "ovKaYnDwI16d"
      },
      "source": [
        "#param = {\n",
        "#    'eta': 0.3, \n",
        "#    'max_depth': 3,  \n",
        "#    'objective': 'multi:softprob',  \n",
        "#    'num_class': 3} \n",
        "\n",
        "#steps = 20  # The number of training iterations\n",
        "\n",
        "\n",
        "#D_train = xgb.DMatrix(x_train_may, label=y_train_may)\n",
        "\n",
        "#xgb = xgb.train(param, D_train, steps)"
      ],
      "execution_count": null,
      "outputs": []
    }
  ]
}