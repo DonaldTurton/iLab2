{
  "nbformat": 4,
  "nbformat_minor": 0,
  "metadata": {
    "colab": {
      "name": "Mdoelling_1.ipynb",
      "provenance": []
    },
    "kernelspec": {
      "name": "python3",
      "display_name": "Python 3"
    },
    "accelerator": "GPU"
  },
  "cells": [
    {
      "cell_type": "markdown",
      "metadata": {
        "id": "TL8II2wcPR5Y"
      },
      "source": [
        "# ILab2"
      ]
    },
    {
      "cell_type": "markdown",
      "metadata": {
        "id": "C60ldDTpsDQ_"
      },
      "source": [
        "# Libraries"
      ]
    },
    {
      "cell_type": "code",
      "metadata": {
        "id": "GkQOGqYGr3t-"
      },
      "source": [
        "import pandas as pd\n",
        "import numpy as np\n",
        "import seaborn as sns"
      ],
      "execution_count": 59,
      "outputs": []
    },
    {
      "cell_type": "markdown",
      "metadata": {
        "id": "xCaOJmTlGuOS"
      },
      "source": [
        "# Load data"
      ]
    },
    {
      "cell_type": "markdown",
      "metadata": {
        "id": "GNwn3X8fIScK"
      },
      "source": [
        "## Bitcoin"
      ]
    },
    {
      "cell_type": "code",
      "metadata": {
        "id": "plgV2djTGtq2"
      },
      "source": [
        "BITC_BITFINIX_url = \"https://raw.githubusercontent.com/DonaldTurton/iLab2/master/Bitcoin/BITFINEX_BTCUSD%2C%201D.csv\"\n",
        "\n",
        "bitcoin_daily = pd.read_csv (BITC_BITFINIX_url)"
      ],
      "execution_count": 60,
      "outputs": []
    },
    {
      "cell_type": "markdown",
      "metadata": {
        "id": "D6A09Q6HUl_u"
      },
      "source": [
        "### Ethereum"
      ]
    },
    {
      "cell_type": "code",
      "metadata": {
        "id": "zn8f-ILdUv4G"
      },
      "source": [
        "ETHERIUM_BITFINIX_url= 'https://raw.githubusercontent.com/DonaldTurton/iLab2/master/Ethereum/BITFINEX_ETHUSD%2C%201D.csv'"
      ],
      "execution_count": 61,
      "outputs": []
    },
    {
      "cell_type": "code",
      "metadata": {
        "id": "sxrpGy0_Uv4N"
      },
      "source": [
        "ethereum_daily = pd.read_csv(ETHERIUM_BITFINIX_url) "
      ],
      "execution_count": 62,
      "outputs": []
    },
    {
      "cell_type": "markdown",
      "metadata": {
        "id": "zXiqp9E3Vltr"
      },
      "source": [
        "### Ripple "
      ]
    },
    {
      "cell_type": "code",
      "metadata": {
        "id": "9xWWOpyqVxY1"
      },
      "source": [
        "RIPPLE_BITFINIX_url= 'https://raw.githubusercontent.com/DonaldTurton/iLab2/master/Ripple/BITFINEX_XRPUSD%2C%201D.csv'"
      ],
      "execution_count": 63,
      "outputs": []
    },
    {
      "cell_type": "code",
      "metadata": {
        "id": "I0ionDoyVxY7"
      },
      "source": [
        "ripple_daily = pd.read_csv(RIPPLE_BITFINIX_url)"
      ],
      "execution_count": 64,
      "outputs": []
    },
    {
      "cell_type": "markdown",
      "metadata": {
        "id": "jg87Vw4tPQoC"
      },
      "source": [
        "## Subset DF"
      ]
    },
    {
      "cell_type": "markdown",
      "metadata": {
        "id": "ASUuqPxYaDeR"
      },
      "source": [
        "## Subset DF"
      ]
    },
    {
      "cell_type": "code",
      "metadata": {
        "id": "-3tjzLyzXB8u"
      },
      "source": [
        "bit_bit = bitcoin_daily[['time','open', 'close', 'Volume']]\n",
        "bit_bit = bit_bit.rename(columns={'open': 'BTC_open', 'close': 'BTC_close', 'Volume': 'BTC_vol'})"
      ],
      "execution_count": 65,
      "outputs": []
    },
    {
      "cell_type": "code",
      "metadata": {
        "id": "2HK3THHkaGs2"
      },
      "source": [
        "eth_bit = ethereum_daily[['time','open', 'close', 'Volume']]\n",
        "eth_bit = eth_bit.rename(columns={'open': 'ETHER_open', 'close': 'ETHER_close', 'Volume': 'ETHER_vol'})"
      ],
      "execution_count": 66,
      "outputs": []
    },
    {
      "cell_type": "code",
      "metadata": {
        "id": "e5rEydh3a2Rq"
      },
      "source": [
        "xrp_bit = ripple_daily[['time','open', 'close', 'Volume']]\n",
        "xrp_bit = xrp_bit.rename(columns={'open': 'XRP_open', 'close': 'XRP_close', 'Volume': 'XRP_vol'})"
      ],
      "execution_count": 67,
      "outputs": []
    },
    {
      "cell_type": "markdown",
      "metadata": {
        "id": "P_20D7xMbgBx"
      },
      "source": [
        "## Merge\n",
        "\n"
      ]
    },
    {
      "cell_type": "code",
      "metadata": {
        "id": "bZaI2_FbbnsB"
      },
      "source": [
        "# Data frames for each coin from BITFINEX\n",
        "#bit_bit 2,677 observations\n",
        "#eth_bit 1,497 observations\n",
        "#xrp_bit 1,176 observations"
      ],
      "execution_count": 68,
      "outputs": []
    },
    {
      "cell_type": "code",
      "metadata": {
        "id": "EmJv81OOcOLW"
      },
      "source": [
        "bit_eth = pd.merge(bit_bit, eth_bit, how='left', on=['time'])\n",
        "data = pd.merge(bit_eth, xrp_bit, how='left', on=['time'])"
      ],
      "execution_count": 69,
      "outputs": []
    },
    {
      "cell_type": "code",
      "metadata": {
        "id": "rV0edZss-eQK",
        "outputId": "e189b2eb-5f6f-4403-e494-36525e6c148b",
        "colab": {
          "base_uri": "https://localhost:8080/"
        }
      },
      "source": [
        "#Drop NA \n",
        "data = data.dropna()\n",
        "len(data) #1,174 observations after removing NA"
      ],
      "execution_count": 70,
      "outputs": [
        {
          "output_type": "execute_result",
          "data": {
            "text/plain": [
              "1174"
            ]
          },
          "metadata": {
            "tags": []
          },
          "execution_count": 70
        }
      ]
    },
    {
      "cell_type": "markdown",
      "metadata": {
        "id": "zvNsWJ7d_NxD"
      },
      "source": [
        "# Lag the predictor variables 7 days"
      ]
    },
    {
      "cell_type": "code",
      "metadata": {
        "id": "i5AHsj02_RGf"
      },
      "source": [
        "# Duplicate the bitcoin variables before lagging\n",
        "data['BTC_open_dup'] = data['BTC_open'] \n",
        "data['BTC_close_dup'] = data['BTC_close']\n",
        "data['BTC_vol_dup'] = data['BTC_vol']"
      ],
      "execution_count": 71,
      "outputs": []
    },
    {
      "cell_type": "code",
      "metadata": {
        "id": "nt-6E1XC_qnn"
      },
      "source": [
        "# Remove the BTC open and BTC vol variables before lagging as they  can't be used for this type of modelling strategy. \n",
        "data = data.drop(['BTC_open', 'BTC_vol'], axis = 1)"
      ],
      "execution_count": 72,
      "outputs": []
    },
    {
      "cell_type": "code",
      "metadata": {
        "id": "YxyCPuUHBCFp"
      },
      "source": [
        "# Lag all variables except BTC_close\n",
        "\n",
        "data['ETHER_open'] = data['ETHER_open'].shift(7)\n",
        "data['ETHER_close'] = data['ETHER_close'].shift(7)\n",
        "data['ETHER_vol'] = data['ETHER_vol'].shift(7)\n",
        "\n",
        "data['XRP_open'] = data['XRP_open'].shift(7)\n",
        "data['XRP_close'] = data['XRP_close'].shift(7)\n",
        "data['XRP_vol'] = data['XRP_vol'].shift(7)\n",
        "\n",
        "data['BTC_open_dup'] = data['BTC_open_dup'].shift(7)\n",
        "data['BTC_close_dup'] = data['BTC_close_dup'].shift(7)\n",
        "data['BTC_vol_dup'] = data['BTC_vol_dup'].shift(7)"
      ],
      "execution_count": 73,
      "outputs": []
    },
    {
      "cell_type": "code",
      "metadata": {
        "id": "QOsvJkp6B6qi"
      },
      "source": [
        "# Drop the first 7 rows of the data set as these are NA rows due to the lagging. \n",
        "data.drop(data.head(7).index, inplace=True)"
      ],
      "execution_count": 74,
      "outputs": []
    },
    {
      "cell_type": "markdown",
      "metadata": {
        "id": "zKLyu0XDC2Ym"
      },
      "source": [
        "# Set the test and train sets"
      ]
    },
    {
      "cell_type": "code",
      "metadata": {
        "id": "EkOknLFYE3y9"
      },
      "source": [
        "# Set the  data index as a data col\n",
        "data.index = range(1,1168)"
      ],
      "execution_count": 75,
      "outputs": []
    },
    {
      "cell_type": "code",
      "metadata": {
        "id": "V8Pi1fKrC4vF"
      },
      "source": [
        "# May train and test sets\n",
        "pd.set_option(\"display.max_rows\", None, \"display.max_columns\", None)\n",
        "train_may = data[1:1071]\n",
        "test_may = data[1071:1078]"
      ],
      "execution_count": 76,
      "outputs": []
    },
    {
      "cell_type": "code",
      "metadata": {
        "id": "Q6xbeVx4G2Y7"
      },
      "source": [
        "# July train and test sets\n",
        "train_july = data[1:1132]\n",
        "test_july = data[1132:1139]"
      ],
      "execution_count": 77,
      "outputs": []
    },
    {
      "cell_type": "code",
      "metadata": {
        "id": "5mM-gHkPf0PS"
      },
      "source": [
        "# Select the independent variables for the first experiment in 'x' and the dependent variable 'y' for MAY\n",
        "x_train_may = train_may[['ETHER_open', 'ETHER_close', 'ETHER_vol', 'XRP_open', 'XRP_close', 'XRP_vol', 'BTC_open_dup', 'BTC_close_dup', 'BTC_vol_dup']]\n",
        "y_train_may = train_may['BTC_close']\n",
        "\n",
        "# Setup testing x and y variables\n",
        "x_test_may = test_may[['ETHER_open', 'ETHER_close', 'ETHER_vol', 'XRP_open', 'XRP_close', 'XRP_vol', 'BTC_open_dup', 'BTC_close_dup', 'BTC_vol_dup']]\n",
        "y_test_may = test_may['BTC_close']\n"
      ],
      "execution_count": 78,
      "outputs": []
    },
    {
      "cell_type": "code",
      "metadata": {
        "id": "SvDzPeF4f0Pg"
      },
      "source": [
        "# Select the independent variables for the first experiment in 'x' and the dependent variable 'y' for JULY\n",
        "x_train_july = train_july[['ETHER_open', 'ETHER_close', 'ETHER_vol', 'XRP_open', 'XRP_close', 'XRP_vol', 'BTC_open_dup', 'BTC_close_dup', 'BTC_vol_dup']]\n",
        "y_train_july = train_july['BTC_close']\n",
        "\n",
        "# Setup testing x and y variables\n",
        "x_test_july = test_july[['ETHER_open', 'ETHER_close', 'ETHER_vol', 'XRP_open', 'XRP_close', 'XRP_vol', 'BTC_open_dup', 'BTC_close_dup', 'BTC_vol_dup']]\n",
        "y_test_july = test_july['BTC_close']\n"
      ],
      "execution_count": 79,
      "outputs": []
    },
    {
      "cell_type": "markdown",
      "metadata": {
        "id": "OBLk9Ti5vp7S"
      },
      "source": [
        "# May Predictions"
      ]
    },
    {
      "cell_type": "markdown",
      "metadata": {
        "id": "6rYOFybs1Mmt"
      },
      "source": [
        "## Random Forest - May"
      ]
    },
    {
      "cell_type": "code",
      "metadata": {
        "id": "48_lVn7gU5XZ"
      },
      "source": [
        "from sklearn.ensemble import RandomForestRegressor\n",
        "from sklearn.metrics import r2_score,mean_squared_error"
      ],
      "execution_count": 80,
      "outputs": []
    },
    {
      "cell_type": "code",
      "metadata": {
        "id": "Pc-sUAmoE9q7"
      },
      "source": [
        "# Random Forest tunning \n",
        "RandomForestRegression = RandomForestRegressor(n_estimators=500)"
      ],
      "execution_count": 81,
      "outputs": []
    },
    {
      "cell_type": "code",
      "metadata": {
        "id": "bT4gG1CGUlUi",
        "outputId": "64c77d91-dbdc-40e7-9e5f-6b80f8c67851",
        "colab": {
          "base_uri": "https://localhost:8080/"
        }
      },
      "source": [
        "RandomForestRegression.fit(x_train_may, y_train_may)"
      ],
      "execution_count": 82,
      "outputs": [
        {
          "output_type": "execute_result",
          "data": {
            "text/plain": [
              "RandomForestRegressor(bootstrap=True, ccp_alpha=0.0, criterion='mse',\n",
              "                      max_depth=None, max_features='auto', max_leaf_nodes=None,\n",
              "                      max_samples=None, min_impurity_decrease=0.0,\n",
              "                      min_impurity_split=None, min_samples_leaf=1,\n",
              "                      min_samples_split=2, min_weight_fraction_leaf=0.0,\n",
              "                      n_estimators=500, n_jobs=None, oob_score=False,\n",
              "                      random_state=None, verbose=0, warm_start=False)"
            ]
          },
          "metadata": {
            "tags": []
          },
          "execution_count": 82
        }
      ]
    },
    {
      "cell_type": "code",
      "metadata": {
        "id": "P3kGGMsuU8v8",
        "outputId": "0248dff1-184c-410c-95a1-658d4a4086ce",
        "colab": {
          "base_uri": "https://localhost:8080/",
          "height": 0
        }
      },
      "source": [
        "rf_prediction = RandomForestRegression.predict(x_test_may)\n",
        "rf_prediction = pd.DataFrame(rf_prediction)\n",
        "rf_prediction.columns = ['Random Forest']\n",
        "rf_prediction['index'] = range(1,8)\n",
        "rf_prediction"
      ],
      "execution_count": 83,
      "outputs": [
        {
          "output_type": "execute_result",
          "data": {
            "text/html": [
              "<div>\n",
              "<style scoped>\n",
              "    .dataframe tbody tr th:only-of-type {\n",
              "        vertical-align: middle;\n",
              "    }\n",
              "\n",
              "    .dataframe tbody tr th {\n",
              "        vertical-align: top;\n",
              "    }\n",
              "\n",
              "    .dataframe thead th {\n",
              "        text-align: right;\n",
              "    }\n",
              "</style>\n",
              "<table border=\"1\" class=\"dataframe\">\n",
              "  <thead>\n",
              "    <tr style=\"text-align: right;\">\n",
              "      <th></th>\n",
              "      <th>Random Forest</th>\n",
              "      <th>index</th>\n",
              "    </tr>\n",
              "  </thead>\n",
              "  <tbody>\n",
              "    <tr>\n",
              "      <th>0</th>\n",
              "      <td>7936.989186</td>\n",
              "      <td>1</td>\n",
              "    </tr>\n",
              "    <tr>\n",
              "      <th>1</th>\n",
              "      <td>8019.186852</td>\n",
              "      <td>2</td>\n",
              "    </tr>\n",
              "    <tr>\n",
              "      <th>2</th>\n",
              "      <td>7452.740787</td>\n",
              "      <td>3</td>\n",
              "    </tr>\n",
              "    <tr>\n",
              "      <th>3</th>\n",
              "      <td>7051.867704</td>\n",
              "      <td>4</td>\n",
              "    </tr>\n",
              "    <tr>\n",
              "      <th>4</th>\n",
              "      <td>7493.764370</td>\n",
              "      <td>5</td>\n",
              "    </tr>\n",
              "    <tr>\n",
              "      <th>5</th>\n",
              "      <td>8325.301589</td>\n",
              "      <td>6</td>\n",
              "    </tr>\n",
              "    <tr>\n",
              "      <th>6</th>\n",
              "      <td>7776.840938</td>\n",
              "      <td>7</td>\n",
              "    </tr>\n",
              "  </tbody>\n",
              "</table>\n",
              "</div>"
            ],
            "text/plain": [
              "   Random Forest  index\n",
              "0    7936.989186      1\n",
              "1    8019.186852      2\n",
              "2    7452.740787      3\n",
              "3    7051.867704      4\n",
              "4    7493.764370      5\n",
              "5    8325.301589      6\n",
              "6    7776.840938      7"
            ]
          },
          "metadata": {
            "tags": []
          },
          "execution_count": 83
        }
      ]
    },
    {
      "cell_type": "code",
      "metadata": {
        "id": "3lNvKjMUgNjY"
      },
      "source": [
        "y_test_may = pd.DataFrame(y_test_may)\n",
        "y_test_may['index'] = range(1,8)\n",
        "y_test_may.columns = ['Real', 'index']"
      ],
      "execution_count": 84,
      "outputs": []
    },
    {
      "cell_type": "code",
      "metadata": {
        "id": "iEyv0hbSgoFK"
      },
      "source": [
        "merge_may = y_test_may.merge(rf_prediction, on=\"index\")"
      ],
      "execution_count": 85,
      "outputs": []
    },
    {
      "cell_type": "code",
      "metadata": {
        "id": "lVdOVYxbVqHD",
        "outputId": "e4c5c279-95e3-4718-bd60-ea88a14b6a48",
        "colab": {
          "base_uri": "https://localhost:8080/"
        }
      },
      "source": [
        "rf_mse = mean_squared_error(y_test_may, rf_prediction)\n",
        "rf_mse\n",
        "\n",
        "rf_rmse = np.sqrt(rf_mse)\n",
        "rf_rmse"
      ],
      "execution_count": 86,
      "outputs": [
        {
          "output_type": "execute_result",
          "data": {
            "text/plain": [
              "1033.8083421788137"
            ]
          },
          "metadata": {
            "tags": []
          },
          "execution_count": 86
        }
      ]
    },
    {
      "cell_type": "code",
      "metadata": {
        "id": "516jwU2vWdJF",
        "outputId": "25894f4e-0b8b-4aad-fbf0-4833a7dc9c1e",
        "colab": {
          "base_uri": "https://localhost:8080/",
          "height": 0
        }
      },
      "source": [
        "# Plot the predicted vs actual in matplot lib\n",
        "import matplotlib.pyplot as plt\n",
        "plt.plot( 'index', 'Real', data=merge_may, marker='o', markerfacecolor='blue', markersize=12, color='skyblue', linewidth=4)\n",
        "plt.plot( 'index', 'Random Forest', data=merge_may, marker='', color='olive', linewidth=2)\n",
        "plt.xticks(rotation='vertical')\n",
        "plt.legend()"
      ],
      "execution_count": 87,
      "outputs": [
        {
          "output_type": "execute_result",
          "data": {
            "text/plain": [
              "<matplotlib.legend.Legend at 0x7f5b220cb748>"
            ]
          },
          "metadata": {
            "tags": []
          },
          "execution_count": 87
        },
        {
          "output_type": "display_data",
          "data": {
            "image/png": "[encoded data removed]",
            "text/plain": [
              "<Figure size 432x288 with 1 Axes>"
            ]
          },
          "metadata": {
            "tags": [],
            "needs_background": "light"
          }
        }
      ]
    },
    {
      "cell_type": "markdown",
      "metadata": {
        "id": "UzZb1l0e6exC"
      },
      "source": [
        "## Linear Model - May"
      ]
    },
    {
      "cell_type": "code",
      "metadata": {
        "id": "tIS0Aq3Z6cuc"
      },
      "source": [
        "# Import the requried packages for the linear regression model\n",
        "import numpy as np\n",
        "from sklearn.linear_model import LinearRegression\n",
        "\n",
        "model = LinearRegression()"
      ],
      "execution_count": 88,
      "outputs": []
    },
    {
      "cell_type": "code",
      "metadata": {
        "id": "pCI62EcwUgpA"
      },
      "source": [
        "# Runt he linear regressor over the x and y training data\n",
        "model = LinearRegression().fit(x_train_may, y_train_may)"
      ],
      "execution_count": 89,
      "outputs": []
    },
    {
      "cell_type": "code",
      "metadata": {
        "id": "olCe7rRiVTFU",
        "outputId": "7cb4cf3e-b516-435a-f466-1728fda88509",
        "colab": {
          "base_uri": "https://localhost:8080/",
          "height": 0
        }
      },
      "source": [
        "# Runt he linear regressor over the x and y training data\n",
        "from statsmodels.api import OLS\n",
        "OLS(y_train_may,x_train_may).fit().summary()"
      ],
      "execution_count": 90,
      "outputs": [
        {
          "output_type": "execute_result",
          "data": {
            "text/html": [
              "<table class=\"simpletable\">\n",
              "<caption>OLS Regression Results</caption>\n",
              "<tr>\n",
              "  <th>Dep. Variable:</th>        <td>BTC_close</td>    <th>  R-squared (uncentered):</th>      <td>   0.984</td> \n",
              "</tr>\n",
              "<tr>\n",
              "  <th>Model:</th>                   <td>OLS</td>       <th>  Adj. R-squared (uncentered):</th> <td>   0.984</td> \n",
              "</tr>\n",
              "<tr>\n",
              "  <th>Method:</th>             <td>Least Squares</td>  <th>  F-statistic:       </th>          <td>   7349.</td> \n",
              "</tr>\n",
              "<tr>\n",
              "  <th>Date:</th>             <td>Thu, 05 Nov 2020</td> <th>  Prob (F-statistic):</th>           <td>  0.00</td>  \n",
              "</tr>\n",
              "<tr>\n",
              "  <th>Time:</th>                 <td>06:45:37</td>     <th>  Log-Likelihood:    </th>          <td> -8884.2</td> \n",
              "</tr>\n",
              "<tr>\n",
              "  <th>No. Observations:</th>      <td>  1070</td>      <th>  AIC:               </th>          <td>1.779e+04</td>\n",
              "</tr>\n",
              "<tr>\n",
              "  <th>Df Residuals:</th>          <td>  1061</td>      <th>  BIC:               </th>          <td>1.783e+04</td>\n",
              "</tr>\n",
              "<tr>\n",
              "  <th>Df Model:</th>              <td>     9</td>      <th>                     </th>              <td> </td>    \n",
              "</tr>\n",
              "<tr>\n",
              "  <th>Covariance Type:</th>      <td>nonrobust</td>    <th>                     </th>              <td> </td>    \n",
              "</tr>\n",
              "</table>\n",
              "<table class=\"simpletable\">\n",
              "<tr>\n",
              "        <td></td>           <th>coef</th>     <th>std err</th>      <th>t</th>      <th>P>|t|</th>  <th>[0.025</th>    <th>0.975]</th>  \n",
              "</tr>\n",
              "<tr>\n",
              "  <th>ETHER_open</th>    <td>    1.4739</td> <td>    1.683</td> <td>    0.876</td> <td> 0.381</td> <td>   -1.828</td> <td>    4.776</td>\n",
              "</tr>\n",
              "<tr>\n",
              "  <th>ETHER_close</th>   <td>   -2.3614</td> <td>    1.689</td> <td>   -1.398</td> <td> 0.162</td> <td>   -5.675</td> <td>    0.952</td>\n",
              "</tr>\n",
              "<tr>\n",
              "  <th>ETHER_vol</th>     <td>   -0.0003</td> <td>    0.000</td> <td>   -1.483</td> <td> 0.138</td> <td>   -0.001</td> <td> 9.76e-05</td>\n",
              "</tr>\n",
              "<tr>\n",
              "  <th>XRP_open</th>      <td>-3414.9582</td> <td>  740.255</td> <td>   -4.613</td> <td> 0.000</td> <td>-4867.488</td> <td>-1962.429</td>\n",
              "</tr>\n",
              "<tr>\n",
              "  <th>XRP_close</th>     <td> 2925.4715</td> <td>  753.450</td> <td>    3.883</td> <td> 0.000</td> <td> 1447.051</td> <td> 4403.892</td>\n",
              "</tr>\n",
              "<tr>\n",
              "  <th>XRP_vol</th>       <td>-1.277e-06</td> <td> 6.51e-07</td> <td>   -1.961</td> <td> 0.050</td> <td>-2.56e-06</td> <td> 7.72e-10</td>\n",
              "</tr>\n",
              "<tr>\n",
              "  <th>BTC_open_dup</th>  <td>    0.1394</td> <td>    0.098</td> <td>    1.424</td> <td> 0.155</td> <td>   -0.053</td> <td>    0.331</td>\n",
              "</tr>\n",
              "<tr>\n",
              "  <th>BTC_close_dup</th> <td>    0.8844</td> <td>    0.097</td> <td>    9.096</td> <td> 0.000</td> <td>    0.694</td> <td>    1.075</td>\n",
              "</tr>\n",
              "<tr>\n",
              "  <th>BTC_vol_dup</th>   <td>    0.0159</td> <td>    0.002</td> <td>    8.325</td> <td> 0.000</td> <td>    0.012</td> <td>    0.020</td>\n",
              "</tr>\n",
              "</table>\n",
              "<table class=\"simpletable\">\n",
              "<tr>\n",
              "  <th>Omnibus:</th>       <td>147.067</td> <th>  Durbin-Watson:     </th> <td>   0.351</td>\n",
              "</tr>\n",
              "<tr>\n",
              "  <th>Prob(Omnibus):</th> <td> 0.000</td>  <th>  Jarque-Bera (JB):  </th> <td>1727.920</td>\n",
              "</tr>\n",
              "<tr>\n",
              "  <th>Skew:</th>          <td> 0.009</td>  <th>  Prob(JB):          </th> <td>    0.00</td>\n",
              "</tr>\n",
              "<tr>\n",
              "  <th>Kurtosis:</th>      <td> 9.225</td>  <th>  Cond. No.          </th> <td>2.65e+09</td>\n",
              "</tr>\n",
              "</table><br/><br/>Warnings:<br/>[1] Standard Errors assume that the covariance matrix of the errors is correctly specified.<br/>[2] The condition number is large, 2.65e+09. This might indicate that there are<br/>strong multicollinearity or other numerical problems."
            ],
            "text/plain": [
              "<class 'statsmodels.iolib.summary.Summary'>\n",
              "\"\"\"\n",
              "                                 OLS Regression Results                                \n",
              "=======================================================================================\n",
              "Dep. Variable:              BTC_close   R-squared (uncentered):                   0.984\n",
              "Model:                            OLS   Adj. R-squared (uncentered):              0.984\n",
              "Method:                 Least Squares   F-statistic:                              7349.\n",
              "Date:                Thu, 05 Nov 2020   Prob (F-statistic):                        0.00\n",
              "Time:                        06:45:37   Log-Likelihood:                         -8884.2\n",
              "No. Observations:                1070   AIC:                                  1.779e+04\n",
              "Df Residuals:                    1061   BIC:                                  1.783e+04\n",
              "Df Model:                           9                                                  \n",
              "Covariance Type:            nonrobust                                                  \n",
              "=================================================================================\n",
              "                    coef    std err          t      P>|t|      [0.025      0.975]\n",
              "---------------------------------------------------------------------------------\n",
              "ETHER_open        1.4739      1.683      0.876      0.381      -1.828       4.776\n",
              "ETHER_close      -2.3614      1.689     -1.398      0.162      -5.675       0.952\n",
              "ETHER_vol        -0.0003      0.000     -1.483      0.138      -0.001    9.76e-05\n",
              "XRP_open      -3414.9582    740.255     -4.613      0.000   -4867.488   -1962.429\n",
              "XRP_close      2925.4715    753.450      3.883      0.000    1447.051    4403.892\n",
              "XRP_vol       -1.277e-06   6.51e-07     -1.961      0.050   -2.56e-06    7.72e-10\n",
              "BTC_open_dup      0.1394      0.098      1.424      0.155      -0.053       0.331\n",
              "BTC_close_dup     0.8844      0.097      9.096      0.000       0.694       1.075\n",
              "BTC_vol_dup       0.0159      0.002      8.325      0.000       0.012       0.020\n",
              "==============================================================================\n",
              "Omnibus:                      147.067   Durbin-Watson:                   0.351\n",
              "Prob(Omnibus):                  0.000   Jarque-Bera (JB):             1727.920\n",
              "Skew:                           0.009   Prob(JB):                         0.00\n",
              "Kurtosis:                       9.225   Cond. No.                     2.65e+09\n",
              "==============================================================================\n",
              "\n",
              "Warnings:\n",
              "[1] Standard Errors assume that the covariance matrix of the errors is correctly specified.\n",
              "[2] The condition number is large, 2.65e+09. This might indicate that there are\n",
              "strong multicollinearity or other numerical problems.\n",
              "\"\"\""
            ]
          },
          "metadata": {
            "tags": []
          },
          "execution_count": 90
        }
      ]
    },
    {
      "cell_type": "code",
      "metadata": {
        "id": "2ITd37xkWvBL",
        "outputId": "83cffce0-e443-4f64-8f3b-7c0ee7732b80",
        "colab": {
          "base_uri": "https://localhost:8080/",
          "height": 0
        }
      },
      "source": [
        "# Predict the model on the x_test data\n",
        "y_pred_may = pd.DataFrame(model.predict(x_test_may))\n",
        "y_pred_may['index'] = range(1,8)\n",
        "y_pred_may"
      ],
      "execution_count": 91,
      "outputs": [
        {
          "output_type": "execute_result",
          "data": {
            "text/html": [
              "<div>\n",
              "<style scoped>\n",
              "    .dataframe tbody tr th:only-of-type {\n",
              "        vertical-align: middle;\n",
              "    }\n",
              "\n",
              "    .dataframe tbody tr th {\n",
              "        vertical-align: top;\n",
              "    }\n",
              "\n",
              "    .dataframe thead th {\n",
              "        text-align: right;\n",
              "    }\n",
              "</style>\n",
              "<table border=\"1\" class=\"dataframe\">\n",
              "  <thead>\n",
              "    <tr style=\"text-align: right;\">\n",
              "      <th></th>\n",
              "      <th>0</th>\n",
              "      <th>index</th>\n",
              "    </tr>\n",
              "  </thead>\n",
              "  <tbody>\n",
              "    <tr>\n",
              "      <th>0</th>\n",
              "      <td>7626.086948</td>\n",
              "      <td>1</td>\n",
              "    </tr>\n",
              "    <tr>\n",
              "      <th>1</th>\n",
              "      <td>7526.599476</td>\n",
              "      <td>2</td>\n",
              "    </tr>\n",
              "    <tr>\n",
              "      <th>2</th>\n",
              "      <td>7690.725950</td>\n",
              "      <td>3</td>\n",
              "    </tr>\n",
              "    <tr>\n",
              "      <th>3</th>\n",
              "      <td>7793.804550</td>\n",
              "      <td>4</td>\n",
              "    </tr>\n",
              "    <tr>\n",
              "      <th>4</th>\n",
              "      <td>7850.899369</td>\n",
              "      <td>5</td>\n",
              "    </tr>\n",
              "    <tr>\n",
              "      <th>5</th>\n",
              "      <td>8888.264968</td>\n",
              "      <td>6</td>\n",
              "    </tr>\n",
              "    <tr>\n",
              "      <th>6</th>\n",
              "      <td>8836.952715</td>\n",
              "      <td>7</td>\n",
              "    </tr>\n",
              "  </tbody>\n",
              "</table>\n",
              "</div>"
            ],
            "text/plain": [
              "             0  index\n",
              "0  7626.086948      1\n",
              "1  7526.599476      2\n",
              "2  7690.725950      3\n",
              "3  7793.804550      4\n",
              "4  7850.899369      5\n",
              "5  8888.264968      6\n",
              "6  8836.952715      7"
            ]
          },
          "metadata": {
            "tags": []
          },
          "execution_count": 91
        }
      ]
    },
    {
      "cell_type": "code",
      "metadata": {
        "id": "ba2tFAy4YGVY",
        "outputId": "00d29a1c-114f-4e0c-e788-2f7ec66f3116",
        "colab": {
          "base_uri": "https://localhost:8080/",
          "height": 0
        }
      },
      "source": [
        "y_test_may = pd.DataFrame(y_test_may)[0:7]\n",
        "y_test_may['index'] = range(1,8)\n",
        "y_test_may"
      ],
      "execution_count": 92,
      "outputs": [
        {
          "output_type": "execute_result",
          "data": {
            "text/html": [
              "<div>\n",
              "<style scoped>\n",
              "    .dataframe tbody tr th:only-of-type {\n",
              "        vertical-align: middle;\n",
              "    }\n",
              "\n",
              "    .dataframe tbody tr th {\n",
              "        vertical-align: top;\n",
              "    }\n",
              "\n",
              "    .dataframe thead th {\n",
              "        text-align: right;\n",
              "    }\n",
              "</style>\n",
              "<table border=\"1\" class=\"dataframe\">\n",
              "  <thead>\n",
              "    <tr style=\"text-align: right;\">\n",
              "      <th></th>\n",
              "      <th>Real</th>\n",
              "      <th>index</th>\n",
              "    </tr>\n",
              "  </thead>\n",
              "  <tbody>\n",
              "    <tr>\n",
              "      <th>1072</th>\n",
              "      <td>8822.800000</td>\n",
              "      <td>1</td>\n",
              "    </tr>\n",
              "    <tr>\n",
              "      <th>1073</th>\n",
              "      <td>8982.300000</td>\n",
              "      <td>2</td>\n",
              "    </tr>\n",
              "    <tr>\n",
              "      <th>1074</th>\n",
              "      <td>8899.800000</td>\n",
              "      <td>3</td>\n",
              "    </tr>\n",
              "    <tr>\n",
              "      <th>1075</th>\n",
              "      <td>8865.800000</td>\n",
              "      <td>4</td>\n",
              "    </tr>\n",
              "    <tr>\n",
              "      <th>1076</th>\n",
              "      <td>9020.100000</td>\n",
              "      <td>5</td>\n",
              "    </tr>\n",
              "    <tr>\n",
              "      <th>1077</th>\n",
              "      <td>9152.470993</td>\n",
              "      <td>6</td>\n",
              "    </tr>\n",
              "    <tr>\n",
              "      <th>1078</th>\n",
              "      <td>9979.600000</td>\n",
              "      <td>7</td>\n",
              "    </tr>\n",
              "  </tbody>\n",
              "</table>\n",
              "</div>"
            ],
            "text/plain": [
              "             Real  index\n",
              "1072  8822.800000      1\n",
              "1073  8982.300000      2\n",
              "1074  8899.800000      3\n",
              "1075  8865.800000      4\n",
              "1076  9020.100000      5\n",
              "1077  9152.470993      6\n",
              "1078  9979.600000      7"
            ]
          },
          "metadata": {
            "tags": []
          },
          "execution_count": 92
        }
      ]
    },
    {
      "cell_type": "code",
      "metadata": {
        "id": "-aNI35b3a23c",
        "outputId": "285fc7be-7db9-4fb2-d4ea-6e17c4ad00cc",
        "colab": {
          "base_uri": "https://localhost:8080/",
          "height": 0
        }
      },
      "source": [
        "# merge the prediction and actual data frames\n",
        "merge_may = merge_may.merge(y_pred_may, on='index', how='left')\n",
        "merge_may"
      ],
      "execution_count": 93,
      "outputs": [
        {
          "output_type": "execute_result",
          "data": {
            "text/html": [
              "<div>\n",
              "<style scoped>\n",
              "    .dataframe tbody tr th:only-of-type {\n",
              "        vertical-align: middle;\n",
              "    }\n",
              "\n",
              "    .dataframe tbody tr th {\n",
              "        vertical-align: top;\n",
              "    }\n",
              "\n",
              "    .dataframe thead th {\n",
              "        text-align: right;\n",
              "    }\n",
              "</style>\n",
              "<table border=\"1\" class=\"dataframe\">\n",
              "  <thead>\n",
              "    <tr style=\"text-align: right;\">\n",
              "      <th></th>\n",
              "      <th>Real</th>\n",
              "      <th>index</th>\n",
              "      <th>Random Forest</th>\n",
              "      <th>0</th>\n",
              "    </tr>\n",
              "  </thead>\n",
              "  <tbody>\n",
              "    <tr>\n",
              "      <th>0</th>\n",
              "      <td>8822.800000</td>\n",
              "      <td>1</td>\n",
              "      <td>7936.989186</td>\n",
              "      <td>7626.086948</td>\n",
              "    </tr>\n",
              "    <tr>\n",
              "      <th>1</th>\n",
              "      <td>8982.300000</td>\n",
              "      <td>2</td>\n",
              "      <td>8019.186852</td>\n",
              "      <td>7526.599476</td>\n",
              "    </tr>\n",
              "    <tr>\n",
              "      <th>2</th>\n",
              "      <td>8899.800000</td>\n",
              "      <td>3</td>\n",
              "      <td>7452.740787</td>\n",
              "      <td>7690.725950</td>\n",
              "    </tr>\n",
              "    <tr>\n",
              "      <th>3</th>\n",
              "      <td>8865.800000</td>\n",
              "      <td>4</td>\n",
              "      <td>7051.867704</td>\n",
              "      <td>7793.804550</td>\n",
              "    </tr>\n",
              "    <tr>\n",
              "      <th>4</th>\n",
              "      <td>9020.100000</td>\n",
              "      <td>5</td>\n",
              "      <td>7493.764370</td>\n",
              "      <td>7850.899369</td>\n",
              "    </tr>\n",
              "    <tr>\n",
              "      <th>5</th>\n",
              "      <td>9152.470993</td>\n",
              "      <td>6</td>\n",
              "      <td>8325.301589</td>\n",
              "      <td>8888.264968</td>\n",
              "    </tr>\n",
              "    <tr>\n",
              "      <th>6</th>\n",
              "      <td>9979.600000</td>\n",
              "      <td>7</td>\n",
              "      <td>7776.840938</td>\n",
              "      <td>8836.952715</td>\n",
              "    </tr>\n",
              "  </tbody>\n",
              "</table>\n",
              "</div>"
            ],
            "text/plain": [
              "          Real  index  Random Forest            0\n",
              "0  8822.800000      1    7936.989186  7626.086948\n",
              "1  8982.300000      2    8019.186852  7526.599476\n",
              "2  8899.800000      3    7452.740787  7690.725950\n",
              "3  8865.800000      4    7051.867704  7793.804550\n",
              "4  9020.100000      5    7493.764370  7850.899369\n",
              "5  9152.470993      6    8325.301589  8888.264968\n",
              "6  9979.600000      7    7776.840938  8836.952715"
            ]
          },
          "metadata": {
            "tags": []
          },
          "execution_count": 93
        }
      ]
    },
    {
      "cell_type": "code",
      "metadata": {
        "id": "VP9P5hL-a7Nr"
      },
      "source": [
        "merge_may.columns = ['Real', 'index', 'Random Forest', 'Linear Regression']"
      ],
      "execution_count": 94,
      "outputs": []
    },
    {
      "cell_type": "code",
      "metadata": {
        "id": "PM11Z3tWWcSM"
      },
      "source": [
        "from sklearn.metrics import mean_squared_error"
      ],
      "execution_count": 95,
      "outputs": []
    },
    {
      "cell_type": "code",
      "metadata": {
        "id": "fb8t3stwWg9l",
        "outputId": "59b6c6d4-c822-48b1-dd77-4cc78b11aa94",
        "colab": {
          "base_uri": "https://localhost:8080/"
        }
      },
      "source": [
        "MSE = mean_squared_error(y_true = merge_may.Real, y_pred = merge_may['Linear Regression'])\n",
        "np.sqrt(MSE)"
      ],
      "execution_count": 96,
      "outputs": [
        {
          "output_type": "execute_result",
          "data": {
            "text/plain": [
              "1127.8739928245245"
            ]
          },
          "metadata": {
            "tags": []
          },
          "execution_count": 96
        }
      ]
    },
    {
      "cell_type": "code",
      "metadata": {
        "id": "BHfQOIcAUoh_",
        "outputId": "8feb1208-42c7-4c32-ca7b-7034cf14d87b",
        "colab": {
          "base_uri": "https://localhost:8080/"
        }
      },
      "source": [
        "# Calculate the r_square value for the linear model\n",
        "r_sq = model.score(x_train_may, y_train_may)\n",
        "print('coefficient of determination:', r_sq)"
      ],
      "execution_count": 97,
      "outputs": [
        {
          "output_type": "stream",
          "text": [
            "coefficient of determination: 0.8933358021588513\n"
          ],
          "name": "stdout"
        }
      ]
    },
    {
      "cell_type": "code",
      "metadata": {
        "id": "iHU2TMAUv7lw",
        "outputId": "073eb055-e4dc-4e1a-eb71-68ae5b39b6fe",
        "colab": {
          "base_uri": "https://localhost:8080/",
          "height": 0
        }
      },
      "source": [
        "# Plot the predicted vs actual in matplot lib\n",
        "import matplotlib.pyplot as plt\n",
        "plt.plot( 'index', 'Real', data=merge_may, marker='o', markerfacecolor='blue', markersize=12, color='skyblue', linewidth=4)\n",
        "plt.plot( 'index', 'Linear Regression', data=merge_may, marker='', color='olive', linewidth=2)\n",
        "plt.xticks(rotation='vertical')\n",
        "plt.legend()"
      ],
      "execution_count": 98,
      "outputs": [
        {
          "output_type": "execute_result",
          "data": {
            "text/plain": [
              "<matplotlib.legend.Legend at 0x7f5b0eb2eb70>"
            ]
          },
          "metadata": {
            "tags": []
          },
          "execution_count": 98
        },
        {
          "output_type": "display_data",
          "data": {
            "image/png": "[encoded data removed]",
            "text/plain": [
              "<Figure size 432x288 with 1 Axes>"
            ]
          },
          "metadata": {
            "tags": [],
            "needs_background": "light"
          }
        }
      ]
    },
    {
      "cell_type": "markdown",
      "metadata": {
        "id": "dT41mQAHU8YL"
      },
      "source": [
        "## Support Vector Regression - May"
      ]
    },
    {
      "cell_type": "code",
      "metadata": {
        "id": "Ct1pbhN5U_0t"
      },
      "source": [
        "# Import the algorithm package\n",
        "from sklearn.svm import SVR\n",
        "from sklearn.pipeline import make_pipeline\n",
        "from sklearn.preprocessing import StandardScaler"
      ],
      "execution_count": 100,
      "outputs": []
    },
    {
      "cell_type": "code",
      "metadata": {
        "id": "2V1qN2Kfb0JS"
      },
      "source": [
        "y_train_may = pd.DataFrame(y_train_may)"
      ],
      "execution_count": 101,
      "outputs": []
    },
    {
      "cell_type": "code",
      "metadata": {
        "id": "-3sFpthUa9MK"
      },
      "source": [
        "#3 Feature Scaling\n",
        "sc_X = StandardScaler()\n",
        "sc_y = StandardScaler()\n",
        "X = sc_X.fit_transform(x_train_may)\n",
        "y = sc_y.fit_transform(y_train_may)"
      ],
      "execution_count": 102,
      "outputs": []
    },
    {
      "cell_type": "code",
      "metadata": {
        "id": "C1EuhuV5eoaB"
      },
      "source": [
        "y = y[:, 0]"
      ],
      "execution_count": 103,
      "outputs": []
    },
    {
      "cell_type": "code",
      "metadata": {
        "id": "ZuY-wvDKWXWL"
      },
      "source": [
        "# Load the SVR and fit\n",
        "#svr = SVR(kernel='poly')\n",
        "svr_regressor = SVR(kernel = 'poly')\n",
        "SVR_reg = svr_regressor.fit(X, y)"
      ],
      "execution_count": 104,
      "outputs": []
    },
    {
      "cell_type": "code",
      "metadata": {
        "id": "iGQdB4OcWpJd"
      },
      "source": [
        "# Predict the model on the x_test data\n",
        "x_test_may = sc_X.fit_transform(x_test_may)\n",
        "\n",
        "y_pred_may_svr = SVR_reg.predict(x_test_may)\n",
        "y_pred_may_svr = sc_y.inverse_transform(y_pred_may_svr) \n",
        "\n",
        "y_pred_may_svr = pd.DataFrame(y_pred_may_svr)\n",
        "y_pred_may_svr['index'] = range(1,8)"
      ],
      "execution_count": 105,
      "outputs": []
    },
    {
      "cell_type": "code",
      "metadata": {
        "id": "7aBS0h8sgcoa"
      },
      "source": [
        "# merge the prediction and actual data frames\n",
        "merge_may = merge_may.merge(y_pred_may_svr, on='index', how='left')"
      ],
      "execution_count": 106,
      "outputs": []
    },
    {
      "cell_type": "code",
      "metadata": {
        "id": "ot3TLfB3k_U_",
        "outputId": "a7890729-f254-4571-e7c3-d138f7792fee",
        "colab": {
          "base_uri": "https://localhost:8080/",
          "height": 257
        }
      },
      "source": [
        "merge_may"
      ],
      "execution_count": 107,
      "outputs": [
        {
          "output_type": "execute_result",
          "data": {
            "text/html": [
              "<div>\n",
              "<style scoped>\n",
              "    .dataframe tbody tr th:only-of-type {\n",
              "        vertical-align: middle;\n",
              "    }\n",
              "\n",
              "    .dataframe tbody tr th {\n",
              "        vertical-align: top;\n",
              "    }\n",
              "\n",
              "    .dataframe thead th {\n",
              "        text-align: right;\n",
              "    }\n",
              "</style>\n",
              "<table border=\"1\" class=\"dataframe\">\n",
              "  <thead>\n",
              "    <tr style=\"text-align: right;\">\n",
              "      <th></th>\n",
              "      <th>Real</th>\n",
              "      <th>index</th>\n",
              "      <th>Random Forest</th>\n",
              "      <th>Linear Regression</th>\n",
              "      <th>0</th>\n",
              "    </tr>\n",
              "  </thead>\n",
              "  <tbody>\n",
              "    <tr>\n",
              "      <th>0</th>\n",
              "      <td>8822.800000</td>\n",
              "      <td>1</td>\n",
              "      <td>7936.989186</td>\n",
              "      <td>7626.086948</td>\n",
              "      <td>6233.990297</td>\n",
              "    </tr>\n",
              "    <tr>\n",
              "      <th>1</th>\n",
              "      <td>8982.300000</td>\n",
              "      <td>2</td>\n",
              "      <td>8019.186852</td>\n",
              "      <td>7526.599476</td>\n",
              "      <td>6457.953900</td>\n",
              "    </tr>\n",
              "    <tr>\n",
              "      <th>2</th>\n",
              "      <td>8899.800000</td>\n",
              "      <td>3</td>\n",
              "      <td>7452.740787</td>\n",
              "      <td>7690.725950</td>\n",
              "      <td>6479.903842</td>\n",
              "    </tr>\n",
              "    <tr>\n",
              "      <th>3</th>\n",
              "      <td>8865.800000</td>\n",
              "      <td>4</td>\n",
              "      <td>7051.867704</td>\n",
              "      <td>7793.804550</td>\n",
              "      <td>6640.965524</td>\n",
              "    </tr>\n",
              "    <tr>\n",
              "      <th>4</th>\n",
              "      <td>9020.100000</td>\n",
              "      <td>5</td>\n",
              "      <td>7493.764370</td>\n",
              "      <td>7850.899369</td>\n",
              "      <td>6510.529127</td>\n",
              "    </tr>\n",
              "    <tr>\n",
              "      <th>5</th>\n",
              "      <td>9152.470993</td>\n",
              "      <td>6</td>\n",
              "      <td>8325.301589</td>\n",
              "      <td>8888.264968</td>\n",
              "      <td>7965.608332</td>\n",
              "    </tr>\n",
              "    <tr>\n",
              "      <th>6</th>\n",
              "      <td>9979.600000</td>\n",
              "      <td>7</td>\n",
              "      <td>7776.840938</td>\n",
              "      <td>8836.952715</td>\n",
              "      <td>14049.828929</td>\n",
              "    </tr>\n",
              "  </tbody>\n",
              "</table>\n",
              "</div>"
            ],
            "text/plain": [
              "          Real  index  Random Forest  Linear Regression             0\n",
              "0  8822.800000      1    7936.989186        7626.086948   6233.990297\n",
              "1  8982.300000      2    8019.186852        7526.599476   6457.953900\n",
              "2  8899.800000      3    7452.740787        7690.725950   6479.903842\n",
              "3  8865.800000      4    7051.867704        7793.804550   6640.965524\n",
              "4  9020.100000      5    7493.764370        7850.899369   6510.529127\n",
              "5  9152.470993      6    8325.301589        8888.264968   7965.608332\n",
              "6  9979.600000      7    7776.840938        8836.952715  14049.828929"
            ]
          },
          "metadata": {
            "tags": []
          },
          "execution_count": 107
        }
      ]
    },
    {
      "cell_type": "code",
      "metadata": {
        "id": "-pO8vnSSgf5w"
      },
      "source": [
        "merge_may.columns = ['Real', 'index', 'Random Forest', 'Linear Regression', 'Support Vector Regression']"
      ],
      "execution_count": 108,
      "outputs": []
    },
    {
      "cell_type": "code",
      "metadata": {
        "id": "LKkRNP6Ml999"
      },
      "source": [
        "#merge_may['Avg'] = (merge_may['lm_prediction'] + merge_may['random_forest']) / 2\n",
        "\n",
        "#merge_may"
      ],
      "execution_count": 109,
      "outputs": []
    },
    {
      "cell_type": "code",
      "metadata": {
        "id": "VYBRmLe4laGI",
        "outputId": "b883b7d2-4145-43c0-d0d0-88de031945d5",
        "colab": {
          "base_uri": "https://localhost:8080/"
        }
      },
      "source": [
        "MSE = mean_squared_error(y_true = merge_may.Real, y_pred = merge_may['Support Vector Regression'])\n",
        "np.sqrt(MSE)"
      ],
      "execution_count": 110,
      "outputs": [
        {
          "output_type": "execute_result",
          "data": {
            "text/plain": [
              "2622.7955982329245"
            ]
          },
          "metadata": {
            "tags": []
          },
          "execution_count": 110
        }
      ]
    },
    {
      "cell_type": "code",
      "metadata": {
        "id": "T5kc3T4UgpuY",
        "outputId": "10d0c89f-6093-4104-a4c7-0c2bd197b6fe",
        "colab": {
          "base_uri": "https://localhost:8080/",
          "height": 280
        }
      },
      "source": [
        "# Plot the predicted vs actual in matplot lib\n",
        "import matplotlib.pyplot as plt\n",
        "plt.plot( 'index', 'Real', data=merge_may, marker='o', markerfacecolor='blue', markersize=12, color='skyblue', linewidth=4)\n",
        "plt.plot( 'index', 'Support Vector Regression', data=merge_may, marker='', color='olive', linewidth=2)\n",
        "plt.xticks(rotation='vertical')\n",
        "plt.legend()"
      ],
      "execution_count": 111,
      "outputs": [
        {
          "output_type": "execute_result",
          "data": {
            "text/plain": [
              "<matplotlib.legend.Legend at 0x7f5b0eb1af60>"
            ]
          },
          "metadata": {
            "tags": []
          },
          "execution_count": 111
        },
        {
          "output_type": "display_data",
          "data": {
            "image/png": "[encoded data removed]",
            "text/plain": [
              "<Figure size 432x288 with 1 Axes>"
            ]
          },
          "metadata": {
            "tags": [],
            "needs_background": "light"
          }
        }
      ]
    },
    {
      "cell_type": "markdown",
      "metadata": {
        "id": "AhyTX7CApqom"
      },
      "source": [
        "## Vanilla Neural Network - May"
      ]
    },
    {
      "cell_type": "code",
      "metadata": {
        "id": "pRHOC8jypqoo"
      },
      "source": [
        "%tensorflow_version 2.x"
      ],
      "execution_count": 112,
      "outputs": []
    },
    {
      "cell_type": "code",
      "metadata": {
        "id": "febhwX_npqoy"
      },
      "source": [
        "import tensorflow as tf\n",
        "import numpy as np\n",
        "from sklearn.preprocessing import scale\n",
        "from sklearn.preprocessing import StandardScaler"
      ],
      "execution_count": 113,
      "outputs": []
    },
    {
      "cell_type": "code",
      "metadata": {
        "id": "zsOgtC_fpqo6"
      },
      "source": [
        "# Standardise the two data sets as a neural network requires standardised data\n",
        "\n",
        "scaled_X_train = scale(x_train_may)\n",
        "scaled_X_test = scale(x_test_may)"
      ],
      "execution_count": 114,
      "outputs": []
    },
    {
      "cell_type": "code",
      "metadata": {
        "id": "AYulC0U_pqo_"
      },
      "source": [
        "# Set the seed for the modelling exercises in order to get reproducible results\n",
        "\n",
        "tf.random.set_seed(168)\n",
        "np.random.seed(168)"
      ],
      "execution_count": 115,
      "outputs": []
    },
    {
      "cell_type": "code",
      "metadata": {
        "id": "GDXug-wbpqpH"
      },
      "source": [
        "from tensorflow.keras.layers import Dense, Dropout"
      ],
      "execution_count": 116,
      "outputs": []
    },
    {
      "cell_type": "code",
      "metadata": {
        "id": "5nTM6SKIpqpK"
      },
      "source": [
        "# Create a sequential model \n",
        "model = tf.keras.Sequential()"
      ],
      "execution_count": 117,
      "outputs": []
    },
    {
      "cell_type": "code",
      "metadata": {
        "id": "gAdNN-GYpqpO"
      },
      "source": [
        "# create the architecture for the neural network\n",
        "layer1 = Dense(128, activation='relu', input_shape=[9])\n",
        "\n",
        "layer2 = Dense(128, activation='relu')\n",
        "\n",
        "layer3 = Dense(128, activation='relu')\n",
        "\n",
        "top_layer = Dense(1)"
      ],
      "execution_count": 118,
      "outputs": []
    },
    {
      "cell_type": "code",
      "metadata": {
        "id": "79ufto3fpqpS"
      },
      "source": [
        "# Add the layers into the model\n",
        "\n",
        "model.add(layer1)\n",
        "model.add(Dropout(0.5))\n",
        "model.add(layer2)\n",
        "model.add(Dropout(0.5))\n",
        "model.add(layer3)\n",
        "model.add(Dropout(0.5))\n",
        "model.add(top_layer)"
      ],
      "execution_count": 119,
      "outputs": []
    },
    {
      "cell_type": "code",
      "metadata": {
        "id": "c1_rwG32pqpW"
      },
      "source": [
        "# Specify the optimizer to be used during the back propgation\n",
        "optimizer = tf.keras.optimizers.Adam(0.0001)"
      ],
      "execution_count": 120,
      "outputs": []
    },
    {
      "cell_type": "code",
      "metadata": {
        "id": "p0TYHSE6pqpa"
      },
      "source": [
        "# Compile the model architecture\n",
        "\n",
        "model.compile(loss='mean_squared_error', optimizer=optimizer)"
      ],
      "execution_count": 121,
      "outputs": []
    },
    {
      "cell_type": "code",
      "metadata": {
        "id": "3LMqqQenpqpd",
        "outputId": "5d80d5b2-6233-4f9e-873b-927ae279d465",
        "colab": {
          "base_uri": "https://localhost:8080/"
        }
      },
      "source": [
        "# Print a summary of the model\n",
        "model.summary()"
      ],
      "execution_count": 122,
      "outputs": [
        {
          "output_type": "stream",
          "text": [
            "Model: \"sequential\"\n",
            "_________________________________________________________________\n",
            "Layer (type)                 Output Shape              Param #   \n",
            "=================================================================\n",
            "dense (Dense)                (None, 128)               1280      \n",
            "_________________________________________________________________\n",
            "dropout (Dropout)            (None, 128)               0         \n",
            "_________________________________________________________________\n",
            "dense_1 (Dense)              (None, 128)               16512     \n",
            "_________________________________________________________________\n",
            "dropout_1 (Dropout)          (None, 128)               0         \n",
            "_________________________________________________________________\n",
            "dense_2 (Dense)              (None, 128)               16512     \n",
            "_________________________________________________________________\n",
            "dropout_2 (Dropout)          (None, 128)               0         \n",
            "_________________________________________________________________\n",
            "dense_3 (Dense)              (None, 1)                 129       \n",
            "=================================================================\n",
            "Total params: 34,433\n",
            "Trainable params: 34,433\n",
            "Non-trainable params: 0\n",
            "_________________________________________________________________\n"
          ],
          "name": "stdout"
        }
      ]
    },
    {
      "cell_type": "code",
      "metadata": {
        "id": "-2-Epf4Opqpf",
        "outputId": "8dafc4ec-78ea-4be5-d592-5fd6e9bca81f",
        "colab": {
          "base_uri": "https://localhost:8080/"
        }
      },
      "source": [
        "history = model.fit(scaled_X_train, y_train_may, epochs=250, validation_split = 0.3)"
      ],
      "execution_count": 123,
      "outputs": [
        {
          "output_type": "stream",
          "text": [
            "Epoch 1/250\n",
            "24/24 [==============================] - 0s 8ms/step - loss: 51912752.0000 - val_loss: 80201336.0000\n",
            "Epoch 2/250\n",
            "24/24 [==============================] - 0s 3ms/step - loss: 51909476.0000 - val_loss: 80198656.0000\n",
            "Epoch 3/250\n",
            "24/24 [==============================] - 0s 3ms/step - loss: 51904596.0000 - val_loss: 80195320.0000\n",
            "Epoch 4/250\n",
            "24/24 [==============================] - 0s 3ms/step - loss: 51899964.0000 - val_loss: 80190928.0000\n",
            "Epoch 5/250\n",
            "24/24 [==============================] - 0s 3ms/step - loss: 51893492.0000 - val_loss: 80184992.0000\n",
            "Epoch 6/250\n",
            "24/24 [==============================] - 0s 3ms/step - loss: 51884320.0000 - val_loss: 80176928.0000\n",
            "Epoch 7/250\n",
            "24/24 [==============================] - 0s 3ms/step - loss: 51872888.0000 - val_loss: 80165608.0000\n",
            "Epoch 8/250\n",
            "24/24 [==============================] - 0s 3ms/step - loss: 51856164.0000 - val_loss: 80149896.0000\n",
            "Epoch 9/250\n",
            "24/24 [==============================] - 0s 3ms/step - loss: 51830636.0000 - val_loss: 80127840.0000\n",
            "Epoch 10/250\n",
            "24/24 [==============================] - 0s 3ms/step - loss: 51801968.0000 - val_loss: 80096536.0000\n",
            "Epoch 11/250\n",
            "24/24 [==============================] - 0s 3ms/step - loss: 51747936.0000 - val_loss: 80052368.0000\n",
            "Epoch 12/250\n",
            "24/24 [==============================] - 0s 4ms/step - loss: 51671996.0000 - val_loss: 79991352.0000\n",
            "Epoch 13/250\n",
            "24/24 [==============================] - 0s 4ms/step - loss: 51583924.0000 - val_loss: 79907888.0000\n",
            "Epoch 14/250\n",
            "24/24 [==============================] - 0s 3ms/step - loss: 51442632.0000 - val_loss: 79800768.0000\n",
            "Epoch 15/250\n",
            "24/24 [==============================] - 0s 3ms/step - loss: 51258032.0000 - val_loss: 79658520.0000\n",
            "Epoch 16/250\n",
            "24/24 [==============================] - 0s 3ms/step - loss: 51026072.0000 - val_loss: 79481664.0000\n",
            "Epoch 17/250\n",
            "24/24 [==============================] - 0s 3ms/step - loss: 50694540.0000 - val_loss: 79260976.0000\n",
            "Epoch 18/250\n",
            "24/24 [==============================] - 0s 3ms/step - loss: 50289988.0000 - val_loss: 78996160.0000\n",
            "Epoch 19/250\n",
            "24/24 [==============================] - 0s 3ms/step - loss: 49830060.0000 - val_loss: 78677120.0000\n",
            "Epoch 20/250\n",
            "24/24 [==============================] - 0s 3ms/step - loss: 49309584.0000 - val_loss: 78312968.0000\n",
            "Epoch 21/250\n",
            "24/24 [==============================] - 0s 3ms/step - loss: 48543332.0000 - val_loss: 77882960.0000\n",
            "Epoch 22/250\n",
            "24/24 [==============================] - 0s 3ms/step - loss: 47721100.0000 - val_loss: 77395640.0000\n",
            "Epoch 23/250\n",
            "24/24 [==============================] - 0s 3ms/step - loss: 46748040.0000 - val_loss: 76832784.0000\n",
            "Epoch 24/250\n",
            "24/24 [==============================] - 0s 3ms/step - loss: 45764560.0000 - val_loss: 76202040.0000\n",
            "Epoch 25/250\n",
            "24/24 [==============================] - 0s 3ms/step - loss: 44537056.0000 - val_loss: 75518520.0000\n",
            "Epoch 26/250\n",
            "24/24 [==============================] - 0s 3ms/step - loss: 42963340.0000 - val_loss: 74724616.0000\n",
            "Epoch 27/250\n",
            "24/24 [==============================] - 0s 3ms/step - loss: 41917908.0000 - val_loss: 73900960.0000\n",
            "Epoch 28/250\n",
            "24/24 [==============================] - 0s 3ms/step - loss: 40056052.0000 - val_loss: 72990704.0000\n",
            "Epoch 29/250\n",
            "24/24 [==============================] - 0s 3ms/step - loss: 38725128.0000 - val_loss: 72022192.0000\n",
            "Epoch 30/250\n",
            "24/24 [==============================] - 0s 3ms/step - loss: 36783168.0000 - val_loss: 70989712.0000\n",
            "Epoch 31/250\n",
            "24/24 [==============================] - 0s 3ms/step - loss: 35023984.0000 - val_loss: 69882816.0000\n",
            "Epoch 32/250\n",
            "24/24 [==============================] - 0s 3ms/step - loss: 33342848.0000 - val_loss: 68705480.0000\n",
            "Epoch 33/250\n",
            "24/24 [==============================] - 0s 3ms/step - loss: 31071674.0000 - val_loss: 67497056.0000\n",
            "Epoch 34/250\n",
            "24/24 [==============================] - 0s 3ms/step - loss: 29318990.0000 - val_loss: 66232364.0000\n",
            "Epoch 35/250\n",
            "24/24 [==============================] - 0s 3ms/step - loss: 27220454.0000 - val_loss: 64934904.0000\n",
            "Epoch 36/250\n",
            "24/24 [==============================] - 0s 3ms/step - loss: 25355058.0000 - val_loss: 63600868.0000\n",
            "Epoch 37/250\n",
            "24/24 [==============================] - 0s 3ms/step - loss: 24108772.0000 - val_loss: 62233788.0000\n",
            "Epoch 38/250\n",
            "24/24 [==============================] - 0s 3ms/step - loss: 22328530.0000 - val_loss: 60882068.0000\n",
            "Epoch 39/250\n",
            "24/24 [==============================] - 0s 3ms/step - loss: 21008488.0000 - val_loss: 59557364.0000\n",
            "Epoch 40/250\n",
            "24/24 [==============================] - 0s 3ms/step - loss: 19855414.0000 - val_loss: 58245948.0000\n",
            "Epoch 41/250\n",
            "24/24 [==============================] - 0s 3ms/step - loss: 19157404.0000 - val_loss: 56941104.0000\n",
            "Epoch 42/250\n",
            "24/24 [==============================] - 0s 3ms/step - loss: 17840186.0000 - val_loss: 55689616.0000\n",
            "Epoch 43/250\n",
            "24/24 [==============================] - 0s 3ms/step - loss: 17823154.0000 - val_loss: 54514288.0000\n",
            "Epoch 44/250\n",
            "24/24 [==============================] - 0s 3ms/step - loss: 16952146.0000 - val_loss: 53380736.0000\n",
            "Epoch 45/250\n",
            "24/24 [==============================] - 0s 3ms/step - loss: 16521221.0000 - val_loss: 52343152.0000\n",
            "Epoch 46/250\n",
            "24/24 [==============================] - 0s 3ms/step - loss: 16108614.0000 - val_loss: 51326528.0000\n",
            "Epoch 47/250\n",
            "24/24 [==============================] - 0s 3ms/step - loss: 15337212.0000 - val_loss: 50374192.0000\n",
            "Epoch 48/250\n",
            "24/24 [==============================] - 0s 3ms/step - loss: 15522912.0000 - val_loss: 49522056.0000\n",
            "Epoch 49/250\n",
            "24/24 [==============================] - 0s 3ms/step - loss: 15266389.0000 - val_loss: 48640540.0000\n",
            "Epoch 50/250\n",
            "24/24 [==============================] - 0s 3ms/step - loss: 14944088.0000 - val_loss: 47775136.0000\n",
            "Epoch 51/250\n",
            "24/24 [==============================] - 0s 3ms/step - loss: 14814090.0000 - val_loss: 46952580.0000\n",
            "Epoch 52/250\n",
            "24/24 [==============================] - 0s 3ms/step - loss: 14329976.0000 - val_loss: 46153548.0000\n",
            "Epoch 53/250\n",
            "24/24 [==============================] - 0s 3ms/step - loss: 13935847.0000 - val_loss: 45346012.0000\n",
            "Epoch 54/250\n",
            "24/24 [==============================] - 0s 3ms/step - loss: 15290231.0000 - val_loss: 44716952.0000\n",
            "Epoch 55/250\n",
            "24/24 [==============================] - 0s 3ms/step - loss: 13854862.0000 - val_loss: 44099088.0000\n",
            "Epoch 56/250\n",
            "24/24 [==============================] - 0s 3ms/step - loss: 14038877.0000 - val_loss: 43495448.0000\n",
            "Epoch 57/250\n",
            "24/24 [==============================] - 0s 3ms/step - loss: 14185383.0000 - val_loss: 42888684.0000\n",
            "Epoch 58/250\n",
            "24/24 [==============================] - 0s 3ms/step - loss: 13896622.0000 - val_loss: 42261356.0000\n",
            "Epoch 59/250\n",
            "24/24 [==============================] - 0s 3ms/step - loss: 13593068.0000 - val_loss: 41613688.0000\n",
            "Epoch 60/250\n",
            "24/24 [==============================] - 0s 3ms/step - loss: 14292055.0000 - val_loss: 41121184.0000\n",
            "Epoch 61/250\n",
            "24/24 [==============================] - 0s 3ms/step - loss: 13504368.0000 - val_loss: 40596176.0000\n",
            "Epoch 62/250\n",
            "24/24 [==============================] - 0s 3ms/step - loss: 13188413.0000 - val_loss: 39932472.0000\n",
            "Epoch 63/250\n",
            "24/24 [==============================] - 0s 3ms/step - loss: 12678837.0000 - val_loss: 39281088.0000\n",
            "Epoch 64/250\n",
            "24/24 [==============================] - 0s 3ms/step - loss: 13654875.0000 - val_loss: 38688640.0000\n",
            "Epoch 65/250\n",
            "24/24 [==============================] - 0s 3ms/step - loss: 13054231.0000 - val_loss: 38129272.0000\n",
            "Epoch 66/250\n",
            "24/24 [==============================] - 0s 3ms/step - loss: 12978780.0000 - val_loss: 37465968.0000\n",
            "Epoch 67/250\n",
            "24/24 [==============================] - 0s 3ms/step - loss: 12551528.0000 - val_loss: 36981208.0000\n",
            "Epoch 68/250\n",
            "24/24 [==============================] - 0s 3ms/step - loss: 12850475.0000 - val_loss: 36401388.0000\n",
            "Epoch 69/250\n",
            "24/24 [==============================] - 0s 3ms/step - loss: 12235231.0000 - val_loss: 35943912.0000\n",
            "Epoch 70/250\n",
            "24/24 [==============================] - 0s 3ms/step - loss: 12489973.0000 - val_loss: 35422776.0000\n",
            "Epoch 71/250\n",
            "24/24 [==============================] - 0s 3ms/step - loss: 12211688.0000 - val_loss: 34876092.0000\n",
            "Epoch 72/250\n",
            "24/24 [==============================] - 0s 3ms/step - loss: 12604397.0000 - val_loss: 34393812.0000\n",
            "Epoch 73/250\n",
            "24/24 [==============================] - 0s 3ms/step - loss: 12036339.0000 - val_loss: 33827992.0000\n",
            "Epoch 74/250\n",
            "24/24 [==============================] - 0s 3ms/step - loss: 11727700.0000 - val_loss: 33276478.0000\n",
            "Epoch 75/250\n",
            "24/24 [==============================] - 0s 3ms/step - loss: 11177270.0000 - val_loss: 32739752.0000\n",
            "Epoch 76/250\n",
            "24/24 [==============================] - 0s 3ms/step - loss: 12334474.0000 - val_loss: 32386588.0000\n",
            "Epoch 77/250\n",
            "24/24 [==============================] - 0s 3ms/step - loss: 11932903.0000 - val_loss: 31828574.0000\n",
            "Epoch 78/250\n",
            "24/24 [==============================] - 0s 3ms/step - loss: 11090306.0000 - val_loss: 31312060.0000\n",
            "Epoch 79/250\n",
            "24/24 [==============================] - 0s 3ms/step - loss: 11841278.0000 - val_loss: 30894172.0000\n",
            "Epoch 80/250\n",
            "24/24 [==============================] - 0s 3ms/step - loss: 11388754.0000 - val_loss: 30521570.0000\n",
            "Epoch 81/250\n",
            "24/24 [==============================] - 0s 3ms/step - loss: 11802807.0000 - val_loss: 30079656.0000\n",
            "Epoch 82/250\n",
            "24/24 [==============================] - 0s 3ms/step - loss: 11269616.0000 - val_loss: 29523452.0000\n",
            "Epoch 83/250\n",
            "24/24 [==============================] - 0s 3ms/step - loss: 11390072.0000 - val_loss: 29029634.0000\n",
            "Epoch 84/250\n",
            "24/24 [==============================] - 0s 4ms/step - loss: 10738744.0000 - val_loss: 28622778.0000\n",
            "Epoch 85/250\n",
            "24/24 [==============================] - 0s 3ms/step - loss: 10934934.0000 - val_loss: 28164942.0000\n",
            "Epoch 86/250\n",
            "24/24 [==============================] - 0s 3ms/step - loss: 10786130.0000 - val_loss: 27596504.0000\n",
            "Epoch 87/250\n",
            "24/24 [==============================] - 0s 3ms/step - loss: 10723231.0000 - val_loss: 27140042.0000\n",
            "Epoch 88/250\n",
            "24/24 [==============================] - 0s 3ms/step - loss: 10851346.0000 - val_loss: 26558486.0000\n",
            "Epoch 89/250\n",
            "24/24 [==============================] - 0s 3ms/step - loss: 11009541.0000 - val_loss: 26205434.0000\n",
            "Epoch 90/250\n",
            "24/24 [==============================] - 0s 3ms/step - loss: 11177148.0000 - val_loss: 25809018.0000\n",
            "Epoch 91/250\n",
            "24/24 [==============================] - 0s 3ms/step - loss: 10225860.0000 - val_loss: 25311366.0000\n",
            "Epoch 92/250\n",
            "24/24 [==============================] - 0s 3ms/step - loss: 10350734.0000 - val_loss: 24871110.0000\n",
            "Epoch 93/250\n",
            "24/24 [==============================] - 0s 3ms/step - loss: 10712897.0000 - val_loss: 24412736.0000\n",
            "Epoch 94/250\n",
            "24/24 [==============================] - 0s 3ms/step - loss: 10627842.0000 - val_loss: 24082996.0000\n",
            "Epoch 95/250\n",
            "24/24 [==============================] - 0s 3ms/step - loss: 9781362.0000 - val_loss: 23748836.0000\n",
            "Epoch 96/250\n",
            "24/24 [==============================] - 0s 3ms/step - loss: 9729563.0000 - val_loss: 23168482.0000\n",
            "Epoch 97/250\n",
            "24/24 [==============================] - 0s 3ms/step - loss: 9145206.0000 - val_loss: 22735346.0000\n",
            "Epoch 98/250\n",
            "24/24 [==============================] - 0s 3ms/step - loss: 9579310.0000 - val_loss: 22136212.0000\n",
            "Epoch 99/250\n",
            "24/24 [==============================] - 0s 3ms/step - loss: 9602071.0000 - val_loss: 21649238.0000\n",
            "Epoch 100/250\n",
            "24/24 [==============================] - 0s 3ms/step - loss: 9171834.0000 - val_loss: 21243722.0000\n",
            "Epoch 101/250\n",
            "24/24 [==============================] - 0s 3ms/step - loss: 10044539.0000 - val_loss: 20963924.0000\n",
            "Epoch 102/250\n",
            "24/24 [==============================] - 0s 3ms/step - loss: 9436040.0000 - val_loss: 20395910.0000\n",
            "Epoch 103/250\n",
            "24/24 [==============================] - 0s 3ms/step - loss: 9215580.0000 - val_loss: 19960814.0000\n",
            "Epoch 104/250\n",
            "24/24 [==============================] - 0s 3ms/step - loss: 8641176.0000 - val_loss: 19509362.0000\n",
            "Epoch 105/250\n",
            "24/24 [==============================] - 0s 3ms/step - loss: 9801252.0000 - val_loss: 19098114.0000\n",
            "Epoch 106/250\n",
            "24/24 [==============================] - 0s 3ms/step - loss: 9140422.0000 - val_loss: 18722450.0000\n",
            "Epoch 107/250\n",
            "24/24 [==============================] - 0s 3ms/step - loss: 9021873.0000 - val_loss: 18238124.0000\n",
            "Epoch 108/250\n",
            "24/24 [==============================] - 0s 3ms/step - loss: 8161902.0000 - val_loss: 17785286.0000\n",
            "Epoch 109/250\n",
            "24/24 [==============================] - 0s 3ms/step - loss: 9224774.0000 - val_loss: 17398386.0000\n",
            "Epoch 110/250\n",
            "24/24 [==============================] - 0s 3ms/step - loss: 8244058.5000 - val_loss: 16961540.0000\n",
            "Epoch 111/250\n",
            "24/24 [==============================] - 0s 3ms/step - loss: 8264790.0000 - val_loss: 16581412.0000\n",
            "Epoch 112/250\n",
            "24/24 [==============================] - 0s 3ms/step - loss: 7989820.0000 - val_loss: 16141516.0000\n",
            "Epoch 113/250\n",
            "24/24 [==============================] - 0s 3ms/step - loss: 8380882.0000 - val_loss: 15698245.0000\n",
            "Epoch 114/250\n",
            "24/24 [==============================] - 0s 3ms/step - loss: 8562140.0000 - val_loss: 15330089.0000\n",
            "Epoch 115/250\n",
            "24/24 [==============================] - 0s 3ms/step - loss: 8473304.0000 - val_loss: 15012807.0000\n",
            "Epoch 116/250\n",
            "24/24 [==============================] - 0s 3ms/step - loss: 8481542.0000 - val_loss: 14686104.0000\n",
            "Epoch 117/250\n",
            "24/24 [==============================] - 0s 3ms/step - loss: 8142161.5000 - val_loss: 14318752.0000\n",
            "Epoch 118/250\n",
            "24/24 [==============================] - 0s 3ms/step - loss: 8090346.0000 - val_loss: 13924106.0000\n",
            "Epoch 119/250\n",
            "24/24 [==============================] - 0s 3ms/step - loss: 7589798.0000 - val_loss: 13475523.0000\n",
            "Epoch 120/250\n",
            "24/24 [==============================] - 0s 3ms/step - loss: 7533334.0000 - val_loss: 13126827.0000\n",
            "Epoch 121/250\n",
            "24/24 [==============================] - 0s 3ms/step - loss: 8161490.5000 - val_loss: 12862111.0000\n",
            "Epoch 122/250\n",
            "24/24 [==============================] - 0s 3ms/step - loss: 7617700.5000 - val_loss: 12611979.0000\n",
            "Epoch 123/250\n",
            "24/24 [==============================] - 0s 3ms/step - loss: 7445453.5000 - val_loss: 12200465.0000\n",
            "Epoch 124/250\n",
            "24/24 [==============================] - 0s 3ms/step - loss: 7252327.5000 - val_loss: 11808203.0000\n",
            "Epoch 125/250\n",
            "24/24 [==============================] - 0s 3ms/step - loss: 7224871.0000 - val_loss: 11456046.0000\n",
            "Epoch 126/250\n",
            "24/24 [==============================] - 0s 3ms/step - loss: 7295320.5000 - val_loss: 11018941.0000\n",
            "Epoch 127/250\n",
            "24/24 [==============================] - 0s 3ms/step - loss: 6694083.5000 - val_loss: 10642887.0000\n",
            "Epoch 128/250\n",
            "24/24 [==============================] - 0s 3ms/step - loss: 6726075.0000 - val_loss: 10298382.0000\n",
            "Epoch 129/250\n",
            "24/24 [==============================] - 0s 3ms/step - loss: 7006425.5000 - val_loss: 10002960.0000\n",
            "Epoch 130/250\n",
            "24/24 [==============================] - 0s 3ms/step - loss: 7265686.5000 - val_loss: 9672815.0000\n",
            "Epoch 131/250\n",
            "24/24 [==============================] - 0s 4ms/step - loss: 6290573.5000 - val_loss: 9411456.0000\n",
            "Epoch 132/250\n",
            "24/24 [==============================] - 0s 3ms/step - loss: 6410948.0000 - val_loss: 9046718.0000\n",
            "Epoch 133/250\n",
            "24/24 [==============================] - 0s 3ms/step - loss: 6767720.5000 - val_loss: 8739532.0000\n",
            "Epoch 134/250\n",
            "24/24 [==============================] - 0s 3ms/step - loss: 7330824.0000 - val_loss: 8488511.0000\n",
            "Epoch 135/250\n",
            "24/24 [==============================] - 0s 3ms/step - loss: 6404012.0000 - val_loss: 8169197.0000\n",
            "Epoch 136/250\n",
            "24/24 [==============================] - 0s 3ms/step - loss: 6616079.5000 - val_loss: 7901143.5000\n",
            "Epoch 137/250\n",
            "24/24 [==============================] - 0s 3ms/step - loss: 6566680.5000 - val_loss: 7558893.0000\n",
            "Epoch 138/250\n",
            "24/24 [==============================] - 0s 3ms/step - loss: 6420082.0000 - val_loss: 7320126.0000\n",
            "Epoch 139/250\n",
            "24/24 [==============================] - 0s 3ms/step - loss: 6686001.0000 - val_loss: 7176551.0000\n",
            "Epoch 140/250\n",
            "24/24 [==============================] - 0s 3ms/step - loss: 6206095.5000 - val_loss: 6849616.5000\n",
            "Epoch 141/250\n",
            "24/24 [==============================] - 0s 3ms/step - loss: 6060004.5000 - val_loss: 6672040.0000\n",
            "Epoch 142/250\n",
            "24/24 [==============================] - 0s 3ms/step - loss: 6148865.0000 - val_loss: 6448515.5000\n",
            "Epoch 143/250\n",
            "24/24 [==============================] - 0s 3ms/step - loss: 5893230.0000 - val_loss: 6212268.5000\n",
            "Epoch 144/250\n",
            "24/24 [==============================] - 0s 3ms/step - loss: 6201574.5000 - val_loss: 6050336.5000\n",
            "Epoch 145/250\n",
            "24/24 [==============================] - 0s 3ms/step - loss: 5992327.0000 - val_loss: 5799387.5000\n",
            "Epoch 146/250\n",
            "24/24 [==============================] - 0s 3ms/step - loss: 6194110.5000 - val_loss: 5577699.5000\n",
            "Epoch 147/250\n",
            "24/24 [==============================] - 0s 3ms/step - loss: 5492180.5000 - val_loss: 5318917.0000\n",
            "Epoch 148/250\n",
            "24/24 [==============================] - 0s 3ms/step - loss: 5418891.0000 - val_loss: 5131162.5000\n",
            "Epoch 149/250\n",
            "24/24 [==============================] - 0s 3ms/step - loss: 5584199.0000 - val_loss: 4919528.0000\n",
            "Epoch 150/250\n",
            "24/24 [==============================] - 0s 3ms/step - loss: 5609056.5000 - val_loss: 4706452.5000\n",
            "Epoch 151/250\n",
            "24/24 [==============================] - 0s 3ms/step - loss: 5749789.5000 - val_loss: 4510244.5000\n",
            "Epoch 152/250\n",
            "24/24 [==============================] - 0s 3ms/step - loss: 5222155.0000 - val_loss: 4324661.5000\n",
            "Epoch 153/250\n",
            "24/24 [==============================] - 0s 3ms/step - loss: 5284825.5000 - val_loss: 4119225.0000\n",
            "Epoch 154/250\n",
            "24/24 [==============================] - 0s 3ms/step - loss: 5027078.0000 - val_loss: 3932651.2500\n",
            "Epoch 155/250\n",
            "24/24 [==============================] - 0s 3ms/step - loss: 5518911.0000 - val_loss: 3754549.0000\n",
            "Epoch 156/250\n",
            "24/24 [==============================] - 0s 3ms/step - loss: 4817892.5000 - val_loss: 3620012.2500\n",
            "Epoch 157/250\n",
            "24/24 [==============================] - 0s 4ms/step - loss: 5393992.5000 - val_loss: 3472134.5000\n",
            "Epoch 158/250\n",
            "24/24 [==============================] - 0s 4ms/step - loss: 4623469.5000 - val_loss: 3286545.2500\n",
            "Epoch 159/250\n",
            "24/24 [==============================] - 0s 4ms/step - loss: 4737710.5000 - val_loss: 3138347.7500\n",
            "Epoch 160/250\n",
            "24/24 [==============================] - 0s 3ms/step - loss: 5416444.0000 - val_loss: 3047392.7500\n",
            "Epoch 161/250\n",
            "24/24 [==============================] - 0s 4ms/step - loss: 4319957.5000 - val_loss: 2953163.2500\n",
            "Epoch 162/250\n",
            "24/24 [==============================] - 0s 4ms/step - loss: 4681599.0000 - val_loss: 2828014.2500\n",
            "Epoch 163/250\n",
            "24/24 [==============================] - 0s 3ms/step - loss: 4900611.5000 - val_loss: 2714992.2500\n",
            "Epoch 164/250\n",
            "24/24 [==============================] - 0s 3ms/step - loss: 4878421.5000 - val_loss: 2645613.7500\n",
            "Epoch 165/250\n",
            "24/24 [==============================] - 0s 4ms/step - loss: 4343268.5000 - val_loss: 2527291.7500\n",
            "Epoch 166/250\n",
            "24/24 [==============================] - 0s 4ms/step - loss: 4738938.0000 - val_loss: 2417140.0000\n",
            "Epoch 167/250\n",
            "24/24 [==============================] - 0s 3ms/step - loss: 4405920.5000 - val_loss: 2363786.5000\n",
            "Epoch 168/250\n",
            "24/24 [==============================] - 0s 4ms/step - loss: 4478101.5000 - val_loss: 2268108.0000\n",
            "Epoch 169/250\n",
            "24/24 [==============================] - 0s 3ms/step - loss: 5143723.5000 - val_loss: 2199679.2500\n",
            "Epoch 170/250\n",
            "24/24 [==============================] - 0s 4ms/step - loss: 4695369.5000 - val_loss: 2136358.0000\n",
            "Epoch 171/250\n",
            "24/24 [==============================] - 0s 3ms/step - loss: 4090977.7500 - val_loss: 2032678.5000\n",
            "Epoch 172/250\n",
            "24/24 [==============================] - 0s 4ms/step - loss: 4444909.0000 - val_loss: 1956497.3750\n",
            "Epoch 173/250\n",
            "24/24 [==============================] - 0s 4ms/step - loss: 3981271.2500 - val_loss: 1890345.1250\n",
            "Epoch 174/250\n",
            "24/24 [==============================] - 0s 3ms/step - loss: 4235472.0000 - val_loss: 1841839.2500\n",
            "Epoch 175/250\n",
            "24/24 [==============================] - 0s 3ms/step - loss: 4300276.5000 - val_loss: 1782729.6250\n",
            "Epoch 176/250\n",
            "24/24 [==============================] - 0s 3ms/step - loss: 4369035.5000 - val_loss: 1746775.1250\n",
            "Epoch 177/250\n",
            "24/24 [==============================] - 0s 4ms/step - loss: 4387779.0000 - val_loss: 1691017.1250\n",
            "Epoch 178/250\n",
            "24/24 [==============================] - 0s 4ms/step - loss: 4986511.5000 - val_loss: 1648498.2500\n",
            "Epoch 179/250\n",
            "24/24 [==============================] - 0s 4ms/step - loss: 4652780.0000 - val_loss: 1600214.2500\n",
            "Epoch 180/250\n",
            "24/24 [==============================] - 0s 3ms/step - loss: 4240963.5000 - val_loss: 1563290.5000\n",
            "Epoch 181/250\n",
            "24/24 [==============================] - 0s 3ms/step - loss: 4168131.5000 - val_loss: 1535242.1250\n",
            "Epoch 182/250\n",
            "24/24 [==============================] - 0s 3ms/step - loss: 4365583.0000 - val_loss: 1504197.2500\n",
            "Epoch 183/250\n",
            "24/24 [==============================] - 0s 3ms/step - loss: 4429482.0000 - val_loss: 1489309.3750\n",
            "Epoch 184/250\n",
            "24/24 [==============================] - 0s 3ms/step - loss: 3935898.2500 - val_loss: 1466169.6250\n",
            "Epoch 185/250\n",
            "24/24 [==============================] - 0s 3ms/step - loss: 4660878.0000 - val_loss: 1450666.0000\n",
            "Epoch 186/250\n",
            "24/24 [==============================] - 0s 3ms/step - loss: 4060201.0000 - val_loss: 1431856.1250\n",
            "Epoch 187/250\n",
            "24/24 [==============================] - 0s 3ms/step - loss: 4008312.7500 - val_loss: 1411476.0000\n",
            "Epoch 188/250\n",
            "24/24 [==============================] - 0s 3ms/step - loss: 3742929.7500 - val_loss: 1401248.8750\n",
            "Epoch 189/250\n",
            "24/24 [==============================] - 0s 3ms/step - loss: 3896309.0000 - val_loss: 1390933.7500\n",
            "Epoch 190/250\n",
            "24/24 [==============================] - 0s 4ms/step - loss: 3717129.0000 - val_loss: 1386384.2500\n",
            "Epoch 191/250\n",
            "24/24 [==============================] - 0s 4ms/step - loss: 4058527.5000 - val_loss: 1383996.1250\n",
            "Epoch 192/250\n",
            "24/24 [==============================] - 0s 3ms/step - loss: 4049866.7500 - val_loss: 1381803.5000\n",
            "Epoch 193/250\n",
            "24/24 [==============================] - 0s 4ms/step - loss: 3946965.5000 - val_loss: 1385935.0000\n",
            "Epoch 194/250\n",
            "24/24 [==============================] - 0s 4ms/step - loss: 4124594.0000 - val_loss: 1388984.3750\n",
            "Epoch 195/250\n",
            "24/24 [==============================] - 0s 4ms/step - loss: 3744273.5000 - val_loss: 1393340.5000\n",
            "Epoch 196/250\n",
            "24/24 [==============================] - 0s 4ms/step - loss: 3507162.0000 - val_loss: 1398338.2500\n",
            "Epoch 197/250\n",
            "24/24 [==============================] - 0s 3ms/step - loss: 3651116.0000 - val_loss: 1408192.8750\n",
            "Epoch 198/250\n",
            "24/24 [==============================] - 0s 3ms/step - loss: 3714671.5000 - val_loss: 1415006.2500\n",
            "Epoch 199/250\n",
            "24/24 [==============================] - 0s 3ms/step - loss: 3778585.0000 - val_loss: 1432264.3750\n",
            "Epoch 200/250\n",
            "24/24 [==============================] - 0s 4ms/step - loss: 3469075.7500 - val_loss: 1438858.6250\n",
            "Epoch 201/250\n",
            "24/24 [==============================] - 0s 3ms/step - loss: 3842673.5000 - val_loss: 1438590.0000\n",
            "Epoch 202/250\n",
            "24/24 [==============================] - 0s 3ms/step - loss: 3264383.5000 - val_loss: 1453697.6250\n",
            "Epoch 203/250\n",
            "24/24 [==============================] - 0s 3ms/step - loss: 3479693.2500 - val_loss: 1486190.0000\n",
            "Epoch 204/250\n",
            "24/24 [==============================] - 0s 3ms/step - loss: 3804554.7500 - val_loss: 1510502.6250\n",
            "Epoch 205/250\n",
            "24/24 [==============================] - 0s 3ms/step - loss: 3632697.7500 - val_loss: 1508553.1250\n",
            "Epoch 206/250\n",
            "24/24 [==============================] - 0s 3ms/step - loss: 3353410.0000 - val_loss: 1520560.5000\n",
            "Epoch 207/250\n",
            "24/24 [==============================] - 0s 3ms/step - loss: 3579284.7500 - val_loss: 1539290.1250\n",
            "Epoch 208/250\n",
            "24/24 [==============================] - 0s 3ms/step - loss: 3692265.0000 - val_loss: 1565879.3750\n",
            "Epoch 209/250\n",
            "24/24 [==============================] - 0s 3ms/step - loss: 3414862.0000 - val_loss: 1591657.6250\n",
            "Epoch 210/250\n",
            "24/24 [==============================] - 0s 3ms/step - loss: 3500701.2500 - val_loss: 1610884.7500\n",
            "Epoch 211/250\n",
            "24/24 [==============================] - 0s 3ms/step - loss: 2909141.0000 - val_loss: 1658324.8750\n",
            "Epoch 212/250\n",
            "24/24 [==============================] - 0s 3ms/step - loss: 3609588.7500 - val_loss: 1687558.3750\n",
            "Epoch 213/250\n",
            "24/24 [==============================] - 0s 3ms/step - loss: 3249124.2500 - val_loss: 1701873.5000\n",
            "Epoch 214/250\n",
            "24/24 [==============================] - 0s 3ms/step - loss: 3716614.2500 - val_loss: 1683563.5000\n",
            "Epoch 215/250\n",
            "24/24 [==============================] - 0s 3ms/step - loss: 3724279.5000 - val_loss: 1696006.6250\n",
            "Epoch 216/250\n",
            "24/24 [==============================] - 0s 3ms/step - loss: 3445527.2500 - val_loss: 1718652.0000\n",
            "Epoch 217/250\n",
            "24/24 [==============================] - 0s 3ms/step - loss: 3430102.2500 - val_loss: 1743607.2500\n",
            "Epoch 218/250\n",
            "24/24 [==============================] - 0s 4ms/step - loss: 3316611.0000 - val_loss: 1799782.2500\n",
            "Epoch 219/250\n",
            "24/24 [==============================] - 0s 3ms/step - loss: 3135202.0000 - val_loss: 1809677.7500\n",
            "Epoch 220/250\n",
            "24/24 [==============================] - 0s 3ms/step - loss: 3134225.7500 - val_loss: 1879254.5000\n",
            "Epoch 221/250\n",
            "24/24 [==============================] - 0s 4ms/step - loss: 3290024.5000 - val_loss: 1892874.7500\n",
            "Epoch 222/250\n",
            "24/24 [==============================] - 0s 4ms/step - loss: 3419833.0000 - val_loss: 1915117.2500\n",
            "Epoch 223/250\n",
            "24/24 [==============================] - 0s 4ms/step - loss: 3493988.7500 - val_loss: 1956379.5000\n",
            "Epoch 224/250\n",
            "24/24 [==============================] - 0s 4ms/step - loss: 3395938.5000 - val_loss: 1980857.8750\n",
            "Epoch 225/250\n",
            "24/24 [==============================] - 0s 3ms/step - loss: 3474169.2500 - val_loss: 1990304.5000\n",
            "Epoch 226/250\n",
            "24/24 [==============================] - 0s 4ms/step - loss: 3410657.0000 - val_loss: 2008818.2500\n",
            "Epoch 227/250\n",
            "24/24 [==============================] - 0s 3ms/step - loss: 3325361.5000 - val_loss: 2044585.6250\n",
            "Epoch 228/250\n",
            "24/24 [==============================] - 0s 3ms/step - loss: 3104359.0000 - val_loss: 2126314.7500\n",
            "Epoch 229/250\n",
            "24/24 [==============================] - 0s 3ms/step - loss: 3471540.7500 - val_loss: 2068854.8750\n",
            "Epoch 230/250\n",
            "24/24 [==============================] - 0s 3ms/step - loss: 3323860.0000 - val_loss: 2106246.2500\n",
            "Epoch 231/250\n",
            "24/24 [==============================] - 0s 3ms/step - loss: 3330867.5000 - val_loss: 2164163.5000\n",
            "Epoch 232/250\n",
            "24/24 [==============================] - 0s 4ms/step - loss: 3607941.0000 - val_loss: 2150657.5000\n",
            "Epoch 233/250\n",
            "24/24 [==============================] - 0s 3ms/step - loss: 3198235.7500 - val_loss: 2141336.5000\n",
            "Epoch 234/250\n",
            "24/24 [==============================] - 0s 3ms/step - loss: 3134270.5000 - val_loss: 2171680.2500\n",
            "Epoch 235/250\n",
            "24/24 [==============================] - 0s 3ms/step - loss: 3091507.5000 - val_loss: 2194226.0000\n",
            "Epoch 236/250\n",
            "24/24 [==============================] - 0s 3ms/step - loss: 3449747.2500 - val_loss: 2147580.5000\n",
            "Epoch 237/250\n",
            "24/24 [==============================] - 0s 3ms/step - loss: 3418778.2500 - val_loss: 2174502.0000\n",
            "Epoch 238/250\n",
            "24/24 [==============================] - 0s 3ms/step - loss: 3002842.5000 - val_loss: 2224761.5000\n",
            "Epoch 239/250\n",
            "24/24 [==============================] - 0s 3ms/step - loss: 3231885.7500 - val_loss: 2237385.2500\n",
            "Epoch 240/250\n",
            "24/24 [==============================] - 0s 4ms/step - loss: 3169624.2500 - val_loss: 2263701.5000\n",
            "Epoch 241/250\n",
            "24/24 [==============================] - 0s 4ms/step - loss: 3196868.5000 - val_loss: 2289234.7500\n",
            "Epoch 242/250\n",
            "24/24 [==============================] - 0s 4ms/step - loss: 3203184.7500 - val_loss: 2296557.0000\n",
            "Epoch 243/250\n",
            "24/24 [==============================] - 0s 4ms/step - loss: 3279462.5000 - val_loss: 2323195.7500\n",
            "Epoch 244/250\n",
            "24/24 [==============================] - 0s 4ms/step - loss: 3668533.2500 - val_loss: 2300366.7500\n",
            "Epoch 245/250\n",
            "24/24 [==============================] - 0s 4ms/step - loss: 3032431.0000 - val_loss: 2341999.5000\n",
            "Epoch 246/250\n",
            "24/24 [==============================] - 0s 3ms/step - loss: 3315417.5000 - val_loss: 2325895.5000\n",
            "Epoch 247/250\n",
            "24/24 [==============================] - 0s 4ms/step - loss: 2928664.0000 - val_loss: 2380740.7500\n",
            "Epoch 248/250\n",
            "24/24 [==============================] - 0s 4ms/step - loss: 3492774.0000 - val_loss: 2366891.5000\n",
            "Epoch 249/250\n",
            "24/24 [==============================] - 0s 4ms/step - loss: 2598218.2500 - val_loss: 2388305.0000\n",
            "Epoch 250/250\n",
            "24/24 [==============================] - 0s 4ms/step - loss: 3236767.5000 - val_loss: 2414271.0000\n"
          ],
          "name": "stdout"
        }
      ]
    },
    {
      "cell_type": "code",
      "metadata": {
        "id": "Zc7gJOdDpqph"
      },
      "source": [
        "# Make a prediction\n",
        "preds = model.predict(scaled_X_test)"
      ],
      "execution_count": 124,
      "outputs": []
    },
    {
      "cell_type": "code",
      "metadata": {
        "id": "fWjiNvxlpqpk",
        "outputId": "405d5920-7eb1-48d8-c3b2-2f1d815bec1d",
        "colab": {
          "base_uri": "https://localhost:8080/",
          "height": 257
        }
      },
      "source": [
        "preds = pd.DataFrame(preds)\n",
        "preds['index'] = range(1,8)\n",
        "preds.columns = ['Vanilla Neural Network', 'index']\n",
        "preds"
      ],
      "execution_count": 125,
      "outputs": [
        {
          "output_type": "execute_result",
          "data": {
            "text/html": [
              "<div>\n",
              "<style scoped>\n",
              "    .dataframe tbody tr th:only-of-type {\n",
              "        vertical-align: middle;\n",
              "    }\n",
              "\n",
              "    .dataframe tbody tr th {\n",
              "        vertical-align: top;\n",
              "    }\n",
              "\n",
              "    .dataframe thead th {\n",
              "        text-align: right;\n",
              "    }\n",
              "</style>\n",
              "<table border=\"1\" class=\"dataframe\">\n",
              "  <thead>\n",
              "    <tr style=\"text-align: right;\">\n",
              "      <th></th>\n",
              "      <th>Vanilla Neural Network</th>\n",
              "      <th>index</th>\n",
              "    </tr>\n",
              "  </thead>\n",
              "  <tbody>\n",
              "    <tr>\n",
              "      <th>0</th>\n",
              "      <td>6611.975586</td>\n",
              "      <td>1</td>\n",
              "    </tr>\n",
              "    <tr>\n",
              "      <th>1</th>\n",
              "      <td>5955.514648</td>\n",
              "      <td>2</td>\n",
              "    </tr>\n",
              "    <tr>\n",
              "      <th>2</th>\n",
              "      <td>6505.468750</td>\n",
              "      <td>3</td>\n",
              "    </tr>\n",
              "    <tr>\n",
              "      <th>3</th>\n",
              "      <td>6887.428711</td>\n",
              "      <td>4</td>\n",
              "    </tr>\n",
              "    <tr>\n",
              "      <th>4</th>\n",
              "      <td>6012.340820</td>\n",
              "      <td>5</td>\n",
              "    </tr>\n",
              "    <tr>\n",
              "      <th>5</th>\n",
              "      <td>7930.229004</td>\n",
              "      <td>6</td>\n",
              "    </tr>\n",
              "    <tr>\n",
              "      <th>6</th>\n",
              "      <td>10340.980469</td>\n",
              "      <td>7</td>\n",
              "    </tr>\n",
              "  </tbody>\n",
              "</table>\n",
              "</div>"
            ],
            "text/plain": [
              "   Vanilla Neural Network  index\n",
              "0             6611.975586      1\n",
              "1             5955.514648      2\n",
              "2             6505.468750      3\n",
              "3             6887.428711      4\n",
              "4             6012.340820      5\n",
              "5             7930.229004      6\n",
              "6            10340.980469      7"
            ]
          },
          "metadata": {
            "tags": []
          },
          "execution_count": 125
        }
      ]
    },
    {
      "cell_type": "code",
      "metadata": {
        "id": "8-dXzHIkrIQM",
        "outputId": "ede38af3-c93e-406c-ab69-1f603c342322",
        "colab": {
          "base_uri": "https://localhost:8080/",
          "height": 257
        }
      },
      "source": [
        "merge_may = merge_may.merge(preds, on = 'index')\n",
        "merge_may"
      ],
      "execution_count": 126,
      "outputs": [
        {
          "output_type": "execute_result",
          "data": {
            "text/html": [
              "<div>\n",
              "<style scoped>\n",
              "    .dataframe tbody tr th:only-of-type {\n",
              "        vertical-align: middle;\n",
              "    }\n",
              "\n",
              "    .dataframe tbody tr th {\n",
              "        vertical-align: top;\n",
              "    }\n",
              "\n",
              "    .dataframe thead th {\n",
              "        text-align: right;\n",
              "    }\n",
              "</style>\n",
              "<table border=\"1\" class=\"dataframe\">\n",
              "  <thead>\n",
              "    <tr style=\"text-align: right;\">\n",
              "      <th></th>\n",
              "      <th>Real</th>\n",
              "      <th>index</th>\n",
              "      <th>Random Forest</th>\n",
              "      <th>Linear Regression</th>\n",
              "      <th>Support Vector Regression</th>\n",
              "      <th>Vanilla Neural Network</th>\n",
              "    </tr>\n",
              "  </thead>\n",
              "  <tbody>\n",
              "    <tr>\n",
              "      <th>0</th>\n",
              "      <td>8822.800000</td>\n",
              "      <td>1</td>\n",
              "      <td>7936.989186</td>\n",
              "      <td>7626.086948</td>\n",
              "      <td>6233.990297</td>\n",
              "      <td>6611.975586</td>\n",
              "    </tr>\n",
              "    <tr>\n",
              "      <th>1</th>\n",
              "      <td>8982.300000</td>\n",
              "      <td>2</td>\n",
              "      <td>8019.186852</td>\n",
              "      <td>7526.599476</td>\n",
              "      <td>6457.953900</td>\n",
              "      <td>5955.514648</td>\n",
              "    </tr>\n",
              "    <tr>\n",
              "      <th>2</th>\n",
              "      <td>8899.800000</td>\n",
              "      <td>3</td>\n",
              "      <td>7452.740787</td>\n",
              "      <td>7690.725950</td>\n",
              "      <td>6479.903842</td>\n",
              "      <td>6505.468750</td>\n",
              "    </tr>\n",
              "    <tr>\n",
              "      <th>3</th>\n",
              "      <td>8865.800000</td>\n",
              "      <td>4</td>\n",
              "      <td>7051.867704</td>\n",
              "      <td>7793.804550</td>\n",
              "      <td>6640.965524</td>\n",
              "      <td>6887.428711</td>\n",
              "    </tr>\n",
              "    <tr>\n",
              "      <th>4</th>\n",
              "      <td>9020.100000</td>\n",
              "      <td>5</td>\n",
              "      <td>7493.764370</td>\n",
              "      <td>7850.899369</td>\n",
              "      <td>6510.529127</td>\n",
              "      <td>6012.340820</td>\n",
              "    </tr>\n",
              "    <tr>\n",
              "      <th>5</th>\n",
              "      <td>9152.470993</td>\n",
              "      <td>6</td>\n",
              "      <td>8325.301589</td>\n",
              "      <td>8888.264968</td>\n",
              "      <td>7965.608332</td>\n",
              "      <td>7930.229004</td>\n",
              "    </tr>\n",
              "    <tr>\n",
              "      <th>6</th>\n",
              "      <td>9979.600000</td>\n",
              "      <td>7</td>\n",
              "      <td>7776.840938</td>\n",
              "      <td>8836.952715</td>\n",
              "      <td>14049.828929</td>\n",
              "      <td>10340.980469</td>\n",
              "    </tr>\n",
              "  </tbody>\n",
              "</table>\n",
              "</div>"
            ],
            "text/plain": [
              "          Real  index  Random Forest  Linear Regression  \\\n",
              "0  8822.800000      1    7936.989186        7626.086948   \n",
              "1  8982.300000      2    8019.186852        7526.599476   \n",
              "2  8899.800000      3    7452.740787        7690.725950   \n",
              "3  8865.800000      4    7051.867704        7793.804550   \n",
              "4  9020.100000      5    7493.764370        7850.899369   \n",
              "5  9152.470993      6    8325.301589        8888.264968   \n",
              "6  9979.600000      7    7776.840938        8836.952715   \n",
              "\n",
              "   Support Vector Regression  Vanilla Neural Network  \n",
              "0                6233.990297             6611.975586  \n",
              "1                6457.953900             5955.514648  \n",
              "2                6479.903842             6505.468750  \n",
              "3                6640.965524             6887.428711  \n",
              "4                6510.529127             6012.340820  \n",
              "5                7965.608332             7930.229004  \n",
              "6               14049.828929            10340.980469  "
            ]
          },
          "metadata": {
            "tags": []
          },
          "execution_count": 126
        }
      ]
    },
    {
      "cell_type": "code",
      "metadata": {
        "id": "ZJwG0sXurRRF",
        "outputId": "5dc408eb-5f0a-4cb5-f7e5-6be3a2c4e97d",
        "colab": {
          "base_uri": "https://localhost:8080/",
          "height": 280
        }
      },
      "source": [
        "# Plot the predicted vs actual in matplot lib\n",
        "import matplotlib.pyplot as plt\n",
        "plt.plot( 'index', 'Real', data=merge_may, marker='o', markerfacecolor='blue', markersize=12, color='skyblue', linewidth=4)\n",
        "plt.plot( 'index', 'Vanilla Neural Network', data=merge_may, marker='', color='olive', linewidth=2)\n",
        "plt.xticks(rotation='vertical')\n",
        "plt.legend()"
      ],
      "execution_count": 127,
      "outputs": [
        {
          "output_type": "execute_result",
          "data": {
            "text/plain": [
              "<matplotlib.legend.Legend at 0x7f5a707151d0>"
            ]
          },
          "metadata": {
            "tags": []
          },
          "execution_count": 127
        },
        {
          "output_type": "display_data",
          "data": {
            "image/png": "[encoded data removed]",
            "text/plain": [
              "<Figure size 432x288 with 1 Axes>"
            ]
          },
          "metadata": {
            "tags": [],
            "needs_background": "light"
          }
        }
      ]
    },
    {
      "cell_type": "code",
      "metadata": {
        "id": "RgTTcVgYrZv_",
        "outputId": "dd90348b-5862-4608-ab8f-20bdc2493899",
        "colab": {
          "base_uri": "https://localhost:8080/"
        }
      },
      "source": [
        "MSE = mean_squared_error(y_true = merge_may.Real, y_pred = merge_may['Vanilla Neural Network'])\n",
        "np.sqrt(MSE)"
      ],
      "execution_count": 128,
      "outputs": [
        {
          "output_type": "execute_result",
          "data": {
            "text/plain": [
              "2215.7564285139047"
            ]
          },
          "metadata": {
            "tags": []
          },
          "execution_count": 128
        }
      ]
    },
    {
      "cell_type": "markdown",
      "metadata": {
        "id": "134EF58cvya6"
      },
      "source": [
        "#July Predictions"
      ]
    },
    {
      "cell_type": "markdown",
      "metadata": {
        "id": "S0C9TwIWpjXM"
      },
      "source": [
        "## Random Forest - July"
      ]
    },
    {
      "cell_type": "code",
      "metadata": {
        "id": "hxThDb0LpjXU",
        "outputId": "f507d855-0702-47eb-f745-21a958728230",
        "colab": {
          "base_uri": "https://localhost:8080/"
        }
      },
      "source": [
        "RandomForestRegression.fit(x_train_july, y_train_july)"
      ],
      "execution_count": 129,
      "outputs": [
        {
          "output_type": "execute_result",
          "data": {
            "text/plain": [
              "RandomForestRegressor(bootstrap=True, ccp_alpha=0.0, criterion='mse',\n",
              "                      max_depth=None, max_features='auto', max_leaf_nodes=None,\n",
              "                      max_samples=None, min_impurity_decrease=0.0,\n",
              "                      min_impurity_split=None, min_samples_leaf=1,\n",
              "                      min_samples_split=2, min_weight_fraction_leaf=0.0,\n",
              "                      n_estimators=500, n_jobs=None, oob_score=False,\n",
              "                      random_state=None, verbose=0, warm_start=False)"
            ]
          },
          "metadata": {
            "tags": []
          },
          "execution_count": 129
        }
      ]
    },
    {
      "cell_type": "code",
      "metadata": {
        "id": "tS8lNXeQpjXn",
        "outputId": "1bf1f581-b92a-43fc-ff42-93d201e65fa9",
        "colab": {
          "base_uri": "https://localhost:8080/",
          "height": 0
        }
      },
      "source": [
        "rf_prediction_july = RandomForestRegression.predict(x_test_july)\n",
        "rf_prediction_july = pd.DataFrame(rf_prediction_july)\n",
        "rf_prediction_july.columns = ['Random Forest']\n",
        "rf_prediction_july['index'] = range(1,8)\n",
        "rf_prediction_july"
      ],
      "execution_count": 130,
      "outputs": [
        {
          "output_type": "execute_result",
          "data": {
            "text/html": [
              "<div>\n",
              "<style scoped>\n",
              "    .dataframe tbody tr th:only-of-type {\n",
              "        vertical-align: middle;\n",
              "    }\n",
              "\n",
              "    .dataframe tbody tr th {\n",
              "        vertical-align: top;\n",
              "    }\n",
              "\n",
              "    .dataframe thead th {\n",
              "        text-align: right;\n",
              "    }\n",
              "</style>\n",
              "<table border=\"1\" class=\"dataframe\">\n",
              "  <thead>\n",
              "    <tr style=\"text-align: right;\">\n",
              "      <th></th>\n",
              "      <th>Random Forest</th>\n",
              "      <th>index</th>\n",
              "    </tr>\n",
              "  </thead>\n",
              "  <tbody>\n",
              "    <tr>\n",
              "      <th>0</th>\n",
              "      <td>9358.556615</td>\n",
              "      <td>1</td>\n",
              "    </tr>\n",
              "    <tr>\n",
              "      <th>1</th>\n",
              "      <td>9355.105595</td>\n",
              "      <td>2</td>\n",
              "    </tr>\n",
              "    <tr>\n",
              "      <th>2</th>\n",
              "      <td>9040.928148</td>\n",
              "      <td>3</td>\n",
              "    </tr>\n",
              "    <tr>\n",
              "      <th>3</th>\n",
              "      <td>9310.468898</td>\n",
              "      <td>4</td>\n",
              "    </tr>\n",
              "    <tr>\n",
              "      <th>4</th>\n",
              "      <td>9225.886957</td>\n",
              "      <td>5</td>\n",
              "    </tr>\n",
              "    <tr>\n",
              "      <th>5</th>\n",
              "      <td>9221.871196</td>\n",
              "      <td>6</td>\n",
              "    </tr>\n",
              "    <tr>\n",
              "      <th>6</th>\n",
              "      <td>9154.202517</td>\n",
              "      <td>7</td>\n",
              "    </tr>\n",
              "  </tbody>\n",
              "</table>\n",
              "</div>"
            ],
            "text/plain": [
              "   Random Forest  index\n",
              "0    9358.556615      1\n",
              "1    9355.105595      2\n",
              "2    9040.928148      3\n",
              "3    9310.468898      4\n",
              "4    9225.886957      5\n",
              "5    9221.871196      6\n",
              "6    9154.202517      7"
            ]
          },
          "metadata": {
            "tags": []
          },
          "execution_count": 130
        }
      ]
    },
    {
      "cell_type": "code",
      "metadata": {
        "id": "fb2m04GdpjXt",
        "outputId": "e0bfa9c0-394f-424a-db99-2a07cf5cd843",
        "colab": {
          "base_uri": "https://localhost:8080/",
          "height": 0
        }
      },
      "source": [
        "y_test_july = pd.DataFrame(y_test_july)\n",
        "y_test_july['index'] = range(1,8)\n",
        "y_test_july.columns = ['Real', 'index']\n",
        "y_test_july"
      ],
      "execution_count": 131,
      "outputs": [
        {
          "output_type": "execute_result",
          "data": {
            "text/html": [
              "<div>\n",
              "<style scoped>\n",
              "    .dataframe tbody tr th:only-of-type {\n",
              "        vertical-align: middle;\n",
              "    }\n",
              "\n",
              "    .dataframe tbody tr th {\n",
              "        vertical-align: top;\n",
              "    }\n",
              "\n",
              "    .dataframe thead th {\n",
              "        text-align: right;\n",
              "    }\n",
              "</style>\n",
              "<table border=\"1\" class=\"dataframe\">\n",
              "  <thead>\n",
              "    <tr style=\"text-align: right;\">\n",
              "      <th></th>\n",
              "      <th>Real</th>\n",
              "      <th>index</th>\n",
              "    </tr>\n",
              "  </thead>\n",
              "  <tbody>\n",
              "    <tr>\n",
              "      <th>1133</th>\n",
              "      <td>9239.900000</td>\n",
              "      <td>1</td>\n",
              "    </tr>\n",
              "    <tr>\n",
              "      <th>1134</th>\n",
              "      <td>9100.000000</td>\n",
              "      <td>2</td>\n",
              "    </tr>\n",
              "    <tr>\n",
              "      <th>1135</th>\n",
              "      <td>9073.200000</td>\n",
              "      <td>3</td>\n",
              "    </tr>\n",
              "    <tr>\n",
              "      <th>1136</th>\n",
              "      <td>9147.700000</td>\n",
              "      <td>4</td>\n",
              "    </tr>\n",
              "    <tr>\n",
              "      <th>1137</th>\n",
              "      <td>9084.284734</td>\n",
              "      <td>5</td>\n",
              "    </tr>\n",
              "    <tr>\n",
              "      <th>1138</th>\n",
              "      <td>9361.100000</td>\n",
              "      <td>6</td>\n",
              "    </tr>\n",
              "    <tr>\n",
              "      <th>1139</th>\n",
              "      <td>9267.514949</td>\n",
              "      <td>7</td>\n",
              "    </tr>\n",
              "  </tbody>\n",
              "</table>\n",
              "</div>"
            ],
            "text/plain": [
              "             Real  index\n",
              "1133  9239.900000      1\n",
              "1134  9100.000000      2\n",
              "1135  9073.200000      3\n",
              "1136  9147.700000      4\n",
              "1137  9084.284734      5\n",
              "1138  9361.100000      6\n",
              "1139  9267.514949      7"
            ]
          },
          "metadata": {
            "tags": []
          },
          "execution_count": 131
        }
      ]
    },
    {
      "cell_type": "code",
      "metadata": {
        "id": "R9R42H3OpjX0"
      },
      "source": [
        "merge_july = y_test_july.merge(rf_prediction_july, on = 'index')"
      ],
      "execution_count": 132,
      "outputs": []
    },
    {
      "cell_type": "code",
      "metadata": {
        "id": "H97nrVdFpjYC",
        "outputId": "095e4def-9316-40b6-9dd9-eb8d30111185",
        "colab": {
          "base_uri": "https://localhost:8080/"
        }
      },
      "source": [
        "rf_mse = mean_squared_error(merge_july.Real, merge_july['Random Forest'])\n",
        "rf_mse\n",
        "\n",
        "rf_rmse = np.sqrt(rf_mse)\n",
        "rf_rmse"
      ],
      "execution_count": 133,
      "outputs": [
        {
          "output_type": "execute_result",
          "data": {
            "text/plain": [
              "150.69790027949435"
            ]
          },
          "metadata": {
            "tags": []
          },
          "execution_count": 133
        }
      ]
    },
    {
      "cell_type": "code",
      "metadata": {
        "id": "wD8eN3ptpjYI",
        "outputId": "953aa96a-1cde-4870-e950-7762fb11203e",
        "colab": {
          "base_uri": "https://localhost:8080/",
          "height": 0
        }
      },
      "source": [
        "# Plot the predicted vs actual in matplot lib\n",
        "import matplotlib.pyplot as plt\n",
        "plt.plot( 'index', 'Real', data=merge_july, marker='o', markerfacecolor='blue', markersize=12, color='skyblue', linewidth=4)\n",
        "plt.plot( 'index', 'Random Forest', data=merge_july, marker='', color='olive', linewidth=2)\n",
        "plt.xticks(rotation='vertical')\n",
        "plt.legend()"
      ],
      "execution_count": 134,
      "outputs": [
        {
          "output_type": "execute_result",
          "data": {
            "text/plain": [
              "<matplotlib.legend.Legend at 0x7f5a706964a8>"
            ]
          },
          "metadata": {
            "tags": []
          },
          "execution_count": 134
        },
        {
          "output_type": "display_data",
          "data": {
            "image/png": "[encoded data removed]",
            "text/plain": [
              "<Figure size 432x288 with 1 Axes>"
            ]
          },
          "metadata": {
            "tags": [],
            "needs_background": "light"
          }
        }
      ]
    },
    {
      "cell_type": "markdown",
      "metadata": {
        "id": "3eDn1qAWpjYT"
      },
      "source": [
        ""
      ]
    },
    {
      "cell_type": "markdown",
      "metadata": {
        "id": "9bZ_EtdkwfKw"
      },
      "source": [
        "## Linear Model - July"
      ]
    },
    {
      "cell_type": "code",
      "metadata": {
        "id": "MWJ6grU7wi3n"
      },
      "source": [
        "# Runt he linear regressor over the x and y training data\n",
        "model = LinearRegression().fit(x_train_july, y_train_july)"
      ],
      "execution_count": 135,
      "outputs": []
    },
    {
      "cell_type": "code",
      "metadata": {
        "id": "YRrivltjwi3t",
        "outputId": "80e89677-d38a-483e-b15f-a70a917c38b3",
        "colab": {
          "base_uri": "https://localhost:8080/",
          "height": 0
        }
      },
      "source": [
        "# Runt he linear regressor over the x and y training data\n",
        "from statsmodels.api import OLS\n",
        "OLS(y_train_july,x_train_july).fit().summary()"
      ],
      "execution_count": 136,
      "outputs": [
        {
          "output_type": "execute_result",
          "data": {
            "text/html": [
              "<table class=\"simpletable\">\n",
              "<caption>OLS Regression Results</caption>\n",
              "<tr>\n",
              "  <th>Dep. Variable:</th>        <td>BTC_close</td>    <th>  R-squared (uncentered):</th>      <td>   0.985</td> \n",
              "</tr>\n",
              "<tr>\n",
              "  <th>Model:</th>                   <td>OLS</td>       <th>  Adj. R-squared (uncentered):</th> <td>   0.985</td> \n",
              "</tr>\n",
              "<tr>\n",
              "  <th>Method:</th>             <td>Least Squares</td>  <th>  F-statistic:       </th>          <td>   8241.</td> \n",
              "</tr>\n",
              "<tr>\n",
              "  <th>Date:</th>             <td>Thu, 05 Nov 2020</td> <th>  Prob (F-statistic):</th>           <td>  0.00</td>  \n",
              "</tr>\n",
              "<tr>\n",
              "  <th>Time:</th>                 <td>06:48:07</td>     <th>  Log-Likelihood:    </th>          <td> -9371.7</td> \n",
              "</tr>\n",
              "<tr>\n",
              "  <th>No. Observations:</th>      <td>  1131</td>      <th>  AIC:               </th>          <td>1.876e+04</td>\n",
              "</tr>\n",
              "<tr>\n",
              "  <th>Df Residuals:</th>          <td>  1122</td>      <th>  BIC:               </th>          <td>1.881e+04</td>\n",
              "</tr>\n",
              "<tr>\n",
              "  <th>Df Model:</th>              <td>     9</td>      <th>                     </th>              <td> </td>    \n",
              "</tr>\n",
              "<tr>\n",
              "  <th>Covariance Type:</th>      <td>nonrobust</td>    <th>                     </th>              <td> </td>    \n",
              "</tr>\n",
              "</table>\n",
              "<table class=\"simpletable\">\n",
              "<tr>\n",
              "        <td></td>           <th>coef</th>     <th>std err</th>      <th>t</th>      <th>P>|t|</th>  <th>[0.025</th>    <th>0.975]</th>  \n",
              "</tr>\n",
              "<tr>\n",
              "  <th>ETHER_open</th>    <td>    1.4717</td> <td>    1.651</td> <td>    0.891</td> <td> 0.373</td> <td>   -1.768</td> <td>    4.712</td>\n",
              "</tr>\n",
              "<tr>\n",
              "  <th>ETHER_close</th>   <td>   -2.3577</td> <td>    1.657</td> <td>   -1.423</td> <td> 0.155</td> <td>   -5.609</td> <td>    0.893</td>\n",
              "</tr>\n",
              "<tr>\n",
              "  <th>ETHER_vol</th>     <td>   -0.0003</td> <td>    0.000</td> <td>   -1.451</td> <td> 0.147</td> <td>   -0.001</td> <td>    0.000</td>\n",
              "</tr>\n",
              "<tr>\n",
              "  <th>XRP_open</th>      <td>-3442.9932</td> <td>  726.922</td> <td>   -4.736</td> <td> 0.000</td> <td>-4869.273</td> <td>-2016.714</td>\n",
              "</tr>\n",
              "<tr>\n",
              "  <th>XRP_close</th>     <td> 2938.4025</td> <td>  739.956</td> <td>    3.971</td> <td> 0.000</td> <td> 1486.550</td> <td> 4390.255</td>\n",
              "</tr>\n",
              "<tr>\n",
              "  <th>XRP_vol</th>       <td>-1.306e-06</td> <td> 6.39e-07</td> <td>   -2.042</td> <td> 0.041</td> <td>-2.56e-06</td> <td>-5.12e-08</td>\n",
              "</tr>\n",
              "<tr>\n",
              "  <th>BTC_open_dup</th>  <td>    0.1473</td> <td>    0.094</td> <td>    1.560</td> <td> 0.119</td> <td>   -0.038</td> <td>    0.332</td>\n",
              "</tr>\n",
              "<tr>\n",
              "  <th>BTC_close_dup</th> <td>    0.8783</td> <td>    0.094</td> <td>    9.367</td> <td> 0.000</td> <td>    0.694</td> <td>    1.062</td>\n",
              "</tr>\n",
              "<tr>\n",
              "  <th>BTC_vol_dup</th>   <td>    0.0158</td> <td>    0.002</td> <td>    8.462</td> <td> 0.000</td> <td>    0.012</td> <td>    0.019</td>\n",
              "</tr>\n",
              "</table>\n",
              "<table class=\"simpletable\">\n",
              "<tr>\n",
              "  <th>Omnibus:</th>       <td>157.657</td> <th>  Durbin-Watson:     </th> <td>   0.352</td>\n",
              "</tr>\n",
              "<tr>\n",
              "  <th>Prob(Omnibus):</th> <td> 0.000</td>  <th>  Jarque-Bera (JB):  </th> <td>1921.012</td>\n",
              "</tr>\n",
              "<tr>\n",
              "  <th>Skew:</th>          <td> 0.006</td>  <th>  Prob(JB):          </th> <td>    0.00</td>\n",
              "</tr>\n",
              "<tr>\n",
              "  <th>Kurtosis:</th>      <td> 9.385</td>  <th>  Cond. No.          </th> <td>2.65e+09</td>\n",
              "</tr>\n",
              "</table><br/><br/>Warnings:<br/>[1] Standard Errors assume that the covariance matrix of the errors is correctly specified.<br/>[2] The condition number is large, 2.65e+09. This might indicate that there are<br/>strong multicollinearity or other numerical problems."
            ],
            "text/plain": [
              "<class 'statsmodels.iolib.summary.Summary'>\n",
              "\"\"\"\n",
              "                                 OLS Regression Results                                \n",
              "=======================================================================================\n",
              "Dep. Variable:              BTC_close   R-squared (uncentered):                   0.985\n",
              "Model:                            OLS   Adj. R-squared (uncentered):              0.985\n",
              "Method:                 Least Squares   F-statistic:                              8241.\n",
              "Date:                Thu, 05 Nov 2020   Prob (F-statistic):                        0.00\n",
              "Time:                        06:48:07   Log-Likelihood:                         -9371.7\n",
              "No. Observations:                1131   AIC:                                  1.876e+04\n",
              "Df Residuals:                    1122   BIC:                                  1.881e+04\n",
              "Df Model:                           9                                                  \n",
              "Covariance Type:            nonrobust                                                  \n",
              "=================================================================================\n",
              "                    coef    std err          t      P>|t|      [0.025      0.975]\n",
              "---------------------------------------------------------------------------------\n",
              "ETHER_open        1.4717      1.651      0.891      0.373      -1.768       4.712\n",
              "ETHER_close      -2.3577      1.657     -1.423      0.155      -5.609       0.893\n",
              "ETHER_vol        -0.0003      0.000     -1.451      0.147      -0.001       0.000\n",
              "XRP_open      -3442.9932    726.922     -4.736      0.000   -4869.273   -2016.714\n",
              "XRP_close      2938.4025    739.956      3.971      0.000    1486.550    4390.255\n",
              "XRP_vol       -1.306e-06   6.39e-07     -2.042      0.041   -2.56e-06   -5.12e-08\n",
              "BTC_open_dup      0.1473      0.094      1.560      0.119      -0.038       0.332\n",
              "BTC_close_dup     0.8783      0.094      9.367      0.000       0.694       1.062\n",
              "BTC_vol_dup       0.0158      0.002      8.462      0.000       0.012       0.019\n",
              "==============================================================================\n",
              "Omnibus:                      157.657   Durbin-Watson:                   0.352\n",
              "Prob(Omnibus):                  0.000   Jarque-Bera (JB):             1921.012\n",
              "Skew:                           0.006   Prob(JB):                         0.00\n",
              "Kurtosis:                       9.385   Cond. No.                     2.65e+09\n",
              "==============================================================================\n",
              "\n",
              "Warnings:\n",
              "[1] Standard Errors assume that the covariance matrix of the errors is correctly specified.\n",
              "[2] The condition number is large, 2.65e+09. This might indicate that there are\n",
              "strong multicollinearity or other numerical problems.\n",
              "\"\"\""
            ]
          },
          "metadata": {
            "tags": []
          },
          "execution_count": 136
        }
      ]
    },
    {
      "cell_type": "code",
      "metadata": {
        "id": "DM4I5EHOwi3z",
        "outputId": "995e9745-df64-4452-e20b-2140184017b1",
        "colab": {
          "base_uri": "https://localhost:8080/",
          "height": 0
        }
      },
      "source": [
        "# Predict the model on the x_test data\n",
        "y_pred_july = pd.DataFrame(model.predict(x_test_july))\n",
        "y_pred_july['index'] = range(1,8)\n",
        "y_pred_july.columns = ['Linear Regression', 'index']\n",
        "y_pred_july"
      ],
      "execution_count": 137,
      "outputs": [
        {
          "output_type": "execute_result",
          "data": {
            "text/html": [
              "<div>\n",
              "<style scoped>\n",
              "    .dataframe tbody tr th:only-of-type {\n",
              "        vertical-align: middle;\n",
              "    }\n",
              "\n",
              "    .dataframe tbody tr th {\n",
              "        vertical-align: top;\n",
              "    }\n",
              "\n",
              "    .dataframe thead th {\n",
              "        text-align: right;\n",
              "    }\n",
              "</style>\n",
              "<table border=\"1\" class=\"dataframe\">\n",
              "  <thead>\n",
              "    <tr style=\"text-align: right;\">\n",
              "      <th></th>\n",
              "      <th>Linear Regression</th>\n",
              "      <th>index</th>\n",
              "    </tr>\n",
              "  </thead>\n",
              "  <tbody>\n",
              "    <tr>\n",
              "      <th>0</th>\n",
              "      <td>9287.319380</td>\n",
              "      <td>1</td>\n",
              "    </tr>\n",
              "    <tr>\n",
              "      <th>1</th>\n",
              "      <td>9240.831789</td>\n",
              "      <td>2</td>\n",
              "    </tr>\n",
              "    <tr>\n",
              "      <th>2</th>\n",
              "      <td>9167.753549</td>\n",
              "      <td>3</td>\n",
              "    </tr>\n",
              "    <tr>\n",
              "      <th>3</th>\n",
              "      <td>8987.913877</td>\n",
              "      <td>4</td>\n",
              "    </tr>\n",
              "    <tr>\n",
              "      <th>4</th>\n",
              "      <td>9070.336208</td>\n",
              "      <td>5</td>\n",
              "    </tr>\n",
              "    <tr>\n",
              "      <th>5</th>\n",
              "      <td>9168.129820</td>\n",
              "      <td>6</td>\n",
              "    </tr>\n",
              "    <tr>\n",
              "      <th>6</th>\n",
              "      <td>9126.409153</td>\n",
              "      <td>7</td>\n",
              "    </tr>\n",
              "  </tbody>\n",
              "</table>\n",
              "</div>"
            ],
            "text/plain": [
              "   Linear Regression  index\n",
              "0        9287.319380      1\n",
              "1        9240.831789      2\n",
              "2        9167.753549      3\n",
              "3        8987.913877      4\n",
              "4        9070.336208      5\n",
              "5        9168.129820      6\n",
              "6        9126.409153      7"
            ]
          },
          "metadata": {
            "tags": []
          },
          "execution_count": 137
        }
      ]
    },
    {
      "cell_type": "code",
      "metadata": {
        "id": "s2HIKXOfwi36",
        "outputId": "d3862cee-0262-47e9-a621-ba33254af09f",
        "colab": {
          "base_uri": "https://localhost:8080/",
          "height": 0
        }
      },
      "source": [
        "y_test_july = pd.DataFrame(y_test_july)[0:7]\n",
        "y_test_july['index'] = range(1,8)\n",
        "y_test_july"
      ],
      "execution_count": 138,
      "outputs": [
        {
          "output_type": "execute_result",
          "data": {
            "text/html": [
              "<div>\n",
              "<style scoped>\n",
              "    .dataframe tbody tr th:only-of-type {\n",
              "        vertical-align: middle;\n",
              "    }\n",
              "\n",
              "    .dataframe tbody tr th {\n",
              "        vertical-align: top;\n",
              "    }\n",
              "\n",
              "    .dataframe thead th {\n",
              "        text-align: right;\n",
              "    }\n",
              "</style>\n",
              "<table border=\"1\" class=\"dataframe\">\n",
              "  <thead>\n",
              "    <tr style=\"text-align: right;\">\n",
              "      <th></th>\n",
              "      <th>Real</th>\n",
              "      <th>index</th>\n",
              "    </tr>\n",
              "  </thead>\n",
              "  <tbody>\n",
              "    <tr>\n",
              "      <th>1133</th>\n",
              "      <td>9239.900000</td>\n",
              "      <td>1</td>\n",
              "    </tr>\n",
              "    <tr>\n",
              "      <th>1134</th>\n",
              "      <td>9100.000000</td>\n",
              "      <td>2</td>\n",
              "    </tr>\n",
              "    <tr>\n",
              "      <th>1135</th>\n",
              "      <td>9073.200000</td>\n",
              "      <td>3</td>\n",
              "    </tr>\n",
              "    <tr>\n",
              "      <th>1136</th>\n",
              "      <td>9147.700000</td>\n",
              "      <td>4</td>\n",
              "    </tr>\n",
              "    <tr>\n",
              "      <th>1137</th>\n",
              "      <td>9084.284734</td>\n",
              "      <td>5</td>\n",
              "    </tr>\n",
              "    <tr>\n",
              "      <th>1138</th>\n",
              "      <td>9361.100000</td>\n",
              "      <td>6</td>\n",
              "    </tr>\n",
              "    <tr>\n",
              "      <th>1139</th>\n",
              "      <td>9267.514949</td>\n",
              "      <td>7</td>\n",
              "    </tr>\n",
              "  </tbody>\n",
              "</table>\n",
              "</div>"
            ],
            "text/plain": [
              "             Real  index\n",
              "1133  9239.900000      1\n",
              "1134  9100.000000      2\n",
              "1135  9073.200000      3\n",
              "1136  9147.700000      4\n",
              "1137  9084.284734      5\n",
              "1138  9361.100000      6\n",
              "1139  9267.514949      7"
            ]
          },
          "metadata": {
            "tags": []
          },
          "execution_count": 138
        }
      ]
    },
    {
      "cell_type": "code",
      "metadata": {
        "id": "b_grw7BKwi4A"
      },
      "source": [
        "# merge the prediction and actual data frames\n",
        "merge_july = merge_july.merge(y_pred_july, on='index', how='left')"
      ],
      "execution_count": 139,
      "outputs": []
    },
    {
      "cell_type": "code",
      "metadata": {
        "id": "SV8YXbxAwi4J",
        "outputId": "27d18a1c-3f1b-47e6-c29d-98f706c12018",
        "colab": {
          "base_uri": "https://localhost:8080/"
        }
      },
      "source": [
        "MSE = mean_squared_error(y_true = merge_july.Real, y_pred = merge_july['Linear Regression'])\n",
        "np.sqrt(MSE)"
      ],
      "execution_count": 140,
      "outputs": [
        {
          "output_type": "execute_result",
          "data": {
            "text/plain": [
              "127.55786750036722"
            ]
          },
          "metadata": {
            "tags": []
          },
          "execution_count": 140
        }
      ]
    },
    {
      "cell_type": "code",
      "metadata": {
        "id": "-N_Xgpj8wi4L",
        "outputId": "edf3d2c5-ec88-4db3-a846-143f60df4d74",
        "colab": {
          "base_uri": "https://localhost:8080/"
        }
      },
      "source": [
        "# Calculate the r_square value for the linear model\n",
        "r_sq = model.score(x_train_july, y_train_july)\n",
        "print('coefficient of determination:', r_sq)"
      ],
      "execution_count": 141,
      "outputs": [
        {
          "output_type": "stream",
          "text": [
            "coefficient of determination: 0.8942229300571196\n"
          ],
          "name": "stdout"
        }
      ]
    },
    {
      "cell_type": "code",
      "metadata": {
        "id": "l4IDli7rwi4R",
        "outputId": "1de93d7a-2373-4043-a935-122488793093",
        "colab": {
          "base_uri": "https://localhost:8080/",
          "height": 0
        }
      },
      "source": [
        "# Plot the predicted vs actual in matplot lib\n",
        "import matplotlib.pyplot as plt\n",
        "plt.plot( 'index', 'Real', data=merge_july, marker='o', markerfacecolor='blue', markersize=12, color='skyblue', linewidth=4)\n",
        "plt.plot( 'index', 'Linear Regression', data=merge_july, marker='', color='olive', linewidth=2)\n",
        "plt.xticks(rotation='vertical')\n",
        "plt.legend()"
      ],
      "execution_count": 142,
      "outputs": [
        {
          "output_type": "execute_result",
          "data": {
            "text/plain": [
              "<matplotlib.legend.Legend at 0x7f5a70614e80>"
            ]
          },
          "metadata": {
            "tags": []
          },
          "execution_count": 142
        },
        {
          "output_type": "display_data",
          "data": {
            "image/png": "[encoded data removed]",
            "text/plain": [
              "<Figure size 432x288 with 1 Axes>"
            ]
          },
          "metadata": {
            "tags": [],
            "needs_background": "light"
          }
        }
      ]
    },
    {
      "cell_type": "markdown",
      "metadata": {
        "id": "AIxd-aXGiVgV"
      },
      "source": [
        "## Support Vector Regression - July"
      ]
    },
    {
      "cell_type": "code",
      "metadata": {
        "id": "Hrih_EZriVgY"
      },
      "source": [
        "# Import the algorithm package\n",
        "from sklearn.svm import SVR\n",
        "from sklearn.pipeline import make_pipeline\n",
        "from sklearn.preprocessing import StandardScaler"
      ],
      "execution_count": 143,
      "outputs": []
    },
    {
      "cell_type": "code",
      "metadata": {
        "id": "fJ3RjUcfiVgb"
      },
      "source": [
        "y_train_july = pd.DataFrame(y_train_july)"
      ],
      "execution_count": 144,
      "outputs": []
    },
    {
      "cell_type": "code",
      "metadata": {
        "id": "jIAT5eSTiVgg"
      },
      "source": [
        "#3 Feature Scaling\n",
        "sc_X = StandardScaler()\n",
        "sc_y = StandardScaler()\n",
        "X = sc_X.fit_transform(x_train_july)\n",
        "y = sc_y.fit_transform(y_train_july)"
      ],
      "execution_count": 145,
      "outputs": []
    },
    {
      "cell_type": "code",
      "metadata": {
        "id": "UMQzYTM6iVgi"
      },
      "source": [
        "y = y[:, 0]"
      ],
      "execution_count": 146,
      "outputs": []
    },
    {
      "cell_type": "code",
      "metadata": {
        "id": "4SyMGtitiVgk"
      },
      "source": [
        "# Load the SVR and fit\n",
        "#svr = SVR(kernel='poly')\n",
        "svr_regressor = SVR(kernel = 'rbf')\n",
        "SVR_reg = svr_regressor.fit(X, y)"
      ],
      "execution_count": 147,
      "outputs": []
    },
    {
      "cell_type": "code",
      "metadata": {
        "id": "c6i-mX6GiVgm"
      },
      "source": [
        "# Predict the model on the x_test data\n",
        "x_test_july = sc_X.fit_transform(x_test_july)\n",
        "\n",
        "y_pred_july_svr = SVR_reg.predict(x_test_july)\n",
        "y_pred_july_svr = sc_y.inverse_transform(y_pred_july_svr) \n",
        "\n",
        "\n",
        "y_pred_july_svr = pd.DataFrame(y_pred_july_svr)\n",
        "y_pred_july_svr['index'] = range(1,8)"
      ],
      "execution_count": 148,
      "outputs": []
    },
    {
      "cell_type": "code",
      "metadata": {
        "id": "AbQZwak2iVgq"
      },
      "source": [
        "# merge the prediction and actual data frames\n",
        "merge_july = merge_july.merge(y_pred_july_svr, on='index', how='left')"
      ],
      "execution_count": 149,
      "outputs": []
    },
    {
      "cell_type": "code",
      "metadata": {
        "id": "VeLyNrfMm4G9"
      },
      "source": [
        "merge_july.columns = ['Real', 'index', 'Random Forest', 'Linear Regression', 'Support Vector Regression']"
      ],
      "execution_count": 150,
      "outputs": []
    },
    {
      "cell_type": "code",
      "metadata": {
        "id": "L3NnAr-dlQmn"
      },
      "source": [
        "#merge_july['Average'] = (merge_july['lm_prediction'] + merge_july['random_forest'])/2"
      ],
      "execution_count": 151,
      "outputs": []
    },
    {
      "cell_type": "code",
      "metadata": {
        "id": "7h_d5dLCiVgw",
        "outputId": "15cb4f82-b7c4-4597-899a-8780138d3037",
        "colab": {
          "base_uri": "https://localhost:8080/",
          "height": 0
        }
      },
      "source": [
        "# Plot the predicted vs actual in matplot lib\n",
        "import matplotlib.pyplot as plt\n",
        "plt.plot( 'index', 'Real', data=merge_july, marker='o', markerfacecolor='blue', markersize=12, color='skyblue', linewidth=4)\n",
        "plt.plot( 'index', 'Support Vector Regression', data=merge_july, marker='', color='olive', linewidth=2)\n",
        "plt.xticks(rotation='vertical')\n",
        "plt.legend()"
      ],
      "execution_count": 152,
      "outputs": [
        {
          "output_type": "execute_result",
          "data": {
            "text/plain": [
              "<matplotlib.legend.Legend at 0x7f5a7058bdd8>"
            ]
          },
          "metadata": {
            "tags": []
          },
          "execution_count": 152
        },
        {
          "output_type": "display_data",
          "data": {
            "image/png": "[encoded data removed]",
            "text/plain": [
              "<Figure size 432x288 with 1 Axes>"
            ]
          },
          "metadata": {
            "tags": [],
            "needs_background": "light"
          }
        }
      ]
    },
    {
      "cell_type": "code",
      "metadata": {
        "id": "uQs8J3JQs4O2",
        "outputId": "07d176f4-005b-4b1c-a8c8-719da70cea1e",
        "colab": {
          "base_uri": "https://localhost:8080/"
        }
      },
      "source": [
        "MSE = mean_squared_error(y_true = merge_july.Real, y_pred = merge_july['Support Vector Regression'])\n",
        "np.sqrt(MSE)"
      ],
      "execution_count": 153,
      "outputs": [
        {
          "output_type": "execute_result",
          "data": {
            "text/plain": [
              "1847.1119534239726"
            ]
          },
          "metadata": {
            "tags": []
          },
          "execution_count": 153
        }
      ]
    },
    {
      "cell_type": "markdown",
      "metadata": {
        "id": "8E3z4VWQgJcC"
      },
      "source": [
        "## Vanilla Neural Network - July\n",
        "\n"
      ]
    },
    {
      "cell_type": "code",
      "metadata": {
        "id": "WUZCet7wgJcJ"
      },
      "source": [
        "%tensorflow_version 2.x"
      ],
      "execution_count": 154,
      "outputs": []
    },
    {
      "cell_type": "code",
      "metadata": {
        "id": "s1-7r2QcgJcP"
      },
      "source": [
        "import tensorflow as tf\n",
        "import numpy as np\n",
        "from sklearn.preprocessing import scale\n",
        "from sklearn.preprocessing import StandardScaler"
      ],
      "execution_count": 155,
      "outputs": []
    },
    {
      "cell_type": "code",
      "metadata": {
        "id": "N2QHbqD-gJcR"
      },
      "source": [
        "# Standardise the two data sets as a neural network requires standardised data\n",
        "\n",
        "scaled_X_train = scale(x_train_july)\n",
        "scaled_X_test = scale(x_test_july)\n",
        "scaled_y_train = scale(y_train_july)\n",
        "scaled_y_test = scale(y_test_july)"
      ],
      "execution_count": 156,
      "outputs": []
    },
    {
      "cell_type": "code",
      "metadata": {
        "id": "og7iKxdQgJcT"
      },
      "source": [
        "# Set the seed for the modelling exercises in order to get reproducible results\n",
        "\n",
        "tf.random.set_seed(168)\n",
        "np.random.seed(168)"
      ],
      "execution_count": 157,
      "outputs": []
    },
    {
      "cell_type": "code",
      "metadata": {
        "id": "ePhBH3fXgJcV"
      },
      "source": [
        "from tensorflow.keras.layers import Dense, Dropout"
      ],
      "execution_count": 158,
      "outputs": []
    },
    {
      "cell_type": "code",
      "metadata": {
        "id": "FU8xu8R0gJcY"
      },
      "source": [
        "# Create a sequential model \n",
        "\n",
        "model = tf.keras.Sequential()"
      ],
      "execution_count": 159,
      "outputs": []
    },
    {
      "cell_type": "code",
      "metadata": {
        "id": "LomSCY1FgJcZ"
      },
      "source": [
        "# create the architecture for the neural network\n",
        "\n",
        "layer1 = Dense(512, activation='relu', input_shape=[9])\n",
        "\n",
        "layer2 = Dense(512, activation='relu')\n",
        "\n",
        "layer3 = Dense(512, activation='relu')\n",
        "\n",
        "layer4 = Dense(512, activation='relu')\n",
        "\n",
        "#layer5 = Dense(512, activation='relu')\n",
        "\n",
        "top_layer = Dense(1)"
      ],
      "execution_count": 160,
      "outputs": []
    },
    {
      "cell_type": "code",
      "metadata": {
        "id": "mIsebQBsgJcd"
      },
      "source": [
        "# Add the layers into the model\n",
        "\n",
        "model.add(layer1)\n",
        "model.add(Dropout(0.5))\n",
        "model.add(layer2)\n",
        "model.add(Dropout(0.5))\n",
        "model.add(layer3)\n",
        "model.add(Dropout(0.5))\n",
        "model.add(layer4)\n",
        "model.add(Dropout(0.5))\n",
        "#model.add(layer5)\n",
        "#model.add(Dropout(0.5))\n",
        "model.add(top_layer)"
      ],
      "execution_count": 161,
      "outputs": []
    },
    {
      "cell_type": "code",
      "metadata": {
        "id": "SHNNq-dvgJcf"
      },
      "source": [
        "# Specify the optimizer to be used during the back propgation\n",
        "optimizer = tf.keras.optimizers.Adam(0.0001)"
      ],
      "execution_count": 162,
      "outputs": []
    },
    {
      "cell_type": "code",
      "metadata": {
        "id": "95VkYG43gJcg"
      },
      "source": [
        "# Compile the model architecture\n",
        "\n",
        "model.compile(loss='mean_squared_error', optimizer=optimizer)"
      ],
      "execution_count": 163,
      "outputs": []
    },
    {
      "cell_type": "code",
      "metadata": {
        "id": "0WSmgxaegJci",
        "outputId": "d2720b6f-6ddb-4084-bd78-9178acf23fd0",
        "colab": {
          "base_uri": "https://localhost:8080/"
        }
      },
      "source": [
        "# Print a summary of the model\n",
        "model.summary()"
      ],
      "execution_count": 164,
      "outputs": [
        {
          "output_type": "stream",
          "text": [
            "Model: \"sequential_1\"\n",
            "_________________________________________________________________\n",
            "Layer (type)                 Output Shape              Param #   \n",
            "=================================================================\n",
            "dense_4 (Dense)              (None, 512)               5120      \n",
            "_________________________________________________________________\n",
            "dropout_3 (Dropout)          (None, 512)               0         \n",
            "_________________________________________________________________\n",
            "dense_5 (Dense)              (None, 512)               262656    \n",
            "_________________________________________________________________\n",
            "dropout_4 (Dropout)          (None, 512)               0         \n",
            "_________________________________________________________________\n",
            "dense_6 (Dense)              (None, 512)               262656    \n",
            "_________________________________________________________________\n",
            "dropout_5 (Dropout)          (None, 512)               0         \n",
            "_________________________________________________________________\n",
            "dense_7 (Dense)              (None, 512)               262656    \n",
            "_________________________________________________________________\n",
            "dropout_6 (Dropout)          (None, 512)               0         \n",
            "_________________________________________________________________\n",
            "dense_8 (Dense)              (None, 1)                 513       \n",
            "=================================================================\n",
            "Total params: 793,601\n",
            "Trainable params: 793,601\n",
            "Non-trainable params: 0\n",
            "_________________________________________________________________\n"
          ],
          "name": "stdout"
        }
      ]
    },
    {
      "cell_type": "code",
      "metadata": {
        "id": "5dbrT-vsgJcl",
        "outputId": "f791695a-f89e-4197-9f62-c99a53496a4e",
        "colab": {
          "base_uri": "https://localhost:8080/"
        }
      },
      "source": [
        "history = model.fit(scaled_X_train, y_train_july, epochs=250, validation_split = 0.2)"
      ],
      "execution_count": 165,
      "outputs": [
        {
          "output_type": "stream",
          "text": [
            "Epoch 1/250\n",
            "29/29 [==============================] - 0s 6ms/step - loss: 59914184.0000 - val_loss: 69682912.0000\n",
            "Epoch 2/250\n",
            "29/29 [==============================] - 0s 3ms/step - loss: 59862288.0000 - val_loss: 69606168.0000\n",
            "Epoch 3/250\n",
            "29/29 [==============================] - 0s 3ms/step - loss: 59563904.0000 - val_loss: 69075808.0000\n",
            "Epoch 4/250\n",
            "29/29 [==============================] - 0s 3ms/step - loss: 57974712.0000 - val_loss: 66398612.0000\n",
            "Epoch 5/250\n",
            "29/29 [==============================] - 0s 3ms/step - loss: 51616876.0000 - val_loss: 57627588.0000\n",
            "Epoch 6/250\n",
            "29/29 [==============================] - 0s 3ms/step - loss: 36303912.0000 - val_loss: 38713848.0000\n",
            "Epoch 7/250\n",
            "29/29 [==============================] - 0s 3ms/step - loss: 20250960.0000 - val_loss: 18268678.0000\n",
            "Epoch 8/250\n",
            "29/29 [==============================] - 0s 3ms/step - loss: 14597433.0000 - val_loss: 9207763.0000\n",
            "Epoch 9/250\n",
            "29/29 [==============================] - 0s 3ms/step - loss: 11744910.0000 - val_loss: 4479365.5000\n",
            "Epoch 10/250\n",
            "29/29 [==============================] - 0s 3ms/step - loss: 10229353.0000 - val_loss: 2487066.0000\n",
            "Epoch 11/250\n",
            "29/29 [==============================] - 0s 3ms/step - loss: 8702995.0000 - val_loss: 1882946.5000\n",
            "Epoch 12/250\n",
            "29/29 [==============================] - 0s 3ms/step - loss: 8190046.5000 - val_loss: 1836899.2500\n",
            "Epoch 13/250\n",
            "29/29 [==============================] - 0s 3ms/step - loss: 7267209.5000 - val_loss: 2046447.0000\n",
            "Epoch 14/250\n",
            "29/29 [==============================] - 0s 3ms/step - loss: 7010087.5000 - val_loss: 2055012.0000\n",
            "Epoch 15/250\n",
            "29/29 [==============================] - 0s 3ms/step - loss: 6478264.5000 - val_loss: 2525709.0000\n",
            "Epoch 16/250\n",
            "29/29 [==============================] - 0s 3ms/step - loss: 6399794.0000 - val_loss: 2443883.5000\n",
            "Epoch 17/250\n",
            "29/29 [==============================] - 0s 3ms/step - loss: 5969864.5000 - val_loss: 2842920.0000\n",
            "Epoch 18/250\n",
            "29/29 [==============================] - 0s 3ms/step - loss: 5807506.0000 - val_loss: 2727578.7500\n",
            "Epoch 19/250\n",
            "29/29 [==============================] - 0s 4ms/step - loss: 5617341.0000 - val_loss: 2809355.5000\n",
            "Epoch 20/250\n",
            "29/29 [==============================] - 0s 4ms/step - loss: 5232212.0000 - val_loss: 2515854.7500\n",
            "Epoch 21/250\n",
            "29/29 [==============================] - 0s 3ms/step - loss: 5399579.0000 - val_loss: 2426505.2500\n",
            "Epoch 22/250\n",
            "29/29 [==============================] - 0s 3ms/step - loss: 5017528.5000 - val_loss: 2469144.5000\n",
            "Epoch 23/250\n",
            "29/29 [==============================] - 0s 3ms/step - loss: 4711459.0000 - val_loss: 2492363.7500\n",
            "Epoch 24/250\n",
            "29/29 [==============================] - 0s 3ms/step - loss: 4900177.0000 - val_loss: 2344181.0000\n",
            "Epoch 25/250\n",
            "29/29 [==============================] - 0s 3ms/step - loss: 4891023.5000 - val_loss: 1937503.0000\n",
            "Epoch 26/250\n",
            "29/29 [==============================] - 0s 3ms/step - loss: 4645699.0000 - val_loss: 1997694.0000\n",
            "Epoch 27/250\n",
            "29/29 [==============================] - 0s 3ms/step - loss: 4589752.5000 - val_loss: 2263085.7500\n",
            "Epoch 28/250\n",
            "29/29 [==============================] - 0s 3ms/step - loss: 4417912.5000 - val_loss: 2188524.0000\n",
            "Epoch 29/250\n",
            "29/29 [==============================] - 0s 3ms/step - loss: 4288982.0000 - val_loss: 2444912.5000\n",
            "Epoch 30/250\n",
            "29/29 [==============================] - 0s 3ms/step - loss: 3946960.7500 - val_loss: 2375135.0000\n",
            "Epoch 31/250\n",
            "29/29 [==============================] - 0s 3ms/step - loss: 3910797.0000 - val_loss: 2126423.2500\n",
            "Epoch 32/250\n",
            "29/29 [==============================] - 0s 3ms/step - loss: 3915995.2500 - val_loss: 1824343.0000\n",
            "Epoch 33/250\n",
            "29/29 [==============================] - 0s 3ms/step - loss: 3892395.5000 - val_loss: 1796469.3750\n",
            "Epoch 34/250\n",
            "29/29 [==============================] - 0s 3ms/step - loss: 3750183.7500 - val_loss: 1915642.2500\n",
            "Epoch 35/250\n",
            "29/29 [==============================] - 0s 3ms/step - loss: 3499465.2500 - val_loss: 1631049.2500\n",
            "Epoch 36/250\n",
            "29/29 [==============================] - 0s 3ms/step - loss: 3695730.0000 - val_loss: 1654624.7500\n",
            "Epoch 37/250\n",
            "29/29 [==============================] - 0s 3ms/step - loss: 3465222.0000 - val_loss: 1733839.0000\n",
            "Epoch 38/250\n",
            "29/29 [==============================] - 0s 3ms/step - loss: 3289242.2500 - val_loss: 1591143.7500\n",
            "Epoch 39/250\n",
            "29/29 [==============================] - 0s 3ms/step - loss: 3455330.0000 - val_loss: 1921229.2500\n",
            "Epoch 40/250\n",
            "29/29 [==============================] - 0s 3ms/step - loss: 3259010.2500 - val_loss: 1455724.0000\n",
            "Epoch 41/250\n",
            "29/29 [==============================] - 0s 3ms/step - loss: 3119587.0000 - val_loss: 1597884.8750\n",
            "Epoch 42/250\n",
            "29/29 [==============================] - 0s 3ms/step - loss: 3105791.5000 - val_loss: 1564378.7500\n",
            "Epoch 43/250\n",
            "29/29 [==============================] - 0s 3ms/step - loss: 2946502.7500 - val_loss: 1577455.5000\n",
            "Epoch 44/250\n",
            "29/29 [==============================] - 0s 3ms/step - loss: 2837957.7500 - val_loss: 1502512.7500\n",
            "Epoch 45/250\n",
            "29/29 [==============================] - 0s 3ms/step - loss: 2971173.5000 - val_loss: 1545438.2500\n",
            "Epoch 46/250\n",
            "29/29 [==============================] - 0s 3ms/step - loss: 3087789.5000 - val_loss: 1428217.3750\n",
            "Epoch 47/250\n",
            "29/29 [==============================] - 0s 3ms/step - loss: 2712019.5000 - val_loss: 1389748.0000\n",
            "Epoch 48/250\n",
            "29/29 [==============================] - 0s 3ms/step - loss: 2692193.5000 - val_loss: 1338392.2500\n",
            "Epoch 49/250\n",
            "29/29 [==============================] - 0s 3ms/step - loss: 2698219.5000 - val_loss: 1357032.5000\n",
            "Epoch 50/250\n",
            "29/29 [==============================] - 0s 3ms/step - loss: 2893748.7500 - val_loss: 1348210.5000\n",
            "Epoch 51/250\n",
            "29/29 [==============================] - 0s 3ms/step - loss: 2520146.7500 - val_loss: 1322464.0000\n",
            "Epoch 52/250\n",
            "29/29 [==============================] - 0s 3ms/step - loss: 2741947.7500 - val_loss: 1153545.0000\n",
            "Epoch 53/250\n",
            "29/29 [==============================] - 0s 3ms/step - loss: 2531010.2500 - val_loss: 1173448.6250\n",
            "Epoch 54/250\n",
            "29/29 [==============================] - 0s 3ms/step - loss: 2681892.2500 - val_loss: 1169521.3750\n",
            "Epoch 55/250\n",
            "29/29 [==============================] - 0s 3ms/step - loss: 2627318.7500 - val_loss: 1167295.8750\n",
            "Epoch 56/250\n",
            "29/29 [==============================] - 0s 3ms/step - loss: 2355270.2500 - val_loss: 1197437.0000\n",
            "Epoch 57/250\n",
            "29/29 [==============================] - 0s 3ms/step - loss: 2622762.7500 - val_loss: 1095768.7500\n",
            "Epoch 58/250\n",
            "29/29 [==============================] - 0s 3ms/step - loss: 2449326.2500 - val_loss: 1223336.6250\n",
            "Epoch 59/250\n",
            "29/29 [==============================] - 0s 3ms/step - loss: 2324624.5000 - val_loss: 1160727.5000\n",
            "Epoch 60/250\n",
            "29/29 [==============================] - 0s 3ms/step - loss: 2411844.2500 - val_loss: 1029503.0000\n",
            "Epoch 61/250\n",
            "29/29 [==============================] - 0s 3ms/step - loss: 2244372.5000 - val_loss: 1091434.3750\n",
            "Epoch 62/250\n",
            "29/29 [==============================] - 0s 3ms/step - loss: 2379403.5000 - val_loss: 1150337.2500\n",
            "Epoch 63/250\n",
            "29/29 [==============================] - 0s 3ms/step - loss: 2206590.5000 - val_loss: 1078979.5000\n",
            "Epoch 64/250\n",
            "29/29 [==============================] - 0s 3ms/step - loss: 2254975.7500 - val_loss: 1050174.5000\n",
            "Epoch 65/250\n",
            "29/29 [==============================] - 0s 3ms/step - loss: 2164340.7500 - val_loss: 1075238.8750\n",
            "Epoch 66/250\n",
            "29/29 [==============================] - 0s 3ms/step - loss: 2202168.7500 - val_loss: 952647.6250\n",
            "Epoch 67/250\n",
            "29/29 [==============================] - 0s 3ms/step - loss: 2230486.5000 - val_loss: 962407.9375\n",
            "Epoch 68/250\n",
            "29/29 [==============================] - 0s 3ms/step - loss: 2095735.7500 - val_loss: 1022626.6875\n",
            "Epoch 69/250\n",
            "29/29 [==============================] - 0s 4ms/step - loss: 2065518.1250 - val_loss: 954176.0625\n",
            "Epoch 70/250\n",
            "29/29 [==============================] - 0s 4ms/step - loss: 2130760.7500 - val_loss: 1103351.8750\n",
            "Epoch 71/250\n",
            "29/29 [==============================] - 0s 3ms/step - loss: 2083172.2500 - val_loss: 1023794.9375\n",
            "Epoch 72/250\n",
            "29/29 [==============================] - 0s 3ms/step - loss: 1983224.2500 - val_loss: 1141852.3750\n",
            "Epoch 73/250\n",
            "29/29 [==============================] - 0s 3ms/step - loss: 2055406.1250 - val_loss: 955377.1875\n",
            "Epoch 74/250\n",
            "29/29 [==============================] - 0s 3ms/step - loss: 2156036.5000 - val_loss: 944833.6250\n",
            "Epoch 75/250\n",
            "29/29 [==============================] - 0s 3ms/step - loss: 1868659.3750 - val_loss: 956351.3750\n",
            "Epoch 76/250\n",
            "29/29 [==============================] - 0s 3ms/step - loss: 1961312.1250 - val_loss: 962869.9375\n",
            "Epoch 77/250\n",
            "29/29 [==============================] - 0s 4ms/step - loss: 2052046.7500 - val_loss: 854070.6250\n",
            "Epoch 78/250\n",
            "29/29 [==============================] - 0s 3ms/step - loss: 2033869.5000 - val_loss: 897547.9375\n",
            "Epoch 79/250\n",
            "29/29 [==============================] - 0s 3ms/step - loss: 1884919.5000 - val_loss: 986719.4375\n",
            "Epoch 80/250\n",
            "29/29 [==============================] - 0s 3ms/step - loss: 1923833.8750 - val_loss: 830930.8750\n",
            "Epoch 81/250\n",
            "29/29 [==============================] - 0s 3ms/step - loss: 2030133.1250 - val_loss: 882475.1875\n",
            "Epoch 82/250\n",
            "29/29 [==============================] - 0s 3ms/step - loss: 2118693.7500 - val_loss: 851917.8125\n",
            "Epoch 83/250\n",
            "29/29 [==============================] - 0s 3ms/step - loss: 1793342.5000 - val_loss: 970271.9375\n",
            "Epoch 84/250\n",
            "29/29 [==============================] - 0s 3ms/step - loss: 1804211.3750 - val_loss: 951230.7500\n",
            "Epoch 85/250\n",
            "29/29 [==============================] - 0s 3ms/step - loss: 1766387.1250 - val_loss: 865254.5625\n",
            "Epoch 86/250\n",
            "29/29 [==============================] - 0s 3ms/step - loss: 1939023.3750 - val_loss: 889760.7500\n",
            "Epoch 87/250\n",
            "29/29 [==============================] - 0s 3ms/step - loss: 1845623.2500 - val_loss: 839881.9375\n",
            "Epoch 88/250\n",
            "29/29 [==============================] - 0s 3ms/step - loss: 1911220.6250 - val_loss: 820638.6875\n",
            "Epoch 89/250\n",
            "29/29 [==============================] - 0s 3ms/step - loss: 1825721.0000 - val_loss: 880746.0625\n",
            "Epoch 90/250\n",
            "29/29 [==============================] - 0s 3ms/step - loss: 1883433.8750 - val_loss: 789139.4375\n",
            "Epoch 91/250\n",
            "29/29 [==============================] - 0s 3ms/step - loss: 1794967.3750 - val_loss: 776108.8125\n",
            "Epoch 92/250\n",
            "29/29 [==============================] - 0s 4ms/step - loss: 1857775.6250 - val_loss: 719096.6875\n",
            "Epoch 93/250\n",
            "29/29 [==============================] - 0s 4ms/step - loss: 1739042.2500 - val_loss: 764830.5000\n",
            "Epoch 94/250\n",
            "29/29 [==============================] - 0s 4ms/step - loss: 1763339.8750 - val_loss: 819981.2500\n",
            "Epoch 95/250\n",
            "29/29 [==============================] - 0s 3ms/step - loss: 1667834.3750 - val_loss: 805743.0000\n",
            "Epoch 96/250\n",
            "29/29 [==============================] - 0s 3ms/step - loss: 1809556.8750 - val_loss: 778888.3750\n",
            "Epoch 97/250\n",
            "29/29 [==============================] - 0s 3ms/step - loss: 1714450.2500 - val_loss: 799832.0625\n",
            "Epoch 98/250\n",
            "29/29 [==============================] - 0s 3ms/step - loss: 1737728.6250 - val_loss: 861349.3750\n",
            "Epoch 99/250\n",
            "29/29 [==============================] - 0s 3ms/step - loss: 1744603.6250 - val_loss: 797657.5000\n",
            "Epoch 100/250\n",
            "29/29 [==============================] - 0s 3ms/step - loss: 1671060.5000 - val_loss: 846570.3750\n",
            "Epoch 101/250\n",
            "29/29 [==============================] - 0s 3ms/step - loss: 1744678.0000 - val_loss: 851293.4375\n",
            "Epoch 102/250\n",
            "29/29 [==============================] - 0s 3ms/step - loss: 1961652.0000 - val_loss: 707214.3750\n",
            "Epoch 103/250\n",
            "29/29 [==============================] - 0s 4ms/step - loss: 1763809.8750 - val_loss: 724066.3750\n",
            "Epoch 104/250\n",
            "29/29 [==============================] - 0s 4ms/step - loss: 1525610.7500 - val_loss: 744654.7500\n",
            "Epoch 105/250\n",
            "29/29 [==============================] - 0s 3ms/step - loss: 1762543.7500 - val_loss: 667377.6875\n",
            "Epoch 106/250\n",
            "29/29 [==============================] - 0s 3ms/step - loss: 1837281.1250 - val_loss: 829389.4375\n",
            "Epoch 107/250\n",
            "29/29 [==============================] - 0s 3ms/step - loss: 1752328.1250 - val_loss: 724230.4375\n",
            "Epoch 108/250\n",
            "29/29 [==============================] - 0s 3ms/step - loss: 1653169.0000 - val_loss: 751866.6875\n",
            "Epoch 109/250\n",
            "29/29 [==============================] - 0s 3ms/step - loss: 1783764.1250 - val_loss: 686650.3750\n",
            "Epoch 110/250\n",
            "29/29 [==============================] - 0s 4ms/step - loss: 1570756.2500 - val_loss: 885507.3750\n",
            "Epoch 111/250\n",
            "29/29 [==============================] - 0s 3ms/step - loss: 1631356.5000 - val_loss: 703978.3750\n",
            "Epoch 112/250\n",
            "29/29 [==============================] - 0s 3ms/step - loss: 1775145.6250 - val_loss: 841058.1875\n",
            "Epoch 113/250\n",
            "29/29 [==============================] - 0s 3ms/step - loss: 1604388.1250 - val_loss: 773491.6875\n",
            "Epoch 114/250\n",
            "29/29 [==============================] - 0s 3ms/step - loss: 1634273.3750 - val_loss: 745205.6250\n",
            "Epoch 115/250\n",
            "29/29 [==============================] - 0s 3ms/step - loss: 1665931.5000 - val_loss: 795165.3125\n",
            "Epoch 116/250\n",
            "29/29 [==============================] - 0s 3ms/step - loss: 1741179.7500 - val_loss: 666613.7500\n",
            "Epoch 117/250\n",
            "29/29 [==============================] - 0s 3ms/step - loss: 1672880.2500 - val_loss: 697466.3125\n",
            "Epoch 118/250\n",
            "29/29 [==============================] - 0s 3ms/step - loss: 1830526.7500 - val_loss: 822287.5000\n",
            "Epoch 119/250\n",
            "29/29 [==============================] - 0s 3ms/step - loss: 1512107.6250 - val_loss: 710390.6875\n",
            "Epoch 120/250\n",
            "29/29 [==============================] - 0s 3ms/step - loss: 1825244.3750 - val_loss: 670778.0625\n",
            "Epoch 121/250\n",
            "29/29 [==============================] - 0s 3ms/step - loss: 1566072.3750 - val_loss: 779313.8125\n",
            "Epoch 122/250\n",
            "29/29 [==============================] - 0s 3ms/step - loss: 1593943.7500 - val_loss: 768057.1875\n",
            "Epoch 123/250\n",
            "29/29 [==============================] - 0s 3ms/step - loss: 1553566.6250 - val_loss: 780919.5625\n",
            "Epoch 124/250\n",
            "29/29 [==============================] - 0s 3ms/step - loss: 1684483.0000 - val_loss: 822192.4375\n",
            "Epoch 125/250\n",
            "29/29 [==============================] - 0s 3ms/step - loss: 1597095.2500 - val_loss: 761027.6250\n",
            "Epoch 126/250\n",
            "29/29 [==============================] - 0s 3ms/step - loss: 1568457.5000 - val_loss: 761215.5000\n",
            "Epoch 127/250\n",
            "29/29 [==============================] - 0s 3ms/step - loss: 1696340.8750 - val_loss: 714599.0625\n",
            "Epoch 128/250\n",
            "29/29 [==============================] - 0s 3ms/step - loss: 1773856.8750 - val_loss: 808192.3125\n",
            "Epoch 129/250\n",
            "29/29 [==============================] - 0s 3ms/step - loss: 1522888.2500 - val_loss: 753918.4375\n",
            "Epoch 130/250\n",
            "29/29 [==============================] - 0s 3ms/step - loss: 1575876.5000 - val_loss: 732431.5625\n",
            "Epoch 131/250\n",
            "29/29 [==============================] - 0s 4ms/step - loss: 1543431.8750 - val_loss: 705501.1875\n",
            "Epoch 132/250\n",
            "29/29 [==============================] - 0s 4ms/step - loss: 1661701.6250 - val_loss: 695155.6875\n",
            "Epoch 133/250\n",
            "29/29 [==============================] - 0s 4ms/step - loss: 1734571.8750 - val_loss: 682847.0625\n",
            "Epoch 134/250\n",
            "29/29 [==============================] - 0s 4ms/step - loss: 1504233.3750 - val_loss: 856750.2500\n",
            "Epoch 135/250\n",
            "29/29 [==============================] - 0s 3ms/step - loss: 1674121.7500 - val_loss: 686012.3750\n",
            "Epoch 136/250\n",
            "29/29 [==============================] - 0s 3ms/step - loss: 1672356.0000 - val_loss: 724261.6250\n",
            "Epoch 137/250\n",
            "29/29 [==============================] - 0s 4ms/step - loss: 1627448.2500 - val_loss: 656393.1875\n",
            "Epoch 138/250\n",
            "29/29 [==============================] - 0s 3ms/step - loss: 1507908.2500 - val_loss: 817350.4375\n",
            "Epoch 139/250\n",
            "29/29 [==============================] - 0s 3ms/step - loss: 1519782.6250 - val_loss: 744961.0625\n",
            "Epoch 140/250\n",
            "29/29 [==============================] - 0s 3ms/step - loss: 1690148.5000 - val_loss: 694539.5625\n",
            "Epoch 141/250\n",
            "29/29 [==============================] - 0s 4ms/step - loss: 1657399.5000 - val_loss: 704838.5625\n",
            "Epoch 142/250\n",
            "29/29 [==============================] - 0s 4ms/step - loss: 1536268.6250 - val_loss: 834031.8125\n",
            "Epoch 143/250\n",
            "29/29 [==============================] - 0s 3ms/step - loss: 1532155.6250 - val_loss: 708244.3125\n",
            "Epoch 144/250\n",
            "29/29 [==============================] - 0s 3ms/step - loss: 1395460.0000 - val_loss: 672704.3125\n",
            "Epoch 145/250\n",
            "29/29 [==============================] - 0s 3ms/step - loss: 1499292.5000 - val_loss: 676667.9375\n",
            "Epoch 146/250\n",
            "29/29 [==============================] - 0s 3ms/step - loss: 1601832.8750 - val_loss: 730600.6250\n",
            "Epoch 147/250\n",
            "29/29 [==============================] - 0s 3ms/step - loss: 1376858.2500 - val_loss: 794024.3125\n",
            "Epoch 148/250\n",
            "29/29 [==============================] - 0s 4ms/step - loss: 1675617.5000 - val_loss: 709467.4375\n",
            "Epoch 149/250\n",
            "29/29 [==============================] - 0s 4ms/step - loss: 1573011.5000 - val_loss: 809730.5625\n",
            "Epoch 150/250\n",
            "29/29 [==============================] - 0s 4ms/step - loss: 1446774.3750 - val_loss: 764576.3750\n",
            "Epoch 151/250\n",
            "29/29 [==============================] - 0s 4ms/step - loss: 1541450.8750 - val_loss: 744764.5000\n",
            "Epoch 152/250\n",
            "29/29 [==============================] - 0s 3ms/step - loss: 1666375.7500 - val_loss: 699540.3125\n",
            "Epoch 153/250\n",
            "29/29 [==============================] - 0s 3ms/step - loss: 1638946.7500 - val_loss: 739572.3750\n",
            "Epoch 154/250\n",
            "29/29 [==============================] - 0s 3ms/step - loss: 1729062.0000 - val_loss: 661411.1875\n",
            "Epoch 155/250\n",
            "29/29 [==============================] - 0s 3ms/step - loss: 1543273.5000 - val_loss: 751637.3750\n",
            "Epoch 156/250\n",
            "29/29 [==============================] - 0s 3ms/step - loss: 1585385.7500 - val_loss: 689415.5625\n",
            "Epoch 157/250\n",
            "29/29 [==============================] - 0s 3ms/step - loss: 1485051.6250 - val_loss: 771749.3125\n",
            "Epoch 158/250\n",
            "29/29 [==============================] - 0s 3ms/step - loss: 1650111.3750 - val_loss: 802103.1875\n",
            "Epoch 159/250\n",
            "29/29 [==============================] - 0s 4ms/step - loss: 1469746.0000 - val_loss: 779969.0000\n",
            "Epoch 160/250\n",
            "29/29 [==============================] - 0s 4ms/step - loss: 1572972.7500 - val_loss: 661116.2500\n",
            "Epoch 161/250\n",
            "29/29 [==============================] - 0s 4ms/step - loss: 1484544.2500 - val_loss: 873221.6250\n",
            "Epoch 162/250\n",
            "29/29 [==============================] - 0s 3ms/step - loss: 1529843.2500 - val_loss: 688280.2500\n",
            "Epoch 163/250\n",
            "29/29 [==============================] - 0s 3ms/step - loss: 1572306.8750 - val_loss: 714951.0000\n",
            "Epoch 164/250\n",
            "29/29 [==============================] - 0s 3ms/step - loss: 1398220.5000 - val_loss: 779613.8125\n",
            "Epoch 165/250\n",
            "29/29 [==============================] - 0s 4ms/step - loss: 1516208.3750 - val_loss: 670835.6250\n",
            "Epoch 166/250\n",
            "29/29 [==============================] - 0s 3ms/step - loss: 1445629.7500 - val_loss: 793309.9375\n",
            "Epoch 167/250\n",
            "29/29 [==============================] - 0s 3ms/step - loss: 1500514.5000 - val_loss: 662250.6875\n",
            "Epoch 168/250\n",
            "29/29 [==============================] - 0s 3ms/step - loss: 1482210.8750 - val_loss: 842672.0625\n",
            "Epoch 169/250\n",
            "29/29 [==============================] - 0s 4ms/step - loss: 1524850.2500 - val_loss: 672241.8750\n",
            "Epoch 170/250\n",
            "29/29 [==============================] - 0s 4ms/step - loss: 1608141.6250 - val_loss: 721517.2500\n",
            "Epoch 171/250\n",
            "29/29 [==============================] - 0s 3ms/step - loss: 1580366.2500 - val_loss: 731832.3750\n",
            "Epoch 172/250\n",
            "29/29 [==============================] - 0s 3ms/step - loss: 1511586.8750 - val_loss: 758305.8125\n",
            "Epoch 173/250\n",
            "29/29 [==============================] - 0s 3ms/step - loss: 1677190.7500 - val_loss: 688164.0000\n",
            "Epoch 174/250\n",
            "29/29 [==============================] - 0s 3ms/step - loss: 1496189.6250 - val_loss: 731713.8125\n",
            "Epoch 175/250\n",
            "29/29 [==============================] - 0s 3ms/step - loss: 1606640.6250 - val_loss: 676406.4375\n",
            "Epoch 176/250\n",
            "29/29 [==============================] - 0s 3ms/step - loss: 1562339.1250 - val_loss: 675665.6875\n",
            "Epoch 177/250\n",
            "29/29 [==============================] - 0s 3ms/step - loss: 1583174.0000 - val_loss: 686276.5625\n",
            "Epoch 178/250\n",
            "29/29 [==============================] - 0s 3ms/step - loss: 1417826.5000 - val_loss: 747633.8750\n",
            "Epoch 179/250\n",
            "29/29 [==============================] - 0s 3ms/step - loss: 1472046.2500 - val_loss: 698475.1250\n",
            "Epoch 180/250\n",
            "29/29 [==============================] - 0s 3ms/step - loss: 1520318.2500 - val_loss: 759850.4375\n",
            "Epoch 181/250\n",
            "29/29 [==============================] - 0s 3ms/step - loss: 1490198.7500 - val_loss: 661574.1250\n",
            "Epoch 182/250\n",
            "29/29 [==============================] - 0s 3ms/step - loss: 1489128.8750 - val_loss: 672489.0000\n",
            "Epoch 183/250\n",
            "29/29 [==============================] - 0s 3ms/step - loss: 1564167.5000 - val_loss: 695110.5000\n",
            "Epoch 184/250\n",
            "29/29 [==============================] - 0s 3ms/step - loss: 1568691.8750 - val_loss: 700753.6875\n",
            "Epoch 185/250\n",
            "29/29 [==============================] - 0s 3ms/step - loss: 1494952.2500 - val_loss: 723858.3125\n",
            "Epoch 186/250\n",
            "29/29 [==============================] - 0s 4ms/step - loss: 1336685.2500 - val_loss: 665360.8750\n",
            "Epoch 187/250\n",
            "29/29 [==============================] - 0s 4ms/step - loss: 1535872.6250 - val_loss: 804493.1875\n",
            "Epoch 188/250\n",
            "29/29 [==============================] - 0s 3ms/step - loss: 1629332.6250 - val_loss: 723208.3125\n",
            "Epoch 189/250\n",
            "29/29 [==============================] - 0s 3ms/step - loss: 1423517.6250 - val_loss: 761476.9375\n",
            "Epoch 190/250\n",
            "29/29 [==============================] - 0s 3ms/step - loss: 1462347.7500 - val_loss: 651243.6875\n",
            "Epoch 191/250\n",
            "29/29 [==============================] - 0s 3ms/step - loss: 1356871.2500 - val_loss: 746334.3125\n",
            "Epoch 192/250\n",
            "29/29 [==============================] - 0s 3ms/step - loss: 1547434.7500 - val_loss: 718650.3125\n",
            "Epoch 193/250\n",
            "29/29 [==============================] - 0s 3ms/step - loss: 1402636.7500 - val_loss: 710353.5000\n",
            "Epoch 194/250\n",
            "29/29 [==============================] - 0s 3ms/step - loss: 1402609.2500 - val_loss: 734413.5625\n",
            "Epoch 195/250\n",
            "29/29 [==============================] - 0s 3ms/step - loss: 1593364.3750 - val_loss: 737099.0625\n",
            "Epoch 196/250\n",
            "29/29 [==============================] - 0s 3ms/step - loss: 1432809.6250 - val_loss: 786926.3750\n",
            "Epoch 197/250\n",
            "29/29 [==============================] - 0s 3ms/step - loss: 1800124.3750 - val_loss: 696779.8125\n",
            "Epoch 198/250\n",
            "29/29 [==============================] - 0s 3ms/step - loss: 1565975.7500 - val_loss: 726185.4375\n",
            "Epoch 199/250\n",
            "29/29 [==============================] - 0s 3ms/step - loss: 1615655.5000 - val_loss: 818369.0625\n",
            "Epoch 200/250\n",
            "29/29 [==============================] - 0s 3ms/step - loss: 1535730.2500 - val_loss: 728406.1250\n",
            "Epoch 201/250\n",
            "29/29 [==============================] - 0s 3ms/step - loss: 1327681.3750 - val_loss: 734598.0625\n",
            "Epoch 202/250\n",
            "29/29 [==============================] - 0s 3ms/step - loss: 1333558.5000 - val_loss: 743174.9375\n",
            "Epoch 203/250\n",
            "29/29 [==============================] - 0s 3ms/step - loss: 1375244.0000 - val_loss: 692615.2500\n",
            "Epoch 204/250\n",
            "29/29 [==============================] - 0s 3ms/step - loss: 1463227.6250 - val_loss: 721875.7500\n",
            "Epoch 205/250\n",
            "29/29 [==============================] - 0s 3ms/step - loss: 1466992.8750 - val_loss: 655893.1875\n",
            "Epoch 206/250\n",
            "29/29 [==============================] - 0s 4ms/step - loss: 1466753.3750 - val_loss: 703367.5625\n",
            "Epoch 207/250\n",
            "29/29 [==============================] - 0s 4ms/step - loss: 1510002.1250 - val_loss: 725995.1875\n",
            "Epoch 208/250\n",
            "29/29 [==============================] - 0s 4ms/step - loss: 1508203.3750 - val_loss: 721937.1875\n",
            "Epoch 209/250\n",
            "29/29 [==============================] - 0s 4ms/step - loss: 1438137.2500 - val_loss: 845398.5000\n",
            "Epoch 210/250\n",
            "29/29 [==============================] - 0s 4ms/step - loss: 1408550.5000 - val_loss: 800515.4375\n",
            "Epoch 211/250\n",
            "29/29 [==============================] - 0s 4ms/step - loss: 1504664.6250 - val_loss: 720046.0000\n",
            "Epoch 212/250\n",
            "29/29 [==============================] - 0s 4ms/step - loss: 1522170.2500 - val_loss: 707371.0625\n",
            "Epoch 213/250\n",
            "29/29 [==============================] - 0s 4ms/step - loss: 1608410.0000 - val_loss: 768394.4375\n",
            "Epoch 214/250\n",
            "29/29 [==============================] - 0s 4ms/step - loss: 1376198.0000 - val_loss: 690129.3125\n",
            "Epoch 215/250\n",
            "29/29 [==============================] - 0s 3ms/step - loss: 1520017.0000 - val_loss: 786209.1250\n",
            "Epoch 216/250\n",
            "29/29 [==============================] - 0s 3ms/step - loss: 1572785.3750 - val_loss: 661784.8125\n",
            "Epoch 217/250\n",
            "29/29 [==============================] - 0s 3ms/step - loss: 1401247.6250 - val_loss: 818353.8750\n",
            "Epoch 218/250\n",
            "29/29 [==============================] - 0s 3ms/step - loss: 1536622.5000 - val_loss: 759388.7500\n",
            "Epoch 219/250\n",
            "29/29 [==============================] - 0s 3ms/step - loss: 1436898.2500 - val_loss: 716701.1875\n",
            "Epoch 220/250\n",
            "29/29 [==============================] - 0s 3ms/step - loss: 1379387.8750 - val_loss: 697569.6250\n",
            "Epoch 221/250\n",
            "29/29 [==============================] - 0s 3ms/step - loss: 1589213.2500 - val_loss: 656673.5625\n",
            "Epoch 222/250\n",
            "29/29 [==============================] - 0s 3ms/step - loss: 1457748.0000 - val_loss: 705251.3125\n",
            "Epoch 223/250\n",
            "29/29 [==============================] - 0s 3ms/step - loss: 1386787.8750 - val_loss: 724707.3125\n",
            "Epoch 224/250\n",
            "29/29 [==============================] - 0s 3ms/step - loss: 1408761.0000 - val_loss: 709469.9375\n",
            "Epoch 225/250\n",
            "29/29 [==============================] - 0s 3ms/step - loss: 1414807.8750 - val_loss: 693841.6250\n",
            "Epoch 226/250\n",
            "29/29 [==============================] - 0s 3ms/step - loss: 1495357.2500 - val_loss: 734666.5625\n",
            "Epoch 227/250\n",
            "29/29 [==============================] - 0s 3ms/step - loss: 1283893.3750 - val_loss: 673936.5625\n",
            "Epoch 228/250\n",
            "29/29 [==============================] - 0s 3ms/step - loss: 1400049.1250 - val_loss: 779060.0000\n",
            "Epoch 229/250\n",
            "29/29 [==============================] - 0s 3ms/step - loss: 1456557.2500 - val_loss: 679486.3125\n",
            "Epoch 230/250\n",
            "29/29 [==============================] - 0s 3ms/step - loss: 1500116.3750 - val_loss: 698167.6875\n",
            "Epoch 231/250\n",
            "29/29 [==============================] - 0s 3ms/step - loss: 1476181.0000 - val_loss: 702812.0625\n",
            "Epoch 232/250\n",
            "29/29 [==============================] - 0s 3ms/step - loss: 1523194.7500 - val_loss: 668317.6250\n",
            "Epoch 233/250\n",
            "29/29 [==============================] - 0s 3ms/step - loss: 1392207.8750 - val_loss: 698421.0625\n",
            "Epoch 234/250\n",
            "29/29 [==============================] - 0s 3ms/step - loss: 1451637.5000 - val_loss: 629147.3750\n",
            "Epoch 235/250\n",
            "29/29 [==============================] - 0s 3ms/step - loss: 1537698.7500 - val_loss: 843599.3125\n",
            "Epoch 236/250\n",
            "29/29 [==============================] - 0s 3ms/step - loss: 1569590.3750 - val_loss: 644676.9375\n",
            "Epoch 237/250\n",
            "29/29 [==============================] - 0s 3ms/step - loss: 1433991.6250 - val_loss: 770844.3750\n",
            "Epoch 238/250\n",
            "29/29 [==============================] - 0s 3ms/step - loss: 1460176.0000 - val_loss: 766850.1875\n",
            "Epoch 239/250\n",
            "29/29 [==============================] - 0s 3ms/step - loss: 1504691.8750 - val_loss: 720633.3125\n",
            "Epoch 240/250\n",
            "29/29 [==============================] - 0s 3ms/step - loss: 1468141.5000 - val_loss: 778875.5625\n",
            "Epoch 241/250\n",
            "29/29 [==============================] - 0s 3ms/step - loss: 1445324.8750 - val_loss: 724895.6250\n",
            "Epoch 242/250\n",
            "29/29 [==============================] - 0s 3ms/step - loss: 1349951.6250 - val_loss: 703830.6250\n",
            "Epoch 243/250\n",
            "29/29 [==============================] - 0s 4ms/step - loss: 1418138.5000 - val_loss: 682538.5000\n",
            "Epoch 244/250\n",
            "29/29 [==============================] - 0s 4ms/step - loss: 1331349.7500 - val_loss: 683129.9375\n",
            "Epoch 245/250\n",
            "29/29 [==============================] - 0s 5ms/step - loss: 1439442.2500 - val_loss: 754148.9375\n",
            "Epoch 246/250\n",
            "29/29 [==============================] - 0s 4ms/step - loss: 1393310.0000 - val_loss: 822825.0625\n",
            "Epoch 247/250\n",
            "29/29 [==============================] - 0s 3ms/step - loss: 1447154.1250 - val_loss: 699233.5000\n",
            "Epoch 248/250\n",
            "29/29 [==============================] - 0s 3ms/step - loss: 1653409.3750 - val_loss: 798643.3750\n",
            "Epoch 249/250\n",
            "29/29 [==============================] - 0s 3ms/step - loss: 1610112.7500 - val_loss: 713298.0625\n",
            "Epoch 250/250\n",
            "29/29 [==============================] - 0s 3ms/step - loss: 1370370.8750 - val_loss: 698177.0000\n"
          ],
          "name": "stdout"
        }
      ]
    },
    {
      "cell_type": "code",
      "metadata": {
        "id": "h19_J33VhMNU",
        "outputId": "82e58220-7f65-4794-93cc-8ffa05249375",
        "colab": {
          "base_uri": "https://localhost:8080/",
          "height": 290
        }
      },
      "source": [
        "import matplotlib.pyplot as plt\n",
        "\n",
        "plt.plot(history.history['loss'], label='MSE training')\n",
        "plt.plot(history.history['val_loss'], label='MSE validation')\n",
        "plt.ylabel('MSE')\n",
        "plt.xlabel('Epoch')\n",
        "plt.show()"
      ],
      "execution_count": 166,
      "outputs": [
        {
          "output_type": "display_data",
          "data": {
            "image/png": "[encoded data removed]",
            "text/plain": [
              "<Figure size 432x288 with 1 Axes>"
            ]
          },
          "metadata": {
            "tags": [],
            "needs_background": "light"
          }
        }
      ]
    },
    {
      "cell_type": "code",
      "metadata": {
        "id": "PDzXu2L_gJcn"
      },
      "source": [
        "# Make a prediction\n",
        "vnn_july = model.predict(scaled_X_test)"
      ],
      "execution_count": 167,
      "outputs": []
    },
    {
      "cell_type": "code",
      "metadata": {
        "id": "g8nrcWp9gJcp",
        "outputId": "8cca86a2-e87e-4332-e516-99553336baab",
        "colab": {
          "base_uri": "https://localhost:8080/",
          "height": 257
        }
      },
      "source": [
        "preds_july = pd.DataFrame(vnn_july)\n",
        "preds_july['index'] = range(1,8)\n",
        "preds_july.columns = ['Vanilla Neural Network', 'index']\n",
        "\n",
        "preds_july"
      ],
      "execution_count": 168,
      "outputs": [
        {
          "output_type": "execute_result",
          "data": {
            "text/html": [
              "<div>\n",
              "<style scoped>\n",
              "    .dataframe tbody tr th:only-of-type {\n",
              "        vertical-align: middle;\n",
              "    }\n",
              "\n",
              "    .dataframe tbody tr th {\n",
              "        vertical-align: top;\n",
              "    }\n",
              "\n",
              "    .dataframe thead th {\n",
              "        text-align: right;\n",
              "    }\n",
              "</style>\n",
              "<table border=\"1\" class=\"dataframe\">\n",
              "  <thead>\n",
              "    <tr style=\"text-align: right;\">\n",
              "      <th></th>\n",
              "      <th>Vanilla Neural Network</th>\n",
              "      <th>index</th>\n",
              "    </tr>\n",
              "  </thead>\n",
              "  <tbody>\n",
              "    <tr>\n",
              "      <th>0</th>\n",
              "      <td>10496.057617</td>\n",
              "      <td>1</td>\n",
              "    </tr>\n",
              "    <tr>\n",
              "      <th>1</th>\n",
              "      <td>9531.294922</td>\n",
              "      <td>2</td>\n",
              "    </tr>\n",
              "    <tr>\n",
              "      <th>2</th>\n",
              "      <td>7934.310547</td>\n",
              "      <td>3</td>\n",
              "    </tr>\n",
              "    <tr>\n",
              "      <th>3</th>\n",
              "      <td>3468.798096</td>\n",
              "      <td>4</td>\n",
              "    </tr>\n",
              "    <tr>\n",
              "      <th>4</th>\n",
              "      <td>6174.896484</td>\n",
              "      <td>5</td>\n",
              "    </tr>\n",
              "    <tr>\n",
              "      <th>5</th>\n",
              "      <td>8252.777344</td>\n",
              "      <td>6</td>\n",
              "    </tr>\n",
              "    <tr>\n",
              "      <th>6</th>\n",
              "      <td>6920.799805</td>\n",
              "      <td>7</td>\n",
              "    </tr>\n",
              "  </tbody>\n",
              "</table>\n",
              "</div>"
            ],
            "text/plain": [
              "   Vanilla Neural Network  index\n",
              "0            10496.057617      1\n",
              "1             9531.294922      2\n",
              "2             7934.310547      3\n",
              "3             3468.798096      4\n",
              "4             6174.896484      5\n",
              "5             8252.777344      6\n",
              "6             6920.799805      7"
            ]
          },
          "metadata": {
            "tags": []
          },
          "execution_count": 168
        }
      ]
    },
    {
      "cell_type": "code",
      "metadata": {
        "id": "addnXS6dgJcs",
        "outputId": "338a44de-bcd6-4937-f999-0e3854e43f52",
        "colab": {
          "base_uri": "https://localhost:8080/",
          "height": 257
        }
      },
      "source": [
        "merge_july = merge_july.merge(preds_july, on = 'index')\n",
        "merge_july"
      ],
      "execution_count": 169,
      "outputs": [
        {
          "output_type": "execute_result",
          "data": {
            "text/html": [
              "<div>\n",
              "<style scoped>\n",
              "    .dataframe tbody tr th:only-of-type {\n",
              "        vertical-align: middle;\n",
              "    }\n",
              "\n",
              "    .dataframe tbody tr th {\n",
              "        vertical-align: top;\n",
              "    }\n",
              "\n",
              "    .dataframe thead th {\n",
              "        text-align: right;\n",
              "    }\n",
              "</style>\n",
              "<table border=\"1\" class=\"dataframe\">\n",
              "  <thead>\n",
              "    <tr style=\"text-align: right;\">\n",
              "      <th></th>\n",
              "      <th>Real</th>\n",
              "      <th>index</th>\n",
              "      <th>Random Forest</th>\n",
              "      <th>Linear Regression</th>\n",
              "      <th>Support Vector Regression</th>\n",
              "      <th>Vanilla Neural Network</th>\n",
              "    </tr>\n",
              "  </thead>\n",
              "  <tbody>\n",
              "    <tr>\n",
              "      <th>0</th>\n",
              "      <td>9239.900000</td>\n",
              "      <td>1</td>\n",
              "      <td>9358.556615</td>\n",
              "      <td>9287.319380</td>\n",
              "      <td>11114.335817</td>\n",
              "      <td>10496.057617</td>\n",
              "    </tr>\n",
              "    <tr>\n",
              "      <th>1</th>\n",
              "      <td>9100.000000</td>\n",
              "      <td>2</td>\n",
              "      <td>9355.105595</td>\n",
              "      <td>9240.831789</td>\n",
              "      <td>9753.279073</td>\n",
              "      <td>9531.294922</td>\n",
              "    </tr>\n",
              "    <tr>\n",
              "      <th>2</th>\n",
              "      <td>9073.200000</td>\n",
              "      <td>3</td>\n",
              "      <td>9040.928148</td>\n",
              "      <td>9167.753549</td>\n",
              "      <td>7710.265580</td>\n",
              "      <td>7934.310547</td>\n",
              "    </tr>\n",
              "    <tr>\n",
              "      <th>3</th>\n",
              "      <td>9147.700000</td>\n",
              "      <td>4</td>\n",
              "      <td>9310.468898</td>\n",
              "      <td>8987.913877</td>\n",
              "      <td>6254.006371</td>\n",
              "      <td>3468.798096</td>\n",
              "    </tr>\n",
              "    <tr>\n",
              "      <th>4</th>\n",
              "      <td>9084.284734</td>\n",
              "      <td>5</td>\n",
              "      <td>9225.886957</td>\n",
              "      <td>9070.336208</td>\n",
              "      <td>6684.506516</td>\n",
              "      <td>6174.896484</td>\n",
              "    </tr>\n",
              "    <tr>\n",
              "      <th>5</th>\n",
              "      <td>9361.100000</td>\n",
              "      <td>6</td>\n",
              "      <td>9221.871196</td>\n",
              "      <td>9168.129820</td>\n",
              "      <td>8418.032689</td>\n",
              "      <td>8252.777344</td>\n",
              "    </tr>\n",
              "    <tr>\n",
              "      <th>6</th>\n",
              "      <td>9267.514949</td>\n",
              "      <td>7</td>\n",
              "      <td>9154.202517</td>\n",
              "      <td>9126.409153</td>\n",
              "      <td>7517.340586</td>\n",
              "      <td>6920.799805</td>\n",
              "    </tr>\n",
              "  </tbody>\n",
              "</table>\n",
              "</div>"
            ],
            "text/plain": [
              "          Real  index  Random Forest  Linear Regression  \\\n",
              "0  9239.900000      1    9358.556615        9287.319380   \n",
              "1  9100.000000      2    9355.105595        9240.831789   \n",
              "2  9073.200000      3    9040.928148        9167.753549   \n",
              "3  9147.700000      4    9310.468898        8987.913877   \n",
              "4  9084.284734      5    9225.886957        9070.336208   \n",
              "5  9361.100000      6    9221.871196        9168.129820   \n",
              "6  9267.514949      7    9154.202517        9126.409153   \n",
              "\n",
              "   Support Vector Regression  Vanilla Neural Network  \n",
              "0               11114.335817            10496.057617  \n",
              "1                9753.279073             9531.294922  \n",
              "2                7710.265580             7934.310547  \n",
              "3                6254.006371             3468.798096  \n",
              "4                6684.506516             6174.896484  \n",
              "5                8418.032689             8252.777344  \n",
              "6                7517.340586             6920.799805  "
            ]
          },
          "metadata": {
            "tags": []
          },
          "execution_count": 169
        }
      ]
    },
    {
      "cell_type": "code",
      "metadata": {
        "id": "Iswb75TruAyT",
        "outputId": "bb06a5b2-f9fc-4677-e357-e2e365f5f51e",
        "colab": {
          "base_uri": "https://localhost:8080/",
          "height": 280
        }
      },
      "source": [
        "# Plot the predicted vs actual in matplot lib\n",
        "import matplotlib.pyplot as plt\n",
        "plt.plot( 'index', 'Real', data=merge_july, marker='o', markerfacecolor='blue', markersize=12, color='skyblue', linewidth=4)\n",
        "plt.plot( 'index', 'Vanilla Neural Network', data=merge_july, marker='', color='olive', linewidth=2)\n",
        "plt.xticks(rotation='vertical')\n",
        "plt.legend()"
      ],
      "execution_count": 170,
      "outputs": [
        {
          "output_type": "execute_result",
          "data": {
            "text/plain": [
              "<matplotlib.legend.Legend at 0x7f5a725758d0>"
            ]
          },
          "metadata": {
            "tags": []
          },
          "execution_count": 170
        },
        {
          "output_type": "display_data",
          "data": {
            "image/png": "[encoded data removed]",
            "text/plain": [
              "<Figure size 432x288 with 1 Axes>"
            ]
          },
          "metadata": {
            "tags": [],
            "needs_background": "light"
          }
        }
      ]
    },
    {
      "cell_type": "code",
      "metadata": {
        "id": "euqK5Pa1uAya",
        "outputId": "ad3ff6c4-c4a4-402e-8c2e-d7d81ce49eef",
        "colab": {
          "base_uri": "https://localhost:8080/"
        }
      },
      "source": [
        "MSE = mean_squared_error(y_true = merge_july.Real, y_pred = merge_july['Vanilla Neural Network'])\n",
        "np.sqrt(MSE)"
      ],
      "execution_count": 171,
      "outputs": [
        {
          "output_type": "execute_result",
          "data": {
            "text/plain": [
              "2686.2330066181767"
            ]
          },
          "metadata": {
            "tags": []
          },
          "execution_count": 171
        }
      ]
    }
  ]
}