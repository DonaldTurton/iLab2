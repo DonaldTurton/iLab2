{
  "nbformat": 4,
  "nbformat_minor": 0,
  "metadata": {
    "colab": {
      "name": "Data_Acquisition.ipynb",
      "provenance": [],
      "collapsed_sections": [],
      "toc_visible": true,
      "include_colab_link": true
    },
    "kernelspec": {
      "name": "python3",
      "display_name": "Python 3"
    }
  },
  "cells": [
    {
      "cell_type": "markdown",
      "metadata": {
        "id": "view-in-github",
        "colab_type": "text"
      },
      "source": [
        "<a href=\"https://colab.research.google.com/github/DonaldTurton/iLab2/blob/master/Data_Acquisition.ipynb\" target=\"_parent\"><img src=\"https://colab.research.google.com/assets/colab-badge.svg\" alt=\"Open In Colab\"/></a>"
      ]
    },
    {
      "cell_type": "markdown",
      "metadata": {
        "id": "PnlTuIWyRQnb",
        "colab_type": "text"
      },
      "source": [
        "# Data Reading"
      ]
    },
    {
      "cell_type": "code",
      "metadata": {
        "id": "mUKAqLz3V2cC",
        "colab_type": "code",
        "colab": {
          "base_uri": "https://localhost:8080/",
          "height": 72
        },
        "outputId": "24b367e1-cd0d-4ba6-c328-0e4c03e1677e"
      },
      "source": [
        "import pandas as pd\n",
        "import numpy as np\n",
        "import seaborn as sns"
      ],
      "execution_count": 1,
      "outputs": [
        {
          "output_type": "stream",
          "text": [
            "/usr/local/lib/python3.6/dist-packages/statsmodels/tools/_testing.py:19: FutureWarning: pandas.util.testing is deprecated. Use the functions in the public API at pandas.testing instead.\n",
            "  import pandas.util.testing as tm\n"
          ],
          "name": "stderr"
        }
      ]
    },
    {
      "cell_type": "markdown",
      "metadata": {
        "id": "Ice6DxUowkkU",
        "colab_type": "text"
      },
      "source": [
        "# Daily Data Sets"
      ]
    },
    {
      "cell_type": "markdown",
      "metadata": {
        "id": "7LCA8tHMRUpJ",
        "colab_type": "text"
      },
      "source": [
        "## BIC, ETHER, XRP Daily Bitfinix"
      ]
    },
    {
      "cell_type": "code",
      "metadata": {
        "id": "ku7P2pnIQQrd",
        "colab_type": "code",
        "colab": {
          "base_uri": "https://localhost:8080/",
          "height": 123
        },
        "outputId": "4b7bfc0c-d128-4b41-e9f2-4f0a96925d52"
      },
      "source": [
        "BITC_BITFINIX_url = \"https://raw.githubusercontent.com/DonaldTurton/iLab2/master/Bitcoin/BITFINEX_BTCUSD%2C%201D.csv\"\n",
        "bitcoin_daily = pd.read_csv (BITC_BITFINIX_url)\n",
        "bitcoin_daily = bitcoin_daily[['time','open', 'close', 'Volume']]\n",
        "bitcoin_daily = bitcoin_daily.rename(columns={'open': 'BTC_open', 'close': 'BTC_close', 'Volume': 'BTC_vol'})\n",
        "print(len(bitcoin_daily))\n",
        "print(bitcoin_daily.isna().sum())"
      ],
      "execution_count": 2,
      "outputs": [
        {
          "output_type": "stream",
          "text": [
            "2677\n",
            "time         0\n",
            "BTC_open     0\n",
            "BTC_close    0\n",
            "BTC_vol      0\n",
            "dtype: int64\n"
          ],
          "name": "stdout"
        }
      ]
    },
    {
      "cell_type": "code",
      "metadata": {
        "id": "ozVawTDFVy09",
        "colab_type": "code",
        "colab": {
          "base_uri": "https://localhost:8080/",
          "height": 123
        },
        "outputId": "9f09cb34-d4fb-424c-bdee-0ff17a339390"
      },
      "source": [
        "ETHERIUM_BITFINIX_url= 'https://raw.githubusercontent.com/DonaldTurton/iLab2/master/Ethereum/BITFINEX_ETHUSD%2C%201D.csv'\n",
        "ethereum_daily = pd.read_csv(ETHERIUM_BITFINIX_url) \n",
        "ethereum_daily = ethereum_daily[['time','open', 'close', 'Volume']]\n",
        "ethereum_daily = ethereum_daily.rename(columns={'open': 'ETHER_open', 'close': 'ETHER_close', 'Volume': 'ETHER_vol'})\n",
        "print(len(ethereum_daily))\n",
        "print(ethereum_daily.isna().sum())"
      ],
      "execution_count": 3,
      "outputs": [
        {
          "output_type": "stream",
          "text": [
            "1497\n",
            "time           0\n",
            "ETHER_open     0\n",
            "ETHER_close    0\n",
            "ETHER_vol      0\n",
            "dtype: int64\n"
          ],
          "name": "stdout"
        }
      ]
    },
    {
      "cell_type": "code",
      "metadata": {
        "id": "apMA_vJrV8eN",
        "colab_type": "code",
        "colab": {
          "base_uri": "https://localhost:8080/",
          "height": 123
        },
        "outputId": "68d34bca-965a-4450-8970-0c29b54f730b"
      },
      "source": [
        "RIPPLE_BITFINIX_url= 'https://raw.githubusercontent.com/DonaldTurton/iLab2/master/Ripple/BITFINEX_XRPUSD%2C%201D.csv'\n",
        "ripple_daily = pd.read_csv(RIPPLE_BITFINIX_url)\n",
        "ripple_daily = ripple_daily[['time','open', 'close', 'Volume']]\n",
        "ripple_daily = ripple_daily.rename(columns={'open': 'XRP_open', 'close': 'XRP_close', 'Volume': 'XRP_vol'})\n",
        "print(len(ripple_daily))\n",
        "print(ripple_daily.isna().sum())"
      ],
      "execution_count": 4,
      "outputs": [
        {
          "output_type": "stream",
          "text": [
            "1176\n",
            "time         0\n",
            "XRP_open     0\n",
            "XRP_close    0\n",
            "XRP_vol      0\n",
            "dtype: int64\n"
          ],
          "name": "stdout"
        }
      ]
    },
    {
      "cell_type": "code",
      "metadata": {
        "id": "OQCu7Y8lWSgA",
        "colab_type": "code",
        "colab": {}
      },
      "source": [
        "bit_eth = pd.merge(bitcoin_daily, ethereum_daily, how='left', on=['time'])\n",
        "bit_eth_xrp = pd.merge(bit_eth, ripple_daily, how='left', on=['time'])"
      ],
      "execution_count": 5,
      "outputs": []
    },
    {
      "cell_type": "code",
      "metadata": {
        "id": "jgiOXA32vf0j",
        "colab_type": "code",
        "colab": {}
      },
      "source": [
        "# Convert Date column to Date format.  \n",
        "bit_eth_xrp[\"time\"] = pd.to_datetime(bit_eth_xrp[\"time\"], dayfirst=True )  #, format ='%d/%m/%y', errors='ignore'\n",
        "\n",
        "#Set Date as Index\n",
        "bit_eth_xrp = bit_eth_xrp.set_index('time')#.asfreq('d')"
      ],
      "execution_count": 6,
      "outputs": []
    },
    {
      "cell_type": "code",
      "metadata": {
        "id": "U3GynbvPZMzq",
        "colab_type": "code",
        "colab": {
          "base_uri": "https://localhost:8080/",
          "height": 34
        },
        "outputId": "15f9f0f4-b978-4f24-8179-db4dfc8ab033"
      },
      "source": [
        "#Drop NA \n",
        "bit_eth_xrp = bit_eth_xrp.dropna()\n",
        "len(bit_eth_xrp) #1,174 observations after removing NA"
      ],
      "execution_count": 7,
      "outputs": [
        {
          "output_type": "execute_result",
          "data": {
            "text/plain": [
              "1174"
            ]
          },
          "metadata": {
            "tags": []
          },
          "execution_count": 7
        }
      ]
    },
    {
      "cell_type": "code",
      "metadata": {
        "id": "rCQL527GakKk",
        "colab_type": "code",
        "colab": {
          "base_uri": "https://localhost:8080/",
          "height": 227
        },
        "outputId": "811c4700-f82b-4f60-d705-99d6230a7d03"
      },
      "source": [
        "bit_eth_xrp.head()"
      ],
      "execution_count": 8,
      "outputs": [
        {
          "output_type": "execute_result",
          "data": {
            "text/html": [
              "<div>\n",
              "<style scoped>\n",
              "    .dataframe tbody tr th:only-of-type {\n",
              "        vertical-align: middle;\n",
              "    }\n",
              "\n",
              "    .dataframe tbody tr th {\n",
              "        vertical-align: top;\n",
              "    }\n",
              "\n",
              "    .dataframe thead th {\n",
              "        text-align: right;\n",
              "    }\n",
              "</style>\n",
              "<table border=\"1\" class=\"dataframe\">\n",
              "  <thead>\n",
              "    <tr style=\"text-align: right;\">\n",
              "      <th></th>\n",
              "      <th>BTC_open</th>\n",
              "      <th>BTC_close</th>\n",
              "      <th>BTC_vol</th>\n",
              "      <th>ETHER_open</th>\n",
              "      <th>ETHER_close</th>\n",
              "      <th>ETHER_vol</th>\n",
              "      <th>XRP_open</th>\n",
              "      <th>XRP_close</th>\n",
              "      <th>XRP_vol</th>\n",
              "    </tr>\n",
              "    <tr>\n",
              "      <th>time</th>\n",
              "      <th></th>\n",
              "      <th></th>\n",
              "      <th></th>\n",
              "      <th></th>\n",
              "      <th></th>\n",
              "      <th></th>\n",
              "      <th></th>\n",
              "      <th></th>\n",
              "      <th></th>\n",
              "    </tr>\n",
              "  </thead>\n",
              "  <tbody>\n",
              "    <tr>\n",
              "      <th>2017-05-19 00:00:00+00:00</th>\n",
              "      <td>1941.9</td>\n",
              "      <td>1966.5</td>\n",
              "      <td>23001.542773</td>\n",
              "      <td>98.55</td>\n",
              "      <td>124.40</td>\n",
              "      <td>257956.362939</td>\n",
              "      <td>0.37999</td>\n",
              "      <td>0.32498</td>\n",
              "      <td>2.130933e+06</td>\n",
              "    </tr>\n",
              "    <tr>\n",
              "      <th>2017-05-20 00:00:00+00:00</th>\n",
              "      <td>1966.5</td>\n",
              "      <td>2059.3</td>\n",
              "      <td>21690.022393</td>\n",
              "      <td>124.49</td>\n",
              "      <td>123.03</td>\n",
              "      <td>122882.371427</td>\n",
              "      <td>0.32499</td>\n",
              "      <td>0.34716</td>\n",
              "      <td>3.608873e+06</td>\n",
              "    </tr>\n",
              "    <tr>\n",
              "      <th>2017-05-21 00:00:00+00:00</th>\n",
              "      <td>2059.3</td>\n",
              "      <td>2026.6</td>\n",
              "      <td>17221.878675</td>\n",
              "      <td>123.49</td>\n",
              "      <td>146.14</td>\n",
              "      <td>220184.308469</td>\n",
              "      <td>0.34700</td>\n",
              "      <td>0.32700</td>\n",
              "      <td>2.597807e+06</td>\n",
              "    </tr>\n",
              "    <tr>\n",
              "      <th>2017-05-22 00:00:00+00:00</th>\n",
              "      <td>2027.0</td>\n",
              "      <td>2087.3</td>\n",
              "      <td>57231.824243</td>\n",
              "      <td>146.14</td>\n",
              "      <td>154.92</td>\n",
              "      <td>473706.454399</td>\n",
              "      <td>0.32700</td>\n",
              "      <td>0.29717</td>\n",
              "      <td>6.474949e+06</td>\n",
              "    </tr>\n",
              "    <tr>\n",
              "      <th>2017-05-23 00:00:00+00:00</th>\n",
              "      <td>2087.3</td>\n",
              "      <td>2249.6</td>\n",
              "      <td>22521.559138</td>\n",
              "      <td>155.16</td>\n",
              "      <td>168.24</td>\n",
              "      <td>144988.858583</td>\n",
              "      <td>0.29912</td>\n",
              "      <td>0.32158</td>\n",
              "      <td>3.255225e+06</td>\n",
              "    </tr>\n",
              "  </tbody>\n",
              "</table>\n",
              "</div>"
            ],
            "text/plain": [
              "                           BTC_open  BTC_close  ...  XRP_close       XRP_vol\n",
              "time                                            ...                         \n",
              "2017-05-19 00:00:00+00:00    1941.9     1966.5  ...    0.32498  2.130933e+06\n",
              "2017-05-20 00:00:00+00:00    1966.5     2059.3  ...    0.34716  3.608873e+06\n",
              "2017-05-21 00:00:00+00:00    2059.3     2026.6  ...    0.32700  2.597807e+06\n",
              "2017-05-22 00:00:00+00:00    2027.0     2087.3  ...    0.29717  6.474949e+06\n",
              "2017-05-23 00:00:00+00:00    2087.3     2249.6  ...    0.32158  3.255225e+06\n",
              "\n",
              "[5 rows x 9 columns]"
            ]
          },
          "metadata": {
            "tags": []
          },
          "execution_count": 8
        }
      ]
    },
    {
      "cell_type": "code",
      "metadata": {
        "id": "5AMfbI4dFSaD",
        "colab_type": "code",
        "colab": {
          "base_uri": "https://localhost:8080/",
          "height": 16
        },
        "outputId": "e4b8fe4e-159c-45a2-9208-0d1ad16bc834"
      },
      "source": [
        "# Extract new csv \n",
        "#from google.colab import files \n",
        "#bit_eth_xrp.to_csv('bit_eth_xrp.csv')\n",
        "#files.download('bit_eth_xrp.csv')"
      ],
      "execution_count": 9,
      "outputs": [
        {
          "output_type": "display_data",
          "data": {
            "application/javascript": [
              "\n",
              "    async function download(id, filename, size) {\n",
              "      if (!google.colab.kernel.accessAllowed) {\n",
              "        return;\n",
              "      }\n",
              "      const div = document.createElement('div');\n",
              "      const label = document.createElement('label');\n",
              "      label.textContent = `Downloading \"${filename}\": `;\n",
              "      div.appendChild(label);\n",
              "      const progress = document.createElement('progress');\n",
              "      progress.max = size;\n",
              "      div.appendChild(progress);\n",
              "      document.body.appendChild(div);\n",
              "\n",
              "      const buffers = [];\n",
              "      let downloaded = 0;\n",
              "\n",
              "      const channel = await google.colab.kernel.comms.open(id);\n",
              "      // Send a message to notify the kernel that we're ready.\n",
              "      channel.send({})\n",
              "\n",
              "      for await (const message of channel.messages) {\n",
              "        // Send a message to notify the kernel that we're ready.\n",
              "        channel.send({})\n",
              "        if (message.buffers) {\n",
              "          for (const buffer of message.buffers) {\n",
              "            buffers.push(buffer);\n",
              "            downloaded += buffer.byteLength;\n",
              "            progress.value = downloaded;\n",
              "          }\n",
              "        }\n",
              "      }\n",
              "      const blob = new Blob(buffers, {type: 'application/binary'});\n",
              "      const a = document.createElement('a');\n",
              "      a.href = window.URL.createObjectURL(blob);\n",
              "      a.download = filename;\n",
              "      div.appendChild(a);\n",
              "      a.click();\n",
              "      div.remove();\n",
              "    }\n",
              "  "
            ],
            "text/plain": [
              "<IPython.core.display.Javascript object>"
            ]
          },
          "metadata": {
            "tags": []
          }
        },
        {
          "output_type": "display_data",
          "data": {
            "application/javascript": [
              "download(\"download_da1800d9-b1b7-41ec-b13f-d61bb766037c\", \"bit_eth_xrp.csv\", 147551)"
            ],
            "text/plain": [
              "<IPython.core.display.Javascript object>"
            ]
          },
          "metadata": {
            "tags": []
          }
        }
      ]
    },
    {
      "cell_type": "markdown",
      "metadata": {
        "id": "exfLzZlkRs6U",
        "colab_type": "text"
      },
      "source": [
        "##Theter Daily BITSTAMP exchange "
      ]
    },
    {
      "cell_type": "code",
      "metadata": {
        "id": "rkIqP5RORsBN",
        "colab_type": "code",
        "colab": {
          "base_uri": "https://localhost:8080/",
          "height": 123
        },
        "outputId": "bafdefdd-acaa-4de7-870a-4bf1fdc72797"
      },
      "source": [
        "USDT_url = \"https://raw.githubusercontent.com/DonaldTurton/iLab2/master/Thether/KRAKEN_USDTUSD%2C%201D.csv\"\n",
        "theter_daily = pd.read_csv (USDT_url)\n",
        "theter_daily = theter_daily[['time','open', 'close', 'Volume']]\n",
        "theter_daily = theter_daily.rename(columns={'open': 'USDT_open', 'close': 'USDT_close', 'Volume': 'USDT_vol'})\n",
        "print(len(theter_daily))\n",
        "print(theter_daily.isna().sum())"
      ],
      "execution_count": 10,
      "outputs": [
        {
          "output_type": "stream",
          "text": [
            "1266\n",
            "time          0\n",
            "USDT_open     0\n",
            "USDT_close    0\n",
            "USDT_vol      0\n",
            "dtype: int64\n"
          ],
          "name": "stdout"
        }
      ]
    },
    {
      "cell_type": "markdown",
      "metadata": {
        "id": "XlZdzNW_vymq",
        "colab_type": "text"
      },
      "source": [
        "##Bitcoin cash BITSTAMP exchange "
      ]
    },
    {
      "cell_type": "code",
      "metadata": {
        "id": "jzJ-RM6SULr0",
        "colab_type": "code",
        "colab": {
          "base_uri": "https://localhost:8080/",
          "height": 123
        },
        "outputId": "6b641daa-7877-42f3-9a98-6c976d8b1f0f"
      },
      "source": [
        "BCH_Bitstamp_url = \"https://raw.githubusercontent.com/DonaldTurton/iLab2/master/Bitcoin%20Cash/BITSTAMP_BCHUSD%2C%201D.csv\"\n",
        "bitcash_daily = pd.read_csv (BCH_Bitstamp_url)\n",
        "bitcash_daily = bitcash_daily[['time','open', 'close', 'Volume']]\n",
        "bitcash_daily = bitcash_daily.rename(columns={'open': 'BCH_open', 'close': 'BCH_close', 'Volume': 'BCH_vol'})\n",
        "print(len(bitcash_daily))\n",
        "print(bitcash_daily.isna().sum())"
      ],
      "execution_count": 11,
      "outputs": [
        {
          "output_type": "stream",
          "text": [
            "1002\n",
            "time         0\n",
            "BCH_open     0\n",
            "BCH_close    0\n",
            "BCH_vol      0\n",
            "dtype: int64\n"
          ],
          "name": "stdout"
        }
      ]
    },
    {
      "cell_type": "markdown",
      "metadata": {
        "id": "CzVFLxHev2Y2",
        "colab_type": "text"
      },
      "source": [
        "##Litecoin Daily BITFNIX exchange "
      ]
    },
    {
      "cell_type": "code",
      "metadata": {
        "id": "pko7K5V2dEiI",
        "colab_type": "code",
        "colab": {
          "base_uri": "https://localhost:8080/",
          "height": 123
        },
        "outputId": "7cedf129-b862-44c9-88d2-34a052611c5a"
      },
      "source": [
        "LTC_Bitfinix_url = \"https://raw.githubusercontent.com/DonaldTurton/iLab2/master/Litecoin/BITFINEX_LTCUSD%2C%201D%20(1).csv\"\n",
        "LTC_daily = pd.read_csv (LTC_Bitfinix_url)\n",
        "LTC_daily = LTC_daily[['time','open', 'close', 'Volume']]\n",
        "LTC_daily = LTC_daily.rename(columns={'open': 'LTC_open', 'close': 'LTC_close', 'Volume': 'LTC_vol'})\n",
        "print(len(LTC_daily))\n",
        "print(LTC_daily.isna().sum())"
      ],
      "execution_count": 12,
      "outputs": [
        {
          "output_type": "stream",
          "text": [
            "2647\n",
            "time         0\n",
            "LTC_open     0\n",
            "LTC_close    0\n",
            "LTC_vol      0\n",
            "dtype: int64\n"
          ],
          "name": "stdout"
        }
      ]
    },
    {
      "cell_type": "markdown",
      "metadata": {
        "id": "FQPHOpz3v6AW",
        "colab_type": "text"
      },
      "source": [
        "##ChainLink from BINANCE exchange "
      ]
    },
    {
      "cell_type": "code",
      "metadata": {
        "id": "3Y-20wwGugOg",
        "colab_type": "code",
        "colab": {
          "base_uri": "https://localhost:8080/",
          "height": 123
        },
        "outputId": "0b804a30-b08f-43e5-8b0a-72f94faf96de"
      },
      "source": [
        "LINK_Binance_url = \"https://raw.githubusercontent.com/DonaldTurton/iLab2/master/Chainlink/BINANCE_LINKUSDT%2C%201D.csv\"\n",
        "LINK_daily = pd.read_csv (LINK_Binance_url)\n",
        "LINK_daily = LINK_daily[['time','open', 'close', 'Volume']]\n",
        "LINK_daily = LINK_daily.rename(columns={'open': 'LINK_open', 'close': 'LINK_close', 'Volume': 'LINK_vol'})\n",
        "print(len(LINK_daily))\n",
        "print(LINK_daily.isna().sum())"
      ],
      "execution_count": 13,
      "outputs": [
        {
          "output_type": "stream",
          "text": [
            "594\n",
            "time          0\n",
            "LINK_open     0\n",
            "LINK_close    0\n",
            "LINK_vol      0\n",
            "dtype: int64\n"
          ],
          "name": "stdout"
        }
      ]
    },
    {
      "cell_type": "markdown",
      "metadata": {
        "id": "gDGuj4-wv--N",
        "colab_type": "text"
      },
      "source": [
        "### Merge Data Sets (USDT, BCH, LTC, LINK)"
      ]
    },
    {
      "cell_type": "code",
      "metadata": {
        "id": "EfjAW-nKrSyh",
        "colab_type": "code",
        "colab": {
          "base_uri": "https://localhost:8080/",
          "height": 197
        },
        "outputId": "9d8ee3a4-887e-4527-8a31-00f065566024"
      },
      "source": [
        "usdt_bch = pd.merge(theter_daily, bitcash_daily, how='left', on=['time'])\n",
        "usdt_bch_ltc = pd.merge(usdt_bch, LTC_daily, how='left', on=['time'])\n",
        "usdt_bch_ltc.head()"
      ],
      "execution_count": 14,
      "outputs": [
        {
          "output_type": "execute_result",
          "data": {
            "text/html": [
              "<div>\n",
              "<style scoped>\n",
              "    .dataframe tbody tr th:only-of-type {\n",
              "        vertical-align: middle;\n",
              "    }\n",
              "\n",
              "    .dataframe tbody tr th {\n",
              "        vertical-align: top;\n",
              "    }\n",
              "\n",
              "    .dataframe thead th {\n",
              "        text-align: right;\n",
              "    }\n",
              "</style>\n",
              "<table border=\"1\" class=\"dataframe\">\n",
              "  <thead>\n",
              "    <tr style=\"text-align: right;\">\n",
              "      <th></th>\n",
              "      <th>time</th>\n",
              "      <th>USDT_open</th>\n",
              "      <th>USDT_close</th>\n",
              "      <th>USDT_vol</th>\n",
              "      <th>BCH_open</th>\n",
              "      <th>BCH_close</th>\n",
              "      <th>BCH_vol</th>\n",
              "      <th>LTC_open</th>\n",
              "      <th>LTC_close</th>\n",
              "      <th>LTC_vol</th>\n",
              "    </tr>\n",
              "  </thead>\n",
              "  <tbody>\n",
              "    <tr>\n",
              "      <th>0</th>\n",
              "      <td>2017-03-29T00:00:00Z</td>\n",
              "      <td>1.0000</td>\n",
              "      <td>0.9991</td>\n",
              "      <td>70301.420000</td>\n",
              "      <td>NaN</td>\n",
              "      <td>NaN</td>\n",
              "      <td>NaN</td>\n",
              "      <td>4.1830</td>\n",
              "      <td>4.3060</td>\n",
              "      <td>7.892983e+04</td>\n",
              "    </tr>\n",
              "    <tr>\n",
              "      <th>1</th>\n",
              "      <td>2017-03-30T00:00:00Z</td>\n",
              "      <td>1.0000</td>\n",
              "      <td>0.9990</td>\n",
              "      <td>211282.386609</td>\n",
              "      <td>NaN</td>\n",
              "      <td>NaN</td>\n",
              "      <td>NaN</td>\n",
              "      <td>4.3186</td>\n",
              "      <td>7.7800</td>\n",
              "      <td>1.535658e+06</td>\n",
              "    </tr>\n",
              "    <tr>\n",
              "      <th>2</th>\n",
              "      <td>2017-03-31T00:00:00Z</td>\n",
              "      <td>1.0004</td>\n",
              "      <td>1.0009</td>\n",
              "      <td>712855.285722</td>\n",
              "      <td>NaN</td>\n",
              "      <td>NaN</td>\n",
              "      <td>NaN</td>\n",
              "      <td>7.7800</td>\n",
              "      <td>7.1300</td>\n",
              "      <td>7.369446e+05</td>\n",
              "    </tr>\n",
              "    <tr>\n",
              "      <th>3</th>\n",
              "      <td>2017-04-01T00:00:00Z</td>\n",
              "      <td>1.0009</td>\n",
              "      <td>0.9983</td>\n",
              "      <td>634403.260570</td>\n",
              "      <td>NaN</td>\n",
              "      <td>NaN</td>\n",
              "      <td>NaN</td>\n",
              "      <td>7.0901</td>\n",
              "      <td>7.5874</td>\n",
              "      <td>4.294546e+05</td>\n",
              "    </tr>\n",
              "    <tr>\n",
              "      <th>4</th>\n",
              "      <td>2017-04-02T00:00:00Z</td>\n",
              "      <td>0.9983</td>\n",
              "      <td>1.0008</td>\n",
              "      <td>881231.832307</td>\n",
              "      <td>NaN</td>\n",
              "      <td>NaN</td>\n",
              "      <td>NaN</td>\n",
              "      <td>7.5410</td>\n",
              "      <td>8.3330</td>\n",
              "      <td>7.839697e+05</td>\n",
              "    </tr>\n",
              "  </tbody>\n",
              "</table>\n",
              "</div>"
            ],
            "text/plain": [
              "                   time  USDT_open  ...  LTC_close       LTC_vol\n",
              "0  2017-03-29T00:00:00Z     1.0000  ...     4.3060  7.892983e+04\n",
              "1  2017-03-30T00:00:00Z     1.0000  ...     7.7800  1.535658e+06\n",
              "2  2017-03-31T00:00:00Z     1.0004  ...     7.1300  7.369446e+05\n",
              "3  2017-04-01T00:00:00Z     1.0009  ...     7.5874  4.294546e+05\n",
              "4  2017-04-02T00:00:00Z     0.9983  ...     8.3330  7.839697e+05\n",
              "\n",
              "[5 rows x 10 columns]"
            ]
          },
          "metadata": {
            "tags": []
          },
          "execution_count": 14
        }
      ]
    },
    {
      "cell_type": "code",
      "metadata": {
        "id": "_mLuWgLsryQK",
        "colab_type": "code",
        "colab": {}
      },
      "source": [
        "# Convert Date column to Date format.  \n",
        "usdt_bch_ltc[\"time\"] = pd.to_datetime(usdt_bch_ltc[\"time\"], dayfirst=True )  #, format ='%d/%m/%y', errors='ignore'\n",
        "\n",
        "#Set Date as Index\n",
        "usdt_bch_ltc = usdt_bch_ltc.set_index('time')#.asfreq('d')"
      ],
      "execution_count": 15,
      "outputs": []
    },
    {
      "cell_type": "code",
      "metadata": {
        "id": "gqUpuhcvsAa-",
        "colab_type": "code",
        "colab": {
          "base_uri": "https://localhost:8080/",
          "height": 34
        },
        "outputId": "1a08eeda-f5fa-4900-fa7d-12b3e9547078"
      },
      "source": [
        "#Drop NA \n",
        "usdt_bch_ltc = usdt_bch_ltc.dropna()\n",
        "len(usdt_bch_ltc) #1,002 observations after removing NA"
      ],
      "execution_count": 16,
      "outputs": [
        {
          "output_type": "execute_result",
          "data": {
            "text/plain": [
              "1002"
            ]
          },
          "metadata": {
            "tags": []
          },
          "execution_count": 16
        }
      ]
    },
    {
      "cell_type": "code",
      "metadata": {
        "id": "V-D6oyj1sGc0",
        "colab_type": "code",
        "colab": {
          "base_uri": "https://localhost:8080/",
          "height": 436
        },
        "outputId": "5739bfed-bc20-454e-aee4-f9a36c9d23cb"
      },
      "source": [
        "usdt_bch_ltc"
      ],
      "execution_count": 17,
      "outputs": [
        {
          "output_type": "execute_result",
          "data": {
            "text/html": [
              "<div>\n",
              "<style scoped>\n",
              "    .dataframe tbody tr th:only-of-type {\n",
              "        vertical-align: middle;\n",
              "    }\n",
              "\n",
              "    .dataframe tbody tr th {\n",
              "        vertical-align: top;\n",
              "    }\n",
              "\n",
              "    .dataframe thead th {\n",
              "        text-align: right;\n",
              "    }\n",
              "</style>\n",
              "<table border=\"1\" class=\"dataframe\">\n",
              "  <thead>\n",
              "    <tr style=\"text-align: right;\">\n",
              "      <th></th>\n",
              "      <th>USDT_open</th>\n",
              "      <th>USDT_close</th>\n",
              "      <th>USDT_vol</th>\n",
              "      <th>BCH_open</th>\n",
              "      <th>BCH_close</th>\n",
              "      <th>BCH_vol</th>\n",
              "      <th>LTC_open</th>\n",
              "      <th>LTC_close</th>\n",
              "      <th>LTC_vol</th>\n",
              "    </tr>\n",
              "    <tr>\n",
              "      <th>time</th>\n",
              "      <th></th>\n",
              "      <th></th>\n",
              "      <th></th>\n",
              "      <th></th>\n",
              "      <th></th>\n",
              "      <th></th>\n",
              "      <th></th>\n",
              "      <th></th>\n",
              "      <th></th>\n",
              "    </tr>\n",
              "  </thead>\n",
              "  <tbody>\n",
              "    <tr>\n",
              "      <th>2017-12-04 00:00:00+00:00</th>\n",
              "      <td>0.9977</td>\n",
              "      <td>1.0020</td>\n",
              "      <td>2.913128e+06</td>\n",
              "      <td>1500.00</td>\n",
              "      <td>1500.00</td>\n",
              "      <td>0.003500</td>\n",
              "      <td>99.988</td>\n",
              "      <td>103.420</td>\n",
              "      <td>3.055461e+05</td>\n",
              "    </tr>\n",
              "    <tr>\n",
              "      <th>2017-12-05 00:00:00+00:00</th>\n",
              "      <td>1.0039</td>\n",
              "      <td>1.0000</td>\n",
              "      <td>1.744146e+06</td>\n",
              "      <td>1520.00</td>\n",
              "      <td>1438.53</td>\n",
              "      <td>1584.311332</td>\n",
              "      <td>103.420</td>\n",
              "      <td>99.487</td>\n",
              "      <td>3.095707e+05</td>\n",
              "    </tr>\n",
              "    <tr>\n",
              "      <th>2017-12-06 00:00:00+00:00</th>\n",
              "      <td>0.9998</td>\n",
              "      <td>1.0117</td>\n",
              "      <td>2.482851e+06</td>\n",
              "      <td>1430.30</td>\n",
              "      <td>1334.19</td>\n",
              "      <td>4298.190299</td>\n",
              "      <td>99.488</td>\n",
              "      <td>96.513</td>\n",
              "      <td>4.537027e+05</td>\n",
              "    </tr>\n",
              "    <tr>\n",
              "      <th>2017-12-07 00:00:00+00:00</th>\n",
              "      <td>1.0119</td>\n",
              "      <td>1.0140</td>\n",
              "      <td>1.750631e+06</td>\n",
              "      <td>1336.21</td>\n",
              "      <td>1230.09</td>\n",
              "      <td>2715.167819</td>\n",
              "      <td>96.441</td>\n",
              "      <td>93.560</td>\n",
              "      <td>4.015128e+05</td>\n",
              "    </tr>\n",
              "    <tr>\n",
              "      <th>2017-12-08 00:00:00+00:00</th>\n",
              "      <td>1.0250</td>\n",
              "      <td>1.0067</td>\n",
              "      <td>6.312278e+05</td>\n",
              "      <td>1227.00</td>\n",
              "      <td>1380.00</td>\n",
              "      <td>6037.355016</td>\n",
              "      <td>93.502</td>\n",
              "      <td>120.900</td>\n",
              "      <td>1.194805e+06</td>\n",
              "    </tr>\n",
              "    <tr>\n",
              "      <th>...</th>\n",
              "      <td>...</td>\n",
              "      <td>...</td>\n",
              "      <td>...</td>\n",
              "      <td>...</td>\n",
              "      <td>...</td>\n",
              "      <td>...</td>\n",
              "      <td>...</td>\n",
              "      <td>...</td>\n",
              "      <td>...</td>\n",
              "    </tr>\n",
              "    <tr>\n",
              "      <th>2020-08-27 00:00:00+00:00</th>\n",
              "      <td>1.0003</td>\n",
              "      <td>1.0004</td>\n",
              "      <td>1.754607e+07</td>\n",
              "      <td>275.91</td>\n",
              "      <td>264.79</td>\n",
              "      <td>7336.073893</td>\n",
              "      <td>58.150</td>\n",
              "      <td>56.181</td>\n",
              "      <td>6.223681e+04</td>\n",
              "    </tr>\n",
              "    <tr>\n",
              "      <th>2020-08-28 00:00:00+00:00</th>\n",
              "      <td>1.0004</td>\n",
              "      <td>1.0006</td>\n",
              "      <td>1.280431e+07</td>\n",
              "      <td>263.24</td>\n",
              "      <td>268.33</td>\n",
              "      <td>3962.880627</td>\n",
              "      <td>56.181</td>\n",
              "      <td>57.512</td>\n",
              "      <td>2.481438e+04</td>\n",
              "    </tr>\n",
              "    <tr>\n",
              "      <th>2020-08-29 00:00:00+00:00</th>\n",
              "      <td>1.0006</td>\n",
              "      <td>1.0003</td>\n",
              "      <td>7.470586e+06</td>\n",
              "      <td>268.61</td>\n",
              "      <td>268.44</td>\n",
              "      <td>2373.011472</td>\n",
              "      <td>57.497</td>\n",
              "      <td>57.065</td>\n",
              "      <td>1.616494e+04</td>\n",
              "    </tr>\n",
              "    <tr>\n",
              "      <th>2020-08-30 00:00:00+00:00</th>\n",
              "      <td>1.0004</td>\n",
              "      <td>1.0001</td>\n",
              "      <td>6.992666e+06</td>\n",
              "      <td>268.00</td>\n",
              "      <td>279.31</td>\n",
              "      <td>2648.754263</td>\n",
              "      <td>57.032</td>\n",
              "      <td>63.018</td>\n",
              "      <td>1.102947e+05</td>\n",
              "    </tr>\n",
              "    <tr>\n",
              "      <th>2020-08-31 00:00:00+00:00</th>\n",
              "      <td>1.0001</td>\n",
              "      <td>1.0002</td>\n",
              "      <td>1.790266e+07</td>\n",
              "      <td>279.49</td>\n",
              "      <td>276.92</td>\n",
              "      <td>770.433442</td>\n",
              "      <td>63.019</td>\n",
              "      <td>62.786</td>\n",
              "      <td>2.673725e+04</td>\n",
              "    </tr>\n",
              "  </tbody>\n",
              "</table>\n",
              "<p>1002 rows × 9 columns</p>\n",
              "</div>"
            ],
            "text/plain": [
              "                           USDT_open  USDT_close  ...  LTC_close       LTC_vol\n",
              "time                                              ...                         \n",
              "2017-12-04 00:00:00+00:00     0.9977      1.0020  ...    103.420  3.055461e+05\n",
              "2017-12-05 00:00:00+00:00     1.0039      1.0000  ...     99.487  3.095707e+05\n",
              "2017-12-06 00:00:00+00:00     0.9998      1.0117  ...     96.513  4.537027e+05\n",
              "2017-12-07 00:00:00+00:00     1.0119      1.0140  ...     93.560  4.015128e+05\n",
              "2017-12-08 00:00:00+00:00     1.0250      1.0067  ...    120.900  1.194805e+06\n",
              "...                              ...         ...  ...        ...           ...\n",
              "2020-08-27 00:00:00+00:00     1.0003      1.0004  ...     56.181  6.223681e+04\n",
              "2020-08-28 00:00:00+00:00     1.0004      1.0006  ...     57.512  2.481438e+04\n",
              "2020-08-29 00:00:00+00:00     1.0006      1.0003  ...     57.065  1.616494e+04\n",
              "2020-08-30 00:00:00+00:00     1.0004      1.0001  ...     63.018  1.102947e+05\n",
              "2020-08-31 00:00:00+00:00     1.0001      1.0002  ...     62.786  2.673725e+04\n",
              "\n",
              "[1002 rows x 9 columns]"
            ]
          },
          "metadata": {
            "tags": []
          },
          "execution_count": 17
        }
      ]
    },
    {
      "cell_type": "markdown",
      "metadata": {
        "id": "fCG6-EUrthky",
        "colab_type": "text"
      },
      "source": [
        "## Daily Data Set (ALL coins Except ChainLink)"
      ]
    },
    {
      "cell_type": "code",
      "metadata": {
        "id": "ejdSmVg8tc61",
        "colab_type": "code",
        "colab": {
          "base_uri": "https://localhost:8080/",
          "height": 331
        },
        "outputId": "0687702d-f15c-4be4-8762-6027b8afae09"
      },
      "source": [
        "Daily_Data = pd.merge(bit_eth_xrp, usdt_bch_ltc, how='left', on=['time'])\n",
        "Daily_Data.head()"
      ],
      "execution_count": 18,
      "outputs": [
        {
          "output_type": "execute_result",
          "data": {
            "text/html": [
              "<div>\n",
              "<style scoped>\n",
              "    .dataframe tbody tr th:only-of-type {\n",
              "        vertical-align: middle;\n",
              "    }\n",
              "\n",
              "    .dataframe tbody tr th {\n",
              "        vertical-align: top;\n",
              "    }\n",
              "\n",
              "    .dataframe thead th {\n",
              "        text-align: right;\n",
              "    }\n",
              "</style>\n",
              "<table border=\"1\" class=\"dataframe\">\n",
              "  <thead>\n",
              "    <tr style=\"text-align: right;\">\n",
              "      <th></th>\n",
              "      <th>BTC_open</th>\n",
              "      <th>BTC_close</th>\n",
              "      <th>BTC_vol</th>\n",
              "      <th>ETHER_open</th>\n",
              "      <th>ETHER_close</th>\n",
              "      <th>ETHER_vol</th>\n",
              "      <th>XRP_open</th>\n",
              "      <th>XRP_close</th>\n",
              "      <th>XRP_vol</th>\n",
              "      <th>USDT_open</th>\n",
              "      <th>USDT_close</th>\n",
              "      <th>USDT_vol</th>\n",
              "      <th>BCH_open</th>\n",
              "      <th>BCH_close</th>\n",
              "      <th>BCH_vol</th>\n",
              "      <th>LTC_open</th>\n",
              "      <th>LTC_close</th>\n",
              "      <th>LTC_vol</th>\n",
              "    </tr>\n",
              "    <tr>\n",
              "      <th>time</th>\n",
              "      <th></th>\n",
              "      <th></th>\n",
              "      <th></th>\n",
              "      <th></th>\n",
              "      <th></th>\n",
              "      <th></th>\n",
              "      <th></th>\n",
              "      <th></th>\n",
              "      <th></th>\n",
              "      <th></th>\n",
              "      <th></th>\n",
              "      <th></th>\n",
              "      <th></th>\n",
              "      <th></th>\n",
              "      <th></th>\n",
              "      <th></th>\n",
              "      <th></th>\n",
              "      <th></th>\n",
              "    </tr>\n",
              "  </thead>\n",
              "  <tbody>\n",
              "    <tr>\n",
              "      <th>2017-05-19 00:00:00+00:00</th>\n",
              "      <td>1941.9</td>\n",
              "      <td>1966.5</td>\n",
              "      <td>23001.542773</td>\n",
              "      <td>98.55</td>\n",
              "      <td>124.40</td>\n",
              "      <td>257956.362939</td>\n",
              "      <td>0.37999</td>\n",
              "      <td>0.32498</td>\n",
              "      <td>2.130933e+06</td>\n",
              "      <td>NaN</td>\n",
              "      <td>NaN</td>\n",
              "      <td>NaN</td>\n",
              "      <td>NaN</td>\n",
              "      <td>NaN</td>\n",
              "      <td>NaN</td>\n",
              "      <td>NaN</td>\n",
              "      <td>NaN</td>\n",
              "      <td>NaN</td>\n",
              "    </tr>\n",
              "    <tr>\n",
              "      <th>2017-05-20 00:00:00+00:00</th>\n",
              "      <td>1966.5</td>\n",
              "      <td>2059.3</td>\n",
              "      <td>21690.022393</td>\n",
              "      <td>124.49</td>\n",
              "      <td>123.03</td>\n",
              "      <td>122882.371427</td>\n",
              "      <td>0.32499</td>\n",
              "      <td>0.34716</td>\n",
              "      <td>3.608873e+06</td>\n",
              "      <td>NaN</td>\n",
              "      <td>NaN</td>\n",
              "      <td>NaN</td>\n",
              "      <td>NaN</td>\n",
              "      <td>NaN</td>\n",
              "      <td>NaN</td>\n",
              "      <td>NaN</td>\n",
              "      <td>NaN</td>\n",
              "      <td>NaN</td>\n",
              "    </tr>\n",
              "    <tr>\n",
              "      <th>2017-05-21 00:00:00+00:00</th>\n",
              "      <td>2059.3</td>\n",
              "      <td>2026.6</td>\n",
              "      <td>17221.878675</td>\n",
              "      <td>123.49</td>\n",
              "      <td>146.14</td>\n",
              "      <td>220184.308469</td>\n",
              "      <td>0.34700</td>\n",
              "      <td>0.32700</td>\n",
              "      <td>2.597807e+06</td>\n",
              "      <td>NaN</td>\n",
              "      <td>NaN</td>\n",
              "      <td>NaN</td>\n",
              "      <td>NaN</td>\n",
              "      <td>NaN</td>\n",
              "      <td>NaN</td>\n",
              "      <td>NaN</td>\n",
              "      <td>NaN</td>\n",
              "      <td>NaN</td>\n",
              "    </tr>\n",
              "    <tr>\n",
              "      <th>2017-05-22 00:00:00+00:00</th>\n",
              "      <td>2027.0</td>\n",
              "      <td>2087.3</td>\n",
              "      <td>57231.824243</td>\n",
              "      <td>146.14</td>\n",
              "      <td>154.92</td>\n",
              "      <td>473706.454399</td>\n",
              "      <td>0.32700</td>\n",
              "      <td>0.29717</td>\n",
              "      <td>6.474949e+06</td>\n",
              "      <td>NaN</td>\n",
              "      <td>NaN</td>\n",
              "      <td>NaN</td>\n",
              "      <td>NaN</td>\n",
              "      <td>NaN</td>\n",
              "      <td>NaN</td>\n",
              "      <td>NaN</td>\n",
              "      <td>NaN</td>\n",
              "      <td>NaN</td>\n",
              "    </tr>\n",
              "    <tr>\n",
              "      <th>2017-05-23 00:00:00+00:00</th>\n",
              "      <td>2087.3</td>\n",
              "      <td>2249.6</td>\n",
              "      <td>22521.559138</td>\n",
              "      <td>155.16</td>\n",
              "      <td>168.24</td>\n",
              "      <td>144988.858583</td>\n",
              "      <td>0.29912</td>\n",
              "      <td>0.32158</td>\n",
              "      <td>3.255225e+06</td>\n",
              "      <td>NaN</td>\n",
              "      <td>NaN</td>\n",
              "      <td>NaN</td>\n",
              "      <td>NaN</td>\n",
              "      <td>NaN</td>\n",
              "      <td>NaN</td>\n",
              "      <td>NaN</td>\n",
              "      <td>NaN</td>\n",
              "      <td>NaN</td>\n",
              "    </tr>\n",
              "  </tbody>\n",
              "</table>\n",
              "</div>"
            ],
            "text/plain": [
              "                           BTC_open  BTC_close  ...  LTC_close  LTC_vol\n",
              "time                                            ...                    \n",
              "2017-05-19 00:00:00+00:00    1941.9     1966.5  ...        NaN      NaN\n",
              "2017-05-20 00:00:00+00:00    1966.5     2059.3  ...        NaN      NaN\n",
              "2017-05-21 00:00:00+00:00    2059.3     2026.6  ...        NaN      NaN\n",
              "2017-05-22 00:00:00+00:00    2027.0     2087.3  ...        NaN      NaN\n",
              "2017-05-23 00:00:00+00:00    2087.3     2249.6  ...        NaN      NaN\n",
              "\n",
              "[5 rows x 18 columns]"
            ]
          },
          "metadata": {
            "tags": []
          },
          "execution_count": 18
        }
      ]
    },
    {
      "cell_type": "code",
      "metadata": {
        "id": "EsKq1izwtzOM",
        "colab_type": "code",
        "colab": {
          "base_uri": "https://localhost:8080/",
          "height": 34
        },
        "outputId": "4a31283f-25de-4d7d-f43d-a46d3dcbba04"
      },
      "source": [
        "#Drop NA \n",
        "Daily_Data = Daily_Data.dropna()\n",
        "len(Daily_Data) #975 TOTAL observations after removing NA"
      ],
      "execution_count": 19,
      "outputs": [
        {
          "output_type": "execute_result",
          "data": {
            "text/plain": [
              "975"
            ]
          },
          "metadata": {
            "tags": []
          },
          "execution_count": 19
        }
      ]
    },
    {
      "cell_type": "code",
      "metadata": {
        "id": "vJ4hx56YGIQx",
        "colab_type": "code",
        "colab": {
          "base_uri": "https://localhost:8080/",
          "height": 16
        },
        "outputId": "b2e70284-80bb-4935-87f9-57870d375069"
      },
      "source": [
        "# Extract new csv \n",
        "#from google.colab import files \n",
        "#Daily_Data.to_csv('Daily_Data.csv')\n",
        "#files.download('Daily_Data.csv')"
      ],
      "execution_count": 20,
      "outputs": [
        {
          "output_type": "display_data",
          "data": {
            "application/javascript": [
              "\n",
              "    async function download(id, filename, size) {\n",
              "      if (!google.colab.kernel.accessAllowed) {\n",
              "        return;\n",
              "      }\n",
              "      const div = document.createElement('div');\n",
              "      const label = document.createElement('label');\n",
              "      label.textContent = `Downloading \"${filename}\": `;\n",
              "      div.appendChild(label);\n",
              "      const progress = document.createElement('progress');\n",
              "      progress.max = size;\n",
              "      div.appendChild(progress);\n",
              "      document.body.appendChild(div);\n",
              "\n",
              "      const buffers = [];\n",
              "      let downloaded = 0;\n",
              "\n",
              "      const channel = await google.colab.kernel.comms.open(id);\n",
              "      // Send a message to notify the kernel that we're ready.\n",
              "      channel.send({})\n",
              "\n",
              "      for await (const message of channel.messages) {\n",
              "        // Send a message to notify the kernel that we're ready.\n",
              "        channel.send({})\n",
              "        if (message.buffers) {\n",
              "          for (const buffer of message.buffers) {\n",
              "            buffers.push(buffer);\n",
              "            downloaded += buffer.byteLength;\n",
              "            progress.value = downloaded;\n",
              "          }\n",
              "        }\n",
              "      }\n",
              "      const blob = new Blob(buffers, {type: 'application/binary'});\n",
              "      const a = document.createElement('a');\n",
              "      a.href = window.URL.createObjectURL(blob);\n",
              "      a.download = filename;\n",
              "      div.appendChild(a);\n",
              "      a.click();\n",
              "      div.remove();\n",
              "    }\n",
              "  "
            ],
            "text/plain": [
              "<IPython.core.display.Javascript object>"
            ]
          },
          "metadata": {
            "tags": []
          }
        },
        {
          "output_type": "display_data",
          "data": {
            "application/javascript": [
              "download(\"download_893b1a2d-7a6e-4243-92e0-882a7c4654fe\", \"Daily_Data.csv\", 213751)"
            ],
            "text/plain": [
              "<IPython.core.display.Javascript object>"
            ]
          },
          "metadata": {
            "tags": []
          }
        }
      ]
    },
    {
      "cell_type": "markdown",
      "metadata": {
        "id": "kNEzwffZyFYS",
        "colab_type": "text"
      },
      "source": [
        "# Hourly Data Set"
      ]
    },
    {
      "cell_type": "code",
      "metadata": {
        "id": "EcjnJbF1yIEy",
        "colab_type": "code",
        "colab": {
          "base_uri": "https://localhost:8080/",
          "height": 123
        },
        "outputId": "abfe1115-26ed-4228-f001-f52558199fb4"
      },
      "source": [
        "BITC_BITFINIX_H_url = \"https://raw.githubusercontent.com/DonaldTurton/iLab2/master/Bitcoin/BITFINEX_BTCUSD%2C%2060.csv\"\n",
        "bitcoin_hourly = pd.read_csv (BITC_BITFINIX_H_url)\n",
        "bitcoin_hourly = bitcoin_hourly[['time','open', 'close', 'Volume']]\n",
        "bitcoin_hourly = bitcoin_hourly.rename(columns={'open': 'BTC_open', 'close': 'BTC_close', 'Volume': 'BTC_vol'})\n",
        "print(len(bitcoin_hourly))\n",
        "print(bitcoin_hourly.isna().sum())"
      ],
      "execution_count": 21,
      "outputs": [
        {
          "output_type": "stream",
          "text": [
            "13945\n",
            "time         0\n",
            "BTC_open     0\n",
            "BTC_close    0\n",
            "BTC_vol      0\n",
            "dtype: int64\n"
          ],
          "name": "stdout"
        }
      ]
    },
    {
      "cell_type": "code",
      "metadata": {
        "id": "C0o3imnAzws4",
        "colab_type": "code",
        "colab": {
          "base_uri": "https://localhost:8080/",
          "height": 123
        },
        "outputId": "217aee72-1e9f-4487-ffde-1b483b4a87ad"
      },
      "source": [
        "ETHERIUM_BITFINIX_H_url= 'https://raw.githubusercontent.com/DonaldTurton/iLab2/master/Ethereum/BITFINEX_ETHUSD%2C%2060.csv'\n",
        "ethereum_hourly = pd.read_csv(ETHERIUM_BITFINIX_H_url) \n",
        "ethereum_hourly = ethereum_hourly[['time','open', 'close', 'Volume']]\n",
        "ethereum_hourly = ethereum_hourly.rename(columns={'open': 'ETHER_open', 'close': 'ETHER_close', 'Volume': 'ETHER_vol'})\n",
        "print(len(ethereum_hourly))\n",
        "print(ethereum_hourly.isna().sum())"
      ],
      "execution_count": 22,
      "outputs": [
        {
          "output_type": "stream",
          "text": [
            "13992\n",
            "time           0\n",
            "ETHER_open     0\n",
            "ETHER_close    0\n",
            "ETHER_vol      0\n",
            "dtype: int64\n"
          ],
          "name": "stdout"
        }
      ]
    },
    {
      "cell_type": "code",
      "metadata": {
        "id": "L0_flwxezwAn",
        "colab_type": "code",
        "colab": {
          "base_uri": "https://localhost:8080/",
          "height": 123
        },
        "outputId": "2e076f32-78a4-41c5-8604-d248905808b8"
      },
      "source": [
        "RIPPLE_BITFINIX_H_url= 'https://raw.githubusercontent.com/DonaldTurton/iLab2/master/Ripple/BITFINEX_XRPUSD%2C%2060.csv'\n",
        "ripple_hourly = pd.read_csv(RIPPLE_BITFINIX_H_url)\n",
        "ripple_hourly = ripple_hourly[['time','open', 'close', 'Volume']]\n",
        "ripple_hourly = ripple_hourly.rename(columns={'open': 'XRP_open', 'close': 'XRP_close', 'Volume': 'XRP_vol'})\n",
        "print(len(ripple_hourly))\n",
        "print(ripple_hourly.isna().sum())"
      ],
      "execution_count": 23,
      "outputs": [
        {
          "output_type": "stream",
          "text": [
            "13983\n",
            "time         0\n",
            "XRP_open     0\n",
            "XRP_close    0\n",
            "XRP_vol      0\n",
            "dtype: int64\n"
          ],
          "name": "stdout"
        }
      ]
    },
    {
      "cell_type": "code",
      "metadata": {
        "id": "CTmoYIl809DC",
        "colab_type": "code",
        "colab": {}
      },
      "source": [
        "#Merge BTC, ETYH , XRP Hourly\n",
        "H_bit_eth = pd.merge(bitcoin_hourly, ethereum_hourly, how='left', on=['time'])\n",
        "H_bit_eth_xrp = pd.merge(H_bit_eth, ripple_hourly, how='left', on=['time'])"
      ],
      "execution_count": 24,
      "outputs": []
    },
    {
      "cell_type": "code",
      "metadata": {
        "id": "QcaJ42TJ1WzT",
        "colab_type": "code",
        "colab": {}
      },
      "source": [
        "# Convert Date column to Date format.  \n",
        "H_bit_eth_xrp[\"time\"] = pd.to_datetime(H_bit_eth_xrp[\"time\"], dayfirst=True )  #, format ='%d/%m/%y', errors='ignore'\n",
        "\n",
        "#Set Date as Index\n",
        "H_bit_eth_xrp = H_bit_eth_xrp.set_index('time')#.asfreq('d')"
      ],
      "execution_count": 25,
      "outputs": []
    },
    {
      "cell_type": "code",
      "metadata": {
        "id": "5MHURS2q1d_o",
        "colab_type": "code",
        "colab": {
          "base_uri": "https://localhost:8080/",
          "height": 34
        },
        "outputId": "7d3c12a7-1aa9-4d66-a2b6-f62473fa3b6a"
      },
      "source": [
        "#Drop NA \n",
        "H_bit_eth_xrp = H_bit_eth_xrp.dropna()\n",
        "len(H_bit_eth_xrp) #132,933 observations after removing NA"
      ],
      "execution_count": 26,
      "outputs": [
        {
          "output_type": "execute_result",
          "data": {
            "text/plain": [
              "13933"
            ]
          },
          "metadata": {
            "tags": []
          },
          "execution_count": 26
        }
      ]
    },
    {
      "cell_type": "code",
      "metadata": {
        "id": "wUcAlNU31f3C",
        "colab_type": "code",
        "colab": {
          "base_uri": "https://localhost:8080/",
          "height": 227
        },
        "outputId": "12201e78-22b4-4c2f-a463-6189369fb548"
      },
      "source": [
        "H_bit_eth_xrp.head()"
      ],
      "execution_count": 27,
      "outputs": [
        {
          "output_type": "execute_result",
          "data": {
            "text/html": [
              "<div>\n",
              "<style scoped>\n",
              "    .dataframe tbody tr th:only-of-type {\n",
              "        vertical-align: middle;\n",
              "    }\n",
              "\n",
              "    .dataframe tbody tr th {\n",
              "        vertical-align: top;\n",
              "    }\n",
              "\n",
              "    .dataframe thead th {\n",
              "        text-align: right;\n",
              "    }\n",
              "</style>\n",
              "<table border=\"1\" class=\"dataframe\">\n",
              "  <thead>\n",
              "    <tr style=\"text-align: right;\">\n",
              "      <th></th>\n",
              "      <th>BTC_open</th>\n",
              "      <th>BTC_close</th>\n",
              "      <th>BTC_vol</th>\n",
              "      <th>ETHER_open</th>\n",
              "      <th>ETHER_close</th>\n",
              "      <th>ETHER_vol</th>\n",
              "      <th>XRP_open</th>\n",
              "      <th>XRP_close</th>\n",
              "      <th>XRP_vol</th>\n",
              "    </tr>\n",
              "    <tr>\n",
              "      <th>time</th>\n",
              "      <th></th>\n",
              "      <th></th>\n",
              "      <th></th>\n",
              "      <th></th>\n",
              "      <th></th>\n",
              "      <th></th>\n",
              "      <th></th>\n",
              "      <th></th>\n",
              "      <th></th>\n",
              "    </tr>\n",
              "  </thead>\n",
              "  <tbody>\n",
              "    <tr>\n",
              "      <th>2019-01-01 00:00:00+00:00</th>\n",
              "      <td>3832.628624</td>\n",
              "      <td>3835.163503</td>\n",
              "      <td>265.354812</td>\n",
              "      <td>136.00</td>\n",
              "      <td>136.491226</td>\n",
              "      <td>6798.654336</td>\n",
              "      <td>0.36131</td>\n",
              "      <td>0.36198</td>\n",
              "      <td>586929.856129</td>\n",
              "    </tr>\n",
              "    <tr>\n",
              "      <th>2019-01-01 01:00:00+00:00</th>\n",
              "      <td>3835.048699</td>\n",
              "      <td>3829.146138</td>\n",
              "      <td>375.969689</td>\n",
              "      <td>136.47</td>\n",
              "      <td>135.870000</td>\n",
              "      <td>10449.192300</td>\n",
              "      <td>0.36201</td>\n",
              "      <td>0.36071</td>\n",
              "      <td>306640.178717</td>\n",
              "    </tr>\n",
              "    <tr>\n",
              "      <th>2019-01-01 02:00:00+00:00</th>\n",
              "      <td>3827.600000</td>\n",
              "      <td>3817.400000</td>\n",
              "      <td>425.147469</td>\n",
              "      <td>135.87</td>\n",
              "      <td>135.410000</td>\n",
              "      <td>16582.555846</td>\n",
              "      <td>0.36079</td>\n",
              "      <td>0.35890</td>\n",
              "      <td>438610.886871</td>\n",
              "    </tr>\n",
              "    <tr>\n",
              "      <th>2019-01-01 03:00:00+00:00</th>\n",
              "      <td>3817.300000</td>\n",
              "      <td>3828.400000</td>\n",
              "      <td>176.998692</td>\n",
              "      <td>135.46</td>\n",
              "      <td>136.280000</td>\n",
              "      <td>2496.910539</td>\n",
              "      <td>0.35887</td>\n",
              "      <td>0.36150</td>\n",
              "      <td>289447.869003</td>\n",
              "    </tr>\n",
              "    <tr>\n",
              "      <th>2019-01-01 04:00:00+00:00</th>\n",
              "      <td>3828.400000</td>\n",
              "      <td>3825.000000</td>\n",
              "      <td>307.675489</td>\n",
              "      <td>136.25</td>\n",
              "      <td>137.210000</td>\n",
              "      <td>21113.313214</td>\n",
              "      <td>0.36150</td>\n",
              "      <td>0.36320</td>\n",
              "      <td>697931.532074</td>\n",
              "    </tr>\n",
              "  </tbody>\n",
              "</table>\n",
              "</div>"
            ],
            "text/plain": [
              "                              BTC_open    BTC_close  ...  XRP_close        XRP_vol\n",
              "time                                                 ...                          \n",
              "2019-01-01 00:00:00+00:00  3832.628624  3835.163503  ...    0.36198  586929.856129\n",
              "2019-01-01 01:00:00+00:00  3835.048699  3829.146138  ...    0.36071  306640.178717\n",
              "2019-01-01 02:00:00+00:00  3827.600000  3817.400000  ...    0.35890  438610.886871\n",
              "2019-01-01 03:00:00+00:00  3817.300000  3828.400000  ...    0.36150  289447.869003\n",
              "2019-01-01 04:00:00+00:00  3828.400000  3825.000000  ...    0.36320  697931.532074\n",
              "\n",
              "[5 rows x 9 columns]"
            ]
          },
          "metadata": {
            "tags": []
          },
          "execution_count": 27
        }
      ]
    },
    {
      "cell_type": "code",
      "metadata": {
        "id": "Ii7_KuSM244S",
        "colab_type": "code",
        "colab": {
          "base_uri": "https://localhost:8080/",
          "height": 16
        },
        "outputId": "219cff16-fe7d-453e-853d-741ad4029142"
      },
      "source": [
        "# Extract new csv \n",
        "#from google.colab import files \n",
        "#H_bit_eth_xrp.to_csv('H_bit_eth_xrp.csv')\n",
        "#files.download('H_bit_eth_xrp.csv')"
      ],
      "execution_count": 28,
      "outputs": [
        {
          "output_type": "display_data",
          "data": {
            "application/javascript": [
              "\n",
              "    async function download(id, filename, size) {\n",
              "      if (!google.colab.kernel.accessAllowed) {\n",
              "        return;\n",
              "      }\n",
              "      const div = document.createElement('div');\n",
              "      const label = document.createElement('label');\n",
              "      label.textContent = `Downloading \"${filename}\": `;\n",
              "      div.appendChild(label);\n",
              "      const progress = document.createElement('progress');\n",
              "      progress.max = size;\n",
              "      div.appendChild(progress);\n",
              "      document.body.appendChild(div);\n",
              "\n",
              "      const buffers = [];\n",
              "      let downloaded = 0;\n",
              "\n",
              "      const channel = await google.colab.kernel.comms.open(id);\n",
              "      // Send a message to notify the kernel that we're ready.\n",
              "      channel.send({})\n",
              "\n",
              "      for await (const message of channel.messages) {\n",
              "        // Send a message to notify the kernel that we're ready.\n",
              "        channel.send({})\n",
              "        if (message.buffers) {\n",
              "          for (const buffer of message.buffers) {\n",
              "            buffers.push(buffer);\n",
              "            downloaded += buffer.byteLength;\n",
              "            progress.value = downloaded;\n",
              "          }\n",
              "        }\n",
              "      }\n",
              "      const blob = new Blob(buffers, {type: 'application/binary'});\n",
              "      const a = document.createElement('a');\n",
              "      a.href = window.URL.createObjectURL(blob);\n",
              "      a.download = filename;\n",
              "      div.appendChild(a);\n",
              "      a.click();\n",
              "      div.remove();\n",
              "    }\n",
              "  "
            ],
            "text/plain": [
              "<IPython.core.display.Javascript object>"
            ]
          },
          "metadata": {
            "tags": []
          }
        },
        {
          "output_type": "display_data",
          "data": {
            "application/javascript": [
              "download(\"download_c27669df-bf77-4b70-8740-dc279c08385c\", \"H_bit_eth_xrp.csv\", 1710313)"
            ],
            "text/plain": [
              "<IPython.core.display.Javascript object>"
            ]
          },
          "metadata": {
            "tags": []
          }
        }
      ]
    },
    {
      "cell_type": "markdown",
      "metadata": {
        "id": "AJVbLuXYBsPg",
        "colab_type": "text"
      },
      "source": [
        "4 Hour Data Set"
      ]
    }
  ]
}