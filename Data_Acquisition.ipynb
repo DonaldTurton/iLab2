{
  "nbformat": 4,
  "nbformat_minor": 0,
  "metadata": {
    "colab": {
      "name": "Data_Acquisition.ipynb",
      "provenance": [],
      "collapsed_sections": [],
      "toc_visible": true,
      "include_colab_link": true
    },
    "kernelspec": {
      "name": "python3",
      "display_name": "Python 3"
    }
  },
  "cells": [
    {
      "cell_type": "markdown",
      "metadata": {
        "id": "view-in-github",
        "colab_type": "text"
      },
      "source": [
        "<a href=\"https://colab.research.google.com/github/DonaldTurton/iLab2/blob/4hr-data-acquisition-branch/Data_Acquisition.ipynb\" target=\"_parent\"><img src=\"https://colab.research.google.com/assets/colab-badge.svg\" alt=\"Open In Colab\"/></a>"
      ]
    },
    {
      "cell_type": "markdown",
      "metadata": {
        "id": "PnlTuIWyRQnb",
        "colab_type": "text"
      },
      "source": [
        "# Data Reading"
      ]
    },
    {
      "cell_type": "code",
      "metadata": {
        "id": "mUKAqLz3V2cC",
        "colab_type": "code",
        "colab": {
          "base_uri": "https://localhost:8080/",
          "height": 72
        },
        "outputId": "14744f23-8645-41d0-8ae1-e84f7a7d9fd9"
      },
      "source": [
        "import pandas as pd\n",
        "import numpy as np\n",
        "import seaborn as sns"
      ],
      "execution_count": 1,
      "outputs": [
        {
          "output_type": "stream",
          "text": [
            "/usr/local/lib/python3.6/dist-packages/statsmodels/tools/_testing.py:19: FutureWarning: pandas.util.testing is deprecated. Use the functions in the public API at pandas.testing instead.\n",
            "  import pandas.util.testing as tm\n"
          ],
          "name": "stderr"
        }
      ]
    },
    {
      "cell_type": "markdown",
      "metadata": {
        "id": "Ice6DxUowkkU",
        "colab_type": "text"
      },
      "source": [
        "# Daily Data Sets"
      ]
    },
    {
      "cell_type": "markdown",
      "metadata": {
        "id": "7LCA8tHMRUpJ",
        "colab_type": "text"
      },
      "source": [
        "## BIC, ETHER, XRP Daily Bitfinix"
      ]
    },
    {
      "cell_type": "code",
      "metadata": {
        "id": "ku7P2pnIQQrd",
        "colab_type": "code",
        "colab": {
          "base_uri": "https://localhost:8080/",
          "height": 123
        },
        "outputId": "9ec5a934-4d56-4843-a321-5db562890345"
      },
      "source": [
        "BITC_BITFINIX_url = \"https://raw.githubusercontent.com/DonaldTurton/iLab2/master/Bitcoin/BITFINEX_BTCUSD%2C%201D.csv\"\n",
        "bitcoin_daily = pd.read_csv (BITC_BITFINIX_url)\n",
        "bitcoin_daily = bitcoin_daily[['time','open', 'close', 'Volume']]\n",
        "bitcoin_daily = bitcoin_daily.rename(columns={'open': 'BTC_open', 'close': 'BTC_close', 'Volume': 'BTC_vol'})\n",
        "print(len(bitcoin_daily))\n",
        "print(bitcoin_daily.isna().sum())"
      ],
      "execution_count": null,
      "outputs": [
        {
          "output_type": "stream",
          "text": [
            "2677\n",
            "time         0\n",
            "BTC_open     0\n",
            "BTC_close    0\n",
            "BTC_vol      0\n",
            "dtype: int64\n"
          ],
          "name": "stdout"
        }
      ]
    },
    {
      "cell_type": "code",
      "metadata": {
        "id": "ozVawTDFVy09",
        "colab_type": "code",
        "colab": {
          "base_uri": "https://localhost:8080/",
          "height": 123
        },
        "outputId": "363842b3-7a45-426b-8cdf-ee61e61d1b69"
      },
      "source": [
        "ETHERIUM_BITFINIX_url= 'https://raw.githubusercontent.com/DonaldTurton/iLab2/master/Ethereum/BITFINEX_ETHUSD%2C%201D.csv'\n",
        "ethereum_daily = pd.read_csv(ETHERIUM_BITFINIX_url) \n",
        "ethereum_daily = ethereum_daily[['time','open', 'close', 'Volume']]\n",
        "ethereum_daily = ethereum_daily.rename(columns={'open': 'ETHER_open', 'close': 'ETHER_close', 'Volume': 'ETHER_vol'})\n",
        "print(len(ethereum_daily))\n",
        "print(ethereum_daily.isna().sum())"
      ],
      "execution_count": null,
      "outputs": [
        {
          "output_type": "stream",
          "text": [
            "1497\n",
            "time           0\n",
            "ETHER_open     0\n",
            "ETHER_close    0\n",
            "ETHER_vol      0\n",
            "dtype: int64\n"
          ],
          "name": "stdout"
        }
      ]
    },
    {
      "cell_type": "code",
      "metadata": {
        "id": "apMA_vJrV8eN",
        "colab_type": "code",
        "colab": {
          "base_uri": "https://localhost:8080/",
          "height": 123
        },
        "outputId": "bd465571-e123-47f2-ed7f-89b1dc279c18"
      },
      "source": [
        "RIPPLE_BITFINIX_url= 'https://raw.githubusercontent.com/DonaldTurton/iLab2/master/Ripple/BITFINEX_XRPUSD%2C%201D.csv'\n",
        "ripple_daily = pd.read_csv(RIPPLE_BITFINIX_url)\n",
        "ripple_daily = ripple_daily[['time','open', 'close', 'Volume']]\n",
        "ripple_daily = ripple_daily.rename(columns={'open': 'XRP_open', 'close': 'XRP_close', 'Volume': 'XRP_vol'})\n",
        "print(len(ripple_daily))\n",
        "print(ripple_daily.isna().sum())"
      ],
      "execution_count": null,
      "outputs": [
        {
          "output_type": "stream",
          "text": [
            "1176\n",
            "time         0\n",
            "XRP_open     0\n",
            "XRP_close    0\n",
            "XRP_vol      0\n",
            "dtype: int64\n"
          ],
          "name": "stdout"
        }
      ]
    },
    {
      "cell_type": "code",
      "metadata": {
        "id": "OQCu7Y8lWSgA",
        "colab_type": "code",
        "colab": {
          "base_uri": "https://localhost:8080/",
          "height": 197
        },
        "outputId": "119d1c1f-d975-4713-96d0-3c396d3d032d"
      },
      "source": [
        "bit_eth = pd.merge(bitcoin_daily, ethereum_daily, how='left', on=['time'])\n",
        "bit_eth_xrp = pd.merge(bit_eth, ripple_daily, how='left', on=['time'])\n",
        "bit_eth_xrp.head()"
      ],
      "execution_count": null,
      "outputs": [
        {
          "output_type": "execute_result",
          "data": {
            "text/html": [
              "<div>\n",
              "<style scoped>\n",
              "    .dataframe tbody tr th:only-of-type {\n",
              "        vertical-align: middle;\n",
              "    }\n",
              "\n",
              "    .dataframe tbody tr th {\n",
              "        vertical-align: top;\n",
              "    }\n",
              "\n",
              "    .dataframe thead th {\n",
              "        text-align: right;\n",
              "    }\n",
              "</style>\n",
              "<table border=\"1\" class=\"dataframe\">\n",
              "  <thead>\n",
              "    <tr style=\"text-align: right;\">\n",
              "      <th></th>\n",
              "      <th>time</th>\n",
              "      <th>BTC_open</th>\n",
              "      <th>BTC_close</th>\n",
              "      <th>BTC_vol</th>\n",
              "      <th>ETHER_open</th>\n",
              "      <th>ETHER_close</th>\n",
              "      <th>ETHER_vol</th>\n",
              "      <th>XRP_open</th>\n",
              "      <th>XRP_close</th>\n",
              "      <th>XRP_vol</th>\n",
              "    </tr>\n",
              "  </thead>\n",
              "  <tbody>\n",
              "    <tr>\n",
              "      <th>0</th>\n",
              "      <td>2013-03-31T00:00:00Z</td>\n",
              "      <td>93.300000</td>\n",
              "      <td>93.100010</td>\n",
              "      <td>378.155742</td>\n",
              "      <td>NaN</td>\n",
              "      <td>NaN</td>\n",
              "      <td>NaN</td>\n",
              "      <td>NaN</td>\n",
              "      <td>NaN</td>\n",
              "      <td>NaN</td>\n",
              "    </tr>\n",
              "    <tr>\n",
              "      <th>1</th>\n",
              "      <td>2013-04-01T00:00:00Z</td>\n",
              "      <td>93.170000</td>\n",
              "      <td>102.370000</td>\n",
              "      <td>4919.654127</td>\n",
              "      <td>NaN</td>\n",
              "      <td>NaN</td>\n",
              "      <td>NaN</td>\n",
              "      <td>NaN</td>\n",
              "      <td>NaN</td>\n",
              "      <td>NaN</td>\n",
              "    </tr>\n",
              "    <tr>\n",
              "      <th>2</th>\n",
              "      <td>2013-04-02T00:00:00Z</td>\n",
              "      <td>102.800000</td>\n",
              "      <td>117.989990</td>\n",
              "      <td>9084.832816</td>\n",
              "      <td>NaN</td>\n",
              "      <td>NaN</td>\n",
              "      <td>NaN</td>\n",
              "      <td>NaN</td>\n",
              "      <td>NaN</td>\n",
              "      <td>NaN</td>\n",
              "    </tr>\n",
              "    <tr>\n",
              "      <th>3</th>\n",
              "      <td>2013-04-03T00:00:00Z</td>\n",
              "      <td>116.579097</td>\n",
              "      <td>134.952969</td>\n",
              "      <td>12909.402178</td>\n",
              "      <td>NaN</td>\n",
              "      <td>NaN</td>\n",
              "      <td>NaN</td>\n",
              "      <td>NaN</td>\n",
              "      <td>NaN</td>\n",
              "      <td>NaN</td>\n",
              "    </tr>\n",
              "    <tr>\n",
              "      <th>4</th>\n",
              "      <td>2013-04-04T00:00:00Z</td>\n",
              "      <td>131.779686</td>\n",
              "      <td>132.681000</td>\n",
              "      <td>6910.100413</td>\n",
              "      <td>NaN</td>\n",
              "      <td>NaN</td>\n",
              "      <td>NaN</td>\n",
              "      <td>NaN</td>\n",
              "      <td>NaN</td>\n",
              "      <td>NaN</td>\n",
              "    </tr>\n",
              "  </tbody>\n",
              "</table>\n",
              "</div>"
            ],
            "text/plain": [
              "                   time    BTC_open   BTC_close  ...  XRP_open  XRP_close  XRP_vol\n",
              "0  2013-03-31T00:00:00Z   93.300000   93.100010  ...       NaN        NaN      NaN\n",
              "1  2013-04-01T00:00:00Z   93.170000  102.370000  ...       NaN        NaN      NaN\n",
              "2  2013-04-02T00:00:00Z  102.800000  117.989990  ...       NaN        NaN      NaN\n",
              "3  2013-04-03T00:00:00Z  116.579097  134.952969  ...       NaN        NaN      NaN\n",
              "4  2013-04-04T00:00:00Z  131.779686  132.681000  ...       NaN        NaN      NaN\n",
              "\n",
              "[5 rows x 10 columns]"
            ]
          },
          "metadata": {
            "tags": []
          },
          "execution_count": 14
        }
      ]
    },
    {
      "cell_type": "code",
      "metadata": {
        "id": "jgiOXA32vf0j",
        "colab_type": "code",
        "colab": {
          "base_uri": "https://localhost:8080/",
          "height": 227
        },
        "outputId": "13da137d-a485-4f9b-875f-e57ce5acb674"
      },
      "source": [
        "# Convert Date column to Date format.  \n",
        "bit_eth_xrp[\"time\"] = pd.to_datetime(bit_eth_xrp[\"time\"], dayfirst=True )  #, format ='%d/%m/%y', errors='ignore'\n",
        "\n",
        "#Set Date as Index\n",
        "bit_eth_xrp = bit_eth_xrp.set_index('time')#.asfreq('d')"
      ],
      "execution_count": null,
      "outputs": [
        {
          "output_type": "execute_result",
          "data": {
            "text/html": [
              "<div>\n",
              "<style scoped>\n",
              "    .dataframe tbody tr th:only-of-type {\n",
              "        vertical-align: middle;\n",
              "    }\n",
              "\n",
              "    .dataframe tbody tr th {\n",
              "        vertical-align: top;\n",
              "    }\n",
              "\n",
              "    .dataframe thead th {\n",
              "        text-align: right;\n",
              "    }\n",
              "</style>\n",
              "<table border=\"1\" class=\"dataframe\">\n",
              "  <thead>\n",
              "    <tr style=\"text-align: right;\">\n",
              "      <th></th>\n",
              "      <th>BTC_open</th>\n",
              "      <th>BTC_close</th>\n",
              "      <th>BTC_vol</th>\n",
              "      <th>ETHER_open</th>\n",
              "      <th>ETHER_close</th>\n",
              "      <th>ETHER_vol</th>\n",
              "      <th>XRP_open</th>\n",
              "      <th>XRP_close</th>\n",
              "      <th>XRP_vol</th>\n",
              "    </tr>\n",
              "    <tr>\n",
              "      <th>time</th>\n",
              "      <th></th>\n",
              "      <th></th>\n",
              "      <th></th>\n",
              "      <th></th>\n",
              "      <th></th>\n",
              "      <th></th>\n",
              "      <th></th>\n",
              "      <th></th>\n",
              "      <th></th>\n",
              "    </tr>\n",
              "  </thead>\n",
              "  <tbody>\n",
              "    <tr>\n",
              "      <th>2013-03-31 00:00:00+00:00</th>\n",
              "      <td>93.300000</td>\n",
              "      <td>93.100010</td>\n",
              "      <td>378.155742</td>\n",
              "      <td>NaN</td>\n",
              "      <td>NaN</td>\n",
              "      <td>NaN</td>\n",
              "      <td>NaN</td>\n",
              "      <td>NaN</td>\n",
              "      <td>NaN</td>\n",
              "    </tr>\n",
              "    <tr>\n",
              "      <th>2013-04-01 00:00:00+00:00</th>\n",
              "      <td>93.170000</td>\n",
              "      <td>102.370000</td>\n",
              "      <td>4919.654127</td>\n",
              "      <td>NaN</td>\n",
              "      <td>NaN</td>\n",
              "      <td>NaN</td>\n",
              "      <td>NaN</td>\n",
              "      <td>NaN</td>\n",
              "      <td>NaN</td>\n",
              "    </tr>\n",
              "    <tr>\n",
              "      <th>2013-04-02 00:00:00+00:00</th>\n",
              "      <td>102.800000</td>\n",
              "      <td>117.989990</td>\n",
              "      <td>9084.832816</td>\n",
              "      <td>NaN</td>\n",
              "      <td>NaN</td>\n",
              "      <td>NaN</td>\n",
              "      <td>NaN</td>\n",
              "      <td>NaN</td>\n",
              "      <td>NaN</td>\n",
              "    </tr>\n",
              "    <tr>\n",
              "      <th>2013-04-03 00:00:00+00:00</th>\n",
              "      <td>116.579097</td>\n",
              "      <td>134.952969</td>\n",
              "      <td>12909.402178</td>\n",
              "      <td>NaN</td>\n",
              "      <td>NaN</td>\n",
              "      <td>NaN</td>\n",
              "      <td>NaN</td>\n",
              "      <td>NaN</td>\n",
              "      <td>NaN</td>\n",
              "    </tr>\n",
              "    <tr>\n",
              "      <th>2013-04-04 00:00:00+00:00</th>\n",
              "      <td>131.779686</td>\n",
              "      <td>132.681000</td>\n",
              "      <td>6910.100413</td>\n",
              "      <td>NaN</td>\n",
              "      <td>NaN</td>\n",
              "      <td>NaN</td>\n",
              "      <td>NaN</td>\n",
              "      <td>NaN</td>\n",
              "      <td>NaN</td>\n",
              "    </tr>\n",
              "  </tbody>\n",
              "</table>\n",
              "</div>"
            ],
            "text/plain": [
              "                             BTC_open   BTC_close  ...  XRP_close  XRP_vol\n",
              "time                                               ...                    \n",
              "2013-03-31 00:00:00+00:00   93.300000   93.100010  ...        NaN      NaN\n",
              "2013-04-01 00:00:00+00:00   93.170000  102.370000  ...        NaN      NaN\n",
              "2013-04-02 00:00:00+00:00  102.800000  117.989990  ...        NaN      NaN\n",
              "2013-04-03 00:00:00+00:00  116.579097  134.952969  ...        NaN      NaN\n",
              "2013-04-04 00:00:00+00:00  131.779686  132.681000  ...        NaN      NaN\n",
              "\n",
              "[5 rows x 9 columns]"
            ]
          },
          "metadata": {
            "tags": []
          },
          "execution_count": 15
        }
      ]
    },
    {
      "cell_type": "code",
      "metadata": {
        "id": "U3GynbvPZMzq",
        "colab_type": "code",
        "colab": {
          "base_uri": "https://localhost:8080/",
          "height": 34
        },
        "outputId": "fc61d180-2331-4688-8df9-c352a0e16871"
      },
      "source": [
        "#Drop NA \n",
        "bit_eth_xrp = bit_eth_xrp.dropna()\n",
        "len(bit_eth_xrp) #1,174 observations after removing NA"
      ],
      "execution_count": null,
      "outputs": [
        {
          "output_type": "execute_result",
          "data": {
            "text/plain": [
              "1174"
            ]
          },
          "metadata": {
            "tags": []
          },
          "execution_count": 16
        }
      ]
    },
    {
      "cell_type": "code",
      "metadata": {
        "id": "rCQL527GakKk",
        "colab_type": "code",
        "colab": {
          "base_uri": "https://localhost:8080/",
          "height": 227
        },
        "outputId": "def1c324-1714-428f-f851-0a5c566d5a1e"
      },
      "source": [
        "bit_eth_xrp.head()"
      ],
      "execution_count": null,
      "outputs": [
        {
          "output_type": "execute_result",
          "data": {
            "text/html": [
              "<div>\n",
              "<style scoped>\n",
              "    .dataframe tbody tr th:only-of-type {\n",
              "        vertical-align: middle;\n",
              "    }\n",
              "\n",
              "    .dataframe tbody tr th {\n",
              "        vertical-align: top;\n",
              "    }\n",
              "\n",
              "    .dataframe thead th {\n",
              "        text-align: right;\n",
              "    }\n",
              "</style>\n",
              "<table border=\"1\" class=\"dataframe\">\n",
              "  <thead>\n",
              "    <tr style=\"text-align: right;\">\n",
              "      <th></th>\n",
              "      <th>BTC_open</th>\n",
              "      <th>BTC_close</th>\n",
              "      <th>BTC_vol</th>\n",
              "      <th>ETHER_open</th>\n",
              "      <th>ETHER_close</th>\n",
              "      <th>ETHER_vol</th>\n",
              "      <th>XRP_open</th>\n",
              "      <th>XRP_close</th>\n",
              "      <th>XRP_vol</th>\n",
              "    </tr>\n",
              "    <tr>\n",
              "      <th>time</th>\n",
              "      <th></th>\n",
              "      <th></th>\n",
              "      <th></th>\n",
              "      <th></th>\n",
              "      <th></th>\n",
              "      <th></th>\n",
              "      <th></th>\n",
              "      <th></th>\n",
              "      <th></th>\n",
              "    </tr>\n",
              "  </thead>\n",
              "  <tbody>\n",
              "    <tr>\n",
              "      <th>2017-05-19 00:00:00+00:00</th>\n",
              "      <td>1941.9</td>\n",
              "      <td>1966.5</td>\n",
              "      <td>23001.542773</td>\n",
              "      <td>98.55</td>\n",
              "      <td>124.40</td>\n",
              "      <td>257956.362939</td>\n",
              "      <td>0.37999</td>\n",
              "      <td>0.32498</td>\n",
              "      <td>2.130933e+06</td>\n",
              "    </tr>\n",
              "    <tr>\n",
              "      <th>2017-05-20 00:00:00+00:00</th>\n",
              "      <td>1966.5</td>\n",
              "      <td>2059.3</td>\n",
              "      <td>21690.022393</td>\n",
              "      <td>124.49</td>\n",
              "      <td>123.03</td>\n",
              "      <td>122882.371427</td>\n",
              "      <td>0.32499</td>\n",
              "      <td>0.34716</td>\n",
              "      <td>3.608873e+06</td>\n",
              "    </tr>\n",
              "    <tr>\n",
              "      <th>2017-05-21 00:00:00+00:00</th>\n",
              "      <td>2059.3</td>\n",
              "      <td>2026.6</td>\n",
              "      <td>17221.878675</td>\n",
              "      <td>123.49</td>\n",
              "      <td>146.14</td>\n",
              "      <td>220184.308469</td>\n",
              "      <td>0.34700</td>\n",
              "      <td>0.32700</td>\n",
              "      <td>2.597807e+06</td>\n",
              "    </tr>\n",
              "    <tr>\n",
              "      <th>2017-05-22 00:00:00+00:00</th>\n",
              "      <td>2027.0</td>\n",
              "      <td>2087.3</td>\n",
              "      <td>57231.824243</td>\n",
              "      <td>146.14</td>\n",
              "      <td>154.92</td>\n",
              "      <td>473706.454399</td>\n",
              "      <td>0.32700</td>\n",
              "      <td>0.29717</td>\n",
              "      <td>6.474949e+06</td>\n",
              "    </tr>\n",
              "    <tr>\n",
              "      <th>2017-05-23 00:00:00+00:00</th>\n",
              "      <td>2087.3</td>\n",
              "      <td>2249.6</td>\n",
              "      <td>22521.559138</td>\n",
              "      <td>155.16</td>\n",
              "      <td>168.24</td>\n",
              "      <td>144988.858583</td>\n",
              "      <td>0.29912</td>\n",
              "      <td>0.32158</td>\n",
              "      <td>3.255225e+06</td>\n",
              "    </tr>\n",
              "  </tbody>\n",
              "</table>\n",
              "</div>"
            ],
            "text/plain": [
              "                           BTC_open  BTC_close  ...  XRP_close       XRP_vol\n",
              "time                                            ...                         \n",
              "2017-05-19 00:00:00+00:00    1941.9     1966.5  ...    0.32498  2.130933e+06\n",
              "2017-05-20 00:00:00+00:00    1966.5     2059.3  ...    0.34716  3.608873e+06\n",
              "2017-05-21 00:00:00+00:00    2059.3     2026.6  ...    0.32700  2.597807e+06\n",
              "2017-05-22 00:00:00+00:00    2027.0     2087.3  ...    0.29717  6.474949e+06\n",
              "2017-05-23 00:00:00+00:00    2087.3     2249.6  ...    0.32158  3.255225e+06\n",
              "\n",
              "[5 rows x 9 columns]"
            ]
          },
          "metadata": {
            "tags": []
          },
          "execution_count": 17
        }
      ]
    },
    {
      "cell_type": "markdown",
      "metadata": {
        "id": "exfLzZlkRs6U",
        "colab_type": "text"
      },
      "source": [
        "##Theter Daily BITSTAMP exchange "
      ]
    },
    {
      "cell_type": "code",
      "metadata": {
        "id": "rkIqP5RORsBN",
        "colab_type": "code",
        "colab": {
          "base_uri": "https://localhost:8080/",
          "height": 123
        },
        "outputId": "65dd1853-ee0b-4572-e729-85b7b4cc1375"
      },
      "source": [
        "USDT_url = \"https://raw.githubusercontent.com/DonaldTurton/iLab2/master/Thether/KRAKEN_USDTUSD%2C%201D.csv\"\n",
        "theter_daily = pd.read_csv (USDT_url)\n",
        "theter_daily = theter_daily[['time','open', 'close', 'Volume']]\n",
        "theter_daily = theter_daily.rename(columns={'open': 'USDT_open', 'close': 'USDT_close', 'Volume': 'USDT_vol'})\n",
        "print(len(theter_daily))\n",
        "print(theter_daily.isna().sum())"
      ],
      "execution_count": null,
      "outputs": [
        {
          "output_type": "stream",
          "text": [
            "1266\n",
            "time          0\n",
            "USDT_open     0\n",
            "USDT_close    0\n",
            "USDT_vol      0\n",
            "dtype: int64\n"
          ],
          "name": "stdout"
        }
      ]
    },
    {
      "cell_type": "markdown",
      "metadata": {
        "id": "XlZdzNW_vymq",
        "colab_type": "text"
      },
      "source": [
        "##Bitcoin cash BITSTAMP exchange "
      ]
    },
    {
      "cell_type": "code",
      "metadata": {
        "id": "jzJ-RM6SULr0",
        "colab_type": "code",
        "colab": {
          "base_uri": "https://localhost:8080/",
          "height": 123
        },
        "outputId": "9defeb03-aeaf-4a3f-8995-e4ae5c0aad29"
      },
      "source": [
        "BCH_Bitstamp_url = \"https://raw.githubusercontent.com/DonaldTurton/iLab2/master/Bitcoin%20Cash/BITSTAMP_BCHUSD%2C%201D.csv\"\n",
        "bitcash_daily = pd.read_csv (BCH_Bitstamp_url)\n",
        "bitcash_daily = bitcash_daily[['time','open', 'close', 'Volume']]\n",
        "bitcash_daily = bitcash_daily.rename(columns={'open': 'BCH_open', 'close': 'BCH_close', 'Volume': 'BCH_vol'})\n",
        "print(len(bitcash_daily))\n",
        "print(bitcash_daily.isna().sum())"
      ],
      "execution_count": null,
      "outputs": [
        {
          "output_type": "stream",
          "text": [
            "1002\n",
            "time         0\n",
            "BCH_open     0\n",
            "BCH_close    0\n",
            "BCH_vol      0\n",
            "dtype: int64\n"
          ],
          "name": "stdout"
        }
      ]
    },
    {
      "cell_type": "markdown",
      "metadata": {
        "id": "CzVFLxHev2Y2",
        "colab_type": "text"
      },
      "source": [
        "##Litecoin Daily BITFNIX exchange "
      ]
    },
    {
      "cell_type": "code",
      "metadata": {
        "id": "pko7K5V2dEiI",
        "colab_type": "code",
        "colab": {
          "base_uri": "https://localhost:8080/",
          "height": 123
        },
        "outputId": "356234bc-12db-48b2-96c8-cd38207fe735"
      },
      "source": [
        "LTC_Bitfinix_url = \"https://raw.githubusercontent.com/DonaldTurton/iLab2/master/Litecoin/BITFINEX_LTCUSD%2C%201D%20(1).csv\"\n",
        "LTC_daily = pd.read_csv (LTC_Bitfinix_url)\n",
        "LTC_daily = LTC_daily[['time','open', 'close', 'Volume']]\n",
        "LTC_daily = LTC_daily.rename(columns={'open': 'LTC_open', 'close': 'LTC_close', 'Volume': 'LTC_vol'})\n",
        "print(len(LTC_daily))\n",
        "print(LTC_daily.isna().sum())"
      ],
      "execution_count": null,
      "outputs": [
        {
          "output_type": "stream",
          "text": [
            "2647\n",
            "time         0\n",
            "LTC_open     0\n",
            "LTC_close    0\n",
            "LTC_vol      0\n",
            "dtype: int64\n"
          ],
          "name": "stdout"
        }
      ]
    },
    {
      "cell_type": "markdown",
      "metadata": {
        "id": "FQPHOpz3v6AW",
        "colab_type": "text"
      },
      "source": [
        "##ChainLink from BINANCE exchange "
      ]
    },
    {
      "cell_type": "code",
      "metadata": {
        "id": "3Y-20wwGugOg",
        "colab_type": "code",
        "colab": {
          "base_uri": "https://localhost:8080/",
          "height": 123
        },
        "outputId": "b0ed7cfa-adb6-48b3-8a53-d4b15b3060d1"
      },
      "source": [
        "LINK_Binance_url = \"https://raw.githubusercontent.com/DonaldTurton/iLab2/master/Chainlink/BINANCE_LINKUSDT%2C%201D.csv\"\n",
        "LINK_daily = pd.read_csv (LINK_Binance_url)\n",
        "LINK_daily = LINK_daily[['time','open', 'close', 'Volume']]\n",
        "LINK_daily = LINK_daily.rename(columns={'open': 'LINK_open', 'close': 'LINK_close', 'Volume': 'LINK_vol'})\n",
        "print(len(LINK_daily))\n",
        "print(LINK_daily.isna().sum())"
      ],
      "execution_count": null,
      "outputs": [
        {
          "output_type": "stream",
          "text": [
            "594\n",
            "time          0\n",
            "LINK_open     0\n",
            "LINK_close    0\n",
            "LINK_vol      0\n",
            "dtype: int64\n"
          ],
          "name": "stdout"
        }
      ]
    },
    {
      "cell_type": "markdown",
      "metadata": {
        "id": "gDGuj4-wv--N",
        "colab_type": "text"
      },
      "source": [
        "### Merge Data Sets (USDT, BCH, LTC, LINK)"
      ]
    },
    {
      "cell_type": "code",
      "metadata": {
        "id": "EfjAW-nKrSyh",
        "colab_type": "code",
        "colab": {
          "base_uri": "https://localhost:8080/",
          "height": 197
        },
        "outputId": "d675add8-5d58-4cc5-adba-9be18dac4867"
      },
      "source": [
        "usdt_bch = pd.merge(theter_daily, bitcash_daily, how='left', on=['time'])\n",
        "usdt_bch_ltc = pd.merge(usdt_bch, LTC_daily, how='left', on=['time'])\n",
        "usdt_bch_ltc.head()"
      ],
      "execution_count": null,
      "outputs": [
        {
          "output_type": "execute_result",
          "data": {
            "text/html": [
              "<div>\n",
              "<style scoped>\n",
              "    .dataframe tbody tr th:only-of-type {\n",
              "        vertical-align: middle;\n",
              "    }\n",
              "\n",
              "    .dataframe tbody tr th {\n",
              "        vertical-align: top;\n",
              "    }\n",
              "\n",
              "    .dataframe thead th {\n",
              "        text-align: right;\n",
              "    }\n",
              "</style>\n",
              "<table border=\"1\" class=\"dataframe\">\n",
              "  <thead>\n",
              "    <tr style=\"text-align: right;\">\n",
              "      <th></th>\n",
              "      <th>time</th>\n",
              "      <th>USDT_open</th>\n",
              "      <th>USDT_close</th>\n",
              "      <th>USDT_vol</th>\n",
              "      <th>BCH_open</th>\n",
              "      <th>BCH_close</th>\n",
              "      <th>BCH_vol</th>\n",
              "      <th>LTC_open</th>\n",
              "      <th>LTC_close</th>\n",
              "      <th>LTC_vol</th>\n",
              "    </tr>\n",
              "  </thead>\n",
              "  <tbody>\n",
              "    <tr>\n",
              "      <th>0</th>\n",
              "      <td>2017-03-29T00:00:00Z</td>\n",
              "      <td>1.0000</td>\n",
              "      <td>0.9991</td>\n",
              "      <td>70301.420000</td>\n",
              "      <td>NaN</td>\n",
              "      <td>NaN</td>\n",
              "      <td>NaN</td>\n",
              "      <td>4.1830</td>\n",
              "      <td>4.3060</td>\n",
              "      <td>7.892983e+04</td>\n",
              "    </tr>\n",
              "    <tr>\n",
              "      <th>1</th>\n",
              "      <td>2017-03-30T00:00:00Z</td>\n",
              "      <td>1.0000</td>\n",
              "      <td>0.9990</td>\n",
              "      <td>211282.386609</td>\n",
              "      <td>NaN</td>\n",
              "      <td>NaN</td>\n",
              "      <td>NaN</td>\n",
              "      <td>4.3186</td>\n",
              "      <td>7.7800</td>\n",
              "      <td>1.535658e+06</td>\n",
              "    </tr>\n",
              "    <tr>\n",
              "      <th>2</th>\n",
              "      <td>2017-03-31T00:00:00Z</td>\n",
              "      <td>1.0004</td>\n",
              "      <td>1.0009</td>\n",
              "      <td>712855.285722</td>\n",
              "      <td>NaN</td>\n",
              "      <td>NaN</td>\n",
              "      <td>NaN</td>\n",
              "      <td>7.7800</td>\n",
              "      <td>7.1300</td>\n",
              "      <td>7.369446e+05</td>\n",
              "    </tr>\n",
              "    <tr>\n",
              "      <th>3</th>\n",
              "      <td>2017-04-01T00:00:00Z</td>\n",
              "      <td>1.0009</td>\n",
              "      <td>0.9983</td>\n",
              "      <td>634403.260570</td>\n",
              "      <td>NaN</td>\n",
              "      <td>NaN</td>\n",
              "      <td>NaN</td>\n",
              "      <td>7.0901</td>\n",
              "      <td>7.5874</td>\n",
              "      <td>4.294546e+05</td>\n",
              "    </tr>\n",
              "    <tr>\n",
              "      <th>4</th>\n",
              "      <td>2017-04-02T00:00:00Z</td>\n",
              "      <td>0.9983</td>\n",
              "      <td>1.0008</td>\n",
              "      <td>881231.832307</td>\n",
              "      <td>NaN</td>\n",
              "      <td>NaN</td>\n",
              "      <td>NaN</td>\n",
              "      <td>7.5410</td>\n",
              "      <td>8.3330</td>\n",
              "      <td>7.839697e+05</td>\n",
              "    </tr>\n",
              "  </tbody>\n",
              "</table>\n",
              "</div>"
            ],
            "text/plain": [
              "                   time  USDT_open  ...  LTC_close       LTC_vol\n",
              "0  2017-03-29T00:00:00Z     1.0000  ...     4.3060  7.892983e+04\n",
              "1  2017-03-30T00:00:00Z     1.0000  ...     7.7800  1.535658e+06\n",
              "2  2017-03-31T00:00:00Z     1.0004  ...     7.1300  7.369446e+05\n",
              "3  2017-04-01T00:00:00Z     1.0009  ...     7.5874  4.294546e+05\n",
              "4  2017-04-02T00:00:00Z     0.9983  ...     8.3330  7.839697e+05\n",
              "\n",
              "[5 rows x 10 columns]"
            ]
          },
          "metadata": {
            "tags": []
          },
          "execution_count": 26
        }
      ]
    },
    {
      "cell_type": "code",
      "metadata": {
        "id": "_mLuWgLsryQK",
        "colab_type": "code",
        "colab": {}
      },
      "source": [
        "# Convert Date column to Date format.  \n",
        "usdt_bch_ltc[\"time\"] = pd.to_datetime(usdt_bch_ltc[\"time\"], dayfirst=True )  #, format ='%d/%m/%y', errors='ignore'\n",
        "\n",
        "#Set Date as Index\n",
        "usdt_bch_ltc = usdt_bch_ltc.set_index('time')#.asfreq('d')"
      ],
      "execution_count": null,
      "outputs": []
    },
    {
      "cell_type": "code",
      "metadata": {
        "id": "gqUpuhcvsAa-",
        "colab_type": "code",
        "colab": {
          "base_uri": "https://localhost:8080/",
          "height": 34
        },
        "outputId": "74c83678-f399-4962-edde-b8b7533ddbdf"
      },
      "source": [
        "#Drop NA \n",
        "usdt_bch_ltc = usdt_bch_ltc.dropna()\n",
        "len(usdt_bch_ltc) #1,002 observations after removing NA"
      ],
      "execution_count": null,
      "outputs": [
        {
          "output_type": "execute_result",
          "data": {
            "text/plain": [
              "1002"
            ]
          },
          "metadata": {
            "tags": []
          },
          "execution_count": 31
        }
      ]
    },
    {
      "cell_type": "code",
      "metadata": {
        "id": "V-D6oyj1sGc0",
        "colab_type": "code",
        "colab": {
          "base_uri": "https://localhost:8080/",
          "height": 436
        },
        "outputId": "20ccb88a-34fe-4562-8be1-f92807d3b3a3"
      },
      "source": [
        "usdt_bch_ltc"
      ],
      "execution_count": null,
      "outputs": [
        {
          "output_type": "execute_result",
          "data": {
            "text/html": [
              "<div>\n",
              "<style scoped>\n",
              "    .dataframe tbody tr th:only-of-type {\n",
              "        vertical-align: middle;\n",
              "    }\n",
              "\n",
              "    .dataframe tbody tr th {\n",
              "        vertical-align: top;\n",
              "    }\n",
              "\n",
              "    .dataframe thead th {\n",
              "        text-align: right;\n",
              "    }\n",
              "</style>\n",
              "<table border=\"1\" class=\"dataframe\">\n",
              "  <thead>\n",
              "    <tr style=\"text-align: right;\">\n",
              "      <th></th>\n",
              "      <th>USDT_open</th>\n",
              "      <th>USDT_close</th>\n",
              "      <th>USDT_vol</th>\n",
              "      <th>BCH_open</th>\n",
              "      <th>BCH_close</th>\n",
              "      <th>BCH_vol</th>\n",
              "      <th>LTC_open</th>\n",
              "      <th>LTC_close</th>\n",
              "      <th>LTC_vol</th>\n",
              "    </tr>\n",
              "    <tr>\n",
              "      <th>time</th>\n",
              "      <th></th>\n",
              "      <th></th>\n",
              "      <th></th>\n",
              "      <th></th>\n",
              "      <th></th>\n",
              "      <th></th>\n",
              "      <th></th>\n",
              "      <th></th>\n",
              "      <th></th>\n",
              "    </tr>\n",
              "  </thead>\n",
              "  <tbody>\n",
              "    <tr>\n",
              "      <th>2017-12-04 00:00:00+00:00</th>\n",
              "      <td>0.9977</td>\n",
              "      <td>1.0020</td>\n",
              "      <td>2.913128e+06</td>\n",
              "      <td>1500.00</td>\n",
              "      <td>1500.00</td>\n",
              "      <td>0.003500</td>\n",
              "      <td>99.988</td>\n",
              "      <td>103.420</td>\n",
              "      <td>3.055461e+05</td>\n",
              "    </tr>\n",
              "    <tr>\n",
              "      <th>2017-12-05 00:00:00+00:00</th>\n",
              "      <td>1.0039</td>\n",
              "      <td>1.0000</td>\n",
              "      <td>1.744146e+06</td>\n",
              "      <td>1520.00</td>\n",
              "      <td>1438.53</td>\n",
              "      <td>1584.311332</td>\n",
              "      <td>103.420</td>\n",
              "      <td>99.487</td>\n",
              "      <td>3.095707e+05</td>\n",
              "    </tr>\n",
              "    <tr>\n",
              "      <th>2017-12-06 00:00:00+00:00</th>\n",
              "      <td>0.9998</td>\n",
              "      <td>1.0117</td>\n",
              "      <td>2.482851e+06</td>\n",
              "      <td>1430.30</td>\n",
              "      <td>1334.19</td>\n",
              "      <td>4298.190299</td>\n",
              "      <td>99.488</td>\n",
              "      <td>96.513</td>\n",
              "      <td>4.537027e+05</td>\n",
              "    </tr>\n",
              "    <tr>\n",
              "      <th>2017-12-07 00:00:00+00:00</th>\n",
              "      <td>1.0119</td>\n",
              "      <td>1.0140</td>\n",
              "      <td>1.750631e+06</td>\n",
              "      <td>1336.21</td>\n",
              "      <td>1230.09</td>\n",
              "      <td>2715.167819</td>\n",
              "      <td>96.441</td>\n",
              "      <td>93.560</td>\n",
              "      <td>4.015128e+05</td>\n",
              "    </tr>\n",
              "    <tr>\n",
              "      <th>2017-12-08 00:00:00+00:00</th>\n",
              "      <td>1.0250</td>\n",
              "      <td>1.0067</td>\n",
              "      <td>6.312278e+05</td>\n",
              "      <td>1227.00</td>\n",
              "      <td>1380.00</td>\n",
              "      <td>6037.355016</td>\n",
              "      <td>93.502</td>\n",
              "      <td>120.900</td>\n",
              "      <td>1.194805e+06</td>\n",
              "    </tr>\n",
              "    <tr>\n",
              "      <th>...</th>\n",
              "      <td>...</td>\n",
              "      <td>...</td>\n",
              "      <td>...</td>\n",
              "      <td>...</td>\n",
              "      <td>...</td>\n",
              "      <td>...</td>\n",
              "      <td>...</td>\n",
              "      <td>...</td>\n",
              "      <td>...</td>\n",
              "    </tr>\n",
              "    <tr>\n",
              "      <th>2020-08-27 00:00:00+00:00</th>\n",
              "      <td>1.0003</td>\n",
              "      <td>1.0004</td>\n",
              "      <td>1.754607e+07</td>\n",
              "      <td>275.91</td>\n",
              "      <td>264.79</td>\n",
              "      <td>7336.073893</td>\n",
              "      <td>58.150</td>\n",
              "      <td>56.181</td>\n",
              "      <td>6.223681e+04</td>\n",
              "    </tr>\n",
              "    <tr>\n",
              "      <th>2020-08-28 00:00:00+00:00</th>\n",
              "      <td>1.0004</td>\n",
              "      <td>1.0006</td>\n",
              "      <td>1.280431e+07</td>\n",
              "      <td>263.24</td>\n",
              "      <td>268.33</td>\n",
              "      <td>3962.880627</td>\n",
              "      <td>56.181</td>\n",
              "      <td>57.512</td>\n",
              "      <td>2.481438e+04</td>\n",
              "    </tr>\n",
              "    <tr>\n",
              "      <th>2020-08-29 00:00:00+00:00</th>\n",
              "      <td>1.0006</td>\n",
              "      <td>1.0003</td>\n",
              "      <td>7.470586e+06</td>\n",
              "      <td>268.61</td>\n",
              "      <td>268.44</td>\n",
              "      <td>2373.011472</td>\n",
              "      <td>57.497</td>\n",
              "      <td>57.065</td>\n",
              "      <td>1.616494e+04</td>\n",
              "    </tr>\n",
              "    <tr>\n",
              "      <th>2020-08-30 00:00:00+00:00</th>\n",
              "      <td>1.0004</td>\n",
              "      <td>1.0001</td>\n",
              "      <td>6.992666e+06</td>\n",
              "      <td>268.00</td>\n",
              "      <td>279.31</td>\n",
              "      <td>2648.754263</td>\n",
              "      <td>57.032</td>\n",
              "      <td>63.018</td>\n",
              "      <td>1.102947e+05</td>\n",
              "    </tr>\n",
              "    <tr>\n",
              "      <th>2020-08-31 00:00:00+00:00</th>\n",
              "      <td>1.0001</td>\n",
              "      <td>1.0002</td>\n",
              "      <td>1.790266e+07</td>\n",
              "      <td>279.49</td>\n",
              "      <td>276.92</td>\n",
              "      <td>770.433442</td>\n",
              "      <td>63.019</td>\n",
              "      <td>62.786</td>\n",
              "      <td>2.673725e+04</td>\n",
              "    </tr>\n",
              "  </tbody>\n",
              "</table>\n",
              "<p>1002 rows × 9 columns</p>\n",
              "</div>"
            ],
            "text/plain": [
              "                           USDT_open  USDT_close  ...  LTC_close       LTC_vol\n",
              "time                                              ...                         \n",
              "2017-12-04 00:00:00+00:00     0.9977      1.0020  ...    103.420  3.055461e+05\n",
              "2017-12-05 00:00:00+00:00     1.0039      1.0000  ...     99.487  3.095707e+05\n",
              "2017-12-06 00:00:00+00:00     0.9998      1.0117  ...     96.513  4.537027e+05\n",
              "2017-12-07 00:00:00+00:00     1.0119      1.0140  ...     93.560  4.015128e+05\n",
              "2017-12-08 00:00:00+00:00     1.0250      1.0067  ...    120.900  1.194805e+06\n",
              "...                              ...         ...  ...        ...           ...\n",
              "2020-08-27 00:00:00+00:00     1.0003      1.0004  ...     56.181  6.223681e+04\n",
              "2020-08-28 00:00:00+00:00     1.0004      1.0006  ...     57.512  2.481438e+04\n",
              "2020-08-29 00:00:00+00:00     1.0006      1.0003  ...     57.065  1.616494e+04\n",
              "2020-08-30 00:00:00+00:00     1.0004      1.0001  ...     63.018  1.102947e+05\n",
              "2020-08-31 00:00:00+00:00     1.0001      1.0002  ...     62.786  2.673725e+04\n",
              "\n",
              "[1002 rows x 9 columns]"
            ]
          },
          "metadata": {
            "tags": []
          },
          "execution_count": 32
        }
      ]
    },
    {
      "cell_type": "markdown",
      "metadata": {
        "id": "fCG6-EUrthky",
        "colab_type": "text"
      },
      "source": [
        "## Daily Data Set"
      ]
    },
    {
      "cell_type": "code",
      "metadata": {
        "id": "ejdSmVg8tc61",
        "colab_type": "code",
        "colab": {
          "base_uri": "https://localhost:8080/",
          "height": 331
        },
        "outputId": "9a577ebc-5af7-4df7-bcf6-4487811126ac"
      },
      "source": [
        "Daily_Data = pd.merge(bit_eth_xrp, usdt_bch_ltc, how='left', on=['time'])\n",
        "Daily_Data.head()"
      ],
      "execution_count": null,
      "outputs": [
        {
          "output_type": "execute_result",
          "data": {
            "text/html": [
              "<div>\n",
              "<style scoped>\n",
              "    .dataframe tbody tr th:only-of-type {\n",
              "        vertical-align: middle;\n",
              "    }\n",
              "\n",
              "    .dataframe tbody tr th {\n",
              "        vertical-align: top;\n",
              "    }\n",
              "\n",
              "    .dataframe thead th {\n",
              "        text-align: right;\n",
              "    }\n",
              "</style>\n",
              "<table border=\"1\" class=\"dataframe\">\n",
              "  <thead>\n",
              "    <tr style=\"text-align: right;\">\n",
              "      <th></th>\n",
              "      <th>BTC_open</th>\n",
              "      <th>BTC_close</th>\n",
              "      <th>BTC_vol</th>\n",
              "      <th>ETHER_open</th>\n",
              "      <th>ETHER_close</th>\n",
              "      <th>ETHER_vol</th>\n",
              "      <th>XRP_open</th>\n",
              "      <th>XRP_close</th>\n",
              "      <th>XRP_vol</th>\n",
              "      <th>USDT_open</th>\n",
              "      <th>USDT_close</th>\n",
              "      <th>USDT_vol</th>\n",
              "      <th>BCH_open</th>\n",
              "      <th>BCH_close</th>\n",
              "      <th>BCH_vol</th>\n",
              "      <th>LTC_open</th>\n",
              "      <th>LTC_close</th>\n",
              "      <th>LTC_vol</th>\n",
              "    </tr>\n",
              "    <tr>\n",
              "      <th>time</th>\n",
              "      <th></th>\n",
              "      <th></th>\n",
              "      <th></th>\n",
              "      <th></th>\n",
              "      <th></th>\n",
              "      <th></th>\n",
              "      <th></th>\n",
              "      <th></th>\n",
              "      <th></th>\n",
              "      <th></th>\n",
              "      <th></th>\n",
              "      <th></th>\n",
              "      <th></th>\n",
              "      <th></th>\n",
              "      <th></th>\n",
              "      <th></th>\n",
              "      <th></th>\n",
              "      <th></th>\n",
              "    </tr>\n",
              "  </thead>\n",
              "  <tbody>\n",
              "    <tr>\n",
              "      <th>2017-05-19 00:00:00+00:00</th>\n",
              "      <td>1941.9</td>\n",
              "      <td>1966.5</td>\n",
              "      <td>23001.542773</td>\n",
              "      <td>98.55</td>\n",
              "      <td>124.40</td>\n",
              "      <td>257956.362939</td>\n",
              "      <td>0.37999</td>\n",
              "      <td>0.32498</td>\n",
              "      <td>2.130933e+06</td>\n",
              "      <td>NaN</td>\n",
              "      <td>NaN</td>\n",
              "      <td>NaN</td>\n",
              "      <td>NaN</td>\n",
              "      <td>NaN</td>\n",
              "      <td>NaN</td>\n",
              "      <td>NaN</td>\n",
              "      <td>NaN</td>\n",
              "      <td>NaN</td>\n",
              "    </tr>\n",
              "    <tr>\n",
              "      <th>2017-05-20 00:00:00+00:00</th>\n",
              "      <td>1966.5</td>\n",
              "      <td>2059.3</td>\n",
              "      <td>21690.022393</td>\n",
              "      <td>124.49</td>\n",
              "      <td>123.03</td>\n",
              "      <td>122882.371427</td>\n",
              "      <td>0.32499</td>\n",
              "      <td>0.34716</td>\n",
              "      <td>3.608873e+06</td>\n",
              "      <td>NaN</td>\n",
              "      <td>NaN</td>\n",
              "      <td>NaN</td>\n",
              "      <td>NaN</td>\n",
              "      <td>NaN</td>\n",
              "      <td>NaN</td>\n",
              "      <td>NaN</td>\n",
              "      <td>NaN</td>\n",
              "      <td>NaN</td>\n",
              "    </tr>\n",
              "    <tr>\n",
              "      <th>2017-05-21 00:00:00+00:00</th>\n",
              "      <td>2059.3</td>\n",
              "      <td>2026.6</td>\n",
              "      <td>17221.878675</td>\n",
              "      <td>123.49</td>\n",
              "      <td>146.14</td>\n",
              "      <td>220184.308469</td>\n",
              "      <td>0.34700</td>\n",
              "      <td>0.32700</td>\n",
              "      <td>2.597807e+06</td>\n",
              "      <td>NaN</td>\n",
              "      <td>NaN</td>\n",
              "      <td>NaN</td>\n",
              "      <td>NaN</td>\n",
              "      <td>NaN</td>\n",
              "      <td>NaN</td>\n",
              "      <td>NaN</td>\n",
              "      <td>NaN</td>\n",
              "      <td>NaN</td>\n",
              "    </tr>\n",
              "    <tr>\n",
              "      <th>2017-05-22 00:00:00+00:00</th>\n",
              "      <td>2027.0</td>\n",
              "      <td>2087.3</td>\n",
              "      <td>57231.824243</td>\n",
              "      <td>146.14</td>\n",
              "      <td>154.92</td>\n",
              "      <td>473706.454399</td>\n",
              "      <td>0.32700</td>\n",
              "      <td>0.29717</td>\n",
              "      <td>6.474949e+06</td>\n",
              "      <td>NaN</td>\n",
              "      <td>NaN</td>\n",
              "      <td>NaN</td>\n",
              "      <td>NaN</td>\n",
              "      <td>NaN</td>\n",
              "      <td>NaN</td>\n",
              "      <td>NaN</td>\n",
              "      <td>NaN</td>\n",
              "      <td>NaN</td>\n",
              "    </tr>\n",
              "    <tr>\n",
              "      <th>2017-05-23 00:00:00+00:00</th>\n",
              "      <td>2087.3</td>\n",
              "      <td>2249.6</td>\n",
              "      <td>22521.559138</td>\n",
              "      <td>155.16</td>\n",
              "      <td>168.24</td>\n",
              "      <td>144988.858583</td>\n",
              "      <td>0.29912</td>\n",
              "      <td>0.32158</td>\n",
              "      <td>3.255225e+06</td>\n",
              "      <td>NaN</td>\n",
              "      <td>NaN</td>\n",
              "      <td>NaN</td>\n",
              "      <td>NaN</td>\n",
              "      <td>NaN</td>\n",
              "      <td>NaN</td>\n",
              "      <td>NaN</td>\n",
              "      <td>NaN</td>\n",
              "      <td>NaN</td>\n",
              "    </tr>\n",
              "  </tbody>\n",
              "</table>\n",
              "</div>"
            ],
            "text/plain": [
              "                           BTC_open  BTC_close  ...  LTC_close  LTC_vol\n",
              "time                                            ...                    \n",
              "2017-05-19 00:00:00+00:00    1941.9     1966.5  ...        NaN      NaN\n",
              "2017-05-20 00:00:00+00:00    1966.5     2059.3  ...        NaN      NaN\n",
              "2017-05-21 00:00:00+00:00    2059.3     2026.6  ...        NaN      NaN\n",
              "2017-05-22 00:00:00+00:00    2027.0     2087.3  ...        NaN      NaN\n",
              "2017-05-23 00:00:00+00:00    2087.3     2249.6  ...        NaN      NaN\n",
              "\n",
              "[5 rows x 18 columns]"
            ]
          },
          "metadata": {
            "tags": []
          },
          "execution_count": 33
        }
      ]
    },
    {
      "cell_type": "code",
      "metadata": {
        "id": "EsKq1izwtzOM",
        "colab_type": "code",
        "colab": {
          "base_uri": "https://localhost:8080/",
          "height": 34
        },
        "outputId": "8c375d16-b9f2-401f-95a6-1be35c4f9331"
      },
      "source": [
        "#Drop NA \n",
        "Daily_Data = Daily_Data.dropna()\n",
        "len(Daily_Data) #975 TOTAL observations after removing NA"
      ],
      "execution_count": null,
      "outputs": [
        {
          "output_type": "execute_result",
          "data": {
            "text/plain": [
              "975"
            ]
          },
          "metadata": {
            "tags": []
          },
          "execution_count": 34
        }
      ]
    },
    {
      "cell_type": "code",
      "metadata": {
        "id": "Y1y0gj1Mt6eS",
        "colab_type": "code",
        "colab": {
          "base_uri": "https://localhost:8080/",
          "height": 623
        },
        "outputId": "dc201d11-e203-41fe-924d-394643d77333"
      },
      "source": [
        "Daily_Data"
      ],
      "execution_count": null,
      "outputs": [
        {
          "output_type": "execute_result",
          "data": {
            "text/html": [
              "<div>\n",
              "<style scoped>\n",
              "    .dataframe tbody tr th:only-of-type {\n",
              "        vertical-align: middle;\n",
              "    }\n",
              "\n",
              "    .dataframe tbody tr th {\n",
              "        vertical-align: top;\n",
              "    }\n",
              "\n",
              "    .dataframe thead th {\n",
              "        text-align: right;\n",
              "    }\n",
              "</style>\n",
              "<table border=\"1\" class=\"dataframe\">\n",
              "  <thead>\n",
              "    <tr style=\"text-align: right;\">\n",
              "      <th></th>\n",
              "      <th>BTC_open</th>\n",
              "      <th>BTC_close</th>\n",
              "      <th>BTC_vol</th>\n",
              "      <th>ETHER_open</th>\n",
              "      <th>ETHER_close</th>\n",
              "      <th>ETHER_vol</th>\n",
              "      <th>XRP_open</th>\n",
              "      <th>XRP_close</th>\n",
              "      <th>XRP_vol</th>\n",
              "      <th>USDT_open</th>\n",
              "      <th>USDT_close</th>\n",
              "      <th>USDT_vol</th>\n",
              "      <th>BCH_open</th>\n",
              "      <th>BCH_close</th>\n",
              "      <th>BCH_vol</th>\n",
              "      <th>LTC_open</th>\n",
              "      <th>LTC_close</th>\n",
              "      <th>LTC_vol</th>\n",
              "    </tr>\n",
              "    <tr>\n",
              "      <th>time</th>\n",
              "      <th></th>\n",
              "      <th></th>\n",
              "      <th></th>\n",
              "      <th></th>\n",
              "      <th></th>\n",
              "      <th></th>\n",
              "      <th></th>\n",
              "      <th></th>\n",
              "      <th></th>\n",
              "      <th></th>\n",
              "      <th></th>\n",
              "      <th></th>\n",
              "      <th></th>\n",
              "      <th></th>\n",
              "      <th></th>\n",
              "      <th></th>\n",
              "      <th></th>\n",
              "      <th></th>\n",
              "    </tr>\n",
              "  </thead>\n",
              "  <tbody>\n",
              "    <tr>\n",
              "      <th>2017-12-04 00:00:00+00:00</th>\n",
              "      <td>11161.000000</td>\n",
              "      <td>11599.000000</td>\n",
              "      <td>60821.275755</td>\n",
              "      <td>459.310000</td>\n",
              "      <td>465.00</td>\n",
              "      <td>214746.812276</td>\n",
              "      <td>0.24489</td>\n",
              "      <td>0.24647</td>\n",
              "      <td>4.183849e+07</td>\n",
              "      <td>0.9977</td>\n",
              "      <td>1.0020</td>\n",
              "      <td>2.913128e+06</td>\n",
              "      <td>1500.00</td>\n",
              "      <td>1500.00</td>\n",
              "      <td>0.003500</td>\n",
              "      <td>99.988</td>\n",
              "      <td>103.420</td>\n",
              "      <td>3.055461e+05</td>\n",
              "    </tr>\n",
              "    <tr>\n",
              "      <th>2017-12-05 00:00:00+00:00</th>\n",
              "      <td>11598.000000</td>\n",
              "      <td>11592.000000</td>\n",
              "      <td>46014.614045</td>\n",
              "      <td>465.000000</td>\n",
              "      <td>451.87</td>\n",
              "      <td>237689.742388</td>\n",
              "      <td>0.24638</td>\n",
              "      <td>0.23113</td>\n",
              "      <td>6.397102e+07</td>\n",
              "      <td>1.0039</td>\n",
              "      <td>1.0000</td>\n",
              "      <td>1.744146e+06</td>\n",
              "      <td>1520.00</td>\n",
              "      <td>1438.53</td>\n",
              "      <td>1584.311332</td>\n",
              "      <td>103.420</td>\n",
              "      <td>99.487</td>\n",
              "      <td>3.095707e+05</td>\n",
              "    </tr>\n",
              "    <tr>\n",
              "      <th>2017-12-06 00:00:00+00:00</th>\n",
              "      <td>11591.000000</td>\n",
              "      <td>13509.000000</td>\n",
              "      <td>79897.482459</td>\n",
              "      <td>450.870000</td>\n",
              "      <td>413.71</td>\n",
              "      <td>381941.249792</td>\n",
              "      <td>0.23202</td>\n",
              "      <td>0.21490</td>\n",
              "      <td>8.801146e+07</td>\n",
              "      <td>0.9998</td>\n",
              "      <td>1.0117</td>\n",
              "      <td>2.482851e+06</td>\n",
              "      <td>1430.30</td>\n",
              "      <td>1334.19</td>\n",
              "      <td>4298.190299</td>\n",
              "      <td>99.488</td>\n",
              "      <td>96.513</td>\n",
              "      <td>4.537027e+05</td>\n",
              "    </tr>\n",
              "    <tr>\n",
              "      <th>2017-12-07 00:00:00+00:00</th>\n",
              "      <td>13509.000000</td>\n",
              "      <td>16609.000000</td>\n",
              "      <td>134710.450940</td>\n",
              "      <td>413.710000</td>\n",
              "      <td>415.02</td>\n",
              "      <td>322522.329875</td>\n",
              "      <td>0.21482</td>\n",
              "      <td>0.20569</td>\n",
              "      <td>7.739491e+07</td>\n",
              "      <td>1.0119</td>\n",
              "      <td>1.0140</td>\n",
              "      <td>1.750631e+06</td>\n",
              "      <td>1336.21</td>\n",
              "      <td>1230.09</td>\n",
              "      <td>2715.167819</td>\n",
              "      <td>96.441</td>\n",
              "      <td>93.560</td>\n",
              "      <td>4.015128e+05</td>\n",
              "    </tr>\n",
              "    <tr>\n",
              "      <th>2017-12-08 00:00:00+00:00</th>\n",
              "      <td>16608.000000</td>\n",
              "      <td>15822.000000</td>\n",
              "      <td>124038.753807</td>\n",
              "      <td>415.030000</td>\n",
              "      <td>442.19</td>\n",
              "      <td>319904.174429</td>\n",
              "      <td>0.20509</td>\n",
              "      <td>0.23401</td>\n",
              "      <td>1.754860e+08</td>\n",
              "      <td>1.0250</td>\n",
              "      <td>1.0067</td>\n",
              "      <td>6.312278e+05</td>\n",
              "      <td>1227.00</td>\n",
              "      <td>1380.00</td>\n",
              "      <td>6037.355016</td>\n",
              "      <td>93.502</td>\n",
              "      <td>120.900</td>\n",
              "      <td>1.194805e+06</td>\n",
              "    </tr>\n",
              "    <tr>\n",
              "      <th>...</th>\n",
              "      <td>...</td>\n",
              "      <td>...</td>\n",
              "      <td>...</td>\n",
              "      <td>...</td>\n",
              "      <td>...</td>\n",
              "      <td>...</td>\n",
              "      <td>...</td>\n",
              "      <td>...</td>\n",
              "      <td>...</td>\n",
              "      <td>...</td>\n",
              "      <td>...</td>\n",
              "      <td>...</td>\n",
              "      <td>...</td>\n",
              "      <td>...</td>\n",
              "      <td>...</td>\n",
              "      <td>...</td>\n",
              "      <td>...</td>\n",
              "      <td>...</td>\n",
              "    </tr>\n",
              "    <tr>\n",
              "      <th>2020-07-31 00:00:00+00:00</th>\n",
              "      <td>11122.785171</td>\n",
              "      <td>11350.000000</td>\n",
              "      <td>5830.145883</td>\n",
              "      <td>335.360000</td>\n",
              "      <td>346.82</td>\n",
              "      <td>145813.101733</td>\n",
              "      <td>0.24461</td>\n",
              "      <td>0.25983</td>\n",
              "      <td>1.913230e+07</td>\n",
              "      <td>1.0012</td>\n",
              "      <td>1.0015</td>\n",
              "      <td>6.616719e+06</td>\n",
              "      <td>292.33</td>\n",
              "      <td>301.45</td>\n",
              "      <td>7598.061985</td>\n",
              "      <td>56.830</td>\n",
              "      <td>58.226</td>\n",
              "      <td>4.579665e+04</td>\n",
              "    </tr>\n",
              "    <tr>\n",
              "      <th>2020-08-01 00:00:00+00:00</th>\n",
              "      <td>11350.000000</td>\n",
              "      <td>11804.744013</td>\n",
              "      <td>10574.542594</td>\n",
              "      <td>346.814955</td>\n",
              "      <td>387.15</td>\n",
              "      <td>214176.492612</td>\n",
              "      <td>0.25970</td>\n",
              "      <td>0.29103</td>\n",
              "      <td>5.774864e+07</td>\n",
              "      <td>1.0014</td>\n",
              "      <td>1.0014</td>\n",
              "      <td>7.621114e+06</td>\n",
              "      <td>302.83</td>\n",
              "      <td>319.97</td>\n",
              "      <td>10023.231527</td>\n",
              "      <td>58.267</td>\n",
              "      <td>61.636</td>\n",
              "      <td>1.142340e+05</td>\n",
              "    </tr>\n",
              "    <tr>\n",
              "      <th>2020-08-02 00:00:00+00:00</th>\n",
              "      <td>11805.000000</td>\n",
              "      <td>11053.772562</td>\n",
              "      <td>13217.636459</td>\n",
              "      <td>387.030000</td>\n",
              "      <td>371.87</td>\n",
              "      <td>322415.937958</td>\n",
              "      <td>0.29127</td>\n",
              "      <td>0.28764</td>\n",
              "      <td>9.968299e+07</td>\n",
              "      <td>1.0015</td>\n",
              "      <td>1.0003</td>\n",
              "      <td>1.306673e+07</td>\n",
              "      <td>319.88</td>\n",
              "      <td>283.78</td>\n",
              "      <td>28497.380956</td>\n",
              "      <td>61.602</td>\n",
              "      <td>56.663</td>\n",
              "      <td>2.317509e+05</td>\n",
              "    </tr>\n",
              "    <tr>\n",
              "      <th>2020-08-03 00:00:00+00:00</th>\n",
              "      <td>11058.838777</td>\n",
              "      <td>11226.521728</td>\n",
              "      <td>4085.500508</td>\n",
              "      <td>372.060418</td>\n",
              "      <td>385.68</td>\n",
              "      <td>126895.684080</td>\n",
              "      <td>0.28792</td>\n",
              "      <td>0.30974</td>\n",
              "      <td>4.432413e+07</td>\n",
              "      <td>1.0003</td>\n",
              "      <td>1.0007</td>\n",
              "      <td>7.752552e+06</td>\n",
              "      <td>282.08</td>\n",
              "      <td>297.28</td>\n",
              "      <td>8303.628938</td>\n",
              "      <td>56.700</td>\n",
              "      <td>58.453</td>\n",
              "      <td>6.892064e+04</td>\n",
              "    </tr>\n",
              "    <tr>\n",
              "      <th>2020-08-04 00:00:00+00:00</th>\n",
              "      <td>11226.992174</td>\n",
              "      <td>11236.000000</td>\n",
              "      <td>943.231700</td>\n",
              "      <td>385.770000</td>\n",
              "      <td>389.60</td>\n",
              "      <td>121244.381729</td>\n",
              "      <td>0.31023</td>\n",
              "      <td>0.30124</td>\n",
              "      <td>2.510823e+07</td>\n",
              "      <td>1.0007</td>\n",
              "      <td>1.0006</td>\n",
              "      <td>8.244599e+06</td>\n",
              "      <td>298.00</td>\n",
              "      <td>288.47</td>\n",
              "      <td>6710.735105</td>\n",
              "      <td>58.488</td>\n",
              "      <td>57.570</td>\n",
              "      <td>5.234679e+04</td>\n",
              "    </tr>\n",
              "  </tbody>\n",
              "</table>\n",
              "<p>975 rows × 18 columns</p>\n",
              "</div>"
            ],
            "text/plain": [
              "                               BTC_open     BTC_close  ...  LTC_close       LTC_vol\n",
              "time                                                   ...                         \n",
              "2017-12-04 00:00:00+00:00  11161.000000  11599.000000  ...    103.420  3.055461e+05\n",
              "2017-12-05 00:00:00+00:00  11598.000000  11592.000000  ...     99.487  3.095707e+05\n",
              "2017-12-06 00:00:00+00:00  11591.000000  13509.000000  ...     96.513  4.537027e+05\n",
              "2017-12-07 00:00:00+00:00  13509.000000  16609.000000  ...     93.560  4.015128e+05\n",
              "2017-12-08 00:00:00+00:00  16608.000000  15822.000000  ...    120.900  1.194805e+06\n",
              "...                                 ...           ...  ...        ...           ...\n",
              "2020-07-31 00:00:00+00:00  11122.785171  11350.000000  ...     58.226  4.579665e+04\n",
              "2020-08-01 00:00:00+00:00  11350.000000  11804.744013  ...     61.636  1.142340e+05\n",
              "2020-08-02 00:00:00+00:00  11805.000000  11053.772562  ...     56.663  2.317509e+05\n",
              "2020-08-03 00:00:00+00:00  11058.838777  11226.521728  ...     58.453  6.892064e+04\n",
              "2020-08-04 00:00:00+00:00  11226.992174  11236.000000  ...     57.570  5.234679e+04\n",
              "\n",
              "[975 rows x 18 columns]"
            ]
          },
          "metadata": {
            "tags": []
          },
          "execution_count": 35
        }
      ]
    },
    {
      "cell_type": "markdown",
      "metadata": {
        "id": "kNEzwffZyFYS",
        "colab_type": "text"
      },
      "source": [
        "# Hourly Data Set"
      ]
    },
    {
      "cell_type": "code",
      "metadata": {
        "id": "EcjnJbF1yIEy",
        "colab_type": "code",
        "colab": {
          "base_uri": "https://localhost:8080/",
          "height": 123
        },
        "outputId": "d57dc500-0b26-42ff-b147-1824c703b91e"
      },
      "source": [
        "BITC_BITFINIX_H_url = \"https://raw.githubusercontent.com/DonaldTurton/iLab2/master/Bitcoin/BITFINEX_BTCUSD%2C%2060.csv\"\n",
        "bitcoin_hourly = pd.read_csv (BITC_BITFINIX_H_url)\n",
        "bitcoin_hourly = bitcoin_hourly[['time','open', 'close', 'Volume']]\n",
        "bitcoin_hourly = bitcoin_hourly.rename(columns={'open': 'BTC_open', 'close': 'BTC_close', 'Volume': 'BTC_vol'})\n",
        "print(len(bitcoin_hourly))\n",
        "print(bitcoin_hourly.isna().sum())"
      ],
      "execution_count": null,
      "outputs": [
        {
          "output_type": "stream",
          "text": [
            "13945\n",
            "time         0\n",
            "BTC_open     0\n",
            "BTC_close    0\n",
            "BTC_vol      0\n",
            "dtype: int64\n"
          ],
          "name": "stdout"
        }
      ]
    },
    {
      "cell_type": "code",
      "metadata": {
        "id": "C0o3imnAzws4",
        "colab_type": "code",
        "colab": {
          "base_uri": "https://localhost:8080/",
          "height": 123
        },
        "outputId": "5023e71f-435c-482f-a4b5-c7953029c921"
      },
      "source": [
        "ETHERIUM_BITFINIX_H_url= 'https://raw.githubusercontent.com/DonaldTurton/iLab2/master/Ethereum/BITFINEX_ETHUSD%2C%2060.csv'\n",
        "ethereum_hourly = pd.read_csv(ETHERIUM_BITFINIX_H_url) \n",
        "ethereum_hourly = ethereum_hourly[['time','open', 'close', 'Volume']]\n",
        "ethereum_hourly = ethereum_hourly.rename(columns={'open': 'ETHER_open', 'close': 'ETHER_close', 'Volume': 'ETHER_vol'})\n",
        "print(len(ethereum_hourly))\n",
        "print(ethereum_hourly.isna().sum())"
      ],
      "execution_count": null,
      "outputs": [
        {
          "output_type": "stream",
          "text": [
            "13992\n",
            "time           0\n",
            "ETHER_open     0\n",
            "ETHER_close    0\n",
            "ETHER_vol      0\n",
            "dtype: int64\n"
          ],
          "name": "stdout"
        }
      ]
    },
    {
      "cell_type": "code",
      "metadata": {
        "id": "L0_flwxezwAn",
        "colab_type": "code",
        "colab": {
          "base_uri": "https://localhost:8080/",
          "height": 123
        },
        "outputId": "3c414dc3-5b03-4a08-ddb3-a7959eb4c376"
      },
      "source": [
        "RIPPLE_BITFINIX_H_url= 'https://raw.githubusercontent.com/DonaldTurton/iLab2/master/Ripple/BITFINEX_XRPUSD%2C%2060.csv'\n",
        "ripple_hourly = pd.read_csv(RIPPLE_BITFINIX_H_url)\n",
        "ripple_hourly = ripple_hourly[['time','open', 'close', 'Volume']]\n",
        "ripple_hourly = ripple_hourly.rename(columns={'open': 'XRP_open', 'close': 'XRP_close', 'Volume': 'XRP_vol'})\n",
        "print(len(ripple_hourly))\n",
        "print(ripple_hourly.isna().sum())"
      ],
      "execution_count": null,
      "outputs": [
        {
          "output_type": "stream",
          "text": [
            "13983\n",
            "time         0\n",
            "XRP_open     0\n",
            "XRP_close    0\n",
            "XRP_vol      0\n",
            "dtype: int64\n"
          ],
          "name": "stdout"
        }
      ]
    },
    {
      "cell_type": "code",
      "metadata": {
        "id": "CTmoYIl809DC",
        "colab_type": "code",
        "colab": {
          "base_uri": "https://localhost:8080/",
          "height": 197
        },
        "outputId": "fd130468-9f99-457b-c61b-e3bca65d02eb"
      },
      "source": [
        "#Merge BTC, ETYH , XRP Hourly\n",
        "H_bit_eth = pd.merge(bitcoin_hourly, ethereum_hourly, how='left', on=['time'])\n",
        "H_bit_eth_xrp = pd.merge(H_bit_eth, ripple_hourly, how='left', on=['time'])"
      ],
      "execution_count": null,
      "outputs": [
        {
          "output_type": "execute_result",
          "data": {
            "text/html": [
              "<div>\n",
              "<style scoped>\n",
              "    .dataframe tbody tr th:only-of-type {\n",
              "        vertical-align: middle;\n",
              "    }\n",
              "\n",
              "    .dataframe tbody tr th {\n",
              "        vertical-align: top;\n",
              "    }\n",
              "\n",
              "    .dataframe thead th {\n",
              "        text-align: right;\n",
              "    }\n",
              "</style>\n",
              "<table border=\"1\" class=\"dataframe\">\n",
              "  <thead>\n",
              "    <tr style=\"text-align: right;\">\n",
              "      <th></th>\n",
              "      <th>time</th>\n",
              "      <th>BTC_open</th>\n",
              "      <th>BTC_close</th>\n",
              "      <th>BTC_vol</th>\n",
              "      <th>ETHER_open</th>\n",
              "      <th>ETHER_close</th>\n",
              "      <th>ETHER_vol</th>\n",
              "      <th>XRP_open</th>\n",
              "      <th>XRP_close</th>\n",
              "      <th>XRP_vol</th>\n",
              "    </tr>\n",
              "  </thead>\n",
              "  <tbody>\n",
              "    <tr>\n",
              "      <th>0</th>\n",
              "      <td>2019-01-01T00:00:00Z</td>\n",
              "      <td>3832.628624</td>\n",
              "      <td>3835.163503</td>\n",
              "      <td>265.354812</td>\n",
              "      <td>136.00</td>\n",
              "      <td>136.491226</td>\n",
              "      <td>6798.654336</td>\n",
              "      <td>0.36131</td>\n",
              "      <td>0.36198</td>\n",
              "      <td>586929.856129</td>\n",
              "    </tr>\n",
              "    <tr>\n",
              "      <th>1</th>\n",
              "      <td>2019-01-01T01:00:00Z</td>\n",
              "      <td>3835.048699</td>\n",
              "      <td>3829.146138</td>\n",
              "      <td>375.969689</td>\n",
              "      <td>136.47</td>\n",
              "      <td>135.870000</td>\n",
              "      <td>10449.192300</td>\n",
              "      <td>0.36201</td>\n",
              "      <td>0.36071</td>\n",
              "      <td>306640.178717</td>\n",
              "    </tr>\n",
              "    <tr>\n",
              "      <th>2</th>\n",
              "      <td>2019-01-01T02:00:00Z</td>\n",
              "      <td>3827.600000</td>\n",
              "      <td>3817.400000</td>\n",
              "      <td>425.147469</td>\n",
              "      <td>135.87</td>\n",
              "      <td>135.410000</td>\n",
              "      <td>16582.555846</td>\n",
              "      <td>0.36079</td>\n",
              "      <td>0.35890</td>\n",
              "      <td>438610.886871</td>\n",
              "    </tr>\n",
              "    <tr>\n",
              "      <th>3</th>\n",
              "      <td>2019-01-01T03:00:00Z</td>\n",
              "      <td>3817.300000</td>\n",
              "      <td>3828.400000</td>\n",
              "      <td>176.998692</td>\n",
              "      <td>135.46</td>\n",
              "      <td>136.280000</td>\n",
              "      <td>2496.910539</td>\n",
              "      <td>0.35887</td>\n",
              "      <td>0.36150</td>\n",
              "      <td>289447.869003</td>\n",
              "    </tr>\n",
              "    <tr>\n",
              "      <th>4</th>\n",
              "      <td>2019-01-01T04:00:00Z</td>\n",
              "      <td>3828.400000</td>\n",
              "      <td>3825.000000</td>\n",
              "      <td>307.675489</td>\n",
              "      <td>136.25</td>\n",
              "      <td>137.210000</td>\n",
              "      <td>21113.313214</td>\n",
              "      <td>0.36150</td>\n",
              "      <td>0.36320</td>\n",
              "      <td>697931.532074</td>\n",
              "    </tr>\n",
              "  </tbody>\n",
              "</table>\n",
              "</div>"
            ],
            "text/plain": [
              "                   time     BTC_open  ...  XRP_close        XRP_vol\n",
              "0  2019-01-01T00:00:00Z  3832.628624  ...    0.36198  586929.856129\n",
              "1  2019-01-01T01:00:00Z  3835.048699  ...    0.36071  306640.178717\n",
              "2  2019-01-01T02:00:00Z  3827.600000  ...    0.35890  438610.886871\n",
              "3  2019-01-01T03:00:00Z  3817.300000  ...    0.36150  289447.869003\n",
              "4  2019-01-01T04:00:00Z  3828.400000  ...    0.36320  697931.532074\n",
              "\n",
              "[5 rows x 10 columns]"
            ]
          },
          "metadata": {
            "tags": []
          },
          "execution_count": 42
        }
      ]
    },
    {
      "cell_type": "code",
      "metadata": {
        "id": "QcaJ42TJ1WzT",
        "colab_type": "code",
        "colab": {}
      },
      "source": [
        "# Convert Date column to Date format.  \n",
        "H_bit_eth_xrp[\"time\"] = pd.to_datetime(H_bit_eth_xrp[\"time\"], dayfirst=True )  #, format ='%d/%m/%y', errors='ignore'\n",
        "\n",
        "#Set Date as Index\n",
        "H_bit_eth_xrp = H_bit_eth_xrp.set_index('time')#.asfreq('d')"
      ],
      "execution_count": null,
      "outputs": []
    },
    {
      "cell_type": "code",
      "metadata": {
        "id": "5MHURS2q1d_o",
        "colab_type": "code",
        "colab": {
          "base_uri": "https://localhost:8080/",
          "height": 34
        },
        "outputId": "59d7951f-a78a-445f-e927-b19e6812c504"
      },
      "source": [
        "#Drop NA \n",
        "H_bit_eth_xrp = H_bit_eth_xrp.dropna()\n",
        "len(H_bit_eth_xrp) #132,933 observations after removing NA"
      ],
      "execution_count": null,
      "outputs": [
        {
          "output_type": "execute_result",
          "data": {
            "text/plain": [
              "13933"
            ]
          },
          "metadata": {
            "tags": []
          },
          "execution_count": 44
        }
      ]
    },
    {
      "cell_type": "code",
      "metadata": {
        "id": "wUcAlNU31f3C",
        "colab_type": "code",
        "colab": {
          "base_uri": "https://localhost:8080/",
          "height": 227
        },
        "outputId": "b219fbba-5c9d-4e5b-de2e-936d9a0270fe"
      },
      "source": [
        "H_bit_eth_xrp.head()"
      ],
      "execution_count": null,
      "outputs": [
        {
          "output_type": "execute_result",
          "data": {
            "text/html": [
              "<div>\n",
              "<style scoped>\n",
              "    .dataframe tbody tr th:only-of-type {\n",
              "        vertical-align: middle;\n",
              "    }\n",
              "\n",
              "    .dataframe tbody tr th {\n",
              "        vertical-align: top;\n",
              "    }\n",
              "\n",
              "    .dataframe thead th {\n",
              "        text-align: right;\n",
              "    }\n",
              "</style>\n",
              "<table border=\"1\" class=\"dataframe\">\n",
              "  <thead>\n",
              "    <tr style=\"text-align: right;\">\n",
              "      <th></th>\n",
              "      <th>BTC_open</th>\n",
              "      <th>BTC_close</th>\n",
              "      <th>BTC_vol</th>\n",
              "      <th>ETHER_open</th>\n",
              "      <th>ETHER_close</th>\n",
              "      <th>ETHER_vol</th>\n",
              "      <th>XRP_open</th>\n",
              "      <th>XRP_close</th>\n",
              "      <th>XRP_vol</th>\n",
              "    </tr>\n",
              "    <tr>\n",
              "      <th>time</th>\n",
              "      <th></th>\n",
              "      <th></th>\n",
              "      <th></th>\n",
              "      <th></th>\n",
              "      <th></th>\n",
              "      <th></th>\n",
              "      <th></th>\n",
              "      <th></th>\n",
              "      <th></th>\n",
              "    </tr>\n",
              "  </thead>\n",
              "  <tbody>\n",
              "    <tr>\n",
              "      <th>2019-01-01 00:00:00+00:00</th>\n",
              "      <td>3832.628624</td>\n",
              "      <td>3835.163503</td>\n",
              "      <td>265.354812</td>\n",
              "      <td>136.00</td>\n",
              "      <td>136.491226</td>\n",
              "      <td>6798.654336</td>\n",
              "      <td>0.36131</td>\n",
              "      <td>0.36198</td>\n",
              "      <td>586929.856129</td>\n",
              "    </tr>\n",
              "    <tr>\n",
              "      <th>2019-01-01 01:00:00+00:00</th>\n",
              "      <td>3835.048699</td>\n",
              "      <td>3829.146138</td>\n",
              "      <td>375.969689</td>\n",
              "      <td>136.47</td>\n",
              "      <td>135.870000</td>\n",
              "      <td>10449.192300</td>\n",
              "      <td>0.36201</td>\n",
              "      <td>0.36071</td>\n",
              "      <td>306640.178717</td>\n",
              "    </tr>\n",
              "    <tr>\n",
              "      <th>2019-01-01 02:00:00+00:00</th>\n",
              "      <td>3827.600000</td>\n",
              "      <td>3817.400000</td>\n",
              "      <td>425.147469</td>\n",
              "      <td>135.87</td>\n",
              "      <td>135.410000</td>\n",
              "      <td>16582.555846</td>\n",
              "      <td>0.36079</td>\n",
              "      <td>0.35890</td>\n",
              "      <td>438610.886871</td>\n",
              "    </tr>\n",
              "    <tr>\n",
              "      <th>2019-01-01 03:00:00+00:00</th>\n",
              "      <td>3817.300000</td>\n",
              "      <td>3828.400000</td>\n",
              "      <td>176.998692</td>\n",
              "      <td>135.46</td>\n",
              "      <td>136.280000</td>\n",
              "      <td>2496.910539</td>\n",
              "      <td>0.35887</td>\n",
              "      <td>0.36150</td>\n",
              "      <td>289447.869003</td>\n",
              "    </tr>\n",
              "    <tr>\n",
              "      <th>2019-01-01 04:00:00+00:00</th>\n",
              "      <td>3828.400000</td>\n",
              "      <td>3825.000000</td>\n",
              "      <td>307.675489</td>\n",
              "      <td>136.25</td>\n",
              "      <td>137.210000</td>\n",
              "      <td>21113.313214</td>\n",
              "      <td>0.36150</td>\n",
              "      <td>0.36320</td>\n",
              "      <td>697931.532074</td>\n",
              "    </tr>\n",
              "  </tbody>\n",
              "</table>\n",
              "</div>"
            ],
            "text/plain": [
              "                              BTC_open    BTC_close  ...  XRP_close        XRP_vol\n",
              "time                                                 ...                          \n",
              "2019-01-01 00:00:00+00:00  3832.628624  3835.163503  ...    0.36198  586929.856129\n",
              "2019-01-01 01:00:00+00:00  3835.048699  3829.146138  ...    0.36071  306640.178717\n",
              "2019-01-01 02:00:00+00:00  3827.600000  3817.400000  ...    0.35890  438610.886871\n",
              "2019-01-01 03:00:00+00:00  3817.300000  3828.400000  ...    0.36150  289447.869003\n",
              "2019-01-01 04:00:00+00:00  3828.400000  3825.000000  ...    0.36320  697931.532074\n",
              "\n",
              "[5 rows x 9 columns]"
            ]
          },
          "metadata": {
            "tags": []
          },
          "execution_count": 45
        }
      ]
    },
    {
      "cell_type": "code",
      "metadata": {
        "id": "Ii7_KuSM244S",
        "colab_type": "code",
        "colab": {}
      },
      "source": [
        "# Extract new csv \n",
        "#from google.colab import files \n",
        "#H_bit_eth_xrp.to_csv('H_bit_eth_xrp.csv')\n",
        "#files.download('H_bit_eth_xrp.csv')"
      ],
      "execution_count": null,
      "outputs": []
    },
    {
      "cell_type": "markdown",
      "metadata": {
        "id": "AJVbLuXYBsPg",
        "colab_type": "text"
      },
      "source": [
        "# 4 Hour Data Set"
      ]
    },
    {
      "cell_type": "markdown",
      "metadata": {
        "colab_type": "text",
        "id": "jKZbrK9PC4n_"
      },
      "source": [
        "## BIC, ETHER, XRP Daily Bitfinix"
      ]
    },
    {
      "cell_type": "code",
      "metadata": {
        "colab_type": "code",
        "id": "E2sdVrwrC4oG",
        "colab": {
          "base_uri": "https://localhost:8080/",
          "height": 123
        },
        "outputId": "21b41311-e64a-474e-ec96-fcaf6673a0ea"
      },
      "source": [
        "BITC_BITFINIX_4hr_url = \"https://raw.githubusercontent.com/DonaldTurton/iLab2/master/Bitcoin/BITFINEX_BTCUSD%2C%20240.csv\"\n",
        "bitcoin_4hr = pd.read_csv (BITC_BITFINIX_4hr_url)\n",
        "bitcoin_4hr = bitcoin_4hr[['time','open', 'close', 'Volume']]\n",
        "bitcoin_4hr = bitcoin_4hr.rename(columns={'open': 'BTC_open', 'close': 'BTC_close', 'Volume': 'BTC_vol'})\n",
        "print(len(bitcoin_4hr))\n",
        "print(bitcoin_4hr.isna().sum())"
      ],
      "execution_count": 2,
      "outputs": [
        {
          "output_type": "stream",
          "text": [
            "10018\n",
            "time         0\n",
            "BTC_open     0\n",
            "BTC_close    0\n",
            "BTC_vol      0\n",
            "dtype: int64\n"
          ],
          "name": "stdout"
        }
      ]
    },
    {
      "cell_type": "code",
      "metadata": {
        "colab_type": "code",
        "id": "HjvuSxqoC4oL",
        "colab": {
          "base_uri": "https://localhost:8080/",
          "height": 123
        },
        "outputId": "6e518e94-4c68-4690-ab73-3987eda841d7"
      },
      "source": [
        "ETHERIUM_BITFINIX_4hr_url= 'https://raw.githubusercontent.com/DonaldTurton/iLab2/master/Ethereum/BITFINEX_ETHUSD%2C%20240.csv'\n",
        "ethereum_4hr = pd.read_csv(ETHERIUM_BITFINIX_4hr_url) \n",
        "ethereum_4hr = ethereum_4hr[['time','open', 'close', 'Volume']]\n",
        "ethereum_4hr = ethereum_4hr.rename(columns={'open': 'ETHER_open', 'close': 'ETHER_close', 'Volume': 'ETHER_vol'})\n",
        "print(len(ethereum_4hr))\n",
        "print(ethereum_4hr.isna().sum())"
      ],
      "execution_count": 3,
      "outputs": [
        {
          "output_type": "stream",
          "text": [
            "8974\n",
            "time           0\n",
            "ETHER_open     0\n",
            "ETHER_close    0\n",
            "ETHER_vol      0\n",
            "dtype: int64\n"
          ],
          "name": "stdout"
        }
      ]
    },
    {
      "cell_type": "code",
      "metadata": {
        "colab_type": "code",
        "id": "DDXBBaJOC4oR",
        "colab": {
          "base_uri": "https://localhost:8080/",
          "height": 123
        },
        "outputId": "cbca9de8-73a9-4ab1-ac2f-b9678c62276c"
      },
      "source": [
        "RIPPLE_BITFINIX_4hr_url= 'https://raw.githubusercontent.com/DonaldTurton/iLab2/master/Ripple/BITFINEX_XRPUSD%2C%20240.csv'\n",
        "ripple_4hr = pd.read_csv(RIPPLE_BITFINIX_4hr_url)\n",
        "ripple_4hr = ripple_4hr[['time','open', 'close', 'Volume']]\n",
        "ripple_4hr = ripple_4hr.rename(columns={'open': 'XRP_open', 'close': 'XRP_close', 'Volume': 'XRP_vol'})\n",
        "print(len(ripple_4hr))\n",
        "print(ripple_4hr.isna().sum())"
      ],
      "execution_count": 4,
      "outputs": [
        {
          "output_type": "stream",
          "text": [
            "7048\n",
            "time         0\n",
            "XRP_open     0\n",
            "XRP_close    0\n",
            "XRP_vol      0\n",
            "dtype: int64\n"
          ],
          "name": "stdout"
        }
      ]
    },
    {
      "cell_type": "code",
      "metadata": {
        "colab_type": "code",
        "id": "y2jeLxt_C4oY",
        "colab": {
          "base_uri": "https://localhost:8080/",
          "height": 197
        },
        "outputId": "457a73ac-e2d9-4283-800d-7757ca3111a6"
      },
      "source": [
        "bit_eth_4hr = pd.merge(bitcoin_4hr, ethereum_4hr, how='left', on=['time'])\n",
        "bit_eth_xrp_4hr = pd.merge(bit_eth_4hr, ripple_4hr, how='left', on=['time'])\n",
        "bit_eth_xrp_4hr.head()"
      ],
      "execution_count": 5,
      "outputs": [
        {
          "output_type": "execute_result",
          "data": {
            "text/html": [
              "<div>\n",
              "<style scoped>\n",
              "    .dataframe tbody tr th:only-of-type {\n",
              "        vertical-align: middle;\n",
              "    }\n",
              "\n",
              "    .dataframe tbody tr th {\n",
              "        vertical-align: top;\n",
              "    }\n",
              "\n",
              "    .dataframe thead th {\n",
              "        text-align: right;\n",
              "    }\n",
              "</style>\n",
              "<table border=\"1\" class=\"dataframe\">\n",
              "  <thead>\n",
              "    <tr style=\"text-align: right;\">\n",
              "      <th></th>\n",
              "      <th>time</th>\n",
              "      <th>BTC_open</th>\n",
              "      <th>BTC_close</th>\n",
              "      <th>BTC_vol</th>\n",
              "      <th>ETHER_open</th>\n",
              "      <th>ETHER_close</th>\n",
              "      <th>ETHER_vol</th>\n",
              "      <th>XRP_open</th>\n",
              "      <th>XRP_close</th>\n",
              "      <th>XRP_vol</th>\n",
              "    </tr>\n",
              "  </thead>\n",
              "  <tbody>\n",
              "    <tr>\n",
              "      <th>0</th>\n",
              "      <td>2016-01-01T00:00:00Z</td>\n",
              "      <td>429.17</td>\n",
              "      <td>430.38</td>\n",
              "      <td>896.0</td>\n",
              "      <td>NaN</td>\n",
              "      <td>NaN</td>\n",
              "      <td>NaN</td>\n",
              "      <td>NaN</td>\n",
              "      <td>NaN</td>\n",
              "      <td>NaN</td>\n",
              "    </tr>\n",
              "    <tr>\n",
              "      <th>1</th>\n",
              "      <td>2016-01-01T04:00:00Z</td>\n",
              "      <td>431.51</td>\n",
              "      <td>433.18</td>\n",
              "      <td>5553.0</td>\n",
              "      <td>NaN</td>\n",
              "      <td>NaN</td>\n",
              "      <td>NaN</td>\n",
              "      <td>NaN</td>\n",
              "      <td>NaN</td>\n",
              "      <td>NaN</td>\n",
              "    </tr>\n",
              "    <tr>\n",
              "      <th>2</th>\n",
              "      <td>2016-01-01T08:00:00Z</td>\n",
              "      <td>433.18</td>\n",
              "      <td>433.01</td>\n",
              "      <td>1342.0</td>\n",
              "      <td>NaN</td>\n",
              "      <td>NaN</td>\n",
              "      <td>NaN</td>\n",
              "      <td>NaN</td>\n",
              "      <td>NaN</td>\n",
              "      <td>NaN</td>\n",
              "    </tr>\n",
              "    <tr>\n",
              "      <th>3</th>\n",
              "      <td>2016-01-01T12:00:00Z</td>\n",
              "      <td>433.24</td>\n",
              "      <td>432.25</td>\n",
              "      <td>3290.0</td>\n",
              "      <td>NaN</td>\n",
              "      <td>NaN</td>\n",
              "      <td>NaN</td>\n",
              "      <td>NaN</td>\n",
              "      <td>NaN</td>\n",
              "      <td>NaN</td>\n",
              "    </tr>\n",
              "    <tr>\n",
              "      <th>4</th>\n",
              "      <td>2016-01-01T16:00:00Z</td>\n",
              "      <td>432.47</td>\n",
              "      <td>432.93</td>\n",
              "      <td>701.0</td>\n",
              "      <td>NaN</td>\n",
              "      <td>NaN</td>\n",
              "      <td>NaN</td>\n",
              "      <td>NaN</td>\n",
              "      <td>NaN</td>\n",
              "      <td>NaN</td>\n",
              "    </tr>\n",
              "  </tbody>\n",
              "</table>\n",
              "</div>"
            ],
            "text/plain": [
              "                   time  BTC_open  BTC_close  ...  XRP_open  XRP_close  XRP_vol\n",
              "0  2016-01-01T00:00:00Z    429.17     430.38  ...       NaN        NaN      NaN\n",
              "1  2016-01-01T04:00:00Z    431.51     433.18  ...       NaN        NaN      NaN\n",
              "2  2016-01-01T08:00:00Z    433.18     433.01  ...       NaN        NaN      NaN\n",
              "3  2016-01-01T12:00:00Z    433.24     432.25  ...       NaN        NaN      NaN\n",
              "4  2016-01-01T16:00:00Z    432.47     432.93  ...       NaN        NaN      NaN\n",
              "\n",
              "[5 rows x 10 columns]"
            ]
          },
          "metadata": {
            "tags": []
          },
          "execution_count": 5
        }
      ]
    },
    {
      "cell_type": "code",
      "metadata": {
        "colab_type": "code",
        "id": "CIJ0jRapC4oe",
        "colab": {}
      },
      "source": [
        "# Convert Date column to Date format.  \n",
        "bit_eth_xrp_4hr[\"time\"] = pd.to_datetime(bit_eth_xrp_4hr[\"time\"], dayfirst=True )  #, format ='%d/%m/%y', errors='ignore'\n",
        "\n",
        "#Set Date as Index\n",
        "bit_eth_xrp_4hr = bit_eth_xrp_4hr.set_index('time')#.asfreq('d')"
      ],
      "execution_count": 6,
      "outputs": []
    },
    {
      "cell_type": "code",
      "metadata": {
        "colab_type": "code",
        "id": "INZBjyUjC4oh",
        "colab": {
          "base_uri": "https://localhost:8080/",
          "height": 34
        },
        "outputId": "1cd44291-cbbe-4db1-d9f0-fbeffb2d7240"
      },
      "source": [
        "#Drop NA \n",
        "bit_eth_xrp_4hr = bit_eth_xrp_4hr.dropna()\n",
        "len(bit_eth_xrp_4hr) #1,174 observations after removing NA"
      ],
      "execution_count": 7,
      "outputs": [
        {
          "output_type": "execute_result",
          "data": {
            "text/plain": [
              "7036"
            ]
          },
          "metadata": {
            "tags": []
          },
          "execution_count": 7
        }
      ]
    },
    {
      "cell_type": "code",
      "metadata": {
        "colab_type": "code",
        "id": "hkA_Jm8DC4ok",
        "colab": {
          "base_uri": "https://localhost:8080/",
          "height": 227
        },
        "outputId": "eab9701e-f016-4b1a-c9f5-f0d376e2bb80"
      },
      "source": [
        "bit_eth_xrp_4hr.head()"
      ],
      "execution_count": 8,
      "outputs": [
        {
          "output_type": "execute_result",
          "data": {
            "text/html": [
              "<div>\n",
              "<style scoped>\n",
              "    .dataframe tbody tr th:only-of-type {\n",
              "        vertical-align: middle;\n",
              "    }\n",
              "\n",
              "    .dataframe tbody tr th {\n",
              "        vertical-align: top;\n",
              "    }\n",
              "\n",
              "    .dataframe thead th {\n",
              "        text-align: right;\n",
              "    }\n",
              "</style>\n",
              "<table border=\"1\" class=\"dataframe\">\n",
              "  <thead>\n",
              "    <tr style=\"text-align: right;\">\n",
              "      <th></th>\n",
              "      <th>BTC_open</th>\n",
              "      <th>BTC_close</th>\n",
              "      <th>BTC_vol</th>\n",
              "      <th>ETHER_open</th>\n",
              "      <th>ETHER_close</th>\n",
              "      <th>ETHER_vol</th>\n",
              "      <th>XRP_open</th>\n",
              "      <th>XRP_close</th>\n",
              "      <th>XRP_vol</th>\n",
              "    </tr>\n",
              "    <tr>\n",
              "      <th>time</th>\n",
              "      <th></th>\n",
              "      <th></th>\n",
              "      <th></th>\n",
              "      <th></th>\n",
              "      <th></th>\n",
              "      <th></th>\n",
              "      <th></th>\n",
              "      <th></th>\n",
              "      <th></th>\n",
              "    </tr>\n",
              "  </thead>\n",
              "  <tbody>\n",
              "    <tr>\n",
              "      <th>2017-05-19 16:00:00+00:00</th>\n",
              "      <td>1966.6</td>\n",
              "      <td>1948.9</td>\n",
              "      <td>3213.740799</td>\n",
              "      <td>116.10</td>\n",
              "      <td>119.3</td>\n",
              "      <td>30732.798024</td>\n",
              "      <td>0.37999</td>\n",
              "      <td>0.34487</td>\n",
              "      <td>5.644067e+05</td>\n",
              "    </tr>\n",
              "    <tr>\n",
              "      <th>2017-05-19 20:00:00+00:00</th>\n",
              "      <td>1948.9</td>\n",
              "      <td>1966.5</td>\n",
              "      <td>4044.496638</td>\n",
              "      <td>118.76</td>\n",
              "      <td>124.4</td>\n",
              "      <td>63035.429378</td>\n",
              "      <td>0.34484</td>\n",
              "      <td>0.32498</td>\n",
              "      <td>1.566526e+06</td>\n",
              "    </tr>\n",
              "    <tr>\n",
              "      <th>2017-05-20 00:00:00+00:00</th>\n",
              "      <td>1966.5</td>\n",
              "      <td>1987.2</td>\n",
              "      <td>2212.470628</td>\n",
              "      <td>124.49</td>\n",
              "      <td>127.8</td>\n",
              "      <td>19863.907053</td>\n",
              "      <td>0.32499</td>\n",
              "      <td>0.31284</td>\n",
              "      <td>6.535902e+05</td>\n",
              "    </tr>\n",
              "    <tr>\n",
              "      <th>2017-05-20 04:00:00+00:00</th>\n",
              "      <td>1987.2</td>\n",
              "      <td>1993.0</td>\n",
              "      <td>2451.913978</td>\n",
              "      <td>127.75</td>\n",
              "      <td>122.8</td>\n",
              "      <td>42740.135240</td>\n",
              "      <td>0.31260</td>\n",
              "      <td>0.32542</td>\n",
              "      <td>3.928830e+05</td>\n",
              "    </tr>\n",
              "    <tr>\n",
              "      <th>2017-05-20 08:00:00+00:00</th>\n",
              "      <td>1993.0</td>\n",
              "      <td>1977.4</td>\n",
              "      <td>4104.060214</td>\n",
              "      <td>123.04</td>\n",
              "      <td>122.5</td>\n",
              "      <td>12941.096385</td>\n",
              "      <td>0.32685</td>\n",
              "      <td>0.35538</td>\n",
              "      <td>1.088995e+06</td>\n",
              "    </tr>\n",
              "  </tbody>\n",
              "</table>\n",
              "</div>"
            ],
            "text/plain": [
              "                           BTC_open  BTC_close  ...  XRP_close       XRP_vol\n",
              "time                                            ...                         \n",
              "2017-05-19 16:00:00+00:00    1966.6     1948.9  ...    0.34487  5.644067e+05\n",
              "2017-05-19 20:00:00+00:00    1948.9     1966.5  ...    0.32498  1.566526e+06\n",
              "2017-05-20 00:00:00+00:00    1966.5     1987.2  ...    0.31284  6.535902e+05\n",
              "2017-05-20 04:00:00+00:00    1987.2     1993.0  ...    0.32542  3.928830e+05\n",
              "2017-05-20 08:00:00+00:00    1993.0     1977.4  ...    0.35538  1.088995e+06\n",
              "\n",
              "[5 rows x 9 columns]"
            ]
          },
          "metadata": {
            "tags": []
          },
          "execution_count": 8
        }
      ]
    },
    {
      "cell_type": "code",
      "metadata": {
        "id": "xBHyfNbBE1hu",
        "colab_type": "code",
        "colab": {
          "base_uri": "https://localhost:8080/",
          "height": 318
        },
        "outputId": "e8a16f48-9c9e-4a39-9edf-f3c7c0ae668d"
      },
      "source": [
        "# Turn the date index into a column\n",
        "bit_eth_xrp_4hr['date_time'] = bit_eth_xrp_4hr.index\n",
        "\n",
        "bit_eth_xrp_4hr.info()"
      ],
      "execution_count": 11,
      "outputs": [
        {
          "output_type": "stream",
          "text": [
            "<class 'pandas.core.frame.DataFrame'>\n",
            "DatetimeIndex: 7036 entries, 2017-05-19 16:00:00+00:00 to 2020-08-04 08:00:00+00:00\n",
            "Data columns (total 10 columns):\n",
            " #   Column       Non-Null Count  Dtype              \n",
            "---  ------       --------------  -----              \n",
            " 0   BTC_open     7036 non-null   float64            \n",
            " 1   BTC_close    7036 non-null   float64            \n",
            " 2   BTC_vol      7036 non-null   float64            \n",
            " 3   ETHER_open   7036 non-null   float64            \n",
            " 4   ETHER_close  7036 non-null   float64            \n",
            " 5   ETHER_vol    7036 non-null   float64            \n",
            " 6   XRP_open     7036 non-null   float64            \n",
            " 7   XRP_close    7036 non-null   float64            \n",
            " 8   XRP_vol      7036 non-null   float64            \n",
            " 9   date_time    7036 non-null   datetime64[ns, UTC]\n",
            "dtypes: datetime64[ns, UTC](1), float64(9)\n",
            "memory usage: 604.7 KB\n"
          ],
          "name": "stdout"
        }
      ]
    },
    {
      "cell_type": "code",
      "metadata": {
        "id": "kYm2slTgFTim",
        "colab_type": "code",
        "colab": {}
      },
      "source": [
        "# Create individual date & time columns for further feature engineering in the future\n",
        "bit_eth_xrp_4hr['date'] = [d.date() for d in bit_eth_xrp_4hr['date_time']]\n",
        "bit_eth_xrp_4hr['time'] = [d.time() for d in bit_eth_xrp_4hr['date_time']]"
      ],
      "execution_count": 13,
      "outputs": []
    },
    {
      "cell_type": "code",
      "metadata": {
        "id": "FJAF9kLHFmdT",
        "colab_type": "code",
        "colab": {}
      },
      "source": [
        "# Remove the date_time column\n",
        "del bit_eth_xrp_4hr['date_time']"
      ],
      "execution_count": 15,
      "outputs": []
    },
    {
      "cell_type": "code",
      "metadata": {
        "id": "yfjpaUa8GTcF",
        "colab_type": "code",
        "colab": {}
      },
      "source": [
        "# Print csv to the Google Drive"
      ],
      "execution_count": null,
      "outputs": []
    }
  ]
}