{
  "nbformat": 4,
  "nbformat_minor": 0,
  "metadata": {
    "colab": {
      "name": "Mdoelling_1.ipynb",
      "provenance": [],
      "include_colab_link": true
    },
    "kernelspec": {
      "name": "python3",
      "display_name": "Python 3"
    },
    "accelerator": "GPU"
  },
  "cells": [
    {
      "cell_type": "markdown",
      "metadata": {
        "id": "view-in-github",
        "colab_type": "text"
      },
      "source": [
        "<a href=\"https://colab.research.google.com/github/DonaldTurton/iLab2/blob/master/Modelling_3%20weeks.ipynb\" target=\"_parent\"><img src=\"https://colab.research.google.com/assets/colab-badge.svg\" alt=\"Open In Colab\"/></a>"
      ]
    },
    {
      "cell_type": "markdown",
      "metadata": {
        "id": "TL8II2wcPR5Y",
        "colab_type": "text"
      },
      "source": [
        "# ILab2"
      ]
    },
    {
      "cell_type": "markdown",
      "metadata": {
        "id": "C60ldDTpsDQ_",
        "colab_type": "text"
      },
      "source": [
        "# Libraries"
      ]
    },
    {
      "cell_type": "code",
      "metadata": {
        "id": "GkQOGqYGr3t-",
        "colab_type": "code",
        "colab": {}
      },
      "source": [
        "import pandas as pd\n",
        "import numpy as np\n",
        "import seaborn as sns"
      ],
      "execution_count": 43,
      "outputs": []
    },
    {
      "cell_type": "markdown",
      "metadata": {
        "id": "xCaOJmTlGuOS",
        "colab_type": "text"
      },
      "source": [
        "# Data Set BITFINIX EXCHANGE - DAILY"
      ]
    },
    {
      "cell_type": "markdown",
      "metadata": {
        "id": "GNwn3X8fIScK",
        "colab_type": "text"
      },
      "source": [
        "## Bitcoin"
      ]
    },
    {
      "cell_type": "code",
      "metadata": {
        "id": "plgV2djTGtq2",
        "colab_type": "code",
        "colab": {}
      },
      "source": [
        "BITC_BITFINIX_url = \"https://raw.githubusercontent.com/DonaldTurton/iLab2/master/Bitcoin/BITFINEX_BTCUSD%2C%201D.csv\"\n",
        "\n",
        "bitcoin_daily = pd.read_csv (BITC_BITFINIX_url)"
      ],
      "execution_count": 44,
      "outputs": []
    },
    {
      "cell_type": "markdown",
      "metadata": {
        "id": "D6A09Q6HUl_u",
        "colab_type": "text"
      },
      "source": [
        "### Ethereum"
      ]
    },
    {
      "cell_type": "code",
      "metadata": {
        "colab_type": "code",
        "id": "zn8f-ILdUv4G",
        "colab": {}
      },
      "source": [
        "ETHERIUM_BITFINIX_url= 'https://raw.githubusercontent.com/DonaldTurton/iLab2/master/Ethereum/BITFINEX_ETHUSD%2C%201D.csv'"
      ],
      "execution_count": 45,
      "outputs": []
    },
    {
      "cell_type": "code",
      "metadata": {
        "colab_type": "code",
        "id": "sxrpGy0_Uv4N",
        "colab": {}
      },
      "source": [
        "ethereum_daily = pd.read_csv(ETHERIUM_BITFINIX_url) "
      ],
      "execution_count": 46,
      "outputs": []
    },
    {
      "cell_type": "markdown",
      "metadata": {
        "id": "zXiqp9E3Vltr",
        "colab_type": "text"
      },
      "source": [
        "### Ripple "
      ]
    },
    {
      "cell_type": "code",
      "metadata": {
        "colab_type": "code",
        "id": "9xWWOpyqVxY1",
        "colab": {}
      },
      "source": [
        "RIPPLE_BITFINIX_url= 'https://raw.githubusercontent.com/DonaldTurton/iLab2/master/Ripple/BITFINEX_XRPUSD%2C%201D.csv'"
      ],
      "execution_count": 47,
      "outputs": []
    },
    {
      "cell_type": "code",
      "metadata": {
        "colab_type": "code",
        "id": "I0ionDoyVxY7",
        "colab": {}
      },
      "source": [
        "ripple_daily = pd.read_csv(RIPPLE_BITFINIX_url)"
      ],
      "execution_count": 48,
      "outputs": []
    },
    {
      "cell_type": "markdown",
      "metadata": {
        "colab_type": "text",
        "id": "jg87Vw4tPQoC"
      },
      "source": [
        "## Subset DF"
      ]
    },
    {
      "cell_type": "markdown",
      "metadata": {
        "id": "ASUuqPxYaDeR",
        "colab_type": "text"
      },
      "source": [
        "## Subset DF"
      ]
    },
    {
      "cell_type": "code",
      "metadata": {
        "id": "-3tjzLyzXB8u",
        "colab_type": "code",
        "colab": {}
      },
      "source": [
        "bit_bit = bitcoin_daily[['time','open', 'close', 'Volume']]\n",
        "bit_bit = bit_bit.rename(columns={'open': 'BTC_open', 'close': 'BTC_close', 'Volume': 'BTC_vol'})"
      ],
      "execution_count": 49,
      "outputs": []
    },
    {
      "cell_type": "code",
      "metadata": {
        "id": "2HK3THHkaGs2",
        "colab_type": "code",
        "colab": {}
      },
      "source": [
        "eth_bit = ethereum_daily[['time','open', 'close', 'Volume']]\n",
        "eth_bit = eth_bit.rename(columns={'open': 'ETHER_open', 'close': 'ETHER_close', 'Volume': 'ETHER_vol'})"
      ],
      "execution_count": 50,
      "outputs": []
    },
    {
      "cell_type": "code",
      "metadata": {
        "id": "e5rEydh3a2Rq",
        "colab_type": "code",
        "colab": {}
      },
      "source": [
        "xrp_bit = ripple_daily[['time','open', 'close', 'Volume']]\n",
        "xrp_bit = xrp_bit.rename(columns={'open': 'XRP_open', 'close': 'XRP_close', 'Volume': 'XRP_vol'})"
      ],
      "execution_count": 51,
      "outputs": []
    },
    {
      "cell_type": "markdown",
      "metadata": {
        "id": "P_20D7xMbgBx",
        "colab_type": "text"
      },
      "source": [
        "## Merge\n",
        "\n"
      ]
    },
    {
      "cell_type": "code",
      "metadata": {
        "id": "bZaI2_FbbnsB",
        "colab_type": "code",
        "colab": {}
      },
      "source": [
        "# Data frames for each coin from BITFINEX\n",
        "#bit_bit 2,677 observations\n",
        "#eth_bit 1,497 observations\n",
        "#xrp_bit 1,176 observations"
      ],
      "execution_count": 52,
      "outputs": []
    },
    {
      "cell_type": "code",
      "metadata": {
        "id": "EmJv81OOcOLW",
        "colab_type": "code",
        "colab": {}
      },
      "source": [
        "bit_eth = pd.merge(bit_bit, eth_bit, how='left', on=['time'])\n",
        "data = pd.merge(bit_eth, xrp_bit, how='left', on=['time'])"
      ],
      "execution_count": 53,
      "outputs": []
    },
    {
      "cell_type": "code",
      "metadata": {
        "id": "rV0edZss-eQK",
        "colab_type": "code",
        "colab": {
          "base_uri": "https://localhost:8080/",
          "height": 0
        },
        "outputId": "d8344145-edc2-4dd0-deae-5e56308c10e1"
      },
      "source": [
        "#Drop NA \n",
        "data = data.dropna()\n",
        "len(data) #1,174 observations after removing NA"
      ],
      "execution_count": 54,
      "outputs": [
        {
          "output_type": "execute_result",
          "data": {
            "text/plain": [
              "1174"
            ]
          },
          "metadata": {
            "tags": []
          },
          "execution_count": 54
        }
      ]
    },
    {
      "cell_type": "markdown",
      "metadata": {
        "id": "zvNsWJ7d_NxD",
        "colab_type": "text"
      },
      "source": [
        "# Lag the predictor variables 21 days"
      ]
    },
    {
      "cell_type": "code",
      "metadata": {
        "id": "i5AHsj02_RGf",
        "colab_type": "code",
        "colab": {}
      },
      "source": [
        "# Duplicate the bitcoin variables before lagging\n",
        "data['BTC_open_dup'] = data['BTC_open'] \n",
        "data['BTC_close_dup'] = data['BTC_close']\n",
        "data['BTC_vol_dup'] = data['BTC_vol']"
      ],
      "execution_count": 55,
      "outputs": []
    },
    {
      "cell_type": "code",
      "metadata": {
        "id": "nt-6E1XC_qnn",
        "colab_type": "code",
        "colab": {}
      },
      "source": [
        "# Remove the BTC open and BTC vol variables before lagging as they  can't be used for this type of modelling strategy. \n",
        "data = data.drop(['BTC_open', 'BTC_vol'], axis = 1)"
      ],
      "execution_count": 56,
      "outputs": []
    },
    {
      "cell_type": "code",
      "metadata": {
        "id": "YxyCPuUHBCFp",
        "colab_type": "code",
        "colab": {}
      },
      "source": [
        "# Lag all variables except BTC_close\n",
        "\n",
        "data['ETHER_open'] = data['ETHER_open'].shift(21)\n",
        "data['ETHER_close'] = data['ETHER_close'].shift(21)\n",
        "data['ETHER_vol'] = data['ETHER_vol'].shift(21)\n",
        "\n",
        "data['XRP_open'] = data['XRP_open'].shift(21)\n",
        "data['XRP_close'] = data['XRP_close'].shift(21)\n",
        "data['XRP_vol'] = data['XRP_vol'].shift(21)\n",
        "\n",
        "data['BTC_open_dup'] = data['BTC_open_dup'].shift(21)\n",
        "data['BTC_close_dup'] = data['BTC_close_dup'].shift(21)\n",
        "data['BTC_vol_dup'] = data['BTC_vol_dup'].shift(21)"
      ],
      "execution_count": 57,
      "outputs": []
    },
    {
      "cell_type": "code",
      "metadata": {
        "id": "QOsvJkp6B6qi",
        "colab_type": "code",
        "colab": {}
      },
      "source": [
        "# Drop the first 7 rows of the data set as these are NA rows due to the lagging. \n",
        "data.drop(data.head(21).index, inplace=True)"
      ],
      "execution_count": 58,
      "outputs": []
    },
    {
      "cell_type": "markdown",
      "metadata": {
        "id": "zKLyu0XDC2Ym",
        "colab_type": "text"
      },
      "source": [
        "# Set the test and train sets"
      ]
    },
    {
      "cell_type": "code",
      "metadata": {
        "id": "EkOknLFYE3y9",
        "colab_type": "code",
        "colab": {}
      },
      "source": [
        "# Set the  data index as a data col\n",
        "data.index = range(1,1154)"
      ],
      "execution_count": 63,
      "outputs": []
    },
    {
      "cell_type": "code",
      "metadata": {
        "id": "V8Pi1fKrC4vF",
        "colab_type": "code",
        "colab": {}
      },
      "source": [
        "# May train and test sets\n",
        "pd.set_option(\"display.max_rows\", None, \"display.max_columns\", None)\n",
        "train_may = data[1:1071]\n",
        "test_may = data[1071:1092]"
      ],
      "execution_count": 202,
      "outputs": []
    },
    {
      "cell_type": "code",
      "metadata": {
        "id": "Q6xbeVx4G2Y7",
        "colab_type": "code",
        "colab": {}
      },
      "source": [
        "# July train and test sets\n",
        "train_july = data[1:1132]\n",
        "test_july = data[1132:1153]"
      ],
      "execution_count": 203,
      "outputs": []
    },
    {
      "cell_type": "markdown",
      "metadata": {
        "id": "fWwtwslHe-mB",
        "colab_type": "text"
      },
      "source": [
        "# Donald Modelling"
      ]
    },
    {
      "cell_type": "code",
      "metadata": {
        "id": "SVpkpo4Duis3",
        "colab_type": "code",
        "colab": {}
      },
      "source": [
        "# DATA FRAME WITH DATES AS INDEX FOR PLOTS IN X AXIS\n",
        "data2 = data\n",
        "\n",
        "# Convert Date column to Date format.  \n",
        "data2[\"time\"] = pd.to_datetime(data2[\"time\"], dayfirst=True )  #, format ='%d/%m/%y', errors='ignore'\n",
        "\n",
        "#Set Date as Index\n",
        "data2 = data2.set_index('time')#.asfreq('d')"
      ],
      "execution_count": 119,
      "outputs": []
    },
    {
      "cell_type": "code",
      "metadata": {
        "id": "nzgC1ydh4vD5",
        "colab_type": "code",
        "colab": {}
      },
      "source": [
        "#COPY FOR DATA2\n",
        "# May train and test sets\n",
        "pd.set_option(\"display.max_rows\", None, \"display.max_columns\", None)\n",
        "train_may = data2[1:1071]\n",
        "test_may = data2[1071:1092]"
      ],
      "execution_count": 120,
      "outputs": []
    },
    {
      "cell_type": "markdown",
      "metadata": {
        "id": "6rYOFybs1Mmt",
        "colab_type": "text"
      },
      "source": [
        "## MAY Pred"
      ]
    },
    {
      "cell_type": "code",
      "metadata": {
        "id": "48_lVn7gU5XZ",
        "colab_type": "code",
        "colab": {}
      },
      "source": [
        "from sklearn.ensemble import RandomForestRegressor\n",
        "from sklearn.metrics import r2_score,mean_squared_error"
      ],
      "execution_count": 121,
      "outputs": []
    },
    {
      "cell_type": "code",
      "metadata": {
        "id": "gKP-F707UQWx",
        "colab_type": "code",
        "colab": {}
      },
      "source": [
        "# Select the independent variables for the first experiment in 'x' and the dependent variable 'y' for MAY\n",
        "x_train_may = train_may[['ETHER_open', 'ETHER_close', 'ETHER_vol', 'XRP_open', 'XRP_close', 'XRP_vol', 'BTC_open_dup', 'BTC_close_dup', 'BTC_vol_dup']]\n",
        "y_train_may = train_may['BTC_close']\n",
        "# Setup testing x and y variables\n",
        "x_test_may = test_may[['ETHER_open', 'ETHER_close', 'ETHER_vol', 'XRP_open', 'XRP_close', 'XRP_vol', 'BTC_open_dup', 'BTC_close_dup', 'BTC_vol_dup']]\n",
        "y_test_may = test_may['BTC_close']"
      ],
      "execution_count": 122,
      "outputs": []
    },
    {
      "cell_type": "code",
      "metadata": {
        "id": "Pc-sUAmoE9q7",
        "colab_type": "code",
        "colab": {}
      },
      "source": [
        "# Random Forest tunning \n",
        "RandomForestRegression = RandomForestRegressor(n_estimators=500)"
      ],
      "execution_count": 123,
      "outputs": []
    },
    {
      "cell_type": "code",
      "metadata": {
        "id": "bT4gG1CGUlUi",
        "colab_type": "code",
        "colab": {
          "base_uri": "https://localhost:8080/",
          "height": 141
        },
        "outputId": "0fd6a916-353b-4d4d-db36-ea6ea8bbe61a"
      },
      "source": [
        "\n",
        "RandomForestRegression.fit(x_train_may, y_train_may)"
      ],
      "execution_count": 124,
      "outputs": [
        {
          "output_type": "execute_result",
          "data": {
            "text/plain": [
              "RandomForestRegressor(bootstrap=True, ccp_alpha=0.0, criterion='mse',\n",
              "                      max_depth=None, max_features='auto', max_leaf_nodes=None,\n",
              "                      max_samples=None, min_impurity_decrease=0.0,\n",
              "                      min_impurity_split=None, min_samples_leaf=1,\n",
              "                      min_samples_split=2, min_weight_fraction_leaf=0.0,\n",
              "                      n_estimators=500, n_jobs=None, oob_score=False,\n",
              "                      random_state=None, verbose=0, warm_start=False)"
            ]
          },
          "metadata": {
            "tags": []
          },
          "execution_count": 124
        }
      ]
    },
    {
      "cell_type": "code",
      "metadata": {
        "id": "P3kGGMsuU8v8",
        "colab_type": "code",
        "colab": {
          "base_uri": "https://localhost:8080/",
          "height": 123
        },
        "outputId": "326d3b51-2b7f-4214-c5b7-bec17cf7133d"
      },
      "source": [
        "y_prediction = RandomForestRegression.predict(x_test_may)\n",
        "y_prediction"
      ],
      "execution_count": 125,
      "outputs": [
        {
          "output_type": "execute_result",
          "data": {
            "text/plain": [
              "array([9026.23819623, 9047.11068285, 8183.54203354, 7709.68975791,\n",
              "       7707.80815509, 8855.1394655 , 8417.07150291, 7194.29018678,\n",
              "       7278.31458404, 7169.63754064, 7089.83470987, 7184.21533095,\n",
              "       7328.95195646, 8965.85296098, 9209.84819788, 8357.26000981,\n",
              "       9030.96163451, 8409.54210294, 8362.26233902, 8133.05971571,\n",
              "       9184.63311381])"
            ]
          },
          "metadata": {
            "tags": []
          },
          "execution_count": 125
        }
      ]
    },
    {
      "cell_type": "code",
      "metadata": {
        "id": "lVdOVYxbVqHD",
        "colab_type": "code",
        "colab": {
          "base_uri": "https://localhost:8080/",
          "height": 34
        },
        "outputId": "c11ef14a-7308-4d69-ea30-e62be877a8b7"
      },
      "source": [
        "rf_mse = mean_squared_error(y_test_may, y_prediction)\n",
        "rf_mse\n",
        "\n",
        "rf_rmse = np.sqrt(rf_mse)\n",
        "rf_rmse"
      ],
      "execution_count": 126,
      "outputs": [
        {
          "output_type": "execute_result",
          "data": {
            "text/plain": [
              "1393.3136056913784"
            ]
          },
          "metadata": {
            "tags": []
          },
          "execution_count": 126
        }
      ]
    },
    {
      "cell_type": "code",
      "metadata": {
        "id": "7ZdGvbKpXWZq",
        "colab_type": "code",
        "colab": {
          "base_uri": "https://localhost:8080/",
          "height": 707
        },
        "outputId": "59d3dd5b-73b3-44d4-f9df-06e50bd83eee"
      },
      "source": [
        "y_test_may = pd.DataFrame(y_test_may)\n",
        "#y_test_may['index'] = range(1,8)\n",
        "y_test_may"
      ],
      "execution_count": 127,
      "outputs": [
        {
          "output_type": "execute_result",
          "data": {
            "text/html": [
              "<div>\n",
              "<style scoped>\n",
              "    .dataframe tbody tr th:only-of-type {\n",
              "        vertical-align: middle;\n",
              "    }\n",
              "\n",
              "    .dataframe tbody tr th {\n",
              "        vertical-align: top;\n",
              "    }\n",
              "\n",
              "    .dataframe thead th {\n",
              "        text-align: right;\n",
              "    }\n",
              "</style>\n",
              "<table border=\"1\" class=\"dataframe\">\n",
              "  <thead>\n",
              "    <tr style=\"text-align: right;\">\n",
              "      <th></th>\n",
              "      <th>BTC_close</th>\n",
              "    </tr>\n",
              "    <tr>\n",
              "      <th>time</th>\n",
              "      <th></th>\n",
              "    </tr>\n",
              "  </thead>\n",
              "  <tbody>\n",
              "    <tr>\n",
              "      <th>2020-05-15 00:00:00+00:00</th>\n",
              "      <td>9311.200000</td>\n",
              "    </tr>\n",
              "    <tr>\n",
              "      <th>2020-05-16 00:00:00+00:00</th>\n",
              "      <td>9387.952090</td>\n",
              "    </tr>\n",
              "    <tr>\n",
              "      <th>2020-05-17 00:00:00+00:00</th>\n",
              "      <td>9668.200000</td>\n",
              "    </tr>\n",
              "    <tr>\n",
              "      <th>2020-05-18 00:00:00+00:00</th>\n",
              "      <td>9714.825163</td>\n",
              "    </tr>\n",
              "    <tr>\n",
              "      <th>2020-05-19 00:00:00+00:00</th>\n",
              "      <td>9769.400000</td>\n",
              "    </tr>\n",
              "    <tr>\n",
              "      <th>2020-05-20 00:00:00+00:00</th>\n",
              "      <td>9502.000000</td>\n",
              "    </tr>\n",
              "    <tr>\n",
              "      <th>2020-05-21 00:00:00+00:00</th>\n",
              "      <td>9057.100000</td>\n",
              "    </tr>\n",
              "    <tr>\n",
              "      <th>2020-05-22 00:00:00+00:00</th>\n",
              "      <td>9162.400000</td>\n",
              "    </tr>\n",
              "    <tr>\n",
              "      <th>2020-05-23 00:00:00+00:00</th>\n",
              "      <td>9175.600000</td>\n",
              "    </tr>\n",
              "    <tr>\n",
              "      <th>2020-05-24 00:00:00+00:00</th>\n",
              "      <td>8710.100000</td>\n",
              "    </tr>\n",
              "    <tr>\n",
              "      <th>2020-05-25 00:00:00+00:00</th>\n",
              "      <td>8902.000000</td>\n",
              "    </tr>\n",
              "    <tr>\n",
              "      <th>2020-05-26 00:00:00+00:00</th>\n",
              "      <td>8845.500000</td>\n",
              "    </tr>\n",
              "    <tr>\n",
              "      <th>2020-05-27 00:00:00+00:00</th>\n",
              "      <td>9210.298717</td>\n",
              "    </tr>\n",
              "    <tr>\n",
              "      <th>2020-05-28 00:00:00+00:00</th>\n",
              "      <td>9589.300000</td>\n",
              "    </tr>\n",
              "    <tr>\n",
              "      <th>2020-05-29 00:00:00+00:00</th>\n",
              "      <td>9426.100000</td>\n",
              "    </tr>\n",
              "    <tr>\n",
              "      <th>2020-05-30 00:00:00+00:00</th>\n",
              "      <td>9706.400000</td>\n",
              "    </tr>\n",
              "    <tr>\n",
              "      <th>2020-05-31 00:00:00+00:00</th>\n",
              "      <td>9451.100000</td>\n",
              "    </tr>\n",
              "    <tr>\n",
              "      <th>2020-06-01 00:00:00+00:00</th>\n",
              "      <td>10225.976000</td>\n",
              "    </tr>\n",
              "    <tr>\n",
              "      <th>2020-06-02 00:00:00+00:00</th>\n",
              "      <td>9526.968083</td>\n",
              "    </tr>\n",
              "    <tr>\n",
              "      <th>2020-06-03 00:00:00+00:00</th>\n",
              "      <td>9676.600000</td>\n",
              "    </tr>\n",
              "    <tr>\n",
              "      <th>2020-06-04 00:00:00+00:00</th>\n",
              "      <td>9790.700076</td>\n",
              "    </tr>\n",
              "  </tbody>\n",
              "</table>\n",
              "</div>"
            ],
            "text/plain": [
              "                              BTC_close\n",
              "time                                   \n",
              "2020-05-15 00:00:00+00:00   9311.200000\n",
              "2020-05-16 00:00:00+00:00   9387.952090\n",
              "2020-05-17 00:00:00+00:00   9668.200000\n",
              "2020-05-18 00:00:00+00:00   9714.825163\n",
              "2020-05-19 00:00:00+00:00   9769.400000\n",
              "2020-05-20 00:00:00+00:00   9502.000000\n",
              "2020-05-21 00:00:00+00:00   9057.100000\n",
              "2020-05-22 00:00:00+00:00   9162.400000\n",
              "2020-05-23 00:00:00+00:00   9175.600000\n",
              "2020-05-24 00:00:00+00:00   8710.100000\n",
              "2020-05-25 00:00:00+00:00   8902.000000\n",
              "2020-05-26 00:00:00+00:00   8845.500000\n",
              "2020-05-27 00:00:00+00:00   9210.298717\n",
              "2020-05-28 00:00:00+00:00   9589.300000\n",
              "2020-05-29 00:00:00+00:00   9426.100000\n",
              "2020-05-30 00:00:00+00:00   9706.400000\n",
              "2020-05-31 00:00:00+00:00   9451.100000\n",
              "2020-06-01 00:00:00+00:00  10225.976000\n",
              "2020-06-02 00:00:00+00:00   9526.968083\n",
              "2020-06-03 00:00:00+00:00   9676.600000\n",
              "2020-06-04 00:00:00+00:00   9790.700076"
            ]
          },
          "metadata": {
            "tags": []
          },
          "execution_count": 127
        }
      ]
    },
    {
      "cell_type": "code",
      "metadata": {
        "id": "Gn4wGh3kXpkT",
        "colab_type": "code",
        "colab": {
          "base_uri": "https://localhost:8080/",
          "height": 707
        },
        "outputId": "7d23d890-af38-4504-9819-00d587fb5441"
      },
      "source": [
        "y_prediction = pd.DataFrame(y_prediction)\n",
        "y_prediction.index=y_test_may.index\n",
        "y_prediction.columns=['Prediction']\n",
        "#y_prediction['index'] = range(1,8)\n",
        "y_prediction"
      ],
      "execution_count": 128,
      "outputs": [
        {
          "output_type": "execute_result",
          "data": {
            "text/html": [
              "<div>\n",
              "<style scoped>\n",
              "    .dataframe tbody tr th:only-of-type {\n",
              "        vertical-align: middle;\n",
              "    }\n",
              "\n",
              "    .dataframe tbody tr th {\n",
              "        vertical-align: top;\n",
              "    }\n",
              "\n",
              "    .dataframe thead th {\n",
              "        text-align: right;\n",
              "    }\n",
              "</style>\n",
              "<table border=\"1\" class=\"dataframe\">\n",
              "  <thead>\n",
              "    <tr style=\"text-align: right;\">\n",
              "      <th></th>\n",
              "      <th>Prediction</th>\n",
              "    </tr>\n",
              "    <tr>\n",
              "      <th>time</th>\n",
              "      <th></th>\n",
              "    </tr>\n",
              "  </thead>\n",
              "  <tbody>\n",
              "    <tr>\n",
              "      <th>2020-05-15 00:00:00+00:00</th>\n",
              "      <td>9026.238196</td>\n",
              "    </tr>\n",
              "    <tr>\n",
              "      <th>2020-05-16 00:00:00+00:00</th>\n",
              "      <td>9047.110683</td>\n",
              "    </tr>\n",
              "    <tr>\n",
              "      <th>2020-05-17 00:00:00+00:00</th>\n",
              "      <td>8183.542034</td>\n",
              "    </tr>\n",
              "    <tr>\n",
              "      <th>2020-05-18 00:00:00+00:00</th>\n",
              "      <td>7709.689758</td>\n",
              "    </tr>\n",
              "    <tr>\n",
              "      <th>2020-05-19 00:00:00+00:00</th>\n",
              "      <td>7707.808155</td>\n",
              "    </tr>\n",
              "    <tr>\n",
              "      <th>2020-05-20 00:00:00+00:00</th>\n",
              "      <td>8855.139465</td>\n",
              "    </tr>\n",
              "    <tr>\n",
              "      <th>2020-05-21 00:00:00+00:00</th>\n",
              "      <td>8417.071503</td>\n",
              "    </tr>\n",
              "    <tr>\n",
              "      <th>2020-05-22 00:00:00+00:00</th>\n",
              "      <td>7194.290187</td>\n",
              "    </tr>\n",
              "    <tr>\n",
              "      <th>2020-05-23 00:00:00+00:00</th>\n",
              "      <td>7278.314584</td>\n",
              "    </tr>\n",
              "    <tr>\n",
              "      <th>2020-05-24 00:00:00+00:00</th>\n",
              "      <td>7169.637541</td>\n",
              "    </tr>\n",
              "    <tr>\n",
              "      <th>2020-05-25 00:00:00+00:00</th>\n",
              "      <td>7089.834710</td>\n",
              "    </tr>\n",
              "    <tr>\n",
              "      <th>2020-05-26 00:00:00+00:00</th>\n",
              "      <td>7184.215331</td>\n",
              "    </tr>\n",
              "    <tr>\n",
              "      <th>2020-05-27 00:00:00+00:00</th>\n",
              "      <td>7328.951956</td>\n",
              "    </tr>\n",
              "    <tr>\n",
              "      <th>2020-05-28 00:00:00+00:00</th>\n",
              "      <td>8965.852961</td>\n",
              "    </tr>\n",
              "    <tr>\n",
              "      <th>2020-05-29 00:00:00+00:00</th>\n",
              "      <td>9209.848198</td>\n",
              "    </tr>\n",
              "    <tr>\n",
              "      <th>2020-05-30 00:00:00+00:00</th>\n",
              "      <td>8357.260010</td>\n",
              "    </tr>\n",
              "    <tr>\n",
              "      <th>2020-05-31 00:00:00+00:00</th>\n",
              "      <td>9030.961635</td>\n",
              "    </tr>\n",
              "    <tr>\n",
              "      <th>2020-06-01 00:00:00+00:00</th>\n",
              "      <td>8409.542103</td>\n",
              "    </tr>\n",
              "    <tr>\n",
              "      <th>2020-06-02 00:00:00+00:00</th>\n",
              "      <td>8362.262339</td>\n",
              "    </tr>\n",
              "    <tr>\n",
              "      <th>2020-06-03 00:00:00+00:00</th>\n",
              "      <td>8133.059716</td>\n",
              "    </tr>\n",
              "    <tr>\n",
              "      <th>2020-06-04 00:00:00+00:00</th>\n",
              "      <td>9184.633114</td>\n",
              "    </tr>\n",
              "  </tbody>\n",
              "</table>\n",
              "</div>"
            ],
            "text/plain": [
              "                            Prediction\n",
              "time                                  \n",
              "2020-05-15 00:00:00+00:00  9026.238196\n",
              "2020-05-16 00:00:00+00:00  9047.110683\n",
              "2020-05-17 00:00:00+00:00  8183.542034\n",
              "2020-05-18 00:00:00+00:00  7709.689758\n",
              "2020-05-19 00:00:00+00:00  7707.808155\n",
              "2020-05-20 00:00:00+00:00  8855.139465\n",
              "2020-05-21 00:00:00+00:00  8417.071503\n",
              "2020-05-22 00:00:00+00:00  7194.290187\n",
              "2020-05-23 00:00:00+00:00  7278.314584\n",
              "2020-05-24 00:00:00+00:00  7169.637541\n",
              "2020-05-25 00:00:00+00:00  7089.834710\n",
              "2020-05-26 00:00:00+00:00  7184.215331\n",
              "2020-05-27 00:00:00+00:00  7328.951956\n",
              "2020-05-28 00:00:00+00:00  8965.852961\n",
              "2020-05-29 00:00:00+00:00  9209.848198\n",
              "2020-05-30 00:00:00+00:00  8357.260010\n",
              "2020-05-31 00:00:00+00:00  9030.961635\n",
              "2020-06-01 00:00:00+00:00  8409.542103\n",
              "2020-06-02 00:00:00+00:00  8362.262339\n",
              "2020-06-03 00:00:00+00:00  8133.059716\n",
              "2020-06-04 00:00:00+00:00  9184.633114"
            ]
          },
          "metadata": {
            "tags": []
          },
          "execution_count": 128
        }
      ]
    },
    {
      "cell_type": "code",
      "metadata": {
        "id": "K-DtzDjQW521",
        "colab_type": "code",
        "colab": {
          "base_uri": "https://localhost:8080/",
          "height": 707
        },
        "outputId": "6acac81a-0e46-439f-afb8-8ef46a4ffffb"
      },
      "source": [
        "#Merge predicted vs actual \n",
        "#PredictionVSactual = y_test_may.merge(y_prediction, on=None, how='left')\n",
        "\n",
        "PredictionVSactual = y_test_may.join(y_prediction)\n",
        "\n",
        "\n",
        "#PredictionVSactual = PredictionVSactual.set_index('time')\n",
        "#PredictionVSactual.columns=['Prediction','Index' ,'Real']\n",
        "\n",
        "#PredictionVSactual = PredictionVSactual[['Prediction', 'Real']]\n",
        "\n",
        "PredictionVSactual"
      ],
      "execution_count": 129,
      "outputs": [
        {
          "output_type": "execute_result",
          "data": {
            "text/html": [
              "<div>\n",
              "<style scoped>\n",
              "    .dataframe tbody tr th:only-of-type {\n",
              "        vertical-align: middle;\n",
              "    }\n",
              "\n",
              "    .dataframe tbody tr th {\n",
              "        vertical-align: top;\n",
              "    }\n",
              "\n",
              "    .dataframe thead th {\n",
              "        text-align: right;\n",
              "    }\n",
              "</style>\n",
              "<table border=\"1\" class=\"dataframe\">\n",
              "  <thead>\n",
              "    <tr style=\"text-align: right;\">\n",
              "      <th></th>\n",
              "      <th>BTC_close</th>\n",
              "      <th>Prediction</th>\n",
              "    </tr>\n",
              "    <tr>\n",
              "      <th>time</th>\n",
              "      <th></th>\n",
              "      <th></th>\n",
              "    </tr>\n",
              "  </thead>\n",
              "  <tbody>\n",
              "    <tr>\n",
              "      <th>2020-05-15 00:00:00+00:00</th>\n",
              "      <td>9311.200000</td>\n",
              "      <td>9026.238196</td>\n",
              "    </tr>\n",
              "    <tr>\n",
              "      <th>2020-05-16 00:00:00+00:00</th>\n",
              "      <td>9387.952090</td>\n",
              "      <td>9047.110683</td>\n",
              "    </tr>\n",
              "    <tr>\n",
              "      <th>2020-05-17 00:00:00+00:00</th>\n",
              "      <td>9668.200000</td>\n",
              "      <td>8183.542034</td>\n",
              "    </tr>\n",
              "    <tr>\n",
              "      <th>2020-05-18 00:00:00+00:00</th>\n",
              "      <td>9714.825163</td>\n",
              "      <td>7709.689758</td>\n",
              "    </tr>\n",
              "    <tr>\n",
              "      <th>2020-05-19 00:00:00+00:00</th>\n",
              "      <td>9769.400000</td>\n",
              "      <td>7707.808155</td>\n",
              "    </tr>\n",
              "    <tr>\n",
              "      <th>2020-05-20 00:00:00+00:00</th>\n",
              "      <td>9502.000000</td>\n",
              "      <td>8855.139465</td>\n",
              "    </tr>\n",
              "    <tr>\n",
              "      <th>2020-05-21 00:00:00+00:00</th>\n",
              "      <td>9057.100000</td>\n",
              "      <td>8417.071503</td>\n",
              "    </tr>\n",
              "    <tr>\n",
              "      <th>2020-05-22 00:00:00+00:00</th>\n",
              "      <td>9162.400000</td>\n",
              "      <td>7194.290187</td>\n",
              "    </tr>\n",
              "    <tr>\n",
              "      <th>2020-05-23 00:00:00+00:00</th>\n",
              "      <td>9175.600000</td>\n",
              "      <td>7278.314584</td>\n",
              "    </tr>\n",
              "    <tr>\n",
              "      <th>2020-05-24 00:00:00+00:00</th>\n",
              "      <td>8710.100000</td>\n",
              "      <td>7169.637541</td>\n",
              "    </tr>\n",
              "    <tr>\n",
              "      <th>2020-05-25 00:00:00+00:00</th>\n",
              "      <td>8902.000000</td>\n",
              "      <td>7089.834710</td>\n",
              "    </tr>\n",
              "    <tr>\n",
              "      <th>2020-05-26 00:00:00+00:00</th>\n",
              "      <td>8845.500000</td>\n",
              "      <td>7184.215331</td>\n",
              "    </tr>\n",
              "    <tr>\n",
              "      <th>2020-05-27 00:00:00+00:00</th>\n",
              "      <td>9210.298717</td>\n",
              "      <td>7328.951956</td>\n",
              "    </tr>\n",
              "    <tr>\n",
              "      <th>2020-05-28 00:00:00+00:00</th>\n",
              "      <td>9589.300000</td>\n",
              "      <td>8965.852961</td>\n",
              "    </tr>\n",
              "    <tr>\n",
              "      <th>2020-05-29 00:00:00+00:00</th>\n",
              "      <td>9426.100000</td>\n",
              "      <td>9209.848198</td>\n",
              "    </tr>\n",
              "    <tr>\n",
              "      <th>2020-05-30 00:00:00+00:00</th>\n",
              "      <td>9706.400000</td>\n",
              "      <td>8357.260010</td>\n",
              "    </tr>\n",
              "    <tr>\n",
              "      <th>2020-05-31 00:00:00+00:00</th>\n",
              "      <td>9451.100000</td>\n",
              "      <td>9030.961635</td>\n",
              "    </tr>\n",
              "    <tr>\n",
              "      <th>2020-06-01 00:00:00+00:00</th>\n",
              "      <td>10225.976000</td>\n",
              "      <td>8409.542103</td>\n",
              "    </tr>\n",
              "    <tr>\n",
              "      <th>2020-06-02 00:00:00+00:00</th>\n",
              "      <td>9526.968083</td>\n",
              "      <td>8362.262339</td>\n",
              "    </tr>\n",
              "    <tr>\n",
              "      <th>2020-06-03 00:00:00+00:00</th>\n",
              "      <td>9676.600000</td>\n",
              "      <td>8133.059716</td>\n",
              "    </tr>\n",
              "    <tr>\n",
              "      <th>2020-06-04 00:00:00+00:00</th>\n",
              "      <td>9790.700076</td>\n",
              "      <td>9184.633114</td>\n",
              "    </tr>\n",
              "  </tbody>\n",
              "</table>\n",
              "</div>"
            ],
            "text/plain": [
              "                              BTC_close   Prediction\n",
              "time                                                \n",
              "2020-05-15 00:00:00+00:00   9311.200000  9026.238196\n",
              "2020-05-16 00:00:00+00:00   9387.952090  9047.110683\n",
              "2020-05-17 00:00:00+00:00   9668.200000  8183.542034\n",
              "2020-05-18 00:00:00+00:00   9714.825163  7709.689758\n",
              "2020-05-19 00:00:00+00:00   9769.400000  7707.808155\n",
              "2020-05-20 00:00:00+00:00   9502.000000  8855.139465\n",
              "2020-05-21 00:00:00+00:00   9057.100000  8417.071503\n",
              "2020-05-22 00:00:00+00:00   9162.400000  7194.290187\n",
              "2020-05-23 00:00:00+00:00   9175.600000  7278.314584\n",
              "2020-05-24 00:00:00+00:00   8710.100000  7169.637541\n",
              "2020-05-25 00:00:00+00:00   8902.000000  7089.834710\n",
              "2020-05-26 00:00:00+00:00   8845.500000  7184.215331\n",
              "2020-05-27 00:00:00+00:00   9210.298717  7328.951956\n",
              "2020-05-28 00:00:00+00:00   9589.300000  8965.852961\n",
              "2020-05-29 00:00:00+00:00   9426.100000  9209.848198\n",
              "2020-05-30 00:00:00+00:00   9706.400000  8357.260010\n",
              "2020-05-31 00:00:00+00:00   9451.100000  9030.961635\n",
              "2020-06-01 00:00:00+00:00  10225.976000  8409.542103\n",
              "2020-06-02 00:00:00+00:00   9526.968083  8362.262339\n",
              "2020-06-03 00:00:00+00:00   9676.600000  8133.059716\n",
              "2020-06-04 00:00:00+00:00   9790.700076  9184.633114"
            ]
          },
          "metadata": {
            "tags": []
          },
          "execution_count": 129
        }
      ]
    },
    {
      "cell_type": "code",
      "metadata": {
        "id": "516jwU2vWdJF",
        "colab_type": "code",
        "colab": {
          "base_uri": "https://localhost:8080/",
          "height": 610
        },
        "outputId": "9dd31966-37cc-4e53-a81e-743b5ce074d5"
      },
      "source": [
        "import matplotlib.pyplot as plt\n",
        "\n",
        "import seaborn as sns\n",
        "# Use seaborn style defaults and set the default figure size\n",
        "sns.set(rc={'figure.figsize':(20, 10)})\n",
        "\n",
        "# plot\n",
        "plt.plot(PredictionVSactual)\n",
        "plt.title(\"Predictions Vs Actual\")\n",
        "plt.legend(['Real_Price','Predicted'],loc='upper left')\n",
        "plt.show()"
      ],
      "execution_count": 130,
      "outputs": [
        {
          "output_type": "display_data",
          "data": {
            "image/png": "[encoded data removed]",
            "text/plain": [
              "<Figure size 1440x720 with 1 Axes>"
            ]
          },
          "metadata": {
            "tags": []
          }
        }
      ]
    },
    {
      "cell_type": "markdown",
      "metadata": {
        "id": "vlhpcpVt1luq",
        "colab_type": "text"
      },
      "source": [
        "## July"
      ]
    },
    {
      "cell_type": "code",
      "metadata": {
        "id": "AuRDLPcC8QJ-",
        "colab_type": "code",
        "colab": {}
      },
      "source": [
        "#COPY \n",
        "# July train and test sets\n",
        "train_july = data2[1:1132]\n",
        "test_july = data2[1132:1153]"
      ],
      "execution_count": 166,
      "outputs": []
    },
    {
      "cell_type": "code",
      "metadata": {
        "colab_type": "code",
        "id": "TxywCkPs8I1i",
        "colab": {}
      },
      "source": [
        "# Select the independent variables for the first experiment in 'x' and the dependent variable 'y' for MAY\n",
        "x_train_july = train_july[['ETHER_open', 'ETHER_close', 'ETHER_vol', 'XRP_open', 'XRP_close', 'XRP_vol', 'BTC_open_dup', 'BTC_close_dup', 'BTC_vol_dup']]\n",
        "y_train_july = train_july['BTC_close']\n",
        "# Setup testing x and y variables\n",
        "x_test_july = test_july[['ETHER_open', 'ETHER_close', 'ETHER_vol', 'XRP_open', 'XRP_close', 'XRP_vol', 'BTC_open_dup', 'BTC_close_dup', 'BTC_vol_dup']]\n",
        "y_test_july = test_july['BTC_close']"
      ],
      "execution_count": 167,
      "outputs": []
    },
    {
      "cell_type": "code",
      "metadata": {
        "colab_type": "code",
        "id": "hRUqE8WN8I1m",
        "colab": {
          "base_uri": "https://localhost:8080/",
          "height": 141
        },
        "outputId": "ae38b4e2-89e2-46bb-d6d9-e95718d4b458"
      },
      "source": [
        "RandomForestRegression.fit(x_train_july, y_train_july)"
      ],
      "execution_count": 168,
      "outputs": [
        {
          "output_type": "execute_result",
          "data": {
            "text/plain": [
              "RandomForestRegressor(bootstrap=True, ccp_alpha=0.0, criterion='mse',\n",
              "                      max_depth=None, max_features='auto', max_leaf_nodes=None,\n",
              "                      max_samples=None, min_impurity_decrease=0.0,\n",
              "                      min_impurity_split=None, min_samples_leaf=1,\n",
              "                      min_samples_split=2, min_weight_fraction_leaf=0.0,\n",
              "                      n_estimators=500, n_jobs=None, oob_score=False,\n",
              "                      random_state=None, verbose=0, warm_start=False)"
            ]
          },
          "metadata": {
            "tags": []
          },
          "execution_count": 168
        }
      ]
    },
    {
      "cell_type": "code",
      "metadata": {
        "colab_type": "code",
        "id": "SSeO4DIG8I1p",
        "colab": {
          "base_uri": "https://localhost:8080/",
          "height": 123
        },
        "outputId": "707c0d39-00c6-4127-8695-b27ae2f28c59"
      },
      "source": [
        "y_prediction_july = RandomForestRegression.predict(x_test_july)\n",
        "y_prediction_july"
      ],
      "execution_count": 169,
      "outputs": [
        {
          "output_type": "execute_result",
          "data": {
            "text/plain": [
              "array([9143.88835559, 8907.46597547, 8783.67597317, 8658.14497072,\n",
              "       8686.2261248 , 8746.58313221, 8721.90400751, 8795.01537498,\n",
              "       8722.17892169, 8664.88328293, 8683.82445374, 8694.08463724,\n",
              "       9067.24496315, 8925.14508309, 8937.62608039, 8461.21527548,\n",
              "       9021.92022242, 8806.2041674 , 9024.39557598, 8811.55994106,\n",
              "       8806.19450018])"
            ]
          },
          "metadata": {
            "tags": []
          },
          "execution_count": 169
        }
      ]
    },
    {
      "cell_type": "code",
      "metadata": {
        "colab_type": "code",
        "id": "D8P_2m2l8I1s",
        "colab": {
          "base_uri": "https://localhost:8080/",
          "height": 34
        },
        "outputId": "b8d0bcac-84a6-42db-c0d4-228e2beac2b1"
      },
      "source": [
        "rf_mse = mean_squared_error(y_test_july, y_prediction_july)\n",
        "rf_mse\n",
        "\n",
        "rf_rmse = np.sqrt(rf_mse)\n",
        "rf_rmse"
      ],
      "execution_count": 170,
      "outputs": [
        {
          "output_type": "execute_result",
          "data": {
            "text/plain": [
              "1637.1993529510305"
            ]
          },
          "metadata": {
            "tags": []
          },
          "execution_count": 170
        }
      ]
    },
    {
      "cell_type": "code",
      "metadata": {
        "colab_type": "code",
        "id": "MXSrt5V58I1u",
        "colab": {
          "base_uri": "https://localhost:8080/",
          "height": 707
        },
        "outputId": "ea66e4a2-70e6-4271-88f7-79e18108b259"
      },
      "source": [
        "y_test_july = pd.DataFrame(y_test_july)\n",
        "#y_test_may['index'] = range(1,8)\n",
        "y_test_july"
      ],
      "execution_count": 171,
      "outputs": [
        {
          "output_type": "execute_result",
          "data": {
            "text/html": [
              "<div>\n",
              "<style scoped>\n",
              "    .dataframe tbody tr th:only-of-type {\n",
              "        vertical-align: middle;\n",
              "    }\n",
              "\n",
              "    .dataframe tbody tr th {\n",
              "        vertical-align: top;\n",
              "    }\n",
              "\n",
              "    .dataframe thead th {\n",
              "        text-align: right;\n",
              "    }\n",
              "</style>\n",
              "<table border=\"1\" class=\"dataframe\">\n",
              "  <thead>\n",
              "    <tr style=\"text-align: right;\">\n",
              "      <th></th>\n",
              "      <th>BTC_close</th>\n",
              "    </tr>\n",
              "    <tr>\n",
              "      <th>time</th>\n",
              "      <th></th>\n",
              "    </tr>\n",
              "  </thead>\n",
              "  <tbody>\n",
              "    <tr>\n",
              "      <th>2020-07-15 00:00:00+00:00</th>\n",
              "      <td>9210.100000</td>\n",
              "    </tr>\n",
              "    <tr>\n",
              "      <th>2020-07-16 00:00:00+00:00</th>\n",
              "      <td>9149.600000</td>\n",
              "    </tr>\n",
              "    <tr>\n",
              "      <th>2020-07-17 00:00:00+00:00</th>\n",
              "      <td>9167.328612</td>\n",
              "    </tr>\n",
              "    <tr>\n",
              "      <th>2020-07-18 00:00:00+00:00</th>\n",
              "      <td>9189.100000</td>\n",
              "    </tr>\n",
              "    <tr>\n",
              "      <th>2020-07-19 00:00:00+00:00</th>\n",
              "      <td>9231.200000</td>\n",
              "    </tr>\n",
              "    <tr>\n",
              "      <th>2020-07-20 00:00:00+00:00</th>\n",
              "      <td>9179.200000</td>\n",
              "    </tr>\n",
              "    <tr>\n",
              "      <th>2020-07-21 00:00:00+00:00</th>\n",
              "      <td>9402.000000</td>\n",
              "    </tr>\n",
              "    <tr>\n",
              "      <th>2020-07-22 00:00:00+00:00</th>\n",
              "      <td>9557.700000</td>\n",
              "    </tr>\n",
              "    <tr>\n",
              "      <th>2020-07-23 00:00:00+00:00</th>\n",
              "      <td>9615.000000</td>\n",
              "    </tr>\n",
              "    <tr>\n",
              "      <th>2020-07-24 00:00:00+00:00</th>\n",
              "      <td>9559.100000</td>\n",
              "    </tr>\n",
              "    <tr>\n",
              "      <th>2020-07-25 00:00:00+00:00</th>\n",
              "      <td>9714.890204</td>\n",
              "    </tr>\n",
              "    <tr>\n",
              "      <th>2020-07-26 00:00:00+00:00</th>\n",
              "      <td>9948.400000</td>\n",
              "    </tr>\n",
              "    <tr>\n",
              "      <th>2020-07-27 00:00:00+00:00</th>\n",
              "      <td>11043.962880</td>\n",
              "    </tr>\n",
              "    <tr>\n",
              "      <th>2020-07-28 00:00:00+00:00</th>\n",
              "      <td>10932.000000</td>\n",
              "    </tr>\n",
              "    <tr>\n",
              "      <th>2020-07-29 00:00:00+00:00</th>\n",
              "      <td>11117.000000</td>\n",
              "    </tr>\n",
              "    <tr>\n",
              "      <th>2020-07-30 00:00:00+00:00</th>\n",
              "      <td>11123.000000</td>\n",
              "    </tr>\n",
              "    <tr>\n",
              "      <th>2020-07-31 00:00:00+00:00</th>\n",
              "      <td>11350.000000</td>\n",
              "    </tr>\n",
              "    <tr>\n",
              "      <th>2020-08-01 00:00:00+00:00</th>\n",
              "      <td>11804.744013</td>\n",
              "    </tr>\n",
              "    <tr>\n",
              "      <th>2020-08-02 00:00:00+00:00</th>\n",
              "      <td>11053.772562</td>\n",
              "    </tr>\n",
              "    <tr>\n",
              "      <th>2020-08-03 00:00:00+00:00</th>\n",
              "      <td>11226.521728</td>\n",
              "    </tr>\n",
              "    <tr>\n",
              "      <th>2020-08-04 00:00:00+00:00</th>\n",
              "      <td>11236.000000</td>\n",
              "    </tr>\n",
              "  </tbody>\n",
              "</table>\n",
              "</div>"
            ],
            "text/plain": [
              "                              BTC_close\n",
              "time                                   \n",
              "2020-07-15 00:00:00+00:00   9210.100000\n",
              "2020-07-16 00:00:00+00:00   9149.600000\n",
              "2020-07-17 00:00:00+00:00   9167.328612\n",
              "2020-07-18 00:00:00+00:00   9189.100000\n",
              "2020-07-19 00:00:00+00:00   9231.200000\n",
              "2020-07-20 00:00:00+00:00   9179.200000\n",
              "2020-07-21 00:00:00+00:00   9402.000000\n",
              "2020-07-22 00:00:00+00:00   9557.700000\n",
              "2020-07-23 00:00:00+00:00   9615.000000\n",
              "2020-07-24 00:00:00+00:00   9559.100000\n",
              "2020-07-25 00:00:00+00:00   9714.890204\n",
              "2020-07-26 00:00:00+00:00   9948.400000\n",
              "2020-07-27 00:00:00+00:00  11043.962880\n",
              "2020-07-28 00:00:00+00:00  10932.000000\n",
              "2020-07-29 00:00:00+00:00  11117.000000\n",
              "2020-07-30 00:00:00+00:00  11123.000000\n",
              "2020-07-31 00:00:00+00:00  11350.000000\n",
              "2020-08-01 00:00:00+00:00  11804.744013\n",
              "2020-08-02 00:00:00+00:00  11053.772562\n",
              "2020-08-03 00:00:00+00:00  11226.521728\n",
              "2020-08-04 00:00:00+00:00  11236.000000"
            ]
          },
          "metadata": {
            "tags": []
          },
          "execution_count": 171
        }
      ]
    },
    {
      "cell_type": "code",
      "metadata": {
        "colab_type": "code",
        "id": "J_8MR7aJ8I1w",
        "colab": {
          "base_uri": "https://localhost:8080/",
          "height": 707
        },
        "outputId": "af3044ee-dfdc-4f68-dbc0-67676ad6be3b"
      },
      "source": [
        "y_prediction_july = pd.DataFrame(y_prediction_july)\n",
        "y_prediction_july.index=y_test_july.index\n",
        "y_prediction_july.columns=['Prediction']\n",
        "#y_prediction['index'] = range(1,8)\n",
        "y_prediction_july"
      ],
      "execution_count": 172,
      "outputs": [
        {
          "output_type": "execute_result",
          "data": {
            "text/html": [
              "<div>\n",
              "<style scoped>\n",
              "    .dataframe tbody tr th:only-of-type {\n",
              "        vertical-align: middle;\n",
              "    }\n",
              "\n",
              "    .dataframe tbody tr th {\n",
              "        vertical-align: top;\n",
              "    }\n",
              "\n",
              "    .dataframe thead th {\n",
              "        text-align: right;\n",
              "    }\n",
              "</style>\n",
              "<table border=\"1\" class=\"dataframe\">\n",
              "  <thead>\n",
              "    <tr style=\"text-align: right;\">\n",
              "      <th></th>\n",
              "      <th>Prediction</th>\n",
              "    </tr>\n",
              "    <tr>\n",
              "      <th>time</th>\n",
              "      <th></th>\n",
              "    </tr>\n",
              "  </thead>\n",
              "  <tbody>\n",
              "    <tr>\n",
              "      <th>2020-07-15 00:00:00+00:00</th>\n",
              "      <td>9143.888356</td>\n",
              "    </tr>\n",
              "    <tr>\n",
              "      <th>2020-07-16 00:00:00+00:00</th>\n",
              "      <td>8907.465975</td>\n",
              "    </tr>\n",
              "    <tr>\n",
              "      <th>2020-07-17 00:00:00+00:00</th>\n",
              "      <td>8783.675973</td>\n",
              "    </tr>\n",
              "    <tr>\n",
              "      <th>2020-07-18 00:00:00+00:00</th>\n",
              "      <td>8658.144971</td>\n",
              "    </tr>\n",
              "    <tr>\n",
              "      <th>2020-07-19 00:00:00+00:00</th>\n",
              "      <td>8686.226125</td>\n",
              "    </tr>\n",
              "    <tr>\n",
              "      <th>2020-07-20 00:00:00+00:00</th>\n",
              "      <td>8746.583132</td>\n",
              "    </tr>\n",
              "    <tr>\n",
              "      <th>2020-07-21 00:00:00+00:00</th>\n",
              "      <td>8721.904008</td>\n",
              "    </tr>\n",
              "    <tr>\n",
              "      <th>2020-07-22 00:00:00+00:00</th>\n",
              "      <td>8795.015375</td>\n",
              "    </tr>\n",
              "    <tr>\n",
              "      <th>2020-07-23 00:00:00+00:00</th>\n",
              "      <td>8722.178922</td>\n",
              "    </tr>\n",
              "    <tr>\n",
              "      <th>2020-07-24 00:00:00+00:00</th>\n",
              "      <td>8664.883283</td>\n",
              "    </tr>\n",
              "    <tr>\n",
              "      <th>2020-07-25 00:00:00+00:00</th>\n",
              "      <td>8683.824454</td>\n",
              "    </tr>\n",
              "    <tr>\n",
              "      <th>2020-07-26 00:00:00+00:00</th>\n",
              "      <td>8694.084637</td>\n",
              "    </tr>\n",
              "    <tr>\n",
              "      <th>2020-07-27 00:00:00+00:00</th>\n",
              "      <td>9067.244963</td>\n",
              "    </tr>\n",
              "    <tr>\n",
              "      <th>2020-07-28 00:00:00+00:00</th>\n",
              "      <td>8925.145083</td>\n",
              "    </tr>\n",
              "    <tr>\n",
              "      <th>2020-07-29 00:00:00+00:00</th>\n",
              "      <td>8937.626080</td>\n",
              "    </tr>\n",
              "    <tr>\n",
              "      <th>2020-07-30 00:00:00+00:00</th>\n",
              "      <td>8461.215275</td>\n",
              "    </tr>\n",
              "    <tr>\n",
              "      <th>2020-07-31 00:00:00+00:00</th>\n",
              "      <td>9021.920222</td>\n",
              "    </tr>\n",
              "    <tr>\n",
              "      <th>2020-08-01 00:00:00+00:00</th>\n",
              "      <td>8806.204167</td>\n",
              "    </tr>\n",
              "    <tr>\n",
              "      <th>2020-08-02 00:00:00+00:00</th>\n",
              "      <td>9024.395576</td>\n",
              "    </tr>\n",
              "    <tr>\n",
              "      <th>2020-08-03 00:00:00+00:00</th>\n",
              "      <td>8811.559941</td>\n",
              "    </tr>\n",
              "    <tr>\n",
              "      <th>2020-08-04 00:00:00+00:00</th>\n",
              "      <td>8806.194500</td>\n",
              "    </tr>\n",
              "  </tbody>\n",
              "</table>\n",
              "</div>"
            ],
            "text/plain": [
              "                            Prediction\n",
              "time                                  \n",
              "2020-07-15 00:00:00+00:00  9143.888356\n",
              "2020-07-16 00:00:00+00:00  8907.465975\n",
              "2020-07-17 00:00:00+00:00  8783.675973\n",
              "2020-07-18 00:00:00+00:00  8658.144971\n",
              "2020-07-19 00:00:00+00:00  8686.226125\n",
              "2020-07-20 00:00:00+00:00  8746.583132\n",
              "2020-07-21 00:00:00+00:00  8721.904008\n",
              "2020-07-22 00:00:00+00:00  8795.015375\n",
              "2020-07-23 00:00:00+00:00  8722.178922\n",
              "2020-07-24 00:00:00+00:00  8664.883283\n",
              "2020-07-25 00:00:00+00:00  8683.824454\n",
              "2020-07-26 00:00:00+00:00  8694.084637\n",
              "2020-07-27 00:00:00+00:00  9067.244963\n",
              "2020-07-28 00:00:00+00:00  8925.145083\n",
              "2020-07-29 00:00:00+00:00  8937.626080\n",
              "2020-07-30 00:00:00+00:00  8461.215275\n",
              "2020-07-31 00:00:00+00:00  9021.920222\n",
              "2020-08-01 00:00:00+00:00  8806.204167\n",
              "2020-08-02 00:00:00+00:00  9024.395576\n",
              "2020-08-03 00:00:00+00:00  8811.559941\n",
              "2020-08-04 00:00:00+00:00  8806.194500"
            ]
          },
          "metadata": {
            "tags": []
          },
          "execution_count": 172
        }
      ]
    },
    {
      "cell_type": "code",
      "metadata": {
        "colab_type": "code",
        "id": "nTt7UBrK8I1z",
        "colab": {
          "base_uri": "https://localhost:8080/",
          "height": 707
        },
        "outputId": "faee152b-1575-4aff-daa3-1aa67a845277"
      },
      "source": [
        "#Merge predicted vs actual \n",
        "#PredictionVSactual = y_test_may.merge(y_prediction, on=None, how='left')\n",
        "\n",
        "PredictionVSactual_july = y_test_july.join(y_prediction_july)\n",
        "\n",
        "\n",
        "#PredictionVSactual = PredictionVSactual.set_index('time')\n",
        "#PredictionVSactual.columns=['Prediction','Index' ,'Real']\n",
        "\n",
        "#PredictionVSactual = PredictionVSactual[['Prediction', 'Real']]\n",
        "\n",
        "PredictionVSactual_july"
      ],
      "execution_count": 173,
      "outputs": [
        {
          "output_type": "execute_result",
          "data": {
            "text/html": [
              "<div>\n",
              "<style scoped>\n",
              "    .dataframe tbody tr th:only-of-type {\n",
              "        vertical-align: middle;\n",
              "    }\n",
              "\n",
              "    .dataframe tbody tr th {\n",
              "        vertical-align: top;\n",
              "    }\n",
              "\n",
              "    .dataframe thead th {\n",
              "        text-align: right;\n",
              "    }\n",
              "</style>\n",
              "<table border=\"1\" class=\"dataframe\">\n",
              "  <thead>\n",
              "    <tr style=\"text-align: right;\">\n",
              "      <th></th>\n",
              "      <th>BTC_close</th>\n",
              "      <th>Prediction</th>\n",
              "    </tr>\n",
              "    <tr>\n",
              "      <th>time</th>\n",
              "      <th></th>\n",
              "      <th></th>\n",
              "    </tr>\n",
              "  </thead>\n",
              "  <tbody>\n",
              "    <tr>\n",
              "      <th>2020-07-15 00:00:00+00:00</th>\n",
              "      <td>9210.100000</td>\n",
              "      <td>9143.888356</td>\n",
              "    </tr>\n",
              "    <tr>\n",
              "      <th>2020-07-16 00:00:00+00:00</th>\n",
              "      <td>9149.600000</td>\n",
              "      <td>8907.465975</td>\n",
              "    </tr>\n",
              "    <tr>\n",
              "      <th>2020-07-17 00:00:00+00:00</th>\n",
              "      <td>9167.328612</td>\n",
              "      <td>8783.675973</td>\n",
              "    </tr>\n",
              "    <tr>\n",
              "      <th>2020-07-18 00:00:00+00:00</th>\n",
              "      <td>9189.100000</td>\n",
              "      <td>8658.144971</td>\n",
              "    </tr>\n",
              "    <tr>\n",
              "      <th>2020-07-19 00:00:00+00:00</th>\n",
              "      <td>9231.200000</td>\n",
              "      <td>8686.226125</td>\n",
              "    </tr>\n",
              "    <tr>\n",
              "      <th>2020-07-20 00:00:00+00:00</th>\n",
              "      <td>9179.200000</td>\n",
              "      <td>8746.583132</td>\n",
              "    </tr>\n",
              "    <tr>\n",
              "      <th>2020-07-21 00:00:00+00:00</th>\n",
              "      <td>9402.000000</td>\n",
              "      <td>8721.904008</td>\n",
              "    </tr>\n",
              "    <tr>\n",
              "      <th>2020-07-22 00:00:00+00:00</th>\n",
              "      <td>9557.700000</td>\n",
              "      <td>8795.015375</td>\n",
              "    </tr>\n",
              "    <tr>\n",
              "      <th>2020-07-23 00:00:00+00:00</th>\n",
              "      <td>9615.000000</td>\n",
              "      <td>8722.178922</td>\n",
              "    </tr>\n",
              "    <tr>\n",
              "      <th>2020-07-24 00:00:00+00:00</th>\n",
              "      <td>9559.100000</td>\n",
              "      <td>8664.883283</td>\n",
              "    </tr>\n",
              "    <tr>\n",
              "      <th>2020-07-25 00:00:00+00:00</th>\n",
              "      <td>9714.890204</td>\n",
              "      <td>8683.824454</td>\n",
              "    </tr>\n",
              "    <tr>\n",
              "      <th>2020-07-26 00:00:00+00:00</th>\n",
              "      <td>9948.400000</td>\n",
              "      <td>8694.084637</td>\n",
              "    </tr>\n",
              "    <tr>\n",
              "      <th>2020-07-27 00:00:00+00:00</th>\n",
              "      <td>11043.962880</td>\n",
              "      <td>9067.244963</td>\n",
              "    </tr>\n",
              "    <tr>\n",
              "      <th>2020-07-28 00:00:00+00:00</th>\n",
              "      <td>10932.000000</td>\n",
              "      <td>8925.145083</td>\n",
              "    </tr>\n",
              "    <tr>\n",
              "      <th>2020-07-29 00:00:00+00:00</th>\n",
              "      <td>11117.000000</td>\n",
              "      <td>8937.626080</td>\n",
              "    </tr>\n",
              "    <tr>\n",
              "      <th>2020-07-30 00:00:00+00:00</th>\n",
              "      <td>11123.000000</td>\n",
              "      <td>8461.215275</td>\n",
              "    </tr>\n",
              "    <tr>\n",
              "      <th>2020-07-31 00:00:00+00:00</th>\n",
              "      <td>11350.000000</td>\n",
              "      <td>9021.920222</td>\n",
              "    </tr>\n",
              "    <tr>\n",
              "      <th>2020-08-01 00:00:00+00:00</th>\n",
              "      <td>11804.744013</td>\n",
              "      <td>8806.204167</td>\n",
              "    </tr>\n",
              "    <tr>\n",
              "      <th>2020-08-02 00:00:00+00:00</th>\n",
              "      <td>11053.772562</td>\n",
              "      <td>9024.395576</td>\n",
              "    </tr>\n",
              "    <tr>\n",
              "      <th>2020-08-03 00:00:00+00:00</th>\n",
              "      <td>11226.521728</td>\n",
              "      <td>8811.559941</td>\n",
              "    </tr>\n",
              "    <tr>\n",
              "      <th>2020-08-04 00:00:00+00:00</th>\n",
              "      <td>11236.000000</td>\n",
              "      <td>8806.194500</td>\n",
              "    </tr>\n",
              "  </tbody>\n",
              "</table>\n",
              "</div>"
            ],
            "text/plain": [
              "                              BTC_close   Prediction\n",
              "time                                                \n",
              "2020-07-15 00:00:00+00:00   9210.100000  9143.888356\n",
              "2020-07-16 00:00:00+00:00   9149.600000  8907.465975\n",
              "2020-07-17 00:00:00+00:00   9167.328612  8783.675973\n",
              "2020-07-18 00:00:00+00:00   9189.100000  8658.144971\n",
              "2020-07-19 00:00:00+00:00   9231.200000  8686.226125\n",
              "2020-07-20 00:00:00+00:00   9179.200000  8746.583132\n",
              "2020-07-21 00:00:00+00:00   9402.000000  8721.904008\n",
              "2020-07-22 00:00:00+00:00   9557.700000  8795.015375\n",
              "2020-07-23 00:00:00+00:00   9615.000000  8722.178922\n",
              "2020-07-24 00:00:00+00:00   9559.100000  8664.883283\n",
              "2020-07-25 00:00:00+00:00   9714.890204  8683.824454\n",
              "2020-07-26 00:00:00+00:00   9948.400000  8694.084637\n",
              "2020-07-27 00:00:00+00:00  11043.962880  9067.244963\n",
              "2020-07-28 00:00:00+00:00  10932.000000  8925.145083\n",
              "2020-07-29 00:00:00+00:00  11117.000000  8937.626080\n",
              "2020-07-30 00:00:00+00:00  11123.000000  8461.215275\n",
              "2020-07-31 00:00:00+00:00  11350.000000  9021.920222\n",
              "2020-08-01 00:00:00+00:00  11804.744013  8806.204167\n",
              "2020-08-02 00:00:00+00:00  11053.772562  9024.395576\n",
              "2020-08-03 00:00:00+00:00  11226.521728  8811.559941\n",
              "2020-08-04 00:00:00+00:00  11236.000000  8806.194500"
            ]
          },
          "metadata": {
            "tags": []
          },
          "execution_count": 173
        }
      ]
    },
    {
      "cell_type": "code",
      "metadata": {
        "colab_type": "code",
        "id": "fpWVBiNn8I12",
        "colab": {}
      },
      "source": [
        "import matplotlib.pyplot as plt\n",
        "\n",
        "import seaborn as sns\n",
        "# Use seaborn style defaults and set the default figure size\n",
        "sns.set(rc={'figure.figsize':(20, 10)})\n",
        "\n",
        "# plot\n",
        "plt.plot(PredictionVSactual_july)\n",
        "plt.title(\"Predictions Vs Actual\")\n",
        "plt.legend(['Real_Price','Predicted'],loc='upper left')\n",
        "plt.show()"
      ],
      "execution_count": null,
      "outputs": []
    },
    {
      "cell_type": "markdown",
      "metadata": {
        "id": "kpGbKbpDHab1",
        "colab_type": "text"
      },
      "source": [
        "# **Rob Modelling**"
      ]
    },
    {
      "cell_type": "markdown",
      "metadata": {
        "id": "KlC8-kQ1Rj9V",
        "colab_type": "text"
      },
      "source": [
        "#  Set test and train sets\n"
      ]
    },
    {
      "cell_type": "code",
      "metadata": {
        "id": "DUXcnYIMRezh",
        "colab_type": "code",
        "colab": {}
      },
      "source": [
        "# Select the independent variables for the first experiment in 'x' and the dependent variable 'y' for MAY\n",
        "x_train_may = train_may[['ETHER_open', 'ETHER_close', 'ETHER_vol', 'XRP_open', 'XRP_close', 'XRP_vol', 'BTC_open_dup', 'BTC_close_dup', 'BTC_vol_dup']]\n",
        "y_train_may = train_may['BTC_close']\n",
        "\n",
        "# Setup testing x and y variables\n",
        "x_test_may = test_may[['ETHER_open', 'ETHER_close', 'ETHER_vol', 'XRP_open', 'XRP_close', 'XRP_vol', 'BTC_open_dup', 'BTC_close_dup', 'BTC_vol_dup']]\n",
        "y_test_may = test_may['BTC_close']\n"
      ],
      "execution_count": 204,
      "outputs": []
    },
    {
      "cell_type": "code",
      "metadata": {
        "id": "_2EooSdhTb8r",
        "colab_type": "code",
        "colab": {}
      },
      "source": [
        "# Select the independent variables for the first experiment in 'x' and the dependent variable 'y' for JULY\n",
        "x_train_july = train_july[['ETHER_open', 'ETHER_close', 'ETHER_vol', 'XRP_open', 'XRP_close', 'XRP_vol', 'BTC_open_dup', 'BTC_close_dup', 'BTC_vol_dup']]\n",
        "y_train_july = train_july['BTC_close']\n",
        "\n",
        "# Setup testing x and y variables\n",
        "x_test_july = test_july[['ETHER_open', 'ETHER_close', 'ETHER_vol', 'XRP_open', 'XRP_close', 'XRP_vol', 'BTC_open_dup', 'BTC_close_dup', 'BTC_vol_dup']]\n",
        "y_test_july = test_july['BTC_close']\n"
      ],
      "execution_count": 205,
      "outputs": []
    },
    {
      "cell_type": "markdown",
      "metadata": {
        "id": "UzZb1l0e6exC",
        "colab_type": "text"
      },
      "source": [
        "# Linear Model - May"
      ]
    },
    {
      "cell_type": "code",
      "metadata": {
        "id": "tIS0Aq3Z6cuc",
        "colab_type": "code",
        "colab": {}
      },
      "source": [
        "# Import the requried packages for the linear regression model\n",
        "import numpy as np\n",
        "from sklearn.linear_model import LinearRegression\n",
        "\n",
        "model = LinearRegression()"
      ],
      "execution_count": 68,
      "outputs": []
    },
    {
      "cell_type": "code",
      "metadata": {
        "id": "pCI62EcwUgpA",
        "colab_type": "code",
        "colab": {}
      },
      "source": [
        "# Runt he linear regressor over the x and y training data\n",
        "model = LinearRegression().fit(x_train_may, y_train_may)"
      ],
      "execution_count": 69,
      "outputs": []
    },
    {
      "cell_type": "code",
      "metadata": {
        "id": "olCe7rRiVTFU",
        "colab_type": "code",
        "colab": {
          "base_uri": "https://localhost:8080/",
          "height": 545
        },
        "outputId": "cdb11ca0-b865-4065-da80-6e351114ef62"
      },
      "source": [
        "# Runt he linear regressor over the x and y training data\n",
        "from statsmodels.api import OLS\n",
        "OLS(y_train_may,x_train_may).fit().summary()"
      ],
      "execution_count": 70,
      "outputs": [
        {
          "output_type": "execute_result",
          "data": {
            "text/html": [
              "<table class=\"simpletable\">\n",
              "<caption>OLS Regression Results</caption>\n",
              "<tr>\n",
              "  <th>Dep. Variable:</th>        <td>BTC_close</td>    <th>  R-squared (uncentered):</th>      <td>   0.955</td> \n",
              "</tr>\n",
              "<tr>\n",
              "  <th>Model:</th>                   <td>OLS</td>       <th>  Adj. R-squared (uncentered):</th> <td>   0.954</td> \n",
              "</tr>\n",
              "<tr>\n",
              "  <th>Method:</th>             <td>Least Squares</td>  <th>  F-statistic:       </th>          <td>   2491.</td> \n",
              "</tr>\n",
              "<tr>\n",
              "  <th>Date:</th>             <td>Sat, 05 Sep 2020</td> <th>  Prob (F-statistic):</th>           <td>  0.00</td>  \n",
              "</tr>\n",
              "<tr>\n",
              "  <th>Time:</th>                 <td>07:57:04</td>     <th>  Log-Likelihood:    </th>          <td> -9455.7</td> \n",
              "</tr>\n",
              "<tr>\n",
              "  <th>No. Observations:</th>      <td>  1070</td>      <th>  AIC:               </th>          <td>1.893e+04</td>\n",
              "</tr>\n",
              "<tr>\n",
              "  <th>Df Residuals:</th>          <td>  1061</td>      <th>  BIC:               </th>          <td>1.897e+04</td>\n",
              "</tr>\n",
              "<tr>\n",
              "  <th>Df Model:</th>              <td>     9</td>      <th>                     </th>              <td> </td>    \n",
              "</tr>\n",
              "<tr>\n",
              "  <th>Covariance Type:</th>      <td>nonrobust</td>    <th>                     </th>              <td> </td>    \n",
              "</tr>\n",
              "</table>\n",
              "<table class=\"simpletable\">\n",
              "<tr>\n",
              "        <td></td>           <th>coef</th>     <th>std err</th>      <th>t</th>      <th>P>|t|</th>  <th>[0.025</th>    <th>0.975]</th>  \n",
              "</tr>\n",
              "<tr>\n",
              "  <th>ETHER_open</th>    <td>   -0.8379</td> <td>    2.871</td> <td>   -0.292</td> <td> 0.770</td> <td>   -6.471</td> <td>    4.795</td>\n",
              "</tr>\n",
              "<tr>\n",
              "  <th>ETHER_close</th>   <td>    1.3796</td> <td>    2.881</td> <td>    0.479</td> <td> 0.632</td> <td>   -4.273</td> <td>    7.033</td>\n",
              "</tr>\n",
              "<tr>\n",
              "  <th>ETHER_vol</th>     <td>    0.0006</td> <td>    0.000</td> <td>    1.799</td> <td> 0.072</td> <td>-5.68e-05</td> <td>    0.001</td>\n",
              "</tr>\n",
              "<tr>\n",
              "  <th>XRP_open</th>      <td>-1862.4221</td> <td> 1262.795</td> <td>   -1.475</td> <td> 0.141</td> <td>-4340.282</td> <td>  615.438</td>\n",
              "</tr>\n",
              "<tr>\n",
              "  <th>XRP_close</th>     <td> -810.7177</td> <td> 1285.304</td> <td>   -0.631</td> <td> 0.528</td> <td>-3332.745</td> <td> 1711.310</td>\n",
              "</tr>\n",
              "<tr>\n",
              "  <th>XRP_vol</th>       <td>-2.068e-06</td> <td> 1.11e-06</td> <td>   -1.862</td> <td> 0.063</td> <td>-4.25e-06</td> <td> 1.12e-07</td>\n",
              "</tr>\n",
              "<tr>\n",
              "  <th>BTC_open_dup</th>  <td>    0.0196</td> <td>    0.167</td> <td>    0.117</td> <td> 0.907</td> <td>   -0.308</td> <td>    0.347</td>\n",
              "</tr>\n",
              "<tr>\n",
              "  <th>BTC_close_dup</th> <td>    1.0253</td> <td>    0.166</td> <td>    6.182</td> <td> 0.000</td> <td>    0.700</td> <td>    1.351</td>\n",
              "</tr>\n",
              "<tr>\n",
              "  <th>BTC_vol_dup</th>   <td>    0.0204</td> <td>    0.003</td> <td>    6.281</td> <td> 0.000</td> <td>    0.014</td> <td>    0.027</td>\n",
              "</tr>\n",
              "</table>\n",
              "<table class=\"simpletable\">\n",
              "<tr>\n",
              "  <th>Omnibus:</th>       <td>209.110</td> <th>  Durbin-Watson:     </th> <td>   0.172</td> \n",
              "</tr>\n",
              "<tr>\n",
              "  <th>Prob(Omnibus):</th> <td> 0.000</td>  <th>  Jarque-Bera (JB):  </th> <td> 981.951</td> \n",
              "</tr>\n",
              "<tr>\n",
              "  <th>Skew:</th>          <td> 0.829</td>  <th>  Prob(JB):          </th> <td>5.92e-214</td>\n",
              "</tr>\n",
              "<tr>\n",
              "  <th>Kurtosis:</th>      <td> 7.391</td>  <th>  Cond. No.          </th> <td>2.65e+09</td> \n",
              "</tr>\n",
              "</table><br/><br/>Warnings:<br/>[1] Standard Errors assume that the covariance matrix of the errors is correctly specified.<br/>[2] The condition number is large, 2.65e+09. This might indicate that there are<br/>strong multicollinearity or other numerical problems."
            ],
            "text/plain": [
              "<class 'statsmodels.iolib.summary.Summary'>\n",
              "\"\"\"\n",
              "                                 OLS Regression Results                                \n",
              "=======================================================================================\n",
              "Dep. Variable:              BTC_close   R-squared (uncentered):                   0.955\n",
              "Model:                            OLS   Adj. R-squared (uncentered):              0.954\n",
              "Method:                 Least Squares   F-statistic:                              2491.\n",
              "Date:                Sat, 05 Sep 2020   Prob (F-statistic):                        0.00\n",
              "Time:                        07:57:04   Log-Likelihood:                         -9455.7\n",
              "No. Observations:                1070   AIC:                                  1.893e+04\n",
              "Df Residuals:                    1061   BIC:                                  1.897e+04\n",
              "Df Model:                           9                                                  \n",
              "Covariance Type:            nonrobust                                                  \n",
              "=================================================================================\n",
              "                    coef    std err          t      P>|t|      [0.025      0.975]\n",
              "---------------------------------------------------------------------------------\n",
              "ETHER_open       -0.8379      2.871     -0.292      0.770      -6.471       4.795\n",
              "ETHER_close       1.3796      2.881      0.479      0.632      -4.273       7.033\n",
              "ETHER_vol         0.0006      0.000      1.799      0.072   -5.68e-05       0.001\n",
              "XRP_open      -1862.4221   1262.795     -1.475      0.141   -4340.282     615.438\n",
              "XRP_close      -810.7177   1285.304     -0.631      0.528   -3332.745    1711.310\n",
              "XRP_vol       -2.068e-06   1.11e-06     -1.862      0.063   -4.25e-06    1.12e-07\n",
              "BTC_open_dup      0.0196      0.167      0.117      0.907      -0.308       0.347\n",
              "BTC_close_dup     1.0253      0.166      6.182      0.000       0.700       1.351\n",
              "BTC_vol_dup       0.0204      0.003      6.281      0.000       0.014       0.027\n",
              "==============================================================================\n",
              "Omnibus:                      209.110   Durbin-Watson:                   0.172\n",
              "Prob(Omnibus):                  0.000   Jarque-Bera (JB):              981.951\n",
              "Skew:                           0.829   Prob(JB):                    5.92e-214\n",
              "Kurtosis:                       7.391   Cond. No.                     2.65e+09\n",
              "==============================================================================\n",
              "\n",
              "Warnings:\n",
              "[1] Standard Errors assume that the covariance matrix of the errors is correctly specified.\n",
              "[2] The condition number is large, 2.65e+09. This might indicate that there are\n",
              "strong multicollinearity or other numerical problems.\n",
              "\"\"\""
            ]
          },
          "metadata": {
            "tags": []
          },
          "execution_count": 70
        }
      ]
    },
    {
      "cell_type": "code",
      "metadata": {
        "id": "2ITd37xkWvBL",
        "colab_type": "code",
        "colab": {}
      },
      "source": [
        "# Predict the model on the x_test data\n",
        "y_pred_may = pd.DataFrame(model.predict(x_test_may))\n",
        "y_pred_may['index'] = range(1,22)"
      ],
      "execution_count": 71,
      "outputs": []
    },
    {
      "cell_type": "code",
      "metadata": {
        "id": "f98eKhrgaSRm",
        "colab_type": "code",
        "colab": {
          "base_uri": "https://localhost:8080/",
          "height": 677
        },
        "outputId": "e8e2c67e-c257-412a-88cb-67896b7f5153"
      },
      "source": [
        "y_pred_may"
      ],
      "execution_count": 72,
      "outputs": [
        {
          "output_type": "execute_result",
          "data": {
            "text/html": [
              "<div>\n",
              "<style scoped>\n",
              "    .dataframe tbody tr th:only-of-type {\n",
              "        vertical-align: middle;\n",
              "    }\n",
              "\n",
              "    .dataframe tbody tr th {\n",
              "        vertical-align: top;\n",
              "    }\n",
              "\n",
              "    .dataframe thead th {\n",
              "        text-align: right;\n",
              "    }\n",
              "</style>\n",
              "<table border=\"1\" class=\"dataframe\">\n",
              "  <thead>\n",
              "    <tr style=\"text-align: right;\">\n",
              "      <th></th>\n",
              "      <th>0</th>\n",
              "      <th>index</th>\n",
              "    </tr>\n",
              "  </thead>\n",
              "  <tbody>\n",
              "    <tr>\n",
              "      <th>0</th>\n",
              "      <td>7915.199326</td>\n",
              "      <td>1</td>\n",
              "    </tr>\n",
              "    <tr>\n",
              "      <th>1</th>\n",
              "      <td>7785.747884</td>\n",
              "      <td>2</td>\n",
              "    </tr>\n",
              "    <tr>\n",
              "      <th>2</th>\n",
              "      <td>7936.176934</td>\n",
              "      <td>3</td>\n",
              "    </tr>\n",
              "    <tr>\n",
              "      <th>3</th>\n",
              "      <td>8005.129469</td>\n",
              "      <td>4</td>\n",
              "    </tr>\n",
              "    <tr>\n",
              "      <th>4</th>\n",
              "      <td>8044.773725</td>\n",
              "      <td>5</td>\n",
              "    </tr>\n",
              "    <tr>\n",
              "      <th>5</th>\n",
              "      <td>9218.092417</td>\n",
              "      <td>6</td>\n",
              "    </tr>\n",
              "    <tr>\n",
              "      <th>6</th>\n",
              "      <td>9040.268460</td>\n",
              "      <td>7</td>\n",
              "    </tr>\n",
              "    <tr>\n",
              "      <th>7</th>\n",
              "      <td>8925.070359</td>\n",
              "      <td>8</td>\n",
              "    </tr>\n",
              "    <tr>\n",
              "      <th>8</th>\n",
              "      <td>9038.677318</td>\n",
              "      <td>9</td>\n",
              "    </tr>\n",
              "    <tr>\n",
              "      <th>9</th>\n",
              "      <td>8975.358669</td>\n",
              "      <td>10</td>\n",
              "    </tr>\n",
              "    <tr>\n",
              "      <th>10</th>\n",
              "      <td>8899.303243</td>\n",
              "      <td>11</td>\n",
              "    </tr>\n",
              "    <tr>\n",
              "      <th>11</th>\n",
              "      <td>9029.656437</td>\n",
              "      <td>12</td>\n",
              "    </tr>\n",
              "    <tr>\n",
              "      <th>12</th>\n",
              "      <td>9194.968471</td>\n",
              "      <td>13</td>\n",
              "    </tr>\n",
              "    <tr>\n",
              "      <th>13</th>\n",
              "      <td>10096.678467</td>\n",
              "      <td>14</td>\n",
              "    </tr>\n",
              "    <tr>\n",
              "      <th>14</th>\n",
              "      <td>9846.832605</td>\n",
              "      <td>15</td>\n",
              "    </tr>\n",
              "    <tr>\n",
              "      <th>15</th>\n",
              "      <td>9605.681410</td>\n",
              "      <td>16</td>\n",
              "    </tr>\n",
              "    <tr>\n",
              "      <th>16</th>\n",
              "      <td>8609.053870</td>\n",
              "      <td>17</td>\n",
              "    </tr>\n",
              "    <tr>\n",
              "      <th>17</th>\n",
              "      <td>8955.909564</td>\n",
              "      <td>18</td>\n",
              "    </tr>\n",
              "    <tr>\n",
              "      <th>18</th>\n",
              "      <td>8935.259189</td>\n",
              "      <td>19</td>\n",
              "    </tr>\n",
              "    <tr>\n",
              "      <th>19</th>\n",
              "      <td>9460.150898</td>\n",
              "      <td>20</td>\n",
              "    </tr>\n",
              "    <tr>\n",
              "      <th>20</th>\n",
              "      <td>9897.958031</td>\n",
              "      <td>21</td>\n",
              "    </tr>\n",
              "  </tbody>\n",
              "</table>\n",
              "</div>"
            ],
            "text/plain": [
              "               0  index\n",
              "0    7915.199326      1\n",
              "1    7785.747884      2\n",
              "2    7936.176934      3\n",
              "3    8005.129469      4\n",
              "4    8044.773725      5\n",
              "5    9218.092417      6\n",
              "6    9040.268460      7\n",
              "7    8925.070359      8\n",
              "8    9038.677318      9\n",
              "9    8975.358669     10\n",
              "10   8899.303243     11\n",
              "11   9029.656437     12\n",
              "12   9194.968471     13\n",
              "13  10096.678467     14\n",
              "14   9846.832605     15\n",
              "15   9605.681410     16\n",
              "16   8609.053870     17\n",
              "17   8955.909564     18\n",
              "18   8935.259189     19\n",
              "19   9460.150898     20\n",
              "20   9897.958031     21"
            ]
          },
          "metadata": {
            "tags": []
          },
          "execution_count": 72
        }
      ]
    },
    {
      "cell_type": "code",
      "metadata": {
        "id": "ba2tFAy4YGVY",
        "colab_type": "code",
        "colab": {}
      },
      "source": [
        "y_test_may = pd.DataFrame(y_test_may)[0:21]\n",
        "y_test_may['index'] = range(1,22)"
      ],
      "execution_count": 84,
      "outputs": []
    },
    {
      "cell_type": "code",
      "metadata": {
        "id": "-aNI35b3a23c",
        "colab_type": "code",
        "colab": {}
      },
      "source": [
        "# merge the prediction and actual data frames\n",
        "merge_may = y_pred_may.merge(y_test_may, on='index', how='left')"
      ],
      "execution_count": 86,
      "outputs": []
    },
    {
      "cell_type": "code",
      "metadata": {
        "id": "VP9P5hL-a7Nr",
        "colab_type": "code",
        "colab": {}
      },
      "source": [
        "merge_may.columns = ['lm_prediction', 'index', 'real']"
      ],
      "execution_count": 87,
      "outputs": []
    },
    {
      "cell_type": "code",
      "metadata": {
        "id": "PM11Z3tWWcSM",
        "colab_type": "code",
        "colab": {}
      },
      "source": [
        "from sklearn.metrics import mean_squared_error"
      ],
      "execution_count": 88,
      "outputs": []
    },
    {
      "cell_type": "code",
      "metadata": {
        "id": "fb8t3stwWg9l",
        "colab_type": "code",
        "colab": {
          "base_uri": "https://localhost:8080/",
          "height": 34
        },
        "outputId": "15547f92-884c-4438-f15c-1bc7190db19d"
      },
      "source": [
        "MSE = mean_squared_error(y_true = merge_may.real, y_pred = merge_may.lm_prediction)\n",
        "np.sqrt(MSE)"
      ],
      "execution_count": 89,
      "outputs": [
        {
          "output_type": "execute_result",
          "data": {
            "text/plain": [
              "895.7261139614532"
            ]
          },
          "metadata": {
            "tags": []
          },
          "execution_count": 89
        }
      ]
    },
    {
      "cell_type": "code",
      "metadata": {
        "id": "BHfQOIcAUoh_",
        "colab_type": "code",
        "colab": {
          "base_uri": "https://localhost:8080/",
          "height": 34
        },
        "outputId": "515635a6-4de4-40ec-b873-07c527df338a"
      },
      "source": [
        "# Calculate the r_square value for the linear model\n",
        "r_sq = model.score(x_train_may, y_train_may)\n",
        "print('coefficient of determination:', r_sq)"
      ],
      "execution_count": 90,
      "outputs": [
        {
          "output_type": "stream",
          "text": [
            "coefficient of determination: 0.705601468642838\n"
          ],
          "name": "stdout"
        }
      ]
    },
    {
      "cell_type": "code",
      "metadata": {
        "id": "9QmwAj_bwFQG",
        "colab_type": "code",
        "colab": {
          "base_uri": "https://localhost:8080/",
          "height": 677
        },
        "outputId": "e8897d02-6b28-4835-c984-8128ac6f5fa3"
      },
      "source": [
        "merge_may"
      ],
      "execution_count": 91,
      "outputs": [
        {
          "output_type": "execute_result",
          "data": {
            "text/html": [
              "<div>\n",
              "<style scoped>\n",
              "    .dataframe tbody tr th:only-of-type {\n",
              "        vertical-align: middle;\n",
              "    }\n",
              "\n",
              "    .dataframe tbody tr th {\n",
              "        vertical-align: top;\n",
              "    }\n",
              "\n",
              "    .dataframe thead th {\n",
              "        text-align: right;\n",
              "    }\n",
              "</style>\n",
              "<table border=\"1\" class=\"dataframe\">\n",
              "  <thead>\n",
              "    <tr style=\"text-align: right;\">\n",
              "      <th></th>\n",
              "      <th>lm_prediction</th>\n",
              "      <th>index</th>\n",
              "      <th>real</th>\n",
              "    </tr>\n",
              "  </thead>\n",
              "  <tbody>\n",
              "    <tr>\n",
              "      <th>0</th>\n",
              "      <td>7915.199326</td>\n",
              "      <td>1</td>\n",
              "      <td>9311.200000</td>\n",
              "    </tr>\n",
              "    <tr>\n",
              "      <th>1</th>\n",
              "      <td>7785.747884</td>\n",
              "      <td>2</td>\n",
              "      <td>9387.952090</td>\n",
              "    </tr>\n",
              "    <tr>\n",
              "      <th>2</th>\n",
              "      <td>7936.176934</td>\n",
              "      <td>3</td>\n",
              "      <td>9668.200000</td>\n",
              "    </tr>\n",
              "    <tr>\n",
              "      <th>3</th>\n",
              "      <td>8005.129469</td>\n",
              "      <td>4</td>\n",
              "      <td>9714.825163</td>\n",
              "    </tr>\n",
              "    <tr>\n",
              "      <th>4</th>\n",
              "      <td>8044.773725</td>\n",
              "      <td>5</td>\n",
              "      <td>9769.400000</td>\n",
              "    </tr>\n",
              "    <tr>\n",
              "      <th>5</th>\n",
              "      <td>9218.092417</td>\n",
              "      <td>6</td>\n",
              "      <td>9502.000000</td>\n",
              "    </tr>\n",
              "    <tr>\n",
              "      <th>6</th>\n",
              "      <td>9040.268460</td>\n",
              "      <td>7</td>\n",
              "      <td>9057.100000</td>\n",
              "    </tr>\n",
              "    <tr>\n",
              "      <th>7</th>\n",
              "      <td>8925.070359</td>\n",
              "      <td>8</td>\n",
              "      <td>9162.400000</td>\n",
              "    </tr>\n",
              "    <tr>\n",
              "      <th>8</th>\n",
              "      <td>9038.677318</td>\n",
              "      <td>9</td>\n",
              "      <td>9175.600000</td>\n",
              "    </tr>\n",
              "    <tr>\n",
              "      <th>9</th>\n",
              "      <td>8975.358669</td>\n",
              "      <td>10</td>\n",
              "      <td>8710.100000</td>\n",
              "    </tr>\n",
              "    <tr>\n",
              "      <th>10</th>\n",
              "      <td>8899.303243</td>\n",
              "      <td>11</td>\n",
              "      <td>8902.000000</td>\n",
              "    </tr>\n",
              "    <tr>\n",
              "      <th>11</th>\n",
              "      <td>9029.656437</td>\n",
              "      <td>12</td>\n",
              "      <td>8845.500000</td>\n",
              "    </tr>\n",
              "    <tr>\n",
              "      <th>12</th>\n",
              "      <td>9194.968471</td>\n",
              "      <td>13</td>\n",
              "      <td>9210.298717</td>\n",
              "    </tr>\n",
              "    <tr>\n",
              "      <th>13</th>\n",
              "      <td>10096.678467</td>\n",
              "      <td>14</td>\n",
              "      <td>9589.300000</td>\n",
              "    </tr>\n",
              "    <tr>\n",
              "      <th>14</th>\n",
              "      <td>9846.832605</td>\n",
              "      <td>15</td>\n",
              "      <td>9426.100000</td>\n",
              "    </tr>\n",
              "    <tr>\n",
              "      <th>15</th>\n",
              "      <td>9605.681410</td>\n",
              "      <td>16</td>\n",
              "      <td>9706.400000</td>\n",
              "    </tr>\n",
              "    <tr>\n",
              "      <th>16</th>\n",
              "      <td>8609.053870</td>\n",
              "      <td>17</td>\n",
              "      <td>9451.100000</td>\n",
              "    </tr>\n",
              "    <tr>\n",
              "      <th>17</th>\n",
              "      <td>8955.909564</td>\n",
              "      <td>18</td>\n",
              "      <td>10225.976000</td>\n",
              "    </tr>\n",
              "    <tr>\n",
              "      <th>18</th>\n",
              "      <td>8935.259189</td>\n",
              "      <td>19</td>\n",
              "      <td>9526.968083</td>\n",
              "    </tr>\n",
              "    <tr>\n",
              "      <th>19</th>\n",
              "      <td>9460.150898</td>\n",
              "      <td>20</td>\n",
              "      <td>9676.600000</td>\n",
              "    </tr>\n",
              "    <tr>\n",
              "      <th>20</th>\n",
              "      <td>9897.958031</td>\n",
              "      <td>21</td>\n",
              "      <td>9790.700076</td>\n",
              "    </tr>\n",
              "  </tbody>\n",
              "</table>\n",
              "</div>"
            ],
            "text/plain": [
              "    lm_prediction  index          real\n",
              "0     7915.199326      1   9311.200000\n",
              "1     7785.747884      2   9387.952090\n",
              "2     7936.176934      3   9668.200000\n",
              "3     8005.129469      4   9714.825163\n",
              "4     8044.773725      5   9769.400000\n",
              "5     9218.092417      6   9502.000000\n",
              "6     9040.268460      7   9057.100000\n",
              "7     8925.070359      8   9162.400000\n",
              "8     9038.677318      9   9175.600000\n",
              "9     8975.358669     10   8710.100000\n",
              "10    8899.303243     11   8902.000000\n",
              "11    9029.656437     12   8845.500000\n",
              "12    9194.968471     13   9210.298717\n",
              "13   10096.678467     14   9589.300000\n",
              "14    9846.832605     15   9426.100000\n",
              "15    9605.681410     16   9706.400000\n",
              "16    8609.053870     17   9451.100000\n",
              "17    8955.909564     18  10225.976000\n",
              "18    8935.259189     19   9526.968083\n",
              "19    9460.150898     20   9676.600000\n",
              "20    9897.958031     21   9790.700076"
            ]
          },
          "metadata": {
            "tags": []
          },
          "execution_count": 91
        }
      ]
    },
    {
      "cell_type": "code",
      "metadata": {
        "id": "iHU2TMAUv7lw",
        "colab_type": "code",
        "colab": {
          "base_uri": "https://localhost:8080/",
          "height": 295
        },
        "outputId": "8757acb2-3b9d-402f-96e4-3a6374da8c40"
      },
      "source": [
        "# Plot the predicted vs actual in matplot lib\n",
        "import matplotlib.pyplot as plt\n",
        "plt.plot( 'index', 'real', data=merge_may, marker='o', markerfacecolor='blue', markersize=12, color='skyblue', linewidth=4)\n",
        "plt.plot( 'index', 'lm_prediction', data=merge_may, marker='', color='olive', linewidth=2)\n",
        "plt.xticks(rotation='vertical')\n",
        "plt.legend()"
      ],
      "execution_count": 92,
      "outputs": [
        {
          "output_type": "execute_result",
          "data": {
            "text/plain": [
              "<matplotlib.legend.Legend at 0x7f7dac8879b0>"
            ]
          },
          "metadata": {
            "tags": []
          },
          "execution_count": 92
        },
        {
          "output_type": "display_data",
          "data": {
            "image/png": "[encoded data removed]",
            "text/plain": [
              "<Figure size 432x288 with 1 Axes>"
            ]
          },
          "metadata": {
            "tags": [],
            "needs_background": "light"
          }
        }
      ]
    },
    {
      "cell_type": "markdown",
      "metadata": {
        "id": "36qCf9e_ykKW",
        "colab_type": "text"
      },
      "source": [
        "# Lasso Regression - May"
      ]
    },
    {
      "cell_type": "code",
      "metadata": {
        "id": "819tLoLsymus",
        "colab_type": "code",
        "colab": {}
      },
      "source": [
        "from sklearn.linear_model import Lasso\n",
        "from sklearn.model_selection import GridSearchCV\n",
        "from sklearn.linear_model import Ridge, RidgeCV, Lasso, LassoCV\n",
        "from sklearn.metrics import mean_squared_error\n",
        "\n",
        "lasso = Lasso()"
      ],
      "execution_count": 93,
      "outputs": []
    },
    {
      "cell_type": "code",
      "metadata": {
        "id": "bjJpfCEUy2d_",
        "colab_type": "code",
        "colab": {}
      },
      "source": [
        "params = {'alpha': [1e-15, 1e-10, 1e-8, 1e-4, 1e-3, 1e-2, 1, 5, 10, 20]}"
      ],
      "execution_count": 94,
      "outputs": []
    },
    {
      "cell_type": "code",
      "metadata": {
        "id": "ma-DG8VmzGj9",
        "colab_type": "code",
        "colab": {}
      },
      "source": [
        "lasso_regressor = LassoCV(alphas = None, cv = 10, max_iter = 100000, normalize = True)#GridSearchCV(lasso, params, scoring = 'neg_mean_squared_error', cv=5)"
      ],
      "execution_count": 95,
      "outputs": []
    },
    {
      "cell_type": "code",
      "metadata": {
        "id": "ZgIfJVNkzeWM",
        "colab_type": "code",
        "colab": {}
      },
      "source": [
        "lasso = lasso_regressor.fit(x_train_may, y_train_may)"
      ],
      "execution_count": 96,
      "outputs": []
    },
    {
      "cell_type": "code",
      "metadata": {
        "colab_type": "code",
        "id": "Y2GU1kLu0Nji",
        "colab": {}
      },
      "source": [
        "# Predict the model on the x_test data\n",
        "y_pred_may_lasso = pd.DataFrame(lasso.predict(x_test_may))\n",
        "y_pred_may_lasso['index'] = range(1,22)"
      ],
      "execution_count": 97,
      "outputs": []
    },
    {
      "cell_type": "code",
      "metadata": {
        "colab_type": "code",
        "id": "0pgCGopx0Njn",
        "colab": {
          "base_uri": "https://localhost:8080/",
          "height": 677
        },
        "outputId": "541144d6-323a-4cd3-8c21-c10afb0dffb2"
      },
      "source": [
        "y_pred_may_lasso"
      ],
      "execution_count": 98,
      "outputs": [
        {
          "output_type": "execute_result",
          "data": {
            "text/html": [
              "<div>\n",
              "<style scoped>\n",
              "    .dataframe tbody tr th:only-of-type {\n",
              "        vertical-align: middle;\n",
              "    }\n",
              "\n",
              "    .dataframe tbody tr th {\n",
              "        vertical-align: top;\n",
              "    }\n",
              "\n",
              "    .dataframe thead th {\n",
              "        text-align: right;\n",
              "    }\n",
              "</style>\n",
              "<table border=\"1\" class=\"dataframe\">\n",
              "  <thead>\n",
              "    <tr style=\"text-align: right;\">\n",
              "      <th></th>\n",
              "      <th>0</th>\n",
              "      <th>index</th>\n",
              "    </tr>\n",
              "  </thead>\n",
              "  <tbody>\n",
              "    <tr>\n",
              "      <th>0</th>\n",
              "      <td>7882.758720</td>\n",
              "      <td>1</td>\n",
              "    </tr>\n",
              "    <tr>\n",
              "      <th>1</th>\n",
              "      <td>7754.498239</td>\n",
              "      <td>2</td>\n",
              "    </tr>\n",
              "    <tr>\n",
              "      <th>2</th>\n",
              "      <td>7926.922691</td>\n",
              "      <td>3</td>\n",
              "    </tr>\n",
              "    <tr>\n",
              "      <th>3</th>\n",
              "      <td>8011.297392</td>\n",
              "      <td>4</td>\n",
              "    </tr>\n",
              "    <tr>\n",
              "      <th>4</th>\n",
              "      <td>8032.174359</td>\n",
              "      <td>5</td>\n",
              "    </tr>\n",
              "    <tr>\n",
              "      <th>5</th>\n",
              "      <td>9188.209712</td>\n",
              "      <td>6</td>\n",
              "    </tr>\n",
              "    <tr>\n",
              "      <th>6</th>\n",
              "      <td>9025.828837</td>\n",
              "      <td>7</td>\n",
              "    </tr>\n",
              "    <tr>\n",
              "      <th>7</th>\n",
              "      <td>8908.260383</td>\n",
              "      <td>8</td>\n",
              "    </tr>\n",
              "    <tr>\n",
              "      <th>8</th>\n",
              "      <td>9029.669896</td>\n",
              "      <td>9</td>\n",
              "    </tr>\n",
              "    <tr>\n",
              "      <th>9</th>\n",
              "      <td>8975.357478</td>\n",
              "      <td>10</td>\n",
              "    </tr>\n",
              "    <tr>\n",
              "      <th>10</th>\n",
              "      <td>8908.256648</td>\n",
              "      <td>11</td>\n",
              "    </tr>\n",
              "    <tr>\n",
              "      <th>11</th>\n",
              "      <td>9044.278625</td>\n",
              "      <td>12</td>\n",
              "    </tr>\n",
              "    <tr>\n",
              "      <th>12</th>\n",
              "      <td>9218.994732</td>\n",
              "      <td>13</td>\n",
              "    </tr>\n",
              "    <tr>\n",
              "      <th>13</th>\n",
              "      <td>10081.983322</td>\n",
              "      <td>14</td>\n",
              "    </tr>\n",
              "    <tr>\n",
              "      <th>14</th>\n",
              "      <td>9817.100155</td>\n",
              "      <td>15</td>\n",
              "    </tr>\n",
              "    <tr>\n",
              "      <th>15</th>\n",
              "      <td>9566.923026</td>\n",
              "      <td>16</td>\n",
              "    </tr>\n",
              "    <tr>\n",
              "      <th>16</th>\n",
              "      <td>8693.639176</td>\n",
              "      <td>17</td>\n",
              "    </tr>\n",
              "    <tr>\n",
              "      <th>17</th>\n",
              "      <td>8923.379086</td>\n",
              "      <td>18</td>\n",
              "    </tr>\n",
              "    <tr>\n",
              "      <th>18</th>\n",
              "      <td>8924.781045</td>\n",
              "      <td>19</td>\n",
              "    </tr>\n",
              "    <tr>\n",
              "      <th>19</th>\n",
              "      <td>9431.252059</td>\n",
              "      <td>20</td>\n",
              "    </tr>\n",
              "    <tr>\n",
              "      <th>20</th>\n",
              "      <td>9893.064226</td>\n",
              "      <td>21</td>\n",
              "    </tr>\n",
              "  </tbody>\n",
              "</table>\n",
              "</div>"
            ],
            "text/plain": [
              "               0  index\n",
              "0    7882.758720      1\n",
              "1    7754.498239      2\n",
              "2    7926.922691      3\n",
              "3    8011.297392      4\n",
              "4    8032.174359      5\n",
              "5    9188.209712      6\n",
              "6    9025.828837      7\n",
              "7    8908.260383      8\n",
              "8    9029.669896      9\n",
              "9    8975.357478     10\n",
              "10   8908.256648     11\n",
              "11   9044.278625     12\n",
              "12   9218.994732     13\n",
              "13  10081.983322     14\n",
              "14   9817.100155     15\n",
              "15   9566.923026     16\n",
              "16   8693.639176     17\n",
              "17   8923.379086     18\n",
              "18   8924.781045     19\n",
              "19   9431.252059     20\n",
              "20   9893.064226     21"
            ]
          },
          "metadata": {
            "tags": []
          },
          "execution_count": 98
        }
      ]
    },
    {
      "cell_type": "code",
      "metadata": {
        "colab_type": "code",
        "id": "mIijND_G0Njz",
        "colab": {}
      },
      "source": [
        "# merge the prediction and actual data frames\n",
        "merge_may = merge_may.merge(y_pred_may_lasso, on='index', how='left')"
      ],
      "execution_count": 99,
      "outputs": []
    },
    {
      "cell_type": "code",
      "metadata": {
        "id": "nOOxKZbJ05UG",
        "colab_type": "code",
        "colab": {
          "base_uri": "https://localhost:8080/",
          "height": 677
        },
        "outputId": "95d39028-1a51-4099-b9a5-4f78ad1e520a"
      },
      "source": [
        "merge_may"
      ],
      "execution_count": 100,
      "outputs": [
        {
          "output_type": "execute_result",
          "data": {
            "text/html": [
              "<div>\n",
              "<style scoped>\n",
              "    .dataframe tbody tr th:only-of-type {\n",
              "        vertical-align: middle;\n",
              "    }\n",
              "\n",
              "    .dataframe tbody tr th {\n",
              "        vertical-align: top;\n",
              "    }\n",
              "\n",
              "    .dataframe thead th {\n",
              "        text-align: right;\n",
              "    }\n",
              "</style>\n",
              "<table border=\"1\" class=\"dataframe\">\n",
              "  <thead>\n",
              "    <tr style=\"text-align: right;\">\n",
              "      <th></th>\n",
              "      <th>lm_prediction</th>\n",
              "      <th>index</th>\n",
              "      <th>real</th>\n",
              "      <th>0</th>\n",
              "    </tr>\n",
              "  </thead>\n",
              "  <tbody>\n",
              "    <tr>\n",
              "      <th>0</th>\n",
              "      <td>7915.199326</td>\n",
              "      <td>1</td>\n",
              "      <td>9311.200000</td>\n",
              "      <td>7882.758720</td>\n",
              "    </tr>\n",
              "    <tr>\n",
              "      <th>1</th>\n",
              "      <td>7785.747884</td>\n",
              "      <td>2</td>\n",
              "      <td>9387.952090</td>\n",
              "      <td>7754.498239</td>\n",
              "    </tr>\n",
              "    <tr>\n",
              "      <th>2</th>\n",
              "      <td>7936.176934</td>\n",
              "      <td>3</td>\n",
              "      <td>9668.200000</td>\n",
              "      <td>7926.922691</td>\n",
              "    </tr>\n",
              "    <tr>\n",
              "      <th>3</th>\n",
              "      <td>8005.129469</td>\n",
              "      <td>4</td>\n",
              "      <td>9714.825163</td>\n",
              "      <td>8011.297392</td>\n",
              "    </tr>\n",
              "    <tr>\n",
              "      <th>4</th>\n",
              "      <td>8044.773725</td>\n",
              "      <td>5</td>\n",
              "      <td>9769.400000</td>\n",
              "      <td>8032.174359</td>\n",
              "    </tr>\n",
              "    <tr>\n",
              "      <th>5</th>\n",
              "      <td>9218.092417</td>\n",
              "      <td>6</td>\n",
              "      <td>9502.000000</td>\n",
              "      <td>9188.209712</td>\n",
              "    </tr>\n",
              "    <tr>\n",
              "      <th>6</th>\n",
              "      <td>9040.268460</td>\n",
              "      <td>7</td>\n",
              "      <td>9057.100000</td>\n",
              "      <td>9025.828837</td>\n",
              "    </tr>\n",
              "    <tr>\n",
              "      <th>7</th>\n",
              "      <td>8925.070359</td>\n",
              "      <td>8</td>\n",
              "      <td>9162.400000</td>\n",
              "      <td>8908.260383</td>\n",
              "    </tr>\n",
              "    <tr>\n",
              "      <th>8</th>\n",
              "      <td>9038.677318</td>\n",
              "      <td>9</td>\n",
              "      <td>9175.600000</td>\n",
              "      <td>9029.669896</td>\n",
              "    </tr>\n",
              "    <tr>\n",
              "      <th>9</th>\n",
              "      <td>8975.358669</td>\n",
              "      <td>10</td>\n",
              "      <td>8710.100000</td>\n",
              "      <td>8975.357478</td>\n",
              "    </tr>\n",
              "    <tr>\n",
              "      <th>10</th>\n",
              "      <td>8899.303243</td>\n",
              "      <td>11</td>\n",
              "      <td>8902.000000</td>\n",
              "      <td>8908.256648</td>\n",
              "    </tr>\n",
              "    <tr>\n",
              "      <th>11</th>\n",
              "      <td>9029.656437</td>\n",
              "      <td>12</td>\n",
              "      <td>8845.500000</td>\n",
              "      <td>9044.278625</td>\n",
              "    </tr>\n",
              "    <tr>\n",
              "      <th>12</th>\n",
              "      <td>9194.968471</td>\n",
              "      <td>13</td>\n",
              "      <td>9210.298717</td>\n",
              "      <td>9218.994732</td>\n",
              "    </tr>\n",
              "    <tr>\n",
              "      <th>13</th>\n",
              "      <td>10096.678467</td>\n",
              "      <td>14</td>\n",
              "      <td>9589.300000</td>\n",
              "      <td>10081.983322</td>\n",
              "    </tr>\n",
              "    <tr>\n",
              "      <th>14</th>\n",
              "      <td>9846.832605</td>\n",
              "      <td>15</td>\n",
              "      <td>9426.100000</td>\n",
              "      <td>9817.100155</td>\n",
              "    </tr>\n",
              "    <tr>\n",
              "      <th>15</th>\n",
              "      <td>9605.681410</td>\n",
              "      <td>16</td>\n",
              "      <td>9706.400000</td>\n",
              "      <td>9566.923026</td>\n",
              "    </tr>\n",
              "    <tr>\n",
              "      <th>16</th>\n",
              "      <td>8609.053870</td>\n",
              "      <td>17</td>\n",
              "      <td>9451.100000</td>\n",
              "      <td>8693.639176</td>\n",
              "    </tr>\n",
              "    <tr>\n",
              "      <th>17</th>\n",
              "      <td>8955.909564</td>\n",
              "      <td>18</td>\n",
              "      <td>10225.976000</td>\n",
              "      <td>8923.379086</td>\n",
              "    </tr>\n",
              "    <tr>\n",
              "      <th>18</th>\n",
              "      <td>8935.259189</td>\n",
              "      <td>19</td>\n",
              "      <td>9526.968083</td>\n",
              "      <td>8924.781045</td>\n",
              "    </tr>\n",
              "    <tr>\n",
              "      <th>19</th>\n",
              "      <td>9460.150898</td>\n",
              "      <td>20</td>\n",
              "      <td>9676.600000</td>\n",
              "      <td>9431.252059</td>\n",
              "    </tr>\n",
              "    <tr>\n",
              "      <th>20</th>\n",
              "      <td>9897.958031</td>\n",
              "      <td>21</td>\n",
              "      <td>9790.700076</td>\n",
              "      <td>9893.064226</td>\n",
              "    </tr>\n",
              "  </tbody>\n",
              "</table>\n",
              "</div>"
            ],
            "text/plain": [
              "    lm_prediction  index          real             0\n",
              "0     7915.199326      1   9311.200000   7882.758720\n",
              "1     7785.747884      2   9387.952090   7754.498239\n",
              "2     7936.176934      3   9668.200000   7926.922691\n",
              "3     8005.129469      4   9714.825163   8011.297392\n",
              "4     8044.773725      5   9769.400000   8032.174359\n",
              "5     9218.092417      6   9502.000000   9188.209712\n",
              "6     9040.268460      7   9057.100000   9025.828837\n",
              "7     8925.070359      8   9162.400000   8908.260383\n",
              "8     9038.677318      9   9175.600000   9029.669896\n",
              "9     8975.358669     10   8710.100000   8975.357478\n",
              "10    8899.303243     11   8902.000000   8908.256648\n",
              "11    9029.656437     12   8845.500000   9044.278625\n",
              "12    9194.968471     13   9210.298717   9218.994732\n",
              "13   10096.678467     14   9589.300000  10081.983322\n",
              "14    9846.832605     15   9426.100000   9817.100155\n",
              "15    9605.681410     16   9706.400000   9566.923026\n",
              "16    8609.053870     17   9451.100000   8693.639176\n",
              "17    8955.909564     18  10225.976000   8923.379086\n",
              "18    8935.259189     19   9526.968083   8924.781045\n",
              "19    9460.150898     20   9676.600000   9431.252059\n",
              "20    9897.958031     21   9790.700076   9893.064226"
            ]
          },
          "metadata": {
            "tags": []
          },
          "execution_count": 100
        }
      ]
    },
    {
      "cell_type": "code",
      "metadata": {
        "colab_type": "code",
        "id": "x8fiCOOU0Nj2",
        "colab": {}
      },
      "source": [
        "merge_may.columns = ['lm_prediction', 'index', 'real', 'lasso_prediction']"
      ],
      "execution_count": 101,
      "outputs": []
    },
    {
      "cell_type": "code",
      "metadata": {
        "colab_type": "code",
        "id": "moefHSVV0Nj9",
        "colab": {
          "base_uri": "https://localhost:8080/",
          "height": 34
        },
        "outputId": "6ae710d4-51cb-498e-f40e-9035315bcddc"
      },
      "source": [
        "MSE = mean_squared_error(y_true = merge_may.real, y_pred = merge_may.lasso_prediction)\n",
        "np.sqrt(MSE)"
      ],
      "execution_count": 102,
      "outputs": [
        {
          "output_type": "execute_result",
          "data": {
            "text/plain": [
              "901.713108331651"
            ]
          },
          "metadata": {
            "tags": []
          },
          "execution_count": 102
        }
      ]
    },
    {
      "cell_type": "code",
      "metadata": {
        "colab_type": "code",
        "id": "4ymq3Wm00NkI",
        "colab": {
          "base_uri": "https://localhost:8080/",
          "height": 295
        },
        "outputId": "1d6ac43b-b3bf-432f-e027-8e92ec940895"
      },
      "source": [
        "# Plot the predicted vs actual in matplot lib\n",
        "import matplotlib.pyplot as plt\n",
        "plt.plot( 'index', 'real', data=merge_may, marker='o', markerfacecolor='blue', markersize=12, color='skyblue', linewidth=4)\n",
        "plt.plot( 'index', 'lm_prediction', data=merge_may, marker='', color='olive', linewidth=2)\n",
        "plt.plot( 'index', 'lasso_prediction', data=merge_may, marker='', color='red', linewidth=2)\n",
        "plt.xticks(rotation='vertical')\n",
        "plt.legend()"
      ],
      "execution_count": 103,
      "outputs": [
        {
          "output_type": "execute_result",
          "data": {
            "text/plain": [
              "<matplotlib.legend.Legend at 0x7f7dac3efb38>"
            ]
          },
          "metadata": {
            "tags": []
          },
          "execution_count": 103
        },
        {
          "output_type": "display_data",
          "data": {
            "image/png": "[encoded data removed]",
            "text/plain": [
              "<Figure size 432x288 with 1 Axes>"
            ]
          },
          "metadata": {
            "tags": [],
            "needs_background": "light"
          }
        }
      ]
    },
    {
      "cell_type": "markdown",
      "metadata": {
        "id": "dT41mQAHU8YL",
        "colab_type": "text"
      },
      "source": [
        "# Support Vector Regression - May"
      ]
    },
    {
      "cell_type": "code",
      "metadata": {
        "id": "Ct1pbhN5U_0t",
        "colab_type": "code",
        "colab": {}
      },
      "source": [
        "# Import the algorithm package\n",
        "from sklearn.svm import SVR\n",
        "from sklearn.pipeline import make_pipeline\n",
        "from sklearn.preprocessing import StandardScaler"
      ],
      "execution_count": 104,
      "outputs": []
    },
    {
      "cell_type": "code",
      "metadata": {
        "id": "2V1qN2Kfb0JS",
        "colab_type": "code",
        "colab": {}
      },
      "source": [
        "y_train_may = pd.DataFrame(y_train_may)"
      ],
      "execution_count": 105,
      "outputs": []
    },
    {
      "cell_type": "code",
      "metadata": {
        "id": "-3sFpthUa9MK",
        "colab_type": "code",
        "colab": {}
      },
      "source": [
        "#3 Feature Scaling\n",
        "sc_X = StandardScaler()\n",
        "sc_y = StandardScaler()\n",
        "X = sc_X.fit_transform(x_train_may)\n",
        "y = sc_y.fit_transform(y_train_may)"
      ],
      "execution_count": 107,
      "outputs": []
    },
    {
      "cell_type": "code",
      "metadata": {
        "id": "C1EuhuV5eoaB",
        "colab_type": "code",
        "colab": {}
      },
      "source": [
        "y = y[:, 0]"
      ],
      "execution_count": 108,
      "outputs": []
    },
    {
      "cell_type": "code",
      "metadata": {
        "id": "ZuY-wvDKWXWL",
        "colab_type": "code",
        "colab": {}
      },
      "source": [
        "# Load the SVR and fit\n",
        "#svr = SVR(kernel='poly')\n",
        "svr_regressor = SVR(kernel = 'poly')\n",
        "SVR_reg = svr_regressor.fit(X, y)"
      ],
      "execution_count": 109,
      "outputs": []
    },
    {
      "cell_type": "code",
      "metadata": {
        "id": "iGQdB4OcWpJd",
        "colab_type": "code",
        "colab": {
          "base_uri": "https://localhost:8080/",
          "height": 677
        },
        "outputId": "003c37c0-4a0f-433d-b97c-abdbe0e8f780"
      },
      "source": [
        "# Predict the model on the x_test data\n",
        "x_test_may = sc_X.fit_transform(x_test_may)\n",
        "\n",
        "y_pred_may_svr = SVR_reg.predict(x_test_may)\n",
        "y_pred_may_svr = sc_y.inverse_transform(y_pred_may_svr) \n",
        "\n",
        "\n",
        "y_pred_may_svr = pd.DataFrame(y_pred_may_svr)\n",
        "y_pred_may_svr['index'] = range(1,22)\n",
        "y_pred_may_svr"
      ],
      "execution_count": 110,
      "outputs": [
        {
          "output_type": "execute_result",
          "data": {
            "text/html": [
              "<div>\n",
              "<style scoped>\n",
              "    .dataframe tbody tr th:only-of-type {\n",
              "        vertical-align: middle;\n",
              "    }\n",
              "\n",
              "    .dataframe tbody tr th {\n",
              "        vertical-align: top;\n",
              "    }\n",
              "\n",
              "    .dataframe thead th {\n",
              "        text-align: right;\n",
              "    }\n",
              "</style>\n",
              "<table border=\"1\" class=\"dataframe\">\n",
              "  <thead>\n",
              "    <tr style=\"text-align: right;\">\n",
              "      <th></th>\n",
              "      <th>0</th>\n",
              "      <th>index</th>\n",
              "    </tr>\n",
              "  </thead>\n",
              "  <tbody>\n",
              "    <tr>\n",
              "      <th>0</th>\n",
              "      <td>5178.246082</td>\n",
              "      <td>1</td>\n",
              "    </tr>\n",
              "    <tr>\n",
              "      <th>1</th>\n",
              "      <td>5357.504130</td>\n",
              "      <td>2</td>\n",
              "    </tr>\n",
              "    <tr>\n",
              "      <th>2</th>\n",
              "      <td>5070.394057</td>\n",
              "      <td>3</td>\n",
              "    </tr>\n",
              "    <tr>\n",
              "      <th>3</th>\n",
              "      <td>5668.264316</td>\n",
              "      <td>4</td>\n",
              "    </tr>\n",
              "    <tr>\n",
              "      <th>4</th>\n",
              "      <td>5433.807088</td>\n",
              "      <td>5</td>\n",
              "    </tr>\n",
              "    <tr>\n",
              "      <th>5</th>\n",
              "      <td>5563.693936</td>\n",
              "      <td>6</td>\n",
              "    </tr>\n",
              "    <tr>\n",
              "      <th>6</th>\n",
              "      <td>6038.807023</td>\n",
              "      <td>7</td>\n",
              "    </tr>\n",
              "    <tr>\n",
              "      <th>7</th>\n",
              "      <td>6931.545999</td>\n",
              "      <td>8</td>\n",
              "    </tr>\n",
              "    <tr>\n",
              "      <th>8</th>\n",
              "      <td>7134.556741</td>\n",
              "      <td>9</td>\n",
              "    </tr>\n",
              "    <tr>\n",
              "      <th>9</th>\n",
              "      <td>6670.621570</td>\n",
              "      <td>10</td>\n",
              "    </tr>\n",
              "    <tr>\n",
              "      <th>10</th>\n",
              "      <td>6778.121421</td>\n",
              "      <td>11</td>\n",
              "    </tr>\n",
              "    <tr>\n",
              "      <th>11</th>\n",
              "      <td>6570.244982</td>\n",
              "      <td>12</td>\n",
              "    </tr>\n",
              "    <tr>\n",
              "      <th>12</th>\n",
              "      <td>6861.143172</td>\n",
              "      <td>13</td>\n",
              "    </tr>\n",
              "    <tr>\n",
              "      <th>13</th>\n",
              "      <td>6727.462570</td>\n",
              "      <td>14</td>\n",
              "    </tr>\n",
              "    <tr>\n",
              "      <th>14</th>\n",
              "      <td>8816.270890</td>\n",
              "      <td>15</td>\n",
              "    </tr>\n",
              "    <tr>\n",
              "      <th>15</th>\n",
              "      <td>8068.169808</td>\n",
              "      <td>16</td>\n",
              "    </tr>\n",
              "    <tr>\n",
              "      <th>16</th>\n",
              "      <td>5687.581724</td>\n",
              "      <td>17</td>\n",
              "    </tr>\n",
              "    <tr>\n",
              "      <th>17</th>\n",
              "      <td>5899.644534</td>\n",
              "      <td>18</td>\n",
              "    </tr>\n",
              "    <tr>\n",
              "      <th>18</th>\n",
              "      <td>7345.563355</td>\n",
              "      <td>19</td>\n",
              "    </tr>\n",
              "    <tr>\n",
              "      <th>19</th>\n",
              "      <td>7256.184812</td>\n",
              "      <td>20</td>\n",
              "    </tr>\n",
              "    <tr>\n",
              "      <th>20</th>\n",
              "      <td>8019.057123</td>\n",
              "      <td>21</td>\n",
              "    </tr>\n",
              "  </tbody>\n",
              "</table>\n",
              "</div>"
            ],
            "text/plain": [
              "              0  index\n",
              "0   5178.246082      1\n",
              "1   5357.504130      2\n",
              "2   5070.394057      3\n",
              "3   5668.264316      4\n",
              "4   5433.807088      5\n",
              "5   5563.693936      6\n",
              "6   6038.807023      7\n",
              "7   6931.545999      8\n",
              "8   7134.556741      9\n",
              "9   6670.621570     10\n",
              "10  6778.121421     11\n",
              "11  6570.244982     12\n",
              "12  6861.143172     13\n",
              "13  6727.462570     14\n",
              "14  8816.270890     15\n",
              "15  8068.169808     16\n",
              "16  5687.581724     17\n",
              "17  5899.644534     18\n",
              "18  7345.563355     19\n",
              "19  7256.184812     20\n",
              "20  8019.057123     21"
            ]
          },
          "metadata": {
            "tags": []
          },
          "execution_count": 110
        }
      ]
    },
    {
      "cell_type": "code",
      "metadata": {
        "id": "7aBS0h8sgcoa",
        "colab_type": "code",
        "colab": {}
      },
      "source": [
        "# merge the prediction and actual data frames\n",
        "merge_may = merge_may.merge(y_pred_may_svr, on='index', how='left')"
      ],
      "execution_count": 111,
      "outputs": []
    },
    {
      "cell_type": "code",
      "metadata": {
        "id": "-pO8vnSSgf5w",
        "colab_type": "code",
        "colab": {}
      },
      "source": [
        "merge_may.columns = ['lm_prediction', 'index', 'real', 'lasso_prediction', 'svr_prediction']"
      ],
      "execution_count": 112,
      "outputs": []
    },
    {
      "cell_type": "code",
      "metadata": {
        "id": "8aov6zrPh4yu",
        "colab_type": "code",
        "colab": {}
      },
      "source": [
        "# Merge Donald's RF prediction into the same plot\n",
        "PredictionVSactual.columns = ['real', 'random_forest']\n",
        "\n",
        "merge_may = merge_may.merge(PredictionVSactual, on='real', how='left')\n",
        "merge_may"
      ],
      "execution_count": null,
      "outputs": []
    },
    {
      "cell_type": "code",
      "metadata": {
        "colab_type": "code",
        "id": "QeyqsssPVWMl",
        "colab": {}
      },
      "source": [
        "merge_may['Avg'] = (merge_may['lm_prediction'] + merge_may['random_forest']) / 2\n",
        "\n",
        "merge_may"
      ],
      "execution_count": null,
      "outputs": []
    },
    {
      "cell_type": "code",
      "metadata": {
        "id": "T5kc3T4UgpuY",
        "colab_type": "code",
        "colab": {
          "base_uri": "https://localhost:8080/",
          "height": 625
        },
        "outputId": "ff7d6498-62e0-4968-e197-4d9cdadfcf1a"
      },
      "source": [
        "# Plot the predicted vs actual in matplot lib\n",
        "import matplotlib.pyplot as plt\n",
        "plt.plot( 'index', 'real', data=merge_may, marker='o', markerfacecolor='black', markersize=12, color='skyblue', linewidth=4)\n",
        "plt.plot( 'index', 'lm_prediction', data=merge_may, marker='', color='olive', linewidth=2)\n",
        "#plt.plot( 'index', 'lasso_prediction', data=merge_may, marker='', color='red', linewidth=2)\n",
        "plt.plot( 'index', 'svr_prediction', data=merge_may, marker='', color='green', linewidth=2)\n",
        "plt.plot( 'index', 'random_forest', data=merge_may, marker='', color='yellow', linewidth=2)\n",
        "#plt.plot( 'index', 'Avg', data=merge_may, marker='', color='green', linewidth=2)\n",
        "plt.xticks(rotation='vertical')\n",
        "plt.legend()"
      ],
      "execution_count": 135,
      "outputs": [
        {
          "output_type": "execute_result",
          "data": {
            "text/plain": [
              "<matplotlib.legend.Legend at 0x7f7daa0bc208>"
            ]
          },
          "metadata": {
            "tags": []
          },
          "execution_count": 135
        },
        {
          "output_type": "display_data",
          "data": {
            "image/png": "[encoded data removed]",
            "text/plain": [
              "<Figure size 1440x720 with 1 Axes>"
            ]
          },
          "metadata": {
            "tags": []
          }
        }
      ]
    },
    {
      "cell_type": "markdown",
      "metadata": {
        "id": "9bZ_EtdkwfKw",
        "colab_type": "text"
      },
      "source": [
        "# Linear Model - July"
      ]
    },
    {
      "cell_type": "code",
      "metadata": {
        "colab_type": "code",
        "id": "MWJ6grU7wi3n",
        "colab": {}
      },
      "source": [
        "# Runt he linear regressor over the x and y training data\n",
        "model = LinearRegression().fit(x_train_july, y_train_july)"
      ],
      "execution_count": 136,
      "outputs": []
    },
    {
      "cell_type": "code",
      "metadata": {
        "colab_type": "code",
        "id": "YRrivltjwi3t",
        "colab": {
          "base_uri": "https://localhost:8080/",
          "height": 545
        },
        "outputId": "2dad32ad-4c67-4bdb-d268-d1944bdf7b77"
      },
      "source": [
        "# Runt he linear regressor over the x and y training data\n",
        "from statsmodels.api import OLS\n",
        "OLS(y_train_july,x_train_july).fit().summary()"
      ],
      "execution_count": 137,
      "outputs": [
        {
          "output_type": "execute_result",
          "data": {
            "text/html": [
              "<table class=\"simpletable\">\n",
              "<caption>OLS Regression Results</caption>\n",
              "<tr>\n",
              "  <th>Dep. Variable:</th>        <td>BTC_close</td>    <th>  R-squared (uncentered):</th>      <td>   0.958</td> \n",
              "</tr>\n",
              "<tr>\n",
              "  <th>Model:</th>                   <td>OLS</td>       <th>  Adj. R-squared (uncentered):</th> <td>   0.957</td> \n",
              "</tr>\n",
              "<tr>\n",
              "  <th>Method:</th>             <td>Least Squares</td>  <th>  F-statistic:       </th>          <td>   2832.</td> \n",
              "</tr>\n",
              "<tr>\n",
              "  <th>Date:</th>             <td>Sat, 05 Sep 2020</td> <th>  Prob (F-statistic):</th>           <td>  0.00</td>  \n",
              "</tr>\n",
              "<tr>\n",
              "  <th>Time:</th>                 <td>08:18:42</td>     <th>  Log-Likelihood:    </th>          <td> -9968.8</td> \n",
              "</tr>\n",
              "<tr>\n",
              "  <th>No. Observations:</th>      <td>  1131</td>      <th>  AIC:               </th>          <td>1.996e+04</td>\n",
              "</tr>\n",
              "<tr>\n",
              "  <th>Df Residuals:</th>          <td>  1122</td>      <th>  BIC:               </th>          <td>2.000e+04</td>\n",
              "</tr>\n",
              "<tr>\n",
              "  <th>Df Model:</th>              <td>     9</td>      <th>                     </th>              <td> </td>    \n",
              "</tr>\n",
              "<tr>\n",
              "  <th>Covariance Type:</th>      <td>nonrobust</td>    <th>                     </th>              <td> </td>    \n",
              "</tr>\n",
              "</table>\n",
              "<table class=\"simpletable\">\n",
              "<tr>\n",
              "        <td></td>           <th>coef</th>     <th>std err</th>      <th>t</th>      <th>P>|t|</th>  <th>[0.025</th>    <th>0.975]</th>  \n",
              "</tr>\n",
              "<tr>\n",
              "  <th>ETHER_open</th>    <td>   -0.8614</td> <td>    2.800</td> <td>   -0.308</td> <td> 0.758</td> <td>   -6.354</td> <td>    4.632</td>\n",
              "</tr>\n",
              "<tr>\n",
              "  <th>ETHER_close</th>   <td>    1.3751</td> <td>    2.809</td> <td>    0.489</td> <td> 0.625</td> <td>   -4.137</td> <td>    6.887</td>\n",
              "</tr>\n",
              "<tr>\n",
              "  <th>ETHER_vol</th>     <td>    0.0006</td> <td>    0.000</td> <td>    1.832</td> <td> 0.067</td> <td>-4.39e-05</td> <td>    0.001</td>\n",
              "</tr>\n",
              "<tr>\n",
              "  <th>XRP_open</th>      <td>-1882.5396</td> <td> 1232.462</td> <td>   -1.527</td> <td> 0.127</td> <td>-4300.728</td> <td>  535.649</td>\n",
              "</tr>\n",
              "<tr>\n",
              "  <th>XRP_close</th>     <td> -760.7190</td> <td> 1254.559</td> <td>   -0.606</td> <td> 0.544</td> <td>-3222.266</td> <td> 1700.828</td>\n",
              "</tr>\n",
              "<tr>\n",
              "  <th>XRP_vol</th>       <td>-2.068e-06</td> <td> 1.08e-06</td> <td>   -1.908</td> <td> 0.057</td> <td>-4.19e-06</td> <td> 5.84e-08</td>\n",
              "</tr>\n",
              "<tr>\n",
              "  <th>BTC_open_dup</th>  <td>    0.0266</td> <td>    0.160</td> <td>    0.166</td> <td> 0.868</td> <td>   -0.287</td> <td>    0.341</td>\n",
              "</tr>\n",
              "<tr>\n",
              "  <th>BTC_close_dup</th> <td>    1.0168</td> <td>    0.159</td> <td>    6.396</td> <td> 0.000</td> <td>    0.705</td> <td>    1.329</td>\n",
              "</tr>\n",
              "<tr>\n",
              "  <th>BTC_vol_dup</th>   <td>    0.0206</td> <td>    0.003</td> <td>    6.527</td> <td> 0.000</td> <td>    0.014</td> <td>    0.027</td>\n",
              "</tr>\n",
              "</table>\n",
              "<table class=\"simpletable\">\n",
              "<tr>\n",
              "  <th>Omnibus:</th>       <td>234.664</td> <th>  Durbin-Watson:     </th> <td>   0.173</td> \n",
              "</tr>\n",
              "<tr>\n",
              "  <th>Prob(Omnibus):</th> <td> 0.000</td>  <th>  Jarque-Bera (JB):  </th> <td>1180.063</td> \n",
              "</tr>\n",
              "<tr>\n",
              "  <th>Skew:</th>          <td> 0.867</td>  <th>  Prob(JB):          </th> <td>5.66e-257</td>\n",
              "</tr>\n",
              "<tr>\n",
              "  <th>Kurtosis:</th>      <td> 7.694</td>  <th>  Cond. No.          </th> <td>2.65e+09</td> \n",
              "</tr>\n",
              "</table><br/><br/>Warnings:<br/>[1] Standard Errors assume that the covariance matrix of the errors is correctly specified.<br/>[2] The condition number is large, 2.65e+09. This might indicate that there are<br/>strong multicollinearity or other numerical problems."
            ],
            "text/plain": [
              "<class 'statsmodels.iolib.summary.Summary'>\n",
              "\"\"\"\n",
              "                                 OLS Regression Results                                \n",
              "=======================================================================================\n",
              "Dep. Variable:              BTC_close   R-squared (uncentered):                   0.958\n",
              "Model:                            OLS   Adj. R-squared (uncentered):              0.957\n",
              "Method:                 Least Squares   F-statistic:                              2832.\n",
              "Date:                Sat, 05 Sep 2020   Prob (F-statistic):                        0.00\n",
              "Time:                        08:18:42   Log-Likelihood:                         -9968.8\n",
              "No. Observations:                1131   AIC:                                  1.996e+04\n",
              "Df Residuals:                    1122   BIC:                                  2.000e+04\n",
              "Df Model:                           9                                                  \n",
              "Covariance Type:            nonrobust                                                  \n",
              "=================================================================================\n",
              "                    coef    std err          t      P>|t|      [0.025      0.975]\n",
              "---------------------------------------------------------------------------------\n",
              "ETHER_open       -0.8614      2.800     -0.308      0.758      -6.354       4.632\n",
              "ETHER_close       1.3751      2.809      0.489      0.625      -4.137       6.887\n",
              "ETHER_vol         0.0006      0.000      1.832      0.067   -4.39e-05       0.001\n",
              "XRP_open      -1882.5396   1232.462     -1.527      0.127   -4300.728     535.649\n",
              "XRP_close      -760.7190   1254.559     -0.606      0.544   -3222.266    1700.828\n",
              "XRP_vol       -2.068e-06   1.08e-06     -1.908      0.057   -4.19e-06    5.84e-08\n",
              "BTC_open_dup      0.0266      0.160      0.166      0.868      -0.287       0.341\n",
              "BTC_close_dup     1.0168      0.159      6.396      0.000       0.705       1.329\n",
              "BTC_vol_dup       0.0206      0.003      6.527      0.000       0.014       0.027\n",
              "==============================================================================\n",
              "Omnibus:                      234.664   Durbin-Watson:                   0.173\n",
              "Prob(Omnibus):                  0.000   Jarque-Bera (JB):             1180.063\n",
              "Skew:                           0.867   Prob(JB):                    5.66e-257\n",
              "Kurtosis:                       7.694   Cond. No.                     2.65e+09\n",
              "==============================================================================\n",
              "\n",
              "Warnings:\n",
              "[1] Standard Errors assume that the covariance matrix of the errors is correctly specified.\n",
              "[2] The condition number is large, 2.65e+09. This might indicate that there are\n",
              "strong multicollinearity or other numerical problems.\n",
              "\"\"\""
            ]
          },
          "metadata": {
            "tags": []
          },
          "execution_count": 137
        }
      ]
    },
    {
      "cell_type": "code",
      "metadata": {
        "colab_type": "code",
        "id": "DM4I5EHOwi3z",
        "colab": {}
      },
      "source": [
        "# Predict the model on the x_test data\n",
        "y_pred_july = pd.DataFrame(model.predict(x_test_july))\n",
        "y_pred_july['index'] = range(1,22)"
      ],
      "execution_count": 138,
      "outputs": []
    },
    {
      "cell_type": "code",
      "metadata": {
        "colab_type": "code",
        "id": "s2HIKXOfwi36",
        "colab": {}
      },
      "source": [
        "y_test_july = pd.DataFrame(y_test_july)[0:21]\n",
        "y_test_july['index'] = range(1,22)"
      ],
      "execution_count": 139,
      "outputs": []
    },
    {
      "cell_type": "code",
      "metadata": {
        "colab_type": "code",
        "id": "b_grw7BKwi4A",
        "colab": {}
      },
      "source": [
        "# merge the prediction and actual data frames\n",
        "merge_july = y_pred_july.merge(y_test_july, on='index', how='left')"
      ],
      "execution_count": 140,
      "outputs": []
    },
    {
      "cell_type": "code",
      "metadata": {
        "colab_type": "code",
        "id": "ZBX-XuUgwi4C",
        "colab": {}
      },
      "source": [
        "merge_july.columns = ['lm_prediction', 'index', 'real']"
      ],
      "execution_count": 141,
      "outputs": []
    },
    {
      "cell_type": "code",
      "metadata": {
        "colab_type": "code",
        "id": "SV8YXbxAwi4J",
        "colab": {
          "base_uri": "https://localhost:8080/",
          "height": 34
        },
        "outputId": "83bc324a-7e85-40ab-e5a8-a24137196245"
      },
      "source": [
        "MSE = mean_squared_error(y_true = merge_july.real, y_pred = merge_july.lm_prediction)\n",
        "np.sqrt(MSE)"
      ],
      "execution_count": 142,
      "outputs": [
        {
          "output_type": "execute_result",
          "data": {
            "text/plain": [
              "1258.4581293329245"
            ]
          },
          "metadata": {
            "tags": []
          },
          "execution_count": 142
        }
      ]
    },
    {
      "cell_type": "code",
      "metadata": {
        "colab_type": "code",
        "id": "-N_Xgpj8wi4L",
        "colab": {
          "base_uri": "https://localhost:8080/",
          "height": 34
        },
        "outputId": "8a4d712f-9f5b-4e69-f06a-2b755b6db3db"
      },
      "source": [
        "# Calculate the r_square value for the linear model\n",
        "r_sq = model.score(x_train_july, y_train_july)\n",
        "print('coefficient of determination:', r_sq)"
      ],
      "execution_count": 143,
      "outputs": [
        {
          "output_type": "stream",
          "text": [
            "coefficient of determination: 0.7115790911175472\n"
          ],
          "name": "stdout"
        }
      ]
    },
    {
      "cell_type": "code",
      "metadata": {
        "colab_type": "code",
        "id": "l4IDli7rwi4R",
        "colab": {
          "base_uri": "https://localhost:8080/",
          "height": 625
        },
        "outputId": "9d1fdf2d-c515-4c8c-e300-5b8439449ba4"
      },
      "source": [
        "# Plot the predicted vs actual in matplot lib\n",
        "import matplotlib.pyplot as plt\n",
        "plt.plot( 'index', 'real', data=merge_july, marker='o', markerfacecolor='blue', markersize=12, color='skyblue', linewidth=4)\n",
        "plt.plot( 'index', 'lm_prediction', data=merge_july, marker='', color='olive', linewidth=2)\n",
        "plt.xticks(rotation='vertical')\n",
        "plt.legend()"
      ],
      "execution_count": 144,
      "outputs": [
        {
          "output_type": "execute_result",
          "data": {
            "text/plain": [
              "<matplotlib.legend.Legend at 0x7f7daa469a90>"
            ]
          },
          "metadata": {
            "tags": []
          },
          "execution_count": 144
        },
        {
          "output_type": "display_data",
          "data": {
            "image/png": "[encoded data removed]",
            "text/plain": [
              "<Figure size 1440x720 with 1 Axes>"
            ]
          },
          "metadata": {
            "tags": []
          }
        }
      ]
    },
    {
      "cell_type": "markdown",
      "metadata": {
        "colab_type": "text",
        "id": "y5KT3m0S4w-P"
      },
      "source": [
        "# Lasso Regression - July"
      ]
    },
    {
      "cell_type": "code",
      "metadata": {
        "colab_type": "code",
        "id": "CRiGfTY04w-Y",
        "colab": {}
      },
      "source": [
        "from sklearn.linear_model import Lasso\n",
        "from sklearn.model_selection import GridSearchCV\n",
        "\n",
        "lasso = Lasso()"
      ],
      "execution_count": 145,
      "outputs": []
    },
    {
      "cell_type": "code",
      "metadata": {
        "colab_type": "code",
        "id": "rcCbQ2uX4w-j",
        "colab": {}
      },
      "source": [
        "params = {'alpha': [1e-15, 1e-10, 1e-8, 1e-4, 1e-3, 1e-2, 1, 5, 10, 20]}"
      ],
      "execution_count": 146,
      "outputs": []
    },
    {
      "cell_type": "code",
      "metadata": {
        "colab_type": "code",
        "id": "g3UNNgT74w-s",
        "colab": {}
      },
      "source": [
        "lasso_regressor = GridSearchCV(lasso, params, scoring = 'neg_mean_squared_error', cv=5)"
      ],
      "execution_count": 147,
      "outputs": []
    },
    {
      "cell_type": "code",
      "metadata": {
        "colab_type": "code",
        "id": "sYmA2BgN4w-y",
        "colab": {}
      },
      "source": [
        "lasso = lasso_regressor.fit(x_train_july, y_train_july)"
      ],
      "execution_count": null,
      "outputs": []
    },
    {
      "cell_type": "code",
      "metadata": {
        "colab_type": "code",
        "id": "YncerhZ44w-3",
        "colab": {
          "base_uri": "https://localhost:8080/"
        },
        "outputId": "09e20894-0bf8-4fb1-d585-9e460a69cf06"
      },
      "source": [
        "print(lasso.best_params_)"
      ],
      "execution_count": null,
      "outputs": [
        {
          "output_type": "stream",
          "text": [
            "{'alpha': 1e-15}\n"
          ],
          "name": "stdout"
        }
      ]
    },
    {
      "cell_type": "code",
      "metadata": {
        "colab_type": "code",
        "id": "kpvmeHLC4w-8",
        "colab": {
          "base_uri": "https://localhost:8080/"
        },
        "outputId": "7c120047-0331-49cb-8ab3-de63fd17512f"
      },
      "source": [
        "print(lasso.best_score_)"
      ],
      "execution_count": null,
      "outputs": [
        {
          "output_type": "stream",
          "text": [
            "-997010.4666424043\n"
          ],
          "name": "stdout"
        }
      ]
    },
    {
      "cell_type": "code",
      "metadata": {
        "colab_type": "code",
        "id": "_Fd56mmU4w_D",
        "colab": {}
      },
      "source": [
        "# Predict the model on the x_test data\n",
        "y_pred_july_lasso = pd.DataFrame(lasso.predict(x_test_july))\n",
        "y_pred_july_lasso['index'] = range(1,22)"
      ],
      "execution_count": 149,
      "outputs": []
    },
    {
      "cell_type": "code",
      "metadata": {
        "colab_type": "code",
        "id": "N53OKcrh4w_K",
        "colab": {}
      },
      "source": [
        "# merge the prediction and actual data frames\n",
        "merge_july = merge_july.merge(y_pred_july_lasso, on='index', how='left')"
      ],
      "execution_count": 150,
      "outputs": []
    },
    {
      "cell_type": "code",
      "metadata": {
        "colab_type": "code",
        "id": "zbIsU2-l4w_X",
        "colab": {}
      },
      "source": [
        "merge_july.columns = ['lm_prediction', 'index', 'real', 'lasso_prediction']"
      ],
      "execution_count": 151,
      "outputs": []
    },
    {
      "cell_type": "code",
      "metadata": {
        "colab_type": "code",
        "id": "irHacil04w_t",
        "colab": {
          "base_uri": "https://localhost:8080/",
          "height": 34
        },
        "outputId": "43159d9d-bf9a-4f05-f5a3-87fa57d1d21b"
      },
      "source": [
        "MSE = mean_squared_error(y_true = merge_july.real, y_pred = merge_july.lasso_prediction)\n",
        "np.sqrt(MSE)"
      ],
      "execution_count": 152,
      "outputs": [
        {
          "output_type": "execute_result",
          "data": {
            "text/plain": [
              "1262.4054438482958"
            ]
          },
          "metadata": {
            "tags": []
          },
          "execution_count": 152
        }
      ]
    },
    {
      "cell_type": "code",
      "metadata": {
        "colab_type": "code",
        "id": "v0OMJPDR4w_5",
        "colab": {
          "base_uri": "https://localhost:8080/",
          "height": 625
        },
        "outputId": "b3becb46-9679-452b-e877-96789a189d6c"
      },
      "source": [
        "# Plot the predicted vs actual in matplot lib\n",
        "import matplotlib.pyplot as plt\n",
        "plt.plot( 'index', 'real', data=merge_july, marker='o', markerfacecolor='blue', markersize=12, color='skyblue', linewidth=4)\n",
        "plt.plot( 'index', 'lm_prediction', data=merge_july, marker='', color='olive', linewidth=2)\n",
        "plt.plot( 'index', 'lasso_prediction', data=merge_july, marker='', color='red', linewidth=2)\n",
        "plt.xticks(rotation='vertical')\n",
        "plt.legend()"
      ],
      "execution_count": 153,
      "outputs": [
        {
          "output_type": "execute_result",
          "data": {
            "text/plain": [
              "<matplotlib.legend.Legend at 0x7f7da97f4160>"
            ]
          },
          "metadata": {
            "tags": []
          },
          "execution_count": 153
        },
        {
          "output_type": "display_data",
          "data": {
            "image/png": "[encoded data removed]",
            "text/plain": [
              "<Figure size 1440x720 with 1 Axes>"
            ]
          },
          "metadata": {
            "tags": []
          }
        }
      ]
    },
    {
      "cell_type": "markdown",
      "metadata": {
        "colab_type": "text",
        "id": "AIxd-aXGiVgV"
      },
      "source": [
        "# Support Vector Regression - July"
      ]
    },
    {
      "cell_type": "code",
      "metadata": {
        "colab_type": "code",
        "id": "Hrih_EZriVgY",
        "colab": {}
      },
      "source": [
        "# Import the algorithm package\n",
        "from sklearn.svm import SVR\n",
        "from sklearn.pipeline import make_pipeline\n",
        "from sklearn.preprocessing import StandardScaler"
      ],
      "execution_count": 154,
      "outputs": []
    },
    {
      "cell_type": "code",
      "metadata": {
        "colab_type": "code",
        "id": "fJ3RjUcfiVgb",
        "colab": {}
      },
      "source": [
        "y_train_july = pd.DataFrame(y_train_july)"
      ],
      "execution_count": 155,
      "outputs": []
    },
    {
      "cell_type": "code",
      "metadata": {
        "colab_type": "code",
        "id": "jIAT5eSTiVgg",
        "colab": {}
      },
      "source": [
        "#3 Feature Scaling\n",
        "sc_X = StandardScaler()\n",
        "sc_y = StandardScaler()\n",
        "X = sc_X.fit_transform(x_train_july)\n",
        "y = sc_y.fit_transform(y_train_july)"
      ],
      "execution_count": 156,
      "outputs": []
    },
    {
      "cell_type": "code",
      "metadata": {
        "colab_type": "code",
        "id": "UMQzYTM6iVgi",
        "colab": {}
      },
      "source": [
        "y = y[:, 0]"
      ],
      "execution_count": 157,
      "outputs": []
    },
    {
      "cell_type": "code",
      "metadata": {
        "colab_type": "code",
        "id": "4SyMGtitiVgk",
        "colab": {}
      },
      "source": [
        "# Load the SVR and fit\n",
        "#svr = SVR(kernel='poly')\n",
        "svr_regressor = SVR(kernel = 'rbf')\n",
        "SVR_reg = svr_regressor.fit(X, y)"
      ],
      "execution_count": 158,
      "outputs": []
    },
    {
      "cell_type": "code",
      "metadata": {
        "colab_type": "code",
        "id": "c6i-mX6GiVgm",
        "colab": {
          "base_uri": "https://localhost:8080/",
          "height": 677
        },
        "outputId": "443b0dbb-681f-4687-c816-ae380db8a454"
      },
      "source": [
        "# Predict the model on the x_test data\n",
        "x_test_july = sc_X.fit_transform(x_test_july)\n",
        "\n",
        "y_pred_july_svr = SVR_reg.predict(x_test_july)\n",
        "y_pred_july_svr = sc_y.inverse_transform(y_pred_july_svr) \n",
        "\n",
        "\n",
        "y_pred_july_svr = pd.DataFrame(y_pred_july_svr)\n",
        "y_pred_july_svr['index'] = range(1,22)\n",
        "y_pred_july_svr"
      ],
      "execution_count": 159,
      "outputs": [
        {
          "output_type": "execute_result",
          "data": {
            "text/html": [
              "<div>\n",
              "<style scoped>\n",
              "    .dataframe tbody tr th:only-of-type {\n",
              "        vertical-align: middle;\n",
              "    }\n",
              "\n",
              "    .dataframe tbody tr th {\n",
              "        vertical-align: top;\n",
              "    }\n",
              "\n",
              "    .dataframe thead th {\n",
              "        text-align: right;\n",
              "    }\n",
              "</style>\n",
              "<table border=\"1\" class=\"dataframe\">\n",
              "  <thead>\n",
              "    <tr style=\"text-align: right;\">\n",
              "      <th></th>\n",
              "      <th>0</th>\n",
              "      <th>index</th>\n",
              "    </tr>\n",
              "  </thead>\n",
              "  <tbody>\n",
              "    <tr>\n",
              "      <th>0</th>\n",
              "      <td>10747.442865</td>\n",
              "      <td>1</td>\n",
              "    </tr>\n",
              "    <tr>\n",
              "      <th>1</th>\n",
              "      <td>11158.926178</td>\n",
              "      <td>2</td>\n",
              "    </tr>\n",
              "    <tr>\n",
              "      <th>2</th>\n",
              "      <td>8049.849608</td>\n",
              "      <td>3</td>\n",
              "    </tr>\n",
              "    <tr>\n",
              "      <th>3</th>\n",
              "      <td>5139.892306</td>\n",
              "      <td>4</td>\n",
              "    </tr>\n",
              "    <tr>\n",
              "      <th>4</th>\n",
              "      <td>7189.358841</td>\n",
              "      <td>5</td>\n",
              "    </tr>\n",
              "    <tr>\n",
              "      <th>5</th>\n",
              "      <td>8245.571811</td>\n",
              "      <td>6</td>\n",
              "    </tr>\n",
              "    <tr>\n",
              "      <th>6</th>\n",
              "      <td>8076.290785</td>\n",
              "      <td>7</td>\n",
              "    </tr>\n",
              "    <tr>\n",
              "      <th>7</th>\n",
              "      <td>9575.287305</td>\n",
              "      <td>8</td>\n",
              "    </tr>\n",
              "    <tr>\n",
              "      <th>8</th>\n",
              "      <td>6849.292054</td>\n",
              "      <td>9</td>\n",
              "    </tr>\n",
              "    <tr>\n",
              "      <th>9</th>\n",
              "      <td>6763.644911</td>\n",
              "      <td>10</td>\n",
              "    </tr>\n",
              "    <tr>\n",
              "      <th>10</th>\n",
              "      <td>7582.268378</td>\n",
              "      <td>11</td>\n",
              "    </tr>\n",
              "    <tr>\n",
              "      <th>11</th>\n",
              "      <td>6156.252615</td>\n",
              "      <td>12</td>\n",
              "    </tr>\n",
              "    <tr>\n",
              "      <th>12</th>\n",
              "      <td>10800.379092</td>\n",
              "      <td>13</td>\n",
              "    </tr>\n",
              "    <tr>\n",
              "      <th>13</th>\n",
              "      <td>8243.783073</td>\n",
              "      <td>14</td>\n",
              "    </tr>\n",
              "    <tr>\n",
              "      <th>14</th>\n",
              "      <td>10684.453672</td>\n",
              "      <td>15</td>\n",
              "    </tr>\n",
              "    <tr>\n",
              "      <th>15</th>\n",
              "      <td>9523.212995</td>\n",
              "      <td>16</td>\n",
              "    </tr>\n",
              "    <tr>\n",
              "      <th>16</th>\n",
              "      <td>8396.317497</td>\n",
              "      <td>17</td>\n",
              "    </tr>\n",
              "    <tr>\n",
              "      <th>17</th>\n",
              "      <td>7915.860428</td>\n",
              "      <td>18</td>\n",
              "    </tr>\n",
              "    <tr>\n",
              "      <th>18</th>\n",
              "      <td>8694.153990</td>\n",
              "      <td>19</td>\n",
              "    </tr>\n",
              "    <tr>\n",
              "      <th>19</th>\n",
              "      <td>8658.174949</td>\n",
              "      <td>20</td>\n",
              "    </tr>\n",
              "    <tr>\n",
              "      <th>20</th>\n",
              "      <td>7906.421651</td>\n",
              "      <td>21</td>\n",
              "    </tr>\n",
              "  </tbody>\n",
              "</table>\n",
              "</div>"
            ],
            "text/plain": [
              "               0  index\n",
              "0   10747.442865      1\n",
              "1   11158.926178      2\n",
              "2    8049.849608      3\n",
              "3    5139.892306      4\n",
              "4    7189.358841      5\n",
              "5    8245.571811      6\n",
              "6    8076.290785      7\n",
              "7    9575.287305      8\n",
              "8    6849.292054      9\n",
              "9    6763.644911     10\n",
              "10   7582.268378     11\n",
              "11   6156.252615     12\n",
              "12  10800.379092     13\n",
              "13   8243.783073     14\n",
              "14  10684.453672     15\n",
              "15   9523.212995     16\n",
              "16   8396.317497     17\n",
              "17   7915.860428     18\n",
              "18   8694.153990     19\n",
              "19   8658.174949     20\n",
              "20   7906.421651     21"
            ]
          },
          "metadata": {
            "tags": []
          },
          "execution_count": 159
        }
      ]
    },
    {
      "cell_type": "code",
      "metadata": {
        "colab_type": "code",
        "id": "AbQZwak2iVgq",
        "colab": {}
      },
      "source": [
        "# merge the prediction and actual data frames\n",
        "merge_july = merge_july.merge(y_pred_july_svr, on='index', how='left')"
      ],
      "execution_count": 162,
      "outputs": []
    },
    {
      "cell_type": "code",
      "metadata": {
        "id": "vOAmA_JwjUrg",
        "colab_type": "code",
        "colab": {
          "base_uri": "https://localhost:8080/",
          "height": 677
        },
        "outputId": "3542e8d2-b907-4650-d733-c5d521ef48b3"
      },
      "source": [
        "# Merge Donald's July predictions into the merge_july data frame\n",
        "PredictionVSactual_july.columns = ['real', 'random_forest']\n",
        "\n",
        "merge_july = merge_july.merge(PredictionVSactual_july, on='real', how='left')\n",
        "\n",
        "merge_july"
      ],
      "execution_count": 175,
      "outputs": [
        {
          "output_type": "execute_result",
          "data": {
            "text/html": [
              "<div>\n",
              "<style scoped>\n",
              "    .dataframe tbody tr th:only-of-type {\n",
              "        vertical-align: middle;\n",
              "    }\n",
              "\n",
              "    .dataframe tbody tr th {\n",
              "        vertical-align: top;\n",
              "    }\n",
              "\n",
              "    .dataframe thead th {\n",
              "        text-align: right;\n",
              "    }\n",
              "</style>\n",
              "<table border=\"1\" class=\"dataframe\">\n",
              "  <thead>\n",
              "    <tr style=\"text-align: right;\">\n",
              "      <th></th>\n",
              "      <th>lm_prediction</th>\n",
              "      <th>index</th>\n",
              "      <th>real</th>\n",
              "      <th>lasso_prediction</th>\n",
              "      <th>svr_prediction</th>\n",
              "      <th>stuff up</th>\n",
              "      <th>random_forest</th>\n",
              "    </tr>\n",
              "  </thead>\n",
              "  <tbody>\n",
              "    <tr>\n",
              "      <th>0</th>\n",
              "      <td>9333.603618</td>\n",
              "      <td>1</td>\n",
              "      <td>9210.100000</td>\n",
              "      <td>9327.732483</td>\n",
              "      <td>10747.442865</td>\n",
              "      <td>10747.442865</td>\n",
              "      <td>9143.888356</td>\n",
              "    </tr>\n",
              "    <tr>\n",
              "      <th>1</th>\n",
              "      <td>9365.369742</td>\n",
              "      <td>2</td>\n",
              "      <td>9149.600000</td>\n",
              "      <td>9360.055012</td>\n",
              "      <td>11158.926178</td>\n",
              "      <td>11158.926178</td>\n",
              "      <td>8907.465975</td>\n",
              "    </tr>\n",
              "    <tr>\n",
              "      <th>2</th>\n",
              "      <td>9278.120538</td>\n",
              "      <td>3</td>\n",
              "      <td>9167.328612</td>\n",
              "      <td>9272.993942</td>\n",
              "      <td>8049.849608</td>\n",
              "      <td>8049.849608</td>\n",
              "      <td>8783.675973</td>\n",
              "    </tr>\n",
              "    <tr>\n",
              "      <th>3</th>\n",
              "      <td>9104.480770</td>\n",
              "      <td>4</td>\n",
              "      <td>9189.100000</td>\n",
              "      <td>9099.215872</td>\n",
              "      <td>5139.892306</td>\n",
              "      <td>5139.892306</td>\n",
              "      <td>8658.144971</td>\n",
              "    </tr>\n",
              "    <tr>\n",
              "      <th>4</th>\n",
              "      <td>9236.806446</td>\n",
              "      <td>5</td>\n",
              "      <td>9231.200000</td>\n",
              "      <td>9231.376318</td>\n",
              "      <td>7189.358841</td>\n",
              "      <td>7189.358841</td>\n",
              "      <td>8686.226125</td>\n",
              "    </tr>\n",
              "    <tr>\n",
              "      <th>5</th>\n",
              "      <td>9333.435375</td>\n",
              "      <td>6</td>\n",
              "      <td>9179.200000</td>\n",
              "      <td>9328.203801</td>\n",
              "      <td>8245.571811</td>\n",
              "      <td>8245.571811</td>\n",
              "      <td>8746.583132</td>\n",
              "    </tr>\n",
              "    <tr>\n",
              "      <th>6</th>\n",
              "      <td>9259.810312</td>\n",
              "      <td>7</td>\n",
              "      <td>9402.000000</td>\n",
              "      <td>9254.669413</td>\n",
              "      <td>8076.290785</td>\n",
              "      <td>8076.290785</td>\n",
              "      <td>8721.904008</td>\n",
              "    </tr>\n",
              "    <tr>\n",
              "      <th>7</th>\n",
              "      <td>9341.068832</td>\n",
              "      <td>8</td>\n",
              "      <td>9557.700000</td>\n",
              "      <td>9335.365426</td>\n",
              "      <td>9575.287305</td>\n",
              "      <td>9575.287305</td>\n",
              "      <td>8795.015375</td>\n",
              "    </tr>\n",
              "    <tr>\n",
              "      <th>8</th>\n",
              "      <td>9220.868092</td>\n",
              "      <td>9</td>\n",
              "      <td>9615.000000</td>\n",
              "      <td>9215.435484</td>\n",
              "      <td>6849.292054</td>\n",
              "      <td>6849.292054</td>\n",
              "      <td>8722.178922</td>\n",
              "    </tr>\n",
              "    <tr>\n",
              "      <th>9</th>\n",
              "      <td>9189.588845</td>\n",
              "      <td>10</td>\n",
              "      <td>9559.100000</td>\n",
              "      <td>9184.387563</td>\n",
              "      <td>6763.644911</td>\n",
              "      <td>6763.644911</td>\n",
              "      <td>8664.883283</td>\n",
              "    </tr>\n",
              "    <tr>\n",
              "      <th>10</th>\n",
              "      <td>9263.511435</td>\n",
              "      <td>11</td>\n",
              "      <td>9714.890204</td>\n",
              "      <td>9258.093409</td>\n",
              "      <td>7582.268378</td>\n",
              "      <td>7582.268378</td>\n",
              "      <td>8683.824454</td>\n",
              "    </tr>\n",
              "    <tr>\n",
              "      <th>11</th>\n",
              "      <td>9203.735670</td>\n",
              "      <td>12</td>\n",
              "      <td>9948.400000</td>\n",
              "      <td>9198.456041</td>\n",
              "      <td>6156.252615</td>\n",
              "      <td>6156.252615</td>\n",
              "      <td>8694.084637</td>\n",
              "    </tr>\n",
              "    <tr>\n",
              "      <th>12</th>\n",
              "      <td>9469.852489</td>\n",
              "      <td>13</td>\n",
              "      <td>11043.962880</td>\n",
              "      <td>9463.571611</td>\n",
              "      <td>10800.379092</td>\n",
              "      <td>10800.379092</td>\n",
              "      <td>9067.244963</td>\n",
              "    </tr>\n",
              "    <tr>\n",
              "      <th>13</th>\n",
              "      <td>9271.956760</td>\n",
              "      <td>14</td>\n",
              "      <td>10932.000000</td>\n",
              "      <td>9265.839831</td>\n",
              "      <td>8243.783073</td>\n",
              "      <td>8243.783073</td>\n",
              "      <td>8925.145083</td>\n",
              "    </tr>\n",
              "    <tr>\n",
              "      <th>14</th>\n",
              "      <td>9503.832320</td>\n",
              "      <td>15</td>\n",
              "      <td>11117.000000</td>\n",
              "      <td>9497.659551</td>\n",
              "      <td>10684.453672</td>\n",
              "      <td>10684.453672</td>\n",
              "      <td>8937.626080</td>\n",
              "    </tr>\n",
              "    <tr>\n",
              "      <th>15</th>\n",
              "      <td>9310.955463</td>\n",
              "      <td>16</td>\n",
              "      <td>11123.000000</td>\n",
              "      <td>9304.969568</td>\n",
              "      <td>9523.212995</td>\n",
              "      <td>9523.212995</td>\n",
              "      <td>8461.215275</td>\n",
              "    </tr>\n",
              "    <tr>\n",
              "      <th>16</th>\n",
              "      <td>9320.960301</td>\n",
              "      <td>17</td>\n",
              "      <td>11350.000000</td>\n",
              "      <td>9315.647071</td>\n",
              "      <td>8396.317497</td>\n",
              "      <td>8396.317497</td>\n",
              "      <td>9021.920222</td>\n",
              "    </tr>\n",
              "    <tr>\n",
              "      <th>17</th>\n",
              "      <td>9272.928757</td>\n",
              "      <td>18</td>\n",
              "      <td>11804.744013</td>\n",
              "      <td>9267.712032</td>\n",
              "      <td>7915.860428</td>\n",
              "      <td>7915.860428</td>\n",
              "      <td>8806.204167</td>\n",
              "    </tr>\n",
              "    <tr>\n",
              "      <th>18</th>\n",
              "      <td>9341.980616</td>\n",
              "      <td>19</td>\n",
              "      <td>11053.772562</td>\n",
              "      <td>9336.619128</td>\n",
              "      <td>8694.153990</td>\n",
              "      <td>8694.153990</td>\n",
              "      <td>9024.395576</td>\n",
              "    </tr>\n",
              "    <tr>\n",
              "      <th>19</th>\n",
              "      <td>9284.148936</td>\n",
              "      <td>20</td>\n",
              "      <td>11226.521728</td>\n",
              "      <td>9278.599659</td>\n",
              "      <td>8658.174949</td>\n",
              "      <td>8658.174949</td>\n",
              "      <td>8811.559941</td>\n",
              "    </tr>\n",
              "    <tr>\n",
              "      <th>20</th>\n",
              "      <td>9316.057499</td>\n",
              "      <td>21</td>\n",
              "      <td>11236.000000</td>\n",
              "      <td>9310.954768</td>\n",
              "      <td>7906.421651</td>\n",
              "      <td>7906.421651</td>\n",
              "      <td>8806.194500</td>\n",
              "    </tr>\n",
              "  </tbody>\n",
              "</table>\n",
              "</div>"
            ],
            "text/plain": [
              "    lm_prediction  index          real  lasso_prediction  svr_prediction  \\\n",
              "0     9333.603618      1   9210.100000       9327.732483    10747.442865   \n",
              "1     9365.369742      2   9149.600000       9360.055012    11158.926178   \n",
              "2     9278.120538      3   9167.328612       9272.993942     8049.849608   \n",
              "3     9104.480770      4   9189.100000       9099.215872     5139.892306   \n",
              "4     9236.806446      5   9231.200000       9231.376318     7189.358841   \n",
              "5     9333.435375      6   9179.200000       9328.203801     8245.571811   \n",
              "6     9259.810312      7   9402.000000       9254.669413     8076.290785   \n",
              "7     9341.068832      8   9557.700000       9335.365426     9575.287305   \n",
              "8     9220.868092      9   9615.000000       9215.435484     6849.292054   \n",
              "9     9189.588845     10   9559.100000       9184.387563     6763.644911   \n",
              "10    9263.511435     11   9714.890204       9258.093409     7582.268378   \n",
              "11    9203.735670     12   9948.400000       9198.456041     6156.252615   \n",
              "12    9469.852489     13  11043.962880       9463.571611    10800.379092   \n",
              "13    9271.956760     14  10932.000000       9265.839831     8243.783073   \n",
              "14    9503.832320     15  11117.000000       9497.659551    10684.453672   \n",
              "15    9310.955463     16  11123.000000       9304.969568     9523.212995   \n",
              "16    9320.960301     17  11350.000000       9315.647071     8396.317497   \n",
              "17    9272.928757     18  11804.744013       9267.712032     7915.860428   \n",
              "18    9341.980616     19  11053.772562       9336.619128     8694.153990   \n",
              "19    9284.148936     20  11226.521728       9278.599659     8658.174949   \n",
              "20    9316.057499     21  11236.000000       9310.954768     7906.421651   \n",
              "\n",
              "        stuff up  random_forest  \n",
              "0   10747.442865    9143.888356  \n",
              "1   11158.926178    8907.465975  \n",
              "2    8049.849608    8783.675973  \n",
              "3    5139.892306    8658.144971  \n",
              "4    7189.358841    8686.226125  \n",
              "5    8245.571811    8746.583132  \n",
              "6    8076.290785    8721.904008  \n",
              "7    9575.287305    8795.015375  \n",
              "8    6849.292054    8722.178922  \n",
              "9    6763.644911    8664.883283  \n",
              "10   7582.268378    8683.824454  \n",
              "11   6156.252615    8694.084637  \n",
              "12  10800.379092    9067.244963  \n",
              "13   8243.783073    8925.145083  \n",
              "14  10684.453672    8937.626080  \n",
              "15   9523.212995    8461.215275  \n",
              "16   8396.317497    9021.920222  \n",
              "17   7915.860428    8806.204167  \n",
              "18   8694.153990    9024.395576  \n",
              "19   8658.174949    8811.559941  \n",
              "20   7906.421651    8806.194500  "
            ]
          },
          "metadata": {
            "tags": []
          },
          "execution_count": 175
        }
      ]
    },
    {
      "cell_type": "code",
      "metadata": {
        "id": "L3NnAr-dlQmn",
        "colab_type": "code",
        "colab": {
          "base_uri": "https://localhost:8080/",
          "height": 677
        },
        "outputId": "6dce0ac8-e4c7-4b99-fed5-3527b3946ffc"
      },
      "source": [
        "merge_july['Average'] = (merge_july['lm_prediction'] + merge_july['random_forest'])/2\n",
        "merge_july"
      ],
      "execution_count": 176,
      "outputs": [
        {
          "output_type": "execute_result",
          "data": {
            "text/html": [
              "<div>\n",
              "<style scoped>\n",
              "    .dataframe tbody tr th:only-of-type {\n",
              "        vertical-align: middle;\n",
              "    }\n",
              "\n",
              "    .dataframe tbody tr th {\n",
              "        vertical-align: top;\n",
              "    }\n",
              "\n",
              "    .dataframe thead th {\n",
              "        text-align: right;\n",
              "    }\n",
              "</style>\n",
              "<table border=\"1\" class=\"dataframe\">\n",
              "  <thead>\n",
              "    <tr style=\"text-align: right;\">\n",
              "      <th></th>\n",
              "      <th>lm_prediction</th>\n",
              "      <th>index</th>\n",
              "      <th>real</th>\n",
              "      <th>lasso_prediction</th>\n",
              "      <th>svr_prediction</th>\n",
              "      <th>stuff up</th>\n",
              "      <th>random_forest</th>\n",
              "      <th>Average</th>\n",
              "    </tr>\n",
              "  </thead>\n",
              "  <tbody>\n",
              "    <tr>\n",
              "      <th>0</th>\n",
              "      <td>9333.603618</td>\n",
              "      <td>1</td>\n",
              "      <td>9210.100000</td>\n",
              "      <td>9327.732483</td>\n",
              "      <td>10747.442865</td>\n",
              "      <td>10747.442865</td>\n",
              "      <td>9143.888356</td>\n",
              "      <td>9238.745987</td>\n",
              "    </tr>\n",
              "    <tr>\n",
              "      <th>1</th>\n",
              "      <td>9365.369742</td>\n",
              "      <td>2</td>\n",
              "      <td>9149.600000</td>\n",
              "      <td>9360.055012</td>\n",
              "      <td>11158.926178</td>\n",
              "      <td>11158.926178</td>\n",
              "      <td>8907.465975</td>\n",
              "      <td>9136.417859</td>\n",
              "    </tr>\n",
              "    <tr>\n",
              "      <th>2</th>\n",
              "      <td>9278.120538</td>\n",
              "      <td>3</td>\n",
              "      <td>9167.328612</td>\n",
              "      <td>9272.993942</td>\n",
              "      <td>8049.849608</td>\n",
              "      <td>8049.849608</td>\n",
              "      <td>8783.675973</td>\n",
              "      <td>9030.898256</td>\n",
              "    </tr>\n",
              "    <tr>\n",
              "      <th>3</th>\n",
              "      <td>9104.480770</td>\n",
              "      <td>4</td>\n",
              "      <td>9189.100000</td>\n",
              "      <td>9099.215872</td>\n",
              "      <td>5139.892306</td>\n",
              "      <td>5139.892306</td>\n",
              "      <td>8658.144971</td>\n",
              "      <td>8881.312870</td>\n",
              "    </tr>\n",
              "    <tr>\n",
              "      <th>4</th>\n",
              "      <td>9236.806446</td>\n",
              "      <td>5</td>\n",
              "      <td>9231.200000</td>\n",
              "      <td>9231.376318</td>\n",
              "      <td>7189.358841</td>\n",
              "      <td>7189.358841</td>\n",
              "      <td>8686.226125</td>\n",
              "      <td>8961.516285</td>\n",
              "    </tr>\n",
              "    <tr>\n",
              "      <th>5</th>\n",
              "      <td>9333.435375</td>\n",
              "      <td>6</td>\n",
              "      <td>9179.200000</td>\n",
              "      <td>9328.203801</td>\n",
              "      <td>8245.571811</td>\n",
              "      <td>8245.571811</td>\n",
              "      <td>8746.583132</td>\n",
              "      <td>9040.009253</td>\n",
              "    </tr>\n",
              "    <tr>\n",
              "      <th>6</th>\n",
              "      <td>9259.810312</td>\n",
              "      <td>7</td>\n",
              "      <td>9402.000000</td>\n",
              "      <td>9254.669413</td>\n",
              "      <td>8076.290785</td>\n",
              "      <td>8076.290785</td>\n",
              "      <td>8721.904008</td>\n",
              "      <td>8990.857160</td>\n",
              "    </tr>\n",
              "    <tr>\n",
              "      <th>7</th>\n",
              "      <td>9341.068832</td>\n",
              "      <td>8</td>\n",
              "      <td>9557.700000</td>\n",
              "      <td>9335.365426</td>\n",
              "      <td>9575.287305</td>\n",
              "      <td>9575.287305</td>\n",
              "      <td>8795.015375</td>\n",
              "      <td>9068.042104</td>\n",
              "    </tr>\n",
              "    <tr>\n",
              "      <th>8</th>\n",
              "      <td>9220.868092</td>\n",
              "      <td>9</td>\n",
              "      <td>9615.000000</td>\n",
              "      <td>9215.435484</td>\n",
              "      <td>6849.292054</td>\n",
              "      <td>6849.292054</td>\n",
              "      <td>8722.178922</td>\n",
              "      <td>8971.523507</td>\n",
              "    </tr>\n",
              "    <tr>\n",
              "      <th>9</th>\n",
              "      <td>9189.588845</td>\n",
              "      <td>10</td>\n",
              "      <td>9559.100000</td>\n",
              "      <td>9184.387563</td>\n",
              "      <td>6763.644911</td>\n",
              "      <td>6763.644911</td>\n",
              "      <td>8664.883283</td>\n",
              "      <td>8927.236064</td>\n",
              "    </tr>\n",
              "    <tr>\n",
              "      <th>10</th>\n",
              "      <td>9263.511435</td>\n",
              "      <td>11</td>\n",
              "      <td>9714.890204</td>\n",
              "      <td>9258.093409</td>\n",
              "      <td>7582.268378</td>\n",
              "      <td>7582.268378</td>\n",
              "      <td>8683.824454</td>\n",
              "      <td>8973.667944</td>\n",
              "    </tr>\n",
              "    <tr>\n",
              "      <th>11</th>\n",
              "      <td>9203.735670</td>\n",
              "      <td>12</td>\n",
              "      <td>9948.400000</td>\n",
              "      <td>9198.456041</td>\n",
              "      <td>6156.252615</td>\n",
              "      <td>6156.252615</td>\n",
              "      <td>8694.084637</td>\n",
              "      <td>8948.910154</td>\n",
              "    </tr>\n",
              "    <tr>\n",
              "      <th>12</th>\n",
              "      <td>9469.852489</td>\n",
              "      <td>13</td>\n",
              "      <td>11043.962880</td>\n",
              "      <td>9463.571611</td>\n",
              "      <td>10800.379092</td>\n",
              "      <td>10800.379092</td>\n",
              "      <td>9067.244963</td>\n",
              "      <td>9268.548726</td>\n",
              "    </tr>\n",
              "    <tr>\n",
              "      <th>13</th>\n",
              "      <td>9271.956760</td>\n",
              "      <td>14</td>\n",
              "      <td>10932.000000</td>\n",
              "      <td>9265.839831</td>\n",
              "      <td>8243.783073</td>\n",
              "      <td>8243.783073</td>\n",
              "      <td>8925.145083</td>\n",
              "      <td>9098.550922</td>\n",
              "    </tr>\n",
              "    <tr>\n",
              "      <th>14</th>\n",
              "      <td>9503.832320</td>\n",
              "      <td>15</td>\n",
              "      <td>11117.000000</td>\n",
              "      <td>9497.659551</td>\n",
              "      <td>10684.453672</td>\n",
              "      <td>10684.453672</td>\n",
              "      <td>8937.626080</td>\n",
              "      <td>9220.729200</td>\n",
              "    </tr>\n",
              "    <tr>\n",
              "      <th>15</th>\n",
              "      <td>9310.955463</td>\n",
              "      <td>16</td>\n",
              "      <td>11123.000000</td>\n",
              "      <td>9304.969568</td>\n",
              "      <td>9523.212995</td>\n",
              "      <td>9523.212995</td>\n",
              "      <td>8461.215275</td>\n",
              "      <td>8886.085369</td>\n",
              "    </tr>\n",
              "    <tr>\n",
              "      <th>16</th>\n",
              "      <td>9320.960301</td>\n",
              "      <td>17</td>\n",
              "      <td>11350.000000</td>\n",
              "      <td>9315.647071</td>\n",
              "      <td>8396.317497</td>\n",
              "      <td>8396.317497</td>\n",
              "      <td>9021.920222</td>\n",
              "      <td>9171.440262</td>\n",
              "    </tr>\n",
              "    <tr>\n",
              "      <th>17</th>\n",
              "      <td>9272.928757</td>\n",
              "      <td>18</td>\n",
              "      <td>11804.744013</td>\n",
              "      <td>9267.712032</td>\n",
              "      <td>7915.860428</td>\n",
              "      <td>7915.860428</td>\n",
              "      <td>8806.204167</td>\n",
              "      <td>9039.566462</td>\n",
              "    </tr>\n",
              "    <tr>\n",
              "      <th>18</th>\n",
              "      <td>9341.980616</td>\n",
              "      <td>19</td>\n",
              "      <td>11053.772562</td>\n",
              "      <td>9336.619128</td>\n",
              "      <td>8694.153990</td>\n",
              "      <td>8694.153990</td>\n",
              "      <td>9024.395576</td>\n",
              "      <td>9183.188096</td>\n",
              "    </tr>\n",
              "    <tr>\n",
              "      <th>19</th>\n",
              "      <td>9284.148936</td>\n",
              "      <td>20</td>\n",
              "      <td>11226.521728</td>\n",
              "      <td>9278.599659</td>\n",
              "      <td>8658.174949</td>\n",
              "      <td>8658.174949</td>\n",
              "      <td>8811.559941</td>\n",
              "      <td>9047.854439</td>\n",
              "    </tr>\n",
              "    <tr>\n",
              "      <th>20</th>\n",
              "      <td>9316.057499</td>\n",
              "      <td>21</td>\n",
              "      <td>11236.000000</td>\n",
              "      <td>9310.954768</td>\n",
              "      <td>7906.421651</td>\n",
              "      <td>7906.421651</td>\n",
              "      <td>8806.194500</td>\n",
              "      <td>9061.126000</td>\n",
              "    </tr>\n",
              "  </tbody>\n",
              "</table>\n",
              "</div>"
            ],
            "text/plain": [
              "    lm_prediction  index          real  lasso_prediction  svr_prediction  \\\n",
              "0     9333.603618      1   9210.100000       9327.732483    10747.442865   \n",
              "1     9365.369742      2   9149.600000       9360.055012    11158.926178   \n",
              "2     9278.120538      3   9167.328612       9272.993942     8049.849608   \n",
              "3     9104.480770      4   9189.100000       9099.215872     5139.892306   \n",
              "4     9236.806446      5   9231.200000       9231.376318     7189.358841   \n",
              "5     9333.435375      6   9179.200000       9328.203801     8245.571811   \n",
              "6     9259.810312      7   9402.000000       9254.669413     8076.290785   \n",
              "7     9341.068832      8   9557.700000       9335.365426     9575.287305   \n",
              "8     9220.868092      9   9615.000000       9215.435484     6849.292054   \n",
              "9     9189.588845     10   9559.100000       9184.387563     6763.644911   \n",
              "10    9263.511435     11   9714.890204       9258.093409     7582.268378   \n",
              "11    9203.735670     12   9948.400000       9198.456041     6156.252615   \n",
              "12    9469.852489     13  11043.962880       9463.571611    10800.379092   \n",
              "13    9271.956760     14  10932.000000       9265.839831     8243.783073   \n",
              "14    9503.832320     15  11117.000000       9497.659551    10684.453672   \n",
              "15    9310.955463     16  11123.000000       9304.969568     9523.212995   \n",
              "16    9320.960301     17  11350.000000       9315.647071     8396.317497   \n",
              "17    9272.928757     18  11804.744013       9267.712032     7915.860428   \n",
              "18    9341.980616     19  11053.772562       9336.619128     8694.153990   \n",
              "19    9284.148936     20  11226.521728       9278.599659     8658.174949   \n",
              "20    9316.057499     21  11236.000000       9310.954768     7906.421651   \n",
              "\n",
              "        stuff up  random_forest      Average  \n",
              "0   10747.442865    9143.888356  9238.745987  \n",
              "1   11158.926178    8907.465975  9136.417859  \n",
              "2    8049.849608    8783.675973  9030.898256  \n",
              "3    5139.892306    8658.144971  8881.312870  \n",
              "4    7189.358841    8686.226125  8961.516285  \n",
              "5    8245.571811    8746.583132  9040.009253  \n",
              "6    8076.290785    8721.904008  8990.857160  \n",
              "7    9575.287305    8795.015375  9068.042104  \n",
              "8    6849.292054    8722.178922  8971.523507  \n",
              "9    6763.644911    8664.883283  8927.236064  \n",
              "10   7582.268378    8683.824454  8973.667944  \n",
              "11   6156.252615    8694.084637  8948.910154  \n",
              "12  10800.379092    9067.244963  9268.548726  \n",
              "13   8243.783073    8925.145083  9098.550922  \n",
              "14  10684.453672    8937.626080  9220.729200  \n",
              "15   9523.212995    8461.215275  8886.085369  \n",
              "16   8396.317497    9021.920222  9171.440262  \n",
              "17   7915.860428    8806.204167  9039.566462  \n",
              "18   8694.153990    9024.395576  9183.188096  \n",
              "19   8658.174949    8811.559941  9047.854439  \n",
              "20   7906.421651    8806.194500  9061.126000  "
            ]
          },
          "metadata": {
            "tags": []
          },
          "execution_count": 176
        }
      ]
    },
    {
      "cell_type": "code",
      "metadata": {
        "colab_type": "code",
        "id": "csNTmmV5iVgs",
        "colab": {}
      },
      "source": [
        "merge_july.columns = ['lm_prediction', 'index', 'real', 'lasso_prediction', 'svr_prediction', 'stuff up']"
      ],
      "execution_count": 164,
      "outputs": []
    },
    {
      "cell_type": "code",
      "metadata": {
        "colab_type": "code",
        "id": "7h_d5dLCiVgw",
        "colab": {
          "base_uri": "https://localhost:8080/",
          "height": 625
        },
        "outputId": "1a982ec2-7be3-4869-f106-7f1ae5be5c0b"
      },
      "source": [
        "# Plot the predicted vs actual in matplot lib\n",
        "import matplotlib.pyplot as plt\n",
        "plt.plot( 'index', 'real', data=merge_july, marker='o', markerfacecolor='blue', markersize=12, color='skyblue', linewidth=4)\n",
        "plt.plot( 'index', 'lm_prediction', data=merge_july, marker='', color='olive', linewidth=2)\n",
        "#plt.plot( 'index', 'lasso_prediction', data=merge_july, marker='', color='red', linewidth=2)\n",
        "plt.plot( 'index', 'svr_prediction', data=merge_july, marker='', color='green', linewidth=2)\n",
        "plt.plot( 'index', 'random_forest', data=merge_july, marker='', color='yellow', linewidth=2)\n",
        "plt.plot( 'index', 'Average', data=merge_july, marker='', color='green', linewidth=2)\n",
        "plt.xticks(rotation='vertical')\n",
        "plt.legend()"
      ],
      "execution_count": 182,
      "outputs": [
        {
          "output_type": "execute_result",
          "data": {
            "text/plain": [
              "<matplotlib.legend.Legend at 0x7f7da9452f28>"
            ]
          },
          "metadata": {
            "tags": []
          },
          "execution_count": 182
        },
        {
          "output_type": "display_data",
          "data": {
            "image/png": "[encoded data removed]",
            "text/plain": [
              "<Figure size 1440x720 with 1 Axes>"
            ]
          },
          "metadata": {
            "tags": []
          }
        }
      ]
    },
    {
      "cell_type": "markdown",
      "metadata": {
        "id": "YyhyZmz-Sig6",
        "colab_type": "text"
      },
      "source": [
        "# Vanilla Neural Network - May"
      ]
    },
    {
      "cell_type": "code",
      "metadata": {
        "id": "83W3vfytSvJJ",
        "colab_type": "code",
        "colab": {}
      },
      "source": [
        "%tensorflow_version 2.x"
      ],
      "execution_count": 206,
      "outputs": []
    },
    {
      "cell_type": "code",
      "metadata": {
        "id": "xyex6a_KUHZn",
        "colab_type": "code",
        "colab": {}
      },
      "source": [
        "import tensorflow as tf\n",
        "import numpy as np\n",
        "from sklearn.preprocessing import scale\n",
        "from sklearn.preprocessing import StandardScaler"
      ],
      "execution_count": 207,
      "outputs": []
    },
    {
      "cell_type": "code",
      "metadata": {
        "id": "A2IlYlasULCq",
        "colab_type": "code",
        "colab": {}
      },
      "source": [
        "# Standardise the two data sets as a neural network requires standardised data\n",
        "\n",
        "scaled_X_train = scale(x_train_may)\n",
        "scaled_X_test = scale(x_test_may)"
      ],
      "execution_count": 208,
      "outputs": []
    },
    {
      "cell_type": "code",
      "metadata": {
        "id": "OlsoKh4LV1ln",
        "colab_type": "code",
        "colab": {}
      },
      "source": [
        "# Set the seed for the modelling exercises in order to get reproducible results\n",
        "\n",
        "tf.random.set_seed(168)\n",
        "np.random.seed(168)"
      ],
      "execution_count": 209,
      "outputs": []
    },
    {
      "cell_type": "code",
      "metadata": {
        "id": "bQVMpBZ_V9Eg",
        "colab_type": "code",
        "colab": {}
      },
      "source": [
        "from tensorflow.keras.layers import Dense, Dropout"
      ],
      "execution_count": 210,
      "outputs": []
    },
    {
      "cell_type": "code",
      "metadata": {
        "id": "qIpGsA8gWBtG",
        "colab_type": "code",
        "colab": {}
      },
      "source": [
        "# Create a sequential model \n",
        "\n",
        "model = tf.keras.Sequential()"
      ],
      "execution_count": 211,
      "outputs": []
    },
    {
      "cell_type": "code",
      "metadata": {
        "id": "Lzg2jXmYWHpu",
        "colab_type": "code",
        "colab": {}
      },
      "source": [
        "# create the architecture for the neural network\n",
        "\n",
        "layer1 = Dense(128, activation='relu', input_shape=[9])\n",
        "\n",
        "layer2 = Dense(128, activation='relu')\n",
        "\n",
        "layer3 = Dense(128, activation='relu')\n",
        "\n",
        "top_layer = Dense(1)"
      ],
      "execution_count": 212,
      "outputs": []
    },
    {
      "cell_type": "code",
      "metadata": {
        "id": "TdqOcxhoZWcH",
        "colab_type": "code",
        "colab": {}
      },
      "source": [
        "# Add the layers into the model\n",
        "\n",
        "model.add(layer1)\n",
        "model.add(Dropout(0.5))\n",
        "model.add(layer2)\n",
        "model.add(Dropout(0.5))\n",
        "model.add(layer3)\n",
        "model.add(Dropout(0.5))\n",
        "model.add(top_layer)"
      ],
      "execution_count": 213,
      "outputs": []
    },
    {
      "cell_type": "code",
      "metadata": {
        "id": "eoMqb6jkax2o",
        "colab_type": "code",
        "colab": {}
      },
      "source": [
        "# Specify the optimizer to be used during the back propgation\n",
        "optimizer = tf.keras.optimizers.Adam(0.0001)"
      ],
      "execution_count": 214,
      "outputs": []
    },
    {
      "cell_type": "code",
      "metadata": {
        "id": "JCrwY2ueYb9b",
        "colab_type": "code",
        "colab": {}
      },
      "source": [
        "# Compile the model architecture\n",
        "\n",
        "model.compile(loss='mean_squared_error', optimizer=optimizer)"
      ],
      "execution_count": 215,
      "outputs": []
    },
    {
      "cell_type": "code",
      "metadata": {
        "id": "7KG6gQQFYs4F",
        "colab_type": "code",
        "colab": {
          "base_uri": "https://localhost:8080/",
          "height": 407
        },
        "outputId": "557f472b-1a39-492d-db69-c51995a679d1"
      },
      "source": [
        "# Print a summary of the model\n",
        "model.summary()"
      ],
      "execution_count": 216,
      "outputs": [
        {
          "output_type": "stream",
          "text": [
            "Model: \"sequential_1\"\n",
            "_________________________________________________________________\n",
            "Layer (type)                 Output Shape              Param #   \n",
            "=================================================================\n",
            "dense_4 (Dense)              (None, 128)               1280      \n",
            "_________________________________________________________________\n",
            "dropout_3 (Dropout)          (None, 128)               0         \n",
            "_________________________________________________________________\n",
            "dense_5 (Dense)              (None, 128)               16512     \n",
            "_________________________________________________________________\n",
            "dropout_4 (Dropout)          (None, 128)               0         \n",
            "_________________________________________________________________\n",
            "dense_6 (Dense)              (None, 128)               16512     \n",
            "_________________________________________________________________\n",
            "dropout_5 (Dropout)          (None, 128)               0         \n",
            "_________________________________________________________________\n",
            "dense_7 (Dense)              (None, 1)                 129       \n",
            "=================================================================\n",
            "Total params: 34,433\n",
            "Trainable params: 34,433\n",
            "Non-trainable params: 0\n",
            "_________________________________________________________________\n"
          ],
          "name": "stdout"
        }
      ]
    },
    {
      "cell_type": "code",
      "metadata": {
        "id": "qs65-lX4Zdst",
        "colab_type": "code",
        "colab": {
          "base_uri": "https://localhost:8080/",
          "height": 1000
        },
        "outputId": "1c7e731a-ceef-4b3e-e97d-99f0e51718a1"
      },
      "source": [
        "history = model.fit(scaled_X_train, y_train_may, epochs=250, validation_split = 0.3)"
      ],
      "execution_count": 217,
      "outputs": [
        {
          "output_type": "stream",
          "text": [
            "Epoch 1/250\n",
            "24/24 [==============================] - 0s 7ms/step - loss: 53870608.0000 - val_loss: 79041032.0000\n",
            "Epoch 2/250\n",
            "24/24 [==============================] - 0s 3ms/step - loss: 53867348.0000 - val_loss: 79038296.0000\n",
            "Epoch 3/250\n",
            "24/24 [==============================] - 0s 3ms/step - loss: 53862568.0000 - val_loss: 79034944.0000\n",
            "Epoch 4/250\n",
            "24/24 [==============================] - 0s 3ms/step - loss: 53857872.0000 - val_loss: 79030432.0000\n",
            "Epoch 5/250\n",
            "24/24 [==============================] - 0s 3ms/step - loss: 53851308.0000 - val_loss: 79024296.0000\n",
            "Epoch 6/250\n",
            "24/24 [==============================] - 0s 3ms/step - loss: 53842140.0000 - val_loss: 79015872.0000\n",
            "Epoch 7/250\n",
            "24/24 [==============================] - 0s 3ms/step - loss: 53830312.0000 - val_loss: 79004064.0000\n",
            "Epoch 8/250\n",
            "24/24 [==============================] - 0s 3ms/step - loss: 53812892.0000 - val_loss: 78987464.0000\n",
            "Epoch 9/250\n",
            "24/24 [==============================] - 0s 3ms/step - loss: 53786440.0000 - val_loss: 78964040.0000\n",
            "Epoch 10/250\n",
            "24/24 [==============================] - 0s 3ms/step - loss: 53756408.0000 - val_loss: 78930656.0000\n",
            "Epoch 11/250\n",
            "24/24 [==============================] - 0s 3ms/step - loss: 53699176.0000 - val_loss: 78883200.0000\n",
            "Epoch 12/250\n",
            "24/24 [==============================] - 0s 3ms/step - loss: 53620552.0000 - val_loss: 78818048.0000\n",
            "Epoch 13/250\n",
            "24/24 [==============================] - 0s 3ms/step - loss: 53527420.0000 - val_loss: 78728584.0000\n",
            "Epoch 14/250\n",
            "24/24 [==============================] - 0s 3ms/step - loss: 53381248.0000 - val_loss: 78614512.0000\n",
            "Epoch 15/250\n",
            "24/24 [==============================] - 0s 3ms/step - loss: 53192684.0000 - val_loss: 78463840.0000\n",
            "Epoch 16/250\n",
            "24/24 [==============================] - 0s 3ms/step - loss: 52948232.0000 - val_loss: 78276168.0000\n",
            "Epoch 17/250\n",
            "24/24 [==============================] - 0s 3ms/step - loss: 52614608.0000 - val_loss: 78043976.0000\n",
            "Epoch 18/250\n",
            "24/24 [==============================] - 0s 3ms/step - loss: 52201048.0000 - val_loss: 77763888.0000\n",
            "Epoch 19/250\n",
            "24/24 [==============================] - 0s 3ms/step - loss: 51723708.0000 - val_loss: 77427992.0000\n",
            "Epoch 20/250\n",
            "24/24 [==============================] - 0s 3ms/step - loss: 51197688.0000 - val_loss: 77045728.0000\n",
            "Epoch 21/250\n",
            "24/24 [==============================] - 0s 4ms/step - loss: 50444264.0000 - val_loss: 76595824.0000\n",
            "Epoch 22/250\n",
            "24/24 [==============================] - 0s 3ms/step - loss: 49626584.0000 - val_loss: 76086008.0000\n",
            "Epoch 23/250\n",
            "24/24 [==============================] - 0s 3ms/step - loss: 48635112.0000 - val_loss: 75496768.0000\n",
            "Epoch 24/250\n",
            "24/24 [==============================] - 0s 3ms/step - loss: 47668024.0000 - val_loss: 74840176.0000\n",
            "Epoch 25/250\n",
            "24/24 [==============================] - 0s 3ms/step - loss: 46438644.0000 - val_loss: 74123152.0000\n",
            "Epoch 26/250\n",
            "24/24 [==============================] - 0s 3ms/step - loss: 44902756.0000 - val_loss: 73295864.0000\n",
            "Epoch 27/250\n",
            "24/24 [==============================] - 0s 3ms/step - loss: 43878308.0000 - val_loss: 72436352.0000\n",
            "Epoch 28/250\n",
            "24/24 [==============================] - 0s 3ms/step - loss: 42056748.0000 - val_loss: 71491056.0000\n",
            "Epoch 29/250\n",
            "24/24 [==============================] - 0s 3ms/step - loss: 40694792.0000 - val_loss: 70477296.0000\n",
            "Epoch 30/250\n",
            "24/24 [==============================] - 0s 3ms/step - loss: 38817528.0000 - val_loss: 69404280.0000\n",
            "Epoch 31/250\n",
            "24/24 [==============================] - 0s 3ms/step - loss: 37160608.0000 - val_loss: 68254984.0000\n",
            "Epoch 32/250\n",
            "24/24 [==============================] - 0s 3ms/step - loss: 35584784.0000 - val_loss: 67042720.0000\n",
            "Epoch 33/250\n",
            "24/24 [==============================] - 0s 3ms/step - loss: 33418402.0000 - val_loss: 65800532.0000\n",
            "Epoch 34/250\n",
            "24/24 [==============================] - 0s 3ms/step - loss: 31821900.0000 - val_loss: 64510068.0000\n",
            "Epoch 35/250\n",
            "24/24 [==============================] - 0s 3ms/step - loss: 30049364.0000 - val_loss: 63201772.0000\n",
            "Epoch 36/250\n",
            "24/24 [==============================] - 0s 3ms/step - loss: 28335428.0000 - val_loss: 61859108.0000\n",
            "Epoch 37/250\n",
            "24/24 [==============================] - 0s 3ms/step - loss: 27225046.0000 - val_loss: 60483424.0000\n",
            "Epoch 38/250\n",
            "24/24 [==============================] - 0s 3ms/step - loss: 25680982.0000 - val_loss: 59119228.0000\n",
            "Epoch 39/250\n",
            "24/24 [==============================] - 0s 3ms/step - loss: 24541666.0000 - val_loss: 57801584.0000\n",
            "Epoch 40/250\n",
            "24/24 [==============================] - 0s 3ms/step - loss: 23390790.0000 - val_loss: 56503484.0000\n",
            "Epoch 41/250\n",
            "24/24 [==============================] - 0s 3ms/step - loss: 22841184.0000 - val_loss: 55193892.0000\n",
            "Epoch 42/250\n",
            "24/24 [==============================] - 0s 3ms/step - loss: 21525728.0000 - val_loss: 53932684.0000\n",
            "Epoch 43/250\n",
            "24/24 [==============================] - 0s 3ms/step - loss: 21657456.0000 - val_loss: 52757096.0000\n",
            "Epoch 44/250\n",
            "24/24 [==============================] - 0s 3ms/step - loss: 20944702.0000 - val_loss: 51634984.0000\n",
            "Epoch 45/250\n",
            "24/24 [==============================] - 0s 3ms/step - loss: 20465520.0000 - val_loss: 50597856.0000\n",
            "Epoch 46/250\n",
            "24/24 [==============================] - 0s 3ms/step - loss: 20054626.0000 - val_loss: 49564916.0000\n",
            "Epoch 47/250\n",
            "24/24 [==============================] - 0s 3ms/step - loss: 19254466.0000 - val_loss: 48598536.0000\n",
            "Epoch 48/250\n",
            "24/24 [==============================] - 0s 3ms/step - loss: 19508446.0000 - val_loss: 47741064.0000\n",
            "Epoch 49/250\n",
            "24/24 [==============================] - 0s 3ms/step - loss: 19093758.0000 - val_loss: 46839028.0000\n",
            "Epoch 50/250\n",
            "24/24 [==============================] - 0s 3ms/step - loss: 18754500.0000 - val_loss: 45956076.0000\n",
            "Epoch 51/250\n",
            "24/24 [==============================] - 0s 3ms/step - loss: 18571270.0000 - val_loss: 45102844.0000\n",
            "Epoch 52/250\n",
            "24/24 [==============================] - 0s 3ms/step - loss: 18103752.0000 - val_loss: 44293632.0000\n",
            "Epoch 53/250\n",
            "24/24 [==============================] - 0s 3ms/step - loss: 17746470.0000 - val_loss: 43438408.0000\n",
            "Epoch 54/250\n",
            "24/24 [==============================] - 0s 3ms/step - loss: 18756542.0000 - val_loss: 42772620.0000\n",
            "Epoch 55/250\n",
            "24/24 [==============================] - 0s 3ms/step - loss: 17527100.0000 - val_loss: 42128456.0000\n",
            "Epoch 56/250\n",
            "24/24 [==============================] - 0s 3ms/step - loss: 17781852.0000 - val_loss: 41490428.0000\n",
            "Epoch 57/250\n",
            "24/24 [==============================] - 0s 3ms/step - loss: 17796308.0000 - val_loss: 40865140.0000\n",
            "Epoch 58/250\n",
            "24/24 [==============================] - 0s 3ms/step - loss: 17104262.0000 - val_loss: 40216108.0000\n",
            "Epoch 59/250\n",
            "24/24 [==============================] - 0s 3ms/step - loss: 17295364.0000 - val_loss: 39551236.0000\n",
            "Epoch 60/250\n",
            "24/24 [==============================] - 0s 3ms/step - loss: 17791896.0000 - val_loss: 39038680.0000\n",
            "Epoch 61/250\n",
            "24/24 [==============================] - 0s 3ms/step - loss: 16937546.0000 - val_loss: 38460676.0000\n",
            "Epoch 62/250\n",
            "24/24 [==============================] - 0s 3ms/step - loss: 16607203.0000 - val_loss: 37783708.0000\n",
            "Epoch 63/250\n",
            "24/24 [==============================] - 0s 3ms/step - loss: 16118005.0000 - val_loss: 37135904.0000\n",
            "Epoch 64/250\n",
            "24/24 [==============================] - 0s 3ms/step - loss: 17030220.0000 - val_loss: 36534848.0000\n",
            "Epoch 65/250\n",
            "24/24 [==============================] - 0s 3ms/step - loss: 16113675.0000 - val_loss: 35930056.0000\n",
            "Epoch 66/250\n",
            "24/24 [==============================] - 0s 3ms/step - loss: 15954463.0000 - val_loss: 35250324.0000\n",
            "Epoch 67/250\n",
            "24/24 [==============================] - 0s 3ms/step - loss: 15898614.0000 - val_loss: 34728692.0000\n",
            "Epoch 68/250\n",
            "24/24 [==============================] - 0s 3ms/step - loss: 15986238.0000 - val_loss: 34124512.0000\n",
            "Epoch 69/250\n",
            "24/24 [==============================] - 0s 3ms/step - loss: 15464229.0000 - val_loss: 33632464.0000\n",
            "Epoch 70/250\n",
            "24/24 [==============================] - 0s 3ms/step - loss: 15751193.0000 - val_loss: 33101052.0000\n",
            "Epoch 71/250\n",
            "24/24 [==============================] - 0s 3ms/step - loss: 15463650.0000 - val_loss: 32533562.0000\n",
            "Epoch 72/250\n",
            "24/24 [==============================] - 0s 3ms/step - loss: 15620557.0000 - val_loss: 32054170.0000\n",
            "Epoch 73/250\n",
            "24/24 [==============================] - 0s 3ms/step - loss: 15116384.0000 - val_loss: 31474006.0000\n",
            "Epoch 74/250\n",
            "24/24 [==============================] - 0s 3ms/step - loss: 14685205.0000 - val_loss: 30883884.0000\n",
            "Epoch 75/250\n",
            "24/24 [==============================] - 0s 3ms/step - loss: 14445210.0000 - val_loss: 30359628.0000\n",
            "Epoch 76/250\n",
            "24/24 [==============================] - 0s 3ms/step - loss: 14872428.0000 - val_loss: 29971762.0000\n",
            "Epoch 77/250\n",
            "24/24 [==============================] - 0s 3ms/step - loss: 14410636.0000 - val_loss: 29334512.0000\n",
            "Epoch 78/250\n",
            "24/24 [==============================] - 0s 3ms/step - loss: 14107252.0000 - val_loss: 28829954.0000\n",
            "Epoch 79/250\n",
            "24/24 [==============================] - 0s 3ms/step - loss: 14653853.0000 - val_loss: 28411184.0000\n",
            "Epoch 80/250\n",
            "24/24 [==============================] - 0s 3ms/step - loss: 14188642.0000 - val_loss: 28020156.0000\n",
            "Epoch 81/250\n",
            "24/24 [==============================] - 0s 3ms/step - loss: 14807853.0000 - val_loss: 27562992.0000\n",
            "Epoch 82/250\n",
            "24/24 [==============================] - 0s 3ms/step - loss: 13959995.0000 - val_loss: 26997770.0000\n",
            "Epoch 83/250\n",
            "24/24 [==============================] - 0s 3ms/step - loss: 13997696.0000 - val_loss: 26471918.0000\n",
            "Epoch 84/250\n",
            "24/24 [==============================] - 0s 3ms/step - loss: 13541505.0000 - val_loss: 26064356.0000\n",
            "Epoch 85/250\n",
            "24/24 [==============================] - 0s 3ms/step - loss: 13889306.0000 - val_loss: 25576366.0000\n",
            "Epoch 86/250\n",
            "24/24 [==============================] - 0s 3ms/step - loss: 13391697.0000 - val_loss: 25016568.0000\n",
            "Epoch 87/250\n",
            "24/24 [==============================] - 0s 3ms/step - loss: 13035658.0000 - val_loss: 24516408.0000\n",
            "Epoch 88/250\n",
            "24/24 [==============================] - 0s 3ms/step - loss: 13462425.0000 - val_loss: 23955072.0000\n",
            "Epoch 89/250\n",
            "24/24 [==============================] - 0s 3ms/step - loss: 13645402.0000 - val_loss: 23592022.0000\n",
            "Epoch 90/250\n",
            "24/24 [==============================] - 0s 3ms/step - loss: 13657427.0000 - val_loss: 23144784.0000\n",
            "Epoch 91/250\n",
            "24/24 [==============================] - 0s 3ms/step - loss: 12846116.0000 - val_loss: 22645798.0000\n",
            "Epoch 92/250\n",
            "24/24 [==============================] - 0s 3ms/step - loss: 12810206.0000 - val_loss: 22206038.0000\n",
            "Epoch 93/250\n",
            "24/24 [==============================] - 0s 3ms/step - loss: 13277996.0000 - val_loss: 21729606.0000\n",
            "Epoch 94/250\n",
            "24/24 [==============================] - 0s 3ms/step - loss: 13106147.0000 - val_loss: 21390142.0000\n",
            "Epoch 95/250\n",
            "24/24 [==============================] - 0s 3ms/step - loss: 12201058.0000 - val_loss: 21023210.0000\n",
            "Epoch 96/250\n",
            "24/24 [==============================] - 0s 3ms/step - loss: 12589822.0000 - val_loss: 20471786.0000\n",
            "Epoch 97/250\n",
            "24/24 [==============================] - 0s 3ms/step - loss: 11554845.0000 - val_loss: 20044424.0000\n",
            "Epoch 98/250\n",
            "24/24 [==============================] - 0s 3ms/step - loss: 12299846.0000 - val_loss: 19468464.0000\n",
            "Epoch 99/250\n",
            "24/24 [==============================] - 0s 3ms/step - loss: 12165843.0000 - val_loss: 18990942.0000\n",
            "Epoch 100/250\n",
            "24/24 [==============================] - 0s 3ms/step - loss: 11777862.0000 - val_loss: 18602998.0000\n",
            "Epoch 101/250\n",
            "24/24 [==============================] - 0s 3ms/step - loss: 12103385.0000 - val_loss: 18311310.0000\n",
            "Epoch 102/250\n",
            "24/24 [==============================] - 0s 3ms/step - loss: 11641224.0000 - val_loss: 17756794.0000\n",
            "Epoch 103/250\n",
            "24/24 [==============================] - 0s 3ms/step - loss: 11168964.0000 - val_loss: 17295080.0000\n",
            "Epoch 104/250\n",
            "24/24 [==============================] - 0s 3ms/step - loss: 10912843.0000 - val_loss: 16829838.0000\n",
            "Epoch 105/250\n",
            "24/24 [==============================] - 0s 3ms/step - loss: 11861518.0000 - val_loss: 16425164.0000\n",
            "Epoch 106/250\n",
            "24/24 [==============================] - 0s 3ms/step - loss: 11278407.0000 - val_loss: 16031253.0000\n",
            "Epoch 107/250\n",
            "24/24 [==============================] - 0s 3ms/step - loss: 11373664.0000 - val_loss: 15562364.0000\n",
            "Epoch 108/250\n",
            "24/24 [==============================] - 0s 3ms/step - loss: 10218874.0000 - val_loss: 15118926.0000\n",
            "Epoch 109/250\n",
            "24/24 [==============================] - 0s 3ms/step - loss: 11345822.0000 - val_loss: 14738166.0000\n",
            "Epoch 110/250\n",
            "24/24 [==============================] - 0s 3ms/step - loss: 10550505.0000 - val_loss: 14291706.0000\n",
            "Epoch 111/250\n",
            "24/24 [==============================] - 0s 3ms/step - loss: 10368963.0000 - val_loss: 13936519.0000\n",
            "Epoch 112/250\n",
            "24/24 [==============================] - 0s 3ms/step - loss: 10140622.0000 - val_loss: 13514770.0000\n",
            "Epoch 113/250\n",
            "24/24 [==============================] - 0s 3ms/step - loss: 10427058.0000 - val_loss: 13094898.0000\n",
            "Epoch 114/250\n",
            "24/24 [==============================] - 0s 3ms/step - loss: 10631347.0000 - val_loss: 12746043.0000\n",
            "Epoch 115/250\n",
            "24/24 [==============================] - 0s 3ms/step - loss: 10523851.0000 - val_loss: 12426807.0000\n",
            "Epoch 116/250\n",
            "24/24 [==============================] - 0s 3ms/step - loss: 10495938.0000 - val_loss: 12083548.0000\n",
            "Epoch 117/250\n",
            "24/24 [==============================] - 0s 3ms/step - loss: 10066417.0000 - val_loss: 11710087.0000\n",
            "Epoch 118/250\n",
            "24/24 [==============================] - 0s 3ms/step - loss: 10169501.0000 - val_loss: 11356823.0000\n",
            "Epoch 119/250\n",
            "24/24 [==============================] - 0s 3ms/step - loss: 9781037.0000 - val_loss: 10975026.0000\n",
            "Epoch 120/250\n",
            "24/24 [==============================] - 0s 3ms/step - loss: 9661253.0000 - val_loss: 10627590.0000\n",
            "Epoch 121/250\n",
            "24/24 [==============================] - 0s 3ms/step - loss: 10170153.0000 - val_loss: 10405621.0000\n",
            "Epoch 122/250\n",
            "24/24 [==============================] - 0s 3ms/step - loss: 9178932.0000 - val_loss: 10130328.0000\n",
            "Epoch 123/250\n",
            "24/24 [==============================] - 0s 3ms/step - loss: 9410701.0000 - val_loss: 9746870.0000\n",
            "Epoch 124/250\n",
            "24/24 [==============================] - 0s 3ms/step - loss: 9272799.0000 - val_loss: 9378803.0000\n",
            "Epoch 125/250\n",
            "24/24 [==============================] - 0s 3ms/step - loss: 9319928.0000 - val_loss: 9061488.0000\n",
            "Epoch 126/250\n",
            "24/24 [==============================] - 0s 3ms/step - loss: 9480157.0000 - val_loss: 8715475.0000\n",
            "Epoch 127/250\n",
            "24/24 [==============================] - 0s 3ms/step - loss: 8692705.0000 - val_loss: 8384311.0000\n",
            "Epoch 128/250\n",
            "24/24 [==============================] - 0s 3ms/step - loss: 8387545.5000 - val_loss: 8066785.0000\n",
            "Epoch 129/250\n",
            "24/24 [==============================] - 0s 3ms/step - loss: 8923125.0000 - val_loss: 7831803.0000\n",
            "Epoch 130/250\n",
            "24/24 [==============================] - 0s 3ms/step - loss: 8630979.0000 - val_loss: 7531212.0000\n",
            "Epoch 131/250\n",
            "24/24 [==============================] - 0s 3ms/step - loss: 8163037.5000 - val_loss: 7270287.5000\n",
            "Epoch 132/250\n",
            "24/24 [==============================] - 0s 3ms/step - loss: 8335814.0000 - val_loss: 6984128.0000\n",
            "Epoch 133/250\n",
            "24/24 [==============================] - 0s 3ms/step - loss: 8576098.0000 - val_loss: 6710020.0000\n",
            "Epoch 134/250\n",
            "24/24 [==============================] - 0s 3ms/step - loss: 8935577.0000 - val_loss: 6502600.5000\n",
            "Epoch 135/250\n",
            "24/24 [==============================] - 0s 3ms/step - loss: 8095220.5000 - val_loss: 6224174.5000\n",
            "Epoch 136/250\n",
            "24/24 [==============================] - 0s 3ms/step - loss: 8226616.5000 - val_loss: 5994343.5000\n",
            "Epoch 137/250\n",
            "24/24 [==============================] - 0s 3ms/step - loss: 8224034.0000 - val_loss: 5750531.5000\n",
            "Epoch 138/250\n",
            "24/24 [==============================] - 0s 3ms/step - loss: 8060596.5000 - val_loss: 5549649.5000\n",
            "Epoch 139/250\n",
            "24/24 [==============================] - 0s 3ms/step - loss: 8260909.5000 - val_loss: 5421642.5000\n",
            "Epoch 140/250\n",
            "24/24 [==============================] - 0s 3ms/step - loss: 7784513.0000 - val_loss: 5172744.0000\n",
            "Epoch 141/250\n",
            "24/24 [==============================] - 0s 3ms/step - loss: 7735250.0000 - val_loss: 5030741.5000\n",
            "Epoch 142/250\n",
            "24/24 [==============================] - 0s 3ms/step - loss: 7747368.0000 - val_loss: 4873447.5000\n",
            "Epoch 143/250\n",
            "24/24 [==============================] - 0s 3ms/step - loss: 7656986.0000 - val_loss: 4699839.5000\n",
            "Epoch 144/250\n",
            "24/24 [==============================] - 0s 3ms/step - loss: 7686586.5000 - val_loss: 4548111.0000\n",
            "Epoch 145/250\n",
            "24/24 [==============================] - 0s 3ms/step - loss: 7712240.5000 - val_loss: 4385909.5000\n",
            "Epoch 146/250\n",
            "24/24 [==============================] - 0s 3ms/step - loss: 7331359.5000 - val_loss: 4219813.0000\n",
            "Epoch 147/250\n",
            "24/24 [==============================] - 0s 3ms/step - loss: 7128947.0000 - val_loss: 4046878.2500\n",
            "Epoch 148/250\n",
            "24/24 [==============================] - 0s 3ms/step - loss: 7284404.0000 - val_loss: 3926270.0000\n",
            "Epoch 149/250\n",
            "24/24 [==============================] - 0s 3ms/step - loss: 7128349.0000 - val_loss: 3780802.5000\n",
            "Epoch 150/250\n",
            "24/24 [==============================] - 0s 3ms/step - loss: 7287411.5000 - val_loss: 3651320.7500\n",
            "Epoch 151/250\n",
            "24/24 [==============================] - 0s 3ms/step - loss: 7139537.0000 - val_loss: 3537837.7500\n",
            "Epoch 152/250\n",
            "24/24 [==============================] - 0s 3ms/step - loss: 6896816.5000 - val_loss: 3427157.7500\n",
            "Epoch 153/250\n",
            "24/24 [==============================] - 0s 3ms/step - loss: 6657386.5000 - val_loss: 3319974.7500\n",
            "Epoch 154/250\n",
            "24/24 [==============================] - 0s 3ms/step - loss: 6832542.0000 - val_loss: 3233920.5000\n",
            "Epoch 155/250\n",
            "24/24 [==============================] - 0s 3ms/step - loss: 6903011.5000 - val_loss: 3144839.2500\n",
            "Epoch 156/250\n",
            "24/24 [==============================] - 0s 3ms/step - loss: 6213930.0000 - val_loss: 3078329.5000\n",
            "Epoch 157/250\n",
            "24/24 [==============================] - 0s 3ms/step - loss: 6974662.0000 - val_loss: 3013316.5000\n",
            "Epoch 158/250\n",
            "24/24 [==============================] - 0s 3ms/step - loss: 6061216.0000 - val_loss: 2930832.5000\n",
            "Epoch 159/250\n",
            "24/24 [==============================] - 0s 3ms/step - loss: 6410461.5000 - val_loss: 2878505.0000\n",
            "Epoch 160/250\n",
            "24/24 [==============================] - 0s 3ms/step - loss: 6846806.5000 - val_loss: 2835609.2500\n",
            "Epoch 161/250\n",
            "24/24 [==============================] - 0s 3ms/step - loss: 5644881.5000 - val_loss: 2800144.2500\n",
            "Epoch 162/250\n",
            "24/24 [==============================] - 0s 3ms/step - loss: 6139245.5000 - val_loss: 2759552.5000\n",
            "Epoch 163/250\n",
            "24/24 [==============================] - 0s 3ms/step - loss: 6478591.5000 - val_loss: 2732112.5000\n",
            "Epoch 164/250\n",
            "24/24 [==============================] - 0s 3ms/step - loss: 6715361.0000 - val_loss: 2713692.5000\n",
            "Epoch 165/250\n",
            "24/24 [==============================] - 0s 3ms/step - loss: 5589340.5000 - val_loss: 2686303.0000\n",
            "Epoch 166/250\n",
            "24/24 [==============================] - 0s 3ms/step - loss: 6291420.5000 - val_loss: 2671469.7500\n",
            "Epoch 167/250\n",
            "24/24 [==============================] - 0s 3ms/step - loss: 5887186.5000 - val_loss: 2664507.0000\n",
            "Epoch 168/250\n",
            "24/24 [==============================] - 0s 3ms/step - loss: 6218389.0000 - val_loss: 2657359.5000\n",
            "Epoch 169/250\n",
            "24/24 [==============================] - 0s 3ms/step - loss: 6301187.5000 - val_loss: 2655723.7500\n",
            "Epoch 170/250\n",
            "24/24 [==============================] - 0s 3ms/step - loss: 6228067.0000 - val_loss: 2658586.5000\n",
            "Epoch 171/250\n",
            "24/24 [==============================] - 0s 3ms/step - loss: 5491455.0000 - val_loss: 2666090.5000\n",
            "Epoch 172/250\n",
            "24/24 [==============================] - 0s 3ms/step - loss: 5961203.5000 - val_loss: 2682797.7500\n",
            "Epoch 173/250\n",
            "24/24 [==============================] - 0s 3ms/step - loss: 5593591.0000 - val_loss: 2701257.5000\n",
            "Epoch 174/250\n",
            "24/24 [==============================] - 0s 3ms/step - loss: 5948228.5000 - val_loss: 2717876.5000\n",
            "Epoch 175/250\n",
            "24/24 [==============================] - 0s 3ms/step - loss: 5257036.0000 - val_loss: 2735000.0000\n",
            "Epoch 176/250\n",
            "24/24 [==============================] - 0s 3ms/step - loss: 6280475.0000 - val_loss: 2752610.0000\n",
            "Epoch 177/250\n",
            "24/24 [==============================] - 0s 3ms/step - loss: 5679622.0000 - val_loss: 2792448.2500\n",
            "Epoch 178/250\n",
            "24/24 [==============================] - 0s 3ms/step - loss: 6503564.0000 - val_loss: 2830851.0000\n",
            "Epoch 179/250\n",
            "24/24 [==============================] - 0s 3ms/step - loss: 5946778.0000 - val_loss: 2889215.7500\n",
            "Epoch 180/250\n",
            "24/24 [==============================] - 0s 3ms/step - loss: 5411163.5000 - val_loss: 2930460.7500\n",
            "Epoch 181/250\n",
            "24/24 [==============================] - 0s 3ms/step - loss: 5526815.0000 - val_loss: 2969860.5000\n",
            "Epoch 182/250\n",
            "24/24 [==============================] - 0s 3ms/step - loss: 5740716.5000 - val_loss: 3030753.0000\n",
            "Epoch 183/250\n",
            "24/24 [==============================] - 0s 3ms/step - loss: 5640629.5000 - val_loss: 3078215.2500\n",
            "Epoch 184/250\n",
            "24/24 [==============================] - 0s 3ms/step - loss: 5463933.0000 - val_loss: 3132018.0000\n",
            "Epoch 185/250\n",
            "24/24 [==============================] - 0s 3ms/step - loss: 5755612.0000 - val_loss: 3194376.7500\n",
            "Epoch 186/250\n",
            "24/24 [==============================] - 0s 3ms/step - loss: 5697560.0000 - val_loss: 3242305.5000\n",
            "Epoch 187/250\n",
            "24/24 [==============================] - 0s 3ms/step - loss: 5574583.0000 - val_loss: 3335176.7500\n",
            "Epoch 188/250\n",
            "24/24 [==============================] - 0s 3ms/step - loss: 5259417.5000 - val_loss: 3400969.2500\n",
            "Epoch 189/250\n",
            "24/24 [==============================] - 0s 3ms/step - loss: 5480954.0000 - val_loss: 3431518.5000\n",
            "Epoch 190/250\n",
            "24/24 [==============================] - 0s 3ms/step - loss: 5076317.5000 - val_loss: 3444494.2500\n",
            "Epoch 191/250\n",
            "24/24 [==============================] - 0s 3ms/step - loss: 5236396.0000 - val_loss: 3491178.5000\n",
            "Epoch 192/250\n",
            "24/24 [==============================] - 0s 3ms/step - loss: 5628420.5000 - val_loss: 3600276.2500\n",
            "Epoch 193/250\n",
            "24/24 [==============================] - 0s 3ms/step - loss: 5592613.5000 - val_loss: 3700871.2500\n",
            "Epoch 194/250\n",
            "24/24 [==============================] - 0s 3ms/step - loss: 5580697.5000 - val_loss: 3716777.7500\n",
            "Epoch 195/250\n",
            "24/24 [==============================] - 0s 3ms/step - loss: 5153426.5000 - val_loss: 3776386.7500\n",
            "Epoch 196/250\n",
            "24/24 [==============================] - 0s 3ms/step - loss: 4793059.0000 - val_loss: 3841585.0000\n",
            "Epoch 197/250\n",
            "24/24 [==============================] - 0s 3ms/step - loss: 5443604.0000 - val_loss: 3905053.0000\n",
            "Epoch 198/250\n",
            "24/24 [==============================] - 0s 3ms/step - loss: 5264064.5000 - val_loss: 3952887.2500\n",
            "Epoch 199/250\n",
            "24/24 [==============================] - 0s 3ms/step - loss: 5478855.5000 - val_loss: 4005332.2500\n",
            "Epoch 200/250\n",
            "24/24 [==============================] - 0s 3ms/step - loss: 4884613.5000 - val_loss: 4067037.2500\n",
            "Epoch 201/250\n",
            "24/24 [==============================] - 0s 3ms/step - loss: 5305110.0000 - val_loss: 4068330.5000\n",
            "Epoch 202/250\n",
            "24/24 [==============================] - 0s 3ms/step - loss: 4875612.5000 - val_loss: 4148092.5000\n",
            "Epoch 203/250\n",
            "24/24 [==============================] - 0s 3ms/step - loss: 5258271.0000 - val_loss: 4251217.5000\n",
            "Epoch 204/250\n",
            "24/24 [==============================] - 0s 3ms/step - loss: 5304580.0000 - val_loss: 4286275.0000\n",
            "Epoch 205/250\n",
            "24/24 [==============================] - 0s 3ms/step - loss: 5046845.0000 - val_loss: 4315613.5000\n",
            "Epoch 206/250\n",
            "24/24 [==============================] - 0s 3ms/step - loss: 4845028.0000 - val_loss: 4408542.5000\n",
            "Epoch 207/250\n",
            "24/24 [==============================] - 0s 3ms/step - loss: 4903438.5000 - val_loss: 4490485.0000\n",
            "Epoch 208/250\n",
            "24/24 [==============================] - 0s 3ms/step - loss: 5231028.5000 - val_loss: 4564065.5000\n",
            "Epoch 209/250\n",
            "24/24 [==============================] - 0s 3ms/step - loss: 4723113.0000 - val_loss: 4684972.5000\n",
            "Epoch 210/250\n",
            "24/24 [==============================] - 0s 3ms/step - loss: 5056441.0000 - val_loss: 4720106.0000\n",
            "Epoch 211/250\n",
            "24/24 [==============================] - 0s 3ms/step - loss: 4229757.0000 - val_loss: 4862016.0000\n",
            "Epoch 212/250\n",
            "24/24 [==============================] - 0s 3ms/step - loss: 5342227.0000 - val_loss: 4927970.0000\n",
            "Epoch 213/250\n",
            "24/24 [==============================] - 0s 3ms/step - loss: 4585439.5000 - val_loss: 4963714.5000\n",
            "Epoch 214/250\n",
            "24/24 [==============================] - 0s 3ms/step - loss: 5217067.0000 - val_loss: 4945830.5000\n",
            "Epoch 215/250\n",
            "24/24 [==============================] - 0s 3ms/step - loss: 5308842.5000 - val_loss: 5012046.0000\n",
            "Epoch 216/250\n",
            "24/24 [==============================] - 0s 3ms/step - loss: 4998967.5000 - val_loss: 5014802.5000\n",
            "Epoch 217/250\n",
            "24/24 [==============================] - 0s 3ms/step - loss: 4614172.0000 - val_loss: 5098674.0000\n",
            "Epoch 218/250\n",
            "24/24 [==============================] - 0s 3ms/step - loss: 4889211.0000 - val_loss: 5224023.5000\n",
            "Epoch 219/250\n",
            "24/24 [==============================] - 0s 3ms/step - loss: 4535015.0000 - val_loss: 5232336.0000\n",
            "Epoch 220/250\n",
            "24/24 [==============================] - 0s 3ms/step - loss: 4634493.0000 - val_loss: 5382286.5000\n",
            "Epoch 221/250\n",
            "24/24 [==============================] - 0s 3ms/step - loss: 5168613.5000 - val_loss: 5443469.5000\n",
            "Epoch 222/250\n",
            "24/24 [==============================] - 0s 3ms/step - loss: 4614535.0000 - val_loss: 5478930.5000\n",
            "Epoch 223/250\n",
            "24/24 [==============================] - 0s 3ms/step - loss: 5099185.0000 - val_loss: 5577075.5000\n",
            "Epoch 224/250\n",
            "24/24 [==============================] - 0s 3ms/step - loss: 4977040.0000 - val_loss: 5618139.0000\n",
            "Epoch 225/250\n",
            "24/24 [==============================] - 0s 3ms/step - loss: 4635747.0000 - val_loss: 5663717.0000\n",
            "Epoch 226/250\n",
            "24/24 [==============================] - 0s 3ms/step - loss: 4380837.5000 - val_loss: 5771410.5000\n",
            "Epoch 227/250\n",
            "24/24 [==============================] - 0s 4ms/step - loss: 4635315.0000 - val_loss: 5897225.0000\n",
            "Epoch 228/250\n",
            "24/24 [==============================] - 0s 3ms/step - loss: 4718122.5000 - val_loss: 6074965.5000\n",
            "Epoch 229/250\n",
            "24/24 [==============================] - 0s 3ms/step - loss: 5342447.5000 - val_loss: 5878505.5000\n",
            "Epoch 230/250\n",
            "24/24 [==============================] - 0s 3ms/step - loss: 4824116.0000 - val_loss: 5949034.0000\n",
            "Epoch 231/250\n",
            "24/24 [==============================] - 0s 3ms/step - loss: 4726078.0000 - val_loss: 6059147.5000\n",
            "Epoch 232/250\n",
            "24/24 [==============================] - 0s 3ms/step - loss: 5217443.5000 - val_loss: 6008618.5000\n",
            "Epoch 233/250\n",
            "24/24 [==============================] - 0s 3ms/step - loss: 4761246.0000 - val_loss: 5989840.0000\n",
            "Epoch 234/250\n",
            "24/24 [==============================] - 0s 3ms/step - loss: 4767195.5000 - val_loss: 5993792.0000\n",
            "Epoch 235/250\n",
            "24/24 [==============================] - 0s 3ms/step - loss: 4349053.0000 - val_loss: 6020575.5000\n",
            "Epoch 236/250\n",
            "24/24 [==============================] - 0s 3ms/step - loss: 5178205.5000 - val_loss: 6029057.0000\n",
            "Epoch 237/250\n",
            "24/24 [==============================] - 0s 3ms/step - loss: 4885710.0000 - val_loss: 6015126.5000\n",
            "Epoch 238/250\n",
            "24/24 [==============================] - 0s 3ms/step - loss: 4797606.0000 - val_loss: 6114975.5000\n",
            "Epoch 239/250\n",
            "24/24 [==============================] - 0s 3ms/step - loss: 4579417.5000 - val_loss: 6102414.5000\n",
            "Epoch 240/250\n",
            "24/24 [==============================] - 0s 3ms/step - loss: 4497224.5000 - val_loss: 6179963.0000\n",
            "Epoch 241/250\n",
            "24/24 [==============================] - 0s 3ms/step - loss: 4821781.0000 - val_loss: 6239423.5000\n",
            "Epoch 242/250\n",
            "24/24 [==============================] - 0s 3ms/step - loss: 4637631.5000 - val_loss: 6293073.0000\n",
            "Epoch 243/250\n",
            "24/24 [==============================] - 0s 3ms/step - loss: 4880025.0000 - val_loss: 6323894.0000\n",
            "Epoch 244/250\n",
            "24/24 [==============================] - 0s 3ms/step - loss: 5240274.0000 - val_loss: 6299435.5000\n",
            "Epoch 245/250\n",
            "24/24 [==============================] - 0s 3ms/step - loss: 4699694.0000 - val_loss: 6326860.0000\n",
            "Epoch 246/250\n",
            "24/24 [==============================] - 0s 3ms/step - loss: 5002278.5000 - val_loss: 6276389.5000\n",
            "Epoch 247/250\n",
            "24/24 [==============================] - 0s 3ms/step - loss: 4590299.5000 - val_loss: 6324578.0000\n",
            "Epoch 248/250\n",
            "24/24 [==============================] - 0s 3ms/step - loss: 4521644.5000 - val_loss: 6301456.5000\n",
            "Epoch 249/250\n",
            "24/24 [==============================] - 0s 3ms/step - loss: 4315684.5000 - val_loss: 6400942.5000\n",
            "Epoch 250/250\n",
            "24/24 [==============================] - 0s 3ms/step - loss: 4439761.0000 - val_loss: 6387171.5000\n"
          ],
          "name": "stdout"
        }
      ]
    },
    {
      "cell_type": "code",
      "metadata": {
        "id": "llkzOyvycoIf",
        "colab_type": "code",
        "colab": {}
      },
      "source": [
        "# Make a prediction\n",
        "preds = model.predict(scaled_X_test)"
      ],
      "execution_count": 218,
      "outputs": []
    },
    {
      "cell_type": "code",
      "metadata": {
        "id": "9pDBLRx2czRT",
        "colab_type": "code",
        "colab": {}
      },
      "source": [
        "preds = pd.DataFrame(preds)\n",
        "\n",
        "preds['index'] = range(1,22)\n",
        "\n",
        "preds.columns = ['NN', 'index']"
      ],
      "execution_count": 227,
      "outputs": []
    },
    {
      "cell_type": "code",
      "metadata": {
        "id": "ul390EMqc7FD",
        "colab_type": "code",
        "colab": {}
      },
      "source": [
        "y_test_may = pd.DataFrame(y_test_may)\n",
        "\n",
        "y_test_may['index'] = range(1,22)\n",
        "\n",
        "y_test_may.columns = ['real', 'index']"
      ],
      "execution_count": 226,
      "outputs": []
    },
    {
      "cell_type": "code",
      "metadata": {
        "id": "TJrZ3QFZbqGU",
        "colab_type": "code",
        "colab": {
          "base_uri": "https://localhost:8080/",
          "height": 625
        },
        "outputId": "633f4a3c-00fd-4591-d07a-0d32c8737b0b"
      },
      "source": [
        "# Plot the predicted vs actual in matplot lib\n",
        "import matplotlib.pyplot as plt\n",
        "\n",
        "plt.plot( 'index', 'real', data=y_test_may, marker='o', markerfacecolor='blue', markersize=12, color='skyblue', linewidth=4)\n",
        "\n",
        "plt.plot( 'index', 'NN', data=preds, marker='', color='olive', linewidth=2)\n",
        "\n",
        "plt.xticks(rotation='vertical')\n",
        "\n",
        "plt.legend()"
      ],
      "execution_count": 228,
      "outputs": [
        {
          "output_type": "execute_result",
          "data": {
            "text/plain": [
              "<matplotlib.legend.Legend at 0x7f7d0655f7b8>"
            ]
          },
          "metadata": {
            "tags": []
          },
          "execution_count": 228
        },
        {
          "output_type": "display_data",
          "data": {
            "image/png": "[encoded data removed]",
            "text/plain": [
              "<Figure size 1440x720 with 1 Axes>"
            ]
          },
          "metadata": {
            "tags": []
          }
        }
      ]
    },
    {
      "cell_type": "markdown",
      "metadata": {
        "colab_type": "text",
        "id": "8E3z4VWQgJcC"
      },
      "source": [
        "# Vanilla Neural Network - July\n",
        "\n"
      ]
    },
    {
      "cell_type": "code",
      "metadata": {
        "colab_type": "code",
        "id": "WUZCet7wgJcJ",
        "colab": {}
      },
      "source": [
        "%tensorflow_version 2.x"
      ],
      "execution_count": 229,
      "outputs": []
    },
    {
      "cell_type": "code",
      "metadata": {
        "colab_type": "code",
        "id": "s1-7r2QcgJcP",
        "colab": {}
      },
      "source": [
        "import tensorflow as tf\n",
        "import numpy as np\n",
        "from sklearn.preprocessing import scale\n",
        "from sklearn.preprocessing import StandardScaler"
      ],
      "execution_count": 230,
      "outputs": []
    },
    {
      "cell_type": "code",
      "metadata": {
        "colab_type": "code",
        "id": "N2QHbqD-gJcR",
        "colab": {}
      },
      "source": [
        "# Standardise the two data sets as a neural network requires standardised data\n",
        "\n",
        "scaled_X_train = scale(x_train_july)\n",
        "scaled_X_test = scale(x_test_july)\n",
        "scaled_y_train = scale(y_train_july)\n",
        "scaled_y_test = scale(y_test_july)"
      ],
      "execution_count": 231,
      "outputs": []
    },
    {
      "cell_type": "code",
      "metadata": {
        "colab_type": "code",
        "id": "og7iKxdQgJcT",
        "colab": {}
      },
      "source": [
        "# Set the seed for the modelling exercises in order to get reproducible results\n",
        "\n",
        "tf.random.set_seed(168)\n",
        "np.random.seed(168)"
      ],
      "execution_count": 232,
      "outputs": []
    },
    {
      "cell_type": "code",
      "metadata": {
        "colab_type": "code",
        "id": "ePhBH3fXgJcV",
        "colab": {}
      },
      "source": [
        "from tensorflow.keras.layers import Dense, Dropout"
      ],
      "execution_count": 233,
      "outputs": []
    },
    {
      "cell_type": "code",
      "metadata": {
        "colab_type": "code",
        "id": "FU8xu8R0gJcY",
        "colab": {}
      },
      "source": [
        "# Create a sequential model \n",
        "\n",
        "model = tf.keras.Sequential()"
      ],
      "execution_count": 234,
      "outputs": []
    },
    {
      "cell_type": "code",
      "metadata": {
        "colab_type": "code",
        "id": "LomSCY1FgJcZ",
        "colab": {}
      },
      "source": [
        "# create the architecture for the neural network\n",
        "\n",
        "layer1 = Dense(512, activation='relu', input_shape=[9])\n",
        "\n",
        "layer2 = Dense(512, activation='relu')\n",
        "\n",
        "layer3 = Dense(512, activation='relu')\n",
        "\n",
        "layer4 = Dense(512, activation='relu')\n",
        "\n",
        "#layer5 = Dense(512, activation='relu')\n",
        "\n",
        "top_layer = Dense(1)"
      ],
      "execution_count": 235,
      "outputs": []
    },
    {
      "cell_type": "code",
      "metadata": {
        "colab_type": "code",
        "id": "mIsebQBsgJcd",
        "colab": {}
      },
      "source": [
        "# Add the layers into the model\n",
        "\n",
        "model.add(layer1)\n",
        "model.add(Dropout(0.5))\n",
        "model.add(layer2)\n",
        "model.add(Dropout(0.5))\n",
        "model.add(layer3)\n",
        "model.add(Dropout(0.5))\n",
        "model.add(layer4)\n",
        "model.add(Dropout(0.5))\n",
        "#model.add(layer5)\n",
        "#model.add(Dropout(0.5))\n",
        "model.add(top_layer)"
      ],
      "execution_count": 236,
      "outputs": []
    },
    {
      "cell_type": "code",
      "metadata": {
        "colab_type": "code",
        "id": "SHNNq-dvgJcf",
        "colab": {}
      },
      "source": [
        "# Specify the optimizer to be used during the back propgation\n",
        "optimizer = tf.keras.optimizers.Adam(0.0001)"
      ],
      "execution_count": 237,
      "outputs": []
    },
    {
      "cell_type": "code",
      "metadata": {
        "colab_type": "code",
        "id": "95VkYG43gJcg",
        "colab": {}
      },
      "source": [
        "# Compile the model architecture\n",
        "\n",
        "model.compile(loss='mean_squared_error', optimizer=optimizer)"
      ],
      "execution_count": 238,
      "outputs": []
    },
    {
      "cell_type": "code",
      "metadata": {
        "colab_type": "code",
        "id": "0WSmgxaegJci",
        "colab": {
          "base_uri": "https://localhost:8080/",
          "height": 478
        },
        "outputId": "4ad8d658-fd1f-4b3e-ef02-50404dd449db"
      },
      "source": [
        "# Print a summary of the model\n",
        "model.summary()"
      ],
      "execution_count": 239,
      "outputs": [
        {
          "output_type": "stream",
          "text": [
            "Model: \"sequential_2\"\n",
            "_________________________________________________________________\n",
            "Layer (type)                 Output Shape              Param #   \n",
            "=================================================================\n",
            "dense_8 (Dense)              (None, 512)               5120      \n",
            "_________________________________________________________________\n",
            "dropout_6 (Dropout)          (None, 512)               0         \n",
            "_________________________________________________________________\n",
            "dense_9 (Dense)              (None, 512)               262656    \n",
            "_________________________________________________________________\n",
            "dropout_7 (Dropout)          (None, 512)               0         \n",
            "_________________________________________________________________\n",
            "dense_10 (Dense)             (None, 512)               262656    \n",
            "_________________________________________________________________\n",
            "dropout_8 (Dropout)          (None, 512)               0         \n",
            "_________________________________________________________________\n",
            "dense_11 (Dense)             (None, 512)               262656    \n",
            "_________________________________________________________________\n",
            "dropout_9 (Dropout)          (None, 512)               0         \n",
            "_________________________________________________________________\n",
            "dense_12 (Dense)             (None, 1)                 513       \n",
            "=================================================================\n",
            "Total params: 793,601\n",
            "Trainable params: 793,601\n",
            "Non-trainable params: 0\n",
            "_________________________________________________________________\n"
          ],
          "name": "stdout"
        }
      ]
    },
    {
      "cell_type": "code",
      "metadata": {
        "colab_type": "code",
        "id": "5dbrT-vsgJcl",
        "colab": {
          "base_uri": "https://localhost:8080/",
          "height": 1000
        },
        "outputId": "3056391c-d9ae-454a-f863-18d5f3070a21"
      },
      "source": [
        "history = model.fit(scaled_X_train, y_train_july, epochs=200, validation_split = 0.2)"
      ],
      "execution_count": 240,
      "outputs": [
        {
          "output_type": "stream",
          "text": [
            "Epoch 1/200\n",
            "29/29 [==============================] - 0s 6ms/step - loss: 60731548.0000 - val_loss: 71324696.0000\n",
            "Epoch 2/200\n",
            "29/29 [==============================] - 0s 3ms/step - loss: 60678316.0000 - val_loss: 71241608.0000\n",
            "Epoch 3/200\n",
            "29/29 [==============================] - 0s 3ms/step - loss: 60366784.0000 - val_loss: 70661312.0000\n",
            "Epoch 4/200\n",
            "29/29 [==============================] - 0s 3ms/step - loss: 58723272.0000 - val_loss: 67753992.0000\n",
            "Epoch 5/200\n",
            "29/29 [==============================] - 0s 3ms/step - loss: 52146920.0000 - val_loss: 58209708.0000\n",
            "Epoch 6/200\n",
            "29/29 [==============================] - 0s 3ms/step - loss: 36866908.0000 - val_loss: 38066696.0000\n",
            "Epoch 7/200\n",
            "29/29 [==============================] - 0s 3ms/step - loss: 22381978.0000 - val_loss: 17577212.0000\n",
            "Epoch 8/200\n",
            "29/29 [==============================] - 0s 3ms/step - loss: 17391886.0000 - val_loss: 8857091.0000\n",
            "Epoch 9/200\n",
            "29/29 [==============================] - 0s 3ms/step - loss: 14367886.0000 - val_loss: 4201016.0000\n",
            "Epoch 10/200\n",
            "29/29 [==============================] - 0s 3ms/step - loss: 13071935.0000 - val_loss: 2345570.7500\n",
            "Epoch 11/200\n",
            "29/29 [==============================] - 0s 3ms/step - loss: 11430620.0000 - val_loss: 1844135.0000\n",
            "Epoch 12/200\n",
            "29/29 [==============================] - 0s 3ms/step - loss: 10780627.0000 - val_loss: 1872647.6250\n",
            "Epoch 13/200\n",
            "29/29 [==============================] - 0s 3ms/step - loss: 9851854.0000 - val_loss: 2122534.5000\n",
            "Epoch 14/200\n",
            "29/29 [==============================] - 0s 3ms/step - loss: 9556887.0000 - val_loss: 2240421.0000\n",
            "Epoch 15/200\n",
            "29/29 [==============================] - 0s 3ms/step - loss: 8922353.0000 - val_loss: 2679553.5000\n",
            "Epoch 16/200\n",
            "29/29 [==============================] - 0s 3ms/step - loss: 8751805.0000 - val_loss: 2725899.7500\n",
            "Epoch 17/200\n",
            "29/29 [==============================] - 0s 3ms/step - loss: 8125832.0000 - val_loss: 3237641.0000\n",
            "Epoch 18/200\n",
            "29/29 [==============================] - 0s 3ms/step - loss: 8305649.5000 - val_loss: 2959697.0000\n",
            "Epoch 19/200\n",
            "29/29 [==============================] - 0s 3ms/step - loss: 7871820.5000 - val_loss: 3198392.5000\n",
            "Epoch 20/200\n",
            "29/29 [==============================] - 0s 3ms/step - loss: 7484650.5000 - val_loss: 2934386.0000\n",
            "Epoch 21/200\n",
            "29/29 [==============================] - 0s 3ms/step - loss: 7650058.0000 - val_loss: 3062161.7500\n",
            "Epoch 22/200\n",
            "29/29 [==============================] - 0s 3ms/step - loss: 7021424.5000 - val_loss: 3079958.2500\n",
            "Epoch 23/200\n",
            "29/29 [==============================] - 0s 3ms/step - loss: 7000420.0000 - val_loss: 3000511.7500\n",
            "Epoch 24/200\n",
            "29/29 [==============================] - 0s 3ms/step - loss: 6832247.0000 - val_loss: 3129863.2500\n",
            "Epoch 25/200\n",
            "29/29 [==============================] - 0s 3ms/step - loss: 6867725.0000 - val_loss: 2593668.2500\n",
            "Epoch 26/200\n",
            "29/29 [==============================] - 0s 3ms/step - loss: 6618369.0000 - val_loss: 2646773.2500\n",
            "Epoch 27/200\n",
            "29/29 [==============================] - 0s 3ms/step - loss: 6436492.5000 - val_loss: 3015294.7500\n",
            "Epoch 28/200\n",
            "29/29 [==============================] - 0s 3ms/step - loss: 6311831.0000 - val_loss: 2876198.7500\n",
            "Epoch 29/200\n",
            "29/29 [==============================] - 0s 3ms/step - loss: 6213492.0000 - val_loss: 3272726.0000\n",
            "Epoch 30/200\n",
            "29/29 [==============================] - 0s 3ms/step - loss: 5910232.0000 - val_loss: 3186974.2500\n",
            "Epoch 31/200\n",
            "29/29 [==============================] - 0s 3ms/step - loss: 5912871.0000 - val_loss: 2881227.2500\n",
            "Epoch 32/200\n",
            "29/29 [==============================] - 0s 3ms/step - loss: 6001418.0000 - val_loss: 2715410.2500\n",
            "Epoch 33/200\n",
            "29/29 [==============================] - 0s 3ms/step - loss: 5789552.5000 - val_loss: 2657721.5000\n",
            "Epoch 34/200\n",
            "29/29 [==============================] - 0s 3ms/step - loss: 5626671.0000 - val_loss: 2902515.2500\n",
            "Epoch 35/200\n",
            "29/29 [==============================] - 0s 3ms/step - loss: 5293365.0000 - val_loss: 2458991.0000\n",
            "Epoch 36/200\n",
            "29/29 [==============================] - 0s 3ms/step - loss: 5808014.5000 - val_loss: 2453587.5000\n",
            "Epoch 37/200\n",
            "29/29 [==============================] - 0s 3ms/step - loss: 5380439.0000 - val_loss: 2559660.0000\n",
            "Epoch 38/200\n",
            "29/29 [==============================] - 0s 3ms/step - loss: 5172465.5000 - val_loss: 2519642.2500\n",
            "Epoch 39/200\n",
            "29/29 [==============================] - 0s 3ms/step - loss: 5102933.5000 - val_loss: 2864046.2500\n",
            "Epoch 40/200\n",
            "29/29 [==============================] - 0s 3ms/step - loss: 5235399.5000 - val_loss: 2314121.0000\n",
            "Epoch 41/200\n",
            "29/29 [==============================] - 0s 3ms/step - loss: 4873895.5000 - val_loss: 2605276.2500\n",
            "Epoch 42/200\n",
            "29/29 [==============================] - 0s 3ms/step - loss: 5031837.0000 - val_loss: 2515386.2500\n",
            "Epoch 43/200\n",
            "29/29 [==============================] - 0s 3ms/step - loss: 4842594.5000 - val_loss: 2486707.0000\n",
            "Epoch 44/200\n",
            "29/29 [==============================] - 0s 3ms/step - loss: 4653614.0000 - val_loss: 2512900.0000\n",
            "Epoch 45/200\n",
            "29/29 [==============================] - 0s 3ms/step - loss: 4795954.0000 - val_loss: 2518754.0000\n",
            "Epoch 46/200\n",
            "29/29 [==============================] - 0s 3ms/step - loss: 4823512.0000 - val_loss: 2491037.0000\n",
            "Epoch 47/200\n",
            "29/29 [==============================] - 0s 3ms/step - loss: 4480244.5000 - val_loss: 2380388.0000\n",
            "Epoch 48/200\n",
            "29/29 [==============================] - 0s 3ms/step - loss: 4518224.5000 - val_loss: 2387790.0000\n",
            "Epoch 49/200\n",
            "29/29 [==============================] - 0s 3ms/step - loss: 4413258.5000 - val_loss: 2357431.0000\n",
            "Epoch 50/200\n",
            "29/29 [==============================] - 0s 3ms/step - loss: 4701089.0000 - val_loss: 2446893.7500\n",
            "Epoch 51/200\n",
            "29/29 [==============================] - 0s 3ms/step - loss: 4140218.2500 - val_loss: 2388417.5000\n",
            "Epoch 52/200\n",
            "29/29 [==============================] - 0s 3ms/step - loss: 4459381.0000 - val_loss: 2086498.6250\n",
            "Epoch 53/200\n",
            "29/29 [==============================] - 0s 3ms/step - loss: 4246420.5000 - val_loss: 2157244.2500\n",
            "Epoch 54/200\n",
            "29/29 [==============================] - 0s 3ms/step - loss: 4633984.5000 - val_loss: 2233571.7500\n",
            "Epoch 55/200\n",
            "29/29 [==============================] - 0s 3ms/step - loss: 4272446.5000 - val_loss: 2194871.5000\n",
            "Epoch 56/200\n",
            "29/29 [==============================] - 0s 3ms/step - loss: 3989016.2500 - val_loss: 2355550.2500\n",
            "Epoch 57/200\n",
            "29/29 [==============================] - 0s 3ms/step - loss: 4260901.5000 - val_loss: 2151909.0000\n",
            "Epoch 58/200\n",
            "29/29 [==============================] - 0s 3ms/step - loss: 3902140.5000 - val_loss: 2346139.7500\n",
            "Epoch 59/200\n",
            "29/29 [==============================] - 0s 3ms/step - loss: 3919919.2500 - val_loss: 2264008.0000\n",
            "Epoch 60/200\n",
            "29/29 [==============================] - 0s 3ms/step - loss: 3953633.2500 - val_loss: 2149759.7500\n",
            "Epoch 61/200\n",
            "29/29 [==============================] - 0s 3ms/step - loss: 3909976.0000 - val_loss: 2176272.2500\n",
            "Epoch 62/200\n",
            "29/29 [==============================] - 0s 3ms/step - loss: 3771750.5000 - val_loss: 2194567.0000\n",
            "Epoch 63/200\n",
            "29/29 [==============================] - 0s 3ms/step - loss: 3880266.2500 - val_loss: 2167402.7500\n",
            "Epoch 64/200\n",
            "29/29 [==============================] - 0s 3ms/step - loss: 3916093.7500 - val_loss: 2064474.1250\n",
            "Epoch 65/200\n",
            "29/29 [==============================] - 0s 3ms/step - loss: 3639957.7500 - val_loss: 2131746.5000\n",
            "Epoch 66/200\n",
            "29/29 [==============================] - 0s 3ms/step - loss: 3776697.5000 - val_loss: 2081112.5000\n",
            "Epoch 67/200\n",
            "29/29 [==============================] - 0s 3ms/step - loss: 3925527.2500 - val_loss: 1962024.6250\n",
            "Epoch 68/200\n",
            "29/29 [==============================] - 0s 3ms/step - loss: 3693391.5000 - val_loss: 2191228.2500\n",
            "Epoch 69/200\n",
            "29/29 [==============================] - 0s 3ms/step - loss: 3697890.7500 - val_loss: 2011126.2500\n",
            "Epoch 70/200\n",
            "29/29 [==============================] - 0s 3ms/step - loss: 3772340.0000 - val_loss: 2181176.2500\n",
            "Epoch 71/200\n",
            "29/29 [==============================] - 0s 3ms/step - loss: 3613088.7500 - val_loss: 2143780.7500\n",
            "Epoch 72/200\n",
            "29/29 [==============================] - 0s 3ms/step - loss: 3456169.7500 - val_loss: 2319977.7500\n",
            "Epoch 73/200\n",
            "29/29 [==============================] - 0s 3ms/step - loss: 3607110.7500 - val_loss: 2123658.7500\n",
            "Epoch 74/200\n",
            "29/29 [==============================] - 0s 3ms/step - loss: 3690276.7500 - val_loss: 2011829.2500\n",
            "Epoch 75/200\n",
            "29/29 [==============================] - 0s 3ms/step - loss: 3422346.2500 - val_loss: 2006118.6250\n",
            "Epoch 76/200\n",
            "29/29 [==============================] - 0s 3ms/step - loss: 3596742.0000 - val_loss: 1942644.2500\n",
            "Epoch 77/200\n",
            "29/29 [==============================] - 0s 3ms/step - loss: 3809854.7500 - val_loss: 1971962.7500\n",
            "Epoch 78/200\n",
            "29/29 [==============================] - 0s 3ms/step - loss: 3634044.2500 - val_loss: 1942945.7500\n",
            "Epoch 79/200\n",
            "29/29 [==============================] - 0s 3ms/step - loss: 3414098.7500 - val_loss: 2048949.8750\n",
            "Epoch 80/200\n",
            "29/29 [==============================] - 0s 3ms/step - loss: 3543838.5000 - val_loss: 1924135.3750\n",
            "Epoch 81/200\n",
            "29/29 [==============================] - 0s 3ms/step - loss: 3355302.0000 - val_loss: 1997557.1250\n",
            "Epoch 82/200\n",
            "29/29 [==============================] - 0s 3ms/step - loss: 3489481.7500 - val_loss: 2011838.8750\n",
            "Epoch 83/200\n",
            "29/29 [==============================] - 0s 3ms/step - loss: 3273784.0000 - val_loss: 2141292.2500\n",
            "Epoch 84/200\n",
            "29/29 [==============================] - 0s 3ms/step - loss: 3418639.7500 - val_loss: 2069485.0000\n",
            "Epoch 85/200\n",
            "29/29 [==============================] - 0s 3ms/step - loss: 3519234.0000 - val_loss: 2034348.2500\n",
            "Epoch 86/200\n",
            "29/29 [==============================] - 0s 3ms/step - loss: 3564500.5000 - val_loss: 1986042.6250\n",
            "Epoch 87/200\n",
            "29/29 [==============================] - 0s 3ms/step - loss: 3112726.0000 - val_loss: 2095530.8750\n",
            "Epoch 88/200\n",
            "29/29 [==============================] - 0s 3ms/step - loss: 3369743.0000 - val_loss: 1920421.1250\n",
            "Epoch 89/200\n",
            "29/29 [==============================] - 0s 3ms/step - loss: 3368576.7500 - val_loss: 1974507.2500\n",
            "Epoch 90/200\n",
            "29/29 [==============================] - 0s 3ms/step - loss: 3246995.2500 - val_loss: 1801683.1250\n",
            "Epoch 91/200\n",
            "29/29 [==============================] - 0s 3ms/step - loss: 3241167.0000 - val_loss: 1824689.8750\n",
            "Epoch 92/200\n",
            "29/29 [==============================] - 0s 3ms/step - loss: 3334679.0000 - val_loss: 1781347.6250\n",
            "Epoch 93/200\n",
            "29/29 [==============================] - 0s 3ms/step - loss: 3161286.5000 - val_loss: 1845621.8750\n",
            "Epoch 94/200\n",
            "29/29 [==============================] - 0s 3ms/step - loss: 3187113.2500 - val_loss: 1943901.3750\n",
            "Epoch 95/200\n",
            "29/29 [==============================] - 0s 3ms/step - loss: 3267146.7500 - val_loss: 1935062.3750\n",
            "Epoch 96/200\n",
            "29/29 [==============================] - 0s 3ms/step - loss: 3072765.2500 - val_loss: 1840987.2500\n",
            "Epoch 97/200\n",
            "29/29 [==============================] - 0s 3ms/step - loss: 3093451.0000 - val_loss: 1891800.1250\n",
            "Epoch 98/200\n",
            "29/29 [==============================] - 0s 3ms/step - loss: 3255433.7500 - val_loss: 1883272.5000\n",
            "Epoch 99/200\n",
            "29/29 [==============================] - 0s 3ms/step - loss: 3075523.0000 - val_loss: 1883158.5000\n",
            "Epoch 100/200\n",
            "29/29 [==============================] - 0s 3ms/step - loss: 2952825.0000 - val_loss: 1960415.8750\n",
            "Epoch 101/200\n",
            "29/29 [==============================] - 0s 3ms/step - loss: 3215938.7500 - val_loss: 1909780.1250\n",
            "Epoch 102/200\n",
            "29/29 [==============================] - 0s 3ms/step - loss: 3436225.2500 - val_loss: 1700000.2500\n",
            "Epoch 103/200\n",
            "29/29 [==============================] - 0s 3ms/step - loss: 3085258.2500 - val_loss: 1830003.1250\n",
            "Epoch 104/200\n",
            "29/29 [==============================] - 0s 3ms/step - loss: 2901385.0000 - val_loss: 1830767.7500\n",
            "Epoch 105/200\n",
            "29/29 [==============================] - 0s 3ms/step - loss: 3273363.7500 - val_loss: 1722479.0000\n",
            "Epoch 106/200\n",
            "29/29 [==============================] - 0s 3ms/step - loss: 3252846.0000 - val_loss: 1854166.0000\n",
            "Epoch 107/200\n",
            "29/29 [==============================] - 0s 3ms/step - loss: 3154126.5000 - val_loss: 1814042.0000\n",
            "Epoch 108/200\n",
            "29/29 [==============================] - 0s 3ms/step - loss: 3010626.2500 - val_loss: 1761753.1250\n",
            "Epoch 109/200\n",
            "29/29 [==============================] - 0s 3ms/step - loss: 3147320.2500 - val_loss: 1676490.2500\n",
            "Epoch 110/200\n",
            "29/29 [==============================] - 0s 3ms/step - loss: 3017965.5000 - val_loss: 2012469.6250\n",
            "Epoch 111/200\n",
            "29/29 [==============================] - 0s 3ms/step - loss: 3048223.5000 - val_loss: 1760938.3750\n",
            "Epoch 112/200\n",
            "29/29 [==============================] - 0s 3ms/step - loss: 3082891.2500 - val_loss: 1990161.2500\n",
            "Epoch 113/200\n",
            "29/29 [==============================] - 0s 3ms/step - loss: 3066898.7500 - val_loss: 1795877.7500\n",
            "Epoch 114/200\n",
            "29/29 [==============================] - 0s 3ms/step - loss: 3137678.7500 - val_loss: 1806692.5000\n",
            "Epoch 115/200\n",
            "29/29 [==============================] - 0s 3ms/step - loss: 3049762.5000 - val_loss: 1803194.3750\n",
            "Epoch 116/200\n",
            "29/29 [==============================] - 0s 3ms/step - loss: 2852700.5000 - val_loss: 1748772.2500\n",
            "Epoch 117/200\n",
            "29/29 [==============================] - 0s 3ms/step - loss: 2950660.5000 - val_loss: 1761017.0000\n",
            "Epoch 118/200\n",
            "29/29 [==============================] - 0s 3ms/step - loss: 2853506.2500 - val_loss: 1932075.3750\n",
            "Epoch 119/200\n",
            "29/29 [==============================] - 0s 3ms/step - loss: 2925037.2500 - val_loss: 1853414.0000\n",
            "Epoch 120/200\n",
            "29/29 [==============================] - 0s 3ms/step - loss: 3078407.7500 - val_loss: 1636606.6250\n",
            "Epoch 121/200\n",
            "29/29 [==============================] - 0s 3ms/step - loss: 3091635.7500 - val_loss: 1849576.6250\n",
            "Epoch 122/200\n",
            "29/29 [==============================] - 0s 3ms/step - loss: 2889297.7500 - val_loss: 1902275.1250\n",
            "Epoch 123/200\n",
            "29/29 [==============================] - 0s 3ms/step - loss: 3006587.7500 - val_loss: 1795430.5000\n",
            "Epoch 124/200\n",
            "29/29 [==============================] - 0s 3ms/step - loss: 3129722.5000 - val_loss: 1833659.5000\n",
            "Epoch 125/200\n",
            "29/29 [==============================] - 0s 3ms/step - loss: 3030806.2500 - val_loss: 1914712.3750\n",
            "Epoch 126/200\n",
            "29/29 [==============================] - 0s 3ms/step - loss: 2808505.7500 - val_loss: 1795199.2500\n",
            "Epoch 127/200\n",
            "29/29 [==============================] - 0s 3ms/step - loss: 2946304.5000 - val_loss: 1761469.0000\n",
            "Epoch 128/200\n",
            "29/29 [==============================] - 0s 3ms/step - loss: 2780418.7500 - val_loss: 1915470.7500\n",
            "Epoch 129/200\n",
            "29/29 [==============================] - 0s 3ms/step - loss: 2799245.5000 - val_loss: 1783652.1250\n",
            "Epoch 130/200\n",
            "29/29 [==============================] - 0s 3ms/step - loss: 2825807.5000 - val_loss: 1774605.0000\n",
            "Epoch 131/200\n",
            "29/29 [==============================] - 0s 3ms/step - loss: 3028528.2500 - val_loss: 1746875.8750\n",
            "Epoch 132/200\n",
            "29/29 [==============================] - 0s 3ms/step - loss: 2971921.7500 - val_loss: 1679384.2500\n",
            "Epoch 133/200\n",
            "29/29 [==============================] - 0s 3ms/step - loss: 3111310.7500 - val_loss: 1725259.7500\n",
            "Epoch 134/200\n",
            "29/29 [==============================] - 0s 3ms/step - loss: 2877503.7500 - val_loss: 1925971.3750\n",
            "Epoch 135/200\n",
            "29/29 [==============================] - 0s 3ms/step - loss: 2846236.2500 - val_loss: 1723301.6250\n",
            "Epoch 136/200\n",
            "29/29 [==============================] - 0s 3ms/step - loss: 2893992.2500 - val_loss: 1824058.0000\n",
            "Epoch 137/200\n",
            "29/29 [==============================] - 0s 3ms/step - loss: 3274918.2500 - val_loss: 1618811.7500\n",
            "Epoch 138/200\n",
            "29/29 [==============================] - 0s 3ms/step - loss: 2805514.2500 - val_loss: 1881151.8750\n",
            "Epoch 139/200\n",
            "29/29 [==============================] - 0s 3ms/step - loss: 2713656.7500 - val_loss: 1779602.1250\n",
            "Epoch 140/200\n",
            "29/29 [==============================] - 0s 3ms/step - loss: 2950002.0000 - val_loss: 1751633.7500\n",
            "Epoch 141/200\n",
            "29/29 [==============================] - 0s 3ms/step - loss: 2784530.0000 - val_loss: 1782070.3750\n",
            "Epoch 142/200\n",
            "29/29 [==============================] - 0s 3ms/step - loss: 2826124.5000 - val_loss: 1982187.5000\n",
            "Epoch 143/200\n",
            "29/29 [==============================] - 0s 3ms/step - loss: 3017182.5000 - val_loss: 1709441.3750\n",
            "Epoch 144/200\n",
            "29/29 [==============================] - 0s 3ms/step - loss: 2835814.0000 - val_loss: 1715529.6250\n",
            "Epoch 145/200\n",
            "29/29 [==============================] - 0s 3ms/step - loss: 2696800.7500 - val_loss: 1593227.7500\n",
            "Epoch 146/200\n",
            "29/29 [==============================] - 0s 3ms/step - loss: 2898587.7500 - val_loss: 1802552.0000\n",
            "Epoch 147/200\n",
            "29/29 [==============================] - 0s 3ms/step - loss: 2861297.7500 - val_loss: 1810692.0000\n",
            "Epoch 148/200\n",
            "29/29 [==============================] - 0s 3ms/step - loss: 2921250.2500 - val_loss: 1824058.6250\n",
            "Epoch 149/200\n",
            "29/29 [==============================] - 0s 3ms/step - loss: 2935712.2500 - val_loss: 1926047.0000\n",
            "Epoch 150/200\n",
            "29/29 [==============================] - 0s 3ms/step - loss: 2779477.7500 - val_loss: 1826774.5000\n",
            "Epoch 151/200\n",
            "29/29 [==============================] - 0s 3ms/step - loss: 2763554.7500 - val_loss: 1745096.1250\n",
            "Epoch 152/200\n",
            "29/29 [==============================] - 0s 3ms/step - loss: 3003834.5000 - val_loss: 1737155.2500\n",
            "Epoch 153/200\n",
            "29/29 [==============================] - 0s 3ms/step - loss: 2958919.0000 - val_loss: 1747420.8750\n",
            "Epoch 154/200\n",
            "29/29 [==============================] - 0s 3ms/step - loss: 3119686.5000 - val_loss: 1706767.6250\n",
            "Epoch 155/200\n",
            "29/29 [==============================] - 0s 3ms/step - loss: 2738248.0000 - val_loss: 1875917.2500\n",
            "Epoch 156/200\n",
            "29/29 [==============================] - 0s 3ms/step - loss: 2840609.7500 - val_loss: 1783765.2500\n",
            "Epoch 157/200\n",
            "29/29 [==============================] - 0s 3ms/step - loss: 2898978.7500 - val_loss: 1830098.3750\n",
            "Epoch 158/200\n",
            "29/29 [==============================] - 0s 3ms/step - loss: 2896858.0000 - val_loss: 1843760.1250\n",
            "Epoch 159/200\n",
            "29/29 [==============================] - 0s 3ms/step - loss: 2735626.2500 - val_loss: 1894897.0000\n",
            "Epoch 160/200\n",
            "29/29 [==============================] - 0s 3ms/step - loss: 2829265.0000 - val_loss: 1686341.8750\n",
            "Epoch 161/200\n",
            "29/29 [==============================] - 0s 3ms/step - loss: 2888511.5000 - val_loss: 1924854.5000\n",
            "Epoch 162/200\n",
            "29/29 [==============================] - 0s 3ms/step - loss: 2930663.2500 - val_loss: 1703568.6250\n",
            "Epoch 163/200\n",
            "29/29 [==============================] - 0s 3ms/step - loss: 2719257.2500 - val_loss: 1759732.8750\n",
            "Epoch 164/200\n",
            "29/29 [==============================] - 0s 3ms/step - loss: 2590738.5000 - val_loss: 1869965.1250\n",
            "Epoch 165/200\n",
            "29/29 [==============================] - 0s 3ms/step - loss: 2707146.5000 - val_loss: 1701857.5000\n",
            "Epoch 166/200\n",
            "29/29 [==============================] - 0s 3ms/step - loss: 2839300.5000 - val_loss: 1879331.0000\n",
            "Epoch 167/200\n",
            "29/29 [==============================] - 0s 3ms/step - loss: 2609098.5000 - val_loss: 1672194.2500\n",
            "Epoch 168/200\n",
            "29/29 [==============================] - 0s 3ms/step - loss: 2677543.0000 - val_loss: 1934055.3750\n",
            "Epoch 169/200\n",
            "29/29 [==============================] - 0s 3ms/step - loss: 2825740.5000 - val_loss: 1672307.5000\n",
            "Epoch 170/200\n",
            "29/29 [==============================] - 0s 3ms/step - loss: 2966005.5000 - val_loss: 1675280.6250\n",
            "Epoch 171/200\n",
            "29/29 [==============================] - 0s 3ms/step - loss: 2810384.2500 - val_loss: 1823022.5000\n",
            "Epoch 172/200\n",
            "29/29 [==============================] - 0s 3ms/step - loss: 2882521.7500 - val_loss: 1833916.7500\n",
            "Epoch 173/200\n",
            "29/29 [==============================] - 0s 3ms/step - loss: 2949783.7500 - val_loss: 1666937.6250\n",
            "Epoch 174/200\n",
            "29/29 [==============================] - 0s 3ms/step - loss: 2813902.2500 - val_loss: 1691352.1250\n",
            "Epoch 175/200\n",
            "29/29 [==============================] - 0s 3ms/step - loss: 2784374.0000 - val_loss: 1737748.8750\n",
            "Epoch 176/200\n",
            "29/29 [==============================] - 0s 3ms/step - loss: 2899638.2500 - val_loss: 1723759.3750\n",
            "Epoch 177/200\n",
            "29/29 [==============================] - 0s 3ms/step - loss: 2882091.5000 - val_loss: 1726683.2500\n",
            "Epoch 178/200\n",
            "29/29 [==============================] - 0s 3ms/step - loss: 2694684.5000 - val_loss: 1816120.0000\n",
            "Epoch 179/200\n",
            "29/29 [==============================] - 0s 3ms/step - loss: 2772405.7500 - val_loss: 1723278.3750\n",
            "Epoch 180/200\n",
            "29/29 [==============================] - 0s 3ms/step - loss: 2800809.0000 - val_loss: 1796203.0000\n",
            "Epoch 181/200\n",
            "29/29 [==============================] - 0s 3ms/step - loss: 2821324.5000 - val_loss: 1645590.7500\n",
            "Epoch 182/200\n",
            "29/29 [==============================] - 0s 3ms/step - loss: 2932445.7500 - val_loss: 1689373.6250\n",
            "Epoch 183/200\n",
            "29/29 [==============================] - 0s 3ms/step - loss: 2762541.0000 - val_loss: 1755767.1250\n",
            "Epoch 184/200\n",
            "29/29 [==============================] - 0s 3ms/step - loss: 2813406.7500 - val_loss: 1768033.2500\n",
            "Epoch 185/200\n",
            "29/29 [==============================] - 0s 3ms/step - loss: 2676470.2500 - val_loss: 1654123.2500\n",
            "Epoch 186/200\n",
            "29/29 [==============================] - 0s 3ms/step - loss: 2882572.7500 - val_loss: 1644080.3750\n",
            "Epoch 187/200\n",
            "29/29 [==============================] - 0s 3ms/step - loss: 2690993.0000 - val_loss: 1879730.1250\n",
            "Epoch 188/200\n",
            "29/29 [==============================] - 0s 3ms/step - loss: 2782710.2500 - val_loss: 1767898.3750\n",
            "Epoch 189/200\n",
            "29/29 [==============================] - 0s 3ms/step - loss: 2665218.0000 - val_loss: 1763362.1250\n",
            "Epoch 190/200\n",
            "29/29 [==============================] - 0s 3ms/step - loss: 2581068.5000 - val_loss: 1630241.7500\n",
            "Epoch 191/200\n",
            "29/29 [==============================] - 0s 3ms/step - loss: 2845882.2500 - val_loss: 1815869.7500\n",
            "Epoch 192/200\n",
            "29/29 [==============================] - 0s 3ms/step - loss: 2876187.2500 - val_loss: 1823458.2500\n",
            "Epoch 193/200\n",
            "29/29 [==============================] - 0s 3ms/step - loss: 2742434.5000 - val_loss: 1870215.2500\n",
            "Epoch 194/200\n",
            "29/29 [==============================] - 0s 3ms/step - loss: 2719640.2500 - val_loss: 1820729.5000\n",
            "Epoch 195/200\n",
            "29/29 [==============================] - 0s 3ms/step - loss: 2625378.0000 - val_loss: 1876766.6250\n",
            "Epoch 196/200\n",
            "29/29 [==============================] - 0s 3ms/step - loss: 2790856.7500 - val_loss: 1853689.5000\n",
            "Epoch 197/200\n",
            "29/29 [==============================] - 0s 3ms/step - loss: 2754579.0000 - val_loss: 1763035.1250\n",
            "Epoch 198/200\n",
            "29/29 [==============================] - 0s 3ms/step - loss: 2795907.0000 - val_loss: 1804948.5000\n",
            "Epoch 199/200\n",
            "29/29 [==============================] - 0s 3ms/step - loss: 2873796.0000 - val_loss: 1907451.6250\n",
            "Epoch 200/200\n",
            "29/29 [==============================] - 0s 3ms/step - loss: 2872891.2500 - val_loss: 1822212.0000\n"
          ],
          "name": "stdout"
        }
      ]
    },
    {
      "cell_type": "code",
      "metadata": {
        "id": "h19_J33VhMNU",
        "colab_type": "code",
        "colab": {
          "base_uri": "https://localhost:8080/",
          "height": 622
        },
        "outputId": "7325b435-4f47-46cd-ebe7-ab3c8eb349fc"
      },
      "source": [
        "import matplotlib.pyplot as plt\n",
        "\n",
        "plt.plot(history.history['loss'], label='MSE training')\n",
        "plt.plot(history.history['val_loss'], label='MSE validation')\n",
        "plt.ylabel('MSE')\n",
        "plt.xlabel('Epoch')\n",
        "plt.show()"
      ],
      "execution_count": 241,
      "outputs": [
        {
          "output_type": "display_data",
          "data": {
            "image/png": "[encoded data removed]",
            "text/plain": [
              "<Figure size 1440x720 with 1 Axes>"
            ]
          },
          "metadata": {
            "tags": []
          }
        }
      ]
    },
    {
      "cell_type": "code",
      "metadata": {
        "colab_type": "code",
        "id": "PDzXu2L_gJcn",
        "colab": {}
      },
      "source": [
        "# Make a prediction\n",
        "preds = model.predict(scaled_X_test)"
      ],
      "execution_count": 242,
      "outputs": []
    },
    {
      "cell_type": "code",
      "metadata": {
        "colab_type": "code",
        "id": "g8nrcWp9gJcp",
        "colab": {
          "base_uri": "https://localhost:8080/",
          "height": 677
        },
        "outputId": "00b5a494-e660-4b59-f388-d8cc8be3d044"
      },
      "source": [
        "preds = pd.DataFrame(preds)\n",
        "\n",
        "preds['index'] = range(1,22)\n",
        "\n",
        "preds.columns = ['NN', 'index']\n",
        "\n",
        "preds"
      ],
      "execution_count": 246,
      "outputs": [
        {
          "output_type": "execute_result",
          "data": {
            "text/html": [
              "<div>\n",
              "<style scoped>\n",
              "    .dataframe tbody tr th:only-of-type {\n",
              "        vertical-align: middle;\n",
              "    }\n",
              "\n",
              "    .dataframe tbody tr th {\n",
              "        vertical-align: top;\n",
              "    }\n",
              "\n",
              "    .dataframe thead th {\n",
              "        text-align: right;\n",
              "    }\n",
              "</style>\n",
              "<table border=\"1\" class=\"dataframe\">\n",
              "  <thead>\n",
              "    <tr style=\"text-align: right;\">\n",
              "      <th></th>\n",
              "      <th>NN</th>\n",
              "      <th>index</th>\n",
              "    </tr>\n",
              "  </thead>\n",
              "  <tbody>\n",
              "    <tr>\n",
              "      <th>0</th>\n",
              "      <td>12657.651367</td>\n",
              "      <td>1</td>\n",
              "    </tr>\n",
              "    <tr>\n",
              "      <th>1</th>\n",
              "      <td>10281.222656</td>\n",
              "      <td>2</td>\n",
              "    </tr>\n",
              "    <tr>\n",
              "      <th>2</th>\n",
              "      <td>7702.377930</td>\n",
              "      <td>3</td>\n",
              "    </tr>\n",
              "    <tr>\n",
              "      <th>3</th>\n",
              "      <td>3695.152344</td>\n",
              "      <td>4</td>\n",
              "    </tr>\n",
              "    <tr>\n",
              "      <th>4</th>\n",
              "      <td>5591.658691</td>\n",
              "      <td>5</td>\n",
              "    </tr>\n",
              "    <tr>\n",
              "      <th>5</th>\n",
              "      <td>7909.886719</td>\n",
              "      <td>6</td>\n",
              "    </tr>\n",
              "    <tr>\n",
              "      <th>6</th>\n",
              "      <td>6994.599121</td>\n",
              "      <td>7</td>\n",
              "    </tr>\n",
              "    <tr>\n",
              "      <th>7</th>\n",
              "      <td>9158.746094</td>\n",
              "      <td>8</td>\n",
              "    </tr>\n",
              "    <tr>\n",
              "      <th>8</th>\n",
              "      <td>6824.205566</td>\n",
              "      <td>9</td>\n",
              "    </tr>\n",
              "    <tr>\n",
              "      <th>9</th>\n",
              "      <td>5087.461914</td>\n",
              "      <td>10</td>\n",
              "    </tr>\n",
              "    <tr>\n",
              "      <th>10</th>\n",
              "      <td>6315.975098</td>\n",
              "      <td>11</td>\n",
              "    </tr>\n",
              "    <tr>\n",
              "      <th>11</th>\n",
              "      <td>5094.857422</td>\n",
              "      <td>12</td>\n",
              "    </tr>\n",
              "    <tr>\n",
              "      <th>12</th>\n",
              "      <td>12075.430664</td>\n",
              "      <td>13</td>\n",
              "    </tr>\n",
              "    <tr>\n",
              "      <th>13</th>\n",
              "      <td>9540.163086</td>\n",
              "      <td>14</td>\n",
              "    </tr>\n",
              "    <tr>\n",
              "      <th>14</th>\n",
              "      <td>12098.797852</td>\n",
              "      <td>15</td>\n",
              "    </tr>\n",
              "    <tr>\n",
              "      <th>15</th>\n",
              "      <td>7169.725098</td>\n",
              "      <td>16</td>\n",
              "    </tr>\n",
              "    <tr>\n",
              "      <th>16</th>\n",
              "      <td>7273.859863</td>\n",
              "      <td>17</td>\n",
              "    </tr>\n",
              "    <tr>\n",
              "      <th>17</th>\n",
              "      <td>6535.536133</td>\n",
              "      <td>18</td>\n",
              "    </tr>\n",
              "    <tr>\n",
              "      <th>18</th>\n",
              "      <td>7696.841309</td>\n",
              "      <td>19</td>\n",
              "    </tr>\n",
              "    <tr>\n",
              "      <th>19</th>\n",
              "      <td>6791.536133</td>\n",
              "      <td>20</td>\n",
              "    </tr>\n",
              "    <tr>\n",
              "      <th>20</th>\n",
              "      <td>6954.522461</td>\n",
              "      <td>21</td>\n",
              "    </tr>\n",
              "  </tbody>\n",
              "</table>\n",
              "</div>"
            ],
            "text/plain": [
              "              NN  index\n",
              "0   12657.651367      1\n",
              "1   10281.222656      2\n",
              "2    7702.377930      3\n",
              "3    3695.152344      4\n",
              "4    5591.658691      5\n",
              "5    7909.886719      6\n",
              "6    6994.599121      7\n",
              "7    9158.746094      8\n",
              "8    6824.205566      9\n",
              "9    5087.461914     10\n",
              "10   6315.975098     11\n",
              "11   5094.857422     12\n",
              "12  12075.430664     13\n",
              "13   9540.163086     14\n",
              "14  12098.797852     15\n",
              "15   7169.725098     16\n",
              "16   7273.859863     17\n",
              "17   6535.536133     18\n",
              "18   7696.841309     19\n",
              "19   6791.536133     20\n",
              "20   6954.522461     21"
            ]
          },
          "metadata": {
            "tags": []
          },
          "execution_count": 246
        }
      ]
    },
    {
      "cell_type": "code",
      "metadata": {
        "colab_type": "code",
        "id": "addnXS6dgJcs",
        "colab": {
          "base_uri": "https://localhost:8080/",
          "height": 677
        },
        "outputId": "112e387f-d8f2-48a9-8295-d66f525152dc"
      },
      "source": [
        "y_test_july = pd.DataFrame(y_test_july)\n",
        "\n",
        "y_test_july['index'] = range(1,22)\n",
        "\n",
        "y_test_july.columns = ['real', 'index']\n",
        "\n",
        "y_test_july"
      ],
      "execution_count": 247,
      "outputs": [
        {
          "output_type": "execute_result",
          "data": {
            "text/html": [
              "<div>\n",
              "<style scoped>\n",
              "    .dataframe tbody tr th:only-of-type {\n",
              "        vertical-align: middle;\n",
              "    }\n",
              "\n",
              "    .dataframe tbody tr th {\n",
              "        vertical-align: top;\n",
              "    }\n",
              "\n",
              "    .dataframe thead th {\n",
              "        text-align: right;\n",
              "    }\n",
              "</style>\n",
              "<table border=\"1\" class=\"dataframe\">\n",
              "  <thead>\n",
              "    <tr style=\"text-align: right;\">\n",
              "      <th></th>\n",
              "      <th>real</th>\n",
              "      <th>index</th>\n",
              "    </tr>\n",
              "  </thead>\n",
              "  <tbody>\n",
              "    <tr>\n",
              "      <th>1133</th>\n",
              "      <td>9210.100000</td>\n",
              "      <td>1</td>\n",
              "    </tr>\n",
              "    <tr>\n",
              "      <th>1134</th>\n",
              "      <td>9149.600000</td>\n",
              "      <td>2</td>\n",
              "    </tr>\n",
              "    <tr>\n",
              "      <th>1135</th>\n",
              "      <td>9167.328612</td>\n",
              "      <td>3</td>\n",
              "    </tr>\n",
              "    <tr>\n",
              "      <th>1136</th>\n",
              "      <td>9189.100000</td>\n",
              "      <td>4</td>\n",
              "    </tr>\n",
              "    <tr>\n",
              "      <th>1137</th>\n",
              "      <td>9231.200000</td>\n",
              "      <td>5</td>\n",
              "    </tr>\n",
              "    <tr>\n",
              "      <th>1138</th>\n",
              "      <td>9179.200000</td>\n",
              "      <td>6</td>\n",
              "    </tr>\n",
              "    <tr>\n",
              "      <th>1139</th>\n",
              "      <td>9402.000000</td>\n",
              "      <td>7</td>\n",
              "    </tr>\n",
              "    <tr>\n",
              "      <th>1140</th>\n",
              "      <td>9557.700000</td>\n",
              "      <td>8</td>\n",
              "    </tr>\n",
              "    <tr>\n",
              "      <th>1141</th>\n",
              "      <td>9615.000000</td>\n",
              "      <td>9</td>\n",
              "    </tr>\n",
              "    <tr>\n",
              "      <th>1142</th>\n",
              "      <td>9559.100000</td>\n",
              "      <td>10</td>\n",
              "    </tr>\n",
              "    <tr>\n",
              "      <th>1143</th>\n",
              "      <td>9714.890204</td>\n",
              "      <td>11</td>\n",
              "    </tr>\n",
              "    <tr>\n",
              "      <th>1144</th>\n",
              "      <td>9948.400000</td>\n",
              "      <td>12</td>\n",
              "    </tr>\n",
              "    <tr>\n",
              "      <th>1145</th>\n",
              "      <td>11043.962880</td>\n",
              "      <td>13</td>\n",
              "    </tr>\n",
              "    <tr>\n",
              "      <th>1146</th>\n",
              "      <td>10932.000000</td>\n",
              "      <td>14</td>\n",
              "    </tr>\n",
              "    <tr>\n",
              "      <th>1147</th>\n",
              "      <td>11117.000000</td>\n",
              "      <td>15</td>\n",
              "    </tr>\n",
              "    <tr>\n",
              "      <th>1148</th>\n",
              "      <td>11123.000000</td>\n",
              "      <td>16</td>\n",
              "    </tr>\n",
              "    <tr>\n",
              "      <th>1149</th>\n",
              "      <td>11350.000000</td>\n",
              "      <td>17</td>\n",
              "    </tr>\n",
              "    <tr>\n",
              "      <th>1150</th>\n",
              "      <td>11804.744013</td>\n",
              "      <td>18</td>\n",
              "    </tr>\n",
              "    <tr>\n",
              "      <th>1151</th>\n",
              "      <td>11053.772562</td>\n",
              "      <td>19</td>\n",
              "    </tr>\n",
              "    <tr>\n",
              "      <th>1152</th>\n",
              "      <td>11226.521728</td>\n",
              "      <td>20</td>\n",
              "    </tr>\n",
              "    <tr>\n",
              "      <th>1153</th>\n",
              "      <td>11236.000000</td>\n",
              "      <td>21</td>\n",
              "    </tr>\n",
              "  </tbody>\n",
              "</table>\n",
              "</div>"
            ],
            "text/plain": [
              "              real  index\n",
              "1133   9210.100000      1\n",
              "1134   9149.600000      2\n",
              "1135   9167.328612      3\n",
              "1136   9189.100000      4\n",
              "1137   9231.200000      5\n",
              "1138   9179.200000      6\n",
              "1139   9402.000000      7\n",
              "1140   9557.700000      8\n",
              "1141   9615.000000      9\n",
              "1142   9559.100000     10\n",
              "1143   9714.890204     11\n",
              "1144   9948.400000     12\n",
              "1145  11043.962880     13\n",
              "1146  10932.000000     14\n",
              "1147  11117.000000     15\n",
              "1148  11123.000000     16\n",
              "1149  11350.000000     17\n",
              "1150  11804.744013     18\n",
              "1151  11053.772562     19\n",
              "1152  11226.521728     20\n",
              "1153  11236.000000     21"
            ]
          },
          "metadata": {
            "tags": []
          },
          "execution_count": 247
        }
      ]
    },
    {
      "cell_type": "code",
      "metadata": {
        "id": "FsGomujNeKPM",
        "colab_type": "code",
        "colab": {
          "base_uri": "https://localhost:8080/",
          "height": 625
        },
        "outputId": "259ad477-8092-4284-8feb-e533e0ae34f1"
      },
      "source": [
        "# Plot the predicted vs actual in matplot lib\n",
        "import matplotlib.pyplot as plt\n",
        "\n",
        "plt.plot( 'index', 'real', data=y_test_july, marker='o', markerfacecolor='blue', markersize=12, color='skyblue', linewidth=4)\n",
        "\n",
        "plt.plot( 'index', 'NN', data=preds, marker='', color='olive', linewidth=2)\n",
        "\n",
        "plt.xticks(rotation='vertical')\n",
        "\n",
        "plt.legend()"
      ],
      "execution_count": 248,
      "outputs": [
        {
          "output_type": "execute_result",
          "data": {
            "text/plain": [
              "<matplotlib.legend.Legend at 0x7f7d07544ac8>"
            ]
          },
          "metadata": {
            "tags": []
          },
          "execution_count": 248
        },
        {
          "output_type": "display_data",
          "data": {
            "image/png": "[encoded data removed]",
            "text/plain": [
              "<Figure size 1440x720 with 1 Axes>"
            ]
          },
          "metadata": {
            "tags": []
          }
        }
      ]
    }
  ]
}