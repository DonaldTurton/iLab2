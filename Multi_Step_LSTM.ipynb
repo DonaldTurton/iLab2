{
  "nbformat": 4,
  "nbformat_minor": 0,
  "metadata": {
    "colab": {
      "name": "Multi-Step LSTM.ipynb",
      "provenance": [],
      "collapsed_sections": [],
      "toc_visible": true,
      "include_colab_link": true
    },
    "kernelspec": {
      "name": "python3",
      "display_name": "Python 3"
    }
  },
  "cells": [
    {
      "cell_type": "markdown",
      "metadata": {
        "id": "view-in-github",
        "colab_type": "text"
      },
      "source": [
        "<a href=\"https://colab.research.google.com/github/DonaldTurton/iLab2/blob/master/Multi_Step_LSTM.ipynb\" target=\"_parent\"><img src=\"https://colab.research.google.com/assets/colab-badge.svg\" alt=\"Open In Colab\"/></a>"
      ]
    },
    {
      "cell_type": "markdown",
      "metadata": {
        "id": "6H57vSec_RK5"
      },
      "source": [
        "# Multistep LSTM Ilab 2 \"Morpheus\"\n"
      ]
    },
    {
      "cell_type": "markdown",
      "metadata": {
        "id": "9l69Obi3_LWB"
      },
      "source": [
        "# Libraries "
      ]
    },
    {
      "cell_type": "code",
      "metadata": {
        "id": "dMY_0mSOP8r0"
      },
      "source": [
        "%tensorflow_version 2.x"
      ],
      "execution_count": 1,
      "outputs": []
    },
    {
      "cell_type": "code",
      "metadata": {
        "id": "mUKAqLz3V2cC"
      },
      "source": [
        "import tensorflow as tf\n",
        "import pandas as pd\n",
        "import numpy as np\n",
        "import seaborn as sns"
      ],
      "execution_count": 2,
      "outputs": []
    },
    {
      "cell_type": "code",
      "metadata": {
        "id": "uW03EibKuZdx"
      },
      "source": [
        "import matplotlib.pyplot as plt\n",
        "\n",
        "import seaborn as sns\n",
        "# Use seaborn style defaults and set the default figure size\n",
        "sns.set(rc={'figure.figsize':(20, 10)})"
      ],
      "execution_count": 3,
      "outputs": []
    },
    {
      "cell_type": "code",
      "metadata": {
        "id": "IbtnaaIlPdsS"
      },
      "source": [
        "# Set seeds for numpy and tensorflow\n",
        "tf.random.set_seed(12)\n",
        "np.random.seed(12)"
      ],
      "execution_count": 4,
      "outputs": []
    },
    {
      "cell_type": "markdown",
      "metadata": {
        "id": "TgcJimRL_N_e"
      },
      "source": [
        "# Daily Data Set "
      ]
    },
    {
      "cell_type": "code",
      "metadata": {
        "id": "ku7P2pnIQQrd",
        "outputId": "66037d98-09fb-44db-c854-5b253f7ceb09",
        "colab": {
          "base_uri": "https://localhost:8080/",
          "height": 406
        }
      },
      "source": [
        "daily_data_url = \"https://raw.githubusercontent.com/DonaldTurton/iLab2/master/Merged_datasets/bit_eth_xrp_daily.csv\"\n",
        "daily_data = pd.read_csv (daily_data_url)\n",
        "daily_data"
      ],
      "execution_count": 5,
      "outputs": [
        {
          "output_type": "execute_result",
          "data": {
            "text/html": [
              "<div>\n",
              "<style scoped>\n",
              "    .dataframe tbody tr th:only-of-type {\n",
              "        vertical-align: middle;\n",
              "    }\n",
              "\n",
              "    .dataframe tbody tr th {\n",
              "        vertical-align: top;\n",
              "    }\n",
              "\n",
              "    .dataframe thead th {\n",
              "        text-align: right;\n",
              "    }\n",
              "</style>\n",
              "<table border=\"1\" class=\"dataframe\">\n",
              "  <thead>\n",
              "    <tr style=\"text-align: right;\">\n",
              "      <th></th>\n",
              "      <th>time</th>\n",
              "      <th>BTC_open</th>\n",
              "      <th>BTC_close</th>\n",
              "      <th>BTC_vol</th>\n",
              "      <th>ETHER_open</th>\n",
              "      <th>ETHER_close</th>\n",
              "      <th>ETHER_vol</th>\n",
              "      <th>XRP_open</th>\n",
              "      <th>XRP_close</th>\n",
              "      <th>XRP_vol</th>\n",
              "    </tr>\n",
              "  </thead>\n",
              "  <tbody>\n",
              "    <tr>\n",
              "      <th>0</th>\n",
              "      <td>2017-05-19 00:00:00+00:00</td>\n",
              "      <td>1941.900000</td>\n",
              "      <td>1966.500000</td>\n",
              "      <td>23001.542773</td>\n",
              "      <td>98.550000</td>\n",
              "      <td>124.40</td>\n",
              "      <td>257956.362939</td>\n",
              "      <td>0.37999</td>\n",
              "      <td>0.32498</td>\n",
              "      <td>2.130933e+06</td>\n",
              "    </tr>\n",
              "    <tr>\n",
              "      <th>1</th>\n",
              "      <td>2017-05-20 00:00:00+00:00</td>\n",
              "      <td>1966.500000</td>\n",
              "      <td>2059.300000</td>\n",
              "      <td>21690.022393</td>\n",
              "      <td>124.490000</td>\n",
              "      <td>123.03</td>\n",
              "      <td>122882.371427</td>\n",
              "      <td>0.32499</td>\n",
              "      <td>0.34716</td>\n",
              "      <td>3.608873e+06</td>\n",
              "    </tr>\n",
              "    <tr>\n",
              "      <th>2</th>\n",
              "      <td>2017-05-21 00:00:00+00:00</td>\n",
              "      <td>2059.300000</td>\n",
              "      <td>2026.600000</td>\n",
              "      <td>17221.878675</td>\n",
              "      <td>123.490000</td>\n",
              "      <td>146.14</td>\n",
              "      <td>220184.308469</td>\n",
              "      <td>0.34700</td>\n",
              "      <td>0.32700</td>\n",
              "      <td>2.597807e+06</td>\n",
              "    </tr>\n",
              "    <tr>\n",
              "      <th>3</th>\n",
              "      <td>2017-05-22 00:00:00+00:00</td>\n",
              "      <td>2027.000000</td>\n",
              "      <td>2087.300000</td>\n",
              "      <td>57231.824243</td>\n",
              "      <td>146.140000</td>\n",
              "      <td>154.92</td>\n",
              "      <td>473706.454399</td>\n",
              "      <td>0.32700</td>\n",
              "      <td>0.29717</td>\n",
              "      <td>6.474949e+06</td>\n",
              "    </tr>\n",
              "    <tr>\n",
              "      <th>4</th>\n",
              "      <td>2017-05-23 00:00:00+00:00</td>\n",
              "      <td>2087.300000</td>\n",
              "      <td>2249.600000</td>\n",
              "      <td>22521.559138</td>\n",
              "      <td>155.160000</td>\n",
              "      <td>168.24</td>\n",
              "      <td>144988.858583</td>\n",
              "      <td>0.29912</td>\n",
              "      <td>0.32158</td>\n",
              "      <td>3.255225e+06</td>\n",
              "    </tr>\n",
              "    <tr>\n",
              "      <th>...</th>\n",
              "      <td>...</td>\n",
              "      <td>...</td>\n",
              "      <td>...</td>\n",
              "      <td>...</td>\n",
              "      <td>...</td>\n",
              "      <td>...</td>\n",
              "      <td>...</td>\n",
              "      <td>...</td>\n",
              "      <td>...</td>\n",
              "      <td>...</td>\n",
              "    </tr>\n",
              "    <tr>\n",
              "      <th>1169</th>\n",
              "      <td>2020-07-31 00:00:00+00:00</td>\n",
              "      <td>11122.785171</td>\n",
              "      <td>11350.000000</td>\n",
              "      <td>5830.145883</td>\n",
              "      <td>335.360000</td>\n",
              "      <td>346.82</td>\n",
              "      <td>145813.101733</td>\n",
              "      <td>0.24461</td>\n",
              "      <td>0.25983</td>\n",
              "      <td>1.913230e+07</td>\n",
              "    </tr>\n",
              "    <tr>\n",
              "      <th>1170</th>\n",
              "      <td>2020-08-01 00:00:00+00:00</td>\n",
              "      <td>11350.000000</td>\n",
              "      <td>11804.744013</td>\n",
              "      <td>10574.542594</td>\n",
              "      <td>346.814955</td>\n",
              "      <td>387.15</td>\n",
              "      <td>214176.492612</td>\n",
              "      <td>0.25970</td>\n",
              "      <td>0.29103</td>\n",
              "      <td>5.774864e+07</td>\n",
              "    </tr>\n",
              "    <tr>\n",
              "      <th>1171</th>\n",
              "      <td>2020-08-02 00:00:00+00:00</td>\n",
              "      <td>11805.000000</td>\n",
              "      <td>11053.772562</td>\n",
              "      <td>13217.636459</td>\n",
              "      <td>387.030000</td>\n",
              "      <td>371.87</td>\n",
              "      <td>322415.937958</td>\n",
              "      <td>0.29127</td>\n",
              "      <td>0.28764</td>\n",
              "      <td>9.968299e+07</td>\n",
              "    </tr>\n",
              "    <tr>\n",
              "      <th>1172</th>\n",
              "      <td>2020-08-03 00:00:00+00:00</td>\n",
              "      <td>11058.838777</td>\n",
              "      <td>11226.521728</td>\n",
              "      <td>4085.500508</td>\n",
              "      <td>372.060418</td>\n",
              "      <td>385.68</td>\n",
              "      <td>126895.684080</td>\n",
              "      <td>0.28792</td>\n",
              "      <td>0.30974</td>\n",
              "      <td>4.432413e+07</td>\n",
              "    </tr>\n",
              "    <tr>\n",
              "      <th>1173</th>\n",
              "      <td>2020-08-04 00:00:00+00:00</td>\n",
              "      <td>11226.992174</td>\n",
              "      <td>11236.000000</td>\n",
              "      <td>943.231700</td>\n",
              "      <td>385.770000</td>\n",
              "      <td>389.60</td>\n",
              "      <td>121244.381729</td>\n",
              "      <td>0.31023</td>\n",
              "      <td>0.30124</td>\n",
              "      <td>2.510823e+07</td>\n",
              "    </tr>\n",
              "  </tbody>\n",
              "</table>\n",
              "<p>1174 rows × 10 columns</p>\n",
              "</div>"
            ],
            "text/plain": [
              "                           time      BTC_open  ...  XRP_close       XRP_vol\n",
              "0     2017-05-19 00:00:00+00:00   1941.900000  ...    0.32498  2.130933e+06\n",
              "1     2017-05-20 00:00:00+00:00   1966.500000  ...    0.34716  3.608873e+06\n",
              "2     2017-05-21 00:00:00+00:00   2059.300000  ...    0.32700  2.597807e+06\n",
              "3     2017-05-22 00:00:00+00:00   2027.000000  ...    0.29717  6.474949e+06\n",
              "4     2017-05-23 00:00:00+00:00   2087.300000  ...    0.32158  3.255225e+06\n",
              "...                         ...           ...  ...        ...           ...\n",
              "1169  2020-07-31 00:00:00+00:00  11122.785171  ...    0.25983  1.913230e+07\n",
              "1170  2020-08-01 00:00:00+00:00  11350.000000  ...    0.29103  5.774864e+07\n",
              "1171  2020-08-02 00:00:00+00:00  11805.000000  ...    0.28764  9.968299e+07\n",
              "1172  2020-08-03 00:00:00+00:00  11058.838777  ...    0.30974  4.432413e+07\n",
              "1173  2020-08-04 00:00:00+00:00  11226.992174  ...    0.30124  2.510823e+07\n",
              "\n",
              "[1174 rows x 10 columns]"
            ]
          },
          "metadata": {
            "tags": []
          },
          "execution_count": 5
        }
      ]
    },
    {
      "cell_type": "markdown",
      "metadata": {
        "id": "IIwNMTX6vR16"
      },
      "source": [
        "# Univariate Multistep LSTM\n"
      ]
    },
    {
      "cell_type": "markdown",
      "metadata": {
        "id": "Yn_W_qDwvd7r"
      },
      "source": [
        "https://machinelearningmastery.com/how-to-develop-lstm-models-for-time-series-forecasting/"
      ]
    },
    {
      "cell_type": "markdown",
      "metadata": {
        "id": "ckv4JHnHfgsO"
      },
      "source": [
        "## Data Partitioning "
      ]
    },
    {
      "cell_type": "code",
      "metadata": {
        "id": "86h8zkubXh0_"
      },
      "source": [
        "data = daily_data\n",
        "\n",
        "# Isolate the BTC price for the univariate model  \n",
        "#data_seq = data.BTC_close"
      ],
      "execution_count": 6,
      "outputs": []
    },
    {
      "cell_type": "markdown",
      "metadata": {
        "id": "coq7c1QyfnAs"
      },
      "source": [
        "## Data Partitioning"
      ]
    },
    {
      "cell_type": "code",
      "metadata": {
        "id": "G5VVEGRRkGEm",
        "outputId": "f45a651a-8868-430f-869e-f1da92f14c59",
        "colab": {
          "base_uri": "https://localhost:8080/",
          "height": 34
        }
      },
      "source": [
        "len(data)"
      ],
      "execution_count": 7,
      "outputs": [
        {
          "output_type": "execute_result",
          "data": {
            "text/plain": [
              "1174"
            ]
          },
          "metadata": {
            "tags": []
          },
          "execution_count": 7
        }
      ]
    },
    {
      "cell_type": "code",
      "metadata": {
        "id": "Fk2X5F-Qo2m_",
        "outputId": "553f5d71-7708-4a0c-8226-c9149a172805",
        "colab": {
          "base_uri": "https://localhost:8080/",
          "height": 887
        }
      },
      "source": [
        "data[1133:1161]"
      ],
      "execution_count": 8,
      "outputs": [
        {
          "output_type": "execute_result",
          "data": {
            "text/html": [
              "<div>\n",
              "<style scoped>\n",
              "    .dataframe tbody tr th:only-of-type {\n",
              "        vertical-align: middle;\n",
              "    }\n",
              "\n",
              "    .dataframe tbody tr th {\n",
              "        vertical-align: top;\n",
              "    }\n",
              "\n",
              "    .dataframe thead th {\n",
              "        text-align: right;\n",
              "    }\n",
              "</style>\n",
              "<table border=\"1\" class=\"dataframe\">\n",
              "  <thead>\n",
              "    <tr style=\"text-align: right;\">\n",
              "      <th></th>\n",
              "      <th>time</th>\n",
              "      <th>BTC_open</th>\n",
              "      <th>BTC_close</th>\n",
              "      <th>BTC_vol</th>\n",
              "      <th>ETHER_open</th>\n",
              "      <th>ETHER_close</th>\n",
              "      <th>ETHER_vol</th>\n",
              "      <th>XRP_open</th>\n",
              "      <th>XRP_close</th>\n",
              "      <th>XRP_vol</th>\n",
              "    </tr>\n",
              "  </thead>\n",
              "  <tbody>\n",
              "    <tr>\n",
              "      <th>1133</th>\n",
              "      <td>2020-06-25 00:00:00+00:00</td>\n",
              "      <td>9305.200000</td>\n",
              "      <td>9257.034669</td>\n",
              "      <td>5545.253350</td>\n",
              "      <td>234.680000</td>\n",
              "      <td>232.690000</td>\n",
              "      <td>54495.200452</td>\n",
              "      <td>0.18358</td>\n",
              "      <td>0.18171</td>\n",
              "      <td>7.412487e+06</td>\n",
              "    </tr>\n",
              "    <tr>\n",
              "      <th>1134</th>\n",
              "      <td>2020-06-26 00:00:00+00:00</td>\n",
              "      <td>9257.034669</td>\n",
              "      <td>9173.100000</td>\n",
              "      <td>3690.819849</td>\n",
              "      <td>232.690000</td>\n",
              "      <td>229.820000</td>\n",
              "      <td>34442.620990</td>\n",
              "      <td>0.18154</td>\n",
              "      <td>0.18269</td>\n",
              "      <td>5.504637e+06</td>\n",
              "    </tr>\n",
              "    <tr>\n",
              "      <th>1135</th>\n",
              "      <td>2020-06-27 00:00:00+00:00</td>\n",
              "      <td>9173.200000</td>\n",
              "      <td>9015.300000</td>\n",
              "      <td>3371.534670</td>\n",
              "      <td>229.830000</td>\n",
              "      <td>221.130000</td>\n",
              "      <td>56774.993873</td>\n",
              "      <td>0.18278</td>\n",
              "      <td>0.17521</td>\n",
              "      <td>1.099726e+07</td>\n",
              "    </tr>\n",
              "    <tr>\n",
              "      <th>1136</th>\n",
              "      <td>2020-06-28 00:00:00+00:00</td>\n",
              "      <td>9014.800000</td>\n",
              "      <td>9125.366022</td>\n",
              "      <td>2110.236421</td>\n",
              "      <td>221.030000</td>\n",
              "      <td>225.320000</td>\n",
              "      <td>37340.470225</td>\n",
              "      <td>0.17516</td>\n",
              "      <td>0.17704</td>\n",
              "      <td>6.910082e+06</td>\n",
              "    </tr>\n",
              "    <tr>\n",
              "      <th>1137</th>\n",
              "      <td>2020-06-29 00:00:00+00:00</td>\n",
              "      <td>9125.366022</td>\n",
              "      <td>9194.433851</td>\n",
              "      <td>3642.399036</td>\n",
              "      <td>225.120411</td>\n",
              "      <td>228.050000</td>\n",
              "      <td>30406.999118</td>\n",
              "      <td>0.17705</td>\n",
              "      <td>0.17733</td>\n",
              "      <td>5.560761e+06</td>\n",
              "    </tr>\n",
              "    <tr>\n",
              "      <th>1138</th>\n",
              "      <td>2020-06-30 00:00:00+00:00</td>\n",
              "      <td>9194.433851</td>\n",
              "      <td>9150.700000</td>\n",
              "      <td>1832.607917</td>\n",
              "      <td>228.070000</td>\n",
              "      <td>225.800711</td>\n",
              "      <td>16351.389819</td>\n",
              "      <td>0.17759</td>\n",
              "      <td>0.17569</td>\n",
              "      <td>3.531577e+06</td>\n",
              "    </tr>\n",
              "    <tr>\n",
              "      <th>1139</th>\n",
              "      <td>2020-07-01 00:00:00+00:00</td>\n",
              "      <td>9150.646722</td>\n",
              "      <td>9239.900000</td>\n",
              "      <td>2192.376952</td>\n",
              "      <td>225.880000</td>\n",
              "      <td>231.309557</td>\n",
              "      <td>35613.516370</td>\n",
              "      <td>0.17531</td>\n",
              "      <td>0.17666</td>\n",
              "      <td>4.184971e+06</td>\n",
              "    </tr>\n",
              "    <tr>\n",
              "      <th>1140</th>\n",
              "      <td>2020-07-02 00:00:00+00:00</td>\n",
              "      <td>9239.400000</td>\n",
              "      <td>9100.000000</td>\n",
              "      <td>3791.416126</td>\n",
              "      <td>231.290000</td>\n",
              "      <td>226.568972</td>\n",
              "      <td>44597.721846</td>\n",
              "      <td>0.17674</td>\n",
              "      <td>0.17493</td>\n",
              "      <td>7.941520e+06</td>\n",
              "    </tr>\n",
              "    <tr>\n",
              "      <th>1141</th>\n",
              "      <td>2020-07-03 00:00:00+00:00</td>\n",
              "      <td>9100.100000</td>\n",
              "      <td>9073.200000</td>\n",
              "      <td>1086.501913</td>\n",
              "      <td>226.660000</td>\n",
              "      <td>225.330000</td>\n",
              "      <td>12157.182254</td>\n",
              "      <td>0.17478</td>\n",
              "      <td>0.17656</td>\n",
              "      <td>4.648590e+06</td>\n",
              "    </tr>\n",
              "    <tr>\n",
              "      <th>1142</th>\n",
              "      <td>2020-07-04 00:00:00+00:00</td>\n",
              "      <td>9073.200000</td>\n",
              "      <td>9147.700000</td>\n",
              "      <td>1115.809786</td>\n",
              "      <td>225.210000</td>\n",
              "      <td>229.600000</td>\n",
              "      <td>14858.106324</td>\n",
              "      <td>0.17642</td>\n",
              "      <td>0.17834</td>\n",
              "      <td>3.441573e+06</td>\n",
              "    </tr>\n",
              "    <tr>\n",
              "      <th>1143</th>\n",
              "      <td>2020-07-05 00:00:00+00:00</td>\n",
              "      <td>9146.796751</td>\n",
              "      <td>9084.284734</td>\n",
              "      <td>2083.415696</td>\n",
              "      <td>229.590000</td>\n",
              "      <td>227.940000</td>\n",
              "      <td>21435.066723</td>\n",
              "      <td>0.17823</td>\n",
              "      <td>0.17735</td>\n",
              "      <td>4.520961e+06</td>\n",
              "    </tr>\n",
              "    <tr>\n",
              "      <th>1144</th>\n",
              "      <td>2020-07-06 00:00:00+00:00</td>\n",
              "      <td>9089.000000</td>\n",
              "      <td>9361.100000</td>\n",
              "      <td>4260.879274</td>\n",
              "      <td>227.940000</td>\n",
              "      <td>242.130000</td>\n",
              "      <td>64796.782248</td>\n",
              "      <td>0.17718</td>\n",
              "      <td>0.18898</td>\n",
              "      <td>1.357138e+07</td>\n",
              "    </tr>\n",
              "    <tr>\n",
              "      <th>1145</th>\n",
              "      <td>2020-07-07 00:00:00+00:00</td>\n",
              "      <td>9361.124450</td>\n",
              "      <td>9267.514949</td>\n",
              "      <td>1632.391905</td>\n",
              "      <td>242.150000</td>\n",
              "      <td>239.630557</td>\n",
              "      <td>59022.584751</td>\n",
              "      <td>0.18907</td>\n",
              "      <td>0.18543</td>\n",
              "      <td>7.642793e+06</td>\n",
              "    </tr>\n",
              "    <tr>\n",
              "      <th>1146</th>\n",
              "      <td>2020-07-08 00:00:00+00:00</td>\n",
              "      <td>9267.575493</td>\n",
              "      <td>9447.000000</td>\n",
              "      <td>3814.762230</td>\n",
              "      <td>239.640000</td>\n",
              "      <td>247.348342</td>\n",
              "      <td>59661.198862</td>\n",
              "      <td>0.18539</td>\n",
              "      <td>0.20575</td>\n",
              "      <td>2.359403e+07</td>\n",
              "    </tr>\n",
              "    <tr>\n",
              "      <th>1147</th>\n",
              "      <td>2020-07-09 00:00:00+00:00</td>\n",
              "      <td>9447.100000</td>\n",
              "      <td>9248.864169</td>\n",
              "      <td>3707.989457</td>\n",
              "      <td>247.460000</td>\n",
              "      <td>242.400000</td>\n",
              "      <td>56733.108961</td>\n",
              "      <td>0.20572</td>\n",
              "      <td>0.20276</td>\n",
              "      <td>2.635117e+07</td>\n",
              "    </tr>\n",
              "    <tr>\n",
              "      <th>1148</th>\n",
              "      <td>2020-07-10 00:00:00+00:00</td>\n",
              "      <td>9248.900000</td>\n",
              "      <td>9304.600000</td>\n",
              "      <td>1414.350288</td>\n",
              "      <td>242.370000</td>\n",
              "      <td>241.550000</td>\n",
              "      <td>28001.883773</td>\n",
              "      <td>0.20283</td>\n",
              "      <td>0.19941</td>\n",
              "      <td>1.041285e+07</td>\n",
              "    </tr>\n",
              "    <tr>\n",
              "      <th>1149</th>\n",
              "      <td>2020-07-11 00:00:00+00:00</td>\n",
              "      <td>9304.900000</td>\n",
              "      <td>9246.300000</td>\n",
              "      <td>812.760588</td>\n",
              "      <td>241.577323</td>\n",
              "      <td>239.470000</td>\n",
              "      <td>17501.292289</td>\n",
              "      <td>0.19953</td>\n",
              "      <td>0.20124</td>\n",
              "      <td>9.501527e+06</td>\n",
              "    </tr>\n",
              "    <tr>\n",
              "      <th>1150</th>\n",
              "      <td>2020-07-12 00:00:00+00:00</td>\n",
              "      <td>9245.500000</td>\n",
              "      <td>9315.800000</td>\n",
              "      <td>1864.397659</td>\n",
              "      <td>239.549043</td>\n",
              "      <td>243.080000</td>\n",
              "      <td>32395.218495</td>\n",
              "      <td>0.20125</td>\n",
              "      <td>0.20162</td>\n",
              "      <td>7.403644e+06</td>\n",
              "    </tr>\n",
              "    <tr>\n",
              "      <th>1151</th>\n",
              "      <td>2020-07-13 00:00:00+00:00</td>\n",
              "      <td>9320.200000</td>\n",
              "      <td>9252.000000</td>\n",
              "      <td>1927.166582</td>\n",
              "      <td>243.290000</td>\n",
              "      <td>239.900000</td>\n",
              "      <td>37595.043657</td>\n",
              "      <td>0.20152</td>\n",
              "      <td>0.19889</td>\n",
              "      <td>1.566093e+07</td>\n",
              "    </tr>\n",
              "    <tr>\n",
              "      <th>1152</th>\n",
              "      <td>2020-07-14 00:00:00+00:00</td>\n",
              "      <td>9251.600000</td>\n",
              "      <td>9263.400000</td>\n",
              "      <td>2196.062301</td>\n",
              "      <td>239.900000</td>\n",
              "      <td>240.560000</td>\n",
              "      <td>21660.263592</td>\n",
              "      <td>0.19877</td>\n",
              "      <td>0.19924</td>\n",
              "      <td>6.479396e+06</td>\n",
              "    </tr>\n",
              "    <tr>\n",
              "      <th>1153</th>\n",
              "      <td>2020-07-15 00:00:00+00:00</td>\n",
              "      <td>9263.791400</td>\n",
              "      <td>9210.100000</td>\n",
              "      <td>896.448450</td>\n",
              "      <td>240.620000</td>\n",
              "      <td>238.940932</td>\n",
              "      <td>19637.626741</td>\n",
              "      <td>0.19924</td>\n",
              "      <td>0.19740</td>\n",
              "      <td>4.509948e+06</td>\n",
              "    </tr>\n",
              "    <tr>\n",
              "      <th>1154</th>\n",
              "      <td>2020-07-16 00:00:00+00:00</td>\n",
              "      <td>9210.100000</td>\n",
              "      <td>9149.600000</td>\n",
              "      <td>2873.124530</td>\n",
              "      <td>238.940000</td>\n",
              "      <td>233.960000</td>\n",
              "      <td>79198.780953</td>\n",
              "      <td>0.19749</td>\n",
              "      <td>0.19436</td>\n",
              "      <td>9.476175e+06</td>\n",
              "    </tr>\n",
              "    <tr>\n",
              "      <th>1155</th>\n",
              "      <td>2020-07-17 00:00:00+00:00</td>\n",
              "      <td>9149.600000</td>\n",
              "      <td>9167.328612</td>\n",
              "      <td>1063.899492</td>\n",
              "      <td>233.944908</td>\n",
              "      <td>233.180000</td>\n",
              "      <td>18015.061565</td>\n",
              "      <td>0.19470</td>\n",
              "      <td>0.19464</td>\n",
              "      <td>6.043128e+06</td>\n",
              "    </tr>\n",
              "    <tr>\n",
              "      <th>1156</th>\n",
              "      <td>2020-07-18 00:00:00+00:00</td>\n",
              "      <td>9167.328612</td>\n",
              "      <td>9189.100000</td>\n",
              "      <td>1170.865591</td>\n",
              "      <td>233.040000</td>\n",
              "      <td>236.190246</td>\n",
              "      <td>13208.616461</td>\n",
              "      <td>0.19448</td>\n",
              "      <td>0.20019</td>\n",
              "      <td>8.484741e+06</td>\n",
              "    </tr>\n",
              "    <tr>\n",
              "      <th>1157</th>\n",
              "      <td>2020-07-19 00:00:00+00:00</td>\n",
              "      <td>9189.100000</td>\n",
              "      <td>9231.200000</td>\n",
              "      <td>1438.018421</td>\n",
              "      <td>236.124853</td>\n",
              "      <td>239.580000</td>\n",
              "      <td>21246.245392</td>\n",
              "      <td>0.20018</td>\n",
              "      <td>0.19978</td>\n",
              "      <td>9.102401e+06</td>\n",
              "    </tr>\n",
              "    <tr>\n",
              "      <th>1158</th>\n",
              "      <td>2020-07-20 00:00:00+00:00</td>\n",
              "      <td>9231.200000</td>\n",
              "      <td>9179.200000</td>\n",
              "      <td>1381.688967</td>\n",
              "      <td>239.670000</td>\n",
              "      <td>236.430000</td>\n",
              "      <td>23544.554810</td>\n",
              "      <td>0.19992</td>\n",
              "      <td>0.19502</td>\n",
              "      <td>9.040017e+06</td>\n",
              "    </tr>\n",
              "    <tr>\n",
              "      <th>1159</th>\n",
              "      <td>2020-07-21 00:00:00+00:00</td>\n",
              "      <td>9179.200000</td>\n",
              "      <td>9402.000000</td>\n",
              "      <td>5397.905388</td>\n",
              "      <td>236.450000</td>\n",
              "      <td>246.000000</td>\n",
              "      <td>68435.655763</td>\n",
              "      <td>0.19497</td>\n",
              "      <td>0.19990</td>\n",
              "      <td>7.321143e+06</td>\n",
              "    </tr>\n",
              "    <tr>\n",
              "      <th>1160</th>\n",
              "      <td>2020-07-22 00:00:00+00:00</td>\n",
              "      <td>9402.100000</td>\n",
              "      <td>9557.700000</td>\n",
              "      <td>4151.798995</td>\n",
              "      <td>246.040000</td>\n",
              "      <td>264.628789</td>\n",
              "      <td>108831.287230</td>\n",
              "      <td>0.19996</td>\n",
              "      <td>0.20408</td>\n",
              "      <td>9.022933e+06</td>\n",
              "    </tr>\n",
              "  </tbody>\n",
              "</table>\n",
              "</div>"
            ],
            "text/plain": [
              "                           time     BTC_open  ...  XRP_close       XRP_vol\n",
              "1133  2020-06-25 00:00:00+00:00  9305.200000  ...    0.18171  7.412487e+06\n",
              "1134  2020-06-26 00:00:00+00:00  9257.034669  ...    0.18269  5.504637e+06\n",
              "1135  2020-06-27 00:00:00+00:00  9173.200000  ...    0.17521  1.099726e+07\n",
              "1136  2020-06-28 00:00:00+00:00  9014.800000  ...    0.17704  6.910082e+06\n",
              "1137  2020-06-29 00:00:00+00:00  9125.366022  ...    0.17733  5.560761e+06\n",
              "1138  2020-06-30 00:00:00+00:00  9194.433851  ...    0.17569  3.531577e+06\n",
              "1139  2020-07-01 00:00:00+00:00  9150.646722  ...    0.17666  4.184971e+06\n",
              "1140  2020-07-02 00:00:00+00:00  9239.400000  ...    0.17493  7.941520e+06\n",
              "1141  2020-07-03 00:00:00+00:00  9100.100000  ...    0.17656  4.648590e+06\n",
              "1142  2020-07-04 00:00:00+00:00  9073.200000  ...    0.17834  3.441573e+06\n",
              "1143  2020-07-05 00:00:00+00:00  9146.796751  ...    0.17735  4.520961e+06\n",
              "1144  2020-07-06 00:00:00+00:00  9089.000000  ...    0.18898  1.357138e+07\n",
              "1145  2020-07-07 00:00:00+00:00  9361.124450  ...    0.18543  7.642793e+06\n",
              "1146  2020-07-08 00:00:00+00:00  9267.575493  ...    0.20575  2.359403e+07\n",
              "1147  2020-07-09 00:00:00+00:00  9447.100000  ...    0.20276  2.635117e+07\n",
              "1148  2020-07-10 00:00:00+00:00  9248.900000  ...    0.19941  1.041285e+07\n",
              "1149  2020-07-11 00:00:00+00:00  9304.900000  ...    0.20124  9.501527e+06\n",
              "1150  2020-07-12 00:00:00+00:00  9245.500000  ...    0.20162  7.403644e+06\n",
              "1151  2020-07-13 00:00:00+00:00  9320.200000  ...    0.19889  1.566093e+07\n",
              "1152  2020-07-14 00:00:00+00:00  9251.600000  ...    0.19924  6.479396e+06\n",
              "1153  2020-07-15 00:00:00+00:00  9263.791400  ...    0.19740  4.509948e+06\n",
              "1154  2020-07-16 00:00:00+00:00  9210.100000  ...    0.19436  9.476175e+06\n",
              "1155  2020-07-17 00:00:00+00:00  9149.600000  ...    0.19464  6.043128e+06\n",
              "1156  2020-07-18 00:00:00+00:00  9167.328612  ...    0.20019  8.484741e+06\n",
              "1157  2020-07-19 00:00:00+00:00  9189.100000  ...    0.19978  9.102401e+06\n",
              "1158  2020-07-20 00:00:00+00:00  9231.200000  ...    0.19502  9.040017e+06\n",
              "1159  2020-07-21 00:00:00+00:00  9179.200000  ...    0.19990  7.321143e+06\n",
              "1160  2020-07-22 00:00:00+00:00  9402.100000  ...    0.20408  9.022933e+06\n",
              "\n",
              "[28 rows x 10 columns]"
            ]
          },
          "metadata": {
            "tags": []
          },
          "execution_count": 8
        }
      ]
    },
    {
      "cell_type": "code",
      "metadata": {
        "id": "JcxKVLhujKWN"
      },
      "source": [
        "# We will train on first 1153 and test on last 14, ie, 7 steps in and 7 steps out\n",
        "train = data[0:1132]\n",
        "test = data[1133:1161]\n",
        "\n",
        "\n",
        "train = list(train.BTC_close)\n",
        "test = list(test.BTC_close)"
      ],
      "execution_count": 8,
      "outputs": []
    },
    {
      "cell_type": "code",
      "metadata": {
        "id": "CaQA8GRUdRDc"
      },
      "source": [
        "# THIS IS FOR THE MULTI-STEP OUTPUT APPROACH\n",
        "\n",
        "\n",
        "# multi-step data preparation\n",
        "from numpy import array\n",
        " \n",
        "# split a univariate sequence into samples\n",
        "def split_sequence(sequence, n_steps_in, n_steps_out):\n",
        "\tX, y = list(), list()\n",
        "\tfor i in range(len(sequence)):\n",
        "\t\t# find the end of this pattern\n",
        "\t\tend_ix = i + n_steps_in\n",
        "\t\tout_end_ix = end_ix + n_steps_out\n",
        "\t\t# check if we are beyond the sequence\n",
        "\t\tif out_end_ix > len(sequence):\n",
        "\t\t\tbreak\n",
        "\t\t# gather input and output parts of the pattern\n",
        "\t\tseq_x, seq_y = sequence[i:end_ix], sequence[end_ix:out_end_ix]\n",
        "\t\tX.append(seq_x)\n",
        "\t\ty.append(seq_y)\n",
        "\treturn array(X), array(y)\n",
        " \n",
        "# define input sequence for TRAIN\n",
        "train_seq = train\n",
        "# choose a number of time steps\n",
        "n_steps_in, n_steps_out = 14, 14\n",
        "# split into samples\n",
        "X_train, y_train = split_sequence(train_seq, n_steps_in, n_steps_out)\n",
        "# summarize the data\n",
        "\n",
        "\n",
        "# define input sequence for TEST\n",
        "test_seq = test\n",
        "# choose a number of time steps\n",
        "n_steps_in, n_steps_out = 14, 14\n",
        "# split into samples\n",
        "X_test, y_test = split_sequence(test_seq, n_steps_in, n_steps_out)\n",
        "# summarize the data\n",
        "\n",
        "# for i in range(len(X)):\n",
        "# \tprint(X[i], y[i])"
      ],
      "execution_count": 10,
      "outputs": []
    },
    {
      "cell_type": "code",
      "metadata": {
        "id": "CIINrxlle9Hw"
      },
      "source": [
        "# reshape from [samples, timesteps] into [samples, timesteps, features]\n",
        "n_features = 1\n",
        "\n",
        "X_train = X_train.reshape((X_train.shape[0], X_train.shape[1], n_features))\n",
        "X_test = X_test.reshape((X_test.shape[0], X_test.shape[1], n_features))"
      ],
      "execution_count": 11,
      "outputs": []
    },
    {
      "cell_type": "markdown",
      "metadata": {
        "id": "flD69UwPMrwI"
      },
      "source": [
        "# Stacked LSTM Model\n",
        "\n"
      ]
    },
    {
      "cell_type": "code",
      "metadata": {
        "id": "ak1Jnse4fU80"
      },
      "source": [
        "# multivariate output stacked lstm example\n",
        "from numpy import array\n",
        "from numpy import hstack\n",
        "from keras.models import Sequential\n",
        "from keras.layers import LSTM\n",
        "from keras.layers import Dense\n",
        "from keras import optimizers\n",
        "\n",
        "# optimiser\n",
        "#optimizer = optimizers.Adam(0.0001)\n",
        "\n",
        "# define model\n",
        "model = Sequential()\n",
        "model.add(LSTM(50, activation='relu', return_sequences=True, input_shape=(n_steps_in, n_features)))\n",
        "model.add(LSTM(50, activation='relu'))\n",
        "model.add(Dense(n_steps_out))\n",
        "#model.compile(optimizer=optimizer, loss='mse')"
      ],
      "execution_count": 14,
      "outputs": []
    },
    {
      "cell_type": "code",
      "metadata": {
        "id": "TgmuT5dZPMxz"
      },
      "source": [
        "from tensorflow.keras.callbacks import EarlyStopping\n",
        "from tensorflow.keras.callbacks import ReduceLROnPlateau\n",
        "# Use early stopping, change patience as required\n",
        "early_stopping = EarlyStopping(monitor='val_loss', patience=50,verbose=1)\n",
        "# Use reduce LR, change patience and factor as required\n",
        "reduce_lr = ReduceLROnPlateau(monitor='val_loss', factor=0.1, patience=5, min_lr=0.00001, verbose=1)\n",
        "\n",
        "\n",
        "learning_rate = 0.01\n",
        "optimizer = optimizers.Adam(learning_rate = learning_rate)\n",
        "model.compile(optimizer=optimizer, loss='mse')"
      ],
      "execution_count": 15,
      "outputs": []
    },
    {
      "cell_type": "code",
      "metadata": {
        "id": "4cYAXSiTfhmd",
        "outputId": "34732217-97d9-4bb7-c0e5-ad6190015775",
        "colab": {
          "base_uri": "https://localhost:8080/",
          "height": 1000
        }
      },
      "source": [
        "from time import time\n",
        "import time\n",
        "# Fit model\n",
        "tic = time.perf_counter()\n",
        "\n",
        "#model.fit(X_train, y_train, epochs=100, validation_split=0.2) #VALIDATION SPLIT???\n",
        "\n",
        "\n",
        "\n",
        "# Change epochs as necessary\n",
        "history = model.fit(\n",
        "    X_train,\n",
        "    y_train, \n",
        "    epochs=100,\n",
        "    validation_split=0.2,\n",
        "    callbacks = [early_stopping, reduce_lr])\n",
        "\n",
        "\n",
        "\n",
        "toc = time.perf_counter()\n",
        "run_time = (toc-tic)/60\n",
        "print(f'Model ran in: {run_time:0.2f} minutes')"
      ],
      "execution_count": 16,
      "outputs": [
        {
          "output_type": "stream",
          "text": [
            "Epoch 1/100\n",
            "28/28 [==============================] - 1s 24ms/step - loss: 21448728.0000 - val_loss: 4754290.0000\n",
            "Epoch 2/100\n",
            "28/28 [==============================] - 0s 14ms/step - loss: 5386676.5000 - val_loss: 1755110.2500\n",
            "Epoch 3/100\n",
            "28/28 [==============================] - 0s 13ms/step - loss: 2761877.2500 - val_loss: 1565243.6250\n",
            "Epoch 4/100\n",
            "28/28 [==============================] - 0s 13ms/step - loss: 2874621.7500 - val_loss: 1581373.8750\n",
            "Epoch 5/100\n",
            "28/28 [==============================] - 0s 13ms/step - loss: 2583612.5000 - val_loss: 1654533.3750\n",
            "Epoch 6/100\n",
            "28/28 [==============================] - 0s 13ms/step - loss: 4887355.0000 - val_loss: 6340360.5000\n",
            "Epoch 7/100\n",
            "28/28 [==============================] - 0s 13ms/step - loss: 4298088.0000 - val_loss: 1847580.0000\n",
            "Epoch 8/100\n",
            "28/28 [==============================] - 0s 13ms/step - loss: 2417744.5000 - val_loss: 1345247.8750\n",
            "Epoch 9/100\n",
            "28/28 [==============================] - 0s 14ms/step - loss: 2255711.2500 - val_loss: 1420549.5000\n",
            "Epoch 10/100\n",
            "28/28 [==============================] - 0s 14ms/step - loss: 2270758.0000 - val_loss: 1350231.0000\n",
            "Epoch 11/100\n",
            "28/28 [==============================] - 0s 13ms/step - loss: 2365760.2500 - val_loss: 1919533.8750\n",
            "Epoch 12/100\n",
            "28/28 [==============================] - 0s 13ms/step - loss: 2320209.7500 - val_loss: 1230696.0000\n",
            "Epoch 13/100\n",
            "28/28 [==============================] - 0s 14ms/step - loss: 2052950.8750 - val_loss: 1198730.7500\n",
            "Epoch 14/100\n",
            "28/28 [==============================] - 0s 13ms/step - loss: 1971560.5000 - val_loss: 1076365.8750\n",
            "Epoch 15/100\n",
            "28/28 [==============================] - 0s 14ms/step - loss: 1859429.1250 - val_loss: 1231521.0000\n",
            "Epoch 16/100\n",
            "28/28 [==============================] - 0s 13ms/step - loss: 2009085.0000 - val_loss: 1139833.1250\n",
            "Epoch 17/100\n",
            "28/28 [==============================] - 0s 13ms/step - loss: 1974153.2500 - val_loss: 1166803.1250\n",
            "Epoch 18/100\n",
            "28/28 [==============================] - 0s 13ms/step - loss: 1786037.7500 - val_loss: 1128748.5000\n",
            "Epoch 19/100\n",
            "24/28 [========================>.....] - ETA: 0s - loss: 1770680.5000\n",
            "Epoch 00019: ReduceLROnPlateau reducing learning rate to 0.0009999999776482583.\n",
            "28/28 [==============================] - 0s 13ms/step - loss: 1871110.6250 - val_loss: 1091267.3750\n",
            "Epoch 20/100\n",
            "28/28 [==============================] - 0s 13ms/step - loss: 1728146.1250 - val_loss: 1131364.3750\n",
            "Epoch 21/100\n",
            "28/28 [==============================] - 0s 13ms/step - loss: 1794421.0000 - val_loss: 967406.0625\n",
            "Epoch 22/100\n",
            "28/28 [==============================] - 0s 14ms/step - loss: 1703051.5000 - val_loss: 985865.6875\n",
            "Epoch 23/100\n",
            "28/28 [==============================] - 0s 13ms/step - loss: 1664492.7500 - val_loss: 973163.3750\n",
            "Epoch 24/100\n",
            "28/28 [==============================] - 0s 13ms/step - loss: 1661007.3750 - val_loss: 993460.0625\n",
            "Epoch 25/100\n",
            "28/28 [==============================] - 0s 13ms/step - loss: 1659977.8750 - val_loss: 945560.3750\n",
            "Epoch 26/100\n",
            "28/28 [==============================] - 0s 13ms/step - loss: 1654220.6250 - val_loss: 945265.3750\n",
            "Epoch 27/100\n",
            "28/28 [==============================] - 0s 14ms/step - loss: 1658235.3750 - val_loss: 975555.5625\n",
            "Epoch 28/100\n",
            "28/28 [==============================] - 0s 14ms/step - loss: 1662967.5000 - val_loss: 928542.2500\n",
            "Epoch 29/100\n",
            "28/28 [==============================] - 0s 13ms/step - loss: 1652887.5000 - val_loss: 942934.1250\n",
            "Epoch 30/100\n",
            "28/28 [==============================] - 0s 13ms/step - loss: 1639599.0000 - val_loss: 965334.8125\n",
            "Epoch 31/100\n",
            "28/28 [==============================] - 0s 13ms/step - loss: 1653938.0000 - val_loss: 948831.0000\n",
            "Epoch 32/100\n",
            "28/28 [==============================] - 0s 13ms/step - loss: 1637661.0000 - val_loss: 948605.3125\n",
            "Epoch 33/100\n",
            "25/28 [=========================>....] - ETA: 0s - loss: 1637107.6250\n",
            "Epoch 00033: ReduceLROnPlateau reducing learning rate to 9.999999310821295e-05.\n",
            "28/28 [==============================] - 0s 13ms/step - loss: 1634526.5000 - val_loss: 939687.3750\n",
            "Epoch 34/100\n",
            "28/28 [==============================] - 0s 13ms/step - loss: 1616317.5000 - val_loss: 933811.2500\n",
            "Epoch 35/100\n",
            "28/28 [==============================] - 0s 14ms/step - loss: 1609474.5000 - val_loss: 936752.9375\n",
            "Epoch 36/100\n",
            "28/28 [==============================] - 0s 13ms/step - loss: 1606218.8750 - val_loss: 938349.5625\n",
            "Epoch 37/100\n",
            "28/28 [==============================] - 0s 13ms/step - loss: 1607274.2500 - val_loss: 938525.7500\n",
            "Epoch 38/100\n",
            "28/28 [==============================] - ETA: 0s - loss: 1612240.3750\n",
            "Epoch 00038: ReduceLROnPlateau reducing learning rate to 1e-05.\n",
            "28/28 [==============================] - 1s 22ms/step - loss: 1612240.3750 - val_loss: 940679.3750\n",
            "Epoch 39/100\n",
            "28/28 [==============================] - 1s 22ms/step - loss: 1604044.5000 - val_loss: 940410.8125\n",
            "Epoch 40/100\n",
            "28/28 [==============================] - 1s 22ms/step - loss: 1604216.8750 - val_loss: 940875.5000\n",
            "Epoch 41/100\n",
            "28/28 [==============================] - 1s 23ms/step - loss: 1604025.0000 - val_loss: 940529.3125\n",
            "Epoch 42/100\n",
            "28/28 [==============================] - 1s 25ms/step - loss: 1603911.2500 - val_loss: 940316.9375\n",
            "Epoch 43/100\n",
            "28/28 [==============================] - 1s 22ms/step - loss: 1603898.6250 - val_loss: 940325.7500\n",
            "Epoch 44/100\n",
            "28/28 [==============================] - 1s 22ms/step - loss: 1604448.7500 - val_loss: 939511.1875\n",
            "Epoch 45/100\n",
            "28/28 [==============================] - 1s 22ms/step - loss: 1604253.5000 - val_loss: 939278.1875\n",
            "Epoch 46/100\n",
            "28/28 [==============================] - 1s 23ms/step - loss: 1603888.3750 - val_loss: 939795.5000\n",
            "Epoch 47/100\n",
            "28/28 [==============================] - 1s 22ms/step - loss: 1603798.7500 - val_loss: 940500.4375\n",
            "Epoch 48/100\n",
            "28/28 [==============================] - 1s 22ms/step - loss: 1603603.0000 - val_loss: 940226.0000\n",
            "Epoch 49/100\n",
            "28/28 [==============================] - 1s 23ms/step - loss: 1603473.0000 - val_loss: 940186.6250\n",
            "Epoch 50/100\n",
            "28/28 [==============================] - 1s 22ms/step - loss: 1603464.8750 - val_loss: 940038.5625\n",
            "Epoch 51/100\n",
            "28/28 [==============================] - 1s 23ms/step - loss: 1603688.2500 - val_loss: 940221.8750\n",
            "Epoch 52/100\n",
            "28/28 [==============================] - 0s 14ms/step - loss: 1603561.8750 - val_loss: 939748.0000\n",
            "Epoch 53/100\n",
            "28/28 [==============================] - 0s 14ms/step - loss: 1603911.2500 - val_loss: 940298.1875\n",
            "Epoch 54/100\n",
            "28/28 [==============================] - 0s 13ms/step - loss: 1603447.8750 - val_loss: 940080.7500\n",
            "Epoch 55/100\n",
            "28/28 [==============================] - 0s 14ms/step - loss: 1603833.5000 - val_loss: 939575.6250\n",
            "Epoch 56/100\n",
            "28/28 [==============================] - 0s 14ms/step - loss: 1603467.5000 - val_loss: 940371.7500\n",
            "Epoch 57/100\n",
            "28/28 [==============================] - 0s 14ms/step - loss: 1603634.6250 - val_loss: 940583.2500\n",
            "Epoch 58/100\n",
            "28/28 [==============================] - 0s 14ms/step - loss: 1603703.1250 - val_loss: 939960.8125\n",
            "Epoch 59/100\n",
            "28/28 [==============================] - 0s 13ms/step - loss: 1604195.5000 - val_loss: 939818.8125\n",
            "Epoch 60/100\n",
            "28/28 [==============================] - 0s 13ms/step - loss: 1603861.3750 - val_loss: 940160.1875\n",
            "Epoch 61/100\n",
            "28/28 [==============================] - 0s 14ms/step - loss: 1603331.7500 - val_loss: 939766.8125\n",
            "Epoch 62/100\n",
            "28/28 [==============================] - 0s 14ms/step - loss: 1603201.1250 - val_loss: 939761.7500\n",
            "Epoch 63/100\n",
            "28/28 [==============================] - 0s 13ms/step - loss: 1603381.1250 - val_loss: 939602.1875\n",
            "Epoch 64/100\n",
            "28/28 [==============================] - 0s 14ms/step - loss: 1603479.7500 - val_loss: 940506.2500\n",
            "Epoch 65/100\n",
            "28/28 [==============================] - 0s 14ms/step - loss: 1603272.7500 - val_loss: 940170.9375\n",
            "Epoch 66/100\n",
            "28/28 [==============================] - 0s 14ms/step - loss: 1603118.0000 - val_loss: 939658.8125\n",
            "Epoch 67/100\n",
            "28/28 [==============================] - 0s 14ms/step - loss: 1603395.3750 - val_loss: 938854.0625\n",
            "Epoch 68/100\n",
            "28/28 [==============================] - 0s 14ms/step - loss: 1602848.6250 - val_loss: 939809.9375\n",
            "Epoch 69/100\n",
            "28/28 [==============================] - 0s 14ms/step - loss: 1603039.0000 - val_loss: 940034.3750\n",
            "Epoch 70/100\n",
            "28/28 [==============================] - 0s 14ms/step - loss: 1603290.5000 - val_loss: 939941.1875\n",
            "Epoch 71/100\n",
            "28/28 [==============================] - 0s 13ms/step - loss: 1602871.0000 - val_loss: 939661.1250\n",
            "Epoch 72/100\n",
            "28/28 [==============================] - 0s 13ms/step - loss: 1603027.1250 - val_loss: 939766.7500\n",
            "Epoch 73/100\n",
            "28/28 [==============================] - 0s 14ms/step - loss: 1602695.0000 - val_loss: 939649.0000\n",
            "Epoch 74/100\n",
            "28/28 [==============================] - 0s 13ms/step - loss: 1603158.7500 - val_loss: 939703.6250\n",
            "Epoch 75/100\n",
            "28/28 [==============================] - 0s 14ms/step - loss: 1602902.7500 - val_loss: 939252.8750\n",
            "Epoch 76/100\n",
            "28/28 [==============================] - 0s 14ms/step - loss: 1602936.0000 - val_loss: 939561.0000\n",
            "Epoch 77/100\n",
            "28/28 [==============================] - 0s 14ms/step - loss: 1602995.8750 - val_loss: 939610.8125\n",
            "Epoch 78/100\n",
            "28/28 [==============================] - 0s 14ms/step - loss: 1602588.2500 - val_loss: 939521.1875\n",
            "Epoch 00078: early stopping\n",
            "Model ran in: 0.61 minutes\n"
          ],
          "name": "stdout"
        }
      ]
    },
    {
      "cell_type": "markdown",
      "metadata": {
        "id": "KA-Wd2yKf0el"
      },
      "source": [
        "### Model Evaluation"
      ]
    },
    {
      "cell_type": "code",
      "metadata": {
        "id": "GRCMtLU1Qfqs",
        "outputId": "64b92d81-0a61-4ecd-9465-38cf3d767055",
        "colab": {
          "base_uri": "https://localhost:8080/",
          "height": 626
        }
      },
      "source": [
        "# Plot training Process \n",
        "\n",
        "plt.plot(history.history['loss'], label='Training', color = 'blue')\n",
        "plt.plot(history.history['val_loss'], label='Validation', color = 'orange')\n",
        "plt.ylabel('Loss')\n",
        "plt.xlabel('Epoch')\n",
        "plt.title(\"plt_title\")\n",
        "plt.legend()\n",
        "plt.show()"
      ],
      "execution_count": 17,
      "outputs": [
        {
          "output_type": "display_data",
          "data": {
            "image/png": "[encoded data removed]",
            "text/plain": [
              "<Figure size 1440x720 with 1 Axes>"
            ]
          },
          "metadata": {
            "tags": []
          }
        }
      ]
    },
    {
      "cell_type": "markdown",
      "metadata": {
        "id": "xNmT50Pff5JA"
      },
      "source": [
        "### Prediction Evaluation"
      ]
    },
    {
      "cell_type": "code",
      "metadata": {
        "id": "waDnp_CLrA1K"
      },
      "source": [
        "# Create the predictions data frame\n",
        "yhat_stacked = pd.DataFrame(np.reshape(np.array(model.predict(X_test, verbose=0)), (14,1))) \n",
        "\n",
        "yhat_stacked.columns = ['predictions']"
      ],
      "execution_count": 18,
      "outputs": []
    },
    {
      "cell_type": "code",
      "metadata": {
        "id": "WkumLKVZrlng"
      },
      "source": [
        "# Create the test set data frame\n",
        "y_test = pd.DataFrame(np.reshape(np.array(y_test), (14,1)))\n",
        "\n",
        "y_test.columns = ['real']"
      ],
      "execution_count": 19,
      "outputs": []
    },
    {
      "cell_type": "code",
      "metadata": {
        "id": "-6pN-BJBsNRH",
        "outputId": "b64e7d70-db3b-4c3a-9cbe-a81146d987e5",
        "colab": {
          "base_uri": "https://localhost:8080/",
          "height": 594
        }
      },
      "source": [
        "# Plot the predictions against the truth\n",
        "plt.plot(yhat_stacked.index, yhat_stacked.predictions, label='Predicted')\n",
        "plt.plot(y_test.index, y_test.real,label='Test Value')\n",
        "plt.legend()\n",
        "plt.show()\n"
      ],
      "execution_count": 20,
      "outputs": [
        {
          "output_type": "display_data",
          "data": {
            "image/png": "[encoded data removed]",
            "text/plain": [
              "<Figure size 1440x720 with 1 Axes>"
            ]
          },
          "metadata": {
            "tags": []
          }
        }
      ]
    },
    {
      "cell_type": "code",
      "metadata": {
        "id": "PzHtY8eavqH0",
        "outputId": "c8887d30-a4d1-4fc8-b73e-1bca0dbd66d3",
        "colab": {
          "base_uri": "https://localhost:8080/",
          "height": 34
        }
      },
      "source": [
        "def rmse(predictions, targets):\n",
        "    return np.sqrt(((predictions - targets) ** 2).mean())\n",
        "\n",
        "rmse_val = rmse(yhat_stacked.predictions, y_test.real)\n",
        "\n",
        "rmse_val"
      ],
      "execution_count": 21,
      "outputs": [
        {
          "output_type": "execute_result",
          "data": {
            "text/plain": [
              "167.515221098868"
            ]
          },
          "metadata": {
            "tags": []
          },
          "execution_count": 21
        }
      ]
    },
    {
      "cell_type": "markdown",
      "metadata": {
        "id": "PIKEP0pk6TIN"
      },
      "source": [
        "# Enconder Decoder Univariate Multistep LSTM\n"
      ]
    },
    {
      "cell_type": "markdown",
      "metadata": {
        "id": "cv8A4If1f8aY"
      },
      "source": [
        "# Model"
      ]
    },
    {
      "cell_type": "code",
      "metadata": {
        "id": "x-wJQPd93tAF"
      },
      "source": [
        "# univariate multi-step encoder-decoder lstm example\n",
        "from numpy import array\n",
        "from keras.models import Sequential\n",
        "from keras.layers import LSTM\n",
        "from keras.layers import Dense\n",
        "from keras.layers import RepeatVector\n",
        "from keras.layers import TimeDistributed"
      ],
      "execution_count": 47,
      "outputs": []
    },
    {
      "cell_type": "code",
      "metadata": {
        "id": "gLbwMoWB2rmk"
      },
      "source": [
        "#Define the same modelling procure as the multi-step univariate LSTM, but include the RepeatVector function between each LSTM layer\n",
        "# define model\n",
        "model = Sequential()\n",
        "model.add(LSTM(50, activation='relu', input_shape=(n_steps_in, n_features)))\n",
        "model.add(RepeatVector(n_steps_out))\n",
        "model.add(LSTM(50, activation='relu', return_sequences=True))\n",
        "model.add(TimeDistributed(Dense(1)))\n",
        "#model.compile(optimizer='adam', loss='mse')"
      ],
      "execution_count": 48,
      "outputs": []
    },
    {
      "cell_type": "code",
      "metadata": {
        "id": "KYOCrAcOgEMy"
      },
      "source": [
        "#Set Callbacks\n",
        "from tensorflow.keras.callbacks import EarlyStopping\n",
        "from tensorflow.keras.callbacks import ReduceLROnPlateau\n",
        "# Use early stopping, change patience as required\n",
        "early_stopping = EarlyStopping(monitor='val_loss', patience=50,verbose=1)\n",
        "# Use reduce LR, change patience and factor as required\n",
        "reduce_lr = ReduceLROnPlateau(monitor='val_loss', factor=0.1, patience=5, min_lr=0.00001, verbose=1)\n",
        "\n",
        "\n",
        "learning_rate = 0.01\n",
        "optimizer = optimizers.Adam(learning_rate = learning_rate)\n",
        "\n",
        "\n",
        "model.compile(optimizer=optimizer, loss='mse')"
      ],
      "execution_count": 49,
      "outputs": []
    },
    {
      "cell_type": "code",
      "metadata": {
        "id": "VXVyDI1Z30Y0",
        "outputId": "e035f71d-cb12-4d57-b5ac-a1a7e8a231ce",
        "colab": {
          "base_uri": "https://localhost:8080/",
          "height": 780
        }
      },
      "source": [
        "# fit model\n",
        "#model.fit(X_train, y_train, epochs=100, validation_split=0.2)\n",
        "\n",
        "from time import time\n",
        "import time\n",
        "# Fit model\n",
        "tic = time.perf_counter()\n",
        "\n",
        "#model.fit(X_train, y_train, epochs=100, validation_split=0.2) #VALIDATION SPLIT???\n",
        "\n",
        "\n",
        "\n",
        "# Change epochs as necessary\n",
        "history = model.fit(\n",
        "    X_train,\n",
        "    y_train, \n",
        "    epochs=100,\n",
        "    validation_split=0.2,\n",
        "    callbacks = [early_stopping, reduce_lr])\n",
        "\n",
        "\n",
        "\n",
        "toc = time.perf_counter()\n",
        "run_time = (toc-tic)/60\n",
        "print(f'Model ran in: {run_time:0.2f} minutes')"
      ],
      "execution_count": 50,
      "outputs": [
        {
          "output_type": "stream",
          "text": [
            "Epoch 1/100\n"
          ],
          "name": "stdout"
        },
        {
          "output_type": "error",
          "ename": "ValueError",
          "evalue": "ignored",
          "traceback": [
            "\u001b[0;31m---------------------------------------------------------------------------\u001b[0m",
            "\u001b[0;31mValueError\u001b[0m                                Traceback (most recent call last)",
            "\u001b[0;32m<ipython-input-50-65281dcd1161>\u001b[0m in \u001b[0;36m<module>\u001b[0;34m()\u001b[0m\n\u001b[1;32m     17\u001b[0m     \u001b[0mepochs\u001b[0m\u001b[0;34m=\u001b[0m\u001b[0;36m100\u001b[0m\u001b[0;34m,\u001b[0m\u001b[0;34m\u001b[0m\u001b[0;34m\u001b[0m\u001b[0m\n\u001b[1;32m     18\u001b[0m     \u001b[0mvalidation_split\u001b[0m\u001b[0;34m=\u001b[0m\u001b[0;36m0.2\u001b[0m\u001b[0;34m,\u001b[0m\u001b[0;34m\u001b[0m\u001b[0;34m\u001b[0m\u001b[0m\n\u001b[0;32m---> 19\u001b[0;31m     callbacks = [early_stopping, reduce_lr])\n\u001b[0m\u001b[1;32m     20\u001b[0m \u001b[0;34m\u001b[0m\u001b[0m\n\u001b[1;32m     21\u001b[0m \u001b[0;34m\u001b[0m\u001b[0m\n",
            "\u001b[0;32m/usr/local/lib/python3.6/dist-packages/tensorflow/python/keras/engine/training.py\u001b[0m in \u001b[0;36m_method_wrapper\u001b[0;34m(self, *args, **kwargs)\u001b[0m\n\u001b[1;32m    106\u001b[0m   \u001b[0;32mdef\u001b[0m \u001b[0m_method_wrapper\u001b[0m\u001b[0;34m(\u001b[0m\u001b[0mself\u001b[0m\u001b[0;34m,\u001b[0m \u001b[0;34m*\u001b[0m\u001b[0margs\u001b[0m\u001b[0;34m,\u001b[0m \u001b[0;34m**\u001b[0m\u001b[0mkwargs\u001b[0m\u001b[0;34m)\u001b[0m\u001b[0;34m:\u001b[0m\u001b[0;34m\u001b[0m\u001b[0;34m\u001b[0m\u001b[0m\n\u001b[1;32m    107\u001b[0m     \u001b[0;32mif\u001b[0m \u001b[0;32mnot\u001b[0m \u001b[0mself\u001b[0m\u001b[0;34m.\u001b[0m\u001b[0m_in_multi_worker_mode\u001b[0m\u001b[0;34m(\u001b[0m\u001b[0;34m)\u001b[0m\u001b[0;34m:\u001b[0m  \u001b[0;31m# pylint: disable=protected-access\u001b[0m\u001b[0;34m\u001b[0m\u001b[0;34m\u001b[0m\u001b[0m\n\u001b[0;32m--> 108\u001b[0;31m       \u001b[0;32mreturn\u001b[0m \u001b[0mmethod\u001b[0m\u001b[0;34m(\u001b[0m\u001b[0mself\u001b[0m\u001b[0;34m,\u001b[0m \u001b[0;34m*\u001b[0m\u001b[0margs\u001b[0m\u001b[0;34m,\u001b[0m \u001b[0;34m**\u001b[0m\u001b[0mkwargs\u001b[0m\u001b[0;34m)\u001b[0m\u001b[0;34m\u001b[0m\u001b[0;34m\u001b[0m\u001b[0m\n\u001b[0m\u001b[1;32m    109\u001b[0m \u001b[0;34m\u001b[0m\u001b[0m\n\u001b[1;32m    110\u001b[0m     \u001b[0;31m# Running inside `run_distribute_coordinator` already.\u001b[0m\u001b[0;34m\u001b[0m\u001b[0;34m\u001b[0m\u001b[0;34m\u001b[0m\u001b[0m\n",
            "\u001b[0;32m/usr/local/lib/python3.6/dist-packages/tensorflow/python/keras/engine/training.py\u001b[0m in \u001b[0;36mfit\u001b[0;34m(self, x, y, batch_size, epochs, verbose, callbacks, validation_split, validation_data, shuffle, class_weight, sample_weight, initial_epoch, steps_per_epoch, validation_steps, validation_batch_size, validation_freq, max_queue_size, workers, use_multiprocessing)\u001b[0m\n\u001b[1;32m   1096\u001b[0m                 batch_size=batch_size):\n\u001b[1;32m   1097\u001b[0m               \u001b[0mcallbacks\u001b[0m\u001b[0;34m.\u001b[0m\u001b[0mon_train_batch_begin\u001b[0m\u001b[0;34m(\u001b[0m\u001b[0mstep\u001b[0m\u001b[0;34m)\u001b[0m\u001b[0;34m\u001b[0m\u001b[0;34m\u001b[0m\u001b[0m\n\u001b[0;32m-> 1098\u001b[0;31m               \u001b[0mtmp_logs\u001b[0m \u001b[0;34m=\u001b[0m \u001b[0mtrain_function\u001b[0m\u001b[0;34m(\u001b[0m\u001b[0miterator\u001b[0m\u001b[0;34m)\u001b[0m\u001b[0;34m\u001b[0m\u001b[0;34m\u001b[0m\u001b[0m\n\u001b[0m\u001b[1;32m   1099\u001b[0m               \u001b[0;32mif\u001b[0m \u001b[0mdata_handler\u001b[0m\u001b[0;34m.\u001b[0m\u001b[0mshould_sync\u001b[0m\u001b[0;34m:\u001b[0m\u001b[0;34m\u001b[0m\u001b[0;34m\u001b[0m\u001b[0m\n\u001b[1;32m   1100\u001b[0m                 \u001b[0mcontext\u001b[0m\u001b[0;34m.\u001b[0m\u001b[0masync_wait\u001b[0m\u001b[0;34m(\u001b[0m\u001b[0;34m)\u001b[0m\u001b[0;34m\u001b[0m\u001b[0;34m\u001b[0m\u001b[0m\n",
            "\u001b[0;32m/usr/local/lib/python3.6/dist-packages/tensorflow/python/eager/def_function.py\u001b[0m in \u001b[0;36m__call__\u001b[0;34m(self, *args, **kwds)\u001b[0m\n\u001b[1;32m    778\u001b[0m       \u001b[0;32melse\u001b[0m\u001b[0;34m:\u001b[0m\u001b[0;34m\u001b[0m\u001b[0;34m\u001b[0m\u001b[0m\n\u001b[1;32m    779\u001b[0m         \u001b[0mcompiler\u001b[0m \u001b[0;34m=\u001b[0m \u001b[0;34m\"nonXla\"\u001b[0m\u001b[0;34m\u001b[0m\u001b[0;34m\u001b[0m\u001b[0m\n\u001b[0;32m--> 780\u001b[0;31m         \u001b[0mresult\u001b[0m \u001b[0;34m=\u001b[0m \u001b[0mself\u001b[0m\u001b[0;34m.\u001b[0m\u001b[0m_call\u001b[0m\u001b[0;34m(\u001b[0m\u001b[0;34m*\u001b[0m\u001b[0margs\u001b[0m\u001b[0;34m,\u001b[0m \u001b[0;34m**\u001b[0m\u001b[0mkwds\u001b[0m\u001b[0;34m)\u001b[0m\u001b[0;34m\u001b[0m\u001b[0;34m\u001b[0m\u001b[0m\n\u001b[0m\u001b[1;32m    781\u001b[0m \u001b[0;34m\u001b[0m\u001b[0m\n\u001b[1;32m    782\u001b[0m       \u001b[0mnew_tracing_count\u001b[0m \u001b[0;34m=\u001b[0m \u001b[0mself\u001b[0m\u001b[0;34m.\u001b[0m\u001b[0m_get_tracing_count\u001b[0m\u001b[0;34m(\u001b[0m\u001b[0;34m)\u001b[0m\u001b[0;34m\u001b[0m\u001b[0;34m\u001b[0m\u001b[0m\n",
            "\u001b[0;32m/usr/local/lib/python3.6/dist-packages/tensorflow/python/eager/def_function.py\u001b[0m in \u001b[0;36m_call\u001b[0;34m(self, *args, **kwds)\u001b[0m\n\u001b[1;32m    821\u001b[0m       \u001b[0;31m# This is the first call of __call__, so we have to initialize.\u001b[0m\u001b[0;34m\u001b[0m\u001b[0;34m\u001b[0m\u001b[0;34m\u001b[0m\u001b[0m\n\u001b[1;32m    822\u001b[0m       \u001b[0minitializers\u001b[0m \u001b[0;34m=\u001b[0m \u001b[0;34m[\u001b[0m\u001b[0;34m]\u001b[0m\u001b[0;34m\u001b[0m\u001b[0;34m\u001b[0m\u001b[0m\n\u001b[0;32m--> 823\u001b[0;31m       \u001b[0mself\u001b[0m\u001b[0;34m.\u001b[0m\u001b[0m_initialize\u001b[0m\u001b[0;34m(\u001b[0m\u001b[0margs\u001b[0m\u001b[0;34m,\u001b[0m \u001b[0mkwds\u001b[0m\u001b[0;34m,\u001b[0m \u001b[0madd_initializers_to\u001b[0m\u001b[0;34m=\u001b[0m\u001b[0minitializers\u001b[0m\u001b[0;34m)\u001b[0m\u001b[0;34m\u001b[0m\u001b[0;34m\u001b[0m\u001b[0m\n\u001b[0m\u001b[1;32m    824\u001b[0m     \u001b[0;32mfinally\u001b[0m\u001b[0;34m:\u001b[0m\u001b[0;34m\u001b[0m\u001b[0;34m\u001b[0m\u001b[0m\n\u001b[1;32m    825\u001b[0m       \u001b[0;31m# At this point we know that the initialization is complete (or less\u001b[0m\u001b[0;34m\u001b[0m\u001b[0;34m\u001b[0m\u001b[0;34m\u001b[0m\u001b[0m\n",
            "\u001b[0;32m/usr/local/lib/python3.6/dist-packages/tensorflow/python/eager/def_function.py\u001b[0m in \u001b[0;36m_initialize\u001b[0;34m(self, args, kwds, add_initializers_to)\u001b[0m\n\u001b[1;32m    695\u001b[0m     self._concrete_stateful_fn = (\n\u001b[1;32m    696\u001b[0m         self._stateful_fn._get_concrete_function_internal_garbage_collected(  # pylint: disable=protected-access\n\u001b[0;32m--> 697\u001b[0;31m             *args, **kwds))\n\u001b[0m\u001b[1;32m    698\u001b[0m \u001b[0;34m\u001b[0m\u001b[0m\n\u001b[1;32m    699\u001b[0m     \u001b[0;32mdef\u001b[0m \u001b[0minvalid_creator_scope\u001b[0m\u001b[0;34m(\u001b[0m\u001b[0;34m*\u001b[0m\u001b[0munused_args\u001b[0m\u001b[0;34m,\u001b[0m \u001b[0;34m**\u001b[0m\u001b[0munused_kwds\u001b[0m\u001b[0;34m)\u001b[0m\u001b[0;34m:\u001b[0m\u001b[0;34m\u001b[0m\u001b[0;34m\u001b[0m\u001b[0m\n",
            "\u001b[0;32m/usr/local/lib/python3.6/dist-packages/tensorflow/python/eager/function.py\u001b[0m in \u001b[0;36m_get_concrete_function_internal_garbage_collected\u001b[0;34m(self, *args, **kwargs)\u001b[0m\n\u001b[1;32m   2853\u001b[0m       \u001b[0margs\u001b[0m\u001b[0;34m,\u001b[0m \u001b[0mkwargs\u001b[0m \u001b[0;34m=\u001b[0m \u001b[0;32mNone\u001b[0m\u001b[0;34m,\u001b[0m \u001b[0;32mNone\u001b[0m\u001b[0;34m\u001b[0m\u001b[0;34m\u001b[0m\u001b[0m\n\u001b[1;32m   2854\u001b[0m     \u001b[0;32mwith\u001b[0m \u001b[0mself\u001b[0m\u001b[0;34m.\u001b[0m\u001b[0m_lock\u001b[0m\u001b[0;34m:\u001b[0m\u001b[0;34m\u001b[0m\u001b[0;34m\u001b[0m\u001b[0m\n\u001b[0;32m-> 2855\u001b[0;31m       \u001b[0mgraph_function\u001b[0m\u001b[0;34m,\u001b[0m \u001b[0m_\u001b[0m\u001b[0;34m,\u001b[0m \u001b[0m_\u001b[0m \u001b[0;34m=\u001b[0m \u001b[0mself\u001b[0m\u001b[0;34m.\u001b[0m\u001b[0m_maybe_define_function\u001b[0m\u001b[0;34m(\u001b[0m\u001b[0margs\u001b[0m\u001b[0;34m,\u001b[0m \u001b[0mkwargs\u001b[0m\u001b[0;34m)\u001b[0m\u001b[0;34m\u001b[0m\u001b[0;34m\u001b[0m\u001b[0m\n\u001b[0m\u001b[1;32m   2856\u001b[0m     \u001b[0;32mreturn\u001b[0m \u001b[0mgraph_function\u001b[0m\u001b[0;34m\u001b[0m\u001b[0;34m\u001b[0m\u001b[0m\n\u001b[1;32m   2857\u001b[0m \u001b[0;34m\u001b[0m\u001b[0m\n",
            "\u001b[0;32m/usr/local/lib/python3.6/dist-packages/tensorflow/python/eager/function.py\u001b[0m in \u001b[0;36m_maybe_define_function\u001b[0;34m(self, args, kwargs)\u001b[0m\n\u001b[1;32m   3211\u001b[0m \u001b[0;34m\u001b[0m\u001b[0m\n\u001b[1;32m   3212\u001b[0m       \u001b[0mself\u001b[0m\u001b[0;34m.\u001b[0m\u001b[0m_function_cache\u001b[0m\u001b[0;34m.\u001b[0m\u001b[0mmissed\u001b[0m\u001b[0;34m.\u001b[0m\u001b[0madd\u001b[0m\u001b[0;34m(\u001b[0m\u001b[0mcall_context_key\u001b[0m\u001b[0;34m)\u001b[0m\u001b[0;34m\u001b[0m\u001b[0;34m\u001b[0m\u001b[0m\n\u001b[0;32m-> 3213\u001b[0;31m       \u001b[0mgraph_function\u001b[0m \u001b[0;34m=\u001b[0m \u001b[0mself\u001b[0m\u001b[0;34m.\u001b[0m\u001b[0m_create_graph_function\u001b[0m\u001b[0;34m(\u001b[0m\u001b[0margs\u001b[0m\u001b[0;34m,\u001b[0m \u001b[0mkwargs\u001b[0m\u001b[0;34m)\u001b[0m\u001b[0;34m\u001b[0m\u001b[0;34m\u001b[0m\u001b[0m\n\u001b[0m\u001b[1;32m   3214\u001b[0m       \u001b[0mself\u001b[0m\u001b[0;34m.\u001b[0m\u001b[0m_function_cache\u001b[0m\u001b[0;34m.\u001b[0m\u001b[0mprimary\u001b[0m\u001b[0;34m[\u001b[0m\u001b[0mcache_key\u001b[0m\u001b[0;34m]\u001b[0m \u001b[0;34m=\u001b[0m \u001b[0mgraph_function\u001b[0m\u001b[0;34m\u001b[0m\u001b[0;34m\u001b[0m\u001b[0m\n\u001b[1;32m   3215\u001b[0m       \u001b[0;32mreturn\u001b[0m \u001b[0mgraph_function\u001b[0m\u001b[0;34m,\u001b[0m \u001b[0margs\u001b[0m\u001b[0;34m,\u001b[0m \u001b[0mkwargs\u001b[0m\u001b[0;34m\u001b[0m\u001b[0;34m\u001b[0m\u001b[0m\n",
            "\u001b[0;32m/usr/local/lib/python3.6/dist-packages/tensorflow/python/eager/function.py\u001b[0m in \u001b[0;36m_create_graph_function\u001b[0;34m(self, args, kwargs, override_flat_arg_shapes)\u001b[0m\n\u001b[1;32m   3073\u001b[0m             \u001b[0marg_names\u001b[0m\u001b[0;34m=\u001b[0m\u001b[0marg_names\u001b[0m\u001b[0;34m,\u001b[0m\u001b[0;34m\u001b[0m\u001b[0;34m\u001b[0m\u001b[0m\n\u001b[1;32m   3074\u001b[0m             \u001b[0moverride_flat_arg_shapes\u001b[0m\u001b[0;34m=\u001b[0m\u001b[0moverride_flat_arg_shapes\u001b[0m\u001b[0;34m,\u001b[0m\u001b[0;34m\u001b[0m\u001b[0;34m\u001b[0m\u001b[0m\n\u001b[0;32m-> 3075\u001b[0;31m             capture_by_value=self._capture_by_value),\n\u001b[0m\u001b[1;32m   3076\u001b[0m         \u001b[0mself\u001b[0m\u001b[0;34m.\u001b[0m\u001b[0m_function_attributes\u001b[0m\u001b[0;34m,\u001b[0m\u001b[0;34m\u001b[0m\u001b[0;34m\u001b[0m\u001b[0m\n\u001b[1;32m   3077\u001b[0m         \u001b[0mfunction_spec\u001b[0m\u001b[0;34m=\u001b[0m\u001b[0mself\u001b[0m\u001b[0;34m.\u001b[0m\u001b[0mfunction_spec\u001b[0m\u001b[0;34m,\u001b[0m\u001b[0;34m\u001b[0m\u001b[0;34m\u001b[0m\u001b[0m\n",
            "\u001b[0;32m/usr/local/lib/python3.6/dist-packages/tensorflow/python/framework/func_graph.py\u001b[0m in \u001b[0;36mfunc_graph_from_py_func\u001b[0;34m(name, python_func, args, kwargs, signature, func_graph, autograph, autograph_options, add_control_dependencies, arg_names, op_return_value, collections, capture_by_value, override_flat_arg_shapes)\u001b[0m\n\u001b[1;32m    984\u001b[0m         \u001b[0m_\u001b[0m\u001b[0;34m,\u001b[0m \u001b[0moriginal_func\u001b[0m \u001b[0;34m=\u001b[0m \u001b[0mtf_decorator\u001b[0m\u001b[0;34m.\u001b[0m\u001b[0munwrap\u001b[0m\u001b[0;34m(\u001b[0m\u001b[0mpython_func\u001b[0m\u001b[0;34m)\u001b[0m\u001b[0;34m\u001b[0m\u001b[0;34m\u001b[0m\u001b[0m\n\u001b[1;32m    985\u001b[0m \u001b[0;34m\u001b[0m\u001b[0m\n\u001b[0;32m--> 986\u001b[0;31m       \u001b[0mfunc_outputs\u001b[0m \u001b[0;34m=\u001b[0m \u001b[0mpython_func\u001b[0m\u001b[0;34m(\u001b[0m\u001b[0;34m*\u001b[0m\u001b[0mfunc_args\u001b[0m\u001b[0;34m,\u001b[0m \u001b[0;34m**\u001b[0m\u001b[0mfunc_kwargs\u001b[0m\u001b[0;34m)\u001b[0m\u001b[0;34m\u001b[0m\u001b[0;34m\u001b[0m\u001b[0m\n\u001b[0m\u001b[1;32m    987\u001b[0m \u001b[0;34m\u001b[0m\u001b[0m\n\u001b[1;32m    988\u001b[0m       \u001b[0;31m# invariant: `func_outputs` contains only Tensors, CompositeTensors,\u001b[0m\u001b[0;34m\u001b[0m\u001b[0;34m\u001b[0m\u001b[0;34m\u001b[0m\u001b[0m\n",
            "\u001b[0;32m/usr/local/lib/python3.6/dist-packages/tensorflow/python/eager/def_function.py\u001b[0m in \u001b[0;36mwrapped_fn\u001b[0;34m(*args, **kwds)\u001b[0m\n\u001b[1;32m    598\u001b[0m         \u001b[0;31m# __wrapped__ allows AutoGraph to swap in a converted function. We give\u001b[0m\u001b[0;34m\u001b[0m\u001b[0;34m\u001b[0m\u001b[0;34m\u001b[0m\u001b[0m\n\u001b[1;32m    599\u001b[0m         \u001b[0;31m# the function a weak reference to itself to avoid a reference cycle.\u001b[0m\u001b[0;34m\u001b[0m\u001b[0;34m\u001b[0m\u001b[0;34m\u001b[0m\u001b[0m\n\u001b[0;32m--> 600\u001b[0;31m         \u001b[0;32mreturn\u001b[0m \u001b[0mweak_wrapped_fn\u001b[0m\u001b[0;34m(\u001b[0m\u001b[0;34m)\u001b[0m\u001b[0;34m.\u001b[0m\u001b[0m__wrapped__\u001b[0m\u001b[0;34m(\u001b[0m\u001b[0;34m*\u001b[0m\u001b[0margs\u001b[0m\u001b[0;34m,\u001b[0m \u001b[0;34m**\u001b[0m\u001b[0mkwds\u001b[0m\u001b[0;34m)\u001b[0m\u001b[0;34m\u001b[0m\u001b[0;34m\u001b[0m\u001b[0m\n\u001b[0m\u001b[1;32m    601\u001b[0m     \u001b[0mweak_wrapped_fn\u001b[0m \u001b[0;34m=\u001b[0m \u001b[0mweakref\u001b[0m\u001b[0;34m.\u001b[0m\u001b[0mref\u001b[0m\u001b[0;34m(\u001b[0m\u001b[0mwrapped_fn\u001b[0m\u001b[0;34m)\u001b[0m\u001b[0;34m\u001b[0m\u001b[0;34m\u001b[0m\u001b[0m\n\u001b[1;32m    602\u001b[0m \u001b[0;34m\u001b[0m\u001b[0m\n",
            "\u001b[0;32m/usr/local/lib/python3.6/dist-packages/tensorflow/python/framework/func_graph.py\u001b[0m in \u001b[0;36mwrapper\u001b[0;34m(*args, **kwargs)\u001b[0m\n\u001b[1;32m    971\u001b[0m           \u001b[0;32mexcept\u001b[0m \u001b[0mException\u001b[0m \u001b[0;32mas\u001b[0m \u001b[0me\u001b[0m\u001b[0;34m:\u001b[0m  \u001b[0;31m# pylint:disable=broad-except\u001b[0m\u001b[0;34m\u001b[0m\u001b[0;34m\u001b[0m\u001b[0m\n\u001b[1;32m    972\u001b[0m             \u001b[0;32mif\u001b[0m \u001b[0mhasattr\u001b[0m\u001b[0;34m(\u001b[0m\u001b[0me\u001b[0m\u001b[0;34m,\u001b[0m \u001b[0;34m\"ag_error_metadata\"\u001b[0m\u001b[0;34m)\u001b[0m\u001b[0;34m:\u001b[0m\u001b[0;34m\u001b[0m\u001b[0;34m\u001b[0m\u001b[0m\n\u001b[0;32m--> 973\u001b[0;31m               \u001b[0;32mraise\u001b[0m \u001b[0me\u001b[0m\u001b[0;34m.\u001b[0m\u001b[0mag_error_metadata\u001b[0m\u001b[0;34m.\u001b[0m\u001b[0mto_exception\u001b[0m\u001b[0;34m(\u001b[0m\u001b[0me\u001b[0m\u001b[0;34m)\u001b[0m\u001b[0;34m\u001b[0m\u001b[0;34m\u001b[0m\u001b[0m\n\u001b[0m\u001b[1;32m    974\u001b[0m             \u001b[0;32melse\u001b[0m\u001b[0;34m:\u001b[0m\u001b[0;34m\u001b[0m\u001b[0;34m\u001b[0m\u001b[0m\n\u001b[1;32m    975\u001b[0m               \u001b[0;32mraise\u001b[0m\u001b[0;34m\u001b[0m\u001b[0;34m\u001b[0m\u001b[0m\n",
            "\u001b[0;31mValueError\u001b[0m: in user code:\n\n    /usr/local/lib/python3.6/dist-packages/tensorflow/python/keras/engine/training.py:806 train_function  *\n        return step_function(self, iterator)\n    /usr/local/lib/python3.6/dist-packages/tensorflow/python/keras/engine/training.py:796 step_function  **\n        outputs = model.distribute_strategy.run(run_step, args=(data,))\n    /usr/local/lib/python3.6/dist-packages/tensorflow/python/distribute/distribute_lib.py:1211 run\n        return self._extended.call_for_each_replica(fn, args=args, kwargs=kwargs)\n    /usr/local/lib/python3.6/dist-packages/tensorflow/python/distribute/distribute_lib.py:2585 call_for_each_replica\n        return self._call_for_each_replica(fn, args, kwargs)\n    /usr/local/lib/python3.6/dist-packages/tensorflow/python/distribute/distribute_lib.py:2945 _call_for_each_replica\n        return fn(*args, **kwargs)\n    /usr/local/lib/python3.6/dist-packages/tensorflow/python/keras/engine/training.py:789 run_step  **\n        outputs = model.train_step(data)\n    /usr/local/lib/python3.6/dist-packages/tensorflow/python/keras/engine/training.py:747 train_step\n        y_pred = self(x, training=True)\n    /usr/local/lib/python3.6/dist-packages/tensorflow/python/keras/engine/base_layer.py:976 __call__\n        self.name)\n    /usr/local/lib/python3.6/dist-packages/tensorflow/python/keras/engine/input_spec.py:180 assert_input_compatibility\n        str(x.shape.as_list()))\n\n    ValueError: Input 0 of layer sequential_4 is incompatible with the layer: expected ndim=3, found ndim=4. Full shape received: [None, 2, 7, 1]\n"
          ]
        }
      ]
    },
    {
      "cell_type": "markdown",
      "metadata": {
        "id": "XiYXTOuDga2r"
      },
      "source": [
        "## Model Evaluation"
      ]
    },
    {
      "cell_type": "code",
      "metadata": {
        "id": "6uC_vRb5ga2s",
        "outputId": "82a218ed-6fd8-4fcb-d222-e1f0512e409b",
        "colab": {
          "base_uri": "https://localhost:8080/",
          "height": 626
        }
      },
      "source": [
        "# Plot training Process \n",
        "\n",
        "plt.plot(history.history['loss'], label='Training', color = 'blue')\n",
        "plt.plot(history.history['val_loss'], label='Validation', color = 'orange')\n",
        "plt.ylabel('Loss')\n",
        "plt.xlabel('Epoch')\n",
        "plt.title(\"plt_title\")\n",
        "plt.legend()\n",
        "plt.show()"
      ],
      "execution_count": 26,
      "outputs": [
        {
          "output_type": "display_data",
          "data": {
            "image/png": "[encoded data removed]",
            "text/plain": [
              "<Figure size 1440x720 with 1 Axes>"
            ]
          },
          "metadata": {
            "tags": []
          }
        }
      ]
    },
    {
      "cell_type": "markdown",
      "metadata": {
        "id": "TZ605ha6ga2v"
      },
      "source": [
        "## Prediction Evaluation"
      ]
    },
    {
      "cell_type": "code",
      "metadata": {
        "id": "YkD7CVRS4T6s"
      },
      "source": [
        "# Create the predictions data frame\n",
        "yhat_ED = pd.DataFrame(np.reshape(np.array(model.predict(X_test, verbose=0)), (14,1)))\n",
        "\n",
        "yhat_ED.columns = ['predictions']"
      ],
      "execution_count": 27,
      "outputs": []
    },
    {
      "cell_type": "code",
      "metadata": {
        "id": "MH67cimOvfal",
        "outputId": "00e839b0-5a80-472c-a18c-bbfabb829275",
        "colab": {
          "base_uri": "https://localhost:8080/",
          "height": 467
        }
      },
      "source": [
        "yhat_ED"
      ],
      "execution_count": 31,
      "outputs": [
        {
          "output_type": "execute_result",
          "data": {
            "text/html": [
              "<div>\n",
              "<style scoped>\n",
              "    .dataframe tbody tr th:only-of-type {\n",
              "        vertical-align: middle;\n",
              "    }\n",
              "\n",
              "    .dataframe tbody tr th {\n",
              "        vertical-align: top;\n",
              "    }\n",
              "\n",
              "    .dataframe thead th {\n",
              "        text-align: right;\n",
              "    }\n",
              "</style>\n",
              "<table border=\"1\" class=\"dataframe\">\n",
              "  <thead>\n",
              "    <tr style=\"text-align: right;\">\n",
              "      <th></th>\n",
              "      <th>predictions</th>\n",
              "    </tr>\n",
              "  </thead>\n",
              "  <tbody>\n",
              "    <tr>\n",
              "      <th>0</th>\n",
              "      <td>9376.197266</td>\n",
              "    </tr>\n",
              "    <tr>\n",
              "      <th>1</th>\n",
              "      <td>9380.554688</td>\n",
              "    </tr>\n",
              "    <tr>\n",
              "      <th>2</th>\n",
              "      <td>9378.771484</td>\n",
              "    </tr>\n",
              "    <tr>\n",
              "      <th>3</th>\n",
              "      <td>9339.145508</td>\n",
              "    </tr>\n",
              "    <tr>\n",
              "      <th>4</th>\n",
              "      <td>9339.281250</td>\n",
              "    </tr>\n",
              "    <tr>\n",
              "      <th>5</th>\n",
              "      <td>9339.281250</td>\n",
              "    </tr>\n",
              "    <tr>\n",
              "      <th>6</th>\n",
              "      <td>9339.281250</td>\n",
              "    </tr>\n",
              "    <tr>\n",
              "      <th>7</th>\n",
              "      <td>9339.281250</td>\n",
              "    </tr>\n",
              "    <tr>\n",
              "      <th>8</th>\n",
              "      <td>9339.281250</td>\n",
              "    </tr>\n",
              "    <tr>\n",
              "      <th>9</th>\n",
              "      <td>9339.281250</td>\n",
              "    </tr>\n",
              "    <tr>\n",
              "      <th>10</th>\n",
              "      <td>9339.281250</td>\n",
              "    </tr>\n",
              "    <tr>\n",
              "      <th>11</th>\n",
              "      <td>9339.281250</td>\n",
              "    </tr>\n",
              "    <tr>\n",
              "      <th>12</th>\n",
              "      <td>9339.280273</td>\n",
              "    </tr>\n",
              "    <tr>\n",
              "      <th>13</th>\n",
              "      <td>9339.280273</td>\n",
              "    </tr>\n",
              "  </tbody>\n",
              "</table>\n",
              "</div>"
            ],
            "text/plain": [
              "    predictions\n",
              "0   9376.197266\n",
              "1   9380.554688\n",
              "2   9378.771484\n",
              "3   9339.145508\n",
              "4   9339.281250\n",
              "5   9339.281250\n",
              "6   9339.281250\n",
              "7   9339.281250\n",
              "8   9339.281250\n",
              "9   9339.281250\n",
              "10  9339.281250\n",
              "11  9339.281250\n",
              "12  9339.280273\n",
              "13  9339.280273"
            ]
          },
          "metadata": {
            "tags": []
          },
          "execution_count": 31
        }
      ]
    },
    {
      "cell_type": "code",
      "metadata": {
        "id": "N60S3krc4T60"
      },
      "source": [
        "# Create the test set data frame\n",
        "y_test = pd.DataFrame(np.reshape(np.array(y_test), (14,1)))\n",
        "\n",
        "y_test.columns = ['real']"
      ],
      "execution_count": 28,
      "outputs": []
    },
    {
      "cell_type": "code",
      "metadata": {
        "id": "x-Fxk03P4T6-",
        "outputId": "05aa1f0e-8465-4aab-8868-a8a7729a7d88",
        "colab": {
          "base_uri": "https://localhost:8080/",
          "height": 594
        }
      },
      "source": [
        "# Plot the predictions against the truth\n",
        "\n",
        "plt.plot(yhat_ED.index, yhat_ED.predictions, label='Predicted')\n",
        "plt.plot(y_test.index, y_test.real,label='Test Value')\n",
        "plt.legend()\n",
        "plt.show()"
      ],
      "execution_count": 29,
      "outputs": [
        {
          "output_type": "display_data",
          "data": {
            "image/png": "[encoded data removed]",
            "text/plain": [
              "<Figure size 1440x720 with 1 Axes>"
            ]
          },
          "metadata": {
            "tags": []
          }
        }
      ]
    },
    {
      "cell_type": "code",
      "metadata": {
        "id": "0_s1kXvBhOmt",
        "outputId": "ff8eee65-d145-4583-b2e1-604cd11b8990",
        "colab": {
          "base_uri": "https://localhost:8080/",
          "height": 34
        }
      },
      "source": [
        "def rmse(predictions, targets):\n",
        "    return np.sqrt(((predictions - targets) ** 2).mean())\n",
        "\n",
        "rmse_val = rmse(yhat_ED.predictions, y_test.real)\n",
        "\n",
        "rmse_val"
      ],
      "execution_count": 32,
      "outputs": [
        {
          "output_type": "execute_result",
          "data": {
            "text/plain": [
              "132.87747137813028"
            ]
          },
          "metadata": {
            "tags": []
          },
          "execution_count": 32
        }
      ]
    },
    {
      "cell_type": "markdown",
      "metadata": {
        "id": "GZtVSZuM7so8"
      },
      "source": [
        "# CNN LSTM"
      ]
    },
    {
      "cell_type": "code",
      "metadata": {
        "id": "lf3MegHH8lUM"
      },
      "source": [
        "# univariate cnn lstm example\n",
        "from numpy import array\n",
        "from keras.models import Sequential\n",
        "from keras.layers import LSTM\n",
        "from keras.layers import Dense\n",
        "from keras.layers import Flatten\n",
        "from keras.layers import TimeDistributed\n",
        "from keras.layers.convolutional import Conv1D\n",
        "from keras.layers.convolutional import MaxPooling1D"
      ],
      "execution_count": 33,
      "outputs": []
    },
    {
      "cell_type": "code",
      "metadata": {
        "id": "4iD8XSsKknE2"
      },
      "source": [
        "# define input sequence for TRAIN\n",
        "train_seq = train\n",
        "# choose a number of time steps\n",
        "n_steps_in, n_steps_out = 14, 14\n",
        "\n",
        "# split into samples\n",
        "X_train, y_train = split_sequence(train_seq, n_steps_in, n_steps_out)\n",
        "\n",
        "\n",
        "\n",
        "# SAME CODE AS BEFORE FOR TEST \n",
        "# define input sequence for TEST\n",
        "test_seq = test\n",
        "# choose a number of time steps\n",
        "n_steps_in, n_steps_out = 14, 14\n",
        "# split into samples\n",
        "X_test, y_test = split_sequence(test_seq, n_steps_in, n_steps_out)\n",
        "# summarize the data\n"
      ],
      "execution_count": 95,
      "outputs": []
    },
    {
      "cell_type": "code",
      "metadata": {
        "id": "4d6pc2PB-05F"
      },
      "source": [
        "# NEW CODE FOR CNN LSTM\n",
        "# reshape from [samples, timesteps] into [samples, subsequences, timesteps, features]\n",
        "n_features = 1\n",
        "n_seq = 2    #2 Subsambples\n",
        "n_steps = 7  # 2 subsamples of 7 steps \n",
        "\n",
        "X_train = X_train.reshape((X_train.shape[0], n_seq, n_steps, n_features))"
      ],
      "execution_count": 100,
      "outputs": []
    },
    {
      "cell_type": "code",
      "metadata": {
        "id": "_qKbFcsgxXxg",
        "outputId": "900e2539-bc20-432e-91f0-a91a1ad6fce6",
        "colab": {
          "base_uri": "https://localhost:8080/",
          "height": 514
        }
      },
      "source": [
        "train[1104:1132]"
      ],
      "execution_count": 101,
      "outputs": [
        {
          "output_type": "execute_result",
          "data": {
            "text/plain": [
              "[9210.29871677,\n",
              " 9589.3,\n",
              " 9426.1,\n",
              " 9706.4,\n",
              " 9451.1,\n",
              " 10225.97600025,\n",
              " 9526.96808253,\n",
              " 9676.6,\n",
              " 9790.700076,\n",
              " 9620.4,\n",
              " 9668.4,\n",
              " 9747.1,\n",
              " 9784.4,\n",
              " 9771.9,\n",
              " 9898.8,\n",
              " 9272.2,\n",
              " 9468.3,\n",
              " 9480.87818464,\n",
              " 9344.75144536,\n",
              " 9435.0,\n",
              " 9534.401723,\n",
              " 9473.4,\n",
              " 9400.0,\n",
              " 9315.5,\n",
              " 9371.3,\n",
              " 9301.0,\n",
              " 9697.72816498,\n",
              " 9635.2]"
            ]
          },
          "metadata": {
            "tags": []
          },
          "execution_count": 101
        }
      ]
    },
    {
      "cell_type": "code",
      "metadata": {
        "id": "EJuh6Blz0EYL",
        "outputId": "6dcc08ad-54e7-4458-a486-a6079c33ac5a",
        "colab": {
          "base_uri": "https://localhost:8080/",
          "height": 283
        }
      },
      "source": [
        "X_train[-1]"
      ],
      "execution_count": 102,
      "outputs": [
        {
          "output_type": "execute_result",
          "data": {
            "text/plain": [
              "array([[[ 9210.29871677],\n",
              "        [ 9589.3       ],\n",
              "        [ 9426.1       ],\n",
              "        [ 9706.4       ],\n",
              "        [ 9451.1       ],\n",
              "        [10225.97600025],\n",
              "        [ 9526.96808253]],\n",
              "\n",
              "       [[ 9676.6       ],\n",
              "        [ 9790.700076  ],\n",
              "        [ 9620.4       ],\n",
              "        [ 9668.4       ],\n",
              "        [ 9747.1       ],\n",
              "        [ 9784.4       ],\n",
              "        [ 9771.9       ]]])"
            ]
          },
          "metadata": {
            "tags": []
          },
          "execution_count": 102
        }
      ]
    },
    {
      "cell_type": "code",
      "metadata": {
        "id": "fBllt9I_1QVi",
        "outputId": "e2c2f918-0271-4dc2-f9c1-7ab044b84e4b",
        "colab": {
          "base_uri": "https://localhost:8080/",
          "height": 87
        }
      },
      "source": [
        "y_train[-1]"
      ],
      "execution_count": 104,
      "outputs": [
        {
          "output_type": "execute_result",
          "data": {
            "text/plain": [
              "array([9898.8       , 9272.2       , 9468.3       , 9480.87818464,\n",
              "       9344.75144536, 9435.        , 9534.401723  , 9473.4       ,\n",
              "       9400.        , 9315.5       , 9371.3       , 9301.        ,\n",
              "       9697.72816498, 9635.2       ])"
            ]
          },
          "metadata": {
            "tags": []
          },
          "execution_count": 104
        }
      ]
    },
    {
      "cell_type": "code",
      "metadata": {
        "id": "-GT-AGSU8oBY"
      },
      "source": [
        "# define model\n",
        "model = Sequential()\n",
        "model.add(TimeDistributed(Conv1D(filters=64, kernel_size=1, activation='relu'), input_shape=(None, n_steps, n_features))) # n_steps_in, n_features\n",
        "model.add(TimeDistributed(MaxPooling1D(pool_size=2)))\n",
        "model.add(TimeDistributed(Flatten()))\n",
        "model.add(LSTM(50, activation='relu'))\n",
        "model.add(Dense(n_steps_out)) #Multistep  previosly =  (1)\n",
        "#model.compile(optimizer='adam', loss='mse')"
      ],
      "execution_count": 36,
      "outputs": []
    },
    {
      "cell_type": "code",
      "metadata": {
        "id": "vFy4BkhbRWMN"
      },
      "source": [
        "#Set Callbacks\n",
        "from tensorflow.keras.callbacks import EarlyStopping\n",
        "from tensorflow.keras.callbacks import ReduceLROnPlateau\n",
        "from keras import optimizers\n",
        "\n",
        "# Use early stopping, change patience as required\n",
        "early_stopping = EarlyStopping(monitor='val_loss', patience=50,verbose=1)\n",
        "# Use reduce LR, change patience and factor as required\n",
        "reduce_lr = ReduceLROnPlateau(monitor='val_loss', factor=0.1, patience=5, min_lr=0.00001, verbose=1)\n",
        "\n",
        "\n",
        "learning_rate = 0.01\n",
        "optimizer = optimizers.Adam(learning_rate = learning_rate)\n",
        "\n",
        "\n",
        "model.compile(optimizer=optimizer, loss='mse')"
      ],
      "execution_count": 37,
      "outputs": []
    },
    {
      "cell_type": "code",
      "metadata": {
        "id": "Y2hZhwwt9EtA",
        "outputId": "ae801e9e-8001-47c5-b788-512d54633f75",
        "colab": {
          "base_uri": "https://localhost:8080/",
          "height": 1000
        }
      },
      "source": [
        "# fit model\n",
        "#model.fit(X_train, y_train, epochs=100, validation_split=0.2)\n",
        "\n",
        "\n",
        "from time import time\n",
        "import time\n",
        "# Fit model\n",
        "tic = time.perf_counter()\n",
        "\n",
        "#model.fit(X_train, y_train, epochs=100, validation_split=0.2) #VALIDATION SPLIT???\n",
        "\n",
        "\n",
        "\n",
        "# Change epochs as necessary\n",
        "history = model.fit(\n",
        "    X_train,\n",
        "    y_train, \n",
        "    epochs=100,\n",
        "    validation_split=0.2,\n",
        "    callbacks = [early_stopping, reduce_lr])\n",
        "\n",
        "\n",
        "\n",
        "toc = time.perf_counter()\n",
        "run_time = (toc-tic)/60\n",
        "print(f'Model ran in: {run_time:0.2f} minutes')\n"
      ],
      "execution_count": 38,
      "outputs": [
        {
          "output_type": "stream",
          "text": [
            "Epoch 1/100\n",
            "28/28 [==============================] - 0s 11ms/step - loss: 24926536.0000 - val_loss: 3022250.0000\n",
            "Epoch 2/100\n",
            "28/28 [==============================] - 0s 4ms/step - loss: 2510403.2500 - val_loss: 1368117.7500\n",
            "Epoch 3/100\n",
            "28/28 [==============================] - 0s 4ms/step - loss: 1943203.5000 - val_loss: 1074371.7500\n",
            "Epoch 4/100\n",
            "28/28 [==============================] - 0s 4ms/step - loss: 1891366.7500 - val_loss: 1039907.3125\n",
            "Epoch 5/100\n",
            "28/28 [==============================] - 0s 5ms/step - loss: 1858583.6250 - val_loss: 1209019.6250\n",
            "Epoch 6/100\n",
            "28/28 [==============================] - 0s 4ms/step - loss: 1822214.6250 - val_loss: 1366176.7500\n",
            "Epoch 7/100\n",
            "28/28 [==============================] - 0s 4ms/step - loss: 2051912.2500 - val_loss: 1062340.2500\n",
            "Epoch 8/100\n",
            "28/28 [==============================] - 0s 4ms/step - loss: 1757911.0000 - val_loss: 960994.9375\n",
            "Epoch 9/100\n",
            "28/28 [==============================] - 0s 4ms/step - loss: 1679969.7500 - val_loss: 1155266.3750\n",
            "Epoch 10/100\n",
            "28/28 [==============================] - 0s 4ms/step - loss: 1692705.6250 - val_loss: 973714.3125\n",
            "Epoch 11/100\n",
            "28/28 [==============================] - 0s 4ms/step - loss: 1680607.6250 - val_loss: 989965.2500\n",
            "Epoch 12/100\n",
            "28/28 [==============================] - 0s 4ms/step - loss: 1751305.7500 - val_loss: 1079872.2500\n",
            "Epoch 13/100\n",
            "28/28 [==============================] - 0s 4ms/step - loss: 1684717.1250 - val_loss: 941210.5000\n",
            "Epoch 14/100\n",
            "28/28 [==============================] - 0s 4ms/step - loss: 1661594.1250 - val_loss: 948322.1250\n",
            "Epoch 15/100\n",
            "28/28 [==============================] - 0s 4ms/step - loss: 1714381.8750 - val_loss: 1076454.1250\n",
            "Epoch 16/100\n",
            "28/28 [==============================] - 0s 4ms/step - loss: 1643238.2500 - val_loss: 914737.3125\n",
            "Epoch 17/100\n",
            "28/28 [==============================] - 0s 4ms/step - loss: 1628582.1250 - val_loss: 885537.0625\n",
            "Epoch 18/100\n",
            "28/28 [==============================] - 0s 4ms/step - loss: 1654327.1250 - val_loss: 957605.5000\n",
            "Epoch 19/100\n",
            "28/28 [==============================] - 0s 4ms/step - loss: 1623988.1250 - val_loss: 1008621.0625\n",
            "Epoch 20/100\n",
            "28/28 [==============================] - 0s 4ms/step - loss: 1660131.0000 - val_loss: 895133.5625\n",
            "Epoch 21/100\n",
            "28/28 [==============================] - 0s 4ms/step - loss: 1566593.1250 - val_loss: 957920.8125\n",
            "Epoch 22/100\n",
            "28/28 [==============================] - 0s 4ms/step - loss: 1603519.7500 - val_loss: 869272.7500\n",
            "Epoch 23/100\n",
            "28/28 [==============================] - 0s 4ms/step - loss: 1570060.2500 - val_loss: 871287.6875\n",
            "Epoch 24/100\n",
            "28/28 [==============================] - 0s 4ms/step - loss: 1604638.1250 - val_loss: 868930.6875\n",
            "Epoch 25/100\n",
            "28/28 [==============================] - 0s 4ms/step - loss: 1599034.7500 - val_loss: 891716.3750\n",
            "Epoch 26/100\n",
            "28/28 [==============================] - 0s 4ms/step - loss: 1578051.0000 - val_loss: 898858.0000\n",
            "Epoch 27/100\n",
            "28/28 [==============================] - 0s 4ms/step - loss: 1578308.7500 - val_loss: 1140606.5000\n",
            "Epoch 28/100\n",
            "28/28 [==============================] - 0s 4ms/step - loss: 1635906.0000 - val_loss: 866483.8125\n",
            "Epoch 29/100\n",
            "28/28 [==============================] - 0s 4ms/step - loss: 1799510.7500 - val_loss: 961904.3125\n",
            "Epoch 30/100\n",
            "28/28 [==============================] - 0s 4ms/step - loss: 1559011.1250 - val_loss: 889219.3125\n",
            "Epoch 31/100\n",
            "28/28 [==============================] - 0s 4ms/step - loss: 1659097.5000 - val_loss: 1223942.3750\n",
            "Epoch 32/100\n",
            "28/28 [==============================] - 0s 4ms/step - loss: 1713833.2500 - val_loss: 985779.6875\n",
            "Epoch 33/100\n",
            "19/28 [===================>..........] - ETA: 0s - loss: 1626069.7500\n",
            "Epoch 00033: ReduceLROnPlateau reducing learning rate to 0.0009999999776482583.\n",
            "28/28 [==============================] - 0s 4ms/step - loss: 1682756.6250 - val_loss: 931045.3125\n",
            "Epoch 34/100\n",
            "28/28 [==============================] - 0s 4ms/step - loss: 1538530.0000 - val_loss: 887433.0000\n",
            "Epoch 35/100\n",
            "28/28 [==============================] - 0s 4ms/step - loss: 1524310.6250 - val_loss: 860889.1250\n",
            "Epoch 36/100\n",
            "28/28 [==============================] - 0s 4ms/step - loss: 1523868.2500 - val_loss: 859706.1250\n",
            "Epoch 37/100\n",
            "28/28 [==============================] - 0s 4ms/step - loss: 1524598.5000 - val_loss: 867183.8125\n",
            "Epoch 38/100\n",
            "28/28 [==============================] - 0s 4ms/step - loss: 1540206.8750 - val_loss: 937388.3750\n",
            "Epoch 39/100\n",
            "28/28 [==============================] - 0s 4ms/step - loss: 1532736.1250 - val_loss: 863787.5000\n",
            "Epoch 40/100\n",
            "28/28 [==============================] - 0s 4ms/step - loss: 1527171.6250 - val_loss: 858626.1250\n",
            "Epoch 41/100\n",
            "28/28 [==============================] - 0s 4ms/step - loss: 1529319.3750 - val_loss: 875511.4375\n",
            "Epoch 42/100\n",
            "28/28 [==============================] - 0s 4ms/step - loss: 1522553.6250 - val_loss: 870721.3750\n",
            "Epoch 43/100\n",
            "28/28 [==============================] - 0s 4ms/step - loss: 1538903.0000 - val_loss: 859236.0000\n",
            "Epoch 44/100\n",
            "28/28 [==============================] - 0s 4ms/step - loss: 1525915.5000 - val_loss: 875019.3750\n",
            "Epoch 45/100\n",
            "17/28 [=================>............] - ETA: 0s - loss: 1443328.7500\n",
            "Epoch 00045: ReduceLROnPlateau reducing learning rate to 9.999999310821295e-05.\n",
            "28/28 [==============================] - 0s 4ms/step - loss: 1519079.0000 - val_loss: 869320.2500\n",
            "Epoch 46/100\n",
            "28/28 [==============================] - 0s 4ms/step - loss: 1516717.7500 - val_loss: 867553.8125\n",
            "Epoch 47/100\n",
            "28/28 [==============================] - 0s 4ms/step - loss: 1516138.7500 - val_loss: 865771.9375\n",
            "Epoch 48/100\n",
            "28/28 [==============================] - 0s 4ms/step - loss: 1514198.0000 - val_loss: 863021.8750\n",
            "Epoch 49/100\n",
            "28/28 [==============================] - 0s 4ms/step - loss: 1514223.2500 - val_loss: 861775.4375\n",
            "Epoch 50/100\n",
            "17/28 [=================>............] - ETA: 0s - loss: 1409631.0000\n",
            "Epoch 00050: ReduceLROnPlateau reducing learning rate to 1e-05.\n",
            "28/28 [==============================] - 0s 4ms/step - loss: 1514827.6250 - val_loss: 862274.6250\n",
            "Epoch 51/100\n",
            "28/28 [==============================] - 0s 4ms/step - loss: 1513580.1250 - val_loss: 862310.5000\n",
            "Epoch 52/100\n",
            "28/28 [==============================] - 0s 4ms/step - loss: 1513673.2500 - val_loss: 862167.3125\n",
            "Epoch 53/100\n",
            "28/28 [==============================] - 0s 4ms/step - loss: 1513575.3750 - val_loss: 862469.7500\n",
            "Epoch 54/100\n",
            "28/28 [==============================] - 0s 4ms/step - loss: 1513562.8750 - val_loss: 862580.6250\n",
            "Epoch 55/100\n",
            "28/28 [==============================] - 0s 4ms/step - loss: 1513734.2500 - val_loss: 863046.8125\n",
            "Epoch 56/100\n",
            "28/28 [==============================] - 0s 4ms/step - loss: 1513655.8750 - val_loss: 862718.6875\n",
            "Epoch 57/100\n",
            "28/28 [==============================] - 0s 4ms/step - loss: 1513733.7500 - val_loss: 862779.0000\n",
            "Epoch 58/100\n",
            "28/28 [==============================] - 0s 4ms/step - loss: 1513932.6250 - val_loss: 863114.0625\n",
            "Epoch 59/100\n",
            "28/28 [==============================] - 0s 4ms/step - loss: 1513830.7500 - val_loss: 862265.8750\n",
            "Epoch 60/100\n",
            "28/28 [==============================] - 0s 4ms/step - loss: 1513829.5000 - val_loss: 862762.3750\n",
            "Epoch 61/100\n",
            "28/28 [==============================] - 0s 4ms/step - loss: 1513684.2500 - val_loss: 862811.3750\n",
            "Epoch 62/100\n",
            "28/28 [==============================] - 0s 4ms/step - loss: 1513630.5000 - val_loss: 862845.6875\n",
            "Epoch 63/100\n",
            "28/28 [==============================] - 0s 4ms/step - loss: 1513572.2500 - val_loss: 862931.5625\n",
            "Epoch 64/100\n",
            "28/28 [==============================] - 0s 5ms/step - loss: 1513537.1250 - val_loss: 862853.1875\n",
            "Epoch 65/100\n",
            "28/28 [==============================] - 0s 5ms/step - loss: 1513675.2500 - val_loss: 862937.1250\n",
            "Epoch 66/100\n",
            "28/28 [==============================] - 0s 4ms/step - loss: 1513800.2500 - val_loss: 862843.8125\n",
            "Epoch 67/100\n",
            "28/28 [==============================] - 0s 4ms/step - loss: 1513613.1250 - val_loss: 862785.4375\n",
            "Epoch 68/100\n",
            "28/28 [==============================] - 0s 4ms/step - loss: 1513587.5000 - val_loss: 862439.4375\n",
            "Epoch 69/100\n",
            "28/28 [==============================] - 0s 4ms/step - loss: 1513628.3750 - val_loss: 862348.0625\n",
            "Epoch 70/100\n",
            "28/28 [==============================] - 0s 4ms/step - loss: 1513547.1250 - val_loss: 862805.1250\n",
            "Epoch 71/100\n",
            "28/28 [==============================] - 0s 4ms/step - loss: 1513555.1250 - val_loss: 862537.4375\n",
            "Epoch 72/100\n",
            "28/28 [==============================] - 0s 4ms/step - loss: 1513616.3750 - val_loss: 863079.3125\n",
            "Epoch 73/100\n",
            "28/28 [==============================] - 0s 4ms/step - loss: 1513534.5000 - val_loss: 862915.5625\n",
            "Epoch 74/100\n",
            "28/28 [==============================] - 0s 4ms/step - loss: 1513825.1250 - val_loss: 862704.3750\n",
            "Epoch 75/100\n",
            "28/28 [==============================] - 0s 4ms/step - loss: 1513649.0000 - val_loss: 863034.2500\n",
            "Epoch 76/100\n",
            "28/28 [==============================] - 0s 4ms/step - loss: 1513735.6250 - val_loss: 863334.3750\n",
            "Epoch 77/100\n",
            "28/28 [==============================] - 0s 4ms/step - loss: 1513711.5000 - val_loss: 862598.9375\n",
            "Epoch 78/100\n",
            "28/28 [==============================] - 0s 4ms/step - loss: 1513517.6250 - val_loss: 862731.6250\n",
            "Epoch 79/100\n",
            "28/28 [==============================] - 0s 4ms/step - loss: 1513884.2500 - val_loss: 862512.8750\n",
            "Epoch 80/100\n",
            "28/28 [==============================] - 0s 4ms/step - loss: 1513527.6250 - val_loss: 862919.4375\n",
            "Epoch 81/100\n",
            "28/28 [==============================] - 0s 4ms/step - loss: 1514018.3750 - val_loss: 862570.1875\n",
            "Epoch 82/100\n",
            "28/28 [==============================] - 0s 4ms/step - loss: 1513535.1250 - val_loss: 862901.3125\n",
            "Epoch 83/100\n",
            "28/28 [==============================] - 0s 4ms/step - loss: 1513479.1250 - val_loss: 862892.4375\n",
            "Epoch 84/100\n",
            "28/28 [==============================] - 0s 5ms/step - loss: 1513486.5000 - val_loss: 862975.6250\n",
            "Epoch 85/100\n",
            "28/28 [==============================] - 0s 5ms/step - loss: 1513653.7500 - val_loss: 863201.8125\n",
            "Epoch 86/100\n",
            "28/28 [==============================] - 0s 4ms/step - loss: 1513402.7500 - val_loss: 862729.1250\n",
            "Epoch 87/100\n",
            "28/28 [==============================] - 0s 4ms/step - loss: 1513519.0000 - val_loss: 862897.8125\n",
            "Epoch 88/100\n",
            "28/28 [==============================] - 0s 4ms/step - loss: 1513940.5000 - val_loss: 862359.6250\n",
            "Epoch 89/100\n",
            "28/28 [==============================] - 0s 4ms/step - loss: 1513601.6250 - val_loss: 862451.1250\n",
            "Epoch 90/100\n",
            "28/28 [==============================] - 0s 4ms/step - loss: 1513651.0000 - val_loss: 863320.6250\n",
            "Epoch 00090: early stopping\n",
            "Model ran in: 0.20 minutes\n"
          ],
          "name": "stdout"
        }
      ]
    },
    {
      "cell_type": "markdown",
      "metadata": {
        "id": "e2ZegUtuSkGo"
      },
      "source": [
        "### Model Evaluation"
      ]
    },
    {
      "cell_type": "code",
      "metadata": {
        "id": "nIDPFBdCSkGq",
        "outputId": "8730c3cf-2e46-477c-d60e-989d10ee1f7a",
        "colab": {
          "base_uri": "https://localhost:8080/",
          "height": 626
        }
      },
      "source": [
        "# Plot training Process \n",
        "\n",
        "plt.plot(history.history['loss'], label='Training', color = 'blue')\n",
        "plt.plot(history.history['val_loss'], label='Validation', color = 'orange')\n",
        "plt.ylabel('Loss')\n",
        "plt.xlabel('Epoch')\n",
        "plt.title(\"plt_title\")\n",
        "plt.legend()\n",
        "plt.show()"
      ],
      "execution_count": 39,
      "outputs": [
        {
          "output_type": "display_data",
          "data": {
            "image/png": "[encoded data removed]",
            "text/plain": [
              "<Figure size 1440x720 with 1 Axes>"
            ]
          },
          "metadata": {
            "tags": []
          }
        }
      ]
    },
    {
      "cell_type": "markdown",
      "metadata": {
        "id": "FcqimlrbqyQn"
      },
      "source": [
        "### Prediction Evaluation"
      ]
    },
    {
      "cell_type": "code",
      "metadata": {
        "id": "YeWoj10v5a_d"
      },
      "source": [
        "#Get X test into the right shape\n",
        "X_test=X_test.reshape((1, n_seq, n_steps, n_features))\n",
        "\n",
        "#Precidt\n",
        "yhat_CNN_LSTM = model.predict(X_test, verbose=0)"
      ],
      "execution_count": 40,
      "outputs": []
    },
    {
      "cell_type": "code",
      "metadata": {
        "id": "KesuBhfUqyQo"
      },
      "source": [
        "# Create the predictions data frame\n",
        "\n",
        "\n",
        "#yhat = model.predict(X_test, verbose=0)\n",
        "\n",
        "#yhat = pd.DataFrame(np.reshape(np.array(model.predict(X_test, verbose=0)), (2, 7, 1)))\n",
        "#yhat.columns = ['predictions']\n",
        "\n",
        "\n",
        "\n",
        "\n",
        "#Stacked\n",
        "# # fit model\n",
        "# model.fit(X, y, epochs=200, verbose=0)\n",
        "# # demonstrate prediction\n",
        "# x_input = array([70, 80, 90])\n",
        "# x_input = x_input.reshape((1, n_steps, n_features))\n",
        "# yhat = model.predict(x_input, verbose=0)\n",
        "# print(yhat)\n",
        "\n",
        "\n",
        "#CNN\n",
        "# ## fit model\n",
        "# model.fit(X, y, epochs=500, verbose=0)\n",
        "# # demonstrate prediction\n",
        "# x_input = array([60, 70, 80, 90])\n",
        "# x_input = x_input.reshape((1, n_seq, n_steps, n_features))\n",
        "# yhat = model.predict(x_input, verbose=0)\n",
        "# print(yhat)\n",
        "\n",
        "#Multistep\n",
        "# # fit model\n",
        "# model.fit(X, y, epochs=50, verbose=0)\n",
        "# # demonstrate prediction\n",
        "# x_input = array([70, 80, 90])\n",
        "# x_input = x_input.reshape((1, n_steps_in, n_features))\n",
        "# yhat = model.predict(x_input, verbose=0)\n",
        "# print(yhat)\n",
        "\n",
        "#mio\n",
        "# # Create the predictions data frame\n",
        "# yhat = pd.DataFrame(np.reshape(np.array(model.predict(X_test, verbose=0)), (7,1)))\n",
        "\n",
        "# yhat.columns = ['predictions']"
      ],
      "execution_count": 28,
      "outputs": []
    },
    {
      "cell_type": "code",
      "metadata": {
        "id": "uq2EDWS2OixJ"
      },
      "source": [
        "yhat_CNN_LSTM = pd.DataFrame(yhat_CNN_LSTM)"
      ],
      "execution_count": 41,
      "outputs": []
    },
    {
      "cell_type": "code",
      "metadata": {
        "id": "r97lkwyp-r5K",
        "outputId": "8a9cef8f-ad27-48fa-8d89-84d3596836d7",
        "colab": {
          "base_uri": "https://localhost:8080/",
          "height": 467
        }
      },
      "source": [
        "yhat_CNN_LSTM = yhat_CNN_LSTM.T\n",
        "yhat_CNN_LSTM.columns = ['predictions']"
      ],
      "execution_count": 42,
      "outputs": [
        {
          "output_type": "execute_result",
          "data": {
            "text/html": [
              "<div>\n",
              "<style scoped>\n",
              "    .dataframe tbody tr th:only-of-type {\n",
              "        vertical-align: middle;\n",
              "    }\n",
              "\n",
              "    .dataframe tbody tr th {\n",
              "        vertical-align: top;\n",
              "    }\n",
              "\n",
              "    .dataframe thead th {\n",
              "        text-align: right;\n",
              "    }\n",
              "</style>\n",
              "<table border=\"1\" class=\"dataframe\">\n",
              "  <thead>\n",
              "    <tr style=\"text-align: right;\">\n",
              "      <th></th>\n",
              "      <th>predictions</th>\n",
              "    </tr>\n",
              "  </thead>\n",
              "  <tbody>\n",
              "    <tr>\n",
              "      <th>0</th>\n",
              "      <td>9119.376953</td>\n",
              "    </tr>\n",
              "    <tr>\n",
              "      <th>1</th>\n",
              "      <td>9134.636719</td>\n",
              "    </tr>\n",
              "    <tr>\n",
              "      <th>2</th>\n",
              "      <td>9137.584961</td>\n",
              "    </tr>\n",
              "    <tr>\n",
              "      <th>3</th>\n",
              "      <td>9151.991211</td>\n",
              "    </tr>\n",
              "    <tr>\n",
              "      <th>4</th>\n",
              "      <td>9087.424805</td>\n",
              "    </tr>\n",
              "    <tr>\n",
              "      <th>5</th>\n",
              "      <td>9141.284180</td>\n",
              "    </tr>\n",
              "    <tr>\n",
              "      <th>6</th>\n",
              "      <td>9103.019531</td>\n",
              "    </tr>\n",
              "    <tr>\n",
              "      <th>7</th>\n",
              "      <td>9101.950195</td>\n",
              "    </tr>\n",
              "    <tr>\n",
              "      <th>8</th>\n",
              "      <td>9089.622070</td>\n",
              "    </tr>\n",
              "    <tr>\n",
              "      <th>9</th>\n",
              "      <td>9060.884766</td>\n",
              "    </tr>\n",
              "    <tr>\n",
              "      <th>10</th>\n",
              "      <td>9059.872070</td>\n",
              "    </tr>\n",
              "    <tr>\n",
              "      <th>11</th>\n",
              "      <td>9058.664062</td>\n",
              "    </tr>\n",
              "    <tr>\n",
              "      <th>12</th>\n",
              "      <td>9039.592773</td>\n",
              "    </tr>\n",
              "    <tr>\n",
              "      <th>13</th>\n",
              "      <td>9050.279297</td>\n",
              "    </tr>\n",
              "  </tbody>\n",
              "</table>\n",
              "</div>"
            ],
            "text/plain": [
              "    predictions\n",
              "0   9119.376953\n",
              "1   9134.636719\n",
              "2   9137.584961\n",
              "3   9151.991211\n",
              "4   9087.424805\n",
              "5   9141.284180\n",
              "6   9103.019531\n",
              "7   9101.950195\n",
              "8   9089.622070\n",
              "9   9060.884766\n",
              "10  9059.872070\n",
              "11  9058.664062\n",
              "12  9039.592773\n",
              "13  9050.279297"
            ]
          },
          "metadata": {
            "tags": []
          },
          "execution_count": 42
        }
      ]
    },
    {
      "cell_type": "code",
      "metadata": {
        "id": "Wgp4faXYqyQr"
      },
      "source": [
        "# Create the test set data frame\n",
        "y_test = pd.DataFrame(np.reshape(np.array(y_test), (14,1)))\n",
        "\n",
        "y_test.columns = ['real']"
      ],
      "execution_count": 43,
      "outputs": []
    },
    {
      "cell_type": "code",
      "metadata": {
        "id": "Pad0__2BqyQv",
        "outputId": "4df01352-9dbf-4a5e-a1e8-944208d579af",
        "colab": {
          "base_uri": "https://localhost:8080/",
          "height": 594
        }
      },
      "source": [
        "# Plot the predictions against the truth\n",
        "\n",
        "plt.plot(yhat_CNN_LSTM.index, yhat_CNN_LSTM.predictions, label='Predicted')\n",
        "plt.plot(y_test.index, y_test.real,label='Test Value')\n",
        "plt.legend()\n",
        "plt.show()"
      ],
      "execution_count": 44,
      "outputs": [
        {
          "output_type": "display_data",
          "data": {
            "image/png": "[encoded data removed]",
            "text/plain": [
              "<Figure size 1440x720 with 1 Axes>"
            ]
          },
          "metadata": {
            "tags": []
          }
        }
      ]
    },
    {
      "cell_type": "code",
      "metadata": {
        "id": "qbqc0fFzqyQx",
        "outputId": "75548ad7-e460-4a23-9336-44ffe6a481ff",
        "colab": {
          "base_uri": "https://localhost:8080/",
          "height": 34
        }
      },
      "source": [
        "def rmse(predictions, targets):\n",
        "    return np.sqrt(((predictions - targets) ** 2).mean())\n",
        "\n",
        "rmse_val = rmse(yhat_CNN_LSTM.predictions, y_test.real)\n",
        "\n",
        "rmse_val"
      ],
      "execution_count": 45,
      "outputs": [
        {
          "output_type": "execute_result",
          "data": {
            "text/plain": [
              "206.19254640594195"
            ]
          },
          "metadata": {
            "tags": []
          },
          "execution_count": 45
        }
      ]
    },
    {
      "cell_type": "markdown",
      "metadata": {
        "id": "Fnp_cql-r2io"
      },
      "source": [
        "# Model Comparisson"
      ]
    },
    {
      "cell_type": "code",
      "metadata": {
        "id": "gJbkQWMkr5Du",
        "outputId": "f95bb3af-22d9-450e-8635-5cb690f12cbc",
        "colab": {
          "base_uri": "https://localhost:8080/",
          "height": 594
        }
      },
      "source": [
        "plt.plot(yhat_stacked.index, yhat_stacked.predictions, label='stacked')\n",
        "plt.plot(yhat_ED.index, yhat_ED.predictions, label='ED')\n",
        "plt.plot(yhat_CNN_LSTM.index, yhat_CNN_LSTM.predictions, label='CNN_LSTM')\n",
        "plt.plot(y_test.index, y_test.real,label='Test Value')\n",
        "plt.legend()\n",
        "plt.show()"
      ],
      "execution_count": 46,
      "outputs": [
        {
          "output_type": "display_data",
          "data": {
            "image/png": "[encoded data removed]",
            "text/plain": [
              "<Figure size 1440x720 with 1 Axes>"
            ]
          },
          "metadata": {
            "tags": []
          }
        }
      ]
    },
    {
      "cell_type": "markdown",
      "metadata": {
        "id": "6p29uPSEC18Q"
      },
      "source": [
        "# Multistep (printing rmse) DONALD"
      ]
    },
    {
      "cell_type": "markdown",
      "metadata": {
        "id": "8uabf3DSvkBy"
      },
      "source": [
        "https://machinelearningmastery.com/how-to-develop-lstm-models-for-multi-step-time-series-forecasting-of-household-power-consumption/"
      ]
    },
    {
      "cell_type": "markdown",
      "metadata": {
        "id": "69SY5fUoD4oG"
      },
      "source": [
        "## Evaluation Metric"
      ]
    },
    {
      "cell_type": "code",
      "metadata": {
        "id": "1WpPrRnrDFOT"
      },
      "source": [
        "from sklearn.metrics import mean_squared_error\n",
        "from math import sqrt\n",
        "\n",
        "def evaluate_forecasts(actual, predicted):\n",
        "\tscores = list()\n",
        "\t# calculate an RMSE score for each day\n",
        "\tfor i in range(actual.shape[1]):\n",
        "\t\t# calculate mse\n",
        "\t\tmse = mean_squared_error(actual[:, i], predicted[:, i])\n",
        "\t\t# calculate rmse\n",
        "\t\trmse = sqrt(mse)\n",
        "\t\t# store\n",
        "\t\tscores.append(rmse)\n",
        "\t# calculate overall RMSE\n",
        "\ts = 0\n",
        "\tfor row in range(actual.shape[0]):\n",
        "\t\tfor col in range(actual.shape[1]):\n",
        "\t\t\ts += (actual[row, col] - predicted[row, col])**2\n",
        "\tscore = sqrt(s / (actual.shape[0] * actual.shape[1]))\n",
        "\treturn score, scores"
      ],
      "execution_count": null,
      "outputs": []
    },
    {
      "cell_type": "markdown",
      "metadata": {
        "id": "_zNt2M0MEEJK"
      },
      "source": [
        "## Train and Test Sets "
      ]
    },
    {
      "cell_type": "code",
      "metadata": {
        "id": "tLZZ9yHwMh0Z",
        "outputId": "8d243f63-35de-4278-b0a6-efd5d1296082",
        "colab": {
          "base_uri": "https://localhost:8080/",
          "height": 406
        }
      },
      "source": [
        "# First Day in the data (2017-05-19) FIRST SUNDAY IN DATA SET 2017-05-21 \n",
        "# Last day in the data (2020-08-04) LAST SATURDAY IN DATA SET 2020-08-01\n",
        "data = daily_data[2:1171] #Subset for exact weeks \n",
        "data.index = np.arange(len(data)) #restart index in 0\n",
        "data"
      ],
      "execution_count": null,
      "outputs": [
        {
          "output_type": "execute_result",
          "data": {
            "text/html": [
              "<div>\n",
              "<style scoped>\n",
              "    .dataframe tbody tr th:only-of-type {\n",
              "        vertical-align: middle;\n",
              "    }\n",
              "\n",
              "    .dataframe tbody tr th {\n",
              "        vertical-align: top;\n",
              "    }\n",
              "\n",
              "    .dataframe thead th {\n",
              "        text-align: right;\n",
              "    }\n",
              "</style>\n",
              "<table border=\"1\" class=\"dataframe\">\n",
              "  <thead>\n",
              "    <tr style=\"text-align: right;\">\n",
              "      <th></th>\n",
              "      <th>time</th>\n",
              "      <th>BTC_open</th>\n",
              "      <th>BTC_close</th>\n",
              "      <th>BTC_vol</th>\n",
              "      <th>ETHER_open</th>\n",
              "      <th>ETHER_close</th>\n",
              "      <th>ETHER_vol</th>\n",
              "      <th>XRP_open</th>\n",
              "      <th>XRP_close</th>\n",
              "      <th>XRP_vol</th>\n",
              "    </tr>\n",
              "  </thead>\n",
              "  <tbody>\n",
              "    <tr>\n",
              "      <th>0</th>\n",
              "      <td>2017-05-21 00:00:00+00:00</td>\n",
              "      <td>2059.300000</td>\n",
              "      <td>2026.600000</td>\n",
              "      <td>17221.878675</td>\n",
              "      <td>123.490000</td>\n",
              "      <td>146.140000</td>\n",
              "      <td>220184.308469</td>\n",
              "      <td>0.34700</td>\n",
              "      <td>0.32700</td>\n",
              "      <td>2.597807e+06</td>\n",
              "    </tr>\n",
              "    <tr>\n",
              "      <th>1</th>\n",
              "      <td>2017-05-22 00:00:00+00:00</td>\n",
              "      <td>2027.000000</td>\n",
              "      <td>2087.300000</td>\n",
              "      <td>57231.824243</td>\n",
              "      <td>146.140000</td>\n",
              "      <td>154.920000</td>\n",
              "      <td>473706.454399</td>\n",
              "      <td>0.32700</td>\n",
              "      <td>0.29717</td>\n",
              "      <td>6.474949e+06</td>\n",
              "    </tr>\n",
              "    <tr>\n",
              "      <th>2</th>\n",
              "      <td>2017-05-23 00:00:00+00:00</td>\n",
              "      <td>2087.300000</td>\n",
              "      <td>2249.600000</td>\n",
              "      <td>22521.559138</td>\n",
              "      <td>155.160000</td>\n",
              "      <td>168.240000</td>\n",
              "      <td>144988.858583</td>\n",
              "      <td>0.29912</td>\n",
              "      <td>0.32158</td>\n",
              "      <td>3.255225e+06</td>\n",
              "    </tr>\n",
              "    <tr>\n",
              "      <th>3</th>\n",
              "      <td>2017-05-24 00:00:00+00:00</td>\n",
              "      <td>2249.200000</td>\n",
              "      <td>2395.500000</td>\n",
              "      <td>29620.827843</td>\n",
              "      <td>168.250000</td>\n",
              "      <td>183.880000</td>\n",
              "      <td>184596.677902</td>\n",
              "      <td>0.32000</td>\n",
              "      <td>0.28860</td>\n",
              "      <td>4.288168e+06</td>\n",
              "    </tr>\n",
              "    <tr>\n",
              "      <th>4</th>\n",
              "      <td>2017-05-25 00:00:00+00:00</td>\n",
              "      <td>2395.500000</td>\n",
              "      <td>2268.100000</td>\n",
              "      <td>55075.881722</td>\n",
              "      <td>183.880000</td>\n",
              "      <td>168.710000</td>\n",
              "      <td>246730.476672</td>\n",
              "      <td>0.28860</td>\n",
              "      <td>0.23820</td>\n",
              "      <td>8.004758e+06</td>\n",
              "    </tr>\n",
              "    <tr>\n",
              "      <th>...</th>\n",
              "      <td>...</td>\n",
              "      <td>...</td>\n",
              "      <td>...</td>\n",
              "      <td>...</td>\n",
              "      <td>...</td>\n",
              "      <td>...</td>\n",
              "      <td>...</td>\n",
              "      <td>...</td>\n",
              "      <td>...</td>\n",
              "      <td>...</td>\n",
              "    </tr>\n",
              "    <tr>\n",
              "      <th>1164</th>\n",
              "      <td>2020-07-28 00:00:00+00:00</td>\n",
              "      <td>11044.322158</td>\n",
              "      <td>10932.000000</td>\n",
              "      <td>9878.589053</td>\n",
              "      <td>322.400000</td>\n",
              "      <td>317.510000</td>\n",
              "      <td>123463.829069</td>\n",
              "      <td>0.22470</td>\n",
              "      <td>0.23070</td>\n",
              "      <td>2.474899e+07</td>\n",
              "    </tr>\n",
              "    <tr>\n",
              "      <th>1165</th>\n",
              "      <td>2020-07-29 00:00:00+00:00</td>\n",
              "      <td>10931.558415</td>\n",
              "      <td>11117.000000</td>\n",
              "      <td>8822.499030</td>\n",
              "      <td>317.460000</td>\n",
              "      <td>318.460000</td>\n",
              "      <td>118426.367772</td>\n",
              "      <td>0.23085</td>\n",
              "      <td>0.24370</td>\n",
              "      <td>2.929134e+07</td>\n",
              "    </tr>\n",
              "    <tr>\n",
              "      <th>1166</th>\n",
              "      <td>2020-07-30 00:00:00+00:00</td>\n",
              "      <td>11117.395121</td>\n",
              "      <td>11123.000000</td>\n",
              "      <td>4250.910082</td>\n",
              "      <td>318.460000</td>\n",
              "      <td>335.428724</td>\n",
              "      <td>89569.975403</td>\n",
              "      <td>0.24375</td>\n",
              "      <td>0.24462</td>\n",
              "      <td>1.810977e+07</td>\n",
              "    </tr>\n",
              "    <tr>\n",
              "      <th>1167</th>\n",
              "      <td>2020-07-31 00:00:00+00:00</td>\n",
              "      <td>11122.785171</td>\n",
              "      <td>11350.000000</td>\n",
              "      <td>5830.145883</td>\n",
              "      <td>335.360000</td>\n",
              "      <td>346.820000</td>\n",
              "      <td>145813.101733</td>\n",
              "      <td>0.24461</td>\n",
              "      <td>0.25983</td>\n",
              "      <td>1.913230e+07</td>\n",
              "    </tr>\n",
              "    <tr>\n",
              "      <th>1168</th>\n",
              "      <td>2020-08-01 00:00:00+00:00</td>\n",
              "      <td>11350.000000</td>\n",
              "      <td>11804.744013</td>\n",
              "      <td>10574.542594</td>\n",
              "      <td>346.814955</td>\n",
              "      <td>387.150000</td>\n",
              "      <td>214176.492612</td>\n",
              "      <td>0.25970</td>\n",
              "      <td>0.29103</td>\n",
              "      <td>5.774864e+07</td>\n",
              "    </tr>\n",
              "  </tbody>\n",
              "</table>\n",
              "<p>1169 rows × 10 columns</p>\n",
              "</div>"
            ],
            "text/plain": [
              "                           time      BTC_open  ...  XRP_close       XRP_vol\n",
              "0     2017-05-21 00:00:00+00:00   2059.300000  ...    0.32700  2.597807e+06\n",
              "1     2017-05-22 00:00:00+00:00   2027.000000  ...    0.29717  6.474949e+06\n",
              "2     2017-05-23 00:00:00+00:00   2087.300000  ...    0.32158  3.255225e+06\n",
              "3     2017-05-24 00:00:00+00:00   2249.200000  ...    0.28860  4.288168e+06\n",
              "4     2017-05-25 00:00:00+00:00   2395.500000  ...    0.23820  8.004758e+06\n",
              "...                         ...           ...  ...        ...           ...\n",
              "1164  2020-07-28 00:00:00+00:00  11044.322158  ...    0.23070  2.474899e+07\n",
              "1165  2020-07-29 00:00:00+00:00  10931.558415  ...    0.24370  2.929134e+07\n",
              "1166  2020-07-30 00:00:00+00:00  11117.395121  ...    0.24462  1.810977e+07\n",
              "1167  2020-07-31 00:00:00+00:00  11122.785171  ...    0.25983  1.913230e+07\n",
              "1168  2020-08-01 00:00:00+00:00  11350.000000  ...    0.29103  5.774864e+07\n",
              "\n",
              "[1169 rows x 10 columns]"
            ]
          },
          "metadata": {
            "tags": []
          },
          "execution_count": 4
        }
      ]
    },
    {
      "cell_type": "code",
      "metadata": {
        "id": "JJDpWDm_EGdW",
        "outputId": "8563fd41-e99f-44fa-f240-bbbe8821ddef",
        "colab": {
          "base_uri": "https://localhost:8080/"
        }
      },
      "source": [
        "# We want to split the data in week from sunday to saturday \n",
        "# First Day in the data (2017-05-19) FIRST SUNDAY IN DATA SET 2017-05-21 \n",
        "# Last day in the data (2020-08-04) LAST SATURDAY IN DATA SET 2020-08-01\n",
        "len(data)"
      ],
      "execution_count": null,
      "outputs": [
        {
          "output_type": "execute_result",
          "data": {
            "text/plain": [
              "1169"
            ]
          },
          "metadata": {
            "tags": []
          },
          "execution_count": 5
        }
      ]
    },
    {
      "cell_type": "code",
      "metadata": {
        "id": "_xMKl7n3FlBF"
      },
      "source": [
        "from numpy import split\n",
        "from numpy import array\n",
        "\n",
        "#We want 6 month for testing \n",
        "\n",
        "# split a univariate dataset into train/test sets\n",
        "def split_dataset(data):\n",
        "  # split into standard weeks\n",
        "  train, test = data[1:-167], data[-168:]  \n",
        "  #train, test = data[:-165], data[-166:] \n",
        "\t# restructure into windows of weekly data\n",
        "  train = array(np.split(train, len(train)/7))\n",
        "  test  = array(np.split(test , len(test)/7))\n",
        "  return train, test"
      ],
      "execution_count": null,
      "outputs": []
    },
    {
      "cell_type": "code",
      "metadata": {
        "id": "rL0DSeEIGfTP",
        "outputId": "6bf418c4-24d8-491e-ae13-8a5b61174db8",
        "colab": {
          "base_uri": "https://localhost:8080/"
        }
      },
      "source": [
        "train, test = split_dataset(data.values)\n",
        "\n",
        "# validate train data\n",
        "print(train.shape)\n",
        "print(train[0, 0, 0], train[-1, -1, 0])\n",
        "# validate test\n",
        "print(test.shape)\n",
        "print(test[0, 0, 0], test[-1, -1, 0])\n",
        "\n",
        "#train 143 weeks ... test 24weeks \n",
        "# [samples, timesteps, features]"
      ],
      "execution_count": null,
      "outputs": [
        {
          "output_type": "stream",
          "text": [
            "(143, 7, 10)\n",
            "2017-05-22 00:00:00+00:00 2020-02-16 00:00:00+00:00\n",
            "(24, 7, 10)\n",
            "2020-02-16 00:00:00+00:00 2020-08-01 00:00:00+00:00\n"
          ],
          "name": "stdout"
        }
      ]
    },
    {
      "cell_type": "markdown",
      "metadata": {
        "id": "-sMvBIQAQ-KO"
      },
      "source": [
        "## WALK- FORWWARD VALIDATION"
      ]
    },
    {
      "cell_type": "markdown",
      "metadata": {
        "id": "Vual5cp7RUSg"
      },
      "source": [
        "This is where a model is required to make a one week prediction, then the actual data for that week is made available to the model so that it can be used as the basis for making a prediction on the subsequent week. This is both realistic for how the model may be used in practice and beneficial to the models allowing them to make use of the best available data."
      ]
    },
    {
      "cell_type": "code",
      "metadata": {
        "id": "IhQLnu-VQ5cQ"
      },
      "source": [
        "\n",
        "# evaluate a single model\n",
        "def evaluate_model(train, test, n_input):\n",
        "\t# fit model\n",
        "\tmodel = build_model(train, n_input)\n",
        "\t# history is a list of weekly data\n",
        "\thistory = [x for x in train]\n",
        "\t# walk-forward validation over each week\n",
        "\tpredictions = list()\n",
        "\tfor i in range(len(test)):\n",
        "\t\t# predict the week\n",
        "\t\tyhat_sequence = forecast(model, history, n_input)\n",
        "\t\t# store the predictions\n",
        "\t\tpredictions.append(yhat_sequence)\n",
        "\t\t# get real observation and add to history for predicting the next week\n",
        "\t\thistory.append(test[i, :])\n",
        "\t# evaluate predictions days for each week\n",
        "\tpredictions = array(predictions)\n",
        "\tscore, scores = evaluate_forecasts(test[:, :, 0], predictions)\n",
        "\treturn score, scores"
      ],
      "execution_count": null,
      "outputs": []
    },
    {
      "cell_type": "code",
      "metadata": {
        "id": "I8kv52_NRjJI"
      },
      "source": [
        "# summarize scores\n",
        "def summarize_scores(name, score, scores):\n",
        "\ts_scores = ', '.join(['%.1f' % s for s in scores])\n",
        "\tprint('%s: [%.3f] %s' % (name, score, s_scores))"
      ],
      "execution_count": null,
      "outputs": []
    },
    {
      "cell_type": "markdown",
      "metadata": {
        "id": "UDNewqQ4Rn46"
      },
      "source": [
        "## Univariate Multi_Step Forecasting"
      ]
    },
    {
      "cell_type": "code",
      "metadata": {
        "id": "91POr-4VRnQp",
        "outputId": "52472f89-3195-4419-fcc5-90ac6946609b",
        "colab": {
          "base_uri": "https://localhost:8080/"
        }
      },
      "source": [
        "data = data [[\"BTC_close\"]] #Subset for Bitcoin\n",
        "\n",
        "#New Split \n",
        "train, test = split_dataset(data.values)\n",
        "\n",
        "# validate train data\n",
        "print(train.shape)\n",
        "print(train[0, 0, 0], train[-1, -1, 0])\n",
        "# validate test\n",
        "print(test.shape)\n",
        "print(test[0, 0, 0], test[-1, -1, 0])\n",
        "\n",
        "#train 143 weeks ... test 24weeks \n",
        "# [samples, timesteps, features]"
      ],
      "execution_count": null,
      "outputs": [
        {
          "output_type": "stream",
          "text": [
            "(143, 7, 1)\n",
            "2087.3 9926.8\n",
            "(24, 7, 1)\n",
            "9926.8 11804.7440126\n"
          ],
          "name": "stdout"
        }
      ]
    },
    {
      "cell_type": "code",
      "metadata": {
        "id": "ivjRXERgUWno"
      },
      "source": [
        "#A way to create a lot more training data is to change the problem during training to predict the next seven days given the prior seven days, regardless of the standard week.\n",
        "#takes a list of weeks (history) and the number of time steps to use as inputs and outputs and returns the data in the overlapping moving window format.\n",
        "\n",
        "def to_supervised(train, n_input, n_out=7):\n",
        "\t# flatten data\n",
        "\tdata = train.reshape((train.shape[0]*train.shape[1], train.shape[2])) #flatten data \n",
        "\tX, y = list(), list()\n",
        "\tin_start = 0\n",
        "\t# step over the entire history one time step at a time\n",
        "\tfor _ in range(len(data)):\n",
        "\t\t# define the end of the input sequence\n",
        "\t\tin_end = in_start + n_input\n",
        "\t\tout_end = in_end + n_out\n",
        "\t\t# ensure we have enough data for this instance\n",
        "\t\tif out_end <= len(data):\n",
        "\t\t\tx_input = data[in_start:in_end, 0]\n",
        "\t\t\tx_input = x_input.reshape((len(x_input), 1))\n",
        "\t\t\tX.append(x_input)\n",
        "\t\t\ty.append(data[in_end:out_end, 0])\n",
        "\t\t# move along one time step\n",
        "\t\tin_start += 1\n",
        "\treturn array(X), array(y)"
      ],
      "execution_count": null,
      "outputs": []
    },
    {
      "cell_type": "markdown",
      "metadata": {
        "id": "mBixyEXIUwnw"
      },
      "source": [
        "## LSTM Model"
      ]
    },
    {
      "cell_type": "code",
      "metadata": {
        "id": "fkjE6cl-UvU-"
      },
      "source": [
        "from keras.models import Sequential\n",
        "from keras.layers import Dense\n",
        "from keras.layers import Flatten\n",
        "from keras.layers import LSTM\n",
        "\n",
        "\n",
        "# train the model\n",
        "def build_model(train, n_input):\n",
        "\t# prepare data\n",
        "\ttrain_x, train_y = to_supervised(train, n_input)\n",
        "\t# define parameters\n",
        "\tverbose, epochs, batch_size = 0, 70, 16\n",
        "\tn_timesteps, n_features, n_outputs = train_x.shape[1], train_x.shape[2], train_y.shape[1]\n",
        "\t# define model\n",
        "\tmodel = Sequential()\n",
        "\tmodel.add(LSTM(200, activation='relu', input_shape=(n_timesteps, n_features)))\n",
        "\tmodel.add(Dense(100, activation='relu'))\n",
        "\tmodel.add(Dense(n_outputs))\n",
        "\tmodel.compile(loss='mse', optimizer='adam')\n",
        "\t# fit network\n",
        "\tmodel.fit(train_x, train_y, epochs=epochs, batch_size=batch_size, verbose=verbose)\n",
        "\treturn model"
      ],
      "execution_count": null,
      "outputs": []
    },
    {
      "cell_type": "markdown",
      "metadata": {
        "id": "mlF0TjMgXTbb"
      },
      "source": [
        "## Prepare data to forecast"
      ]
    },
    {
      "cell_type": "code",
      "metadata": {
        "id": "pwe6bjoDWEl5"
      },
      "source": [
        "#tranform the data (flattens)\n",
        "#Function takes as arguments the model fit on the training dataset, the history of data observed so far, and the number of input time steps expected by the model.\n",
        "\n",
        "# make a forecast\n",
        "def forecast(model, history, n_input):\n",
        "\t# flatten data\n",
        "\tdata = array(history)\n",
        "\tdata = data.reshape((data.shape[0]*data.shape[1], data.shape[2])) #flattens \n",
        "\t# retrieve last observations for input data\n",
        "\tinput_x = data[-n_input:, 0]  \n",
        "\t# reshape into [1, n_input, 1]\n",
        "\tinput_x = input_x.reshape((1, len(input_x), 1))\n",
        "\t# forecast the next week\n",
        "\tyhat = model.predict(input_x, verbose=0)\n",
        "\t# we only want the vector forecast\n",
        "\tyhat = yhat[0]\n",
        "\treturn yhat"
      ],
      "execution_count": null,
      "outputs": []
    },
    {
      "cell_type": "code",
      "metadata": {
        "id": "wBYTJXneYfpJ"
      },
      "source": [
        "# evaluate model and get scores\n",
        "n_input = 7\n",
        "#n_input = 14 for 14 days prior days \n",
        "score, scores = evaluate_model(train, test, n_input)"
      ],
      "execution_count": null,
      "outputs": []
    },
    {
      "cell_type": "code",
      "metadata": {
        "id": "bEc1oB7tXip6",
        "outputId": "0cce8e16-7f96-4df8-abfa-0f0b0da53f39",
        "colab": {
          "base_uri": "https://localhost:8080/",
          "height": 282
        }
      },
      "source": [
        "from matplotlib import pyplot\n",
        "\n",
        "# summarize scores\n",
        "summarize_scores('lstm', score, scores)\n",
        "# plot scores\n",
        "days = ['sun', 'mon', 'tue', 'wed', 'thr', 'fri', 'sat'] #I THINK IT IS ACTUALLY STARTING IN MONDAY____ SEE TRAIN PARTITIONING\n",
        "pyplot.plot(days, scores, marker='o', label='lstm')\n",
        "pyplot.show() #A plot of the daily RMSE is also created."
      ],
      "execution_count": null,
      "outputs": [
        {
          "output_type": "stream",
          "text": [
            "lstm: [837.033] 640.6, 613.9, 582.2, 634.8, 1089.5, 1016.8, 1074.4\n"
          ],
          "name": "stdout"
        },
        {
          "output_type": "display_data",
          "data": {
            "image/png": "[encoded data removed]",
            "text/plain": [
              "<Figure size 432x288 with 1 Axes>"
            ]
          },
          "metadata": {
            "tags": [],
            "needs_background": "light"
          }
        }
      ]
    },
    {
      "cell_type": "markdown",
      "metadata": {
        "id": "2X3IXGJycK5_"
      },
      "source": [
        "Running the example fits and evaluates the model, printing the overall RMSE across all seven days, and the per-day RMSE for each lead time.\n",
        "\n"
      ]
    },
    {
      "cell_type": "markdown",
      "metadata": {
        "id": "Sq299OsjrrJ1"
      },
      "source": [
        "## Retreive predictions (DT)\n"
      ]
    },
    {
      "cell_type": "code",
      "metadata": {
        "id": "3GPwfW_BpgaU"
      },
      "source": [
        "#code to retrarive the predictions \n",
        "n_input = 7\n",
        "model_p = build_model(train, n_input)\n",
        "history_p = [x for x in train]"
      ],
      "execution_count": null,
      "outputs": []
    },
    {
      "cell_type": "code",
      "metadata": {
        "id": "2G8bGYXSpWBU"
      },
      "source": [
        "predicciones = forecast(model_p,history_p, n_input  )"
      ],
      "execution_count": null,
      "outputs": []
    },
    {
      "cell_type": "code",
      "metadata": {
        "id": "31HMEP_Iq7Xd",
        "outputId": "74945bf5-404e-4dab-f279-d6150688f23d",
        "colab": {
          "base_uri": "https://localhost:8080/"
        }
      },
      "source": [
        "predicciones"
      ],
      "execution_count": null,
      "outputs": [
        {
          "output_type": "execute_result",
          "data": {
            "text/plain": [
              "array([9720.044 , 9595.529 , 9684.449 , 9652.378 , 9539.775 , 9574.243 ,\n",
              "       9467.8955], dtype=float32)"
            ]
          },
          "metadata": {
            "tags": []
          },
          "execution_count": 107
        }
      ]
    },
    {
      "cell_type": "code",
      "metadata": {
        "id": "7mNiUSpQvo3k"
      },
      "source": [
        "# predictions = list()\n",
        "\n",
        "# for i in range(len(test)):\n",
        "#   # predict the week\n",
        "#   yhat_sequence = forecast(model_p, history_p, n_input)\n",
        "#   # store the predictions\n",
        "#   predictions.append(yhat_sequence)\n",
        "#   # get real observation and add to history for predicting the next week\n",
        "#   history.append(test[i, :])\n",
        "#   # evaluate predictions days for each week\n",
        "# predictions = array(predictions)"
      ],
      "execution_count": null,
      "outputs": []
    },
    {
      "cell_type": "code",
      "metadata": {
        "id": "BWy5aSK_wOw8"
      },
      "source": [
        "#pred = predictions[1]"
      ],
      "execution_count": null,
      "outputs": []
    },
    {
      "cell_type": "code",
      "metadata": {
        "id": "L46qFAsSscaq",
        "outputId": "9ada3f30-c62f-4fda-f799-b8f8c4e7300d",
        "colab": {
          "base_uri": "https://localhost:8080/"
        }
      },
      "source": [
        "#real = test[:, :, 0]\n",
        "real = test[-1, :, 0] #select the last week (-1)\n",
        "real"
      ],
      "execution_count": null,
      "outputs": [
        {
          "output_type": "execute_result",
          "data": {
            "text/plain": [
              "array([ 9948.4       , 11043.96287976, 10932.        , 11117.        ,\n",
              "       11123.        , 11350.        , 11804.7440126 ])"
            ]
          },
          "metadata": {
            "tags": []
          },
          "execution_count": 108
        }
      ]
    },
    {
      "cell_type": "code",
      "metadata": {
        "id": "zJI0tKWJt9H8",
        "outputId": "1d1f9436-d78b-4cfc-df4a-cb3fc701b18d",
        "colab": {
          "base_uri": "https://localhost:8080/",
          "height": 594
        }
      },
      "source": [
        "# Train progress\n",
        "plt.plot(predicciones, label='pred')\n",
        "plt.plot(real ,label='True Value')\n",
        "plt.legend()\n",
        "plt.show()"
      ],
      "execution_count": null,
      "outputs": [
        {
          "output_type": "display_data",
          "data": {
            "image/png": "[encoded data removed]",
            "text/plain": [
              "<Figure size 1440x720 with 1 Axes>"
            ]
          },
          "metadata": {
            "tags": []
          }
        }
      ]
    },
    {
      "cell_type": "code",
      "metadata": {
        "id": "2PRPrckWzxsT"
      },
      "source": [
        "# evaluate a single model\n",
        "def true_pred(train, test, n_input):\n",
        "\t# fit model\n",
        "\tmodel = build_model(train, n_input)\n",
        "\t# history is a list of weekly data\n",
        "\thistory = [x for x in train]\n",
        "\t# walk-forward validation over each week\n",
        "\tpredictions = list()\n",
        "\tfor i in range(len(test)):\n",
        "\t\t# predict the week\n",
        "\t\tyhat_sequence = forecast(model, history, n_input)\n",
        "\t\t# store the predictions\n",
        "\t\tpredictions.append(yhat_sequence)\n",
        "\t\t# get real observation and add to history for predicting the next week\n",
        "\t\thistory.append(test[i, :])\n",
        "\t# evaluate predictions days for each week\n",
        "\tpredictions = array(predictions)\n",
        "\tactual_p, pred_p = (test[:, :, 0], predictions)\n",
        "\treturn actual_p, predictions"
      ],
      "execution_count": null,
      "outputs": []
    },
    {
      "cell_type": "code",
      "metadata": {
        "id": "n4iTiiMi5lVu"
      },
      "source": [
        "equis = true_pred(train, test, n_input)"
      ],
      "execution_count": null,
      "outputs": []
    },
    {
      "cell_type": "code",
      "metadata": {
        "id": "VFMK2m4u56qR",
        "outputId": "9b9161ca-7433-441a-be2f-51be76983c8b",
        "colab": {
          "base_uri": "https://localhost:8080/"
        }
      },
      "source": [
        "equis"
      ],
      "execution_count": null,
      "outputs": [
        {
          "output_type": "execute_result",
          "data": {
            "text/plain": [
              "(array([[ 9926.8       ,  9708.        , 10184.        ,  9592.3       ,\n",
              "          9608.1       ,  9692.9       ,  9663.        ],\n",
              "        [ 9985.        ,  9674.1       ,  9327.5       ,  8813.2       ,\n",
              "          8825.6       ,  8728.        ,  8561.5       ],\n",
              "        [ 8556.7       ,  8938.4       ,  8791.1       ,  8788.6       ,\n",
              "          9090.8       ,  9180.6       ,  8919.        ],\n",
              "        [ 8073.99728926,  7967.3       ,  7913.8       ,  7969.6       ,\n",
              "          4873.1       ,  5625.7       ,  5218.2       ],\n",
              "        [ 5383.2       ,  5058.5       ,  5339.1       ,  5416.2       ,\n",
              "          6173.6       ,  6206.5       ,  6201.7       ],\n",
              "        [ 5820.09678077,  6491.5       ,  6762.09308369,  6688.2       ,\n",
              "          6751.9       ,  6370.        ,  6250.        ],\n",
              "        [ 5892.7       ,  6407.6       ,  6427.68278638,  6675.        ,\n",
              "          6810.7       ,  6740.8       ,  6880.1       ],\n",
              "        [ 6780.2       ,  7340.2       ,  7202.99832851,  7367.        ,\n",
              "          7293.7       ,  6875.5       ,  6884.5       ],\n",
              "        [ 6919.        ,  6848.7       ,  6874.        ,  6633.7227701 ,\n",
              "          7114.7       ,  7045.8       ,  7268.8       ],\n",
              "        [ 7133.3       ,  6837.7       ,  6850.        ,  7133.        ,\n",
              "          7498.9       ,  7508.3       ,  7538.5       ],\n",
              "        [ 7697.9       ,  7777.6033919 ,  7750.7       ,  8778.7       ,\n",
              "          8631.81715292,  8822.8       ,  8982.3       ],\n",
              "        [ 8899.8       ,  8865.8       ,  9020.1       ,  9152.47099343,\n",
              "          9979.6       ,  9792.4       ,  9537.8       ],\n",
              "        [ 8722.2       ,  8555.1       ,  8811.4       ,  9312.        ,\n",
              "          9790.95415762,  9311.2       ,  9387.9520897 ],\n",
              "        [ 9668.2       ,  9714.82516261,  9769.4       ,  9502.        ,\n",
              "          9057.1       ,  9162.4       ,  9175.6       ],\n",
              "        [ 8710.1       ,  8902.        ,  8845.5       ,  9210.29871677,\n",
              "          9589.3       ,  9426.1       ,  9706.4       ],\n",
              "        [ 9451.1       , 10225.97600025,  9526.96808253,  9676.6       ,\n",
              "          9790.700076  ,  9620.4       ,  9668.4       ],\n",
              "        [ 9747.1       ,  9784.4       ,  9771.9       ,  9898.8       ,\n",
              "          9272.2       ,  9468.3       ,  9480.87818464],\n",
              "        [ 9344.75144536,  9435.        ,  9534.401723  ,  9473.4       ,\n",
              "          9400.        ,  9315.5       ,  9371.3       ],\n",
              "        [ 9301.        ,  9697.72816498,  9635.2       ,  9312.1       ,\n",
              "          9257.03466936,  9173.1       ,  9015.3       ],\n",
              "        [ 9125.366022  ,  9194.43385096,  9150.7       ,  9239.9       ,\n",
              "          9100.        ,  9073.2       ,  9147.7       ],\n",
              "        [ 9084.28473392,  9361.1       ,  9267.51494932,  9447.        ,\n",
              "          9248.86416894,  9304.6       ,  9246.3       ],\n",
              "        [ 9315.8       ,  9252.        ,  9263.4       ,  9210.1       ,\n",
              "          9149.6       ,  9167.32861157,  9189.1       ],\n",
              "        [ 9231.2       ,  9179.2       ,  9402.        ,  9557.7       ,\n",
              "          9615.        ,  9559.1       ,  9714.89020414],\n",
              "        [ 9948.4       , 11043.96287976, 10932.        , 11117.        ,\n",
              "         11123.        , 11350.        , 11804.7440126 ]]),\n",
              " array([[9568.923 , 9452.351 , 9585.423 , 9547.008 , 9482.353 , 9473.184 ,\n",
              "         9431.624 ],\n",
              "        [9334.508 , 9215.526 , 9343.786 , 9297.885 , 9243.039 , 9235.716 ,\n",
              "         9200.167 ],\n",
              "        [8262.863 , 8158.881 , 8296.231 , 8251.885 , 8188.4653, 8192.226 ,\n",
              "         8153.2046],\n",
              "        [8622.484 , 8520.172 , 8637.083 , 8597.284 , 8542.159 , 8533.937 ,\n",
              "         8500.553 ],\n",
              "        [5263.9307, 5257.1514, 5362.8857, 5362.2734, 5254.106 , 5282.434 ,\n",
              "         5175.6265],\n",
              "        [5980.832 , 5906.7236, 5965.511 , 5928.2476, 5913.108 , 5895.4414,\n",
              "         5884.974 ],\n",
              "        [6020.6855, 5952.3877, 6036.58  , 6023.279 , 5978.9014, 5971.8125,\n",
              "         5940.3076],\n",
              "        [6654.5435, 6571.5254, 6647.8384, 6616.945 , 6586.706 , 6568.578 ,\n",
              "         6552.963 ],\n",
              "        [6633.6357, 6555.081 , 6650.579 , 6627.878 , 6578.5054, 6572.2144,\n",
              "         6540.7764],\n",
              "        [7021.5596, 6927.922 , 7014.3154, 6970.2534, 6941.5044, 6926.4976,\n",
              "         6913.017 ],\n",
              "        [7284.581 , 7194.351 , 7279.1865, 7234.8193, 7203.686 , 7191.0435,\n",
              "         7171.271 ],\n",
              "        [8690.091 , 8580.004 , 8675.439 , 8627.571 , 8596.965 , 8568.108 ,\n",
              "         8555.237 ],\n",
              "        [9215.397 , 9107.81  , 9221.182 , 9176.215 , 9126.99  , 9114.057 ,\n",
              "         9080.4375],\n",
              "        [9068.794 , 8960.928 , 9065.667 , 9022.106 , 8977.979 , 8961.156 ,\n",
              "         8930.066 ],\n",
              "        [8863.539 , 8750.107 , 8880.283 , 8837.163 , 8778.971 , 8773.453 ,\n",
              "         8738.932 ],\n",
              "        [9383.467 , 9264.041 , 9370.976 , 9317.577 , 9278.921 , 9255.826 ,\n",
              "         9235.709 ],\n",
              "        [9335.298 , 9218.655 , 9352.409 , 9306.36  , 9244.866 , 9233.095 ,\n",
              "         9202.218 ],\n",
              "        [9171.278 , 9055.366 , 9184.434 , 9138.345 , 9081.688 , 9073.755 ,\n",
              "         9040.129 ],\n",
              "        [9051.094 , 8937.431 , 9060.123 , 9016.056 , 8962.167 , 8952.191 ,\n",
              "         8919.107 ],\n",
              "        [8702.05  , 8595.897 , 8726.661 , 8690.8545, 8626.393 , 8622.983 ,\n",
              "         8583.559 ],\n",
              "        [8839.776 , 8728.264 , 8847.852 , 8802.072 , 8750.8545, 8740.528 ,\n",
              "         8710.321 ],\n",
              "        [8942.065 , 8832.509 , 8954.142 , 8911.773 , 8856.34  , 8846.992 ,\n",
              "         8813.697 ],\n",
              "        [8880.587 , 8768.459 , 8890.296 , 8843.265 , 8791.188 , 8782.858 ,\n",
              "         8751.491 ],\n",
              "        [9392.972 , 9274.136 , 9389.064 , 9339.1045, 9293.812 , 9277.564 ,\n",
              "         9249.791 ]], dtype=float32))"
            ]
          },
          "metadata": {
            "tags": []
          },
          "execution_count": 100
        }
      ]
    },
    {
      "cell_type": "code",
      "metadata": {
        "id": "Npk1vKZU6Ihl"
      },
      "source": [
        ""
      ],
      "execution_count": null,
      "outputs": []
    },
    {
      "cell_type": "markdown",
      "metadata": {
        "id": "EZi1vtgUcqa0"
      },
      "source": [
        "## Encoder - Decoder \n"
      ]
    }
  ]
}